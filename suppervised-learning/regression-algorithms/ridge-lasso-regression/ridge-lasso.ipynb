{
 "cells": [
  {
   "cell_type": "markdown",
   "metadata": {},
   "source": [
    "\n",
    "## Ridge and Lasso Regression: Upgrading Regression Methods\n",
    "#### *by Kyoosik Kim*\n",
    "------"
   ]
  },
  {
   "cell_type": "markdown",
   "metadata": {},
   "source": [
    "### Introduction\n",
    "The [first version of regression](https://en.wikipedia.org/wiki/Francis_Galton) was invented more than a hundred years ago. While the core concept of the early version remains almost the same, the old method was susceptible to overfitting and [multicollinearity](https://en.wikipedia.org/wiki/Multicollinearity) as more predictors are added onto an equation. Therefore, some other methods were invented to put a check on a variance from growing too much and to find the optimal point which is often times called \"sweet spot\" where total error is the minimum. The [Ridge Regression](https://en.wikipedia.org/wiki/Tikhonov_regularization) and [Lasso Regression](https://en.wikipedia.org/wiki/Lasso_(statistics)) are well known methods to the job called [Regularization](https://en.wikipedia.org/wiki/Regularization_(mathematics)) or [Regression Shrinkage Method](https://en.wikipedia.org/wiki/Shrinkage_(statistics)).\n",
    "\n",
    "<table>\n",
    "    <tr>\n",
    "        <td><img src=\"http://scott.fortmann-roe.com/docs/docs/BiasVariance/biasvariance.png\" style=\"width: 500px;\"></td>\n",
    "        <td><img src=\"https://s3-ap-south-1.amazonaws.com/av-blog-media/wp-content/uploads/2017/06/05153246/bias-variance.png\" style=\"width: 328px;\"></td>\n",
    "    </tr>\n",
    "</table>\n",
    "\n",
    "------\n"
   ]
  },
  {
   "cell_type": "markdown",
   "metadata": {},
   "source": [
    "### Brief Review of Linear Regression\n",
    "The mathematical expression of linear regression is as follows. \n",
    "\n",
    "$$Y=\\beta_0+\\beta_1X_1+\\beta_2X_1+\\dots+\\beta_pX_{p-1}+\\epsilon$$\n",
    "\n",
    "This can then be expressed in matrix version.\n",
    "\n",
    "$$Y=XB+e\\ \\ where\\ B\\ is\\ \\beta_0,\\ \\beta_1,\\ ...\\ \\beta_p$$\n",
    "  \n",
    "What we want to know is coefficients, the betas, and these can be estimated with Ordinary Least Squares [(OLS)](https://en.wikipedia.org/wiki/Ordinary_least_squares). Since we just expressed the equation in matrix, we can use the matrix property to find the betas.\n",
    "\n",
    "$$\\hat{B}=(X^TX)^{-1}X^TY\\ \\ where\\ \\hat{B}\\ is\\ the\\ estimate$$\n",
    "\n",
    "------"
   ]
  },
  {
   "cell_type": "markdown",
   "metadata": {},
   "source": [
    "### Math for Ridge Regression\n",
    "OLS method basically finds the $\\beta$'s to minimize Residual Sum of Squares [(RSS)](https://en.wikipedia.org/wiki/Residual_sum_of_squares).\n",
    "\n",
    "$$RSS=\\sum_{i=1}^{n}(y_i-\\hat{y})^2=\\sum_{i=1}^{n}(y_i-\\sum_{j=1}^{p}x_{ij}\\beta_j)^2$$\n",
    "\n",
    "What Ridge Regression does is penalize RSS by adding another term and for searching the minimization.\n",
    "\n",
    "$$RSS\\ with\\ Penalty=\\sum_{i=1}^{n}(y_i-\\sum_{j=1}^{p}x_{ij}\\beta_j)^2+\\lambda\\sum_{j=1}^{p}\\beta_j^2\\ where\\ \\lambda\\ is\\ a\\ constant$$\n",
    "\n",
    "Then, our goal becomes to minimize the term. If you are not familiar with the rightmost term, refer to this article about [Euclidean Norm](https://en.wikipedia.org/wiki/Norm_(mathematics))\n",
    "\n",
    "$$\\min\\limits_{\\beta\\in R^p}\\{{\\frac{1}{N}\\parallel Y-X\\beta\\parallel_2^2+\\lambda\\parallel\\beta\\parallel_2^2}\\}\\ where\\ N\\ is\\ number\\ of\\ cases$$\n",
    "\n",
    "We can find the $\\beta$'s by utilizing properties of matrix.\n",
    "\n",
    "$$\\hat{\\beta}_{ridge}=(X^TX+\\lambda I_p)^{-1}X^TY$$\n",
    "\n",
    "We can iterate different $\\lambda$ values to find the best fit for a model.\n",
    "\n",
    "------"
   ]
  },
  {
   "cell_type": "markdown",
   "metadata": {},
   "source": [
    "### Math for Lasso Regression\n",
    "As with Ridge Regression, OLS method is modified for Lasso Regression. In fact, only difference is the penalty term.\n",
    "\n",
    "$$RSS\\ with\\ Penalty=\\sum_{i=1}^{n}(y_i-\\sum_{j=1}^{p}x_{ij}\\beta_j)^2+\\lambda\\sum_{j=1}^{p}|\\beta_j|$$\n",
    "\n",
    "The penalty is now sum of absolute $\\beta$'s, instead of sum of squares. The term for these penalties are *L1* (lasso) and *L2* (ridge). As with Ridge Regression, we want to minimize the following term.\n",
    "\n",
    "$$\\min\\limits_{\\beta\\in R^p}\\{{\\frac{1}{N}\\parallel Y-X\\beta\\parallel_2^2+\\lambda\\parallel\\beta\\parallel_1}\\}\\ where\\ N\\ is\\ number\\ of\\ cases$$\n",
    "\n",
    "The below is the matrix equation to find the $\\beta$'s.\n",
    "\n",
    "$$\\hat{\\beta}_{lasso}=\\hat{\\beta}_j^{OLS}\\ max\\ (0, 1-\\frac{n\\lambda}{|\\hat{\\beta}_j^{OLS}|})\\ \\ where\\ \\ \\hat{\\beta}_j^{OLS}=(X^TX)^{-1}X^TY$$\n",
    "\n",
    "Notice there is a function *max* in the equation that can result in zero. This is a distinctive difference from Ridge Regression which no $\\beta$ can be zero. Due to this property, Lasso Regression can select variables by increasing lambda to see which variables are still not zero.\n",
    "\n",
    "------"
   ]
  },
  {
   "cell_type": "markdown",
   "metadata": {},
   "source": [
    "### Geometric Interpretation\n",
    "Any coefficients can never be zero in Ridge Regression, but can be in Lasso Regression. This would be understood in an easier way with a geometric figure. Let's say there is a model with two variables and we want to know their coefficients; $\\beta_1$ and $\\beta_2$. They can be mapped as follows.\n",
    "![Lasso vs. Ridge](https://jamesmccammondotcom.files.wordpress.com/2014/04/screen-shot-2014-04-19-at-11-19-00-pm.png?w=700)\n",
    "The contours in red represent sets of RSS and the center is the coefficients found by OLS. The square and the circle are L1 penalty and L2 penalty, respectively. Recall that the constraints for each regression to understand the shapes of penalty.\n",
    "\n",
    "$$Lasso\\ constraint:\\ |\\beta_1|+|\\beta_2|=1\\\\ Ridge\\ constraint:\\ \\beta_1^2+\\beta_2^2=1$$\n",
    "\n",
    "The points the shapes meet the edge contours are where shrinkage methods estimate the coefficients. As seen on the maps, the estimates by shrinkage methods are found less than those of OLS because the shapes play a role of penalizing. Depending on sizes of the shapes and contours, these points would locate differently. This is a trade-off between the penalty term and RSS.\n",
    "\n",
    "Again, the left represents Lasso Regression and the right represents Ridge Regression. Moving the penalty terms up and down, the contours would be pushed up and down, changing the estimates where they contact. The difference between the two regression are here that the estimates can be zero for some variable in Lasso, but can't be in Ridge Regression. The Lasso on the map shows this property, having $\\beta=0$.\n",
    "\n",
    "------"
   ]
  },
  {
   "cell_type": "markdown",
   "metadata": {},
   "source": [
    "### Usage of Ridge/Lasso Regression\n",
    "Recall that the two of them were devised to upgrade the traditional linear regression. Therefore, they are capable of what linear regression is capable of. Just as linear regression can be used for regression and also clasification, they can do the same job mostly more effectively. However, Ridge Regression is not capable of *variable selection* as explained with the equation. On the contrary, Lasso Regression can select variables by manipulating the lambda which can make some $\\beta$(s) equal to zero.\n",
    "\n",
    "* They can be used both for regression and classification problems\n",
    "* Ridge Regression is good at handling overfitting\n",
    "* Lasso Regression can be used for feature selection\n",
    "\n",
    "<br>\n",
    "<table>\n",
    "    <tr>\n",
    "        <td><img src=\"https://ipython-books.github.io/pages/chapter08_ml/01_scikit_files/01_scikit_24_1.png\" style=\"width: 400px;\"/></td>\n",
    "        <td><img src=\"https://ipython-books.github.io/pages/chapter08_ml/01_scikit_files/01_scikit_28_1.png\", style=\"width: 400px\";/></td>\n",
    "    </tr>\n",
    "</table>\n",
    "\n",
    "------"
   ]
  },
  {
   "cell_type": "markdown",
   "metadata": {},
   "source": [
    "### Demonstration with Sample Data\n",
    "We will implement Ridge Regression and Lasso Regression to the widely known data set *Boston House Price* to look into the properties of the regression methods. We should standardize the scale for the assumption of Ridge Regression and Lasso Regression."
   ]
  },
  {
   "cell_type": "code",
   "execution_count": 1,
   "metadata": {
    "ExecuteTime": {
     "start_time": "2023-04-15T03:46:18.026836Z",
     "end_time": "2023-04-15T03:46:26.487504Z"
    }
   },
   "outputs": [],
   "source": [
    "import numpy as np\n",
    "import pandas as pd\n",
    "import matplotlib.pyplot as plt\n",
    "import matplotlib.ticker as ticker\n",
    "\n",
    "from sklearn.datasets import fetch_california_housing\n",
    "from sklearn import preprocessing\n",
    "from sklearn.model_selection import train_test_split, GridSearchCV\n",
    "from sklearn.metrics import r2_score, mean_squared_error\n",
    "from sklearn.linear_model import LinearRegression, Ridge, Lasso"
   ]
  },
  {
   "cell_type": "code",
   "execution_count": 2,
   "metadata": {
    "scrolled": false,
    "ExecuteTime": {
     "start_time": "2023-04-15T03:46:28.559237Z",
     "end_time": "2023-04-15T03:46:28.611388Z"
    }
   },
   "outputs": [
    {
     "data": {
      "text/plain": "   MedInc  HouseAge  AveRooms  AveBedrms  Population  AveOccup  Latitude  \\\n0  8.3252      41.0  6.984127   1.023810       322.0  2.555556     37.88   \n1  8.3014      21.0  6.238137   0.971880      2401.0  2.109842     37.86   \n2  7.2574      52.0  8.288136   1.073446       496.0  2.802260     37.85   \n3  5.6431      52.0  5.817352   1.073059       558.0  2.547945     37.85   \n4  3.8462      52.0  6.281853   1.081081       565.0  2.181467     37.85   \n5  4.0368      52.0  4.761658   1.103627       413.0  2.139896     37.85   \n6  3.6591      52.0  4.931907   0.951362      1094.0  2.128405     37.84   \n7  3.1200      52.0  4.797527   1.061824      1157.0  1.788253     37.84   \n8  2.0804      42.0  4.294118   1.117647      1206.0  2.026891     37.84   \n9  3.6912      52.0  4.970588   0.990196      1551.0  2.172269     37.84   \n\n   Longitude  PRICE  \n0    -122.23  4.526  \n1    -122.22  3.585  \n2    -122.24  3.521  \n3    -122.25  3.413  \n4    -122.25  3.422  \n5    -122.25  2.697  \n6    -122.25  2.992  \n7    -122.25  2.414  \n8    -122.26  2.267  \n9    -122.25  2.611  ",
      "text/html": "<div>\n<style scoped>\n    .dataframe tbody tr th:only-of-type {\n        vertical-align: middle;\n    }\n\n    .dataframe tbody tr th {\n        vertical-align: top;\n    }\n\n    .dataframe thead th {\n        text-align: right;\n    }\n</style>\n<table border=\"1\" class=\"dataframe\">\n  <thead>\n    <tr style=\"text-align: right;\">\n      <th></th>\n      <th>MedInc</th>\n      <th>HouseAge</th>\n      <th>AveRooms</th>\n      <th>AveBedrms</th>\n      <th>Population</th>\n      <th>AveOccup</th>\n      <th>Latitude</th>\n      <th>Longitude</th>\n      <th>PRICE</th>\n    </tr>\n  </thead>\n  <tbody>\n    <tr>\n      <th>0</th>\n      <td>8.3252</td>\n      <td>41.0</td>\n      <td>6.984127</td>\n      <td>1.023810</td>\n      <td>322.0</td>\n      <td>2.555556</td>\n      <td>37.88</td>\n      <td>-122.23</td>\n      <td>4.526</td>\n    </tr>\n    <tr>\n      <th>1</th>\n      <td>8.3014</td>\n      <td>21.0</td>\n      <td>6.238137</td>\n      <td>0.971880</td>\n      <td>2401.0</td>\n      <td>2.109842</td>\n      <td>37.86</td>\n      <td>-122.22</td>\n      <td>3.585</td>\n    </tr>\n    <tr>\n      <th>2</th>\n      <td>7.2574</td>\n      <td>52.0</td>\n      <td>8.288136</td>\n      <td>1.073446</td>\n      <td>496.0</td>\n      <td>2.802260</td>\n      <td>37.85</td>\n      <td>-122.24</td>\n      <td>3.521</td>\n    </tr>\n    <tr>\n      <th>3</th>\n      <td>5.6431</td>\n      <td>52.0</td>\n      <td>5.817352</td>\n      <td>1.073059</td>\n      <td>558.0</td>\n      <td>2.547945</td>\n      <td>37.85</td>\n      <td>-122.25</td>\n      <td>3.413</td>\n    </tr>\n    <tr>\n      <th>4</th>\n      <td>3.8462</td>\n      <td>52.0</td>\n      <td>6.281853</td>\n      <td>1.081081</td>\n      <td>565.0</td>\n      <td>2.181467</td>\n      <td>37.85</td>\n      <td>-122.25</td>\n      <td>3.422</td>\n    </tr>\n    <tr>\n      <th>5</th>\n      <td>4.0368</td>\n      <td>52.0</td>\n      <td>4.761658</td>\n      <td>1.103627</td>\n      <td>413.0</td>\n      <td>2.139896</td>\n      <td>37.85</td>\n      <td>-122.25</td>\n      <td>2.697</td>\n    </tr>\n    <tr>\n      <th>6</th>\n      <td>3.6591</td>\n      <td>52.0</td>\n      <td>4.931907</td>\n      <td>0.951362</td>\n      <td>1094.0</td>\n      <td>2.128405</td>\n      <td>37.84</td>\n      <td>-122.25</td>\n      <td>2.992</td>\n    </tr>\n    <tr>\n      <th>7</th>\n      <td>3.1200</td>\n      <td>52.0</td>\n      <td>4.797527</td>\n      <td>1.061824</td>\n      <td>1157.0</td>\n      <td>1.788253</td>\n      <td>37.84</td>\n      <td>-122.25</td>\n      <td>2.414</td>\n    </tr>\n    <tr>\n      <th>8</th>\n      <td>2.0804</td>\n      <td>42.0</td>\n      <td>4.294118</td>\n      <td>1.117647</td>\n      <td>1206.0</td>\n      <td>2.026891</td>\n      <td>37.84</td>\n      <td>-122.26</td>\n      <td>2.267</td>\n    </tr>\n    <tr>\n      <th>9</th>\n      <td>3.6912</td>\n      <td>52.0</td>\n      <td>4.970588</td>\n      <td>0.990196</td>\n      <td>1551.0</td>\n      <td>2.172269</td>\n      <td>37.84</td>\n      <td>-122.25</td>\n      <td>2.611</td>\n    </tr>\n  </tbody>\n</table>\n</div>"
     },
     "execution_count": 2,
     "metadata": {},
     "output_type": "execute_result"
    }
   ],
   "source": [
    "california_house_price = fetch_california_housing()\n",
    "df = pd.DataFrame(\n",
    "    california_house_price.data,\n",
    "    columns=california_house_price.feature_names,\n",
    ")\n",
    "df['PRICE'] = california_house_price.target\n",
    "df.head(10)"
   ]
  },
  {
   "cell_type": "code",
   "execution_count": 4,
   "outputs": [],
   "source": [
    "df.to_csv('../../../data/california_housing.csv', index=False)"
   ],
   "metadata": {
    "collapsed": false,
    "ExecuteTime": {
     "start_time": "2023-04-15T03:46:39.372403Z",
     "end_time": "2023-04-15T03:46:39.537838Z"
    }
   }
  },
  {
   "cell_type": "code",
   "execution_count": 10,
   "metadata": {},
   "outputs": [],
   "source": [
    "# standardize and train/test split\n",
    "california_house_price.data = preprocessing.scale(california_house_price.data)\n",
    "X_train, X_test, y_train, y_test = train_test_split(\n",
    "    california_house_price.data, california_house_price.target, test_size=0.3, random_state=10)"
   ]
  },
  {
   "cell_type": "markdown",
   "metadata": {},
   "source": [
    "------"
   ]
  },
  {
   "cell_type": "markdown",
   "metadata": {},
   "source": [
    "#### - Linear Regression with OLS Method"
   ]
  },
  {
   "cell_type": "code",
   "execution_count": 11,
   "metadata": {
    "scrolled": true
   },
   "outputs": [
    {
     "data": {
      "text/plain": "     variable  estimate\n0      MedInc  0.837657\n1    HouseAge  0.121767\n2    AveRooms -0.282765\n3   AveBedrms  0.359682\n4  Population  0.001481\n5    AveOccup -0.043425\n6    Latitude -0.923852\n7   Longitude -0.891802",
      "text/html": "<div>\n<style scoped>\n    .dataframe tbody tr th:only-of-type {\n        vertical-align: middle;\n    }\n\n    .dataframe tbody tr th {\n        vertical-align: top;\n    }\n\n    .dataframe thead th {\n        text-align: right;\n    }\n</style>\n<table border=\"1\" class=\"dataframe\">\n  <thead>\n    <tr style=\"text-align: right;\">\n      <th></th>\n      <th>variable</th>\n      <th>estimate</th>\n    </tr>\n  </thead>\n  <tbody>\n    <tr>\n      <th>0</th>\n      <td>MedInc</td>\n      <td>0.837657</td>\n    </tr>\n    <tr>\n      <th>1</th>\n      <td>HouseAge</td>\n      <td>0.121767</td>\n    </tr>\n    <tr>\n      <th>2</th>\n      <td>AveRooms</td>\n      <td>-0.282765</td>\n    </tr>\n    <tr>\n      <th>3</th>\n      <td>AveBedrms</td>\n      <td>0.359682</td>\n    </tr>\n    <tr>\n      <th>4</th>\n      <td>Population</td>\n      <td>0.001481</td>\n    </tr>\n    <tr>\n      <th>5</th>\n      <td>AveOccup</td>\n      <td>-0.043425</td>\n    </tr>\n    <tr>\n      <th>6</th>\n      <td>Latitude</td>\n      <td>-0.923852</td>\n    </tr>\n    <tr>\n      <th>7</th>\n      <td>Longitude</td>\n      <td>-0.891802</td>\n    </tr>\n  </tbody>\n</table>\n</div>"
     },
     "execution_count": 11,
     "metadata": {},
     "output_type": "execute_result"
    }
   ],
   "source": [
    "ols_reg = LinearRegression()\n",
    "ols_reg.fit(X_train, y_train)\n",
    "ols_pred = ols_reg.predict(X_test)\n",
    "\n",
    "pd.DataFrame({'variable': california_house_price.feature_names, 'estimate': ols_reg.coef_})"
   ]
  },
  {
   "cell_type": "markdown",
   "metadata": {},
   "source": [
    "For the sake of observing the shrinkage, we would want to choose a few variables to plot them with different lambda values. The below will be chosen.\n",
    "\n",
    "* RM / ZN / AGE / CRIM / TAX\n",
    "\n",
    "------"
   ]
  },
  {
   "cell_type": "markdown",
   "metadata": {},
   "source": [
    "#### - Ridge Regression"
   ]
  },
  {
   "cell_type": "code",
   "execution_count": 12,
   "metadata": {},
   "outputs": [
    {
     "data": {
      "text/plain": "['MedInc',\n 'HouseAge',\n 'AveRooms',\n 'AveBedrms',\n 'Population',\n 'AveOccup',\n 'Latitude',\n 'Longitude']"
     },
     "execution_count": 12,
     "metadata": {},
     "output_type": "execute_result"
    }
   ],
   "source": [
    "california_house_price.feature_names"
   ]
  },
  {
   "cell_type": "code",
   "execution_count": 20,
   "metadata": {},
   "outputs": [
    {
     "name": "stderr",
     "output_type": "stream",
     "text": [
      "<ipython-input-20-6dc26fbac827>:14: PerformanceWarning: DataFrame is highly fragmented.  This is usually the result of calling `frame.insert` many times, which has poor performance.  Consider joining all columns at once using pd.concat(axis=1) instead. To get a de-fragmented frame, use `newframe = frame.copy()`\n",
      "  ridge_df[var_name] = ridge_reg.coef_\n",
      "<ipython-input-20-6dc26fbac827>:14: PerformanceWarning: DataFrame is highly fragmented.  This is usually the result of calling `frame.insert` many times, which has poor performance.  Consider joining all columns at once using pd.concat(axis=1) instead. To get a de-fragmented frame, use `newframe = frame.copy()`\n",
      "  ridge_df[var_name] = ridge_reg.coef_\n",
      "<ipython-input-20-6dc26fbac827>:14: PerformanceWarning: DataFrame is highly fragmented.  This is usually the result of calling `frame.insert` many times, which has poor performance.  Consider joining all columns at once using pd.concat(axis=1) instead. To get a de-fragmented frame, use `newframe = frame.copy()`\n",
      "  ridge_df[var_name] = ridge_reg.coef_\n",
      "<ipython-input-20-6dc26fbac827>:14: PerformanceWarning: DataFrame is highly fragmented.  This is usually the result of calling `frame.insert` many times, which has poor performance.  Consider joining all columns at once using pd.concat(axis=1) instead. To get a de-fragmented frame, use `newframe = frame.copy()`\n",
      "  ridge_df[var_name] = ridge_reg.coef_\n",
      "<ipython-input-20-6dc26fbac827>:14: PerformanceWarning: DataFrame is highly fragmented.  This is usually the result of calling `frame.insert` many times, which has poor performance.  Consider joining all columns at once using pd.concat(axis=1) instead. To get a de-fragmented frame, use `newframe = frame.copy()`\n",
      "  ridge_df[var_name] = ridge_reg.coef_\n",
      "<ipython-input-20-6dc26fbac827>:14: PerformanceWarning: DataFrame is highly fragmented.  This is usually the result of calling `frame.insert` many times, which has poor performance.  Consider joining all columns at once using pd.concat(axis=1) instead. To get a de-fragmented frame, use `newframe = frame.copy()`\n",
      "  ridge_df[var_name] = ridge_reg.coef_\n",
      "<ipython-input-20-6dc26fbac827>:14: PerformanceWarning: DataFrame is highly fragmented.  This is usually the result of calling `frame.insert` many times, which has poor performance.  Consider joining all columns at once using pd.concat(axis=1) instead. To get a de-fragmented frame, use `newframe = frame.copy()`\n",
      "  ridge_df[var_name] = ridge_reg.coef_\n",
      "<ipython-input-20-6dc26fbac827>:14: PerformanceWarning: DataFrame is highly fragmented.  This is usually the result of calling `frame.insert` many times, which has poor performance.  Consider joining all columns at once using pd.concat(axis=1) instead. To get a de-fragmented frame, use `newframe = frame.copy()`\n",
      "  ridge_df[var_name] = ridge_reg.coef_\n",
      "<ipython-input-20-6dc26fbac827>:14: PerformanceWarning: DataFrame is highly fragmented.  This is usually the result of calling `frame.insert` many times, which has poor performance.  Consider joining all columns at once using pd.concat(axis=1) instead. To get a de-fragmented frame, use `newframe = frame.copy()`\n",
      "  ridge_df[var_name] = ridge_reg.coef_\n",
      "<ipython-input-20-6dc26fbac827>:14: PerformanceWarning: DataFrame is highly fragmented.  This is usually the result of calling `frame.insert` many times, which has poor performance.  Consider joining all columns at once using pd.concat(axis=1) instead. To get a de-fragmented frame, use `newframe = frame.copy()`\n",
      "  ridge_df[var_name] = ridge_reg.coef_\n",
      "<ipython-input-20-6dc26fbac827>:14: PerformanceWarning: DataFrame is highly fragmented.  This is usually the result of calling `frame.insert` many times, which has poor performance.  Consider joining all columns at once using pd.concat(axis=1) instead. To get a de-fragmented frame, use `newframe = frame.copy()`\n",
      "  ridge_df[var_name] = ridge_reg.coef_\n",
      "<ipython-input-20-6dc26fbac827>:14: PerformanceWarning: DataFrame is highly fragmented.  This is usually the result of calling `frame.insert` many times, which has poor performance.  Consider joining all columns at once using pd.concat(axis=1) instead. To get a de-fragmented frame, use `newframe = frame.copy()`\n",
      "  ridge_df[var_name] = ridge_reg.coef_\n",
      "<ipython-input-20-6dc26fbac827>:14: PerformanceWarning: DataFrame is highly fragmented.  This is usually the result of calling `frame.insert` many times, which has poor performance.  Consider joining all columns at once using pd.concat(axis=1) instead. To get a de-fragmented frame, use `newframe = frame.copy()`\n",
      "  ridge_df[var_name] = ridge_reg.coef_\n",
      "<ipython-input-20-6dc26fbac827>:14: PerformanceWarning: DataFrame is highly fragmented.  This is usually the result of calling `frame.insert` many times, which has poor performance.  Consider joining all columns at once using pd.concat(axis=1) instead. To get a de-fragmented frame, use `newframe = frame.copy()`\n",
      "  ridge_df[var_name] = ridge_reg.coef_\n",
      "<ipython-input-20-6dc26fbac827>:14: PerformanceWarning: DataFrame is highly fragmented.  This is usually the result of calling `frame.insert` many times, which has poor performance.  Consider joining all columns at once using pd.concat(axis=1) instead. To get a de-fragmented frame, use `newframe = frame.copy()`\n",
      "  ridge_df[var_name] = ridge_reg.coef_\n",
      "<ipython-input-20-6dc26fbac827>:14: PerformanceWarning: DataFrame is highly fragmented.  This is usually the result of calling `frame.insert` many times, which has poor performance.  Consider joining all columns at once using pd.concat(axis=1) instead. To get a de-fragmented frame, use `newframe = frame.copy()`\n",
      "  ridge_df[var_name] = ridge_reg.coef_\n",
      "<ipython-input-20-6dc26fbac827>:14: PerformanceWarning: DataFrame is highly fragmented.  This is usually the result of calling `frame.insert` many times, which has poor performance.  Consider joining all columns at once using pd.concat(axis=1) instead. To get a de-fragmented frame, use `newframe = frame.copy()`\n",
      "  ridge_df[var_name] = ridge_reg.coef_\n",
      "<ipython-input-20-6dc26fbac827>:14: PerformanceWarning: DataFrame is highly fragmented.  This is usually the result of calling `frame.insert` many times, which has poor performance.  Consider joining all columns at once using pd.concat(axis=1) instead. To get a de-fragmented frame, use `newframe = frame.copy()`\n",
      "  ridge_df[var_name] = ridge_reg.coef_\n",
      "<ipython-input-20-6dc26fbac827>:14: PerformanceWarning: DataFrame is highly fragmented.  This is usually the result of calling `frame.insert` many times, which has poor performance.  Consider joining all columns at once using pd.concat(axis=1) instead. To get a de-fragmented frame, use `newframe = frame.copy()`\n",
      "  ridge_df[var_name] = ridge_reg.coef_\n",
      "<ipython-input-20-6dc26fbac827>:14: PerformanceWarning: DataFrame is highly fragmented.  This is usually the result of calling `frame.insert` many times, which has poor performance.  Consider joining all columns at once using pd.concat(axis=1) instead. To get a de-fragmented frame, use `newframe = frame.copy()`\n",
      "  ridge_df[var_name] = ridge_reg.coef_\n",
      "<ipython-input-20-6dc26fbac827>:14: PerformanceWarning: DataFrame is highly fragmented.  This is usually the result of calling `frame.insert` many times, which has poor performance.  Consider joining all columns at once using pd.concat(axis=1) instead. To get a de-fragmented frame, use `newframe = frame.copy()`\n",
      "  ridge_df[var_name] = ridge_reg.coef_\n",
      "<ipython-input-20-6dc26fbac827>:14: PerformanceWarning: DataFrame is highly fragmented.  This is usually the result of calling `frame.insert` many times, which has poor performance.  Consider joining all columns at once using pd.concat(axis=1) instead. To get a de-fragmented frame, use `newframe = frame.copy()`\n",
      "  ridge_df[var_name] = ridge_reg.coef_\n",
      "<ipython-input-20-6dc26fbac827>:14: PerformanceWarning: DataFrame is highly fragmented.  This is usually the result of calling `frame.insert` many times, which has poor performance.  Consider joining all columns at once using pd.concat(axis=1) instead. To get a de-fragmented frame, use `newframe = frame.copy()`\n",
      "  ridge_df[var_name] = ridge_reg.coef_\n",
      "<ipython-input-20-6dc26fbac827>:14: PerformanceWarning: DataFrame is highly fragmented.  This is usually the result of calling `frame.insert` many times, which has poor performance.  Consider joining all columns at once using pd.concat(axis=1) instead. To get a de-fragmented frame, use `newframe = frame.copy()`\n",
      "  ridge_df[var_name] = ridge_reg.coef_\n",
      "<ipython-input-20-6dc26fbac827>:14: PerformanceWarning: DataFrame is highly fragmented.  This is usually the result of calling `frame.insert` many times, which has poor performance.  Consider joining all columns at once using pd.concat(axis=1) instead. To get a de-fragmented frame, use `newframe = frame.copy()`\n",
      "  ridge_df[var_name] = ridge_reg.coef_\n",
      "<ipython-input-20-6dc26fbac827>:14: PerformanceWarning: DataFrame is highly fragmented.  This is usually the result of calling `frame.insert` many times, which has poor performance.  Consider joining all columns at once using pd.concat(axis=1) instead. To get a de-fragmented frame, use `newframe = frame.copy()`\n",
      "  ridge_df[var_name] = ridge_reg.coef_\n",
      "<ipython-input-20-6dc26fbac827>:14: PerformanceWarning: DataFrame is highly fragmented.  This is usually the result of calling `frame.insert` many times, which has poor performance.  Consider joining all columns at once using pd.concat(axis=1) instead. To get a de-fragmented frame, use `newframe = frame.copy()`\n",
      "  ridge_df[var_name] = ridge_reg.coef_\n",
      "<ipython-input-20-6dc26fbac827>:14: PerformanceWarning: DataFrame is highly fragmented.  This is usually the result of calling `frame.insert` many times, which has poor performance.  Consider joining all columns at once using pd.concat(axis=1) instead. To get a de-fragmented frame, use `newframe = frame.copy()`\n",
      "  ridge_df[var_name] = ridge_reg.coef_\n",
      "<ipython-input-20-6dc26fbac827>:14: PerformanceWarning: DataFrame is highly fragmented.  This is usually the result of calling `frame.insert` many times, which has poor performance.  Consider joining all columns at once using pd.concat(axis=1) instead. To get a de-fragmented frame, use `newframe = frame.copy()`\n",
      "  ridge_df[var_name] = ridge_reg.coef_\n",
      "<ipython-input-20-6dc26fbac827>:14: PerformanceWarning: DataFrame is highly fragmented.  This is usually the result of calling `frame.insert` many times, which has poor performance.  Consider joining all columns at once using pd.concat(axis=1) instead. To get a de-fragmented frame, use `newframe = frame.copy()`\n",
      "  ridge_df[var_name] = ridge_reg.coef_\n",
      "<ipython-input-20-6dc26fbac827>:14: PerformanceWarning: DataFrame is highly fragmented.  This is usually the result of calling `frame.insert` many times, which has poor performance.  Consider joining all columns at once using pd.concat(axis=1) instead. To get a de-fragmented frame, use `newframe = frame.copy()`\n",
      "  ridge_df[var_name] = ridge_reg.coef_\n",
      "<ipython-input-20-6dc26fbac827>:14: PerformanceWarning: DataFrame is highly fragmented.  This is usually the result of calling `frame.insert` many times, which has poor performance.  Consider joining all columns at once using pd.concat(axis=1) instead. To get a de-fragmented frame, use `newframe = frame.copy()`\n",
      "  ridge_df[var_name] = ridge_reg.coef_\n",
      "<ipython-input-20-6dc26fbac827>:14: PerformanceWarning: DataFrame is highly fragmented.  This is usually the result of calling `frame.insert` many times, which has poor performance.  Consider joining all columns at once using pd.concat(axis=1) instead. To get a de-fragmented frame, use `newframe = frame.copy()`\n",
      "  ridge_df[var_name] = ridge_reg.coef_\n",
      "<ipython-input-20-6dc26fbac827>:14: PerformanceWarning: DataFrame is highly fragmented.  This is usually the result of calling `frame.insert` many times, which has poor performance.  Consider joining all columns at once using pd.concat(axis=1) instead. To get a de-fragmented frame, use `newframe = frame.copy()`\n",
      "  ridge_df[var_name] = ridge_reg.coef_\n",
      "<ipython-input-20-6dc26fbac827>:14: PerformanceWarning: DataFrame is highly fragmented.  This is usually the result of calling `frame.insert` many times, which has poor performance.  Consider joining all columns at once using pd.concat(axis=1) instead. To get a de-fragmented frame, use `newframe = frame.copy()`\n",
      "  ridge_df[var_name] = ridge_reg.coef_\n",
      "<ipython-input-20-6dc26fbac827>:14: PerformanceWarning: DataFrame is highly fragmented.  This is usually the result of calling `frame.insert` many times, which has poor performance.  Consider joining all columns at once using pd.concat(axis=1) instead. To get a de-fragmented frame, use `newframe = frame.copy()`\n",
      "  ridge_df[var_name] = ridge_reg.coef_\n",
      "<ipython-input-20-6dc26fbac827>:14: PerformanceWarning: DataFrame is highly fragmented.  This is usually the result of calling `frame.insert` many times, which has poor performance.  Consider joining all columns at once using pd.concat(axis=1) instead. To get a de-fragmented frame, use `newframe = frame.copy()`\n",
      "  ridge_df[var_name] = ridge_reg.coef_\n",
      "<ipython-input-20-6dc26fbac827>:14: PerformanceWarning: DataFrame is highly fragmented.  This is usually the result of calling `frame.insert` many times, which has poor performance.  Consider joining all columns at once using pd.concat(axis=1) instead. To get a de-fragmented frame, use `newframe = frame.copy()`\n",
      "  ridge_df[var_name] = ridge_reg.coef_\n",
      "<ipython-input-20-6dc26fbac827>:14: PerformanceWarning: DataFrame is highly fragmented.  This is usually the result of calling `frame.insert` many times, which has poor performance.  Consider joining all columns at once using pd.concat(axis=1) instead. To get a de-fragmented frame, use `newframe = frame.copy()`\n",
      "  ridge_df[var_name] = ridge_reg.coef_\n",
      "<ipython-input-20-6dc26fbac827>:14: PerformanceWarning: DataFrame is highly fragmented.  This is usually the result of calling `frame.insert` many times, which has poor performance.  Consider joining all columns at once using pd.concat(axis=1) instead. To get a de-fragmented frame, use `newframe = frame.copy()`\n",
      "  ridge_df[var_name] = ridge_reg.coef_\n",
      "<ipython-input-20-6dc26fbac827>:14: PerformanceWarning: DataFrame is highly fragmented.  This is usually the result of calling `frame.insert` many times, which has poor performance.  Consider joining all columns at once using pd.concat(axis=1) instead. To get a de-fragmented frame, use `newframe = frame.copy()`\n",
      "  ridge_df[var_name] = ridge_reg.coef_\n",
      "<ipython-input-20-6dc26fbac827>:14: PerformanceWarning: DataFrame is highly fragmented.  This is usually the result of calling `frame.insert` many times, which has poor performance.  Consider joining all columns at once using pd.concat(axis=1) instead. To get a de-fragmented frame, use `newframe = frame.copy()`\n",
      "  ridge_df[var_name] = ridge_reg.coef_\n",
      "<ipython-input-20-6dc26fbac827>:14: PerformanceWarning: DataFrame is highly fragmented.  This is usually the result of calling `frame.insert` many times, which has poor performance.  Consider joining all columns at once using pd.concat(axis=1) instead. To get a de-fragmented frame, use `newframe = frame.copy()`\n",
      "  ridge_df[var_name] = ridge_reg.coef_\n",
      "<ipython-input-20-6dc26fbac827>:14: PerformanceWarning: DataFrame is highly fragmented.  This is usually the result of calling `frame.insert` many times, which has poor performance.  Consider joining all columns at once using pd.concat(axis=1) instead. To get a de-fragmented frame, use `newframe = frame.copy()`\n",
      "  ridge_df[var_name] = ridge_reg.coef_\n",
      "<ipython-input-20-6dc26fbac827>:14: PerformanceWarning: DataFrame is highly fragmented.  This is usually the result of calling `frame.insert` many times, which has poor performance.  Consider joining all columns at once using pd.concat(axis=1) instead. To get a de-fragmented frame, use `newframe = frame.copy()`\n",
      "  ridge_df[var_name] = ridge_reg.coef_\n",
      "<ipython-input-20-6dc26fbac827>:14: PerformanceWarning: DataFrame is highly fragmented.  This is usually the result of calling `frame.insert` many times, which has poor performance.  Consider joining all columns at once using pd.concat(axis=1) instead. To get a de-fragmented frame, use `newframe = frame.copy()`\n",
      "  ridge_df[var_name] = ridge_reg.coef_\n",
      "<ipython-input-20-6dc26fbac827>:14: PerformanceWarning: DataFrame is highly fragmented.  This is usually the result of calling `frame.insert` many times, which has poor performance.  Consider joining all columns at once using pd.concat(axis=1) instead. To get a de-fragmented frame, use `newframe = frame.copy()`\n",
      "  ridge_df[var_name] = ridge_reg.coef_\n",
      "<ipython-input-20-6dc26fbac827>:14: PerformanceWarning: DataFrame is highly fragmented.  This is usually the result of calling `frame.insert` many times, which has poor performance.  Consider joining all columns at once using pd.concat(axis=1) instead. To get a de-fragmented frame, use `newframe = frame.copy()`\n",
      "  ridge_df[var_name] = ridge_reg.coef_\n",
      "<ipython-input-20-6dc26fbac827>:14: PerformanceWarning: DataFrame is highly fragmented.  This is usually the result of calling `frame.insert` many times, which has poor performance.  Consider joining all columns at once using pd.concat(axis=1) instead. To get a de-fragmented frame, use `newframe = frame.copy()`\n",
      "  ridge_df[var_name] = ridge_reg.coef_\n",
      "<ipython-input-20-6dc26fbac827>:14: PerformanceWarning: DataFrame is highly fragmented.  This is usually the result of calling `frame.insert` many times, which has poor performance.  Consider joining all columns at once using pd.concat(axis=1) instead. To get a de-fragmented frame, use `newframe = frame.copy()`\n",
      "  ridge_df[var_name] = ridge_reg.coef_\n",
      "<ipython-input-20-6dc26fbac827>:14: PerformanceWarning: DataFrame is highly fragmented.  This is usually the result of calling `frame.insert` many times, which has poor performance.  Consider joining all columns at once using pd.concat(axis=1) instead. To get a de-fragmented frame, use `newframe = frame.copy()`\n",
      "  ridge_df[var_name] = ridge_reg.coef_\n",
      "<ipython-input-20-6dc26fbac827>:14: PerformanceWarning: DataFrame is highly fragmented.  This is usually the result of calling `frame.insert` many times, which has poor performance.  Consider joining all columns at once using pd.concat(axis=1) instead. To get a de-fragmented frame, use `newframe = frame.copy()`\n",
      "  ridge_df[var_name] = ridge_reg.coef_\n",
      "<ipython-input-20-6dc26fbac827>:14: PerformanceWarning: DataFrame is highly fragmented.  This is usually the result of calling `frame.insert` many times, which has poor performance.  Consider joining all columns at once using pd.concat(axis=1) instead. To get a de-fragmented frame, use `newframe = frame.copy()`\n",
      "  ridge_df[var_name] = ridge_reg.coef_\n",
      "<ipython-input-20-6dc26fbac827>:14: PerformanceWarning: DataFrame is highly fragmented.  This is usually the result of calling `frame.insert` many times, which has poor performance.  Consider joining all columns at once using pd.concat(axis=1) instead. To get a de-fragmented frame, use `newframe = frame.copy()`\n",
      "  ridge_df[var_name] = ridge_reg.coef_\n",
      "<ipython-input-20-6dc26fbac827>:14: PerformanceWarning: DataFrame is highly fragmented.  This is usually the result of calling `frame.insert` many times, which has poor performance.  Consider joining all columns at once using pd.concat(axis=1) instead. To get a de-fragmented frame, use `newframe = frame.copy()`\n",
      "  ridge_df[var_name] = ridge_reg.coef_\n",
      "<ipython-input-20-6dc26fbac827>:14: PerformanceWarning: DataFrame is highly fragmented.  This is usually the result of calling `frame.insert` many times, which has poor performance.  Consider joining all columns at once using pd.concat(axis=1) instead. To get a de-fragmented frame, use `newframe = frame.copy()`\n",
      "  ridge_df[var_name] = ridge_reg.coef_\n",
      "<ipython-input-20-6dc26fbac827>:14: PerformanceWarning: DataFrame is highly fragmented.  This is usually the result of calling `frame.insert` many times, which has poor performance.  Consider joining all columns at once using pd.concat(axis=1) instead. To get a de-fragmented frame, use `newframe = frame.copy()`\n",
      "  ridge_df[var_name] = ridge_reg.coef_\n",
      "<ipython-input-20-6dc26fbac827>:14: PerformanceWarning: DataFrame is highly fragmented.  This is usually the result of calling `frame.insert` many times, which has poor performance.  Consider joining all columns at once using pd.concat(axis=1) instead. To get a de-fragmented frame, use `newframe = frame.copy()`\n",
      "  ridge_df[var_name] = ridge_reg.coef_\n",
      "<ipython-input-20-6dc26fbac827>:14: PerformanceWarning: DataFrame is highly fragmented.  This is usually the result of calling `frame.insert` many times, which has poor performance.  Consider joining all columns at once using pd.concat(axis=1) instead. To get a de-fragmented frame, use `newframe = frame.copy()`\n",
      "  ridge_df[var_name] = ridge_reg.coef_\n",
      "<ipython-input-20-6dc26fbac827>:14: PerformanceWarning: DataFrame is highly fragmented.  This is usually the result of calling `frame.insert` many times, which has poor performance.  Consider joining all columns at once using pd.concat(axis=1) instead. To get a de-fragmented frame, use `newframe = frame.copy()`\n",
      "  ridge_df[var_name] = ridge_reg.coef_\n",
      "<ipython-input-20-6dc26fbac827>:14: PerformanceWarning: DataFrame is highly fragmented.  This is usually the result of calling `frame.insert` many times, which has poor performance.  Consider joining all columns at once using pd.concat(axis=1) instead. To get a de-fragmented frame, use `newframe = frame.copy()`\n",
      "  ridge_df[var_name] = ridge_reg.coef_\n",
      "<ipython-input-20-6dc26fbac827>:14: PerformanceWarning: DataFrame is highly fragmented.  This is usually the result of calling `frame.insert` many times, which has poor performance.  Consider joining all columns at once using pd.concat(axis=1) instead. To get a de-fragmented frame, use `newframe = frame.copy()`\n",
      "  ridge_df[var_name] = ridge_reg.coef_\n",
      "<ipython-input-20-6dc26fbac827>:14: PerformanceWarning: DataFrame is highly fragmented.  This is usually the result of calling `frame.insert` many times, which has poor performance.  Consider joining all columns at once using pd.concat(axis=1) instead. To get a de-fragmented frame, use `newframe = frame.copy()`\n",
      "  ridge_df[var_name] = ridge_reg.coef_\n",
      "<ipython-input-20-6dc26fbac827>:14: PerformanceWarning: DataFrame is highly fragmented.  This is usually the result of calling `frame.insert` many times, which has poor performance.  Consider joining all columns at once using pd.concat(axis=1) instead. To get a de-fragmented frame, use `newframe = frame.copy()`\n",
      "  ridge_df[var_name] = ridge_reg.coef_\n",
      "<ipython-input-20-6dc26fbac827>:14: PerformanceWarning: DataFrame is highly fragmented.  This is usually the result of calling `frame.insert` many times, which has poor performance.  Consider joining all columns at once using pd.concat(axis=1) instead. To get a de-fragmented frame, use `newframe = frame.copy()`\n",
      "  ridge_df[var_name] = ridge_reg.coef_\n",
      "<ipython-input-20-6dc26fbac827>:14: PerformanceWarning: DataFrame is highly fragmented.  This is usually the result of calling `frame.insert` many times, which has poor performance.  Consider joining all columns at once using pd.concat(axis=1) instead. To get a de-fragmented frame, use `newframe = frame.copy()`\n",
      "  ridge_df[var_name] = ridge_reg.coef_\n",
      "<ipython-input-20-6dc26fbac827>:14: PerformanceWarning: DataFrame is highly fragmented.  This is usually the result of calling `frame.insert` many times, which has poor performance.  Consider joining all columns at once using pd.concat(axis=1) instead. To get a de-fragmented frame, use `newframe = frame.copy()`\n",
      "  ridge_df[var_name] = ridge_reg.coef_\n",
      "<ipython-input-20-6dc26fbac827>:14: PerformanceWarning: DataFrame is highly fragmented.  This is usually the result of calling `frame.insert` many times, which has poor performance.  Consider joining all columns at once using pd.concat(axis=1) instead. To get a de-fragmented frame, use `newframe = frame.copy()`\n",
      "  ridge_df[var_name] = ridge_reg.coef_\n",
      "<ipython-input-20-6dc26fbac827>:14: PerformanceWarning: DataFrame is highly fragmented.  This is usually the result of calling `frame.insert` many times, which has poor performance.  Consider joining all columns at once using pd.concat(axis=1) instead. To get a de-fragmented frame, use `newframe = frame.copy()`\n",
      "  ridge_df[var_name] = ridge_reg.coef_\n",
      "<ipython-input-20-6dc26fbac827>:14: PerformanceWarning: DataFrame is highly fragmented.  This is usually the result of calling `frame.insert` many times, which has poor performance.  Consider joining all columns at once using pd.concat(axis=1) instead. To get a de-fragmented frame, use `newframe = frame.copy()`\n",
      "  ridge_df[var_name] = ridge_reg.coef_\n",
      "<ipython-input-20-6dc26fbac827>:14: PerformanceWarning: DataFrame is highly fragmented.  This is usually the result of calling `frame.insert` many times, which has poor performance.  Consider joining all columns at once using pd.concat(axis=1) instead. To get a de-fragmented frame, use `newframe = frame.copy()`\n",
      "  ridge_df[var_name] = ridge_reg.coef_\n",
      "<ipython-input-20-6dc26fbac827>:14: PerformanceWarning: DataFrame is highly fragmented.  This is usually the result of calling `frame.insert` many times, which has poor performance.  Consider joining all columns at once using pd.concat(axis=1) instead. To get a de-fragmented frame, use `newframe = frame.copy()`\n",
      "  ridge_df[var_name] = ridge_reg.coef_\n",
      "<ipython-input-20-6dc26fbac827>:14: PerformanceWarning: DataFrame is highly fragmented.  This is usually the result of calling `frame.insert` many times, which has poor performance.  Consider joining all columns at once using pd.concat(axis=1) instead. To get a de-fragmented frame, use `newframe = frame.copy()`\n",
      "  ridge_df[var_name] = ridge_reg.coef_\n",
      "<ipython-input-20-6dc26fbac827>:14: PerformanceWarning: DataFrame is highly fragmented.  This is usually the result of calling `frame.insert` many times, which has poor performance.  Consider joining all columns at once using pd.concat(axis=1) instead. To get a de-fragmented frame, use `newframe = frame.copy()`\n",
      "  ridge_df[var_name] = ridge_reg.coef_\n",
      "<ipython-input-20-6dc26fbac827>:14: PerformanceWarning: DataFrame is highly fragmented.  This is usually the result of calling `frame.insert` many times, which has poor performance.  Consider joining all columns at once using pd.concat(axis=1) instead. To get a de-fragmented frame, use `newframe = frame.copy()`\n",
      "  ridge_df[var_name] = ridge_reg.coef_\n",
      "<ipython-input-20-6dc26fbac827>:14: PerformanceWarning: DataFrame is highly fragmented.  This is usually the result of calling `frame.insert` many times, which has poor performance.  Consider joining all columns at once using pd.concat(axis=1) instead. To get a de-fragmented frame, use `newframe = frame.copy()`\n",
      "  ridge_df[var_name] = ridge_reg.coef_\n",
      "<ipython-input-20-6dc26fbac827>:14: PerformanceWarning: DataFrame is highly fragmented.  This is usually the result of calling `frame.insert` many times, which has poor performance.  Consider joining all columns at once using pd.concat(axis=1) instead. To get a de-fragmented frame, use `newframe = frame.copy()`\n",
      "  ridge_df[var_name] = ridge_reg.coef_\n",
      "<ipython-input-20-6dc26fbac827>:14: PerformanceWarning: DataFrame is highly fragmented.  This is usually the result of calling `frame.insert` many times, which has poor performance.  Consider joining all columns at once using pd.concat(axis=1) instead. To get a de-fragmented frame, use `newframe = frame.copy()`\n",
      "  ridge_df[var_name] = ridge_reg.coef_\n",
      "<ipython-input-20-6dc26fbac827>:14: PerformanceWarning: DataFrame is highly fragmented.  This is usually the result of calling `frame.insert` many times, which has poor performance.  Consider joining all columns at once using pd.concat(axis=1) instead. To get a de-fragmented frame, use `newframe = frame.copy()`\n",
      "  ridge_df[var_name] = ridge_reg.coef_\n",
      "<ipython-input-20-6dc26fbac827>:14: PerformanceWarning: DataFrame is highly fragmented.  This is usually the result of calling `frame.insert` many times, which has poor performance.  Consider joining all columns at once using pd.concat(axis=1) instead. To get a de-fragmented frame, use `newframe = frame.copy()`\n",
      "  ridge_df[var_name] = ridge_reg.coef_\n",
      "<ipython-input-20-6dc26fbac827>:14: PerformanceWarning: DataFrame is highly fragmented.  This is usually the result of calling `frame.insert` many times, which has poor performance.  Consider joining all columns at once using pd.concat(axis=1) instead. To get a de-fragmented frame, use `newframe = frame.copy()`\n",
      "  ridge_df[var_name] = ridge_reg.coef_\n",
      "<ipython-input-20-6dc26fbac827>:14: PerformanceWarning: DataFrame is highly fragmented.  This is usually the result of calling `frame.insert` many times, which has poor performance.  Consider joining all columns at once using pd.concat(axis=1) instead. To get a de-fragmented frame, use `newframe = frame.copy()`\n",
      "  ridge_df[var_name] = ridge_reg.coef_\n",
      "<ipython-input-20-6dc26fbac827>:14: PerformanceWarning: DataFrame is highly fragmented.  This is usually the result of calling `frame.insert` many times, which has poor performance.  Consider joining all columns at once using pd.concat(axis=1) instead. To get a de-fragmented frame, use `newframe = frame.copy()`\n",
      "  ridge_df[var_name] = ridge_reg.coef_\n",
      "<ipython-input-20-6dc26fbac827>:14: PerformanceWarning: DataFrame is highly fragmented.  This is usually the result of calling `frame.insert` many times, which has poor performance.  Consider joining all columns at once using pd.concat(axis=1) instead. To get a de-fragmented frame, use `newframe = frame.copy()`\n",
      "  ridge_df[var_name] = ridge_reg.coef_\n",
      "<ipython-input-20-6dc26fbac827>:14: PerformanceWarning: DataFrame is highly fragmented.  This is usually the result of calling `frame.insert` many times, which has poor performance.  Consider joining all columns at once using pd.concat(axis=1) instead. To get a de-fragmented frame, use `newframe = frame.copy()`\n",
      "  ridge_df[var_name] = ridge_reg.coef_\n",
      "<ipython-input-20-6dc26fbac827>:14: PerformanceWarning: DataFrame is highly fragmented.  This is usually the result of calling `frame.insert` many times, which has poor performance.  Consider joining all columns at once using pd.concat(axis=1) instead. To get a de-fragmented frame, use `newframe = frame.copy()`\n",
      "  ridge_df[var_name] = ridge_reg.coef_\n",
      "<ipython-input-20-6dc26fbac827>:14: PerformanceWarning: DataFrame is highly fragmented.  This is usually the result of calling `frame.insert` many times, which has poor performance.  Consider joining all columns at once using pd.concat(axis=1) instead. To get a de-fragmented frame, use `newframe = frame.copy()`\n",
      "  ridge_df[var_name] = ridge_reg.coef_\n",
      "<ipython-input-20-6dc26fbac827>:14: PerformanceWarning: DataFrame is highly fragmented.  This is usually the result of calling `frame.insert` many times, which has poor performance.  Consider joining all columns at once using pd.concat(axis=1) instead. To get a de-fragmented frame, use `newframe = frame.copy()`\n",
      "  ridge_df[var_name] = ridge_reg.coef_\n",
      "<ipython-input-20-6dc26fbac827>:14: PerformanceWarning: DataFrame is highly fragmented.  This is usually the result of calling `frame.insert` many times, which has poor performance.  Consider joining all columns at once using pd.concat(axis=1) instead. To get a de-fragmented frame, use `newframe = frame.copy()`\n",
      "  ridge_df[var_name] = ridge_reg.coef_\n",
      "<ipython-input-20-6dc26fbac827>:14: PerformanceWarning: DataFrame is highly fragmented.  This is usually the result of calling `frame.insert` many times, which has poor performance.  Consider joining all columns at once using pd.concat(axis=1) instead. To get a de-fragmented frame, use `newframe = frame.copy()`\n",
      "  ridge_df[var_name] = ridge_reg.coef_\n",
      "<ipython-input-20-6dc26fbac827>:14: PerformanceWarning: DataFrame is highly fragmented.  This is usually the result of calling `frame.insert` many times, which has poor performance.  Consider joining all columns at once using pd.concat(axis=1) instead. To get a de-fragmented frame, use `newframe = frame.copy()`\n",
      "  ridge_df[var_name] = ridge_reg.coef_\n",
      "<ipython-input-20-6dc26fbac827>:14: PerformanceWarning: DataFrame is highly fragmented.  This is usually the result of calling `frame.insert` many times, which has poor performance.  Consider joining all columns at once using pd.concat(axis=1) instead. To get a de-fragmented frame, use `newframe = frame.copy()`\n",
      "  ridge_df[var_name] = ridge_reg.coef_\n",
      "<ipython-input-20-6dc26fbac827>:14: PerformanceWarning: DataFrame is highly fragmented.  This is usually the result of calling `frame.insert` many times, which has poor performance.  Consider joining all columns at once using pd.concat(axis=1) instead. To get a de-fragmented frame, use `newframe = frame.copy()`\n",
      "  ridge_df[var_name] = ridge_reg.coef_\n",
      "<ipython-input-20-6dc26fbac827>:14: PerformanceWarning: DataFrame is highly fragmented.  This is usually the result of calling `frame.insert` many times, which has poor performance.  Consider joining all columns at once using pd.concat(axis=1) instead. To get a de-fragmented frame, use `newframe = frame.copy()`\n",
      "  ridge_df[var_name] = ridge_reg.coef_\n",
      "<ipython-input-20-6dc26fbac827>:14: PerformanceWarning: DataFrame is highly fragmented.  This is usually the result of calling `frame.insert` many times, which has poor performance.  Consider joining all columns at once using pd.concat(axis=1) instead. To get a de-fragmented frame, use `newframe = frame.copy()`\n",
      "  ridge_df[var_name] = ridge_reg.coef_\n",
      "<ipython-input-20-6dc26fbac827>:14: PerformanceWarning: DataFrame is highly fragmented.  This is usually the result of calling `frame.insert` many times, which has poor performance.  Consider joining all columns at once using pd.concat(axis=1) instead. To get a de-fragmented frame, use `newframe = frame.copy()`\n",
      "  ridge_df[var_name] = ridge_reg.coef_\n",
      "<ipython-input-20-6dc26fbac827>:14: PerformanceWarning: DataFrame is highly fragmented.  This is usually the result of calling `frame.insert` many times, which has poor performance.  Consider joining all columns at once using pd.concat(axis=1) instead. To get a de-fragmented frame, use `newframe = frame.copy()`\n",
      "  ridge_df[var_name] = ridge_reg.coef_\n",
      "<ipython-input-20-6dc26fbac827>:14: PerformanceWarning: DataFrame is highly fragmented.  This is usually the result of calling `frame.insert` many times, which has poor performance.  Consider joining all columns at once using pd.concat(axis=1) instead. To get a de-fragmented frame, use `newframe = frame.copy()`\n",
      "  ridge_df[var_name] = ridge_reg.coef_\n",
      "<ipython-input-20-6dc26fbac827>:14: PerformanceWarning: DataFrame is highly fragmented.  This is usually the result of calling `frame.insert` many times, which has poor performance.  Consider joining all columns at once using pd.concat(axis=1) instead. To get a de-fragmented frame, use `newframe = frame.copy()`\n",
      "  ridge_df[var_name] = ridge_reg.coef_\n",
      "<ipython-input-20-6dc26fbac827>:14: PerformanceWarning: DataFrame is highly fragmented.  This is usually the result of calling `frame.insert` many times, which has poor performance.  Consider joining all columns at once using pd.concat(axis=1) instead. To get a de-fragmented frame, use `newframe = frame.copy()`\n",
      "  ridge_df[var_name] = ridge_reg.coef_\n",
      "<ipython-input-20-6dc26fbac827>:14: PerformanceWarning: DataFrame is highly fragmented.  This is usually the result of calling `frame.insert` many times, which has poor performance.  Consider joining all columns at once using pd.concat(axis=1) instead. To get a de-fragmented frame, use `newframe = frame.copy()`\n",
      "  ridge_df[var_name] = ridge_reg.coef_\n",
      "<ipython-input-20-6dc26fbac827>:14: PerformanceWarning: DataFrame is highly fragmented.  This is usually the result of calling `frame.insert` many times, which has poor performance.  Consider joining all columns at once using pd.concat(axis=1) instead. To get a de-fragmented frame, use `newframe = frame.copy()`\n",
      "  ridge_df[var_name] = ridge_reg.coef_\n",
      "<ipython-input-20-6dc26fbac827>:19: FutureWarning: In a future version of pandas all arguments of NDFrame.rename_axis except for the argument 'mapper' will be keyword-only.\n",
      "  ridge_df = ridge_df.set_index('variable').T.rename_axis('estimate').rename_axis(None, True)\n"
     ]
    },
    {
     "data": {
      "text/plain": "<Figure size 720x360 with 1 Axes>",
      "image/png": "[encoded data removed]"
     },
     "metadata": {
      "needs_background": "light"
     },
     "output_type": "display_data"
    }
   ],
   "source": [
    "# initialize\n",
    "ridge_reg = Ridge(alpha=0)\n",
    "ridge_reg.fit(X_train, y_train)\n",
    "ridge_df = pd.DataFrame({'variable': california_house_price.feature_names, 'estimate': ridge_reg.coef_})\n",
    "ridge_train_pred = []\n",
    "ridge_test_pred = []\n",
    "\n",
    "alphas = np.arange(0, 200, 1)\n",
    "\n",
    "for alpha in alphas:\n",
    "    ridge_reg = Ridge(alpha=alpha)\n",
    "    ridge_reg.fit(X_train, y_train)\n",
    "    var_name = 'estimate' + str(alpha)\n",
    "    ridge_df[var_name] = ridge_reg.coef_\n",
    "    # prediction\n",
    "    ridge_train_pred.append(ridge_reg.predict(X_train))\n",
    "    ridge_test_pred.append(ridge_reg.predict(X_test))\n",
    "    \n",
    "ridge_df = ridge_df.set_index('variable').T.rename_axis('estimate').rename_axis(None, True)\n",
    "# .reset_index()\n",
    "fig, ax = plt.subplots(figsize=(10, 5))\n",
    "#ax.plot(ridge_df.RM, 'r', ridge_df.ZN, 'g', ridge_df.RAD, 'b', ridge_df.CRIM, 'c', ridge_df.TAX, 'y')\n",
    "ax.axhline(y=0, color='black', linestyle='--')\n",
    "ax.set_xlabel(\"Lambda\")\n",
    "ax.set_ylabel(\"Beta Estimate\")\n",
    "ax.set_title(\"Ridge Regression Trace\", fontsize=16)\n",
    "ax.legend(labels=['Room','Residential Zone','Highway Access','Crime Rate','Tax'])\n",
    "ax.grid(True)"
   ]
  },
  {
   "cell_type": "markdown",
   "metadata": {},
   "source": [
    "As a $\\lambda$ increases, the lines representing the features are converging to zero. These lines are $\\beta$'s and they are same as OLS model's coefficients at lambda zero because of no penalty. While the feature \"Room\" stays quite the same, \"Tax\" gets close to zero quickly. This is suggestive of each feature's importance. Note that the lines will never hit zero, but only converges to it.\n",
    "\n",
    "------"
   ]
  },
  {
   "cell_type": "markdown",
   "metadata": {},
   "source": [
    "#### - Lasso Regression"
   ]
  },
  {
   "cell_type": "code",
   "execution_count": 22,
   "metadata": {},
   "outputs": [
    {
     "name": "stderr",
     "output_type": "stream",
     "text": [
      "<ipython-input-22-7669e401bc95>:14: PerformanceWarning: DataFrame is highly fragmented.  This is usually the result of calling `frame.insert` many times, which has poor performance.  Consider joining all columns at once using pd.concat(axis=1) instead. To get a de-fragmented frame, use `newframe = frame.copy()`\n",
      "  lasso_df[var_name] = lasso_reg.coef_\n",
      "<ipython-input-22-7669e401bc95>:14: PerformanceWarning: DataFrame is highly fragmented.  This is usually the result of calling `frame.insert` many times, which has poor performance.  Consider joining all columns at once using pd.concat(axis=1) instead. To get a de-fragmented frame, use `newframe = frame.copy()`\n",
      "  lasso_df[var_name] = lasso_reg.coef_\n",
      "<ipython-input-22-7669e401bc95>:14: PerformanceWarning: DataFrame is highly fragmented.  This is usually the result of calling `frame.insert` many times, which has poor performance.  Consider joining all columns at once using pd.concat(axis=1) instead. To get a de-fragmented frame, use `newframe = frame.copy()`\n",
      "  lasso_df[var_name] = lasso_reg.coef_\n",
      "<ipython-input-22-7669e401bc95>:14: PerformanceWarning: DataFrame is highly fragmented.  This is usually the result of calling `frame.insert` many times, which has poor performance.  Consider joining all columns at once using pd.concat(axis=1) instead. To get a de-fragmented frame, use `newframe = frame.copy()`\n",
      "  lasso_df[var_name] = lasso_reg.coef_\n",
      "<ipython-input-22-7669e401bc95>:14: PerformanceWarning: DataFrame is highly fragmented.  This is usually the result of calling `frame.insert` many times, which has poor performance.  Consider joining all columns at once using pd.concat(axis=1) instead. To get a de-fragmented frame, use `newframe = frame.copy()`\n",
      "  lasso_df[var_name] = lasso_reg.coef_\n",
      "<ipython-input-22-7669e401bc95>:14: PerformanceWarning: DataFrame is highly fragmented.  This is usually the result of calling `frame.insert` many times, which has poor performance.  Consider joining all columns at once using pd.concat(axis=1) instead. To get a de-fragmented frame, use `newframe = frame.copy()`\n",
      "  lasso_df[var_name] = lasso_reg.coef_\n",
      "<ipython-input-22-7669e401bc95>:14: PerformanceWarning: DataFrame is highly fragmented.  This is usually the result of calling `frame.insert` many times, which has poor performance.  Consider joining all columns at once using pd.concat(axis=1) instead. To get a de-fragmented frame, use `newframe = frame.copy()`\n",
      "  lasso_df[var_name] = lasso_reg.coef_\n",
      "<ipython-input-22-7669e401bc95>:14: PerformanceWarning: DataFrame is highly fragmented.  This is usually the result of calling `frame.insert` many times, which has poor performance.  Consider joining all columns at once using pd.concat(axis=1) instead. To get a de-fragmented frame, use `newframe = frame.copy()`\n",
      "  lasso_df[var_name] = lasso_reg.coef_\n",
      "<ipython-input-22-7669e401bc95>:14: PerformanceWarning: DataFrame is highly fragmented.  This is usually the result of calling `frame.insert` many times, which has poor performance.  Consider joining all columns at once using pd.concat(axis=1) instead. To get a de-fragmented frame, use `newframe = frame.copy()`\n",
      "  lasso_df[var_name] = lasso_reg.coef_\n",
      "<ipython-input-22-7669e401bc95>:14: PerformanceWarning: DataFrame is highly fragmented.  This is usually the result of calling `frame.insert` many times, which has poor performance.  Consider joining all columns at once using pd.concat(axis=1) instead. To get a de-fragmented frame, use `newframe = frame.copy()`\n",
      "  lasso_df[var_name] = lasso_reg.coef_\n",
      "<ipython-input-22-7669e401bc95>:14: PerformanceWarning: DataFrame is highly fragmented.  This is usually the result of calling `frame.insert` many times, which has poor performance.  Consider joining all columns at once using pd.concat(axis=1) instead. To get a de-fragmented frame, use `newframe = frame.copy()`\n",
      "  lasso_df[var_name] = lasso_reg.coef_\n",
      "<ipython-input-22-7669e401bc95>:14: PerformanceWarning: DataFrame is highly fragmented.  This is usually the result of calling `frame.insert` many times, which has poor performance.  Consider joining all columns at once using pd.concat(axis=1) instead. To get a de-fragmented frame, use `newframe = frame.copy()`\n",
      "  lasso_df[var_name] = lasso_reg.coef_\n",
      "<ipython-input-22-7669e401bc95>:14: PerformanceWarning: DataFrame is highly fragmented.  This is usually the result of calling `frame.insert` many times, which has poor performance.  Consider joining all columns at once using pd.concat(axis=1) instead. To get a de-fragmented frame, use `newframe = frame.copy()`\n",
      "  lasso_df[var_name] = lasso_reg.coef_\n",
      "<ipython-input-22-7669e401bc95>:14: PerformanceWarning: DataFrame is highly fragmented.  This is usually the result of calling `frame.insert` many times, which has poor performance.  Consider joining all columns at once using pd.concat(axis=1) instead. To get a de-fragmented frame, use `newframe = frame.copy()`\n",
      "  lasso_df[var_name] = lasso_reg.coef_\n",
      "<ipython-input-22-7669e401bc95>:14: PerformanceWarning: DataFrame is highly fragmented.  This is usually the result of calling `frame.insert` many times, which has poor performance.  Consider joining all columns at once using pd.concat(axis=1) instead. To get a de-fragmented frame, use `newframe = frame.copy()`\n",
      "  lasso_df[var_name] = lasso_reg.coef_\n",
      "<ipython-input-22-7669e401bc95>:14: PerformanceWarning: DataFrame is highly fragmented.  This is usually the result of calling `frame.insert` many times, which has poor performance.  Consider joining all columns at once using pd.concat(axis=1) instead. To get a de-fragmented frame, use `newframe = frame.copy()`\n",
      "  lasso_df[var_name] = lasso_reg.coef_\n",
      "<ipython-input-22-7669e401bc95>:14: PerformanceWarning: DataFrame is highly fragmented.  This is usually the result of calling `frame.insert` many times, which has poor performance.  Consider joining all columns at once using pd.concat(axis=1) instead. To get a de-fragmented frame, use `newframe = frame.copy()`\n",
      "  lasso_df[var_name] = lasso_reg.coef_\n",
      "<ipython-input-22-7669e401bc95>:14: PerformanceWarning: DataFrame is highly fragmented.  This is usually the result of calling `frame.insert` many times, which has poor performance.  Consider joining all columns at once using pd.concat(axis=1) instead. To get a de-fragmented frame, use `newframe = frame.copy()`\n",
      "  lasso_df[var_name] = lasso_reg.coef_\n",
      "<ipython-input-22-7669e401bc95>:14: PerformanceWarning: DataFrame is highly fragmented.  This is usually the result of calling `frame.insert` many times, which has poor performance.  Consider joining all columns at once using pd.concat(axis=1) instead. To get a de-fragmented frame, use `newframe = frame.copy()`\n",
      "  lasso_df[var_name] = lasso_reg.coef_\n",
      "<ipython-input-22-7669e401bc95>:14: PerformanceWarning: DataFrame is highly fragmented.  This is usually the result of calling `frame.insert` many times, which has poor performance.  Consider joining all columns at once using pd.concat(axis=1) instead. To get a de-fragmented frame, use `newframe = frame.copy()`\n",
      "  lasso_df[var_name] = lasso_reg.coef_\n",
      "<ipython-input-22-7669e401bc95>:14: PerformanceWarning: DataFrame is highly fragmented.  This is usually the result of calling `frame.insert` many times, which has poor performance.  Consider joining all columns at once using pd.concat(axis=1) instead. To get a de-fragmented frame, use `newframe = frame.copy()`\n",
      "  lasso_df[var_name] = lasso_reg.coef_\n",
      "<ipython-input-22-7669e401bc95>:14: PerformanceWarning: DataFrame is highly fragmented.  This is usually the result of calling `frame.insert` many times, which has poor performance.  Consider joining all columns at once using pd.concat(axis=1) instead. To get a de-fragmented frame, use `newframe = frame.copy()`\n",
      "  lasso_df[var_name] = lasso_reg.coef_\n",
      "<ipython-input-22-7669e401bc95>:14: PerformanceWarning: DataFrame is highly fragmented.  This is usually the result of calling `frame.insert` many times, which has poor performance.  Consider joining all columns at once using pd.concat(axis=1) instead. To get a de-fragmented frame, use `newframe = frame.copy()`\n",
      "  lasso_df[var_name] = lasso_reg.coef_\n",
      "<ipython-input-22-7669e401bc95>:14: PerformanceWarning: DataFrame is highly fragmented.  This is usually the result of calling `frame.insert` many times, which has poor performance.  Consider joining all columns at once using pd.concat(axis=1) instead. To get a de-fragmented frame, use `newframe = frame.copy()`\n",
      "  lasso_df[var_name] = lasso_reg.coef_\n",
      "<ipython-input-22-7669e401bc95>:14: PerformanceWarning: DataFrame is highly fragmented.  This is usually the result of calling `frame.insert` many times, which has poor performance.  Consider joining all columns at once using pd.concat(axis=1) instead. To get a de-fragmented frame, use `newframe = frame.copy()`\n",
      "  lasso_df[var_name] = lasso_reg.coef_\n",
      "<ipython-input-22-7669e401bc95>:14: PerformanceWarning: DataFrame is highly fragmented.  This is usually the result of calling `frame.insert` many times, which has poor performance.  Consider joining all columns at once using pd.concat(axis=1) instead. To get a de-fragmented frame, use `newframe = frame.copy()`\n",
      "  lasso_df[var_name] = lasso_reg.coef_\n",
      "<ipython-input-22-7669e401bc95>:14: PerformanceWarning: DataFrame is highly fragmented.  This is usually the result of calling `frame.insert` many times, which has poor performance.  Consider joining all columns at once using pd.concat(axis=1) instead. To get a de-fragmented frame, use `newframe = frame.copy()`\n",
      "  lasso_df[var_name] = lasso_reg.coef_\n",
      "<ipython-input-22-7669e401bc95>:14: PerformanceWarning: DataFrame is highly fragmented.  This is usually the result of calling `frame.insert` many times, which has poor performance.  Consider joining all columns at once using pd.concat(axis=1) instead. To get a de-fragmented frame, use `newframe = frame.copy()`\n",
      "  lasso_df[var_name] = lasso_reg.coef_\n",
      "<ipython-input-22-7669e401bc95>:14: PerformanceWarning: DataFrame is highly fragmented.  This is usually the result of calling `frame.insert` many times, which has poor performance.  Consider joining all columns at once using pd.concat(axis=1) instead. To get a de-fragmented frame, use `newframe = frame.copy()`\n",
      "  lasso_df[var_name] = lasso_reg.coef_\n",
      "<ipython-input-22-7669e401bc95>:14: PerformanceWarning: DataFrame is highly fragmented.  This is usually the result of calling `frame.insert` many times, which has poor performance.  Consider joining all columns at once using pd.concat(axis=1) instead. To get a de-fragmented frame, use `newframe = frame.copy()`\n",
      "  lasso_df[var_name] = lasso_reg.coef_\n",
      "<ipython-input-22-7669e401bc95>:14: PerformanceWarning: DataFrame is highly fragmented.  This is usually the result of calling `frame.insert` many times, which has poor performance.  Consider joining all columns at once using pd.concat(axis=1) instead. To get a de-fragmented frame, use `newframe = frame.copy()`\n",
      "  lasso_df[var_name] = lasso_reg.coef_\n",
      "<ipython-input-22-7669e401bc95>:14: PerformanceWarning: DataFrame is highly fragmented.  This is usually the result of calling `frame.insert` many times, which has poor performance.  Consider joining all columns at once using pd.concat(axis=1) instead. To get a de-fragmented frame, use `newframe = frame.copy()`\n",
      "  lasso_df[var_name] = lasso_reg.coef_\n",
      "<ipython-input-22-7669e401bc95>:14: PerformanceWarning: DataFrame is highly fragmented.  This is usually the result of calling `frame.insert` many times, which has poor performance.  Consider joining all columns at once using pd.concat(axis=1) instead. To get a de-fragmented frame, use `newframe = frame.copy()`\n",
      "  lasso_df[var_name] = lasso_reg.coef_\n",
      "<ipython-input-22-7669e401bc95>:14: PerformanceWarning: DataFrame is highly fragmented.  This is usually the result of calling `frame.insert` many times, which has poor performance.  Consider joining all columns at once using pd.concat(axis=1) instead. To get a de-fragmented frame, use `newframe = frame.copy()`\n",
      "  lasso_df[var_name] = lasso_reg.coef_\n",
      "<ipython-input-22-7669e401bc95>:14: PerformanceWarning: DataFrame is highly fragmented.  This is usually the result of calling `frame.insert` many times, which has poor performance.  Consider joining all columns at once using pd.concat(axis=1) instead. To get a de-fragmented frame, use `newframe = frame.copy()`\n",
      "  lasso_df[var_name] = lasso_reg.coef_\n",
      "<ipython-input-22-7669e401bc95>:14: PerformanceWarning: DataFrame is highly fragmented.  This is usually the result of calling `frame.insert` many times, which has poor performance.  Consider joining all columns at once using pd.concat(axis=1) instead. To get a de-fragmented frame, use `newframe = frame.copy()`\n",
      "  lasso_df[var_name] = lasso_reg.coef_\n",
      "<ipython-input-22-7669e401bc95>:14: PerformanceWarning: DataFrame is highly fragmented.  This is usually the result of calling `frame.insert` many times, which has poor performance.  Consider joining all columns at once using pd.concat(axis=1) instead. To get a de-fragmented frame, use `newframe = frame.copy()`\n",
      "  lasso_df[var_name] = lasso_reg.coef_\n",
      "<ipython-input-22-7669e401bc95>:14: PerformanceWarning: DataFrame is highly fragmented.  This is usually the result of calling `frame.insert` many times, which has poor performance.  Consider joining all columns at once using pd.concat(axis=1) instead. To get a de-fragmented frame, use `newframe = frame.copy()`\n",
      "  lasso_df[var_name] = lasso_reg.coef_\n",
      "<ipython-input-22-7669e401bc95>:14: PerformanceWarning: DataFrame is highly fragmented.  This is usually the result of calling `frame.insert` many times, which has poor performance.  Consider joining all columns at once using pd.concat(axis=1) instead. To get a de-fragmented frame, use `newframe = frame.copy()`\n",
      "  lasso_df[var_name] = lasso_reg.coef_\n",
      "<ipython-input-22-7669e401bc95>:14: PerformanceWarning: DataFrame is highly fragmented.  This is usually the result of calling `frame.insert` many times, which has poor performance.  Consider joining all columns at once using pd.concat(axis=1) instead. To get a de-fragmented frame, use `newframe = frame.copy()`\n",
      "  lasso_df[var_name] = lasso_reg.coef_\n",
      "<ipython-input-22-7669e401bc95>:14: PerformanceWarning: DataFrame is highly fragmented.  This is usually the result of calling `frame.insert` many times, which has poor performance.  Consider joining all columns at once using pd.concat(axis=1) instead. To get a de-fragmented frame, use `newframe = frame.copy()`\n",
      "  lasso_df[var_name] = lasso_reg.coef_\n",
      "<ipython-input-22-7669e401bc95>:14: PerformanceWarning: DataFrame is highly fragmented.  This is usually the result of calling `frame.insert` many times, which has poor performance.  Consider joining all columns at once using pd.concat(axis=1) instead. To get a de-fragmented frame, use `newframe = frame.copy()`\n",
      "  lasso_df[var_name] = lasso_reg.coef_\n",
      "<ipython-input-22-7669e401bc95>:14: PerformanceWarning: DataFrame is highly fragmented.  This is usually the result of calling `frame.insert` many times, which has poor performance.  Consider joining all columns at once using pd.concat(axis=1) instead. To get a de-fragmented frame, use `newframe = frame.copy()`\n",
      "  lasso_df[var_name] = lasso_reg.coef_\n",
      "<ipython-input-22-7669e401bc95>:14: PerformanceWarning: DataFrame is highly fragmented.  This is usually the result of calling `frame.insert` many times, which has poor performance.  Consider joining all columns at once using pd.concat(axis=1) instead. To get a de-fragmented frame, use `newframe = frame.copy()`\n",
      "  lasso_df[var_name] = lasso_reg.coef_\n",
      "<ipython-input-22-7669e401bc95>:14: PerformanceWarning: DataFrame is highly fragmented.  This is usually the result of calling `frame.insert` many times, which has poor performance.  Consider joining all columns at once using pd.concat(axis=1) instead. To get a de-fragmented frame, use `newframe = frame.copy()`\n",
      "  lasso_df[var_name] = lasso_reg.coef_\n",
      "<ipython-input-22-7669e401bc95>:14: PerformanceWarning: DataFrame is highly fragmented.  This is usually the result of calling `frame.insert` many times, which has poor performance.  Consider joining all columns at once using pd.concat(axis=1) instead. To get a de-fragmented frame, use `newframe = frame.copy()`\n",
      "  lasso_df[var_name] = lasso_reg.coef_\n",
      "<ipython-input-22-7669e401bc95>:14: PerformanceWarning: DataFrame is highly fragmented.  This is usually the result of calling `frame.insert` many times, which has poor performance.  Consider joining all columns at once using pd.concat(axis=1) instead. To get a de-fragmented frame, use `newframe = frame.copy()`\n",
      "  lasso_df[var_name] = lasso_reg.coef_\n",
      "<ipython-input-22-7669e401bc95>:14: PerformanceWarning: DataFrame is highly fragmented.  This is usually the result of calling `frame.insert` many times, which has poor performance.  Consider joining all columns at once using pd.concat(axis=1) instead. To get a de-fragmented frame, use `newframe = frame.copy()`\n",
      "  lasso_df[var_name] = lasso_reg.coef_\n",
      "<ipython-input-22-7669e401bc95>:14: PerformanceWarning: DataFrame is highly fragmented.  This is usually the result of calling `frame.insert` many times, which has poor performance.  Consider joining all columns at once using pd.concat(axis=1) instead. To get a de-fragmented frame, use `newframe = frame.copy()`\n",
      "  lasso_df[var_name] = lasso_reg.coef_\n",
      "<ipython-input-22-7669e401bc95>:14: PerformanceWarning: DataFrame is highly fragmented.  This is usually the result of calling `frame.insert` many times, which has poor performance.  Consider joining all columns at once using pd.concat(axis=1) instead. To get a de-fragmented frame, use `newframe = frame.copy()`\n",
      "  lasso_df[var_name] = lasso_reg.coef_\n",
      "<ipython-input-22-7669e401bc95>:14: PerformanceWarning: DataFrame is highly fragmented.  This is usually the result of calling `frame.insert` many times, which has poor performance.  Consider joining all columns at once using pd.concat(axis=1) instead. To get a de-fragmented frame, use `newframe = frame.copy()`\n",
      "  lasso_df[var_name] = lasso_reg.coef_\n",
      "<ipython-input-22-7669e401bc95>:14: PerformanceWarning: DataFrame is highly fragmented.  This is usually the result of calling `frame.insert` many times, which has poor performance.  Consider joining all columns at once using pd.concat(axis=1) instead. To get a de-fragmented frame, use `newframe = frame.copy()`\n",
      "  lasso_df[var_name] = lasso_reg.coef_\n",
      "<ipython-input-22-7669e401bc95>:14: PerformanceWarning: DataFrame is highly fragmented.  This is usually the result of calling `frame.insert` many times, which has poor performance.  Consider joining all columns at once using pd.concat(axis=1) instead. To get a de-fragmented frame, use `newframe = frame.copy()`\n",
      "  lasso_df[var_name] = lasso_reg.coef_\n",
      "<ipython-input-22-7669e401bc95>:14: PerformanceWarning: DataFrame is highly fragmented.  This is usually the result of calling `frame.insert` many times, which has poor performance.  Consider joining all columns at once using pd.concat(axis=1) instead. To get a de-fragmented frame, use `newframe = frame.copy()`\n",
      "  lasso_df[var_name] = lasso_reg.coef_\n",
      "<ipython-input-22-7669e401bc95>:14: PerformanceWarning: DataFrame is highly fragmented.  This is usually the result of calling `frame.insert` many times, which has poor performance.  Consider joining all columns at once using pd.concat(axis=1) instead. To get a de-fragmented frame, use `newframe = frame.copy()`\n",
      "  lasso_df[var_name] = lasso_reg.coef_\n",
      "<ipython-input-22-7669e401bc95>:14: PerformanceWarning: DataFrame is highly fragmented.  This is usually the result of calling `frame.insert` many times, which has poor performance.  Consider joining all columns at once using pd.concat(axis=1) instead. To get a de-fragmented frame, use `newframe = frame.copy()`\n",
      "  lasso_df[var_name] = lasso_reg.coef_\n",
      "<ipython-input-22-7669e401bc95>:14: PerformanceWarning: DataFrame is highly fragmented.  This is usually the result of calling `frame.insert` many times, which has poor performance.  Consider joining all columns at once using pd.concat(axis=1) instead. To get a de-fragmented frame, use `newframe = frame.copy()`\n",
      "  lasso_df[var_name] = lasso_reg.coef_\n",
      "<ipython-input-22-7669e401bc95>:14: PerformanceWarning: DataFrame is highly fragmented.  This is usually the result of calling `frame.insert` many times, which has poor performance.  Consider joining all columns at once using pd.concat(axis=1) instead. To get a de-fragmented frame, use `newframe = frame.copy()`\n",
      "  lasso_df[var_name] = lasso_reg.coef_\n",
      "<ipython-input-22-7669e401bc95>:14: PerformanceWarning: DataFrame is highly fragmented.  This is usually the result of calling `frame.insert` many times, which has poor performance.  Consider joining all columns at once using pd.concat(axis=1) instead. To get a de-fragmented frame, use `newframe = frame.copy()`\n",
      "  lasso_df[var_name] = lasso_reg.coef_\n",
      "<ipython-input-22-7669e401bc95>:14: PerformanceWarning: DataFrame is highly fragmented.  This is usually the result of calling `frame.insert` many times, which has poor performance.  Consider joining all columns at once using pd.concat(axis=1) instead. To get a de-fragmented frame, use `newframe = frame.copy()`\n",
      "  lasso_df[var_name] = lasso_reg.coef_\n",
      "<ipython-input-22-7669e401bc95>:14: PerformanceWarning: DataFrame is highly fragmented.  This is usually the result of calling `frame.insert` many times, which has poor performance.  Consider joining all columns at once using pd.concat(axis=1) instead. To get a de-fragmented frame, use `newframe = frame.copy()`\n",
      "  lasso_df[var_name] = lasso_reg.coef_\n",
      "<ipython-input-22-7669e401bc95>:14: PerformanceWarning: DataFrame is highly fragmented.  This is usually the result of calling `frame.insert` many times, which has poor performance.  Consider joining all columns at once using pd.concat(axis=1) instead. To get a de-fragmented frame, use `newframe = frame.copy()`\n",
      "  lasso_df[var_name] = lasso_reg.coef_\n",
      "<ipython-input-22-7669e401bc95>:14: PerformanceWarning: DataFrame is highly fragmented.  This is usually the result of calling `frame.insert` many times, which has poor performance.  Consider joining all columns at once using pd.concat(axis=1) instead. To get a de-fragmented frame, use `newframe = frame.copy()`\n",
      "  lasso_df[var_name] = lasso_reg.coef_\n",
      "<ipython-input-22-7669e401bc95>:14: PerformanceWarning: DataFrame is highly fragmented.  This is usually the result of calling `frame.insert` many times, which has poor performance.  Consider joining all columns at once using pd.concat(axis=1) instead. To get a de-fragmented frame, use `newframe = frame.copy()`\n",
      "  lasso_df[var_name] = lasso_reg.coef_\n",
      "<ipython-input-22-7669e401bc95>:14: PerformanceWarning: DataFrame is highly fragmented.  This is usually the result of calling `frame.insert` many times, which has poor performance.  Consider joining all columns at once using pd.concat(axis=1) instead. To get a de-fragmented frame, use `newframe = frame.copy()`\n",
      "  lasso_df[var_name] = lasso_reg.coef_\n",
      "<ipython-input-22-7669e401bc95>:14: PerformanceWarning: DataFrame is highly fragmented.  This is usually the result of calling `frame.insert` many times, which has poor performance.  Consider joining all columns at once using pd.concat(axis=1) instead. To get a de-fragmented frame, use `newframe = frame.copy()`\n",
      "  lasso_df[var_name] = lasso_reg.coef_\n",
      "<ipython-input-22-7669e401bc95>:14: PerformanceWarning: DataFrame is highly fragmented.  This is usually the result of calling `frame.insert` many times, which has poor performance.  Consider joining all columns at once using pd.concat(axis=1) instead. To get a de-fragmented frame, use `newframe = frame.copy()`\n",
      "  lasso_df[var_name] = lasso_reg.coef_\n",
      "<ipython-input-22-7669e401bc95>:14: PerformanceWarning: DataFrame is highly fragmented.  This is usually the result of calling `frame.insert` many times, which has poor performance.  Consider joining all columns at once using pd.concat(axis=1) instead. To get a de-fragmented frame, use `newframe = frame.copy()`\n",
      "  lasso_df[var_name] = lasso_reg.coef_\n",
      "<ipython-input-22-7669e401bc95>:14: PerformanceWarning: DataFrame is highly fragmented.  This is usually the result of calling `frame.insert` many times, which has poor performance.  Consider joining all columns at once using pd.concat(axis=1) instead. To get a de-fragmented frame, use `newframe = frame.copy()`\n",
      "  lasso_df[var_name] = lasso_reg.coef_\n",
      "<ipython-input-22-7669e401bc95>:14: PerformanceWarning: DataFrame is highly fragmented.  This is usually the result of calling `frame.insert` many times, which has poor performance.  Consider joining all columns at once using pd.concat(axis=1) instead. To get a de-fragmented frame, use `newframe = frame.copy()`\n",
      "  lasso_df[var_name] = lasso_reg.coef_\n",
      "<ipython-input-22-7669e401bc95>:14: PerformanceWarning: DataFrame is highly fragmented.  This is usually the result of calling `frame.insert` many times, which has poor performance.  Consider joining all columns at once using pd.concat(axis=1) instead. To get a de-fragmented frame, use `newframe = frame.copy()`\n",
      "  lasso_df[var_name] = lasso_reg.coef_\n",
      "<ipython-input-22-7669e401bc95>:14: PerformanceWarning: DataFrame is highly fragmented.  This is usually the result of calling `frame.insert` many times, which has poor performance.  Consider joining all columns at once using pd.concat(axis=1) instead. To get a de-fragmented frame, use `newframe = frame.copy()`\n",
      "  lasso_df[var_name] = lasso_reg.coef_\n",
      "<ipython-input-22-7669e401bc95>:14: PerformanceWarning: DataFrame is highly fragmented.  This is usually the result of calling `frame.insert` many times, which has poor performance.  Consider joining all columns at once using pd.concat(axis=1) instead. To get a de-fragmented frame, use `newframe = frame.copy()`\n",
      "  lasso_df[var_name] = lasso_reg.coef_\n",
      "<ipython-input-22-7669e401bc95>:14: PerformanceWarning: DataFrame is highly fragmented.  This is usually the result of calling `frame.insert` many times, which has poor performance.  Consider joining all columns at once using pd.concat(axis=1) instead. To get a de-fragmented frame, use `newframe = frame.copy()`\n",
      "  lasso_df[var_name] = lasso_reg.coef_\n",
      "<ipython-input-22-7669e401bc95>:14: PerformanceWarning: DataFrame is highly fragmented.  This is usually the result of calling `frame.insert` many times, which has poor performance.  Consider joining all columns at once using pd.concat(axis=1) instead. To get a de-fragmented frame, use `newframe = frame.copy()`\n",
      "  lasso_df[var_name] = lasso_reg.coef_\n",
      "<ipython-input-22-7669e401bc95>:14: PerformanceWarning: DataFrame is highly fragmented.  This is usually the result of calling `frame.insert` many times, which has poor performance.  Consider joining all columns at once using pd.concat(axis=1) instead. To get a de-fragmented frame, use `newframe = frame.copy()`\n",
      "  lasso_df[var_name] = lasso_reg.coef_\n",
      "<ipython-input-22-7669e401bc95>:14: PerformanceWarning: DataFrame is highly fragmented.  This is usually the result of calling `frame.insert` many times, which has poor performance.  Consider joining all columns at once using pd.concat(axis=1) instead. To get a de-fragmented frame, use `newframe = frame.copy()`\n",
      "  lasso_df[var_name] = lasso_reg.coef_\n",
      "<ipython-input-22-7669e401bc95>:14: PerformanceWarning: DataFrame is highly fragmented.  This is usually the result of calling `frame.insert` many times, which has poor performance.  Consider joining all columns at once using pd.concat(axis=1) instead. To get a de-fragmented frame, use `newframe = frame.copy()`\n",
      "  lasso_df[var_name] = lasso_reg.coef_\n",
      "<ipython-input-22-7669e401bc95>:14: PerformanceWarning: DataFrame is highly fragmented.  This is usually the result of calling `frame.insert` many times, which has poor performance.  Consider joining all columns at once using pd.concat(axis=1) instead. To get a de-fragmented frame, use `newframe = frame.copy()`\n",
      "  lasso_df[var_name] = lasso_reg.coef_\n",
      "<ipython-input-22-7669e401bc95>:14: PerformanceWarning: DataFrame is highly fragmented.  This is usually the result of calling `frame.insert` many times, which has poor performance.  Consider joining all columns at once using pd.concat(axis=1) instead. To get a de-fragmented frame, use `newframe = frame.copy()`\n",
      "  lasso_df[var_name] = lasso_reg.coef_\n",
      "<ipython-input-22-7669e401bc95>:14: PerformanceWarning: DataFrame is highly fragmented.  This is usually the result of calling `frame.insert` many times, which has poor performance.  Consider joining all columns at once using pd.concat(axis=1) instead. To get a de-fragmented frame, use `newframe = frame.copy()`\n",
      "  lasso_df[var_name] = lasso_reg.coef_\n",
      "<ipython-input-22-7669e401bc95>:14: PerformanceWarning: DataFrame is highly fragmented.  This is usually the result of calling `frame.insert` many times, which has poor performance.  Consider joining all columns at once using pd.concat(axis=1) instead. To get a de-fragmented frame, use `newframe = frame.copy()`\n",
      "  lasso_df[var_name] = lasso_reg.coef_\n",
      "<ipython-input-22-7669e401bc95>:14: PerformanceWarning: DataFrame is highly fragmented.  This is usually the result of calling `frame.insert` many times, which has poor performance.  Consider joining all columns at once using pd.concat(axis=1) instead. To get a de-fragmented frame, use `newframe = frame.copy()`\n",
      "  lasso_df[var_name] = lasso_reg.coef_\n",
      "<ipython-input-22-7669e401bc95>:14: PerformanceWarning: DataFrame is highly fragmented.  This is usually the result of calling `frame.insert` many times, which has poor performance.  Consider joining all columns at once using pd.concat(axis=1) instead. To get a de-fragmented frame, use `newframe = frame.copy()`\n",
      "  lasso_df[var_name] = lasso_reg.coef_\n",
      "<ipython-input-22-7669e401bc95>:14: PerformanceWarning: DataFrame is highly fragmented.  This is usually the result of calling `frame.insert` many times, which has poor performance.  Consider joining all columns at once using pd.concat(axis=1) instead. To get a de-fragmented frame, use `newframe = frame.copy()`\n",
      "  lasso_df[var_name] = lasso_reg.coef_\n",
      "<ipython-input-22-7669e401bc95>:14: PerformanceWarning: DataFrame is highly fragmented.  This is usually the result of calling `frame.insert` many times, which has poor performance.  Consider joining all columns at once using pd.concat(axis=1) instead. To get a de-fragmented frame, use `newframe = frame.copy()`\n",
      "  lasso_df[var_name] = lasso_reg.coef_\n",
      "<ipython-input-22-7669e401bc95>:14: PerformanceWarning: DataFrame is highly fragmented.  This is usually the result of calling `frame.insert` many times, which has poor performance.  Consider joining all columns at once using pd.concat(axis=1) instead. To get a de-fragmented frame, use `newframe = frame.copy()`\n",
      "  lasso_df[var_name] = lasso_reg.coef_\n",
      "<ipython-input-22-7669e401bc95>:14: PerformanceWarning: DataFrame is highly fragmented.  This is usually the result of calling `frame.insert` many times, which has poor performance.  Consider joining all columns at once using pd.concat(axis=1) instead. To get a de-fragmented frame, use `newframe = frame.copy()`\n",
      "  lasso_df[var_name] = lasso_reg.coef_\n",
      "<ipython-input-22-7669e401bc95>:14: PerformanceWarning: DataFrame is highly fragmented.  This is usually the result of calling `frame.insert` many times, which has poor performance.  Consider joining all columns at once using pd.concat(axis=1) instead. To get a de-fragmented frame, use `newframe = frame.copy()`\n",
      "  lasso_df[var_name] = lasso_reg.coef_\n",
      "<ipython-input-22-7669e401bc95>:14: PerformanceWarning: DataFrame is highly fragmented.  This is usually the result of calling `frame.insert` many times, which has poor performance.  Consider joining all columns at once using pd.concat(axis=1) instead. To get a de-fragmented frame, use `newframe = frame.copy()`\n",
      "  lasso_df[var_name] = lasso_reg.coef_\n",
      "<ipython-input-22-7669e401bc95>:14: PerformanceWarning: DataFrame is highly fragmented.  This is usually the result of calling `frame.insert` many times, which has poor performance.  Consider joining all columns at once using pd.concat(axis=1) instead. To get a de-fragmented frame, use `newframe = frame.copy()`\n",
      "  lasso_df[var_name] = lasso_reg.coef_\n",
      "<ipython-input-22-7669e401bc95>:14: PerformanceWarning: DataFrame is highly fragmented.  This is usually the result of calling `frame.insert` many times, which has poor performance.  Consider joining all columns at once using pd.concat(axis=1) instead. To get a de-fragmented frame, use `newframe = frame.copy()`\n",
      "  lasso_df[var_name] = lasso_reg.coef_\n",
      "<ipython-input-22-7669e401bc95>:14: PerformanceWarning: DataFrame is highly fragmented.  This is usually the result of calling `frame.insert` many times, which has poor performance.  Consider joining all columns at once using pd.concat(axis=1) instead. To get a de-fragmented frame, use `newframe = frame.copy()`\n",
      "  lasso_df[var_name] = lasso_reg.coef_\n",
      "<ipython-input-22-7669e401bc95>:14: PerformanceWarning: DataFrame is highly fragmented.  This is usually the result of calling `frame.insert` many times, which has poor performance.  Consider joining all columns at once using pd.concat(axis=1) instead. To get a de-fragmented frame, use `newframe = frame.copy()`\n",
      "  lasso_df[var_name] = lasso_reg.coef_\n",
      "<ipython-input-22-7669e401bc95>:14: PerformanceWarning: DataFrame is highly fragmented.  This is usually the result of calling `frame.insert` many times, which has poor performance.  Consider joining all columns at once using pd.concat(axis=1) instead. To get a de-fragmented frame, use `newframe = frame.copy()`\n",
      "  lasso_df[var_name] = lasso_reg.coef_\n",
      "<ipython-input-22-7669e401bc95>:14: PerformanceWarning: DataFrame is highly fragmented.  This is usually the result of calling `frame.insert` many times, which has poor performance.  Consider joining all columns at once using pd.concat(axis=1) instead. To get a de-fragmented frame, use `newframe = frame.copy()`\n",
      "  lasso_df[var_name] = lasso_reg.coef_\n",
      "<ipython-input-22-7669e401bc95>:14: PerformanceWarning: DataFrame is highly fragmented.  This is usually the result of calling `frame.insert` many times, which has poor performance.  Consider joining all columns at once using pd.concat(axis=1) instead. To get a de-fragmented frame, use `newframe = frame.copy()`\n",
      "  lasso_df[var_name] = lasso_reg.coef_\n",
      "<ipython-input-22-7669e401bc95>:14: PerformanceWarning: DataFrame is highly fragmented.  This is usually the result of calling `frame.insert` many times, which has poor performance.  Consider joining all columns at once using pd.concat(axis=1) instead. To get a de-fragmented frame, use `newframe = frame.copy()`\n",
      "  lasso_df[var_name] = lasso_reg.coef_\n",
      "<ipython-input-22-7669e401bc95>:14: PerformanceWarning: DataFrame is highly fragmented.  This is usually the result of calling `frame.insert` many times, which has poor performance.  Consider joining all columns at once using pd.concat(axis=1) instead. To get a de-fragmented frame, use `newframe = frame.copy()`\n",
      "  lasso_df[var_name] = lasso_reg.coef_\n",
      "<ipython-input-22-7669e401bc95>:14: PerformanceWarning: DataFrame is highly fragmented.  This is usually the result of calling `frame.insert` many times, which has poor performance.  Consider joining all columns at once using pd.concat(axis=1) instead. To get a de-fragmented frame, use `newframe = frame.copy()`\n",
      "  lasso_df[var_name] = lasso_reg.coef_\n",
      "<ipython-input-22-7669e401bc95>:14: PerformanceWarning: DataFrame is highly fragmented.  This is usually the result of calling `frame.insert` many times, which has poor performance.  Consider joining all columns at once using pd.concat(axis=1) instead. To get a de-fragmented frame, use `newframe = frame.copy()`\n",
      "  lasso_df[var_name] = lasso_reg.coef_\n",
      "<ipython-input-22-7669e401bc95>:14: PerformanceWarning: DataFrame is highly fragmented.  This is usually the result of calling `frame.insert` many times, which has poor performance.  Consider joining all columns at once using pd.concat(axis=1) instead. To get a de-fragmented frame, use `newframe = frame.copy()`\n",
      "  lasso_df[var_name] = lasso_reg.coef_\n",
      "<ipython-input-22-7669e401bc95>:19: FutureWarning: In a future version of pandas all arguments of NDFrame.rename_axis except for the argument 'mapper' will be keyword-only.\n",
      "  lasso_df = lasso_df.set_index('variable').T.rename_axis('estimate').rename_axis(None, True)\n"
     ]
    },
    {
     "ename": "AttributeError",
     "evalue": "'NoneType' object has no attribute 'RM'",
     "output_type": "error",
     "traceback": [
      "\u001B[0;31m---------------------------------------------------------------------------\u001B[0m",
      "\u001B[0;31mAttributeError\u001B[0m                            Traceback (most recent call last)",
      "\u001B[0;32m<ipython-input-22-7669e401bc95>\u001B[0m in \u001B[0;36m<module>\u001B[0;34m\u001B[0m\n\u001B[1;32m     20\u001B[0m \u001B[0;34m\u001B[0m\u001B[0m\n\u001B[1;32m     21\u001B[0m \u001B[0mfig\u001B[0m\u001B[0;34m,\u001B[0m \u001B[0max\u001B[0m \u001B[0;34m=\u001B[0m \u001B[0mplt\u001B[0m\u001B[0;34m.\u001B[0m\u001B[0msubplots\u001B[0m\u001B[0;34m(\u001B[0m\u001B[0mfigsize\u001B[0m\u001B[0;34m=\u001B[0m\u001B[0;34m(\u001B[0m\u001B[0;36m10\u001B[0m\u001B[0;34m,\u001B[0m \u001B[0;36m5\u001B[0m\u001B[0;34m)\u001B[0m\u001B[0;34m)\u001B[0m\u001B[0;34m\u001B[0m\u001B[0;34m\u001B[0m\u001B[0m\n\u001B[0;32m---> 22\u001B[0;31m \u001B[0max\u001B[0m\u001B[0;34m.\u001B[0m\u001B[0mplot\u001B[0m\u001B[0;34m(\u001B[0m\u001B[0mlasso_df\u001B[0m\u001B[0;34m.\u001B[0m\u001B[0mRM\u001B[0m\u001B[0;34m,\u001B[0m \u001B[0;34m'r'\u001B[0m\u001B[0;34m,\u001B[0m \u001B[0mlasso_df\u001B[0m\u001B[0;34m.\u001B[0m\u001B[0mZN\u001B[0m\u001B[0;34m,\u001B[0m \u001B[0;34m'g'\u001B[0m\u001B[0;34m,\u001B[0m \u001B[0mlasso_df\u001B[0m\u001B[0;34m.\u001B[0m\u001B[0mRAD\u001B[0m\u001B[0;34m,\u001B[0m \u001B[0;34m'b'\u001B[0m\u001B[0;34m,\u001B[0m \u001B[0mlasso_df\u001B[0m\u001B[0;34m.\u001B[0m\u001B[0mCRIM\u001B[0m\u001B[0;34m,\u001B[0m \u001B[0;34m'c'\u001B[0m\u001B[0;34m,\u001B[0m \u001B[0mlasso_df\u001B[0m\u001B[0;34m.\u001B[0m\u001B[0mTAX\u001B[0m\u001B[0;34m,\u001B[0m \u001B[0;34m'y'\u001B[0m\u001B[0;34m)\u001B[0m\u001B[0;34m\u001B[0m\u001B[0;34m\u001B[0m\u001B[0m\n\u001B[0m\u001B[1;32m     23\u001B[0m \u001B[0max\u001B[0m\u001B[0;34m.\u001B[0m\u001B[0mset_xlabel\u001B[0m\u001B[0;34m(\u001B[0m\u001B[0;34m\"Lambda\"\u001B[0m\u001B[0;34m)\u001B[0m\u001B[0;34m\u001B[0m\u001B[0;34m\u001B[0m\u001B[0m\n\u001B[1;32m     24\u001B[0m \u001B[0max\u001B[0m\u001B[0;34m.\u001B[0m\u001B[0mset_xticklabels\u001B[0m\u001B[0;34m(\u001B[0m\u001B[0mnp\u001B[0m\u001B[0;34m.\u001B[0m\u001B[0marange\u001B[0m\u001B[0;34m(\u001B[0m\u001B[0;34m-\u001B[0m\u001B[0;36m1\u001B[0m\u001B[0;34m,\u001B[0m \u001B[0;36m10\u001B[0m\u001B[0;34m,\u001B[0m \u001B[0;36m1\u001B[0m\u001B[0;34m)\u001B[0m\u001B[0;34m)\u001B[0m\u001B[0;34m\u001B[0m\u001B[0;34m\u001B[0m\u001B[0m\n",
      "\u001B[0;31mAttributeError\u001B[0m: 'NoneType' object has no attribute 'RM'"
     ]
    },
    {
     "data": {
      "text/plain": "<Figure size 720x360 with 1 Axes>",
      "image/png": "[encoded data removed]"
     },
     "metadata": {
      "needs_background": "light"
     },
     "output_type": "display_data"
    }
   ],
   "source": [
    "# initialize\n",
    "lasso_reg = Lasso(alpha=1)\n",
    "lasso_reg.fit(X_train, y_train)\n",
    "lasso_df = pd.DataFrame({'variable': california_house_price.feature_names, 'estimate': lasso_reg.coef_})\n",
    "lasso_train_pred = []\n",
    "lasso_test_pred = []\n",
    "\n",
    "alphas = np.arange(0.01, 8.01, 0.04)\n",
    "\n",
    "for alpha in alphas:\n",
    "    lasso_reg = Lasso(alpha=alpha)\n",
    "    lasso_reg.fit(X_train, y_train)\n",
    "    var_name = 'estimate' + str(alpha)\n",
    "    lasso_df[var_name] = lasso_reg.coef_\n",
    "    # prediction\n",
    "    lasso_train_pred.append(lasso_reg.predict(X_train))\n",
    "    lasso_test_pred.append(lasso_reg.predict(X_test))\n",
    "\n",
    "lasso_df = lasso_df.set_index('variable').T.rename_axis('estimate').rename_axis(None, True)\n",
    "\n",
    "fig, ax = plt.subplots(figsize=(10, 5))\n",
    "ax.plot(lasso_df.RM, 'r', lasso_df.ZN, 'g', lasso_df.RAD, 'b', lasso_df.CRIM, 'c', lasso_df.TAX, 'y')\n",
    "ax.set_xlabel(\"Lambda\")\n",
    "ax.set_xticklabels(np.arange(-1, 10, 1))\n",
    "ax.set_ylabel(\"Beta Estimate\")\n",
    "ax.set_title(\"Lasso Regression Trace\", fontsize=16)\n",
    "ax.legend(labels=['Room','Residential Zone','Highway Access','Crime Rate','Tax'])\n",
    "ax.grid(True)"
   ]
  },
  {
   "cell_type": "markdown",
   "metadata": {},
   "source": [
    "Unlike Ridge Regression, the $\\beta$'s hit zero, which means some features get cast out after a certain point. Recalling the equation, This is why Lasso Regression has an advantage in feature selection. As with Ridge Regression, \"Room\" survives longer than others and \"Tax\" becomes null almost upon the iteration.\n",
    "\n",
    "------"
   ]
  },
  {
   "cell_type": "markdown",
   "metadata": {},
   "source": [
    "#### - Analysis\n",
    "We started with the main idea of *Bias vs. Variance*. The core of this is to see how a model gets overfitted or underfitted as the model becomes more or less complex. We can experiment these by observing [R-squared](https://en.wikipedia.org/wiki/Coefficient_of_determination) and [Mean Squared Error](https://en.wikipedia.org/wiki/Mean_squared_error). Controlling a model complexity should be done by adding or removing variables, but we can do the job simply by changing lambdas for Ridge and Lasso Regression, which is already done above. This is fair because the lambda makes the models more complex or less, and this is what these models are designed for."
   ]
  },
  {
   "cell_type": "code",
   "execution_count": 23,
   "metadata": {
    "scrolled": true
   },
   "outputs": [
    {
     "data": {
      "text/plain": "Text(0.5, 0, 'Model Simplicity$\\\\longrightarrow$')"
     },
     "execution_count": 23,
     "metadata": {},
     "output_type": "execute_result"
    },
    {
     "data": {
      "text/plain": "<Figure size 720x720 with 4 Axes>",
      "image/png": "[encoded data removed]"
     },
     "metadata": {
      "needs_background": "light"
     },
     "output_type": "display_data"
    }
   ],
   "source": [
    "# R-squared of training set\n",
    "ridge_r_squared_train = [r2_score(y_train, p) for p in ridge_train_pred]\n",
    "lasso_r_squared_train = [r2_score(y_train, p) for p in lasso_train_pred]\n",
    "\n",
    "# R-squared of test set\n",
    "ridge_r_squared_test = [r2_score(y_test, p) for p in ridge_test_pred]\n",
    "lasso_r_squared_test = [r2_score(y_test, p) for p in lasso_test_pred]\n",
    "\n",
    "# ols for benchmark\n",
    "ols_r_squared = r2_score(y_test, ols_pred)\n",
    "\n",
    "# plot R-squared of training and test\n",
    "fig, axes = plt.subplots(2, 2, figsize=(10, 10))\n",
    "plt.rcParams['axes.grid'] = True\n",
    "\n",
    "# training set and test set together\n",
    "axes[0,0].plot(ridge_r_squared_train, 'b', ridge_r_squared_test, 'r')\n",
    "axes[0,0].set_title(\"Ridge Regression R-squared\", fontsize=16)\n",
    "axes[0,0].set_ylabel(\"R-squared\")\n",
    "\n",
    "axes[0,1].plot(lasso_r_squared_train, 'b', lasso_r_squared_test, 'r')\n",
    "axes[0,1].set_title(\"Lasso Regression R-squared\", fontsize=16)\n",
    "\n",
    "# test set curve\n",
    "axes[1,0].plot(ridge_r_squared_test[:25], 'ro')\n",
    "axes[1,0].axhline(y=ols_r_squared, color='g', linestyle='--')\n",
    "axes[1,0].set_title(\"Ridge Test Set Zoom-in\", fontsize=16)\n",
    "axes[1,0].set_xlabel(\"Model Simplicity$\\longrightarrow$\")\n",
    "axes[1,0].set_ylabel(\"R-squared\")\n",
    "\n",
    "axes[1,1].plot(lasso_r_squared_test[:25], 'ro')\n",
    "axes[1,1].axhline(y=ols_r_squared, color='g', linestyle='--')\n",
    "axes[1,1].set_title(\"Lasso Test Set Zoom-in\", fontsize=16)\n",
    "axes[1,1].set_xlabel(\"Model Simplicity$\\longrightarrow$\")"
   ]
  },
  {
   "cell_type": "markdown",
   "metadata": {},
   "source": [
    "We see the R-squared of test set is located below the R-squared of training set for both the regression. This is natural because the training set R-squared is calculated based on itself while the test set R-squared is based on the model made from training set.\n",
    "\n",
    "Another point is that the training set R-squared constantly declines as the model gets simpler. Understanding it reversely, we know that training set R-squared should increase as we add more variables, which is called *overfitting*. From the bottome plots, however, it seems like the test set R-squared improves as the model becomes simpler. Recalling the definition of overfitting, a simpler model is good for new observations, the test set here.\n",
    "\n",
    "------"
   ]
  },
  {
   "cell_type": "code",
   "execution_count": 24,
   "metadata": {},
   "outputs": [
    {
     "data": {
      "text/plain": "Text(0.5, 0, 'Model Simplicity$\\\\longrightarrow$')"
     },
     "execution_count": 24,
     "metadata": {},
     "output_type": "execute_result"
    },
    {
     "data": {
      "text/plain": "<Figure size 720x720 with 4 Axes>",
      "image/png": "[encoded data removed]"
     },
     "metadata": {
      "needs_background": "light"
     },
     "output_type": "display_data"
    }
   ],
   "source": [
    "# MSE of training set\n",
    "ridge_mse_train = [mean_squared_error(y_train, p) for p in ridge_train_pred]\n",
    "lasso_mse_train = [mean_squared_error(y_train, p) for p in lasso_train_pred]\n",
    "\n",
    "# MSE of test set\n",
    "ridge_mse_test = [mean_squared_error(y_test, p) for p in ridge_test_pred]\n",
    "lasso_mse_test = [mean_squared_error(y_test, p) for p in lasso_test_pred]\n",
    "\n",
    "# ols mse for benchmark\n",
    "ols_mse = mean_squared_error(y_test, ols_pred)\n",
    "\n",
    "# plot MSE of training and test\n",
    "fig, axes = plt.subplots(2, 2, figsize=(10, 10))\n",
    "plt.rcParams['axes.grid'] = True\n",
    "\n",
    "# training set and test set together\n",
    "axes[0,0].plot(ridge_mse_train, 'b', ridge_mse_test, 'r')\n",
    "axes[0,0].set_title(\"Ridge Regression MSE\", fontsize=16)\n",
    "axes[0,0].set_ylabel(\"MSE\")\n",
    "\n",
    "axes[0,1].plot(lasso_mse_train, 'b', lasso_mse_test, 'r')\n",
    "axes[0,1].set_title(\"Lasso Regression MSE\", fontsize=16)\n",
    "\n",
    "# test set curve\n",
    "axes[1,0].plot(ridge_mse_test[:25], 'ro')\n",
    "axes[1,0].axhline(y=ols_mse, color='g', linestyle='--')\n",
    "axes[1,0].set_title(\"Ridge Test Set MSE\", fontsize=16)\n",
    "axes[1,0].set_xlabel(\"Model Simplicity$\\longrightarrow$\")\n",
    "axes[1,0].set_ylabel(\"MSE\")\n",
    "\n",
    "axes[1,1].plot(lasso_mse_test[:25], 'ro')\n",
    "axes[1,1].axhline(y=ols_mse, color='g', linestyle='--')\n",
    "axes[1,1].set_title(\"Lasso Test Set MSE\", fontsize=16)\n",
    "axes[1,1].set_xlabel(\"Model Simplicity$\\longrightarrow$\")"
   ]
  },
  {
   "cell_type": "markdown",
   "metadata": {},
   "source": [
    "These plots can be explained in the same way of the R-squared plots, but in the opposite direction. MSE is one of indicators to measure errors. As we see, the test set MSE has the lowest point. In the next, we will find the lambda for this lowest point. Note that the lambda to be found won't not be the point on the plot above, because we are not trying for a test set specific lambda. We will find the lambda for a general model, but it would be similar with the lambda seen on the bottom plot.\n",
    "\n",
    "------"
   ]
  },
  {
   "cell_type": "markdown",
   "metadata": {},
   "source": [
    "### Finding Best Fit Lambda\n",
    "Since we now understand how it works, it would be wise to use libraries already built. We can think of *GridSearchCV*, judging from the pattern of problem that we should change values for a certain parameter, lambda here. In addition, there is another library called *RidgeCV* and *LassoCV*. From their names, they basically do the same job to loop through values and find the optimal value."
   ]
  },
  {
   "cell_type": "markdown",
   "metadata": {},
   "source": [
    "#### - GridSearchCV"
   ]
  },
  {
   "cell_type": "code",
   "execution_count": 25,
   "metadata": {},
   "outputs": [],
   "source": [
    "from sklearn.model_selection import GridSearchCV"
   ]
  },
  {
   "cell_type": "code",
   "execution_count": 26,
   "metadata": {},
   "outputs": [
    {
     "name": "stdout",
     "output_type": "stream",
     "text": [
      "OLS R-squared: 0.5913\n",
      "OLS MSE: 0.554\n"
     ]
    }
   ],
   "source": [
    "# ols for comparison\n",
    "print(\"OLS R-squared:\", round(ols_r_squared, 4))\n",
    "print(\"OLS MSE:\", round(ols_mse, 4))"
   ]
  },
  {
   "cell_type": "code",
   "execution_count": 27,
   "metadata": {},
   "outputs": [
    {
     "name": "stdout",
     "output_type": "stream",
     "text": [
      "Ridge(alpha=9.99)\n",
      "\n",
      "R-Squared: 0.5916\n",
      "MSE: 0.5537\n"
     ]
    }
   ],
   "source": [
    "# parameter setup\n",
    "param = {'alpha': np.arange(0.01, 10, 0.01)}\n",
    "\n",
    "ridge_reg_grid = GridSearchCV(Ridge(), param)\n",
    "ridge_reg_grid.fit(X_train, y_train)\n",
    "ridge_grid_pred = ridge_reg_grid.predict(X_test)\n",
    "\n",
    "print(ridge_reg_grid.best_estimator_)\n",
    "print(\"\\nR-Squared:\", round(r2_score(y_test, ridge_grid_pred), 4))\n",
    "print(\"MSE:\", round(mean_squared_error(y_test, ridge_grid_pred), 4))"
   ]
  },
  {
   "cell_type": "code",
   "execution_count": 13,
   "metadata": {
    "scrolled": true
   },
   "outputs": [
    {
     "name": "stdout",
     "output_type": "stream",
     "text": [
      "Lasso(alpha=0.02, copy_X=True, fit_intercept=True, max_iter=1000,\n",
      "   normalize=False, positive=False, precompute=False, random_state=None,\n",
      "   selection='cyclic', tol=0.0001, warm_start=False)\n",
      "\n",
      "R-Squared: 0.7005\n",
      "MSE: 29.2387\n"
     ]
    }
   ],
   "source": [
    "lasso_reg_grid = GridSearchCV(Lasso(), param)\n",
    "lasso_reg_grid.fit(X_train, y_train)\n",
    "lasso_grid_pred = lasso_reg_grid.predict(X_test)\n",
    "\n",
    "print(lasso_reg_grid.best_estimator_)\n",
    "print(\"\\nR-Squared:\", round(r2_score(y_test, lasso_grid_pred), 4))\n",
    "print(\"MSE:\", round(mean_squared_error(y_test, lasso_grid_pred), 4))"
   ]
  },
  {
   "cell_type": "markdown",
   "metadata": {},
   "source": [
    "------"
   ]
  },
  {
   "cell_type": "markdown",
   "metadata": {},
   "source": [
    "#### - RidgeCV with Visualization"
   ]
  },
  {
   "cell_type": "code",
   "execution_count": 29,
   "metadata": {},
   "outputs": [],
   "source": [
    "from sklearn.linear_model import RidgeCV\n",
    "from yellowbrick.regressor import AlphaSelection # visualization"
   ]
  },
  {
   "cell_type": "code",
   "execution_count": 30,
   "metadata": {},
   "outputs": [
    {
     "ename": "YellowbrickValueError",
     "evalue": "could not find errors param on RidgeCV estimator",
     "output_type": "error",
     "traceback": [
      "\u001B[0;31m---------------------------------------------------------------------------\u001B[0m",
      "\u001B[0;31mYellowbrickValueError\u001B[0m                     Traceback (most recent call last)",
      "\u001B[0;32m<ipython-input-30-6be8bab4ef7e>\u001B[0m in \u001B[0;36m<module>\u001B[0;34m\u001B[0m\n\u001B[1;32m      4\u001B[0m \u001B[0mvisualizer\u001B[0m \u001B[0;34m=\u001B[0m \u001B[0mAlphaSelection\u001B[0m\u001B[0;34m(\u001B[0m\u001B[0mridgeCV_reg\u001B[0m\u001B[0;34m)\u001B[0m\u001B[0;34m\u001B[0m\u001B[0;34m\u001B[0m\u001B[0m\n\u001B[1;32m      5\u001B[0m \u001B[0;34m\u001B[0m\u001B[0m\n\u001B[0;32m----> 6\u001B[0;31m \u001B[0mvisualizer\u001B[0m\u001B[0;34m.\u001B[0m\u001B[0mfit\u001B[0m\u001B[0;34m(\u001B[0m\u001B[0mX_train\u001B[0m\u001B[0;34m,\u001B[0m \u001B[0my_train\u001B[0m\u001B[0;34m)\u001B[0m\u001B[0;34m\u001B[0m\u001B[0;34m\u001B[0m\u001B[0m\n\u001B[0m\u001B[1;32m      7\u001B[0m \u001B[0mg\u001B[0m \u001B[0;34m=\u001B[0m \u001B[0mvisualizer\u001B[0m\u001B[0;34m.\u001B[0m\u001B[0mpoof\u001B[0m\u001B[0;34m(\u001B[0m\u001B[0;34m)\u001B[0m\u001B[0;34m\u001B[0m\u001B[0;34m\u001B[0m\u001B[0m\n\u001B[1;32m      8\u001B[0m \u001B[0;34m\u001B[0m\u001B[0m\n",
      "\u001B[0;32m~/.pyenv/versions/env3.10.8/lib/python3.10/site-packages/yellowbrick/regressor/alphas.py\u001B[0m in \u001B[0;36mfit\u001B[0;34m(self, X, y, **kwargs)\u001B[0m\n\u001B[1;32m    144\u001B[0m \u001B[0;34m\u001B[0m\u001B[0m\n\u001B[1;32m    145\u001B[0m         \u001B[0;31m# Draw the alpha to error curve\u001B[0m\u001B[0;34m\u001B[0m\u001B[0;34m\u001B[0m\u001B[0m\n\u001B[0;32m--> 146\u001B[0;31m         \u001B[0mself\u001B[0m\u001B[0;34m.\u001B[0m\u001B[0mdraw\u001B[0m\u001B[0;34m(\u001B[0m\u001B[0;34m)\u001B[0m\u001B[0;34m\u001B[0m\u001B[0;34m\u001B[0m\u001B[0m\n\u001B[0m\u001B[1;32m    147\u001B[0m         \u001B[0;32mreturn\u001B[0m \u001B[0mself\u001B[0m\u001B[0;34m\u001B[0m\u001B[0;34m\u001B[0m\u001B[0m\n\u001B[1;32m    148\u001B[0m \u001B[0;34m\u001B[0m\u001B[0m\n",
      "\u001B[0;32m~/.pyenv/versions/env3.10.8/lib/python3.10/site-packages/yellowbrick/regressor/alphas.py\u001B[0m in \u001B[0;36mdraw\u001B[0;34m(self)\u001B[0m\n\u001B[1;32m    153\u001B[0m         \u001B[0;31m# Search for the correct parameters on the estimator.\u001B[0m\u001B[0;34m\u001B[0m\u001B[0;34m\u001B[0m\u001B[0m\n\u001B[1;32m    154\u001B[0m         \u001B[0malphas\u001B[0m \u001B[0;34m=\u001B[0m \u001B[0mself\u001B[0m\u001B[0;34m.\u001B[0m\u001B[0m_find_alphas_param\u001B[0m\u001B[0;34m(\u001B[0m\u001B[0;34m)\u001B[0m\u001B[0;34m\u001B[0m\u001B[0;34m\u001B[0m\u001B[0m\n\u001B[0;32m--> 155\u001B[0;31m         \u001B[0merrors\u001B[0m \u001B[0;34m=\u001B[0m \u001B[0mself\u001B[0m\u001B[0;34m.\u001B[0m\u001B[0m_find_errors_param\u001B[0m\u001B[0;34m(\u001B[0m\u001B[0;34m)\u001B[0m\u001B[0;34m\u001B[0m\u001B[0;34m\u001B[0m\u001B[0m\n\u001B[0m\u001B[1;32m    156\u001B[0m \u001B[0;34m\u001B[0m\u001B[0m\n\u001B[1;32m    157\u001B[0m         \u001B[0malpha\u001B[0m \u001B[0;34m=\u001B[0m \u001B[0mself\u001B[0m\u001B[0;34m.\u001B[0m\u001B[0mestimator\u001B[0m\u001B[0;34m.\u001B[0m\u001B[0malpha_\u001B[0m  \u001B[0;31m# Get decision from the estimator\u001B[0m\u001B[0;34m\u001B[0m\u001B[0;34m\u001B[0m\u001B[0m\n",
      "\u001B[0;32m~/.pyenv/versions/env3.10.8/lib/python3.10/site-packages/yellowbrick/regressor/alphas.py\u001B[0m in \u001B[0;36m_find_errors_param\u001B[0;34m(self)\u001B[0m\n\u001B[1;32m    216\u001B[0m             \u001B[0;32mreturn\u001B[0m \u001B[0mself\u001B[0m\u001B[0;34m.\u001B[0m\u001B[0mestimator\u001B[0m\u001B[0;34m.\u001B[0m\u001B[0mcv_values_\u001B[0m\u001B[0;34m.\u001B[0m\u001B[0mmean\u001B[0m\u001B[0;34m(\u001B[0m\u001B[0;36m0\u001B[0m\u001B[0;34m)\u001B[0m\u001B[0;34m\u001B[0m\u001B[0;34m\u001B[0m\u001B[0m\n\u001B[1;32m    217\u001B[0m \u001B[0;34m\u001B[0m\u001B[0m\n\u001B[0;32m--> 218\u001B[0;31m         raise YellowbrickValueError(\n\u001B[0m\u001B[1;32m    219\u001B[0m             \"could not find errors param on {} estimator\".format(\n\u001B[1;32m    220\u001B[0m                 \u001B[0mself\u001B[0m\u001B[0;34m.\u001B[0m\u001B[0mestimator\u001B[0m\u001B[0;34m.\u001B[0m\u001B[0m__class__\u001B[0m\u001B[0;34m.\u001B[0m\u001B[0m__name__\u001B[0m\u001B[0;34m\u001B[0m\u001B[0;34m\u001B[0m\u001B[0m\n",
      "\u001B[0;31mYellowbrickValueError\u001B[0m: could not find errors param on RidgeCV estimator"
     ]
    }
   ],
   "source": [
    "alphas=np.arange(0.01, 10, 0.01)\n",
    "ridgeCV_reg = RidgeCV(alphas=alphas)\n",
    "ridgeCV_reg.fit(X_train, y_train)\n",
    "visualizer = AlphaSelection(ridgeCV_reg)\n",
    "\n",
    "visualizer.fit(X_train, y_train)\n",
    "g = visualizer.poof()\n",
    "\n",
    "ridgeCV_pred = ridgeCV_reg.predict(X_test)\n",
    "print(\"R-squared:\", round(r2_score(y_test, ridgeCV_pred), 4))"
   ]
  },
  {
   "cell_type": "markdown",
   "metadata": {},
   "source": [
    "Even if R-squared is virtually the same with the one we found through *GridSearchCV*, the lambda is slightly different because the setup of *RidgeCV* is different. The detail can be found at the *sklearn* website.\n",
    "\n",
    "------"
   ]
  },
  {
   "cell_type": "markdown",
   "source": [
    "### Reference\n",
    "* Overview and Math: [Penn State Stat Class](https://onlinecourses.science.psu.edu/stat857/node/158/)\n",
    "* Linear vs. Ridge Image: [IPython Cookbook](https://ipython-books.github.io/81-getting-started-with-scikit-learn/)\n",
    "* Linear Models: [sklearn Generalized Linear Models](http://scikit-learn.org/stable/modules/linear_model.html)\n",
    "* RidgeCV and LassoCV: [sklearn RidgeCV](http://scikit-learn.org/stable/modules/generated/sklearn.linear_model.RidgeCV.html)\n",
    "* Grid Search Closs Validation: [sklearn GridSearchCV](http://scikit-learn.org/stable/modules/generated/sklearn.model_selection.GridSearchCV.html)\n",
    "* Alpha Selection: [scikit yellowbrick](http://www.scikit-yb.org/en/latest/api/regressor/alphas.html)\n",
    "* Other: [Derek Kane's Lecture Note](https://github.com/DerekKane/YouTube-Tutorials/blob/master/Presentation%20PDF/12.%20Ridge%20Regression%2C%20LASSO%2C%20and%20Elastic%20Nets.pdf)"
   ],
   "metadata": {
    "collapsed": false
   }
  }
 ],
 "metadata": {
  "kernelspec": {
   "display_name": "Python 3",
   "language": "python",
   "name": "python3"
  },
  "language_info": {
   "codemirror_mode": {
    "name": "ipython",
    "version": 3
   },
   "file_extension": ".py",
   "mimetype": "text/x-python",
   "name": "python",
   "nbconvert_exporter": "python",
   "pygments_lexer": "ipython3",
   "version": "3.6.3"
  }
 },
 "nbformat": 4,
 "nbformat_minor": 2
}
