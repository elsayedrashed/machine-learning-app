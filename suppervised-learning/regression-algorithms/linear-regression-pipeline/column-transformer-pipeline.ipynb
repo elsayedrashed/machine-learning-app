{
 "cells": [
  {
   "cell_type": "code",
   "execution_count": 1,
   "id": "df8fc26b",
   "metadata": {},
   "outputs": [],
   "source": [
    "import pandas as pd\n",
    "import numpy as np\n",
    "import warnings\n",
    "warnings.filterwarnings(\"ignore\")"
   ]
  },
  {
   "cell_type": "code",
   "execution_count": 5,
   "id": "010e01f0",
   "metadata": {},
   "outputs": [],
   "source": [
    "df_dataset = pd.read_csv(\"../../../data/aug-train.csv\")"
   ]
  },
  {
   "cell_type": "code",
   "execution_count": 6,
   "id": "cfe3d33b",
   "metadata": {},
   "outputs": [
    {
     "data": {
      "text/plain": "   enrollee_id      city  city_development_index gender  \\\n0         8949  city_103                   0.920   Male   \n1        29725   city_40                   0.776   Male   \n2        11561   city_21                   0.624    NaN   \n3        33241  city_115                   0.789    NaN   \n4          666  city_162                   0.767   Male   \n\n       relevent_experience enrolled_university education_level  \\\n0  Has relevent experience       no_enrollment        Graduate   \n1   No relevent experience       no_enrollment        Graduate   \n2   No relevent experience    Full time course        Graduate   \n3   No relevent experience                 NaN        Graduate   \n4  Has relevent experience       no_enrollment         Masters   \n\n  major_discipline experience company_size    company_type last_new_job  \\\n0             STEM        >20          NaN             NaN            1   \n1             STEM         15        50-99         Pvt Ltd           >4   \n2             STEM          5          NaN             NaN        never   \n3  Business Degree         <1          NaN         Pvt Ltd        never   \n4             STEM        >20        50-99  Funded Startup            4   \n\n   training_hours  target  \n0              36     1.0  \n1              47     0.0  \n2              83     0.0  \n3              52     1.0  \n4               8     0.0  ",
      "text/html": "<div>\n<style scoped>\n    .dataframe tbody tr th:only-of-type {\n        vertical-align: middle;\n    }\n\n    .dataframe tbody tr th {\n        vertical-align: top;\n    }\n\n    .dataframe thead th {\n        text-align: right;\n    }\n</style>\n<table border=\"1\" class=\"dataframe\">\n  <thead>\n    <tr style=\"text-align: right;\">\n      <th></th>\n      <th>enrollee_id</th>\n      <th>city</th>\n      <th>city_development_index</th>\n      <th>gender</th>\n      <th>relevent_experience</th>\n      <th>enrolled_university</th>\n      <th>education_level</th>\n      <th>major_discipline</th>\n      <th>experience</th>\n      <th>company_size</th>\n      <th>company_type</th>\n      <th>last_new_job</th>\n      <th>training_hours</th>\n      <th>target</th>\n    </tr>\n  </thead>\n  <tbody>\n    <tr>\n      <th>0</th>\n      <td>8949</td>\n      <td>city_103</td>\n      <td>0.920</td>\n      <td>Male</td>\n      <td>Has relevent experience</td>\n      <td>no_enrollment</td>\n      <td>Graduate</td>\n      <td>STEM</td>\n      <td>&gt;20</td>\n      <td>NaN</td>\n      <td>NaN</td>\n      <td>1</td>\n      <td>36</td>\n      <td>1.0</td>\n    </tr>\n    <tr>\n      <th>1</th>\n      <td>29725</td>\n      <td>city_40</td>\n      <td>0.776</td>\n      <td>Male</td>\n      <td>No relevent experience</td>\n      <td>no_enrollment</td>\n      <td>Graduate</td>\n      <td>STEM</td>\n      <td>15</td>\n      <td>50-99</td>\n      <td>Pvt Ltd</td>\n      <td>&gt;4</td>\n      <td>47</td>\n      <td>0.0</td>\n    </tr>\n    <tr>\n      <th>2</th>\n      <td>11561</td>\n      <td>city_21</td>\n      <td>0.624</td>\n      <td>NaN</td>\n      <td>No relevent experience</td>\n      <td>Full time course</td>\n      <td>Graduate</td>\n      <td>STEM</td>\n      <td>5</td>\n      <td>NaN</td>\n      <td>NaN</td>\n      <td>never</td>\n      <td>83</td>\n      <td>0.0</td>\n    </tr>\n    <tr>\n      <th>3</th>\n      <td>33241</td>\n      <td>city_115</td>\n      <td>0.789</td>\n      <td>NaN</td>\n      <td>No relevent experience</td>\n      <td>NaN</td>\n      <td>Graduate</td>\n      <td>Business Degree</td>\n      <td>&lt;1</td>\n      <td>NaN</td>\n      <td>Pvt Ltd</td>\n      <td>never</td>\n      <td>52</td>\n      <td>1.0</td>\n    </tr>\n    <tr>\n      <th>4</th>\n      <td>666</td>\n      <td>city_162</td>\n      <td>0.767</td>\n      <td>Male</td>\n      <td>Has relevent experience</td>\n      <td>no_enrollment</td>\n      <td>Masters</td>\n      <td>STEM</td>\n      <td>&gt;20</td>\n      <td>50-99</td>\n      <td>Funded Startup</td>\n      <td>4</td>\n      <td>8</td>\n      <td>0.0</td>\n    </tr>\n  </tbody>\n</table>\n</div>"
     },
     "execution_count": 6,
     "metadata": {},
     "output_type": "execute_result"
    }
   ],
   "source": [
    "df_dataset.head()"
   ]
  },
  {
   "cell_type": "code",
   "execution_count": 8,
   "id": "2aba8db5",
   "metadata": {},
   "outputs": [],
   "source": [
    "# Encode ordinal feature using mapping to transform categorical features into numarical features\n",
    "# Making Dictionaries of ordinal features\n",
    "relevent_experience_map = {\n",
    "    'Has relevent experience':  1,\n",
    "    'No relevent experience':    0\n",
    "}\n",
    "\n",
    "experience_map = {\n",
    "    '<1'      :    0,\n",
    "    '1'       :    1, \n",
    "    '2'       :    2, \n",
    "    '3'       :    3, \n",
    "    '4'       :    4, \n",
    "    '5'       :    5,\n",
    "    '6'       :    6,\n",
    "    '7'       :    7,\n",
    "    '8'       :    8, \n",
    "    '9'       :    9, \n",
    "    '10'      :    10, \n",
    "    '11'      :    11,\n",
    "    '12'      :    12,\n",
    "    '13'      :    13, \n",
    "    '14'      :    14, \n",
    "    '15'      :    15, \n",
    "    '16'      :    16,\n",
    "    '17'      :    17,\n",
    "    '18'      :    18,\n",
    "    '19'      :    19, \n",
    "    '20'      :    20, \n",
    "    '>20'     :    21\n",
    "} \n",
    "    \n",
    "last_new_job_map = {\n",
    "    'never'        :    0,\n",
    "    '1'            :    1, \n",
    "    '2'            :    2, \n",
    "    '3'            :    3, \n",
    "    '4'            :    4, \n",
    "    '>4'           :    5\n",
    "}"
   ]
  },
  {
   "cell_type": "code",
   "execution_count": 9,
   "id": "59fdfc5d",
   "metadata": {},
   "outputs": [],
   "source": [
    "# Transform categorical features into numarical features\n",
    "def encode(df_pre):\n",
    "    df_pre.loc[:,'relevent_experience'] = df_pre['relevent_experience'].map(relevent_experience_map)\n",
    "    df_pre.loc[:,'last_new_job'] = df_pre['last_new_job'].map(last_new_job_map)\n",
    "    df_pre.loc[:,'experience'] = df_pre['experience'].map(experience_map)\n",
    "    '''\n",
    "    #encoding city feature using label encoder\n",
    "    lb_en = LabelEncoder()\n",
    "\n",
    "    df_pre.loc[:,'city'] = lb_en.fit_transform(df_pre.loc[:,'city']) \n",
    "    '''\n",
    "    return df_pre\n",
    "\n",
    "df = encode(df_dataset)"
   ]
  },
  {
   "cell_type": "markdown",
   "id": "fda7dd2e",
   "metadata": {},
   "source": [
    "# Basic Pipeline"
   ]
  },
  {
   "cell_type": "code",
   "execution_count": 11,
   "outputs": [
    {
     "data": {
      "text/plain": "   enrollee_id      city  city_development_index gender  relevent_experience  \\\n0         8949  city_103                   0.920   Male                    1   \n1        29725   city_40                   0.776   Male                    0   \n2        11561   city_21                   0.624    NaN                    0   \n3        33241  city_115                   0.789    NaN                    0   \n4          666  city_162                   0.767   Male                    1   \n\n  enrolled_university education_level major_discipline  experience  \\\n0       no_enrollment        Graduate             STEM        21.0   \n1       no_enrollment        Graduate             STEM        15.0   \n2    Full time course        Graduate             STEM         5.0   \n3                 NaN        Graduate  Business Degree         0.0   \n4       no_enrollment         Masters             STEM        21.0   \n\n  company_size    company_type  last_new_job  training_hours  target  \n0          NaN             NaN           1.0              36     1.0  \n1        50-99         Pvt Ltd           5.0              47     0.0  \n2          NaN             NaN           0.0              83     0.0  \n3          NaN         Pvt Ltd           0.0              52     1.0  \n4        50-99  Funded Startup           4.0               8     0.0  ",
      "text/html": "<div>\n<style scoped>\n    .dataframe tbody tr th:only-of-type {\n        vertical-align: middle;\n    }\n\n    .dataframe tbody tr th {\n        vertical-align: top;\n    }\n\n    .dataframe thead th {\n        text-align: right;\n    }\n</style>\n<table border=\"1\" class=\"dataframe\">\n  <thead>\n    <tr style=\"text-align: right;\">\n      <th></th>\n      <th>enrollee_id</th>\n      <th>city</th>\n      <th>city_development_index</th>\n      <th>gender</th>\n      <th>relevent_experience</th>\n      <th>enrolled_university</th>\n      <th>education_level</th>\n      <th>major_discipline</th>\n      <th>experience</th>\n      <th>company_size</th>\n      <th>company_type</th>\n      <th>last_new_job</th>\n      <th>training_hours</th>\n      <th>target</th>\n    </tr>\n  </thead>\n  <tbody>\n    <tr>\n      <th>0</th>\n      <td>8949</td>\n      <td>city_103</td>\n      <td>0.920</td>\n      <td>Male</td>\n      <td>1</td>\n      <td>no_enrollment</td>\n      <td>Graduate</td>\n      <td>STEM</td>\n      <td>21.0</td>\n      <td>NaN</td>\n      <td>NaN</td>\n      <td>1.0</td>\n      <td>36</td>\n      <td>1.0</td>\n    </tr>\n    <tr>\n      <th>1</th>\n      <td>29725</td>\n      <td>city_40</td>\n      <td>0.776</td>\n      <td>Male</td>\n      <td>0</td>\n      <td>no_enrollment</td>\n      <td>Graduate</td>\n      <td>STEM</td>\n      <td>15.0</td>\n      <td>50-99</td>\n      <td>Pvt Ltd</td>\n      <td>5.0</td>\n      <td>47</td>\n      <td>0.0</td>\n    </tr>\n    <tr>\n      <th>2</th>\n      <td>11561</td>\n      <td>city_21</td>\n      <td>0.624</td>\n      <td>NaN</td>\n      <td>0</td>\n      <td>Full time course</td>\n      <td>Graduate</td>\n      <td>STEM</td>\n      <td>5.0</td>\n      <td>NaN</td>\n      <td>NaN</td>\n      <td>0.0</td>\n      <td>83</td>\n      <td>0.0</td>\n    </tr>\n    <tr>\n      <th>3</th>\n      <td>33241</td>\n      <td>city_115</td>\n      <td>0.789</td>\n      <td>NaN</td>\n      <td>0</td>\n      <td>NaN</td>\n      <td>Graduate</td>\n      <td>Business Degree</td>\n      <td>0.0</td>\n      <td>NaN</td>\n      <td>Pvt Ltd</td>\n      <td>0.0</td>\n      <td>52</td>\n      <td>1.0</td>\n    </tr>\n    <tr>\n      <th>4</th>\n      <td>666</td>\n      <td>city_162</td>\n      <td>0.767</td>\n      <td>Male</td>\n      <td>1</td>\n      <td>no_enrollment</td>\n      <td>Masters</td>\n      <td>STEM</td>\n      <td>21.0</td>\n      <td>50-99</td>\n      <td>Funded Startup</td>\n      <td>4.0</td>\n      <td>8</td>\n      <td>0.0</td>\n    </tr>\n  </tbody>\n</table>\n</div>"
     },
     "execution_count": 11,
     "metadata": {},
     "output_type": "execute_result"
    }
   ],
   "source": [
    "df.head()"
   ],
   "metadata": {
    "collapsed": false
   }
  },
  {
   "cell_type": "code",
   "execution_count": 12,
   "id": "a10d09df",
   "metadata": {},
   "outputs": [],
   "source": [
    "# sets of columns to be transformed in different ways\n",
    "num_cols = ['city_development_index','relevent_experience', 'experience','last_new_job', 'training_hours']\n",
    "cat_cols = ['gender', 'enrolled_university', 'education_level', 'major_discipline', 'company_size', 'company_type']"
   ]
  },
  {
   "cell_type": "code",
   "execution_count": 13,
   "id": "7830ff7e",
   "metadata": {},
   "outputs": [],
   "source": [
    "# Divide train and test sets\n",
    "from sklearn.model_selection import train_test_split\n",
    "\n",
    "X = df[num_cols+cat_cols]\n",
    "y = df['target']\n",
    "\n",
    "# train test split\n",
    "X_train, X_test, y_train, y_test = train_test_split(X, y, test_size=0.2, stratify=y)"
   ]
  },
  {
   "cell_type": "code",
   "execution_count": 24,
   "id": "7cf106fc",
   "metadata": {},
   "outputs": [],
   "source": [
    "# Create pipelines for numerical and categorical features\n",
    "\n",
    "from sklearn.impute import SimpleImputer\n",
    "from sklearn.preprocessing import OneHotEncoder\n",
    "from sklearn.preprocessing import MinMaxScaler\n",
    "from sklearn.pipeline import Pipeline\n",
    "\n",
    "num_pipeline = Pipeline(steps=[\n",
    "    ('impute', SimpleImputer(strategy='mean')),\n",
    "    ('scale',MinMaxScaler())\n",
    "])\n",
    "\n",
    "cat_pipeline = Pipeline(steps=[\n",
    "    ('impute', SimpleImputer(strategy='most_frequent')),\n",
    "    ('one-hot',OneHotEncoder(handle_unknown='ignore', sparse=False))\n",
    "])"
   ]
  },
  {
   "cell_type": "code",
   "execution_count": 25,
   "id": "7fdfa25c",
   "metadata": {},
   "outputs": [],
   "source": [
    "# Create ColumnTransformer to apply pipeline for each column type\n",
    "from sklearn.compose import ColumnTransformer\n",
    "\n",
    "col_trans = ColumnTransformer(transformers=[\n",
    "    ('num_pipeline',num_pipeline,num_cols),\n",
    "    ('cat_pipeline',cat_pipeline,cat_cols)\n",
    "    ],\n",
    "    remainder='drop',\n",
    "    n_jobs=-1)"
   ]
  },
  {
   "cell_type": "code",
   "execution_count": 26,
   "id": "523f7bc1",
   "metadata": {},
   "outputs": [],
   "source": [
    "# Add a model to a final pipeline\n",
    "from sklearn.linear_model import LogisticRegression\n",
    "\n",
    "clf = LogisticRegression(random_state=0)\n",
    "clf_pipeline = Pipeline(steps=[\n",
    "    ('col_trans', col_trans),\n",
    "    ('model', clf)\n",
    "])"
   ]
  },
  {
   "cell_type": "code",
   "execution_count": 27,
   "id": "73b1ba6d",
   "metadata": {},
   "outputs": [
    {
     "data": {
      "text/plain": "Pipeline(steps=[('col_trans',\n                 ColumnTransformer(n_jobs=-1,\n                                   transformers=[('num_pipeline',\n                                                  Pipeline(steps=[('impute',\n                                                                   SimpleImputer()),\n                                                                  ('scale',\n                                                                   MinMaxScaler())]),\n                                                  ['city_development_index',\n                                                   'relevent_experience',\n                                                   'experience', 'last_new_job',\n                                                   'training_hours']),\n                                                 ('cat_pipeline',\n                                                  Pipeline(steps=[('impute',\n                                                                   SimpleImputer(strategy='most_frequent')),\n                                                                  ('one-hot',\n                                                                   OneHotEncoder(handle_unknown='ignore',\n                                                                                 sparse=False))]),\n                                                  ['gender',\n                                                   'enrolled_university',\n                                                   'education_level',\n                                                   'major_discipline',\n                                                   'company_size',\n                                                   'company_type'])])),\n                ('model', LogisticRegression(random_state=0))])",
      "text/html": "<style>#sk-container-id-2 {color: black;background-color: white;}#sk-container-id-2 pre{padding: 0;}#sk-container-id-2 div.sk-toggleable {background-color: white;}#sk-container-id-2 label.sk-toggleable__label {cursor: pointer;display: block;width: 100%;margin-bottom: 0;padding: 0.3em;box-sizing: border-box;text-align: center;}#sk-container-id-2 label.sk-toggleable__label-arrow:before {content: \"▸\";float: left;margin-right: 0.25em;color: #696969;}#sk-container-id-2 label.sk-toggleable__label-arrow:hover:before {color: black;}#sk-container-id-2 div.sk-estimator:hover label.sk-toggleable__label-arrow:before {color: black;}#sk-container-id-2 div.sk-toggleable__content {max-height: 0;max-width: 0;overflow: hidden;text-align: left;background-color: #f0f8ff;}#sk-container-id-2 div.sk-toggleable__content pre {margin: 0.2em;color: black;border-radius: 0.25em;background-color: #f0f8ff;}#sk-container-id-2 input.sk-toggleable__control:checked~div.sk-toggleable__content {max-height: 200px;max-width: 100%;overflow: auto;}#sk-container-id-2 input.sk-toggleable__control:checked~label.sk-toggleable__label-arrow:before {content: \"▾\";}#sk-container-id-2 div.sk-estimator input.sk-toggleable__control:checked~label.sk-toggleable__label {background-color: #d4ebff;}#sk-container-id-2 div.sk-label input.sk-toggleable__control:checked~label.sk-toggleable__label {background-color: #d4ebff;}#sk-container-id-2 input.sk-hidden--visually {border: 0;clip: rect(1px 1px 1px 1px);clip: rect(1px, 1px, 1px, 1px);height: 1px;margin: -1px;overflow: hidden;padding: 0;position: absolute;width: 1px;}#sk-container-id-2 div.sk-estimator {font-family: monospace;background-color: #f0f8ff;border: 1px dotted black;border-radius: 0.25em;box-sizing: border-box;margin-bottom: 0.5em;}#sk-container-id-2 div.sk-estimator:hover {background-color: #d4ebff;}#sk-container-id-2 div.sk-parallel-item::after {content: \"\";width: 100%;border-bottom: 1px solid gray;flex-grow: 1;}#sk-container-id-2 div.sk-label:hover label.sk-toggleable__label {background-color: #d4ebff;}#sk-container-id-2 div.sk-serial::before {content: \"\";position: absolute;border-left: 1px solid gray;box-sizing: border-box;top: 0;bottom: 0;left: 50%;z-index: 0;}#sk-container-id-2 div.sk-serial {display: flex;flex-direction: column;align-items: center;background-color: white;padding-right: 0.2em;padding-left: 0.2em;position: relative;}#sk-container-id-2 div.sk-item {position: relative;z-index: 1;}#sk-container-id-2 div.sk-parallel {display: flex;align-items: stretch;justify-content: center;background-color: white;position: relative;}#sk-container-id-2 div.sk-item::before, #sk-container-id-2 div.sk-parallel-item::before {content: \"\";position: absolute;border-left: 1px solid gray;box-sizing: border-box;top: 0;bottom: 0;left: 50%;z-index: -1;}#sk-container-id-2 div.sk-parallel-item {display: flex;flex-direction: column;z-index: 1;position: relative;background-color: white;}#sk-container-id-2 div.sk-parallel-item:first-child::after {align-self: flex-end;width: 50%;}#sk-container-id-2 div.sk-parallel-item:last-child::after {align-self: flex-start;width: 50%;}#sk-container-id-2 div.sk-parallel-item:only-child::after {width: 0;}#sk-container-id-2 div.sk-dashed-wrapped {border: 1px dashed gray;margin: 0 0.4em 0.5em 0.4em;box-sizing: border-box;padding-bottom: 0.4em;background-color: white;}#sk-container-id-2 div.sk-label label {font-family: monospace;font-weight: bold;display: inline-block;line-height: 1.2em;}#sk-container-id-2 div.sk-label-container {text-align: center;}#sk-container-id-2 div.sk-container {/* jupyter's `normalize.less` sets `[hidden] { display: none; }` but bootstrap.min.css set `[hidden] { display: none !important; }` so we also need the `!important` here to be able to override the default hidden behavior on the sphinx rendered scikit-learn.org. See: https://github.com/scikit-learn/scikit-learn/issues/21755 */display: inline-block !important;position: relative;}#sk-container-id-2 div.sk-text-repr-fallback {display: none;}</style><div id=\"sk-container-id-2\" class=\"sk-top-container\"><div class=\"sk-text-repr-fallback\"><pre>Pipeline(steps=[(&#x27;col_trans&#x27;,\n                 ColumnTransformer(n_jobs=-1,\n                                   transformers=[(&#x27;num_pipeline&#x27;,\n                                                  Pipeline(steps=[(&#x27;impute&#x27;,\n                                                                   SimpleImputer()),\n                                                                  (&#x27;scale&#x27;,\n                                                                   MinMaxScaler())]),\n                                                  [&#x27;city_development_index&#x27;,\n                                                   &#x27;relevent_experience&#x27;,\n                                                   &#x27;experience&#x27;, &#x27;last_new_job&#x27;,\n                                                   &#x27;training_hours&#x27;]),\n                                                 (&#x27;cat_pipeline&#x27;,\n                                                  Pipeline(steps=[(&#x27;impute&#x27;,\n                                                                   SimpleImputer(strategy=&#x27;most_frequent&#x27;)),\n                                                                  (&#x27;one-hot&#x27;,\n                                                                   OneHotEncoder(handle_unknown=&#x27;ignore&#x27;,\n                                                                                 sparse=False))]),\n                                                  [&#x27;gender&#x27;,\n                                                   &#x27;enrolled_university&#x27;,\n                                                   &#x27;education_level&#x27;,\n                                                   &#x27;major_discipline&#x27;,\n                                                   &#x27;company_size&#x27;,\n                                                   &#x27;company_type&#x27;])])),\n                (&#x27;model&#x27;, LogisticRegression(random_state=0))])</pre><b>In a Jupyter environment, please rerun this cell to show the HTML representation or trust the notebook. <br />On GitHub, the HTML representation is unable to render, please try loading this page with nbviewer.org.</b></div><div class=\"sk-container\" hidden><div class=\"sk-item sk-dashed-wrapped\"><div class=\"sk-label-container\"><div class=\"sk-label sk-toggleable\"><input class=\"sk-toggleable__control sk-hidden--visually\" id=\"sk-estimator-id-10\" type=\"checkbox\" ><label for=\"sk-estimator-id-10\" class=\"sk-toggleable__label sk-toggleable__label-arrow\">Pipeline</label><div class=\"sk-toggleable__content\"><pre>Pipeline(steps=[(&#x27;col_trans&#x27;,\n                 ColumnTransformer(n_jobs=-1,\n                                   transformers=[(&#x27;num_pipeline&#x27;,\n                                                  Pipeline(steps=[(&#x27;impute&#x27;,\n                                                                   SimpleImputer()),\n                                                                  (&#x27;scale&#x27;,\n                                                                   MinMaxScaler())]),\n                                                  [&#x27;city_development_index&#x27;,\n                                                   &#x27;relevent_experience&#x27;,\n                                                   &#x27;experience&#x27;, &#x27;last_new_job&#x27;,\n                                                   &#x27;training_hours&#x27;]),\n                                                 (&#x27;cat_pipeline&#x27;,\n                                                  Pipeline(steps=[(&#x27;impute&#x27;,\n                                                                   SimpleImputer(strategy=&#x27;most_frequent&#x27;)),\n                                                                  (&#x27;one-hot&#x27;,\n                                                                   OneHotEncoder(handle_unknown=&#x27;ignore&#x27;,\n                                                                                 sparse=False))]),\n                                                  [&#x27;gender&#x27;,\n                                                   &#x27;enrolled_university&#x27;,\n                                                   &#x27;education_level&#x27;,\n                                                   &#x27;major_discipline&#x27;,\n                                                   &#x27;company_size&#x27;,\n                                                   &#x27;company_type&#x27;])])),\n                (&#x27;model&#x27;, LogisticRegression(random_state=0))])</pre></div></div></div><div class=\"sk-serial\"><div class=\"sk-item sk-dashed-wrapped\"><div class=\"sk-label-container\"><div class=\"sk-label sk-toggleable\"><input class=\"sk-toggleable__control sk-hidden--visually\" id=\"sk-estimator-id-11\" type=\"checkbox\" ><label for=\"sk-estimator-id-11\" class=\"sk-toggleable__label sk-toggleable__label-arrow\">col_trans: ColumnTransformer</label><div class=\"sk-toggleable__content\"><pre>ColumnTransformer(n_jobs=-1,\n                  transformers=[(&#x27;num_pipeline&#x27;,\n                                 Pipeline(steps=[(&#x27;impute&#x27;, SimpleImputer()),\n                                                 (&#x27;scale&#x27;, MinMaxScaler())]),\n                                 [&#x27;city_development_index&#x27;,\n                                  &#x27;relevent_experience&#x27;, &#x27;experience&#x27;,\n                                  &#x27;last_new_job&#x27;, &#x27;training_hours&#x27;]),\n                                (&#x27;cat_pipeline&#x27;,\n                                 Pipeline(steps=[(&#x27;impute&#x27;,\n                                                  SimpleImputer(strategy=&#x27;most_frequent&#x27;)),\n                                                 (&#x27;one-hot&#x27;,\n                                                  OneHotEncoder(handle_unknown=&#x27;ignore&#x27;,\n                                                                sparse=False))]),\n                                 [&#x27;gender&#x27;, &#x27;enrolled_university&#x27;,\n                                  &#x27;education_level&#x27;, &#x27;major_discipline&#x27;,\n                                  &#x27;company_size&#x27;, &#x27;company_type&#x27;])])</pre></div></div></div><div class=\"sk-parallel\"><div class=\"sk-parallel-item\"><div class=\"sk-item\"><div class=\"sk-label-container\"><div class=\"sk-label sk-toggleable\"><input class=\"sk-toggleable__control sk-hidden--visually\" id=\"sk-estimator-id-12\" type=\"checkbox\" ><label for=\"sk-estimator-id-12\" class=\"sk-toggleable__label sk-toggleable__label-arrow\">num_pipeline</label><div class=\"sk-toggleable__content\"><pre>[&#x27;city_development_index&#x27;, &#x27;relevent_experience&#x27;, &#x27;experience&#x27;, &#x27;last_new_job&#x27;, &#x27;training_hours&#x27;]</pre></div></div></div><div class=\"sk-serial\"><div class=\"sk-item\"><div class=\"sk-serial\"><div class=\"sk-item\"><div class=\"sk-estimator sk-toggleable\"><input class=\"sk-toggleable__control sk-hidden--visually\" id=\"sk-estimator-id-13\" type=\"checkbox\" ><label for=\"sk-estimator-id-13\" class=\"sk-toggleable__label sk-toggleable__label-arrow\">SimpleImputer</label><div class=\"sk-toggleable__content\"><pre>SimpleImputer()</pre></div></div></div><div class=\"sk-item\"><div class=\"sk-estimator sk-toggleable\"><input class=\"sk-toggleable__control sk-hidden--visually\" id=\"sk-estimator-id-14\" type=\"checkbox\" ><label for=\"sk-estimator-id-14\" class=\"sk-toggleable__label sk-toggleable__label-arrow\">MinMaxScaler</label><div class=\"sk-toggleable__content\"><pre>MinMaxScaler()</pre></div></div></div></div></div></div></div></div><div class=\"sk-parallel-item\"><div class=\"sk-item\"><div class=\"sk-label-container\"><div class=\"sk-label sk-toggleable\"><input class=\"sk-toggleable__control sk-hidden--visually\" id=\"sk-estimator-id-15\" type=\"checkbox\" ><label for=\"sk-estimator-id-15\" class=\"sk-toggleable__label sk-toggleable__label-arrow\">cat_pipeline</label><div class=\"sk-toggleable__content\"><pre>[&#x27;gender&#x27;, &#x27;enrolled_university&#x27;, &#x27;education_level&#x27;, &#x27;major_discipline&#x27;, &#x27;company_size&#x27;, &#x27;company_type&#x27;]</pre></div></div></div><div class=\"sk-serial\"><div class=\"sk-item\"><div class=\"sk-serial\"><div class=\"sk-item\"><div class=\"sk-estimator sk-toggleable\"><input class=\"sk-toggleable__control sk-hidden--visually\" id=\"sk-estimator-id-16\" type=\"checkbox\" ><label for=\"sk-estimator-id-16\" class=\"sk-toggleable__label sk-toggleable__label-arrow\">SimpleImputer</label><div class=\"sk-toggleable__content\"><pre>SimpleImputer(strategy=&#x27;most_frequent&#x27;)</pre></div></div></div><div class=\"sk-item\"><div class=\"sk-estimator sk-toggleable\"><input class=\"sk-toggleable__control sk-hidden--visually\" id=\"sk-estimator-id-17\" type=\"checkbox\" ><label for=\"sk-estimator-id-17\" class=\"sk-toggleable__label sk-toggleable__label-arrow\">OneHotEncoder</label><div class=\"sk-toggleable__content\"><pre>OneHotEncoder(handle_unknown=&#x27;ignore&#x27;, sparse=False)</pre></div></div></div></div></div></div></div></div></div></div><div class=\"sk-item\"><div class=\"sk-estimator sk-toggleable\"><input class=\"sk-toggleable__control sk-hidden--visually\" id=\"sk-estimator-id-18\" type=\"checkbox\" ><label for=\"sk-estimator-id-18\" class=\"sk-toggleable__label sk-toggleable__label-arrow\">LogisticRegression</label><div class=\"sk-toggleable__content\"><pre>LogisticRegression(random_state=0)</pre></div></div></div></div></div></div></div>"
     },
     "metadata": {},
     "output_type": "display_data"
    }
   ],
   "source": [
    "# Display pipeline\n",
    "from sklearn import set_config\n",
    "set_config(display='diagram')\n",
    "\n",
    "display(clf_pipeline)\n",
    "\n",
    "# if desired, set display back to the default\n",
    "# set_config(display='text')"
   ]
  },
  {
   "cell_type": "code",
   "execution_count": 28,
   "id": "86ae14ff",
   "metadata": {},
   "outputs": [
    {
     "data": {
      "text/plain": "{'memory': None,\n 'steps': [('col_trans', ColumnTransformer(n_jobs=-1,\n                     transformers=[('num_pipeline',\n                                    Pipeline(steps=[('impute', SimpleImputer()),\n                                                    ('scale', MinMaxScaler())]),\n                                    ['city_development_index',\n                                     'relevent_experience', 'experience',\n                                     'last_new_job', 'training_hours']),\n                                   ('cat_pipeline',\n                                    Pipeline(steps=[('impute',\n                                                     SimpleImputer(strategy='most_frequent')),\n                                                    ('one-hot',\n                                                     OneHotEncoder(handle_unknown='ignore',\n                                                                   sparse=False))]),\n                                    ['gender', 'enrolled_university',\n                                     'education_level', 'major_discipline',\n                                     'company_size', 'company_type'])])),\n  ('model', LogisticRegression(random_state=0))],\n 'verbose': False,\n 'col_trans': ColumnTransformer(n_jobs=-1,\n                   transformers=[('num_pipeline',\n                                  Pipeline(steps=[('impute', SimpleImputer()),\n                                                  ('scale', MinMaxScaler())]),\n                                  ['city_development_index',\n                                   'relevent_experience', 'experience',\n                                   'last_new_job', 'training_hours']),\n                                 ('cat_pipeline',\n                                  Pipeline(steps=[('impute',\n                                                   SimpleImputer(strategy='most_frequent')),\n                                                  ('one-hot',\n                                                   OneHotEncoder(handle_unknown='ignore',\n                                                                 sparse=False))]),\n                                  ['gender', 'enrolled_university',\n                                   'education_level', 'major_discipline',\n                                   'company_size', 'company_type'])]),\n 'model': LogisticRegression(random_state=0),\n 'col_trans__n_jobs': -1,\n 'col_trans__remainder': 'drop',\n 'col_trans__sparse_threshold': 0.3,\n 'col_trans__transformer_weights': None,\n 'col_trans__transformers': [('num_pipeline',\n   Pipeline(steps=[('impute', SimpleImputer()), ('scale', MinMaxScaler())]),\n   ['city_development_index',\n    'relevent_experience',\n    'experience',\n    'last_new_job',\n    'training_hours']),\n  ('cat_pipeline',\n   Pipeline(steps=[('impute', SimpleImputer(strategy='most_frequent')),\n                   ('one-hot',\n                    OneHotEncoder(handle_unknown='ignore', sparse=False))]),\n   ['gender',\n    'enrolled_university',\n    'education_level',\n    'major_discipline',\n    'company_size',\n    'company_type'])],\n 'col_trans__verbose': False,\n 'col_trans__verbose_feature_names_out': True,\n 'col_trans__num_pipeline': Pipeline(steps=[('impute', SimpleImputer()), ('scale', MinMaxScaler())]),\n 'col_trans__cat_pipeline': Pipeline(steps=[('impute', SimpleImputer(strategy='most_frequent')),\n                 ('one-hot',\n                  OneHotEncoder(handle_unknown='ignore', sparse=False))]),\n 'col_trans__num_pipeline__memory': None,\n 'col_trans__num_pipeline__steps': [('impute', SimpleImputer()),\n  ('scale', MinMaxScaler())],\n 'col_trans__num_pipeline__verbose': False,\n 'col_trans__num_pipeline__impute': SimpleImputer(),\n 'col_trans__num_pipeline__scale': MinMaxScaler(),\n 'col_trans__num_pipeline__impute__add_indicator': False,\n 'col_trans__num_pipeline__impute__copy': True,\n 'col_trans__num_pipeline__impute__fill_value': None,\n 'col_trans__num_pipeline__impute__keep_empty_features': False,\n 'col_trans__num_pipeline__impute__missing_values': nan,\n 'col_trans__num_pipeline__impute__strategy': 'mean',\n 'col_trans__num_pipeline__impute__verbose': 'deprecated',\n 'col_trans__num_pipeline__scale__clip': False,\n 'col_trans__num_pipeline__scale__copy': True,\n 'col_trans__num_pipeline__scale__feature_range': (0, 1),\n 'col_trans__cat_pipeline__memory': None,\n 'col_trans__cat_pipeline__steps': [('impute',\n   SimpleImputer(strategy='most_frequent')),\n  ('one-hot', OneHotEncoder(handle_unknown='ignore', sparse=False))],\n 'col_trans__cat_pipeline__verbose': False,\n 'col_trans__cat_pipeline__impute': SimpleImputer(strategy='most_frequent'),\n 'col_trans__cat_pipeline__one-hot': OneHotEncoder(handle_unknown='ignore', sparse=False),\n 'col_trans__cat_pipeline__impute__add_indicator': False,\n 'col_trans__cat_pipeline__impute__copy': True,\n 'col_trans__cat_pipeline__impute__fill_value': None,\n 'col_trans__cat_pipeline__impute__keep_empty_features': False,\n 'col_trans__cat_pipeline__impute__missing_values': nan,\n 'col_trans__cat_pipeline__impute__strategy': 'most_frequent',\n 'col_trans__cat_pipeline__impute__verbose': 'deprecated',\n 'col_trans__cat_pipeline__one-hot__categories': 'auto',\n 'col_trans__cat_pipeline__one-hot__drop': None,\n 'col_trans__cat_pipeline__one-hot__dtype': numpy.float64,\n 'col_trans__cat_pipeline__one-hot__handle_unknown': 'ignore',\n 'col_trans__cat_pipeline__one-hot__max_categories': None,\n 'col_trans__cat_pipeline__one-hot__min_frequency': None,\n 'col_trans__cat_pipeline__one-hot__sparse': False,\n 'col_trans__cat_pipeline__one-hot__sparse_output': True,\n 'model__C': 1.0,\n 'model__class_weight': None,\n 'model__dual': False,\n 'model__fit_intercept': True,\n 'model__intercept_scaling': 1,\n 'model__l1_ratio': None,\n 'model__max_iter': 100,\n 'model__multi_class': 'auto',\n 'model__n_jobs': None,\n 'model__penalty': 'l2',\n 'model__random_state': 0,\n 'model__solver': 'lbfgs',\n 'model__tol': 0.0001,\n 'model__verbose': 0,\n 'model__warm_start': False}"
     },
     "execution_count": 28,
     "metadata": {},
     "output_type": "execute_result"
    }
   ],
   "source": [
    "clf_pipeline.get_params()"
   ]
  },
  {
   "cell_type": "code",
   "execution_count": 29,
   "id": "3c0d356e",
   "metadata": {},
   "outputs": [
    {
     "name": "stdout",
     "output_type": "stream",
     "text": [
      "Model score: 0.7674843423799582\n"
     ]
    }
   ],
   "source": [
    "# Pass data through Pipeline\n",
    "clf_pipeline.fit(X_train, y_train)\n",
    "score = clf_pipeline.score(X_test, y_test)\n",
    "print(f\"Model score: {score}\")"
   ]
  },
  {
   "cell_type": "code",
   "execution_count": 30,
   "id": "74793341",
   "metadata": {},
   "outputs": [
    {
     "data": {
      "text/plain": "array([0., 0., 1., ..., 1., 0., 1.])"
     },
     "execution_count": 30,
     "metadata": {},
     "output_type": "execute_result"
    }
   ],
   "source": [
    "clf_pipeline.predict(X_test)"
   ]
  },
  {
   "cell_type": "code",
   "execution_count": 31,
   "id": "afa4180d",
   "metadata": {},
   "outputs": [
    {
     "data": {
      "text/plain": "array([[0.83049821, 0.16950179],\n       [0.70978962, 0.29021038],\n       [0.30250119, 0.69749881],\n       ...,\n       [0.47456405, 0.52543595],\n       [0.78550923, 0.21449077],\n       [0.25148677, 0.74851323]])"
     },
     "execution_count": 31,
     "metadata": {},
     "output_type": "execute_result"
    }
   ],
   "source": [
    "clf_pipeline.predict_proba(X_test)"
   ]
  },
  {
   "cell_type": "code",
   "execution_count": 32,
   "id": "0efc2730",
   "metadata": {},
   "outputs": [],
   "source": [
    "# Get feature name after pipeline (change column names only from one-hot encoder of categorical columns)\n",
    "new_cat_cols = clf_pipeline.named_steps[\"col_trans\"].named_transformers_[\"cat_pipeline\"]\\\n",
    "                .named_steps[\"one-hot\"].get_feature_names_out(cat_cols)\n",
    "all_cols = np.concatenate([num_cols, new_cat_cols])"
   ]
  },
  {
   "cell_type": "code",
   "execution_count": 33,
   "id": "560aea0a",
   "metadata": {},
   "outputs": [
    {
     "data": {
      "text/plain": "array(['gender_Female', 'gender_Male', 'gender_Other',\n       'enrolled_university_Full time course',\n       'enrolled_university_Part time course',\n       'enrolled_university_no_enrollment', 'education_level_Graduate',\n       'education_level_High School', 'education_level_Masters',\n       'education_level_Phd', 'education_level_Primary School',\n       'major_discipline_Arts', 'major_discipline_Business Degree',\n       'major_discipline_Humanities', 'major_discipline_No Major',\n       'major_discipline_Other', 'major_discipline_STEM',\n       'company_size_10/49', 'company_size_100-500',\n       'company_size_1000-4999', 'company_size_10000+',\n       'company_size_50-99', 'company_size_500-999',\n       'company_size_5000-9999', 'company_size_<10',\n       'company_type_Early Stage Startup', 'company_type_Funded Startup',\n       'company_type_NGO', 'company_type_Other',\n       'company_type_Public Sector', 'company_type_Pvt Ltd'], dtype=object)"
     },
     "execution_count": 33,
     "metadata": {},
     "output_type": "execute_result"
    }
   ],
   "source": [
    "clf_pipeline.named_steps[\"col_trans\"].named_transformers_[\"cat_pipeline\"]\\\n",
    "                .named_steps[\"one-hot\"].get_feature_names_out(cat_cols)"
   ]
  },
  {
   "cell_type": "code",
   "execution_count": 34,
   "id": "ab63c0e4",
   "metadata": {},
   "outputs": [
    {
     "data": {
      "text/plain": "array(['x0_Female', 'x0_Male', 'x0_Other', 'x1_Full time course',\n       'x1_Part time course', 'x1_no_enrollment', 'x2_Graduate',\n       'x2_High School', 'x2_Masters', 'x2_Phd', 'x2_Primary School',\n       'x3_Arts', 'x3_Business Degree', 'x3_Humanities', 'x3_No Major',\n       'x3_Other', 'x3_STEM', 'x4_10/49', 'x4_100-500', 'x4_1000-4999',\n       'x4_10000+', 'x4_50-99', 'x4_500-999', 'x4_5000-9999', 'x4_<10',\n       'x5_Early Stage Startup', 'x5_Funded Startup', 'x5_NGO',\n       'x5_Other', 'x5_Public Sector', 'x5_Pvt Ltd'], dtype=object)"
     },
     "execution_count": 34,
     "metadata": {},
     "output_type": "execute_result"
    }
   ],
   "source": [
    "clf_pipeline.named_steps[\"col_trans\"].named_transformers_[\"cat_pipeline\"]\\\n",
    "                .named_steps[\"one-hot\"].get_feature_names_out()"
   ]
  },
  {
   "cell_type": "code",
   "execution_count": 35,
   "id": "f57d4729",
   "metadata": {},
   "outputs": [],
   "source": [
    "# Get model coef\n",
    "\n",
    "coefs = clf_pipeline.named_steps[\"model\"].coef_.flatten()\n",
    "coef = pd.DataFrame(zip(all_cols, coefs), columns=[\"feature\", \"coef\"])\n",
    "coef[\"abs_coef\"] = coef[\"coef\"].apply(lambda x: abs(x))\n",
    "coef[\"colors\"] = coef[\"coef\"].apply(lambda x: \"green\" if x > 0 else \"red\")\n",
    "coef = coef.sort_values(\"abs_coef\", ascending=False)"
   ]
  },
  {
   "cell_type": "code",
   "execution_count": 36,
   "id": "39b905fd",
   "metadata": {},
   "outputs": [
    {
     "data": {
      "text/plain": "Text(0.5, 0, 'Feature Name')"
     },
     "execution_count": 36,
     "metadata": {},
     "output_type": "execute_result"
    },
    {
     "data": {
      "text/plain": "<Figure size 864x504 with 1 Axes>",
      "image/png": "[encoded data removed]"
     },
     "metadata": {
      "needs_background": "light"
     },
     "output_type": "display_data"
    }
   ],
   "source": [
    "# Plot coef\n",
    "import matplotlib.pyplot as plt\n",
    "import seaborn as sns\n",
    "\n",
    "%matplotlib inline\n",
    "\n",
    "fig, ax = plt.subplots(1, 1, figsize=(12, 7))\n",
    "sns.barplot(x=\"feature\",\n",
    "            y=\"coef\",\n",
    "            data=coef.head(20),\n",
    "           palette=coef.head(20)[\"colors\"])\n",
    "ax.set_xticklabels(ax.get_xticklabels(), rotation=90, fontsize=20)\n",
    "ax.set_title(\"Top 20 Features\", fontsize=25)\n",
    "ax.set_ylabel(\"Coef\", fontsize=22)\n",
    "ax.set_xlabel(\"Feature Name\", fontsize=22)"
   ]
  },
  {
   "cell_type": "code",
   "execution_count": 37,
   "id": "21c05196",
   "metadata": {},
   "outputs": [],
   "source": [
    "# Dataframe after transform\n",
    "# pd.DataFrame(col_trans.fit_transform(X_train), columns=all_cols)"
   ]
  },
  {
   "cell_type": "code",
   "execution_count": 38,
   "id": "4a60d202",
   "metadata": {},
   "outputs": [
    {
     "data": {
      "text/plain": "['pipe.joblib']"
     },
     "execution_count": 38,
     "metadata": {},
     "output_type": "execute_result"
    }
   ],
   "source": [
    "# Save pipeline\n",
    "import joblib\n",
    "\n",
    "joblib.dump(clf_pipeline,\"pipe.joblib\")"
   ]
  },
  {
   "cell_type": "code",
   "execution_count": 39,
   "id": "45a9b255",
   "metadata": {},
   "outputs": [],
   "source": [
    "# Load pipeline when you want to use\n",
    "same_pipe = joblib.load(\"pipe.joblib\")"
   ]
  },
  {
   "cell_type": "markdown",
   "id": "1fed1d1a",
   "metadata": {},
   "source": [
    "# Add Pipeline to Grid Search"
   ]
  },
  {
   "cell_type": "code",
   "execution_count": 40,
   "id": "83ca6312",
   "metadata": {},
   "outputs": [
    {
     "data": {
      "text/plain": "{'memory': None,\n 'steps': [('col_trans', ColumnTransformer(n_jobs=-1,\n                     transformers=[('num_pipeline',\n                                    Pipeline(steps=[('impute', SimpleImputer()),\n                                                    ('scale', MinMaxScaler())]),\n                                    ['city_development_index',\n                                     'relevent_experience', 'experience',\n                                     'last_new_job', 'training_hours']),\n                                   ('cat_pipeline',\n                                    Pipeline(steps=[('impute',\n                                                     SimpleImputer(strategy='most_frequent')),\n                                                    ('one-hot',\n                                                     OneHotEncoder(handle_unknown='ignore',\n                                                                   sparse=False))]),\n                                    ['gender', 'enrolled_university',\n                                     'education_level', 'major_discipline',\n                                     'company_size', 'company_type'])])),\n  ('model', LogisticRegression(random_state=0))],\n 'verbose': False,\n 'col_trans': ColumnTransformer(n_jobs=-1,\n                   transformers=[('num_pipeline',\n                                  Pipeline(steps=[('impute', SimpleImputer()),\n                                                  ('scale', MinMaxScaler())]),\n                                  ['city_development_index',\n                                   'relevent_experience', 'experience',\n                                   'last_new_job', 'training_hours']),\n                                 ('cat_pipeline',\n                                  Pipeline(steps=[('impute',\n                                                   SimpleImputer(strategy='most_frequent')),\n                                                  ('one-hot',\n                                                   OneHotEncoder(handle_unknown='ignore',\n                                                                 sparse=False))]),\n                                  ['gender', 'enrolled_university',\n                                   'education_level', 'major_discipline',\n                                   'company_size', 'company_type'])]),\n 'model': LogisticRegression(random_state=0),\n 'col_trans__n_jobs': -1,\n 'col_trans__remainder': 'drop',\n 'col_trans__sparse_threshold': 0.3,\n 'col_trans__transformer_weights': None,\n 'col_trans__transformers': [('num_pipeline',\n   Pipeline(steps=[('impute', SimpleImputer()), ('scale', MinMaxScaler())]),\n   ['city_development_index',\n    'relevent_experience',\n    'experience',\n    'last_new_job',\n    'training_hours']),\n  ('cat_pipeline',\n   Pipeline(steps=[('impute', SimpleImputer(strategy='most_frequent')),\n                   ('one-hot',\n                    OneHotEncoder(handle_unknown='ignore', sparse=False))]),\n   ['gender',\n    'enrolled_university',\n    'education_level',\n    'major_discipline',\n    'company_size',\n    'company_type'])],\n 'col_trans__verbose': False,\n 'col_trans__verbose_feature_names_out': True,\n 'col_trans__num_pipeline': Pipeline(steps=[('impute', SimpleImputer()), ('scale', MinMaxScaler())]),\n 'col_trans__cat_pipeline': Pipeline(steps=[('impute', SimpleImputer(strategy='most_frequent')),\n                 ('one-hot',\n                  OneHotEncoder(handle_unknown='ignore', sparse=False))]),\n 'col_trans__num_pipeline__memory': None,\n 'col_trans__num_pipeline__steps': [('impute', SimpleImputer()),\n  ('scale', MinMaxScaler())],\n 'col_trans__num_pipeline__verbose': False,\n 'col_trans__num_pipeline__impute': SimpleImputer(),\n 'col_trans__num_pipeline__scale': MinMaxScaler(),\n 'col_trans__num_pipeline__impute__add_indicator': False,\n 'col_trans__num_pipeline__impute__copy': True,\n 'col_trans__num_pipeline__impute__fill_value': None,\n 'col_trans__num_pipeline__impute__keep_empty_features': False,\n 'col_trans__num_pipeline__impute__missing_values': nan,\n 'col_trans__num_pipeline__impute__strategy': 'mean',\n 'col_trans__num_pipeline__impute__verbose': 'deprecated',\n 'col_trans__num_pipeline__scale__clip': False,\n 'col_trans__num_pipeline__scale__copy': True,\n 'col_trans__num_pipeline__scale__feature_range': (0, 1),\n 'col_trans__cat_pipeline__memory': None,\n 'col_trans__cat_pipeline__steps': [('impute',\n   SimpleImputer(strategy='most_frequent')),\n  ('one-hot', OneHotEncoder(handle_unknown='ignore', sparse=False))],\n 'col_trans__cat_pipeline__verbose': False,\n 'col_trans__cat_pipeline__impute': SimpleImputer(strategy='most_frequent'),\n 'col_trans__cat_pipeline__one-hot': OneHotEncoder(handle_unknown='ignore', sparse=False),\n 'col_trans__cat_pipeline__impute__add_indicator': False,\n 'col_trans__cat_pipeline__impute__copy': True,\n 'col_trans__cat_pipeline__impute__fill_value': None,\n 'col_trans__cat_pipeline__impute__keep_empty_features': False,\n 'col_trans__cat_pipeline__impute__missing_values': nan,\n 'col_trans__cat_pipeline__impute__strategy': 'most_frequent',\n 'col_trans__cat_pipeline__impute__verbose': 'deprecated',\n 'col_trans__cat_pipeline__one-hot__categories': 'auto',\n 'col_trans__cat_pipeline__one-hot__drop': None,\n 'col_trans__cat_pipeline__one-hot__dtype': numpy.float64,\n 'col_trans__cat_pipeline__one-hot__handle_unknown': 'ignore',\n 'col_trans__cat_pipeline__one-hot__max_categories': None,\n 'col_trans__cat_pipeline__one-hot__min_frequency': None,\n 'col_trans__cat_pipeline__one-hot__sparse': False,\n 'col_trans__cat_pipeline__one-hot__sparse_output': True,\n 'model__C': 1.0,\n 'model__class_weight': None,\n 'model__dual': False,\n 'model__fit_intercept': True,\n 'model__intercept_scaling': 1,\n 'model__l1_ratio': None,\n 'model__max_iter': 100,\n 'model__multi_class': 'auto',\n 'model__n_jobs': None,\n 'model__penalty': 'l2',\n 'model__random_state': 0,\n 'model__solver': 'lbfgs',\n 'model__tol': 0.0001,\n 'model__verbose': 0,\n 'model__warm_start': False}"
     },
     "execution_count": 40,
     "metadata": {},
     "output_type": "execute_result"
    }
   ],
   "source": [
    "# see parameter that can be tuned\n",
    "\n",
    "clf_pipeline.get_params()"
   ]
  },
  {
   "cell_type": "code",
   "execution_count": 41,
   "id": "f7927559",
   "metadata": {},
   "outputs": [
    {
     "data": {
      "text/plain": "Pipeline(steps=[('col_trans',\n                 ColumnTransformer(n_jobs=-1,\n                                   transformers=[('num_pipeline',\n                                                  Pipeline(steps=[('impute',\n                                                                   SimpleImputer()),\n                                                                  ('scale',\n                                                                   MinMaxScaler())]),\n                                                  ['city_development_index',\n                                                   'relevent_experience',\n                                                   'experience', 'last_new_job',\n                                                   'training_hours']),\n                                                 ('cat_pipeline',\n                                                  Pipeline(steps=[('impute',\n                                                                   SimpleImputer(strategy='most_frequent')),\n                                                                  ('one-hot',\n                                                                   OneHotEncoder(handle_unknown='ignore',\n                                                                                 sparse=False))]),\n                                                  ['gender',\n                                                   'enrolled_university',\n                                                   'education_level',\n                                                   'major_discipline',\n                                                   'company_size',\n                                                   'company_type'])])),\n                ('model', LogisticRegression(C=1, random_state=0))])",
      "text/html": "<style>#sk-container-id-3 {color: black;background-color: white;}#sk-container-id-3 pre{padding: 0;}#sk-container-id-3 div.sk-toggleable {background-color: white;}#sk-container-id-3 label.sk-toggleable__label {cursor: pointer;display: block;width: 100%;margin-bottom: 0;padding: 0.3em;box-sizing: border-box;text-align: center;}#sk-container-id-3 label.sk-toggleable__label-arrow:before {content: \"▸\";float: left;margin-right: 0.25em;color: #696969;}#sk-container-id-3 label.sk-toggleable__label-arrow:hover:before {color: black;}#sk-container-id-3 div.sk-estimator:hover label.sk-toggleable__label-arrow:before {color: black;}#sk-container-id-3 div.sk-toggleable__content {max-height: 0;max-width: 0;overflow: hidden;text-align: left;background-color: #f0f8ff;}#sk-container-id-3 div.sk-toggleable__content pre {margin: 0.2em;color: black;border-radius: 0.25em;background-color: #f0f8ff;}#sk-container-id-3 input.sk-toggleable__control:checked~div.sk-toggleable__content {max-height: 200px;max-width: 100%;overflow: auto;}#sk-container-id-3 input.sk-toggleable__control:checked~label.sk-toggleable__label-arrow:before {content: \"▾\";}#sk-container-id-3 div.sk-estimator input.sk-toggleable__control:checked~label.sk-toggleable__label {background-color: #d4ebff;}#sk-container-id-3 div.sk-label input.sk-toggleable__control:checked~label.sk-toggleable__label {background-color: #d4ebff;}#sk-container-id-3 input.sk-hidden--visually {border: 0;clip: rect(1px 1px 1px 1px);clip: rect(1px, 1px, 1px, 1px);height: 1px;margin: -1px;overflow: hidden;padding: 0;position: absolute;width: 1px;}#sk-container-id-3 div.sk-estimator {font-family: monospace;background-color: #f0f8ff;border: 1px dotted black;border-radius: 0.25em;box-sizing: border-box;margin-bottom: 0.5em;}#sk-container-id-3 div.sk-estimator:hover {background-color: #d4ebff;}#sk-container-id-3 div.sk-parallel-item::after {content: \"\";width: 100%;border-bottom: 1px solid gray;flex-grow: 1;}#sk-container-id-3 div.sk-label:hover label.sk-toggleable__label {background-color: #d4ebff;}#sk-container-id-3 div.sk-serial::before {content: \"\";position: absolute;border-left: 1px solid gray;box-sizing: border-box;top: 0;bottom: 0;left: 50%;z-index: 0;}#sk-container-id-3 div.sk-serial {display: flex;flex-direction: column;align-items: center;background-color: white;padding-right: 0.2em;padding-left: 0.2em;position: relative;}#sk-container-id-3 div.sk-item {position: relative;z-index: 1;}#sk-container-id-3 div.sk-parallel {display: flex;align-items: stretch;justify-content: center;background-color: white;position: relative;}#sk-container-id-3 div.sk-item::before, #sk-container-id-3 div.sk-parallel-item::before {content: \"\";position: absolute;border-left: 1px solid gray;box-sizing: border-box;top: 0;bottom: 0;left: 50%;z-index: -1;}#sk-container-id-3 div.sk-parallel-item {display: flex;flex-direction: column;z-index: 1;position: relative;background-color: white;}#sk-container-id-3 div.sk-parallel-item:first-child::after {align-self: flex-end;width: 50%;}#sk-container-id-3 div.sk-parallel-item:last-child::after {align-self: flex-start;width: 50%;}#sk-container-id-3 div.sk-parallel-item:only-child::after {width: 0;}#sk-container-id-3 div.sk-dashed-wrapped {border: 1px dashed gray;margin: 0 0.4em 0.5em 0.4em;box-sizing: border-box;padding-bottom: 0.4em;background-color: white;}#sk-container-id-3 div.sk-label label {font-family: monospace;font-weight: bold;display: inline-block;line-height: 1.2em;}#sk-container-id-3 div.sk-label-container {text-align: center;}#sk-container-id-3 div.sk-container {/* jupyter's `normalize.less` sets `[hidden] { display: none; }` but bootstrap.min.css set `[hidden] { display: none !important; }` so we also need the `!important` here to be able to override the default hidden behavior on the sphinx rendered scikit-learn.org. See: https://github.com/scikit-learn/scikit-learn/issues/21755 */display: inline-block !important;position: relative;}#sk-container-id-3 div.sk-text-repr-fallback {display: none;}</style><div id=\"sk-container-id-3\" class=\"sk-top-container\"><div class=\"sk-text-repr-fallback\"><pre>Pipeline(steps=[(&#x27;col_trans&#x27;,\n                 ColumnTransformer(n_jobs=-1,\n                                   transformers=[(&#x27;num_pipeline&#x27;,\n                                                  Pipeline(steps=[(&#x27;impute&#x27;,\n                                                                   SimpleImputer()),\n                                                                  (&#x27;scale&#x27;,\n                                                                   MinMaxScaler())]),\n                                                  [&#x27;city_development_index&#x27;,\n                                                   &#x27;relevent_experience&#x27;,\n                                                   &#x27;experience&#x27;, &#x27;last_new_job&#x27;,\n                                                   &#x27;training_hours&#x27;]),\n                                                 (&#x27;cat_pipeline&#x27;,\n                                                  Pipeline(steps=[(&#x27;impute&#x27;,\n                                                                   SimpleImputer(strategy=&#x27;most_frequent&#x27;)),\n                                                                  (&#x27;one-hot&#x27;,\n                                                                   OneHotEncoder(handle_unknown=&#x27;ignore&#x27;,\n                                                                                 sparse=False))]),\n                                                  [&#x27;gender&#x27;,\n                                                   &#x27;enrolled_university&#x27;,\n                                                   &#x27;education_level&#x27;,\n                                                   &#x27;major_discipline&#x27;,\n                                                   &#x27;company_size&#x27;,\n                                                   &#x27;company_type&#x27;])])),\n                (&#x27;model&#x27;, LogisticRegression(C=1, random_state=0))])</pre><b>In a Jupyter environment, please rerun this cell to show the HTML representation or trust the notebook. <br />On GitHub, the HTML representation is unable to render, please try loading this page with nbviewer.org.</b></div><div class=\"sk-container\" hidden><div class=\"sk-item sk-dashed-wrapped\"><div class=\"sk-label-container\"><div class=\"sk-label sk-toggleable\"><input class=\"sk-toggleable__control sk-hidden--visually\" id=\"sk-estimator-id-19\" type=\"checkbox\" ><label for=\"sk-estimator-id-19\" class=\"sk-toggleable__label sk-toggleable__label-arrow\">Pipeline</label><div class=\"sk-toggleable__content\"><pre>Pipeline(steps=[(&#x27;col_trans&#x27;,\n                 ColumnTransformer(n_jobs=-1,\n                                   transformers=[(&#x27;num_pipeline&#x27;,\n                                                  Pipeline(steps=[(&#x27;impute&#x27;,\n                                                                   SimpleImputer()),\n                                                                  (&#x27;scale&#x27;,\n                                                                   MinMaxScaler())]),\n                                                  [&#x27;city_development_index&#x27;,\n                                                   &#x27;relevent_experience&#x27;,\n                                                   &#x27;experience&#x27;, &#x27;last_new_job&#x27;,\n                                                   &#x27;training_hours&#x27;]),\n                                                 (&#x27;cat_pipeline&#x27;,\n                                                  Pipeline(steps=[(&#x27;impute&#x27;,\n                                                                   SimpleImputer(strategy=&#x27;most_frequent&#x27;)),\n                                                                  (&#x27;one-hot&#x27;,\n                                                                   OneHotEncoder(handle_unknown=&#x27;ignore&#x27;,\n                                                                                 sparse=False))]),\n                                                  [&#x27;gender&#x27;,\n                                                   &#x27;enrolled_university&#x27;,\n                                                   &#x27;education_level&#x27;,\n                                                   &#x27;major_discipline&#x27;,\n                                                   &#x27;company_size&#x27;,\n                                                   &#x27;company_type&#x27;])])),\n                (&#x27;model&#x27;, LogisticRegression(C=1, random_state=0))])</pre></div></div></div><div class=\"sk-serial\"><div class=\"sk-item sk-dashed-wrapped\"><div class=\"sk-label-container\"><div class=\"sk-label sk-toggleable\"><input class=\"sk-toggleable__control sk-hidden--visually\" id=\"sk-estimator-id-20\" type=\"checkbox\" ><label for=\"sk-estimator-id-20\" class=\"sk-toggleable__label sk-toggleable__label-arrow\">col_trans: ColumnTransformer</label><div class=\"sk-toggleable__content\"><pre>ColumnTransformer(n_jobs=-1,\n                  transformers=[(&#x27;num_pipeline&#x27;,\n                                 Pipeline(steps=[(&#x27;impute&#x27;, SimpleImputer()),\n                                                 (&#x27;scale&#x27;, MinMaxScaler())]),\n                                 [&#x27;city_development_index&#x27;,\n                                  &#x27;relevent_experience&#x27;, &#x27;experience&#x27;,\n                                  &#x27;last_new_job&#x27;, &#x27;training_hours&#x27;]),\n                                (&#x27;cat_pipeline&#x27;,\n                                 Pipeline(steps=[(&#x27;impute&#x27;,\n                                                  SimpleImputer(strategy=&#x27;most_frequent&#x27;)),\n                                                 (&#x27;one-hot&#x27;,\n                                                  OneHotEncoder(handle_unknown=&#x27;ignore&#x27;,\n                                                                sparse=False))]),\n                                 [&#x27;gender&#x27;, &#x27;enrolled_university&#x27;,\n                                  &#x27;education_level&#x27;, &#x27;major_discipline&#x27;,\n                                  &#x27;company_size&#x27;, &#x27;company_type&#x27;])])</pre></div></div></div><div class=\"sk-parallel\"><div class=\"sk-parallel-item\"><div class=\"sk-item\"><div class=\"sk-label-container\"><div class=\"sk-label sk-toggleable\"><input class=\"sk-toggleable__control sk-hidden--visually\" id=\"sk-estimator-id-21\" type=\"checkbox\" ><label for=\"sk-estimator-id-21\" class=\"sk-toggleable__label sk-toggleable__label-arrow\">num_pipeline</label><div class=\"sk-toggleable__content\"><pre>[&#x27;city_development_index&#x27;, &#x27;relevent_experience&#x27;, &#x27;experience&#x27;, &#x27;last_new_job&#x27;, &#x27;training_hours&#x27;]</pre></div></div></div><div class=\"sk-serial\"><div class=\"sk-item\"><div class=\"sk-serial\"><div class=\"sk-item\"><div class=\"sk-estimator sk-toggleable\"><input class=\"sk-toggleable__control sk-hidden--visually\" id=\"sk-estimator-id-22\" type=\"checkbox\" ><label for=\"sk-estimator-id-22\" class=\"sk-toggleable__label sk-toggleable__label-arrow\">SimpleImputer</label><div class=\"sk-toggleable__content\"><pre>SimpleImputer()</pre></div></div></div><div class=\"sk-item\"><div class=\"sk-estimator sk-toggleable\"><input class=\"sk-toggleable__control sk-hidden--visually\" id=\"sk-estimator-id-23\" type=\"checkbox\" ><label for=\"sk-estimator-id-23\" class=\"sk-toggleable__label sk-toggleable__label-arrow\">MinMaxScaler</label><div class=\"sk-toggleable__content\"><pre>MinMaxScaler()</pre></div></div></div></div></div></div></div></div><div class=\"sk-parallel-item\"><div class=\"sk-item\"><div class=\"sk-label-container\"><div class=\"sk-label sk-toggleable\"><input class=\"sk-toggleable__control sk-hidden--visually\" id=\"sk-estimator-id-24\" type=\"checkbox\" ><label for=\"sk-estimator-id-24\" class=\"sk-toggleable__label sk-toggleable__label-arrow\">cat_pipeline</label><div class=\"sk-toggleable__content\"><pre>[&#x27;gender&#x27;, &#x27;enrolled_university&#x27;, &#x27;education_level&#x27;, &#x27;major_discipline&#x27;, &#x27;company_size&#x27;, &#x27;company_type&#x27;]</pre></div></div></div><div class=\"sk-serial\"><div class=\"sk-item\"><div class=\"sk-serial\"><div class=\"sk-item\"><div class=\"sk-estimator sk-toggleable\"><input class=\"sk-toggleable__control sk-hidden--visually\" id=\"sk-estimator-id-25\" type=\"checkbox\" ><label for=\"sk-estimator-id-25\" class=\"sk-toggleable__label sk-toggleable__label-arrow\">SimpleImputer</label><div class=\"sk-toggleable__content\"><pre>SimpleImputer(strategy=&#x27;most_frequent&#x27;)</pre></div></div></div><div class=\"sk-item\"><div class=\"sk-estimator sk-toggleable\"><input class=\"sk-toggleable__control sk-hidden--visually\" id=\"sk-estimator-id-26\" type=\"checkbox\" ><label for=\"sk-estimator-id-26\" class=\"sk-toggleable__label sk-toggleable__label-arrow\">OneHotEncoder</label><div class=\"sk-toggleable__content\"><pre>OneHotEncoder(handle_unknown=&#x27;ignore&#x27;, sparse=False)</pre></div></div></div></div></div></div></div></div></div></div><div class=\"sk-item\"><div class=\"sk-estimator sk-toggleable\"><input class=\"sk-toggleable__control sk-hidden--visually\" id=\"sk-estimator-id-27\" type=\"checkbox\" ><label for=\"sk-estimator-id-27\" class=\"sk-toggleable__label sk-toggleable__label-arrow\">LogisticRegression</label><div class=\"sk-toggleable__content\"><pre>LogisticRegression(C=1, random_state=0)</pre></div></div></div></div></div></div></div>"
     },
     "execution_count": 41,
     "metadata": {},
     "output_type": "execute_result"
    }
   ],
   "source": [
    "clf_pipeline.set_params(model__C = 1)"
   ]
  },
  {
   "cell_type": "code",
   "execution_count": 42,
   "id": "5fc5a51c",
   "metadata": {},
   "outputs": [],
   "source": [
    "# Set tuning parameters\n",
    " \n",
    "grid_params = {\n",
    "    'model__penalty' : ['none', 'l2'],\n",
    "    'model__C' : np.logspace(-4, 4, 20)\n",
    "}"
   ]
  },
  {
   "cell_type": "code",
   "execution_count": 43,
   "id": "b3e5b965",
   "metadata": {},
   "outputs": [
    {
     "name": "stdout",
     "output_type": "stream",
     "text": [
      "Best Score of train set: 0.7675845483112684\n",
      "Best parameter set: {'model__C': 0.0001, 'model__penalty': 'none'}\n",
      "Test Score: 0.767223382045929\n"
     ]
    }
   ],
   "source": [
    "# Grid search\n",
    "\n",
    "from sklearn.model_selection import GridSearchCV\n",
    "\n",
    "gs = GridSearchCV(clf_pipeline, grid_params, scoring='accuracy')\n",
    "gs.fit(X_train, y_train)\n",
    "\n",
    "print(\"Best Score of train set: \"+str(gs.best_score_))\n",
    "print(\"Best parameter set: \"+str(gs.best_params_))\n",
    "print(\"Test Score: \"+str(gs.score(X_test,y_test)))"
   ]
  },
  {
   "cell_type": "markdown",
   "id": "4f610a9f",
   "metadata": {},
   "source": [
    "# Pipeline skip a step"
   ]
  },
  {
   "cell_type": "code",
   "execution_count": 44,
   "id": "a803a682",
   "metadata": {},
   "outputs": [],
   "source": [
    "# Add a step 'std_scale' in num_pipeline\n",
    "\n",
    "from sklearn.preprocessing import StandardScaler\n",
    "\n",
    "num_pipeline2 = Pipeline(steps=[\n",
    "    ('impute', SimpleImputer(strategy='mean')),\n",
    "    ('minmax_scale',MinMaxScaler()),\n",
    "    ('std_scale', StandardScaler()),\n",
    "])\n",
    "\n",
    "col_trans2 = ColumnTransformer(transformers=[\n",
    "    ('num_pipeline',num_pipeline2,num_cols),\n",
    "    ('cat_pipeline',cat_pipeline,cat_cols)\n",
    "    ],\n",
    "    remainder='drop',\n",
    "    n_jobs=-1)\n",
    "\n",
    "clf_pipeline2 = Pipeline(steps=[\n",
    "    ('col_trans', col_trans2),\n",
    "    ('model', clf)\n",
    "])"
   ]
  },
  {
   "cell_type": "code",
   "execution_count": 45,
   "id": "d514872e",
   "metadata": {},
   "outputs": [
    {
     "data": {
      "text/plain": "Pipeline(steps=[('col_trans',\n                 ColumnTransformer(n_jobs=-1,\n                                   transformers=[('num_pipeline',\n                                                  Pipeline(steps=[('impute',\n                                                                   SimpleImputer()),\n                                                                  ('minmax_scale',\n                                                                   MinMaxScaler()),\n                                                                  ('std_scale',\n                                                                   StandardScaler())]),\n                                                  ['city_development_index',\n                                                   'relevent_experience',\n                                                   'experience', 'last_new_job',\n                                                   'training_hours']),\n                                                 ('cat_pipeline',\n                                                  Pipeline(steps=[('impute',\n                                                                   SimpleImputer(strategy='most_frequent')),\n                                                                  ('one-hot',\n                                                                   OneHotEncoder(handle_unknown='ignore',\n                                                                                 sparse=False))]),\n                                                  ['gender',\n                                                   'enrolled_university',\n                                                   'education_level',\n                                                   'major_discipline',\n                                                   'company_size',\n                                                   'company_type'])])),\n                ('model', LogisticRegression(C=1, random_state=0))])",
      "text/html": "<style>#sk-container-id-4 {color: black;background-color: white;}#sk-container-id-4 pre{padding: 0;}#sk-container-id-4 div.sk-toggleable {background-color: white;}#sk-container-id-4 label.sk-toggleable__label {cursor: pointer;display: block;width: 100%;margin-bottom: 0;padding: 0.3em;box-sizing: border-box;text-align: center;}#sk-container-id-4 label.sk-toggleable__label-arrow:before {content: \"▸\";float: left;margin-right: 0.25em;color: #696969;}#sk-container-id-4 label.sk-toggleable__label-arrow:hover:before {color: black;}#sk-container-id-4 div.sk-estimator:hover label.sk-toggleable__label-arrow:before {color: black;}#sk-container-id-4 div.sk-toggleable__content {max-height: 0;max-width: 0;overflow: hidden;text-align: left;background-color: #f0f8ff;}#sk-container-id-4 div.sk-toggleable__content pre {margin: 0.2em;color: black;border-radius: 0.25em;background-color: #f0f8ff;}#sk-container-id-4 input.sk-toggleable__control:checked~div.sk-toggleable__content {max-height: 200px;max-width: 100%;overflow: auto;}#sk-container-id-4 input.sk-toggleable__control:checked~label.sk-toggleable__label-arrow:before {content: \"▾\";}#sk-container-id-4 div.sk-estimator input.sk-toggleable__control:checked~label.sk-toggleable__label {background-color: #d4ebff;}#sk-container-id-4 div.sk-label input.sk-toggleable__control:checked~label.sk-toggleable__label {background-color: #d4ebff;}#sk-container-id-4 input.sk-hidden--visually {border: 0;clip: rect(1px 1px 1px 1px);clip: rect(1px, 1px, 1px, 1px);height: 1px;margin: -1px;overflow: hidden;padding: 0;position: absolute;width: 1px;}#sk-container-id-4 div.sk-estimator {font-family: monospace;background-color: #f0f8ff;border: 1px dotted black;border-radius: 0.25em;box-sizing: border-box;margin-bottom: 0.5em;}#sk-container-id-4 div.sk-estimator:hover {background-color: #d4ebff;}#sk-container-id-4 div.sk-parallel-item::after {content: \"\";width: 100%;border-bottom: 1px solid gray;flex-grow: 1;}#sk-container-id-4 div.sk-label:hover label.sk-toggleable__label {background-color: #d4ebff;}#sk-container-id-4 div.sk-serial::before {content: \"\";position: absolute;border-left: 1px solid gray;box-sizing: border-box;top: 0;bottom: 0;left: 50%;z-index: 0;}#sk-container-id-4 div.sk-serial {display: flex;flex-direction: column;align-items: center;background-color: white;padding-right: 0.2em;padding-left: 0.2em;position: relative;}#sk-container-id-4 div.sk-item {position: relative;z-index: 1;}#sk-container-id-4 div.sk-parallel {display: flex;align-items: stretch;justify-content: center;background-color: white;position: relative;}#sk-container-id-4 div.sk-item::before, #sk-container-id-4 div.sk-parallel-item::before {content: \"\";position: absolute;border-left: 1px solid gray;box-sizing: border-box;top: 0;bottom: 0;left: 50%;z-index: -1;}#sk-container-id-4 div.sk-parallel-item {display: flex;flex-direction: column;z-index: 1;position: relative;background-color: white;}#sk-container-id-4 div.sk-parallel-item:first-child::after {align-self: flex-end;width: 50%;}#sk-container-id-4 div.sk-parallel-item:last-child::after {align-self: flex-start;width: 50%;}#sk-container-id-4 div.sk-parallel-item:only-child::after {width: 0;}#sk-container-id-4 div.sk-dashed-wrapped {border: 1px dashed gray;margin: 0 0.4em 0.5em 0.4em;box-sizing: border-box;padding-bottom: 0.4em;background-color: white;}#sk-container-id-4 div.sk-label label {font-family: monospace;font-weight: bold;display: inline-block;line-height: 1.2em;}#sk-container-id-4 div.sk-label-container {text-align: center;}#sk-container-id-4 div.sk-container {/* jupyter's `normalize.less` sets `[hidden] { display: none; }` but bootstrap.min.css set `[hidden] { display: none !important; }` so we also need the `!important` here to be able to override the default hidden behavior on the sphinx rendered scikit-learn.org. See: https://github.com/scikit-learn/scikit-learn/issues/21755 */display: inline-block !important;position: relative;}#sk-container-id-4 div.sk-text-repr-fallback {display: none;}</style><div id=\"sk-container-id-4\" class=\"sk-top-container\"><div class=\"sk-text-repr-fallback\"><pre>Pipeline(steps=[(&#x27;col_trans&#x27;,\n                 ColumnTransformer(n_jobs=-1,\n                                   transformers=[(&#x27;num_pipeline&#x27;,\n                                                  Pipeline(steps=[(&#x27;impute&#x27;,\n                                                                   SimpleImputer()),\n                                                                  (&#x27;minmax_scale&#x27;,\n                                                                   MinMaxScaler()),\n                                                                  (&#x27;std_scale&#x27;,\n                                                                   StandardScaler())]),\n                                                  [&#x27;city_development_index&#x27;,\n                                                   &#x27;relevent_experience&#x27;,\n                                                   &#x27;experience&#x27;, &#x27;last_new_job&#x27;,\n                                                   &#x27;training_hours&#x27;]),\n                                                 (&#x27;cat_pipeline&#x27;,\n                                                  Pipeline(steps=[(&#x27;impute&#x27;,\n                                                                   SimpleImputer(strategy=&#x27;most_frequent&#x27;)),\n                                                                  (&#x27;one-hot&#x27;,\n                                                                   OneHotEncoder(handle_unknown=&#x27;ignore&#x27;,\n                                                                                 sparse=False))]),\n                                                  [&#x27;gender&#x27;,\n                                                   &#x27;enrolled_university&#x27;,\n                                                   &#x27;education_level&#x27;,\n                                                   &#x27;major_discipline&#x27;,\n                                                   &#x27;company_size&#x27;,\n                                                   &#x27;company_type&#x27;])])),\n                (&#x27;model&#x27;, LogisticRegression(C=1, random_state=0))])</pre><b>In a Jupyter environment, please rerun this cell to show the HTML representation or trust the notebook. <br />On GitHub, the HTML representation is unable to render, please try loading this page with nbviewer.org.</b></div><div class=\"sk-container\" hidden><div class=\"sk-item sk-dashed-wrapped\"><div class=\"sk-label-container\"><div class=\"sk-label sk-toggleable\"><input class=\"sk-toggleable__control sk-hidden--visually\" id=\"sk-estimator-id-28\" type=\"checkbox\" ><label for=\"sk-estimator-id-28\" class=\"sk-toggleable__label sk-toggleable__label-arrow\">Pipeline</label><div class=\"sk-toggleable__content\"><pre>Pipeline(steps=[(&#x27;col_trans&#x27;,\n                 ColumnTransformer(n_jobs=-1,\n                                   transformers=[(&#x27;num_pipeline&#x27;,\n                                                  Pipeline(steps=[(&#x27;impute&#x27;,\n                                                                   SimpleImputer()),\n                                                                  (&#x27;minmax_scale&#x27;,\n                                                                   MinMaxScaler()),\n                                                                  (&#x27;std_scale&#x27;,\n                                                                   StandardScaler())]),\n                                                  [&#x27;city_development_index&#x27;,\n                                                   &#x27;relevent_experience&#x27;,\n                                                   &#x27;experience&#x27;, &#x27;last_new_job&#x27;,\n                                                   &#x27;training_hours&#x27;]),\n                                                 (&#x27;cat_pipeline&#x27;,\n                                                  Pipeline(steps=[(&#x27;impute&#x27;,\n                                                                   SimpleImputer(strategy=&#x27;most_frequent&#x27;)),\n                                                                  (&#x27;one-hot&#x27;,\n                                                                   OneHotEncoder(handle_unknown=&#x27;ignore&#x27;,\n                                                                                 sparse=False))]),\n                                                  [&#x27;gender&#x27;,\n                                                   &#x27;enrolled_university&#x27;,\n                                                   &#x27;education_level&#x27;,\n                                                   &#x27;major_discipline&#x27;,\n                                                   &#x27;company_size&#x27;,\n                                                   &#x27;company_type&#x27;])])),\n                (&#x27;model&#x27;, LogisticRegression(C=1, random_state=0))])</pre></div></div></div><div class=\"sk-serial\"><div class=\"sk-item sk-dashed-wrapped\"><div class=\"sk-label-container\"><div class=\"sk-label sk-toggleable\"><input class=\"sk-toggleable__control sk-hidden--visually\" id=\"sk-estimator-id-29\" type=\"checkbox\" ><label for=\"sk-estimator-id-29\" class=\"sk-toggleable__label sk-toggleable__label-arrow\">col_trans: ColumnTransformer</label><div class=\"sk-toggleable__content\"><pre>ColumnTransformer(n_jobs=-1,\n                  transformers=[(&#x27;num_pipeline&#x27;,\n                                 Pipeline(steps=[(&#x27;impute&#x27;, SimpleImputer()),\n                                                 (&#x27;minmax_scale&#x27;,\n                                                  MinMaxScaler()),\n                                                 (&#x27;std_scale&#x27;,\n                                                  StandardScaler())]),\n                                 [&#x27;city_development_index&#x27;,\n                                  &#x27;relevent_experience&#x27;, &#x27;experience&#x27;,\n                                  &#x27;last_new_job&#x27;, &#x27;training_hours&#x27;]),\n                                (&#x27;cat_pipeline&#x27;,\n                                 Pipeline(steps=[(&#x27;impute&#x27;,\n                                                  SimpleImputer(strategy=&#x27;most_frequent&#x27;)),\n                                                 (&#x27;one-hot&#x27;,\n                                                  OneHotEncoder(handle_unknown=&#x27;ignore&#x27;,\n                                                                sparse=False))]),\n                                 [&#x27;gender&#x27;, &#x27;enrolled_university&#x27;,\n                                  &#x27;education_level&#x27;, &#x27;major_discipline&#x27;,\n                                  &#x27;company_size&#x27;, &#x27;company_type&#x27;])])</pre></div></div></div><div class=\"sk-parallel\"><div class=\"sk-parallel-item\"><div class=\"sk-item\"><div class=\"sk-label-container\"><div class=\"sk-label sk-toggleable\"><input class=\"sk-toggleable__control sk-hidden--visually\" id=\"sk-estimator-id-30\" type=\"checkbox\" ><label for=\"sk-estimator-id-30\" class=\"sk-toggleable__label sk-toggleable__label-arrow\">num_pipeline</label><div class=\"sk-toggleable__content\"><pre>[&#x27;city_development_index&#x27;, &#x27;relevent_experience&#x27;, &#x27;experience&#x27;, &#x27;last_new_job&#x27;, &#x27;training_hours&#x27;]</pre></div></div></div><div class=\"sk-serial\"><div class=\"sk-item\"><div class=\"sk-serial\"><div class=\"sk-item\"><div class=\"sk-estimator sk-toggleable\"><input class=\"sk-toggleable__control sk-hidden--visually\" id=\"sk-estimator-id-31\" type=\"checkbox\" ><label for=\"sk-estimator-id-31\" class=\"sk-toggleable__label sk-toggleable__label-arrow\">SimpleImputer</label><div class=\"sk-toggleable__content\"><pre>SimpleImputer()</pre></div></div></div><div class=\"sk-item\"><div class=\"sk-estimator sk-toggleable\"><input class=\"sk-toggleable__control sk-hidden--visually\" id=\"sk-estimator-id-32\" type=\"checkbox\" ><label for=\"sk-estimator-id-32\" class=\"sk-toggleable__label sk-toggleable__label-arrow\">MinMaxScaler</label><div class=\"sk-toggleable__content\"><pre>MinMaxScaler()</pre></div></div></div><div class=\"sk-item\"><div class=\"sk-estimator sk-toggleable\"><input class=\"sk-toggleable__control sk-hidden--visually\" id=\"sk-estimator-id-33\" type=\"checkbox\" ><label for=\"sk-estimator-id-33\" class=\"sk-toggleable__label sk-toggleable__label-arrow\">StandardScaler</label><div class=\"sk-toggleable__content\"><pre>StandardScaler()</pre></div></div></div></div></div></div></div></div><div class=\"sk-parallel-item\"><div class=\"sk-item\"><div class=\"sk-label-container\"><div class=\"sk-label sk-toggleable\"><input class=\"sk-toggleable__control sk-hidden--visually\" id=\"sk-estimator-id-34\" type=\"checkbox\" ><label for=\"sk-estimator-id-34\" class=\"sk-toggleable__label sk-toggleable__label-arrow\">cat_pipeline</label><div class=\"sk-toggleable__content\"><pre>[&#x27;gender&#x27;, &#x27;enrolled_university&#x27;, &#x27;education_level&#x27;, &#x27;major_discipline&#x27;, &#x27;company_size&#x27;, &#x27;company_type&#x27;]</pre></div></div></div><div class=\"sk-serial\"><div class=\"sk-item\"><div class=\"sk-serial\"><div class=\"sk-item\"><div class=\"sk-estimator sk-toggleable\"><input class=\"sk-toggleable__control sk-hidden--visually\" id=\"sk-estimator-id-35\" type=\"checkbox\" ><label for=\"sk-estimator-id-35\" class=\"sk-toggleable__label sk-toggleable__label-arrow\">SimpleImputer</label><div class=\"sk-toggleable__content\"><pre>SimpleImputer(strategy=&#x27;most_frequent&#x27;)</pre></div></div></div><div class=\"sk-item\"><div class=\"sk-estimator sk-toggleable\"><input class=\"sk-toggleable__control sk-hidden--visually\" id=\"sk-estimator-id-36\" type=\"checkbox\" ><label for=\"sk-estimator-id-36\" class=\"sk-toggleable__label sk-toggleable__label-arrow\">OneHotEncoder</label><div class=\"sk-toggleable__content\"><pre>OneHotEncoder(handle_unknown=&#x27;ignore&#x27;, sparse=False)</pre></div></div></div></div></div></div></div></div></div></div><div class=\"sk-item\"><div class=\"sk-estimator sk-toggleable\"><input class=\"sk-toggleable__control sk-hidden--visually\" id=\"sk-estimator-id-37\" type=\"checkbox\" ><label for=\"sk-estimator-id-37\" class=\"sk-toggleable__label sk-toggleable__label-arrow\">LogisticRegression</label><div class=\"sk-toggleable__content\"><pre>LogisticRegression(C=1, random_state=0)</pre></div></div></div></div></div></div></div>"
     },
     "execution_count": 45,
     "metadata": {},
     "output_type": "execute_result"
    }
   ],
   "source": [
    "clf_pipeline2"
   ]
  },
  {
   "cell_type": "code",
   "execution_count": 46,
   "id": "42b25c64",
   "metadata": {},
   "outputs": [],
   "source": [
    "grid_step_params = [{'col_trans__num_pipeline__minmax_scale': ['passthrough']},\n",
    "                    {'col_trans__num_pipeline__std_scale': ['passthrough']}]"
   ]
  },
  {
   "cell_type": "code",
   "execution_count": 47,
   "id": "5e9fd3ec",
   "metadata": {},
   "outputs": [
    {
     "name": "stdout",
     "output_type": "stream",
     "text": [
      "Best Score of train set: 0.767519295456456\n",
      "Best parameter set: {'col_trans__num_pipeline__minmax_scale': 'passthrough'}\n",
      "Test Score: 0.767223382045929\n"
     ]
    }
   ],
   "source": [
    "# Grid search\n",
    "gs2 = GridSearchCV(clf_pipeline2, grid_step_params, scoring='accuracy')\n",
    "gs2.fit(X_train, y_train)\n",
    "\n",
    "print(\"Best Score of train set: \"+str(gs2.best_score_))\n",
    "print(\"Best parameter set: \"+str(gs2.best_params_))\n",
    "print(\"Test Score: \"+str(gs2.score(X_test,y_test)))"
   ]
  },
  {
   "cell_type": "code",
   "execution_count": 48,
   "id": "330ec0e0",
   "metadata": {},
   "outputs": [],
   "source": [
    "# Both parameter and step"
   ]
  },
  {
   "cell_type": "code",
   "execution_count": 49,
   "id": "647d2c1d",
   "metadata": {},
   "outputs": [
    {
     "name": "stdout",
     "output_type": "stream",
     "text": [
      "Best Score of train set: 0.7679109402817195\n",
      "Best parameter set: {'col_trans__num_pipeline__minmax_scale': 'passthrough', 'model__C': 0.03359818286283781, 'model__penalty': 'l2'}\n",
      "Test Score: 0.7693110647181628\n"
     ]
    }
   ],
   "source": [
    "# Set tuning parameters in grid params\n",
    "# Set step parameters in grid_step_params\n",
    "\n",
    "grid_params = {'model__penalty' : ['none', 'l2'],\n",
    "    'model__C' : np.logspace(-4, 4, 20)}\n",
    "\n",
    "grid_step_params2 = [{**{'col_trans__num_pipeline__minmax_scale': ['passthrough']}, **grid_params},\n",
    "                    {**{'col_trans__num_pipeline__std_scale': ['passthrough']}, **grid_params}]\n",
    "\n",
    "# Grid search\n",
    "gs3 = GridSearchCV(clf_pipeline2, grid_step_params2, scoring='accuracy')\n",
    "gs3.fit(X_train, y_train)\n",
    "\n",
    "print(\"Best Score of train set: \"+str(gs3.best_score_))\n",
    "print(\"Best parameter set: \"+str(gs3.best_params_))\n",
    "print(\"Test Score: \"+str(gs3.score(X_test,y_test)))"
   ]
  },
  {
   "cell_type": "code",
   "execution_count": 50,
   "id": "ebe2e6e4",
   "metadata": {},
   "outputs": [
    {
     "data": {
      "text/plain": "    mean_fit_time  std_fit_time  mean_score_time  std_score_time  \\\n0        0.195251      0.119101         0.021993        0.003066   \n1        0.081555      0.004033         0.018874        0.001440   \n2        0.128406      0.009660         0.017754        0.001253   \n3        0.075692      0.004610         0.017033        0.001350   \n4        0.114938      0.006497         0.016378        0.001692   \n..            ...           ...              ...             ...   \n75       0.122758      0.012338         0.018805        0.001643   \n76       0.132616      0.010861         0.019483        0.001364   \n77       0.125404      0.010485         0.016436        0.001280   \n78       0.126245      0.019668         0.017947        0.001636   \n79       0.119614      0.007185         0.016596        0.001810   \n\n   param_col_trans__num_pipeline__minmax_scale param_model__C  \\\n0                                  passthrough         0.0001   \n1                                  passthrough         0.0001   \n2                                  passthrough       0.000264   \n3                                  passthrough       0.000264   \n4                                  passthrough       0.000695   \n..                                         ...            ...   \n75                                         NaN    1438.449888   \n76                                         NaN    3792.690191   \n77                                         NaN    3792.690191   \n78                                         NaN        10000.0   \n79                                         NaN        10000.0   \n\n   param_model__penalty param_col_trans__num_pipeline__std_scale  \\\n0                  none                                      NaN   \n1                    l2                                      NaN   \n2                  none                                      NaN   \n3                    l2                                      NaN   \n4                  none                                      NaN   \n..                  ...                                      ...   \n75                   l2                              passthrough   \n76                 none                              passthrough   \n77                   l2                              passthrough   \n78                 none                              passthrough   \n79                   l2                              passthrough   \n\n                                               params  split0_test_score  \\\n0   {'col_trans__num_pipeline__minmax_scale': 'pas...           0.766797   \n1   {'col_trans__num_pipeline__minmax_scale': 'pas...           0.750489   \n2   {'col_trans__num_pipeline__minmax_scale': 'pas...           0.766797   \n3   {'col_trans__num_pipeline__minmax_scale': 'pas...           0.751142   \n4   {'col_trans__num_pipeline__minmax_scale': 'pas...           0.766797   \n..                                                ...                ...   \n75  {'col_trans__num_pipeline__std_scale': 'passth...           0.766797   \n76  {'col_trans__num_pipeline__std_scale': 'passth...           0.766797   \n77  {'col_trans__num_pipeline__std_scale': 'passth...           0.766797   \n78  {'col_trans__num_pipeline__std_scale': 'passth...           0.766797   \n79  {'col_trans__num_pipeline__std_scale': 'passth...           0.766797   \n\n    split1_test_score  split2_test_score  split3_test_score  \\\n0            0.764111           0.764763           0.760196   \n1            0.750734           0.750734           0.750734   \n2            0.764111           0.764763           0.760196   \n3            0.751060           0.751713           0.751060   \n4            0.764111           0.764763           0.760196   \n..                ...                ...                ...   \n75           0.764111           0.764763           0.760196   \n76           0.764111           0.764763           0.760196   \n77           0.764111           0.764763           0.760196   \n78           0.764111           0.764763           0.760196   \n79           0.764111           0.764763           0.760196   \n\n    split4_test_score  mean_test_score  std_test_score  rank_test_score  \n0            0.782055         0.767585        0.007545                3  \n1            0.750408         0.750620        0.000142               77  \n2            0.782055         0.767585        0.007545                3  \n3            0.750408         0.751077        0.000414               76  \n4            0.782055         0.767585        0.007545                3  \n..                ...              ...             ...              ...  \n75           0.782055         0.767585        0.007545                3  \n76           0.782055         0.767585        0.007545                3  \n77           0.782055         0.767585        0.007545                3  \n78           0.782055         0.767585        0.007545                3  \n79           0.782055         0.767585        0.007545                3  \n\n[80 rows x 17 columns]",
      "text/html": "<div>\n<style scoped>\n    .dataframe tbody tr th:only-of-type {\n        vertical-align: middle;\n    }\n\n    .dataframe tbody tr th {\n        vertical-align: top;\n    }\n\n    .dataframe thead th {\n        text-align: right;\n    }\n</style>\n<table border=\"1\" class=\"dataframe\">\n  <thead>\n    <tr style=\"text-align: right;\">\n      <th></th>\n      <th>mean_fit_time</th>\n      <th>std_fit_time</th>\n      <th>mean_score_time</th>\n      <th>std_score_time</th>\n      <th>param_col_trans__num_pipeline__minmax_scale</th>\n      <th>param_model__C</th>\n      <th>param_model__penalty</th>\n      <th>param_col_trans__num_pipeline__std_scale</th>\n      <th>params</th>\n      <th>split0_test_score</th>\n      <th>split1_test_score</th>\n      <th>split2_test_score</th>\n      <th>split3_test_score</th>\n      <th>split4_test_score</th>\n      <th>mean_test_score</th>\n      <th>std_test_score</th>\n      <th>rank_test_score</th>\n    </tr>\n  </thead>\n  <tbody>\n    <tr>\n      <th>0</th>\n      <td>0.195251</td>\n      <td>0.119101</td>\n      <td>0.021993</td>\n      <td>0.003066</td>\n      <td>passthrough</td>\n      <td>0.0001</td>\n      <td>none</td>\n      <td>NaN</td>\n      <td>{'col_trans__num_pipeline__minmax_scale': 'pas...</td>\n      <td>0.766797</td>\n      <td>0.764111</td>\n      <td>0.764763</td>\n      <td>0.760196</td>\n      <td>0.782055</td>\n      <td>0.767585</td>\n      <td>0.007545</td>\n      <td>3</td>\n    </tr>\n    <tr>\n      <th>1</th>\n      <td>0.081555</td>\n      <td>0.004033</td>\n      <td>0.018874</td>\n      <td>0.001440</td>\n      <td>passthrough</td>\n      <td>0.0001</td>\n      <td>l2</td>\n      <td>NaN</td>\n      <td>{'col_trans__num_pipeline__minmax_scale': 'pas...</td>\n      <td>0.750489</td>\n      <td>0.750734</td>\n      <td>0.750734</td>\n      <td>0.750734</td>\n      <td>0.750408</td>\n      <td>0.750620</td>\n      <td>0.000142</td>\n      <td>77</td>\n    </tr>\n    <tr>\n      <th>2</th>\n      <td>0.128406</td>\n      <td>0.009660</td>\n      <td>0.017754</td>\n      <td>0.001253</td>\n      <td>passthrough</td>\n      <td>0.000264</td>\n      <td>none</td>\n      <td>NaN</td>\n      <td>{'col_trans__num_pipeline__minmax_scale': 'pas...</td>\n      <td>0.766797</td>\n      <td>0.764111</td>\n      <td>0.764763</td>\n      <td>0.760196</td>\n      <td>0.782055</td>\n      <td>0.767585</td>\n      <td>0.007545</td>\n      <td>3</td>\n    </tr>\n    <tr>\n      <th>3</th>\n      <td>0.075692</td>\n      <td>0.004610</td>\n      <td>0.017033</td>\n      <td>0.001350</td>\n      <td>passthrough</td>\n      <td>0.000264</td>\n      <td>l2</td>\n      <td>NaN</td>\n      <td>{'col_trans__num_pipeline__minmax_scale': 'pas...</td>\n      <td>0.751142</td>\n      <td>0.751060</td>\n      <td>0.751713</td>\n      <td>0.751060</td>\n      <td>0.750408</td>\n      <td>0.751077</td>\n      <td>0.000414</td>\n      <td>76</td>\n    </tr>\n    <tr>\n      <th>4</th>\n      <td>0.114938</td>\n      <td>0.006497</td>\n      <td>0.016378</td>\n      <td>0.001692</td>\n      <td>passthrough</td>\n      <td>0.000695</td>\n      <td>none</td>\n      <td>NaN</td>\n      <td>{'col_trans__num_pipeline__minmax_scale': 'pas...</td>\n      <td>0.766797</td>\n      <td>0.764111</td>\n      <td>0.764763</td>\n      <td>0.760196</td>\n      <td>0.782055</td>\n      <td>0.767585</td>\n      <td>0.007545</td>\n      <td>3</td>\n    </tr>\n    <tr>\n      <th>...</th>\n      <td>...</td>\n      <td>...</td>\n      <td>...</td>\n      <td>...</td>\n      <td>...</td>\n      <td>...</td>\n      <td>...</td>\n      <td>...</td>\n      <td>...</td>\n      <td>...</td>\n      <td>...</td>\n      <td>...</td>\n      <td>...</td>\n      <td>...</td>\n      <td>...</td>\n      <td>...</td>\n      <td>...</td>\n    </tr>\n    <tr>\n      <th>75</th>\n      <td>0.122758</td>\n      <td>0.012338</td>\n      <td>0.018805</td>\n      <td>0.001643</td>\n      <td>NaN</td>\n      <td>1438.449888</td>\n      <td>l2</td>\n      <td>passthrough</td>\n      <td>{'col_trans__num_pipeline__std_scale': 'passth...</td>\n      <td>0.766797</td>\n      <td>0.764111</td>\n      <td>0.764763</td>\n      <td>0.760196</td>\n      <td>0.782055</td>\n      <td>0.767585</td>\n      <td>0.007545</td>\n      <td>3</td>\n    </tr>\n    <tr>\n      <th>76</th>\n      <td>0.132616</td>\n      <td>0.010861</td>\n      <td>0.019483</td>\n      <td>0.001364</td>\n      <td>NaN</td>\n      <td>3792.690191</td>\n      <td>none</td>\n      <td>passthrough</td>\n      <td>{'col_trans__num_pipeline__std_scale': 'passth...</td>\n      <td>0.766797</td>\n      <td>0.764111</td>\n      <td>0.764763</td>\n      <td>0.760196</td>\n      <td>0.782055</td>\n      <td>0.767585</td>\n      <td>0.007545</td>\n      <td>3</td>\n    </tr>\n    <tr>\n      <th>77</th>\n      <td>0.125404</td>\n      <td>0.010485</td>\n      <td>0.016436</td>\n      <td>0.001280</td>\n      <td>NaN</td>\n      <td>3792.690191</td>\n      <td>l2</td>\n      <td>passthrough</td>\n      <td>{'col_trans__num_pipeline__std_scale': 'passth...</td>\n      <td>0.766797</td>\n      <td>0.764111</td>\n      <td>0.764763</td>\n      <td>0.760196</td>\n      <td>0.782055</td>\n      <td>0.767585</td>\n      <td>0.007545</td>\n      <td>3</td>\n    </tr>\n    <tr>\n      <th>78</th>\n      <td>0.126245</td>\n      <td>0.019668</td>\n      <td>0.017947</td>\n      <td>0.001636</td>\n      <td>NaN</td>\n      <td>10000.0</td>\n      <td>none</td>\n      <td>passthrough</td>\n      <td>{'col_trans__num_pipeline__std_scale': 'passth...</td>\n      <td>0.766797</td>\n      <td>0.764111</td>\n      <td>0.764763</td>\n      <td>0.760196</td>\n      <td>0.782055</td>\n      <td>0.767585</td>\n      <td>0.007545</td>\n      <td>3</td>\n    </tr>\n    <tr>\n      <th>79</th>\n      <td>0.119614</td>\n      <td>0.007185</td>\n      <td>0.016596</td>\n      <td>0.001810</td>\n      <td>NaN</td>\n      <td>10000.0</td>\n      <td>l2</td>\n      <td>passthrough</td>\n      <td>{'col_trans__num_pipeline__std_scale': 'passth...</td>\n      <td>0.766797</td>\n      <td>0.764111</td>\n      <td>0.764763</td>\n      <td>0.760196</td>\n      <td>0.782055</td>\n      <td>0.767585</td>\n      <td>0.007545</td>\n      <td>3</td>\n    </tr>\n  </tbody>\n</table>\n<p>80 rows × 17 columns</p>\n</div>"
     },
     "execution_count": 50,
     "metadata": {},
     "output_type": "execute_result"
    }
   ],
   "source": [
    "# see all grid search result\n",
    "pd.DataFrame(gs3.cv_results_)"
   ]
  },
  {
   "cell_type": "markdown",
   "id": "863f36be",
   "metadata": {},
   "source": [
    "# Add custom transformation in a pipeline"
   ]
  },
  {
   "cell_type": "code",
   "execution_count": 51,
   "id": "10fac0d5",
   "metadata": {},
   "outputs": [],
   "source": [
    "# Create custom transformation class\n",
    "from sklearn.base import TransformerMixin\n",
    "\n",
    "class Encode(TransformerMixin):\n",
    "    # Encode ordinal feature using mapping to transform categorical features into numarical features\n",
    "    def __init__(self):\n",
    "        print(\"---------init----------\")\n",
    "        # Making Dictionaries of ordinal features\n",
    "        self.relevent_experience_map = {\n",
    "            'Has relevent experience':  1,\n",
    "            'No relevent experience':    0\n",
    "        }\n",
    "\n",
    "        self.experience_map = {\n",
    "            '<1'      :    0,\n",
    "            '1'       :    1, \n",
    "            '2'       :    2, \n",
    "            '3'       :    3, \n",
    "            '4'       :    4, \n",
    "            '5'       :    5,\n",
    "            '6'       :    6,\n",
    "            '7'       :    7,\n",
    "            '8'       :    8, \n",
    "            '9'       :    9, \n",
    "            '10'      :    10, \n",
    "            '11'      :    11,\n",
    "            '12'      :    12,\n",
    "            '13'      :    13, \n",
    "            '14'      :    14, \n",
    "            '15'      :    15, \n",
    "            '16'      :    16,\n",
    "            '17'      :    17,\n",
    "            '18'      :    18,\n",
    "            '19'      :    19, \n",
    "            '20'      :    20, \n",
    "            '>20'     :    21\n",
    "        } \n",
    "\n",
    "        self.last_new_job_map = {\n",
    "            'never'        :    0,\n",
    "            '1'            :    1, \n",
    "            '2'            :    2, \n",
    "            '3'            :    3, \n",
    "            '4'            :    4, \n",
    "            '>4'           :    5\n",
    "        }\n",
    "        \n",
    "    def fit(self, df, y = None):\n",
    "        print(\"---------fit----------\")\n",
    "        return self\n",
    "        \n",
    "    def transform(self, df, y = None):\n",
    "        print(\"---------transform----------\")\n",
    "        df_pre = df.copy()\n",
    "        df_pre.loc[:,'relevent_experience'] = df_pre['relevent_experience'].map(self.relevent_experience_map)\n",
    "        df_pre.loc[:,'last_new_job'] = df_pre['last_new_job'].map(self.last_new_job_map)\n",
    "        df_pre.loc[:,'experience'] = df_pre['experience'].map(self.experience_map)\n",
    "        return df_pre\n",
    "        "
   ]
  },
  {
   "cell_type": "code",
   "execution_count": 52,
   "id": "ce094c47",
   "metadata": {},
   "outputs": [
    {
     "name": "stdout",
     "output_type": "stream",
     "text": [
      "---------init----------\n"
     ]
    }
   ],
   "source": [
    "from sklearn.pipeline import Pipeline\n",
    "\n",
    "encode_pipeline = Pipeline(steps=[('encode', Encode())])"
   ]
  },
  {
   "cell_type": "code",
   "execution_count": 53,
   "id": "d25d8964",
   "metadata": {},
   "outputs": [
    {
     "name": "stdout",
     "output_type": "stream",
     "text": [
      "---------fit----------\n"
     ]
    },
    {
     "data": {
      "text/plain": "Pipeline(steps=[('encode', <__main__.Encode object at 0x14713c5e0>)])",
      "text/html": "<style>#sk-container-id-5 {color: black;background-color: white;}#sk-container-id-5 pre{padding: 0;}#sk-container-id-5 div.sk-toggleable {background-color: white;}#sk-container-id-5 label.sk-toggleable__label {cursor: pointer;display: block;width: 100%;margin-bottom: 0;padding: 0.3em;box-sizing: border-box;text-align: center;}#sk-container-id-5 label.sk-toggleable__label-arrow:before {content: \"▸\";float: left;margin-right: 0.25em;color: #696969;}#sk-container-id-5 label.sk-toggleable__label-arrow:hover:before {color: black;}#sk-container-id-5 div.sk-estimator:hover label.sk-toggleable__label-arrow:before {color: black;}#sk-container-id-5 div.sk-toggleable__content {max-height: 0;max-width: 0;overflow: hidden;text-align: left;background-color: #f0f8ff;}#sk-container-id-5 div.sk-toggleable__content pre {margin: 0.2em;color: black;border-radius: 0.25em;background-color: #f0f8ff;}#sk-container-id-5 input.sk-toggleable__control:checked~div.sk-toggleable__content {max-height: 200px;max-width: 100%;overflow: auto;}#sk-container-id-5 input.sk-toggleable__control:checked~label.sk-toggleable__label-arrow:before {content: \"▾\";}#sk-container-id-5 div.sk-estimator input.sk-toggleable__control:checked~label.sk-toggleable__label {background-color: #d4ebff;}#sk-container-id-5 div.sk-label input.sk-toggleable__control:checked~label.sk-toggleable__label {background-color: #d4ebff;}#sk-container-id-5 input.sk-hidden--visually {border: 0;clip: rect(1px 1px 1px 1px);clip: rect(1px, 1px, 1px, 1px);height: 1px;margin: -1px;overflow: hidden;padding: 0;position: absolute;width: 1px;}#sk-container-id-5 div.sk-estimator {font-family: monospace;background-color: #f0f8ff;border: 1px dotted black;border-radius: 0.25em;box-sizing: border-box;margin-bottom: 0.5em;}#sk-container-id-5 div.sk-estimator:hover {background-color: #d4ebff;}#sk-container-id-5 div.sk-parallel-item::after {content: \"\";width: 100%;border-bottom: 1px solid gray;flex-grow: 1;}#sk-container-id-5 div.sk-label:hover label.sk-toggleable__label {background-color: #d4ebff;}#sk-container-id-5 div.sk-serial::before {content: \"\";position: absolute;border-left: 1px solid gray;box-sizing: border-box;top: 0;bottom: 0;left: 50%;z-index: 0;}#sk-container-id-5 div.sk-serial {display: flex;flex-direction: column;align-items: center;background-color: white;padding-right: 0.2em;padding-left: 0.2em;position: relative;}#sk-container-id-5 div.sk-item {position: relative;z-index: 1;}#sk-container-id-5 div.sk-parallel {display: flex;align-items: stretch;justify-content: center;background-color: white;position: relative;}#sk-container-id-5 div.sk-item::before, #sk-container-id-5 div.sk-parallel-item::before {content: \"\";position: absolute;border-left: 1px solid gray;box-sizing: border-box;top: 0;bottom: 0;left: 50%;z-index: -1;}#sk-container-id-5 div.sk-parallel-item {display: flex;flex-direction: column;z-index: 1;position: relative;background-color: white;}#sk-container-id-5 div.sk-parallel-item:first-child::after {align-self: flex-end;width: 50%;}#sk-container-id-5 div.sk-parallel-item:last-child::after {align-self: flex-start;width: 50%;}#sk-container-id-5 div.sk-parallel-item:only-child::after {width: 0;}#sk-container-id-5 div.sk-dashed-wrapped {border: 1px dashed gray;margin: 0 0.4em 0.5em 0.4em;box-sizing: border-box;padding-bottom: 0.4em;background-color: white;}#sk-container-id-5 div.sk-label label {font-family: monospace;font-weight: bold;display: inline-block;line-height: 1.2em;}#sk-container-id-5 div.sk-label-container {text-align: center;}#sk-container-id-5 div.sk-container {/* jupyter's `normalize.less` sets `[hidden] { display: none; }` but bootstrap.min.css set `[hidden] { display: none !important; }` so we also need the `!important` here to be able to override the default hidden behavior on the sphinx rendered scikit-learn.org. See: https://github.com/scikit-learn/scikit-learn/issues/21755 */display: inline-block !important;position: relative;}#sk-container-id-5 div.sk-text-repr-fallback {display: none;}</style><div id=\"sk-container-id-5\" class=\"sk-top-container\"><div class=\"sk-text-repr-fallback\"><pre>Pipeline(steps=[(&#x27;encode&#x27;, &lt;__main__.Encode object at 0x14713c5e0&gt;)])</pre><b>In a Jupyter environment, please rerun this cell to show the HTML representation or trust the notebook. <br />On GitHub, the HTML representation is unable to render, please try loading this page with nbviewer.org.</b></div><div class=\"sk-container\" hidden><div class=\"sk-item sk-dashed-wrapped\"><div class=\"sk-label-container\"><div class=\"sk-label sk-toggleable\"><input class=\"sk-toggleable__control sk-hidden--visually\" id=\"sk-estimator-id-38\" type=\"checkbox\" ><label for=\"sk-estimator-id-38\" class=\"sk-toggleable__label sk-toggleable__label-arrow\">Pipeline</label><div class=\"sk-toggleable__content\"><pre>Pipeline(steps=[(&#x27;encode&#x27;, &lt;__main__.Encode object at 0x14713c5e0&gt;)])</pre></div></div></div><div class=\"sk-serial\"><div class=\"sk-item\"><div class=\"sk-estimator sk-toggleable\"><input class=\"sk-toggleable__control sk-hidden--visually\" id=\"sk-estimator-id-39\" type=\"checkbox\" ><label for=\"sk-estimator-id-39\" class=\"sk-toggleable__label sk-toggleable__label-arrow\">Encode</label><div class=\"sk-toggleable__content\"><pre>&lt;__main__.Encode object at 0x14713c5e0&gt;</pre></div></div></div></div></div></div></div>"
     },
     "execution_count": 53,
     "metadata": {},
     "output_type": "execute_result"
    }
   ],
   "source": [
    "encode_pipeline.fit(df)"
   ]
  },
  {
   "cell_type": "code",
   "execution_count": 54,
   "id": "f0d8f842",
   "metadata": {},
   "outputs": [
    {
     "name": "stdout",
     "output_type": "stream",
     "text": [
      "---------transform----------\n"
     ]
    },
    {
     "data": {
      "text/plain": "       enrollee_id      city  city_development_index gender  \\\n0             8949  city_103                   0.920   Male   \n1            29725   city_40                   0.776   Male   \n2            11561   city_21                   0.624    NaN   \n3            33241  city_115                   0.789    NaN   \n4              666  city_162                   0.767   Male   \n...            ...       ...                     ...    ...   \n19153         7386  city_173                   0.878   Male   \n19154        31398  city_103                   0.920   Male   \n19155        24576  city_103                   0.920   Male   \n19156         5756   city_65                   0.802   Male   \n19157        23834   city_67                   0.855    NaN   \n\n       relevent_experience enrolled_university education_level  \\\n0                      NaN       no_enrollment        Graduate   \n1                      NaN       no_enrollment        Graduate   \n2                      NaN    Full time course        Graduate   \n3                      NaN                 NaN        Graduate   \n4                      NaN       no_enrollment         Masters   \n...                    ...                 ...             ...   \n19153                  NaN       no_enrollment        Graduate   \n19154                  NaN       no_enrollment        Graduate   \n19155                  NaN       no_enrollment        Graduate   \n19156                  NaN       no_enrollment     High School   \n19157                  NaN       no_enrollment  Primary School   \n\n      major_discipline  experience company_size    company_type  last_new_job  \\\n0                 STEM         NaN          NaN             NaN           NaN   \n1                 STEM         NaN        50-99         Pvt Ltd           NaN   \n2                 STEM         NaN          NaN             NaN           NaN   \n3      Business Degree         NaN          NaN         Pvt Ltd           NaN   \n4                 STEM         NaN        50-99  Funded Startup           NaN   \n...                ...         ...          ...             ...           ...   \n19153       Humanities         NaN          NaN             NaN           NaN   \n19154             STEM         NaN          NaN             NaN           NaN   \n19155             STEM         NaN        50-99         Pvt Ltd           NaN   \n19156              NaN         NaN      500-999         Pvt Ltd           NaN   \n19157              NaN         NaN          NaN             NaN           NaN   \n\n       training_hours  target  \n0                  36     1.0  \n1                  47     0.0  \n2                  83     0.0  \n3                  52     1.0  \n4                   8     0.0  \n...               ...     ...  \n19153              42     1.0  \n19154              52     1.0  \n19155              44     0.0  \n19156              97     0.0  \n19157             127     0.0  \n\n[19158 rows x 14 columns]",
      "text/html": "<div>\n<style scoped>\n    .dataframe tbody tr th:only-of-type {\n        vertical-align: middle;\n    }\n\n    .dataframe tbody tr th {\n        vertical-align: top;\n    }\n\n    .dataframe thead th {\n        text-align: right;\n    }\n</style>\n<table border=\"1\" class=\"dataframe\">\n  <thead>\n    <tr style=\"text-align: right;\">\n      <th></th>\n      <th>enrollee_id</th>\n      <th>city</th>\n      <th>city_development_index</th>\n      <th>gender</th>\n      <th>relevent_experience</th>\n      <th>enrolled_university</th>\n      <th>education_level</th>\n      <th>major_discipline</th>\n      <th>experience</th>\n      <th>company_size</th>\n      <th>company_type</th>\n      <th>last_new_job</th>\n      <th>training_hours</th>\n      <th>target</th>\n    </tr>\n  </thead>\n  <tbody>\n    <tr>\n      <th>0</th>\n      <td>8949</td>\n      <td>city_103</td>\n      <td>0.920</td>\n      <td>Male</td>\n      <td>NaN</td>\n      <td>no_enrollment</td>\n      <td>Graduate</td>\n      <td>STEM</td>\n      <td>NaN</td>\n      <td>NaN</td>\n      <td>NaN</td>\n      <td>NaN</td>\n      <td>36</td>\n      <td>1.0</td>\n    </tr>\n    <tr>\n      <th>1</th>\n      <td>29725</td>\n      <td>city_40</td>\n      <td>0.776</td>\n      <td>Male</td>\n      <td>NaN</td>\n      <td>no_enrollment</td>\n      <td>Graduate</td>\n      <td>STEM</td>\n      <td>NaN</td>\n      <td>50-99</td>\n      <td>Pvt Ltd</td>\n      <td>NaN</td>\n      <td>47</td>\n      <td>0.0</td>\n    </tr>\n    <tr>\n      <th>2</th>\n      <td>11561</td>\n      <td>city_21</td>\n      <td>0.624</td>\n      <td>NaN</td>\n      <td>NaN</td>\n      <td>Full time course</td>\n      <td>Graduate</td>\n      <td>STEM</td>\n      <td>NaN</td>\n      <td>NaN</td>\n      <td>NaN</td>\n      <td>NaN</td>\n      <td>83</td>\n      <td>0.0</td>\n    </tr>\n    <tr>\n      <th>3</th>\n      <td>33241</td>\n      <td>city_115</td>\n      <td>0.789</td>\n      <td>NaN</td>\n      <td>NaN</td>\n      <td>NaN</td>\n      <td>Graduate</td>\n      <td>Business Degree</td>\n      <td>NaN</td>\n      <td>NaN</td>\n      <td>Pvt Ltd</td>\n      <td>NaN</td>\n      <td>52</td>\n      <td>1.0</td>\n    </tr>\n    <tr>\n      <th>4</th>\n      <td>666</td>\n      <td>city_162</td>\n      <td>0.767</td>\n      <td>Male</td>\n      <td>NaN</td>\n      <td>no_enrollment</td>\n      <td>Masters</td>\n      <td>STEM</td>\n      <td>NaN</td>\n      <td>50-99</td>\n      <td>Funded Startup</td>\n      <td>NaN</td>\n      <td>8</td>\n      <td>0.0</td>\n    </tr>\n    <tr>\n      <th>...</th>\n      <td>...</td>\n      <td>...</td>\n      <td>...</td>\n      <td>...</td>\n      <td>...</td>\n      <td>...</td>\n      <td>...</td>\n      <td>...</td>\n      <td>...</td>\n      <td>...</td>\n      <td>...</td>\n      <td>...</td>\n      <td>...</td>\n      <td>...</td>\n    </tr>\n    <tr>\n      <th>19153</th>\n      <td>7386</td>\n      <td>city_173</td>\n      <td>0.878</td>\n      <td>Male</td>\n      <td>NaN</td>\n      <td>no_enrollment</td>\n      <td>Graduate</td>\n      <td>Humanities</td>\n      <td>NaN</td>\n      <td>NaN</td>\n      <td>NaN</td>\n      <td>NaN</td>\n      <td>42</td>\n      <td>1.0</td>\n    </tr>\n    <tr>\n      <th>19154</th>\n      <td>31398</td>\n      <td>city_103</td>\n      <td>0.920</td>\n      <td>Male</td>\n      <td>NaN</td>\n      <td>no_enrollment</td>\n      <td>Graduate</td>\n      <td>STEM</td>\n      <td>NaN</td>\n      <td>NaN</td>\n      <td>NaN</td>\n      <td>NaN</td>\n      <td>52</td>\n      <td>1.0</td>\n    </tr>\n    <tr>\n      <th>19155</th>\n      <td>24576</td>\n      <td>city_103</td>\n      <td>0.920</td>\n      <td>Male</td>\n      <td>NaN</td>\n      <td>no_enrollment</td>\n      <td>Graduate</td>\n      <td>STEM</td>\n      <td>NaN</td>\n      <td>50-99</td>\n      <td>Pvt Ltd</td>\n      <td>NaN</td>\n      <td>44</td>\n      <td>0.0</td>\n    </tr>\n    <tr>\n      <th>19156</th>\n      <td>5756</td>\n      <td>city_65</td>\n      <td>0.802</td>\n      <td>Male</td>\n      <td>NaN</td>\n      <td>no_enrollment</td>\n      <td>High School</td>\n      <td>NaN</td>\n      <td>NaN</td>\n      <td>500-999</td>\n      <td>Pvt Ltd</td>\n      <td>NaN</td>\n      <td>97</td>\n      <td>0.0</td>\n    </tr>\n    <tr>\n      <th>19157</th>\n      <td>23834</td>\n      <td>city_67</td>\n      <td>0.855</td>\n      <td>NaN</td>\n      <td>NaN</td>\n      <td>no_enrollment</td>\n      <td>Primary School</td>\n      <td>NaN</td>\n      <td>NaN</td>\n      <td>NaN</td>\n      <td>NaN</td>\n      <td>NaN</td>\n      <td>127</td>\n      <td>0.0</td>\n    </tr>\n  </tbody>\n</table>\n<p>19158 rows × 14 columns</p>\n</div>"
     },
     "execution_count": 54,
     "metadata": {},
     "output_type": "execute_result"
    }
   ],
   "source": [
    "encode_pipeline.transform(df)"
   ]
  },
  {
   "cell_type": "markdown",
   "id": "9d1a41fe",
   "metadata": {},
   "source": [
    "# Multiple classifier in a pipeline"
   ]
  },
  {
   "cell_type": "code",
   "execution_count": 55,
   "id": "7b55c0aa",
   "metadata": {},
   "outputs": [],
   "source": [
    "# Create custom transformation class\n",
    "\n",
    "from sklearn.base import TransformerMixin\n",
    "\n",
    "class Encode(TransformerMixin):\n",
    "    # Encode ordinal feature using mapping to transform categorical features into numarical\n",
    "    \n",
    "    def __init__(self):\n",
    "        # Making Dictionaries of ordinal features\n",
    "        self.relevent_experience_map = {\n",
    "            'Has relevent experience':  1,\n",
    "            'No relevent experience':    0\n",
    "        }\n",
    "\n",
    "    def fit(self, df, y = None):\n",
    "        return self\n",
    "        \n",
    "    def transform(self, df, y = None):\n",
    "        df_pre = df.copy()\n",
    "        df_pre.loc[:,'relevent_experience'] = df_pre['relevent_experience'].map(self.relevent_experience_map)\n",
    "        return df_pre"
   ]
  },
  {
   "cell_type": "code",
   "execution_count": 56,
   "id": "7650b81d",
   "metadata": {},
   "outputs": [],
   "source": [
    "from sklearn.base import TransformerMixin\n",
    "class Encode_temp(TransformerMixin):\n",
    "    # Encode ordinal feature using mapping to transform categorical features into numarical\n",
    "    \n",
    "    def __init__(self):\n",
    "        # Making Dictionaries of ordinal features\n",
    "        self.rel_exp_map = {\n",
    "            'Has relevent experience':  1,\n",
    "            'No relevent experience':    0\n",
    "        }\n",
    "    def fit(self, df, y = None):\n",
    "        return self\n",
    "        \n",
    "    def transform(self, df, y = None):\n",
    "        df_pre = df.copy()\n",
    "        df_pre.loc[:,'rel_exp'] = df_pre['relevent_experience']\\\n",
    "                               .map(self.rel_exp_map)\n",
    "        return df_pre"
   ]
  },
  {
   "cell_type": "code",
   "execution_count": 57,
   "id": "988005c8",
   "metadata": {},
   "outputs": [],
   "source": [
    "from sklearn.base import BaseEstimator\n",
    "from sklearn.linear_model import LogisticRegression\n",
    "\n",
    "class ClfSwitcher(BaseEstimator):\n",
    "\n",
    "    def __init__(self, estimator = LogisticRegression()):\n",
    "        \"\"\"\n",
    "        A Custom BaseEstimator that can switch between classifiers.\n",
    "        :param estimator: sklearn object - The classifier\n",
    "        \"\"\" \n",
    "        self.estimator = estimator\n",
    "\n",
    "    def fit(self, X, y=None, **kwargs):\n",
    "        self.estimator.fit(X, y)\n",
    "        return self\n",
    "\n",
    "    def predict(self, X, y=None):\n",
    "        return self.estimator.predict(X)\n",
    "\n",
    "    def predict_proba(self, X):\n",
    "        return self.estimator.predict_proba(X)\n",
    "\n",
    "    def score(self, X, y):\n",
    "        return self.estimator.score(X, y)"
   ]
  },
  {
   "cell_type": "code",
   "execution_count": 58,
   "id": "7760bc67",
   "metadata": {},
   "outputs": [],
   "source": [
    "from sklearn.pipeline import Pipeline\n",
    "\n",
    "pipeline = Pipeline([\n",
    "    ('Encode', Encode()),\n",
    "    ('clf', ClfSwitcher())\n",
    "])"
   ]
  },
  {
   "cell_type": "code",
   "execution_count": 59,
   "id": "9294bae6",
   "metadata": {},
   "outputs": [
    {
     "ename": "NameError",
     "evalue": "name 'train_data' is not defined",
     "output_type": "error",
     "traceback": [
      "\u001B[0;31m---------------------------------------------------------------------------\u001B[0m",
      "\u001B[0;31mNameError\u001B[0m                                 Traceback (most recent call last)",
      "\u001B[0;32m<ipython-input-59-e55f744b370d>\u001B[0m in \u001B[0;36m<module>\u001B[0;34m\u001B[0m\n\u001B[1;32m     21\u001B[0m \u001B[0;34m\u001B[0m\u001B[0m\n\u001B[1;32m     22\u001B[0m \u001B[0mgscv\u001B[0m \u001B[0;34m=\u001B[0m \u001B[0mGridSearchCV\u001B[0m\u001B[0;34m(\u001B[0m\u001B[0mpipeline\u001B[0m\u001B[0;34m,\u001B[0m \u001B[0mparameters\u001B[0m\u001B[0;34m,\u001B[0m \u001B[0mcv\u001B[0m\u001B[0;34m=\u001B[0m\u001B[0;36m5\u001B[0m\u001B[0;34m,\u001B[0m \u001B[0mn_jobs\u001B[0m\u001B[0;34m=\u001B[0m\u001B[0;36m12\u001B[0m\u001B[0;34m,\u001B[0m \u001B[0mreturn_train_score\u001B[0m\u001B[0;34m=\u001B[0m\u001B[0;32mFalse\u001B[0m\u001B[0;34m,\u001B[0m \u001B[0mverbose\u001B[0m\u001B[0;34m=\u001B[0m\u001B[0;36m3\u001B[0m\u001B[0;34m)\u001B[0m\u001B[0;34m\u001B[0m\u001B[0;34m\u001B[0m\u001B[0m\n\u001B[0;32m---> 23\u001B[0;31m \u001B[0mgscv\u001B[0m\u001B[0;34m.\u001B[0m\u001B[0mfit\u001B[0m\u001B[0;34m(\u001B[0m\u001B[0mtrain_data\u001B[0m\u001B[0;34m,\u001B[0m \u001B[0mtrain_labels\u001B[0m\u001B[0;34m)\u001B[0m\u001B[0;34m\u001B[0m\u001B[0;34m\u001B[0m\u001B[0m\n\u001B[0m",
      "\u001B[0;31mNameError\u001B[0m: name 'train_data' is not defined"
     ]
    }
   ],
   "source": [
    "from sklearn.svm import SVC\n",
    "from sklearn.model_selection import GridSearchCV\n",
    "\n",
    "parameters = [\n",
    "    {\n",
    "        'clf__estimator': [LogisticRegression()], # SVM if hinge loss / logreg if log loss\n",
    "        'tfidf__max_df': (0.25, 0.5, 0.75, 1.0),\n",
    "        'tfidf__stop_words': ['english', None],\n",
    "        'clf__estimator__penalty': ('l2', 'elasticnet', 'l1'),\n",
    "        'clf__estimator__max_iter': [50, 80],\n",
    "        'clf__estimator__tol': [1e-4],\n",
    "        'clf__estimator__loss': ['hinge', 'log', 'modified_huber'],\n",
    "    },\n",
    "    {\n",
    "        'clf__estimator': [SVC(gamma='auto')],\n",
    "        'tfidf__max_df': (0.25, 0.5, 0.75, 1.0),\n",
    "        'tfidf__stop_words': [None],\n",
    "        'clf__estimator__alpha': (1e-2, 1e-3, 1e-1),\n",
    "    },\n",
    "]\n",
    "\n",
    "gscv = GridSearchCV(pipeline, parameters, cv=5, n_jobs=12, return_train_score=False, verbose=3)\n",
    "gscv.fit(train_data, train_labels)"
   ]
  },
  {
   "cell_type": "markdown",
   "id": "408d7acf",
   "metadata": {},
   "source": [
    "# Full pipeline"
   ]
  },
  {
   "cell_type": "code",
   "execution_count": 60,
   "id": "51bcf096",
   "metadata": {},
   "outputs": [],
   "source": [
    "# Create custom transformation class\n",
    "\n",
    "from sklearn.base import TransformerMixin\n",
    "\n",
    "class Encode(TransformerMixin):\n",
    "    # Encode ordinal feature using mapping to transform categorical features into numarical features\n",
    "    def __init__(self):\n",
    "        print(\"---------init----------\")\n",
    "        # Making Dictionaries of ordinal features\n",
    "        self.relevent_experience_map = {\n",
    "            'Has relevent experience':  1,\n",
    "            'No relevent experience':    0\n",
    "        }\n",
    "\n",
    "        self.experience_map = {\n",
    "            '<1'      :    0,\n",
    "            '1'       :    1, \n",
    "            '2'       :    2, \n",
    "            '3'       :    3, \n",
    "            '4'       :    4, \n",
    "            '5'       :    5,\n",
    "            '6'       :    6,\n",
    "            '7'       :    7,\n",
    "            '8'       :    8, \n",
    "            '9'       :    9, \n",
    "            '10'      :    10, \n",
    "            '11'      :    11,\n",
    "            '12'      :    12,\n",
    "            '13'      :    13, \n",
    "            '14'      :    14, \n",
    "            '15'      :    15, \n",
    "            '16'      :    16,\n",
    "            '17'      :    17,\n",
    "            '18'      :    18,\n",
    "            '19'      :    19, \n",
    "            '20'      :    20, \n",
    "            '>20'     :    21\n",
    "        } \n",
    "\n",
    "        self.last_new_job_map = {\n",
    "            'never'        :    0,\n",
    "            '1'            :    1, \n",
    "            '2'            :    2, \n",
    "            '3'            :    3, \n",
    "            '4'            :    4, \n",
    "            '>4'           :    5\n",
    "        }\n",
    "        \n",
    "    def fit(self, df, y = None):\n",
    "        print(\"---------fit----------\")\n",
    "        return self\n",
    "        \n",
    "    def transform(self, df, y = None):\n",
    "        print(\"---------transform----------\")\n",
    "        df_pre = df.copy()\n",
    "        df_pre.loc[:,'relevent_experience'] = df_pre['relevent_experience'].map(self.relevent_experience_map)\n",
    "        df_pre.loc[:,'last_new_job'] = df_pre['last_new_job'].map(self.last_new_job_map)\n",
    "        df_pre.loc[:,'experience'] = df_pre['experience'].map(self.experience_map)\n",
    "        return df_pre"
   ]
  },
  {
   "cell_type": "code",
   "execution_count": 61,
   "id": "7bce06cf",
   "metadata": {},
   "outputs": [],
   "source": [
    "from sklearn.base import BaseEstimator\n",
    "from sklearn.linear_model import LogisticRegression\n",
    "from sklearn.svm import SVC\n",
    "\n",
    "class ClfSwitcher(BaseEstimator):\n",
    "\n",
    "    def __init__(self, estimator = LogisticRegression()):\n",
    "        \"\"\"\n",
    "        A Custom BaseEstimator that can switch between classifiers.\n",
    "        :param estimator: sklearn object - The classifier\n",
    "        \"\"\" \n",
    "        self.estimator = estimator\n",
    "\n",
    "    def fit(self, X, y=None, **kwargs):\n",
    "        self.estimator.fit(X, y)\n",
    "        return self\n",
    "\n",
    "    def predict(self, X, y=None):\n",
    "        return self.estimator.predict(X)\n",
    "\n",
    "    def predict_proba(self, X):\n",
    "        return self.estimator.predict_proba(X)\n",
    "\n",
    "    def score(self, X, y):\n",
    "        return self.estimator.score(X, y)"
   ]
  },
  {
   "cell_type": "code",
   "execution_count": 62,
   "id": "996139af",
   "metadata": {},
   "outputs": [],
   "source": [
    "# sets of columns to be transformed in different ways\n",
    "\n",
    "num_cols = ['city_development_index','relevent_experience', 'experience','last_new_job', 'training_hours']\n",
    "cat_cols = ['gender', 'enrolled_university', 'education_level', 'major_discipline', 'company_size', 'company_type']"
   ]
  },
  {
   "cell_type": "code",
   "execution_count": 63,
   "id": "42d2eb68",
   "metadata": {},
   "outputs": [],
   "source": [
    "# Divide train and test sets\n",
    "\n",
    "from sklearn.model_selection import train_test_split\n",
    "\n",
    "X = df[num_cols+cat_cols]\n",
    "y = df['target']\n",
    "\n",
    "# train test split\n",
    "X_train, X_test, y_train, y_test = train_test_split(X, y, test_size=0.2, stratify=y)"
   ]
  },
  {
   "cell_type": "code",
   "execution_count": 64,
   "id": "bc430e8e",
   "metadata": {},
   "outputs": [],
   "source": [
    "# Create pipelines for numerical and categorical features\n",
    "\n",
    "from sklearn.impute import SimpleImputer\n",
    "from sklearn.preprocessing import OneHotEncoder, MinMaxScaler\n",
    "from sklearn.pipeline import Pipeline\n",
    "\n",
    "num_pipeline = Pipeline(steps=[\n",
    "    ('impute', SimpleImputer(strategy='mean')),\n",
    "    ('scale',MinMaxScaler())\n",
    "])\n",
    "\n",
    "cat_pipeline = Pipeline(steps=[\n",
    "    ('impute', SimpleImputer(strategy='most_frequent')),\n",
    "    ('one-hot',OneHotEncoder(handle_unknown='ignore', sparse=False))\n",
    "])"
   ]
  },
  {
   "cell_type": "code",
   "execution_count": 65,
   "id": "bde12057",
   "metadata": {},
   "outputs": [],
   "source": [
    "# Create ColumnTransformer to apply pipeline for each column type\n",
    "\n",
    "from sklearn.compose import ColumnTransformer\n",
    "\n",
    "col_trans = ColumnTransformer(transformers=[\n",
    "    ('num_pipeline',num_pipeline,num_cols),\n",
    "    ('cat_pipeline',cat_pipeline,cat_cols)\n",
    "    ],\n",
    "    remainder='drop',\n",
    "    n_jobs=-1)"
   ]
  },
  {
   "cell_type": "code",
   "execution_count": 66,
   "id": "7c155b24",
   "metadata": {},
   "outputs": [
    {
     "name": "stdout",
     "output_type": "stream",
     "text": [
      "---------init----------\n"
     ]
    }
   ],
   "source": [
    "# Add a model to a final pipeline\n",
    "\n",
    "full_pipeline = Pipeline(steps=[\n",
    "    ('Encode', Encode()),\n",
    "    ('col_trans', col_trans),\n",
    "    ('model', ClfSwitcher())\n",
    "])"
   ]
  },
  {
   "cell_type": "code",
   "execution_count": 67,
   "id": "0aef5c0b",
   "metadata": {},
   "outputs": [
    {
     "data": {
      "text/plain": "Pipeline(steps=[('Encode', <__main__.Encode object at 0x147286320>),\n                ('col_trans',\n                 ColumnTransformer(n_jobs=-1,\n                                   transformers=[('num_pipeline',\n                                                  Pipeline(steps=[('impute',\n                                                                   SimpleImputer()),\n                                                                  ('scale',\n                                                                   MinMaxScaler())]),\n                                                  ['city_development_index',\n                                                   'relevent_experience',\n                                                   'experience', 'last_new_job',\n                                                   'training_hours']),\n                                                 ('cat_pipeline',\n                                                  Pipeline(steps=[('impute',\n                                                                   SimpleImputer(strategy='most_frequent')),\n                                                                  ('one-hot',\n                                                                   OneHotEncoder(handle_unknown='ignore',\n                                                                                 sparse=False))]),\n                                                  ['gender',\n                                                   'enrolled_university',\n                                                   'education_level',\n                                                   'major_discipline',\n                                                   'company_size',\n                                                   'company_type'])])),\n                ('model', ClfSwitcher())])",
      "text/html": "<style>#sk-container-id-6 {color: black;background-color: white;}#sk-container-id-6 pre{padding: 0;}#sk-container-id-6 div.sk-toggleable {background-color: white;}#sk-container-id-6 label.sk-toggleable__label {cursor: pointer;display: block;width: 100%;margin-bottom: 0;padding: 0.3em;box-sizing: border-box;text-align: center;}#sk-container-id-6 label.sk-toggleable__label-arrow:before {content: \"▸\";float: left;margin-right: 0.25em;color: #696969;}#sk-container-id-6 label.sk-toggleable__label-arrow:hover:before {color: black;}#sk-container-id-6 div.sk-estimator:hover label.sk-toggleable__label-arrow:before {color: black;}#sk-container-id-6 div.sk-toggleable__content {max-height: 0;max-width: 0;overflow: hidden;text-align: left;background-color: #f0f8ff;}#sk-container-id-6 div.sk-toggleable__content pre {margin: 0.2em;color: black;border-radius: 0.25em;background-color: #f0f8ff;}#sk-container-id-6 input.sk-toggleable__control:checked~div.sk-toggleable__content {max-height: 200px;max-width: 100%;overflow: auto;}#sk-container-id-6 input.sk-toggleable__control:checked~label.sk-toggleable__label-arrow:before {content: \"▾\";}#sk-container-id-6 div.sk-estimator input.sk-toggleable__control:checked~label.sk-toggleable__label {background-color: #d4ebff;}#sk-container-id-6 div.sk-label input.sk-toggleable__control:checked~label.sk-toggleable__label {background-color: #d4ebff;}#sk-container-id-6 input.sk-hidden--visually {border: 0;clip: rect(1px 1px 1px 1px);clip: rect(1px, 1px, 1px, 1px);height: 1px;margin: -1px;overflow: hidden;padding: 0;position: absolute;width: 1px;}#sk-container-id-6 div.sk-estimator {font-family: monospace;background-color: #f0f8ff;border: 1px dotted black;border-radius: 0.25em;box-sizing: border-box;margin-bottom: 0.5em;}#sk-container-id-6 div.sk-estimator:hover {background-color: #d4ebff;}#sk-container-id-6 div.sk-parallel-item::after {content: \"\";width: 100%;border-bottom: 1px solid gray;flex-grow: 1;}#sk-container-id-6 div.sk-label:hover label.sk-toggleable__label {background-color: #d4ebff;}#sk-container-id-6 div.sk-serial::before {content: \"\";position: absolute;border-left: 1px solid gray;box-sizing: border-box;top: 0;bottom: 0;left: 50%;z-index: 0;}#sk-container-id-6 div.sk-serial {display: flex;flex-direction: column;align-items: center;background-color: white;padding-right: 0.2em;padding-left: 0.2em;position: relative;}#sk-container-id-6 div.sk-item {position: relative;z-index: 1;}#sk-container-id-6 div.sk-parallel {display: flex;align-items: stretch;justify-content: center;background-color: white;position: relative;}#sk-container-id-6 div.sk-item::before, #sk-container-id-6 div.sk-parallel-item::before {content: \"\";position: absolute;border-left: 1px solid gray;box-sizing: border-box;top: 0;bottom: 0;left: 50%;z-index: -1;}#sk-container-id-6 div.sk-parallel-item {display: flex;flex-direction: column;z-index: 1;position: relative;background-color: white;}#sk-container-id-6 div.sk-parallel-item:first-child::after {align-self: flex-end;width: 50%;}#sk-container-id-6 div.sk-parallel-item:last-child::after {align-self: flex-start;width: 50%;}#sk-container-id-6 div.sk-parallel-item:only-child::after {width: 0;}#sk-container-id-6 div.sk-dashed-wrapped {border: 1px dashed gray;margin: 0 0.4em 0.5em 0.4em;box-sizing: border-box;padding-bottom: 0.4em;background-color: white;}#sk-container-id-6 div.sk-label label {font-family: monospace;font-weight: bold;display: inline-block;line-height: 1.2em;}#sk-container-id-6 div.sk-label-container {text-align: center;}#sk-container-id-6 div.sk-container {/* jupyter's `normalize.less` sets `[hidden] { display: none; }` but bootstrap.min.css set `[hidden] { display: none !important; }` so we also need the `!important` here to be able to override the default hidden behavior on the sphinx rendered scikit-learn.org. See: https://github.com/scikit-learn/scikit-learn/issues/21755 */display: inline-block !important;position: relative;}#sk-container-id-6 div.sk-text-repr-fallback {display: none;}</style><div id=\"sk-container-id-6\" class=\"sk-top-container\"><div class=\"sk-text-repr-fallback\"><pre>Pipeline(steps=[(&#x27;Encode&#x27;, &lt;__main__.Encode object at 0x147286320&gt;),\n                (&#x27;col_trans&#x27;,\n                 ColumnTransformer(n_jobs=-1,\n                                   transformers=[(&#x27;num_pipeline&#x27;,\n                                                  Pipeline(steps=[(&#x27;impute&#x27;,\n                                                                   SimpleImputer()),\n                                                                  (&#x27;scale&#x27;,\n                                                                   MinMaxScaler())]),\n                                                  [&#x27;city_development_index&#x27;,\n                                                   &#x27;relevent_experience&#x27;,\n                                                   &#x27;experience&#x27;, &#x27;last_new_job&#x27;,\n                                                   &#x27;training_hours&#x27;]),\n                                                 (&#x27;cat_pipeline&#x27;,\n                                                  Pipeline(steps=[(&#x27;impute&#x27;,\n                                                                   SimpleImputer(strategy=&#x27;most_frequent&#x27;)),\n                                                                  (&#x27;one-hot&#x27;,\n                                                                   OneHotEncoder(handle_unknown=&#x27;ignore&#x27;,\n                                                                                 sparse=False))]),\n                                                  [&#x27;gender&#x27;,\n                                                   &#x27;enrolled_university&#x27;,\n                                                   &#x27;education_level&#x27;,\n                                                   &#x27;major_discipline&#x27;,\n                                                   &#x27;company_size&#x27;,\n                                                   &#x27;company_type&#x27;])])),\n                (&#x27;model&#x27;, ClfSwitcher())])</pre><b>In a Jupyter environment, please rerun this cell to show the HTML representation or trust the notebook. <br />On GitHub, the HTML representation is unable to render, please try loading this page with nbviewer.org.</b></div><div class=\"sk-container\" hidden><div class=\"sk-item sk-dashed-wrapped\"><div class=\"sk-label-container\"><div class=\"sk-label sk-toggleable\"><input class=\"sk-toggleable__control sk-hidden--visually\" id=\"sk-estimator-id-40\" type=\"checkbox\" ><label for=\"sk-estimator-id-40\" class=\"sk-toggleable__label sk-toggleable__label-arrow\">Pipeline</label><div class=\"sk-toggleable__content\"><pre>Pipeline(steps=[(&#x27;Encode&#x27;, &lt;__main__.Encode object at 0x147286320&gt;),\n                (&#x27;col_trans&#x27;,\n                 ColumnTransformer(n_jobs=-1,\n                                   transformers=[(&#x27;num_pipeline&#x27;,\n                                                  Pipeline(steps=[(&#x27;impute&#x27;,\n                                                                   SimpleImputer()),\n                                                                  (&#x27;scale&#x27;,\n                                                                   MinMaxScaler())]),\n                                                  [&#x27;city_development_index&#x27;,\n                                                   &#x27;relevent_experience&#x27;,\n                                                   &#x27;experience&#x27;, &#x27;last_new_job&#x27;,\n                                                   &#x27;training_hours&#x27;]),\n                                                 (&#x27;cat_pipeline&#x27;,\n                                                  Pipeline(steps=[(&#x27;impute&#x27;,\n                                                                   SimpleImputer(strategy=&#x27;most_frequent&#x27;)),\n                                                                  (&#x27;one-hot&#x27;,\n                                                                   OneHotEncoder(handle_unknown=&#x27;ignore&#x27;,\n                                                                                 sparse=False))]),\n                                                  [&#x27;gender&#x27;,\n                                                   &#x27;enrolled_university&#x27;,\n                                                   &#x27;education_level&#x27;,\n                                                   &#x27;major_discipline&#x27;,\n                                                   &#x27;company_size&#x27;,\n                                                   &#x27;company_type&#x27;])])),\n                (&#x27;model&#x27;, ClfSwitcher())])</pre></div></div></div><div class=\"sk-serial\"><div class=\"sk-item\"><div class=\"sk-estimator sk-toggleable\"><input class=\"sk-toggleable__control sk-hidden--visually\" id=\"sk-estimator-id-41\" type=\"checkbox\" ><label for=\"sk-estimator-id-41\" class=\"sk-toggleable__label sk-toggleable__label-arrow\">Encode</label><div class=\"sk-toggleable__content\"><pre>&lt;__main__.Encode object at 0x147286320&gt;</pre></div></div></div><div class=\"sk-item sk-dashed-wrapped\"><div class=\"sk-label-container\"><div class=\"sk-label sk-toggleable\"><input class=\"sk-toggleable__control sk-hidden--visually\" id=\"sk-estimator-id-42\" type=\"checkbox\" ><label for=\"sk-estimator-id-42\" class=\"sk-toggleable__label sk-toggleable__label-arrow\">col_trans: ColumnTransformer</label><div class=\"sk-toggleable__content\"><pre>ColumnTransformer(n_jobs=-1,\n                  transformers=[(&#x27;num_pipeline&#x27;,\n                                 Pipeline(steps=[(&#x27;impute&#x27;, SimpleImputer()),\n                                                 (&#x27;scale&#x27;, MinMaxScaler())]),\n                                 [&#x27;city_development_index&#x27;,\n                                  &#x27;relevent_experience&#x27;, &#x27;experience&#x27;,\n                                  &#x27;last_new_job&#x27;, &#x27;training_hours&#x27;]),\n                                (&#x27;cat_pipeline&#x27;,\n                                 Pipeline(steps=[(&#x27;impute&#x27;,\n                                                  SimpleImputer(strategy=&#x27;most_frequent&#x27;)),\n                                                 (&#x27;one-hot&#x27;,\n                                                  OneHotEncoder(handle_unknown=&#x27;ignore&#x27;,\n                                                                sparse=False))]),\n                                 [&#x27;gender&#x27;, &#x27;enrolled_university&#x27;,\n                                  &#x27;education_level&#x27;, &#x27;major_discipline&#x27;,\n                                  &#x27;company_size&#x27;, &#x27;company_type&#x27;])])</pre></div></div></div><div class=\"sk-parallel\"><div class=\"sk-parallel-item\"><div class=\"sk-item\"><div class=\"sk-label-container\"><div class=\"sk-label sk-toggleable\"><input class=\"sk-toggleable__control sk-hidden--visually\" id=\"sk-estimator-id-43\" type=\"checkbox\" ><label for=\"sk-estimator-id-43\" class=\"sk-toggleable__label sk-toggleable__label-arrow\">num_pipeline</label><div class=\"sk-toggleable__content\"><pre>[&#x27;city_development_index&#x27;, &#x27;relevent_experience&#x27;, &#x27;experience&#x27;, &#x27;last_new_job&#x27;, &#x27;training_hours&#x27;]</pre></div></div></div><div class=\"sk-serial\"><div class=\"sk-item\"><div class=\"sk-serial\"><div class=\"sk-item\"><div class=\"sk-estimator sk-toggleable\"><input class=\"sk-toggleable__control sk-hidden--visually\" id=\"sk-estimator-id-44\" type=\"checkbox\" ><label for=\"sk-estimator-id-44\" class=\"sk-toggleable__label sk-toggleable__label-arrow\">SimpleImputer</label><div class=\"sk-toggleable__content\"><pre>SimpleImputer()</pre></div></div></div><div class=\"sk-item\"><div class=\"sk-estimator sk-toggleable\"><input class=\"sk-toggleable__control sk-hidden--visually\" id=\"sk-estimator-id-45\" type=\"checkbox\" ><label for=\"sk-estimator-id-45\" class=\"sk-toggleable__label sk-toggleable__label-arrow\">MinMaxScaler</label><div class=\"sk-toggleable__content\"><pre>MinMaxScaler()</pre></div></div></div></div></div></div></div></div><div class=\"sk-parallel-item\"><div class=\"sk-item\"><div class=\"sk-label-container\"><div class=\"sk-label sk-toggleable\"><input class=\"sk-toggleable__control sk-hidden--visually\" id=\"sk-estimator-id-46\" type=\"checkbox\" ><label for=\"sk-estimator-id-46\" class=\"sk-toggleable__label sk-toggleable__label-arrow\">cat_pipeline</label><div class=\"sk-toggleable__content\"><pre>[&#x27;gender&#x27;, &#x27;enrolled_university&#x27;, &#x27;education_level&#x27;, &#x27;major_discipline&#x27;, &#x27;company_size&#x27;, &#x27;company_type&#x27;]</pre></div></div></div><div class=\"sk-serial\"><div class=\"sk-item\"><div class=\"sk-serial\"><div class=\"sk-item\"><div class=\"sk-estimator sk-toggleable\"><input class=\"sk-toggleable__control sk-hidden--visually\" id=\"sk-estimator-id-47\" type=\"checkbox\" ><label for=\"sk-estimator-id-47\" class=\"sk-toggleable__label sk-toggleable__label-arrow\">SimpleImputer</label><div class=\"sk-toggleable__content\"><pre>SimpleImputer(strategy=&#x27;most_frequent&#x27;)</pre></div></div></div><div class=\"sk-item\"><div class=\"sk-estimator sk-toggleable\"><input class=\"sk-toggleable__control sk-hidden--visually\" id=\"sk-estimator-id-48\" type=\"checkbox\" ><label for=\"sk-estimator-id-48\" class=\"sk-toggleable__label sk-toggleable__label-arrow\">OneHotEncoder</label><div class=\"sk-toggleable__content\"><pre>OneHotEncoder(handle_unknown=&#x27;ignore&#x27;, sparse=False)</pre></div></div></div></div></div></div></div></div></div></div><div class=\"sk-item sk-dashed-wrapped\"><div class=\"sk-label-container\"><div class=\"sk-label sk-toggleable\"><input class=\"sk-toggleable__control sk-hidden--visually\" id=\"sk-estimator-id-49\" type=\"checkbox\" ><label for=\"sk-estimator-id-49\" class=\"sk-toggleable__label sk-toggleable__label-arrow\">model: ClfSwitcher</label><div class=\"sk-toggleable__content\"><pre>ClfSwitcher()</pre></div></div></div><div class=\"sk-parallel\"><div class=\"sk-parallel-item\"><div class=\"sk-item\"><div class=\"sk-label-container\"><div class=\"sk-label sk-toggleable\"><input class=\"sk-toggleable__control sk-hidden--visually\" id=\"sk-estimator-id-50\" type=\"checkbox\" ><label for=\"sk-estimator-id-50\" class=\"sk-toggleable__label sk-toggleable__label-arrow\">estimator: LogisticRegression</label><div class=\"sk-toggleable__content\"><pre>LogisticRegression()</pre></div></div></div><div class=\"sk-serial\"><div class=\"sk-item\"><div class=\"sk-estimator sk-toggleable\"><input class=\"sk-toggleable__control sk-hidden--visually\" id=\"sk-estimator-id-51\" type=\"checkbox\" ><label for=\"sk-estimator-id-51\" class=\"sk-toggleable__label sk-toggleable__label-arrow\">LogisticRegression</label><div class=\"sk-toggleable__content\"><pre>LogisticRegression()</pre></div></div></div></div></div></div></div></div></div></div></div></div>"
     },
     "metadata": {},
     "output_type": "display_data"
    }
   ],
   "source": [
    "# Display pipeline\n",
    "\n",
    "from sklearn import set_config\n",
    "set_config(display='diagram')\n",
    "\n",
    "display(full_pipeline)\n",
    "\n",
    "# if desired, set display back to the default\n",
    "# set_config(display='text')"
   ]
  },
  {
   "cell_type": "code",
   "execution_count": 68,
   "id": "3ee97271",
   "metadata": {},
   "outputs": [],
   "source": [
    "grid_params = [\n",
    "    {'model__estimator': [LogisticRegression()]},\n",
    "    {'model__estimator': [SVC(gamma='auto')]}\n",
    "]"
   ]
  },
  {
   "cell_type": "code",
   "execution_count": 69,
   "id": "84780918",
   "metadata": {},
   "outputs": [
    {
     "name": "stdout",
     "output_type": "stream",
     "text": [
      "---------fit----------\n",
      "---------transform----------\n",
      "---------transform----------\n",
      "---------fit----------\n",
      "---------transform----------\n",
      "---------transform----------\n",
      "---------fit----------\n",
      "---------transform----------\n",
      "---------transform----------\n",
      "---------fit----------\n",
      "---------transform----------\n",
      "---------transform----------\n",
      "---------fit----------\n",
      "---------transform----------\n",
      "---------transform----------\n",
      "---------fit----------\n",
      "---------transform----------\n",
      "---------transform----------\n",
      "---------fit----------\n",
      "---------transform----------\n",
      "---------transform----------\n",
      "---------fit----------\n",
      "---------transform----------\n",
      "---------transform----------\n",
      "---------fit----------\n",
      "---------transform----------\n",
      "---------transform----------\n",
      "---------fit----------\n",
      "---------transform----------\n",
      "---------transform----------\n",
      "---------fit----------\n",
      "---------transform----------\n",
      "Best Score of train set: 0.7664746751457068\n",
      "Best parameter set: {'model__estimator': LogisticRegression()}\n",
      "---------transform----------\n",
      "Test Score: 0.7599164926931107\n"
     ]
    }
   ],
   "source": [
    "# Grid search\n",
    "\n",
    "from sklearn.model_selection import GridSearchCV\n",
    "\n",
    "gs = GridSearchCV(full_pipeline, grid_params, scoring='accuracy')\n",
    "gs.fit(X_train, y_train)\n",
    "\n",
    "print(\"Best Score of train set: \"+str(gs.best_score_))\n",
    "print(\"Best parameter set: \"+str(gs.best_params_))\n",
    "print(\"Test Score: \"+str(gs.score(X_test,y_test)))"
   ]
  },
  {
   "cell_type": "code",
   "execution_count": 70,
   "id": "ba194671",
   "metadata": {},
   "outputs": [
    {
     "data": {
      "text/plain": "   mean_fit_time  std_fit_time  mean_score_time  std_score_time  \\\n0       0.176604      0.016603         0.027110        0.004026   \n1       4.674908      0.190628         2.771807        0.061183   \n\n  param_model__estimator                                      params  \\\n0   LogisticRegression()  {'model__estimator': LogisticRegression()}   \n1      SVC(gamma='auto')     {'model__estimator': SVC(gamma='auto')}   \n\n   split0_test_score  split1_test_score  split2_test_score  split3_test_score  \\\n0           0.775603           0.756281           0.779772           0.766721   \n1           0.747880           0.752365           0.762480           0.748450   \n\n   split4_test_score  mean_test_score  std_test_score  rank_test_score  \n0           0.753997         0.766475        0.010196                1  \n1           0.741925         0.750620        0.006805                2  ",
      "text/html": "<div>\n<style scoped>\n    .dataframe tbody tr th:only-of-type {\n        vertical-align: middle;\n    }\n\n    .dataframe tbody tr th {\n        vertical-align: top;\n    }\n\n    .dataframe thead th {\n        text-align: right;\n    }\n</style>\n<table border=\"1\" class=\"dataframe\">\n  <thead>\n    <tr style=\"text-align: right;\">\n      <th></th>\n      <th>mean_fit_time</th>\n      <th>std_fit_time</th>\n      <th>mean_score_time</th>\n      <th>std_score_time</th>\n      <th>param_model__estimator</th>\n      <th>params</th>\n      <th>split0_test_score</th>\n      <th>split1_test_score</th>\n      <th>split2_test_score</th>\n      <th>split3_test_score</th>\n      <th>split4_test_score</th>\n      <th>mean_test_score</th>\n      <th>std_test_score</th>\n      <th>rank_test_score</th>\n    </tr>\n  </thead>\n  <tbody>\n    <tr>\n      <th>0</th>\n      <td>0.176604</td>\n      <td>0.016603</td>\n      <td>0.027110</td>\n      <td>0.004026</td>\n      <td>LogisticRegression()</td>\n      <td>{'model__estimator': LogisticRegression()}</td>\n      <td>0.775603</td>\n      <td>0.756281</td>\n      <td>0.779772</td>\n      <td>0.766721</td>\n      <td>0.753997</td>\n      <td>0.766475</td>\n      <td>0.010196</td>\n      <td>1</td>\n    </tr>\n    <tr>\n      <th>1</th>\n      <td>4.674908</td>\n      <td>0.190628</td>\n      <td>2.771807</td>\n      <td>0.061183</td>\n      <td>SVC(gamma='auto')</td>\n      <td>{'model__estimator': SVC(gamma='auto')}</td>\n      <td>0.747880</td>\n      <td>0.752365</td>\n      <td>0.762480</td>\n      <td>0.748450</td>\n      <td>0.741925</td>\n      <td>0.750620</td>\n      <td>0.006805</td>\n      <td>2</td>\n    </tr>\n  </tbody>\n</table>\n</div>"
     },
     "execution_count": 70,
     "metadata": {},
     "output_type": "execute_result"
    }
   ],
   "source": [
    "pd.DataFrame(gs.cv_results_)"
   ]
  },
  {
   "cell_type": "code",
   "execution_count": null,
   "outputs": [],
   "source": [],
   "metadata": {
    "collapsed": false
   }
  }
 ],
 "metadata": {
  "kernelspec": {
   "display_name": "Python 3 (ipykernel)",
   "language": "python",
   "name": "python3"
  },
  "language_info": {
   "codemirror_mode": {
    "name": "ipython",
    "version": 3
   },
   "file_extension": ".py",
   "mimetype": "text/x-python",
   "name": "python",
   "nbconvert_exporter": "python",
   "pygments_lexer": "ipython3",
   "version": "3.9.7"
  }
 },
 "nbformat": 4,
 "nbformat_minor": 5
}
