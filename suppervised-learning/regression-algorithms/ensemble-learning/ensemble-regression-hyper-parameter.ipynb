{
 "cells": [
  {
   "cell_type": "markdown",
   "source": [
    "## Ensemble Regressor"
   ],
   "metadata": {
    "collapsed": false
   }
  },
  {
   "cell_type": "code",
   "execution_count": 44,
   "outputs": [],
   "source": [
    "import pandas as pd\n",
    "import numpy as np\n",
    "import matplotlib.pyplot as plt\n",
    "import seaborn as sns\n",
    "\n",
    "from sklearn.datasets import fetch_california_housing\n",
    "from sklearn.model_selection import train_test_split\n",
    "from sklearn.metrics import r2_score, mean_squared_error\n",
    "\n",
    "# PMML Pipeline(s)\n",
    "from sklearn2pmml import sklearn2pmml\n",
    "from sklearn2pmml.pipeline import PMMLPipeline\n",
    "from sklearn2pmml.preprocessing import LookupTransformer\n",
    "from sklearn2pmml.preprocessing import DaysSinceYearTransformer\n",
    "from sklearn2pmml.preprocessing import PMMLLabelEncoder\n",
    "from sklearn2pmml.decoration import ContinuousDomain\n",
    "from sklearn2pmml.decoration import CategoricalDomain\n",
    "from sklearn2pmml.decoration import DateTimeDomain\n",
    "from sklearn2pmml.feature_extraction.text import Splitter\n",
    "\n",
    "# Data Mapping\n",
    "from sklearn_pandas import DataFrameMapper\n",
    "from sklearn.impute import SimpleImputer\n",
    "from sklearn.preprocessing import StandardScaler\n",
    "from sklearn.feature_extraction.text import CountVectorizer\n",
    "\n",
    "# Regression Models\n",
    "from sklearn.svm import SVR\n",
    "from sklearn.linear_model import Ridge\n",
    "from sklearn.tree import DecisionTreeRegressor\n",
    "from sklearn.ensemble import RandomForestRegressor\n",
    "from sklearn.neighbors import KNeighborsRegressor\n",
    "\n",
    "from sklearn.ensemble import VotingRegressor\n",
    "from sklearn.model_selection import KFold\n",
    "from sklearn.model_selection import RepeatedStratifiedKFold\n",
    "from sklearn.model_selection import RandomizedSearchCV\n",
    "from sklearn.inspection import permutation_importance"
   ],
   "metadata": {
    "collapsed": false,
    "ExecuteTime": {
     "start_time": "2023-04-14T03:42:25.108023Z",
     "end_time": "2023-04-14T03:42:25.114878Z"
    }
   }
  },
  {
   "cell_type": "code",
   "execution_count": 45,
   "outputs": [],
   "source": [
    "# Dsplay pipelines\n",
    "from sklearn import set_config\n",
    "set_config(display=\"diagram\")"
   ],
   "metadata": {
    "collapsed": false,
    "ExecuteTime": {
     "start_time": "2023-04-14T03:42:26.038340Z",
     "end_time": "2023-04-14T03:42:26.048330Z"
    }
   }
  },
  {
   "cell_type": "code",
   "execution_count": 46,
   "outputs": [],
   "source": [
    "import warnings\n",
    "warnings.filterwarnings('ignore')"
   ],
   "metadata": {
    "collapsed": false,
    "ExecuteTime": {
     "start_time": "2023-04-14T03:42:30.449115Z",
     "end_time": "2023-04-14T03:42:30.460699Z"
    }
   }
  },
  {
   "cell_type": "code",
   "execution_count": 47,
   "outputs": [
    {
     "data": {
      "text/plain": "   MedInc  HouseAge  AveRooms  AveBedrms  Population  AveOccup  Latitude  \\\n0  8.3252      41.0  6.984127   1.023810       322.0  2.555556     37.88   \n1  8.3014      21.0  6.238137   0.971880      2401.0  2.109842     37.86   \n2  7.2574      52.0  8.288136   1.073446       496.0  2.802260     37.85   \n3  5.6431      52.0  5.817352   1.073059       558.0  2.547945     37.85   \n4  3.8462      52.0  6.281853   1.081081       565.0  2.181467     37.85   \n5  4.0368      52.0  4.761658   1.103627       413.0  2.139896     37.85   \n6  3.6591      52.0  4.931907   0.951362      1094.0  2.128405     37.84   \n7  3.1200      52.0  4.797527   1.061824      1157.0  1.788253     37.84   \n8  2.0804      42.0  4.294118   1.117647      1206.0  2.026891     37.84   \n9  3.6912      52.0  4.970588   0.990196      1551.0  2.172269     37.84   \n\n   Longitude  \n0    -122.23  \n1    -122.22  \n2    -122.24  \n3    -122.25  \n4    -122.25  \n5    -122.25  \n6    -122.25  \n7    -122.25  \n8    -122.26  \n9    -122.25  ",
      "text/html": "<div>\n<style scoped>\n    .dataframe tbody tr th:only-of-type {\n        vertical-align: middle;\n    }\n\n    .dataframe tbody tr th {\n        vertical-align: top;\n    }\n\n    .dataframe thead th {\n        text-align: right;\n    }\n</style>\n<table border=\"1\" class=\"dataframe\">\n  <thead>\n    <tr style=\"text-align: right;\">\n      <th></th>\n      <th>MedInc</th>\n      <th>HouseAge</th>\n      <th>AveRooms</th>\n      <th>AveBedrms</th>\n      <th>Population</th>\n      <th>AveOccup</th>\n      <th>Latitude</th>\n      <th>Longitude</th>\n    </tr>\n  </thead>\n  <tbody>\n    <tr>\n      <th>0</th>\n      <td>8.3252</td>\n      <td>41.0</td>\n      <td>6.984127</td>\n      <td>1.023810</td>\n      <td>322.0</td>\n      <td>2.555556</td>\n      <td>37.88</td>\n      <td>-122.23</td>\n    </tr>\n    <tr>\n      <th>1</th>\n      <td>8.3014</td>\n      <td>21.0</td>\n      <td>6.238137</td>\n      <td>0.971880</td>\n      <td>2401.0</td>\n      <td>2.109842</td>\n      <td>37.86</td>\n      <td>-122.22</td>\n    </tr>\n    <tr>\n      <th>2</th>\n      <td>7.2574</td>\n      <td>52.0</td>\n      <td>8.288136</td>\n      <td>1.073446</td>\n      <td>496.0</td>\n      <td>2.802260</td>\n      <td>37.85</td>\n      <td>-122.24</td>\n    </tr>\n    <tr>\n      <th>3</th>\n      <td>5.6431</td>\n      <td>52.0</td>\n      <td>5.817352</td>\n      <td>1.073059</td>\n      <td>558.0</td>\n      <td>2.547945</td>\n      <td>37.85</td>\n      <td>-122.25</td>\n    </tr>\n    <tr>\n      <th>4</th>\n      <td>3.8462</td>\n      <td>52.0</td>\n      <td>6.281853</td>\n      <td>1.081081</td>\n      <td>565.0</td>\n      <td>2.181467</td>\n      <td>37.85</td>\n      <td>-122.25</td>\n    </tr>\n    <tr>\n      <th>5</th>\n      <td>4.0368</td>\n      <td>52.0</td>\n      <td>4.761658</td>\n      <td>1.103627</td>\n      <td>413.0</td>\n      <td>2.139896</td>\n      <td>37.85</td>\n      <td>-122.25</td>\n    </tr>\n    <tr>\n      <th>6</th>\n      <td>3.6591</td>\n      <td>52.0</td>\n      <td>4.931907</td>\n      <td>0.951362</td>\n      <td>1094.0</td>\n      <td>2.128405</td>\n      <td>37.84</td>\n      <td>-122.25</td>\n    </tr>\n    <tr>\n      <th>7</th>\n      <td>3.1200</td>\n      <td>52.0</td>\n      <td>4.797527</td>\n      <td>1.061824</td>\n      <td>1157.0</td>\n      <td>1.788253</td>\n      <td>37.84</td>\n      <td>-122.25</td>\n    </tr>\n    <tr>\n      <th>8</th>\n      <td>2.0804</td>\n      <td>42.0</td>\n      <td>4.294118</td>\n      <td>1.117647</td>\n      <td>1206.0</td>\n      <td>2.026891</td>\n      <td>37.84</td>\n      <td>-122.26</td>\n    </tr>\n    <tr>\n      <th>9</th>\n      <td>3.6912</td>\n      <td>52.0</td>\n      <td>4.970588</td>\n      <td>0.990196</td>\n      <td>1551.0</td>\n      <td>2.172269</td>\n      <td>37.84</td>\n      <td>-122.25</td>\n    </tr>\n  </tbody>\n</table>\n</div>"
     },
     "execution_count": 47,
     "metadata": {},
     "output_type": "execute_result"
    }
   ],
   "source": [
    "# Load Data\n",
    "california_house_price = fetch_california_housing()\n",
    "df = pd.DataFrame(\n",
    "    california_house_price.data,\n",
    "    columns=california_house_price.feature_names,\n",
    ")\n",
    "df.head(10)"
   ],
   "metadata": {
    "collapsed": false,
    "ExecuteTime": {
     "start_time": "2023-04-14T03:42:31.083947Z",
     "end_time": "2023-04-14T03:42:31.115603Z"
    }
   }
  },
  {
   "cell_type": "code",
   "execution_count": 48,
   "outputs": [],
   "source": [
    "X = df\n",
    "y = pd.DataFrame()\n",
    "y['PRICE'] = pd.DataFrame(california_house_price.target)"
   ],
   "metadata": {
    "collapsed": false,
    "ExecuteTime": {
     "start_time": "2023-04-14T03:42:31.981681Z",
     "end_time": "2023-04-14T03:42:31.988915Z"
    }
   }
  },
  {
   "cell_type": "code",
   "execution_count": 49,
   "outputs": [
    {
     "data": {
      "text/plain": "'continuous'"
     },
     "execution_count": 49,
     "metadata": {},
     "output_type": "execute_result"
    }
   ],
   "source": [
    "from sklearn.utils.multiclass import type_of_target\n",
    "type_of_target(y)"
   ],
   "metadata": {
    "collapsed": false,
    "ExecuteTime": {
     "start_time": "2023-04-14T03:42:34.241406Z",
     "end_time": "2023-04-14T03:42:34.248813Z"
    }
   }
  },
  {
   "cell_type": "code",
   "execution_count": 50,
   "outputs": [],
   "source": [
    "# train/test split\n",
    "X_train, X_test, y_train, y_test = train_test_split(X, y, test_size=0.2)"
   ],
   "metadata": {
    "collapsed": false,
    "ExecuteTime": {
     "start_time": "2023-04-14T03:42:35.882828Z",
     "end_time": "2023-04-14T03:42:35.890431Z"
    }
   }
  },
  {
   "cell_type": "code",
   "execution_count": 51,
   "outputs": [
    {
     "data": {
      "text/plain": "MedInc        float64\nHouseAge      float64\nAveRooms      float64\nAveBedrms     float64\nPopulation    float64\nAveOccup      float64\nLatitude      float64\nLongitude     float64\ndtype: object"
     },
     "execution_count": 51,
     "metadata": {},
     "output_type": "execute_result"
    }
   ],
   "source": [
    "X_train.dtypes"
   ],
   "metadata": {
    "collapsed": false,
    "ExecuteTime": {
     "start_time": "2023-04-14T03:42:37.402785Z",
     "end_time": "2023-04-14T03:42:37.411723Z"
    }
   }
  },
  {
   "cell_type": "code",
   "execution_count": 52,
   "outputs": [],
   "source": [
    "# Selecting categorical, numeric, datatime, and text features\n",
    "numeric_features = ['MedInc','HouseAge','AveBedrms','Population','AveOccup','Latitude','Longitude']\n",
    "categorical_features = []\n",
    "datetime_features = []\n",
    "text_features = []\n",
    "drop_features = ['AveRooms']"
   ],
   "metadata": {
    "collapsed": false,
    "ExecuteTime": {
     "start_time": "2023-04-14T03:42:38.537547Z",
     "end_time": "2023-04-14T03:42:38.547496Z"
    }
   }
  },
  {
   "cell_type": "code",
   "execution_count": 53,
   "outputs": [],
   "source": [
    "mapper = DataFrameMapper(\n",
    "    [([col_num], [ContinuousDomain(), SimpleImputer(strategy='median'), StandardScaler()]) for col_num in numeric_features] +\n",
    "    [([col_cat], [CategoricalDomain(), SimpleImputer(strategy='most_frequent'), PMMLLabelEncoder(), StandardScaler()]) for col_cat in categorical_features] +\n",
    "    [([col_dat], [DateTimeDomain(), DaysSinceYearTransformer(year = 1968), StandardScaler()]) for col_dat in datetime_features] +\n",
    "    [(col_txt,   [CategoricalDomain(), CountVectorizer(tokenizer=Splitter(), max_features=5)]) for col_txt in text_features],\n",
    "    drop_cols=drop_features,\n",
    "    input_df=True,\n",
    "    df_out=True\n",
    ")"
   ],
   "metadata": {
    "collapsed": false,
    "ExecuteTime": {
     "start_time": "2023-04-14T03:42:40.172199Z",
     "end_time": "2023-04-14T03:42:40.182576Z"
    }
   }
  },
  {
   "cell_type": "code",
   "execution_count": 54,
   "outputs": [
    {
     "data": {
      "text/plain": "         MedInc  HouseAge  AveBedrms  Population  AveOccup  Latitude  \\\n7615  -0.371517  0.577474  -0.195350    0.394592  0.046692 -0.815884   \n15587 -0.001134 -1.408407   1.791868   -0.711289 -0.070014 -1.214064   \n19792 -1.177701 -0.296314   1.200630   -0.988640 -0.052954  2.407039   \n18675  1.124762 -0.852360   0.066342    0.774959 -0.063073  0.622252   \n527   -0.366079  1.848438  -0.149135   -0.829273 -0.074166  1.001695   \n...         ...       ...        ...         ...       ...       ...   \n10756 -0.200523  1.212956   0.148304   -0.807261 -0.103155 -0.947049   \n10299  1.139927 -0.931796  -0.122548    0.554839 -0.027113 -0.801830   \n12447 -1.182721 -0.931796  25.859283   -1.180584 -0.108470 -0.778408   \n700    1.371528 -0.693490  -0.579973   -1.180584 -0.036570  0.964219   \n14365 -0.896109  1.133520  -0.204813   -0.908516 -0.106552 -1.363968   \n\n       Longitude  \n7615    0.670092  \n15587   1.479218  \n19792  -1.852184  \n18675  -1.152939  \n527    -1.337740  \n...          ...  \n10756   0.834914  \n10299   0.849898  \n12447   2.538074  \n700    -1.227858  \n14365   1.169552  \n\n[16512 rows x 7 columns]",
      "text/html": "<div>\n<style scoped>\n    .dataframe tbody tr th:only-of-type {\n        vertical-align: middle;\n    }\n\n    .dataframe tbody tr th {\n        vertical-align: top;\n    }\n\n    .dataframe thead th {\n        text-align: right;\n    }\n</style>\n<table border=\"1\" class=\"dataframe\">\n  <thead>\n    <tr style=\"text-align: right;\">\n      <th></th>\n      <th>MedInc</th>\n      <th>HouseAge</th>\n      <th>AveBedrms</th>\n      <th>Population</th>\n      <th>AveOccup</th>\n      <th>Latitude</th>\n      <th>Longitude</th>\n    </tr>\n  </thead>\n  <tbody>\n    <tr>\n      <th>7615</th>\n      <td>-0.371517</td>\n      <td>0.577474</td>\n      <td>-0.195350</td>\n      <td>0.394592</td>\n      <td>0.046692</td>\n      <td>-0.815884</td>\n      <td>0.670092</td>\n    </tr>\n    <tr>\n      <th>15587</th>\n      <td>-0.001134</td>\n      <td>-1.408407</td>\n      <td>1.791868</td>\n      <td>-0.711289</td>\n      <td>-0.070014</td>\n      <td>-1.214064</td>\n      <td>1.479218</td>\n    </tr>\n    <tr>\n      <th>19792</th>\n      <td>-1.177701</td>\n      <td>-0.296314</td>\n      <td>1.200630</td>\n      <td>-0.988640</td>\n      <td>-0.052954</td>\n      <td>2.407039</td>\n      <td>-1.852184</td>\n    </tr>\n    <tr>\n      <th>18675</th>\n      <td>1.124762</td>\n      <td>-0.852360</td>\n      <td>0.066342</td>\n      <td>0.774959</td>\n      <td>-0.063073</td>\n      <td>0.622252</td>\n      <td>-1.152939</td>\n    </tr>\n    <tr>\n      <th>527</th>\n      <td>-0.366079</td>\n      <td>1.848438</td>\n      <td>-0.149135</td>\n      <td>-0.829273</td>\n      <td>-0.074166</td>\n      <td>1.001695</td>\n      <td>-1.337740</td>\n    </tr>\n    <tr>\n      <th>...</th>\n      <td>...</td>\n      <td>...</td>\n      <td>...</td>\n      <td>...</td>\n      <td>...</td>\n      <td>...</td>\n      <td>...</td>\n    </tr>\n    <tr>\n      <th>10756</th>\n      <td>-0.200523</td>\n      <td>1.212956</td>\n      <td>0.148304</td>\n      <td>-0.807261</td>\n      <td>-0.103155</td>\n      <td>-0.947049</td>\n      <td>0.834914</td>\n    </tr>\n    <tr>\n      <th>10299</th>\n      <td>1.139927</td>\n      <td>-0.931796</td>\n      <td>-0.122548</td>\n      <td>0.554839</td>\n      <td>-0.027113</td>\n      <td>-0.801830</td>\n      <td>0.849898</td>\n    </tr>\n    <tr>\n      <th>12447</th>\n      <td>-1.182721</td>\n      <td>-0.931796</td>\n      <td>25.859283</td>\n      <td>-1.180584</td>\n      <td>-0.108470</td>\n      <td>-0.778408</td>\n      <td>2.538074</td>\n    </tr>\n    <tr>\n      <th>700</th>\n      <td>1.371528</td>\n      <td>-0.693490</td>\n      <td>-0.579973</td>\n      <td>-1.180584</td>\n      <td>-0.036570</td>\n      <td>0.964219</td>\n      <td>-1.227858</td>\n    </tr>\n    <tr>\n      <th>14365</th>\n      <td>-0.896109</td>\n      <td>1.133520</td>\n      <td>-0.204813</td>\n      <td>-0.908516</td>\n      <td>-0.106552</td>\n      <td>-1.363968</td>\n      <td>1.169552</td>\n    </tr>\n  </tbody>\n</table>\n<p>16512 rows × 7 columns</p>\n</div>"
     },
     "execution_count": 54,
     "metadata": {},
     "output_type": "execute_result"
    }
   ],
   "source": [
    "X_trans = mapper.fit_transform(X_train)\n",
    "X_trans"
   ],
   "metadata": {
    "collapsed": false,
    "ExecuteTime": {
     "start_time": "2023-04-14T03:42:41.835292Z",
     "end_time": "2023-04-14T03:42:42.118012Z"
    }
   }
  },
  {
   "cell_type": "markdown",
   "source": [
    "## Ensemble of models"
   ],
   "metadata": {
    "collapsed": false
   }
  },
  {
   "cell_type": "code",
   "execution_count": 55,
   "outputs": [],
   "source": [
    "# Ensemble of models\n",
    "estimator = []\n",
    "estimator.append(('svr', SVR()))\n",
    "estimator.append(('rdr', Ridge()))\n",
    "estimator.append(('knr', KNeighborsRegressor()))\n",
    "estimator.append(('rfr', RandomForestRegressor()))\n",
    "estimator.append(('dtr', DecisionTreeRegressor()))"
   ],
   "metadata": {
    "collapsed": false,
    "ExecuteTime": {
     "start_time": "2023-04-14T03:42:53.451034Z",
     "end_time": "2023-04-14T03:42:53.459432Z"
    }
   }
  },
  {
   "cell_type": "code",
   "execution_count": 56,
   "outputs": [],
   "source": [
    "ppl_ensemble = PMMLPipeline([\n",
    "    (\"mapper\", mapper),\n",
    "    ('ensemble', VotingRegressor(estimators = estimator))\n",
    "])"
   ],
   "metadata": {
    "collapsed": false,
    "ExecuteTime": {
     "start_time": "2023-04-14T03:42:54.365975Z",
     "end_time": "2023-04-14T03:42:54.376429Z"
    }
   }
  },
  {
   "cell_type": "code",
   "execution_count": 57,
   "outputs": [
    {
     "data": {
      "text/plain": "PMMLPipeline(steps=[('mapper', DataFrameMapper(df_out=True, drop_cols=['AveRooms'],\n                features=[(['MedInc'],\n                           [ContinuousDomain(),\n                            SimpleImputer(strategy='median'),\n                            StandardScaler()]),\n                          (['HouseAge'],\n                           [ContinuousDomain(),\n                            SimpleImputer(strategy='median'),\n                            StandardScaler()]),\n                          (['AveBedrms'],\n                           [ContinuousDomain(),\n                            SimpleImputer(strategy='median'),\n                            StandardScaler()]),\n                          (['Population'],\n                           [ContinuousDomain(),\n                            SimpleImputer(strategy='median'),\n                            StandardScaler()]),\n                          (['AveOccup'],\n                           [ContinuousDomain(),\n                            SimpleImputer(strategy='median'),\n                            StandardScaler()]),\n                          (['Latitude'],\n                           [ContinuousDomain(),\n                            SimpleImputer(strategy='median'),\n                            StandardScaler()]),\n                          (['Longitude'],\n                           [ContinuousDomain(),\n                            SimpleImputer(strategy='median'),\n                            StandardScaler()])],\n                input_df=True)),\n       ('ensemble', VotingRegressor(estimators=[('svr', SVR()), ('rdr', Ridge()),\n                            ('knr', KNeighborsRegressor()),\n                            ('rfr', RandomForestRegressor()),\n                            ('dtr', DecisionTreeRegressor())]))])",
      "text/html": "<style>#sk-container-id-7 {color: black;background-color: white;}#sk-container-id-7 pre{padding: 0;}#sk-container-id-7 div.sk-toggleable {background-color: white;}#sk-container-id-7 label.sk-toggleable__label {cursor: pointer;display: block;width: 100%;margin-bottom: 0;padding: 0.3em;box-sizing: border-box;text-align: center;}#sk-container-id-7 label.sk-toggleable__label-arrow:before {content: \"▸\";float: left;margin-right: 0.25em;color: #696969;}#sk-container-id-7 label.sk-toggleable__label-arrow:hover:before {color: black;}#sk-container-id-7 div.sk-estimator:hover label.sk-toggleable__label-arrow:before {color: black;}#sk-container-id-7 div.sk-toggleable__content {max-height: 0;max-width: 0;overflow: hidden;text-align: left;background-color: #f0f8ff;}#sk-container-id-7 div.sk-toggleable__content pre {margin: 0.2em;color: black;border-radius: 0.25em;background-color: #f0f8ff;}#sk-container-id-7 input.sk-toggleable__control:checked~div.sk-toggleable__content {max-height: 200px;max-width: 100%;overflow: auto;}#sk-container-id-7 input.sk-toggleable__control:checked~label.sk-toggleable__label-arrow:before {content: \"▾\";}#sk-container-id-7 div.sk-estimator input.sk-toggleable__control:checked~label.sk-toggleable__label {background-color: #d4ebff;}#sk-container-id-7 div.sk-label input.sk-toggleable__control:checked~label.sk-toggleable__label {background-color: #d4ebff;}#sk-container-id-7 input.sk-hidden--visually {border: 0;clip: rect(1px 1px 1px 1px);clip: rect(1px, 1px, 1px, 1px);height: 1px;margin: -1px;overflow: hidden;padding: 0;position: absolute;width: 1px;}#sk-container-id-7 div.sk-estimator {font-family: monospace;background-color: #f0f8ff;border: 1px dotted black;border-radius: 0.25em;box-sizing: border-box;margin-bottom: 0.5em;}#sk-container-id-7 div.sk-estimator:hover {background-color: #d4ebff;}#sk-container-id-7 div.sk-parallel-item::after {content: \"\";width: 100%;border-bottom: 1px solid gray;flex-grow: 1;}#sk-container-id-7 div.sk-label:hover label.sk-toggleable__label {background-color: #d4ebff;}#sk-container-id-7 div.sk-serial::before {content: \"\";position: absolute;border-left: 1px solid gray;box-sizing: border-box;top: 0;bottom: 0;left: 50%;z-index: 0;}#sk-container-id-7 div.sk-serial {display: flex;flex-direction: column;align-items: center;background-color: white;padding-right: 0.2em;padding-left: 0.2em;position: relative;}#sk-container-id-7 div.sk-item {position: relative;z-index: 1;}#sk-container-id-7 div.sk-parallel {display: flex;align-items: stretch;justify-content: center;background-color: white;position: relative;}#sk-container-id-7 div.sk-item::before, #sk-container-id-7 div.sk-parallel-item::before {content: \"\";position: absolute;border-left: 1px solid gray;box-sizing: border-box;top: 0;bottom: 0;left: 50%;z-index: -1;}#sk-container-id-7 div.sk-parallel-item {display: flex;flex-direction: column;z-index: 1;position: relative;background-color: white;}#sk-container-id-7 div.sk-parallel-item:first-child::after {align-self: flex-end;width: 50%;}#sk-container-id-7 div.sk-parallel-item:last-child::after {align-self: flex-start;width: 50%;}#sk-container-id-7 div.sk-parallel-item:only-child::after {width: 0;}#sk-container-id-7 div.sk-dashed-wrapped {border: 1px dashed gray;margin: 0 0.4em 0.5em 0.4em;box-sizing: border-box;padding-bottom: 0.4em;background-color: white;}#sk-container-id-7 div.sk-label label {font-family: monospace;font-weight: bold;display: inline-block;line-height: 1.2em;}#sk-container-id-7 div.sk-label-container {text-align: center;}#sk-container-id-7 div.sk-container {/* jupyter's `normalize.less` sets `[hidden] { display: none; }` but bootstrap.min.css set `[hidden] { display: none !important; }` so we also need the `!important` here to be able to override the default hidden behavior on the sphinx rendered scikit-learn.org. See: https://github.com/scikit-learn/scikit-learn/issues/21755 */display: inline-block !important;position: relative;}#sk-container-id-7 div.sk-text-repr-fallback {display: none;}</style><div id=\"sk-container-id-7\" class=\"sk-top-container\"><div class=\"sk-text-repr-fallback\"><pre>PMMLPipeline(steps=[(&#x27;mapper&#x27;, DataFrameMapper(df_out=True, drop_cols=[&#x27;AveRooms&#x27;],\n                features=[([&#x27;MedInc&#x27;],\n                           [ContinuousDomain(),\n                            SimpleImputer(strategy=&#x27;median&#x27;),\n                            StandardScaler()]),\n                          ([&#x27;HouseAge&#x27;],\n                           [ContinuousDomain(),\n                            SimpleImputer(strategy=&#x27;median&#x27;),\n                            StandardScaler()]),\n                          ([&#x27;AveBedrms&#x27;],\n                           [ContinuousDomain(),\n                            SimpleImputer(strategy=&#x27;median&#x27;),\n                            StandardScaler()]),\n                          ([&#x27;Population&#x27;],\n                           [ContinuousDomain(),\n                            SimpleImputer(strategy=&#x27;median&#x27;),\n                            StandardScaler()]),\n                          ([&#x27;AveOccup&#x27;],\n                           [ContinuousDomain(),\n                            SimpleImputer(strategy=&#x27;median&#x27;),\n                            StandardScaler()]),\n                          ([&#x27;Latitude&#x27;],\n                           [ContinuousDomain(),\n                            SimpleImputer(strategy=&#x27;median&#x27;),\n                            StandardScaler()]),\n                          ([&#x27;Longitude&#x27;],\n                           [ContinuousDomain(),\n                            SimpleImputer(strategy=&#x27;median&#x27;),\n                            StandardScaler()])],\n                input_df=True)),\n       (&#x27;ensemble&#x27;, VotingRegressor(estimators=[(&#x27;svr&#x27;, SVR()), (&#x27;rdr&#x27;, Ridge()),\n                            (&#x27;knr&#x27;, KNeighborsRegressor()),\n                            (&#x27;rfr&#x27;, RandomForestRegressor()),\n                            (&#x27;dtr&#x27;, DecisionTreeRegressor())]))])</pre><b>In a Jupyter environment, please rerun this cell to show the HTML representation or trust the notebook. <br />On GitHub, the HTML representation is unable to render, please try loading this page with nbviewer.org.</b></div><div class=\"sk-container\" hidden><div class=\"sk-item sk-dashed-wrapped\"><div class=\"sk-label-container\"><div class=\"sk-label sk-toggleable\"><input class=\"sk-toggleable__control sk-hidden--visually\" id=\"sk-estimator-id-51\" type=\"checkbox\" ><label for=\"sk-estimator-id-51\" class=\"sk-toggleable__label sk-toggleable__label-arrow\">PMMLPipeline</label><div class=\"sk-toggleable__content\"><pre>PMMLPipeline(steps=[(&#x27;mapper&#x27;, DataFrameMapper(df_out=True, drop_cols=[&#x27;AveRooms&#x27;],\n                features=[([&#x27;MedInc&#x27;],\n                           [ContinuousDomain(),\n                            SimpleImputer(strategy=&#x27;median&#x27;),\n                            StandardScaler()]),\n                          ([&#x27;HouseAge&#x27;],\n                           [ContinuousDomain(),\n                            SimpleImputer(strategy=&#x27;median&#x27;),\n                            StandardScaler()]),\n                          ([&#x27;AveBedrms&#x27;],\n                           [ContinuousDomain(),\n                            SimpleImputer(strategy=&#x27;median&#x27;),\n                            StandardScaler()]),\n                          ([&#x27;Population&#x27;],\n                           [ContinuousDomain(),\n                            SimpleImputer(strategy=&#x27;median&#x27;),\n                            StandardScaler()]),\n                          ([&#x27;AveOccup&#x27;],\n                           [ContinuousDomain(),\n                            SimpleImputer(strategy=&#x27;median&#x27;),\n                            StandardScaler()]),\n                          ([&#x27;Latitude&#x27;],\n                           [ContinuousDomain(),\n                            SimpleImputer(strategy=&#x27;median&#x27;),\n                            StandardScaler()]),\n                          ([&#x27;Longitude&#x27;],\n                           [ContinuousDomain(),\n                            SimpleImputer(strategy=&#x27;median&#x27;),\n                            StandardScaler()])],\n                input_df=True)),\n       (&#x27;ensemble&#x27;, VotingRegressor(estimators=[(&#x27;svr&#x27;, SVR()), (&#x27;rdr&#x27;, Ridge()),\n                            (&#x27;knr&#x27;, KNeighborsRegressor()),\n                            (&#x27;rfr&#x27;, RandomForestRegressor()),\n                            (&#x27;dtr&#x27;, DecisionTreeRegressor())]))])</pre></div></div></div><div class=\"sk-serial\"><div class=\"sk-item\"><div class=\"sk-estimator sk-toggleable\"><input class=\"sk-toggleable__control sk-hidden--visually\" id=\"sk-estimator-id-52\" type=\"checkbox\" ><label for=\"sk-estimator-id-52\" class=\"sk-toggleable__label sk-toggleable__label-arrow\">DataFrameMapper</label><div class=\"sk-toggleable__content\"><pre>DataFrameMapper(df_out=True, drop_cols=[&#x27;AveRooms&#x27;],\n                features=[([&#x27;MedInc&#x27;],\n                           [ContinuousDomain(),\n                            SimpleImputer(strategy=&#x27;median&#x27;),\n                            StandardScaler()]),\n                          ([&#x27;HouseAge&#x27;],\n                           [ContinuousDomain(),\n                            SimpleImputer(strategy=&#x27;median&#x27;),\n                            StandardScaler()]),\n                          ([&#x27;AveBedrms&#x27;],\n                           [ContinuousDomain(),\n                            SimpleImputer(strategy=&#x27;median&#x27;),\n                            StandardScaler()]),\n                          ([&#x27;Population&#x27;],\n                           [ContinuousDomain(),\n                            SimpleImputer(strategy=&#x27;median&#x27;),\n                            StandardScaler()]),\n                          ([&#x27;AveOccup&#x27;],\n                           [ContinuousDomain(),\n                            SimpleImputer(strategy=&#x27;median&#x27;),\n                            StandardScaler()]),\n                          ([&#x27;Latitude&#x27;],\n                           [ContinuousDomain(),\n                            SimpleImputer(strategy=&#x27;median&#x27;),\n                            StandardScaler()]),\n                          ([&#x27;Longitude&#x27;],\n                           [ContinuousDomain(),\n                            SimpleImputer(strategy=&#x27;median&#x27;),\n                            StandardScaler()])],\n                input_df=True)</pre></div></div></div><div class=\"sk-item sk-dashed-wrapped\"><div class=\"sk-label-container\"><div class=\"sk-label sk-toggleable\"><input class=\"sk-toggleable__control sk-hidden--visually\" id=\"sk-estimator-id-53\" type=\"checkbox\" ><label for=\"sk-estimator-id-53\" class=\"sk-toggleable__label sk-toggleable__label-arrow\">ensemble: VotingRegressor</label><div class=\"sk-toggleable__content\"><pre>VotingRegressor(estimators=[(&#x27;svr&#x27;, SVR()), (&#x27;rdr&#x27;, Ridge()),\n                            (&#x27;knr&#x27;, KNeighborsRegressor()),\n                            (&#x27;rfr&#x27;, RandomForestRegressor()),\n                            (&#x27;dtr&#x27;, DecisionTreeRegressor())])</pre></div></div></div><div class=\"sk-parallel\"><div class=\"sk-parallel-item\"><div class=\"sk-item\"><div class=\"sk-label-container\"><div class=\"sk-label sk-toggleable\"><label>svr</label></div></div><div class=\"sk-serial\"><div class=\"sk-item\"><div class=\"sk-estimator sk-toggleable\"><input class=\"sk-toggleable__control sk-hidden--visually\" id=\"sk-estimator-id-54\" type=\"checkbox\" ><label for=\"sk-estimator-id-54\" class=\"sk-toggleable__label sk-toggleable__label-arrow\">SVR</label><div class=\"sk-toggleable__content\"><pre>SVR()</pre></div></div></div></div></div></div><div class=\"sk-parallel-item\"><div class=\"sk-item\"><div class=\"sk-label-container\"><div class=\"sk-label sk-toggleable\"><label>rdr</label></div></div><div class=\"sk-serial\"><div class=\"sk-item\"><div class=\"sk-estimator sk-toggleable\"><input class=\"sk-toggleable__control sk-hidden--visually\" id=\"sk-estimator-id-55\" type=\"checkbox\" ><label for=\"sk-estimator-id-55\" class=\"sk-toggleable__label sk-toggleable__label-arrow\">Ridge</label><div class=\"sk-toggleable__content\"><pre>Ridge()</pre></div></div></div></div></div></div><div class=\"sk-parallel-item\"><div class=\"sk-item\"><div class=\"sk-label-container\"><div class=\"sk-label sk-toggleable\"><label>knr</label></div></div><div class=\"sk-serial\"><div class=\"sk-item\"><div class=\"sk-estimator sk-toggleable\"><input class=\"sk-toggleable__control sk-hidden--visually\" id=\"sk-estimator-id-56\" type=\"checkbox\" ><label for=\"sk-estimator-id-56\" class=\"sk-toggleable__label sk-toggleable__label-arrow\">KNeighborsRegressor</label><div class=\"sk-toggleable__content\"><pre>KNeighborsRegressor()</pre></div></div></div></div></div></div><div class=\"sk-parallel-item\"><div class=\"sk-item\"><div class=\"sk-label-container\"><div class=\"sk-label sk-toggleable\"><label>rfr</label></div></div><div class=\"sk-serial\"><div class=\"sk-item\"><div class=\"sk-estimator sk-toggleable\"><input class=\"sk-toggleable__control sk-hidden--visually\" id=\"sk-estimator-id-57\" type=\"checkbox\" ><label for=\"sk-estimator-id-57\" class=\"sk-toggleable__label sk-toggleable__label-arrow\">RandomForestRegressor</label><div class=\"sk-toggleable__content\"><pre>RandomForestRegressor()</pre></div></div></div></div></div></div><div class=\"sk-parallel-item\"><div class=\"sk-item\"><div class=\"sk-label-container\"><div class=\"sk-label sk-toggleable\"><label>dtr</label></div></div><div class=\"sk-serial\"><div class=\"sk-item\"><div class=\"sk-estimator sk-toggleable\"><input class=\"sk-toggleable__control sk-hidden--visually\" id=\"sk-estimator-id-58\" type=\"checkbox\" ><label for=\"sk-estimator-id-58\" class=\"sk-toggleable__label sk-toggleable__label-arrow\">DecisionTreeRegressor</label><div class=\"sk-toggleable__content\"><pre>DecisionTreeRegressor()</pre></div></div></div></div></div></div></div></div></div></div></div></div>"
     },
     "metadata": {},
     "output_type": "display_data"
    }
   ],
   "source": [
    "display(ppl_ensemble)"
   ],
   "metadata": {
    "collapsed": false,
    "ExecuteTime": {
     "start_time": "2023-04-14T03:42:55.496477Z",
     "end_time": "2023-04-14T03:42:55.545149Z"
    }
   }
  },
  {
   "cell_type": "markdown",
   "source": [
    "## Hyper-parameter Tuning"
   ],
   "metadata": {
    "collapsed": false
   }
  },
  {
   "cell_type": "code",
   "execution_count": 58,
   "outputs": [
    {
     "data": {
      "text/plain": "{'apply_transformer': None,\n 'header': None,\n 'memory': None,\n 'predict_proba_transformer': None,\n 'predict_transformer': None,\n 'steps': [('mapper',\n   DataFrameMapper(df_out=True, drop_cols=['AveRooms'],\n                   features=[(['MedInc'],\n                              [ContinuousDomain(),\n                               SimpleImputer(strategy='median'),\n                               StandardScaler()]),\n                             (['HouseAge'],\n                              [ContinuousDomain(),\n                               SimpleImputer(strategy='median'),\n                               StandardScaler()]),\n                             (['AveBedrms'],\n                              [ContinuousDomain(),\n                               SimpleImputer(strategy='median'),\n                               StandardScaler()]),\n                             (['Population'],\n                              [ContinuousDomain(),\n                               SimpleImputer(strategy='median'),\n                               StandardScaler()]),\n                             (['AveOccup'],\n                              [ContinuousDomain(),\n                               SimpleImputer(strategy='median'),\n                               StandardScaler()]),\n                             (['Latitude'],\n                              [ContinuousDomain(),\n                               SimpleImputer(strategy='median'),\n                               StandardScaler()]),\n                             (['Longitude'],\n                              [ContinuousDomain(),\n                               SimpleImputer(strategy='median'),\n                               StandardScaler()])],\n                   input_df=True)),\n  ('ensemble',\n   VotingRegressor(estimators=[('svr', SVR()), ('rdr', Ridge()),\n                               ('knr', KNeighborsRegressor()),\n                               ('rfr', RandomForestRegressor()),\n                               ('dtr', DecisionTreeRegressor())]))],\n 'verbose': False,\n 'mapper': DataFrameMapper(df_out=True, drop_cols=['AveRooms'],\n                 features=[(['MedInc'],\n                            [ContinuousDomain(),\n                             SimpleImputer(strategy='median'),\n                             StandardScaler()]),\n                           (['HouseAge'],\n                            [ContinuousDomain(),\n                             SimpleImputer(strategy='median'),\n                             StandardScaler()]),\n                           (['AveBedrms'],\n                            [ContinuousDomain(),\n                             SimpleImputer(strategy='median'),\n                             StandardScaler()]),\n                           (['Population'],\n                            [ContinuousDomain(),\n                             SimpleImputer(strategy='median'),\n                             StandardScaler()]),\n                           (['AveOccup'],\n                            [ContinuousDomain(),\n                             SimpleImputer(strategy='median'),\n                             StandardScaler()]),\n                           (['Latitude'],\n                            [ContinuousDomain(),\n                             SimpleImputer(strategy='median'),\n                             StandardScaler()]),\n                           (['Longitude'],\n                            [ContinuousDomain(),\n                             SimpleImputer(strategy='median'),\n                             StandardScaler()])],\n                 input_df=True),\n 'ensemble': VotingRegressor(estimators=[('svr', SVR()), ('rdr', Ridge()),\n                             ('knr', KNeighborsRegressor()),\n                             ('rfr', RandomForestRegressor()),\n                             ('dtr', DecisionTreeRegressor())]),\n 'mapper__default': False,\n 'mapper__df_out': True,\n 'mapper__drop_cols': ['AveRooms'],\n 'mapper__features': [(['MedInc'],\n   [ContinuousDomain(), SimpleImputer(strategy='median'), StandardScaler()]),\n  (['HouseAge'],\n   [ContinuousDomain(), SimpleImputer(strategy='median'), StandardScaler()]),\n  (['AveBedrms'],\n   [ContinuousDomain(), SimpleImputer(strategy='median'), StandardScaler()]),\n  (['Population'],\n   [ContinuousDomain(), SimpleImputer(strategy='median'), StandardScaler()]),\n  (['AveOccup'],\n   [ContinuousDomain(), SimpleImputer(strategy='median'), StandardScaler()]),\n  (['Latitude'],\n   [ContinuousDomain(), SimpleImputer(strategy='median'), StandardScaler()]),\n  (['Longitude'],\n   [ContinuousDomain(), SimpleImputer(strategy='median'), StandardScaler()])],\n 'mapper__input_df': True,\n 'mapper__sparse': False,\n 'ensemble__estimators': [('svr', SVR()),\n  ('rdr', Ridge()),\n  ('knr', KNeighborsRegressor()),\n  ('rfr', RandomForestRegressor()),\n  ('dtr', DecisionTreeRegressor())],\n 'ensemble__n_jobs': None,\n 'ensemble__verbose': False,\n 'ensemble__weights': None,\n 'ensemble__svr': SVR(),\n 'ensemble__rdr': Ridge(),\n 'ensemble__knr': KNeighborsRegressor(),\n 'ensemble__rfr': RandomForestRegressor(),\n 'ensemble__dtr': DecisionTreeRegressor(),\n 'ensemble__svr__C': 1.0,\n 'ensemble__svr__cache_size': 200,\n 'ensemble__svr__coef0': 0.0,\n 'ensemble__svr__degree': 3,\n 'ensemble__svr__epsilon': 0.1,\n 'ensemble__svr__gamma': 'scale',\n 'ensemble__svr__kernel': 'rbf',\n 'ensemble__svr__max_iter': -1,\n 'ensemble__svr__shrinking': True,\n 'ensemble__svr__tol': 0.001,\n 'ensemble__svr__verbose': False,\n 'ensemble__rdr__alpha': 1.0,\n 'ensemble__rdr__copy_X': True,\n 'ensemble__rdr__fit_intercept': True,\n 'ensemble__rdr__max_iter': None,\n 'ensemble__rdr__positive': False,\n 'ensemble__rdr__random_state': None,\n 'ensemble__rdr__solver': 'auto',\n 'ensemble__rdr__tol': 0.0001,\n 'ensemble__knr__algorithm': 'auto',\n 'ensemble__knr__leaf_size': 30,\n 'ensemble__knr__metric': 'minkowski',\n 'ensemble__knr__metric_params': None,\n 'ensemble__knr__n_jobs': None,\n 'ensemble__knr__n_neighbors': 5,\n 'ensemble__knr__p': 2,\n 'ensemble__knr__weights': 'uniform',\n 'ensemble__rfr__bootstrap': True,\n 'ensemble__rfr__ccp_alpha': 0.0,\n 'ensemble__rfr__criterion': 'squared_error',\n 'ensemble__rfr__max_depth': None,\n 'ensemble__rfr__max_features': 1.0,\n 'ensemble__rfr__max_leaf_nodes': None,\n 'ensemble__rfr__max_samples': None,\n 'ensemble__rfr__min_impurity_decrease': 0.0,\n 'ensemble__rfr__min_samples_leaf': 1,\n 'ensemble__rfr__min_samples_split': 2,\n 'ensemble__rfr__min_weight_fraction_leaf': 0.0,\n 'ensemble__rfr__n_estimators': 100,\n 'ensemble__rfr__n_jobs': None,\n 'ensemble__rfr__oob_score': False,\n 'ensemble__rfr__random_state': None,\n 'ensemble__rfr__verbose': 0,\n 'ensemble__rfr__warm_start': False,\n 'ensemble__dtr__ccp_alpha': 0.0,\n 'ensemble__dtr__criterion': 'squared_error',\n 'ensemble__dtr__max_depth': None,\n 'ensemble__dtr__max_features': None,\n 'ensemble__dtr__max_leaf_nodes': None,\n 'ensemble__dtr__min_impurity_decrease': 0.0,\n 'ensemble__dtr__min_samples_leaf': 1,\n 'ensemble__dtr__min_samples_split': 2,\n 'ensemble__dtr__min_weight_fraction_leaf': 0.0,\n 'ensemble__dtr__random_state': None,\n 'ensemble__dtr__splitter': 'best'}"
     },
     "execution_count": 58,
     "metadata": {},
     "output_type": "execute_result"
    }
   ],
   "source": [
    "ppl_ensemble.get_params()"
   ],
   "metadata": {
    "collapsed": false,
    "ExecuteTime": {
     "start_time": "2023-04-14T03:42:58.036238Z",
     "end_time": "2023-04-14T03:42:58.041672Z"
    }
   }
  },
  {
   "cell_type": "code",
   "execution_count": 59,
   "outputs": [],
   "source": [
    "# Hyper-parameter\n",
    "hyper_params = {\n",
    "    'ensemble__svr__C' : [1,2],\n",
    "    'ensemble__rdr__alpha': [1.0,5.0],\n",
    "    'ensemble__knr__n_neighbors': [5,7],\n",
    "    'ensemble__rfr__max_depth' : [7,10],\n",
    "    'ensemble__dtr__ccp_alpha': [0.0,1.0]\n",
    "}\n",
    "\n",
    "# If your target variable is continuous then use KFold cross validation instead of StratifiedKFold.\n",
    "cv_kfold = KFold(n_splits=2, shuffle=True)\n",
    "# cv_kfold = RepeatedStratifiedKFold(n_splits=2, n_repeats=1)\n",
    "searcher = RandomizedSearchCV(ppl_ensemble, param_distributions=hyper_params, scoring='r2', verbose=2, cv=cv_kfold)"
   ],
   "metadata": {
    "collapsed": false,
    "ExecuteTime": {
     "start_time": "2023-04-14T03:42:59.129697Z",
     "end_time": "2023-04-14T03:42:59.137144Z"
    }
   }
  },
  {
   "cell_type": "code",
   "execution_count": 60,
   "outputs": [
    {
     "name": "stdout",
     "output_type": "stream",
     "text": [
      "Fitting 2 folds for each of 10 candidates, totalling 20 fits\n",
      "[CV] END ensemble__dtr__ccp_alpha=0.0, ensemble__knr__n_neighbors=5, ensemble__rdr__alpha=1.0, ensemble__rfr__max_depth=7, ensemble__svr__C=2; total time=   4.3s\n",
      "[CV] END ensemble__dtr__ccp_alpha=0.0, ensemble__knr__n_neighbors=5, ensemble__rdr__alpha=1.0, ensemble__rfr__max_depth=7, ensemble__svr__C=2; total time=   4.2s\n",
      "[CV] END ensemble__dtr__ccp_alpha=0.0, ensemble__knr__n_neighbors=5, ensemble__rdr__alpha=1.0, ensemble__rfr__max_depth=7, ensemble__svr__C=1; total time=   4.1s\n",
      "[CV] END ensemble__dtr__ccp_alpha=0.0, ensemble__knr__n_neighbors=5, ensemble__rdr__alpha=1.0, ensemble__rfr__max_depth=7, ensemble__svr__C=1; total time=   4.2s\n",
      "[CV] END ensemble__dtr__ccp_alpha=0.0, ensemble__knr__n_neighbors=5, ensemble__rdr__alpha=5.0, ensemble__rfr__max_depth=7, ensemble__svr__C=2; total time=   4.4s\n",
      "[CV] END ensemble__dtr__ccp_alpha=0.0, ensemble__knr__n_neighbors=5, ensemble__rdr__alpha=5.0, ensemble__rfr__max_depth=7, ensemble__svr__C=2; total time=   4.3s\n",
      "[CV] END ensemble__dtr__ccp_alpha=1.0, ensemble__knr__n_neighbors=7, ensemble__rdr__alpha=5.0, ensemble__rfr__max_depth=7, ensemble__svr__C=2; total time=   4.4s\n",
      "[CV] END ensemble__dtr__ccp_alpha=1.0, ensemble__knr__n_neighbors=7, ensemble__rdr__alpha=5.0, ensemble__rfr__max_depth=7, ensemble__svr__C=2; total time=   4.5s\n",
      "[CV] END ensemble__dtr__ccp_alpha=0.0, ensemble__knr__n_neighbors=5, ensemble__rdr__alpha=5.0, ensemble__rfr__max_depth=10, ensemble__svr__C=1; total time=   4.6s\n",
      "[CV] END ensemble__dtr__ccp_alpha=0.0, ensemble__knr__n_neighbors=5, ensemble__rdr__alpha=5.0, ensemble__rfr__max_depth=10, ensemble__svr__C=1; total time=   4.6s\n",
      "[CV] END ensemble__dtr__ccp_alpha=1.0, ensemble__knr__n_neighbors=7, ensemble__rdr__alpha=5.0, ensemble__rfr__max_depth=10, ensemble__svr__C=1; total time=   4.9s\n",
      "[CV] END ensemble__dtr__ccp_alpha=1.0, ensemble__knr__n_neighbors=7, ensemble__rdr__alpha=5.0, ensemble__rfr__max_depth=10, ensemble__svr__C=1; total time=   5.1s\n",
      "[CV] END ensemble__dtr__ccp_alpha=1.0, ensemble__knr__n_neighbors=7, ensemble__rdr__alpha=1.0, ensemble__rfr__max_depth=10, ensemble__svr__C=1; total time=   5.2s\n",
      "[CV] END ensemble__dtr__ccp_alpha=1.0, ensemble__knr__n_neighbors=7, ensemble__rdr__alpha=1.0, ensemble__rfr__max_depth=10, ensemble__svr__C=1; total time=   5.3s\n",
      "[CV] END ensemble__dtr__ccp_alpha=1.0, ensemble__knr__n_neighbors=5, ensemble__rdr__alpha=5.0, ensemble__rfr__max_depth=10, ensemble__svr__C=1; total time=   5.2s\n",
      "[CV] END ensemble__dtr__ccp_alpha=1.0, ensemble__knr__n_neighbors=5, ensemble__rdr__alpha=5.0, ensemble__rfr__max_depth=10, ensemble__svr__C=1; total time=   5.2s\n",
      "[CV] END ensemble__dtr__ccp_alpha=0.0, ensemble__knr__n_neighbors=7, ensemble__rdr__alpha=5.0, ensemble__rfr__max_depth=10, ensemble__svr__C=1; total time=   5.0s\n",
      "[CV] END ensemble__dtr__ccp_alpha=0.0, ensemble__knr__n_neighbors=7, ensemble__rdr__alpha=5.0, ensemble__rfr__max_depth=10, ensemble__svr__C=1; total time=   4.9s\n",
      "[CV] END ensemble__dtr__ccp_alpha=1.0, ensemble__knr__n_neighbors=7, ensemble__rdr__alpha=1.0, ensemble__rfr__max_depth=7, ensemble__svr__C=1; total time=   4.6s\n",
      "[CV] END ensemble__dtr__ccp_alpha=1.0, ensemble__knr__n_neighbors=7, ensemble__rdr__alpha=1.0, ensemble__rfr__max_depth=7, ensemble__svr__C=1; total time=   4.6s\n"
     ]
    },
    {
     "data": {
      "text/plain": "RandomizedSearchCV(cv=KFold(n_splits=2, random_state=None, shuffle=True),\n                   estimator=PMMLPipeline(steps=[('mapper', DataFrameMapper(df_out=True, drop_cols=['AveRooms'], features=[(['MedInc'], [ContinuousDomain(), SimpleImputer(strategy='median'), StandardScaler()]), (['HouseAge'], [ContinuousDomain(), SimpleImputer(strategy='median'), StandardScaler()]), (['AveBe...estimators=[('svr', SVR()), ('rdr', Ridge()), ('knr', KNeighborsRegressor()), ('rfr', RandomForestRegressor()), ('dtr', DecisionTreeRegressor())]))]),\n                   param_distributions={'ensemble__dtr__ccp_alpha': [0.0, 1.0],\n                                        'ensemble__knr__n_neighbors': [5, 7],\n                                        'ensemble__rdr__alpha': [1.0, 5.0],\n                                        'ensemble__rfr__max_depth': [7, 10],\n                                        'ensemble__svr__C': [1, 2]},\n                   scoring='r2', verbose=2)",
      "text/html": "<style>#sk-container-id-8 {color: black;background-color: white;}#sk-container-id-8 pre{padding: 0;}#sk-container-id-8 div.sk-toggleable {background-color: white;}#sk-container-id-8 label.sk-toggleable__label {cursor: pointer;display: block;width: 100%;margin-bottom: 0;padding: 0.3em;box-sizing: border-box;text-align: center;}#sk-container-id-8 label.sk-toggleable__label-arrow:before {content: \"▸\";float: left;margin-right: 0.25em;color: #696969;}#sk-container-id-8 label.sk-toggleable__label-arrow:hover:before {color: black;}#sk-container-id-8 div.sk-estimator:hover label.sk-toggleable__label-arrow:before {color: black;}#sk-container-id-8 div.sk-toggleable__content {max-height: 0;max-width: 0;overflow: hidden;text-align: left;background-color: #f0f8ff;}#sk-container-id-8 div.sk-toggleable__content pre {margin: 0.2em;color: black;border-radius: 0.25em;background-color: #f0f8ff;}#sk-container-id-8 input.sk-toggleable__control:checked~div.sk-toggleable__content {max-height: 200px;max-width: 100%;overflow: auto;}#sk-container-id-8 input.sk-toggleable__control:checked~label.sk-toggleable__label-arrow:before {content: \"▾\";}#sk-container-id-8 div.sk-estimator input.sk-toggleable__control:checked~label.sk-toggleable__label {background-color: #d4ebff;}#sk-container-id-8 div.sk-label input.sk-toggleable__control:checked~label.sk-toggleable__label {background-color: #d4ebff;}#sk-container-id-8 input.sk-hidden--visually {border: 0;clip: rect(1px 1px 1px 1px);clip: rect(1px, 1px, 1px, 1px);height: 1px;margin: -1px;overflow: hidden;padding: 0;position: absolute;width: 1px;}#sk-container-id-8 div.sk-estimator {font-family: monospace;background-color: #f0f8ff;border: 1px dotted black;border-radius: 0.25em;box-sizing: border-box;margin-bottom: 0.5em;}#sk-container-id-8 div.sk-estimator:hover {background-color: #d4ebff;}#sk-container-id-8 div.sk-parallel-item::after {content: \"\";width: 100%;border-bottom: 1px solid gray;flex-grow: 1;}#sk-container-id-8 div.sk-label:hover label.sk-toggleable__label {background-color: #d4ebff;}#sk-container-id-8 div.sk-serial::before {content: \"\";position: absolute;border-left: 1px solid gray;box-sizing: border-box;top: 0;bottom: 0;left: 50%;z-index: 0;}#sk-container-id-8 div.sk-serial {display: flex;flex-direction: column;align-items: center;background-color: white;padding-right: 0.2em;padding-left: 0.2em;position: relative;}#sk-container-id-8 div.sk-item {position: relative;z-index: 1;}#sk-container-id-8 div.sk-parallel {display: flex;align-items: stretch;justify-content: center;background-color: white;position: relative;}#sk-container-id-8 div.sk-item::before, #sk-container-id-8 div.sk-parallel-item::before {content: \"\";position: absolute;border-left: 1px solid gray;box-sizing: border-box;top: 0;bottom: 0;left: 50%;z-index: -1;}#sk-container-id-8 div.sk-parallel-item {display: flex;flex-direction: column;z-index: 1;position: relative;background-color: white;}#sk-container-id-8 div.sk-parallel-item:first-child::after {align-self: flex-end;width: 50%;}#sk-container-id-8 div.sk-parallel-item:last-child::after {align-self: flex-start;width: 50%;}#sk-container-id-8 div.sk-parallel-item:only-child::after {width: 0;}#sk-container-id-8 div.sk-dashed-wrapped {border: 1px dashed gray;margin: 0 0.4em 0.5em 0.4em;box-sizing: border-box;padding-bottom: 0.4em;background-color: white;}#sk-container-id-8 div.sk-label label {font-family: monospace;font-weight: bold;display: inline-block;line-height: 1.2em;}#sk-container-id-8 div.sk-label-container {text-align: center;}#sk-container-id-8 div.sk-container {/* jupyter's `normalize.less` sets `[hidden] { display: none; }` but bootstrap.min.css set `[hidden] { display: none !important; }` so we also need the `!important` here to be able to override the default hidden behavior on the sphinx rendered scikit-learn.org. See: https://github.com/scikit-learn/scikit-learn/issues/21755 */display: inline-block !important;position: relative;}#sk-container-id-8 div.sk-text-repr-fallback {display: none;}</style><div id=\"sk-container-id-8\" class=\"sk-top-container\"><div class=\"sk-text-repr-fallback\"><pre>RandomizedSearchCV(cv=KFold(n_splits=2, random_state=None, shuffle=True),\n                   estimator=PMMLPipeline(steps=[(&#x27;mapper&#x27;, DataFrameMapper(df_out=True, drop_cols=[&#x27;AveRooms&#x27;], features=[([&#x27;MedInc&#x27;], [ContinuousDomain(), SimpleImputer(strategy=&#x27;median&#x27;), StandardScaler()]), ([&#x27;HouseAge&#x27;], [ContinuousDomain(), SimpleImputer(strategy=&#x27;median&#x27;), StandardScaler()]), ([&#x27;AveBe...estimators=[(&#x27;svr&#x27;, SVR()), (&#x27;rdr&#x27;, Ridge()), (&#x27;knr&#x27;, KNeighborsRegressor()), (&#x27;rfr&#x27;, RandomForestRegressor()), (&#x27;dtr&#x27;, DecisionTreeRegressor())]))]),\n                   param_distributions={&#x27;ensemble__dtr__ccp_alpha&#x27;: [0.0, 1.0],\n                                        &#x27;ensemble__knr__n_neighbors&#x27;: [5, 7],\n                                        &#x27;ensemble__rdr__alpha&#x27;: [1.0, 5.0],\n                                        &#x27;ensemble__rfr__max_depth&#x27;: [7, 10],\n                                        &#x27;ensemble__svr__C&#x27;: [1, 2]},\n                   scoring=&#x27;r2&#x27;, verbose=2)</pre><b>In a Jupyter environment, please rerun this cell to show the HTML representation or trust the notebook. <br />On GitHub, the HTML representation is unable to render, please try loading this page with nbviewer.org.</b></div><div class=\"sk-container\" hidden><div class=\"sk-item sk-dashed-wrapped\"><div class=\"sk-label-container\"><div class=\"sk-label sk-toggleable\"><input class=\"sk-toggleable__control sk-hidden--visually\" id=\"sk-estimator-id-59\" type=\"checkbox\" ><label for=\"sk-estimator-id-59\" class=\"sk-toggleable__label sk-toggleable__label-arrow\">RandomizedSearchCV</label><div class=\"sk-toggleable__content\"><pre>RandomizedSearchCV(cv=KFold(n_splits=2, random_state=None, shuffle=True),\n                   estimator=PMMLPipeline(steps=[(&#x27;mapper&#x27;, DataFrameMapper(df_out=True, drop_cols=[&#x27;AveRooms&#x27;], features=[([&#x27;MedInc&#x27;], [ContinuousDomain(), SimpleImputer(strategy=&#x27;median&#x27;), StandardScaler()]), ([&#x27;HouseAge&#x27;], [ContinuousDomain(), SimpleImputer(strategy=&#x27;median&#x27;), StandardScaler()]), ([&#x27;AveBe...estimators=[(&#x27;svr&#x27;, SVR()), (&#x27;rdr&#x27;, Ridge()), (&#x27;knr&#x27;, KNeighborsRegressor()), (&#x27;rfr&#x27;, RandomForestRegressor()), (&#x27;dtr&#x27;, DecisionTreeRegressor())]))]),\n                   param_distributions={&#x27;ensemble__dtr__ccp_alpha&#x27;: [0.0, 1.0],\n                                        &#x27;ensemble__knr__n_neighbors&#x27;: [5, 7],\n                                        &#x27;ensemble__rdr__alpha&#x27;: [1.0, 5.0],\n                                        &#x27;ensemble__rfr__max_depth&#x27;: [7, 10],\n                                        &#x27;ensemble__svr__C&#x27;: [1, 2]},\n                   scoring=&#x27;r2&#x27;, verbose=2)</pre></div></div></div><div class=\"sk-parallel\"><div class=\"sk-parallel-item\"><div class=\"sk-item\"><div class=\"sk-label-container\"><div class=\"sk-label sk-toggleable\"><input class=\"sk-toggleable__control sk-hidden--visually\" id=\"sk-estimator-id-60\" type=\"checkbox\" ><label for=\"sk-estimator-id-60\" class=\"sk-toggleable__label sk-toggleable__label-arrow\">estimator: PMMLPipeline</label><div class=\"sk-toggleable__content\"><pre>PMMLPipeline(steps=[(&#x27;mapper&#x27;, DataFrameMapper(df_out=True, drop_cols=[&#x27;AveRooms&#x27;],\n                features=[([&#x27;MedInc&#x27;],\n                           [ContinuousDomain(),\n                            SimpleImputer(strategy=&#x27;median&#x27;),\n                            StandardScaler()]),\n                          ([&#x27;HouseAge&#x27;],\n                           [ContinuousDomain(),\n                            SimpleImputer(strategy=&#x27;median&#x27;),\n                            StandardScaler()]),\n                          ([&#x27;AveBedrms&#x27;],\n                           [ContinuousDomain(),\n                            SimpleImputer(strategy=&#x27;median&#x27;),\n                            StandardScaler()]),\n                          ([&#x27;Population&#x27;],\n                           [ContinuousDomain(),\n                            SimpleImputer(strategy=&#x27;median&#x27;),\n                            StandardScaler()]),\n                          ([&#x27;AveOccup&#x27;],\n                           [ContinuousDomain(),\n                            SimpleImputer(strategy=&#x27;median&#x27;),\n                            StandardScaler()]),\n                          ([&#x27;Latitude&#x27;],\n                           [ContinuousDomain(),\n                            SimpleImputer(strategy=&#x27;median&#x27;),\n                            StandardScaler()]),\n                          ([&#x27;Longitude&#x27;],\n                           [ContinuousDomain(),\n                            SimpleImputer(strategy=&#x27;median&#x27;),\n                            StandardScaler()])],\n                input_df=True)),\n       (&#x27;ensemble&#x27;, VotingRegressor(estimators=[(&#x27;svr&#x27;, SVR()), (&#x27;rdr&#x27;, Ridge()),\n                            (&#x27;knr&#x27;, KNeighborsRegressor()),\n                            (&#x27;rfr&#x27;, RandomForestRegressor()),\n                            (&#x27;dtr&#x27;, DecisionTreeRegressor())]))])</pre></div></div></div><div class=\"sk-serial\"><div class=\"sk-item\"><div class=\"sk-serial\"><div class=\"sk-item\"><div class=\"sk-estimator sk-toggleable\"><input class=\"sk-toggleable__control sk-hidden--visually\" id=\"sk-estimator-id-61\" type=\"checkbox\" ><label for=\"sk-estimator-id-61\" class=\"sk-toggleable__label sk-toggleable__label-arrow\">DataFrameMapper</label><div class=\"sk-toggleable__content\"><pre>DataFrameMapper(df_out=True, drop_cols=[&#x27;AveRooms&#x27;],\n                features=[([&#x27;MedInc&#x27;],\n                           [ContinuousDomain(),\n                            SimpleImputer(strategy=&#x27;median&#x27;),\n                            StandardScaler()]),\n                          ([&#x27;HouseAge&#x27;],\n                           [ContinuousDomain(),\n                            SimpleImputer(strategy=&#x27;median&#x27;),\n                            StandardScaler()]),\n                          ([&#x27;AveBedrms&#x27;],\n                           [ContinuousDomain(),\n                            SimpleImputer(strategy=&#x27;median&#x27;),\n                            StandardScaler()]),\n                          ([&#x27;Population&#x27;],\n                           [ContinuousDomain(),\n                            SimpleImputer(strategy=&#x27;median&#x27;),\n                            StandardScaler()]),\n                          ([&#x27;AveOccup&#x27;],\n                           [ContinuousDomain(),\n                            SimpleImputer(strategy=&#x27;median&#x27;),\n                            StandardScaler()]),\n                          ([&#x27;Latitude&#x27;],\n                           [ContinuousDomain(),\n                            SimpleImputer(strategy=&#x27;median&#x27;),\n                            StandardScaler()]),\n                          ([&#x27;Longitude&#x27;],\n                           [ContinuousDomain(),\n                            SimpleImputer(strategy=&#x27;median&#x27;),\n                            StandardScaler()])],\n                input_df=True)</pre></div></div></div><div class=\"sk-item sk-dashed-wrapped\"><div class=\"sk-label-container\"><div class=\"sk-label sk-toggleable\"><input class=\"sk-toggleable__control sk-hidden--visually\" id=\"sk-estimator-id-62\" type=\"checkbox\" ><label for=\"sk-estimator-id-62\" class=\"sk-toggleable__label sk-toggleable__label-arrow\">ensemble: VotingRegressor</label><div class=\"sk-toggleable__content\"><pre>VotingRegressor(estimators=[(&#x27;svr&#x27;, SVR()), (&#x27;rdr&#x27;, Ridge()),\n                            (&#x27;knr&#x27;, KNeighborsRegressor()),\n                            (&#x27;rfr&#x27;, RandomForestRegressor()),\n                            (&#x27;dtr&#x27;, DecisionTreeRegressor())])</pre></div></div></div><div class=\"sk-parallel\"><div class=\"sk-parallel-item\"><div class=\"sk-item\"><div class=\"sk-label-container\"><div class=\"sk-label sk-toggleable\"><label>svr</label></div></div><div class=\"sk-serial\"><div class=\"sk-item\"><div class=\"sk-estimator sk-toggleable\"><input class=\"sk-toggleable__control sk-hidden--visually\" id=\"sk-estimator-id-63\" type=\"checkbox\" ><label for=\"sk-estimator-id-63\" class=\"sk-toggleable__label sk-toggleable__label-arrow\">SVR</label><div class=\"sk-toggleable__content\"><pre>SVR()</pre></div></div></div></div></div></div><div class=\"sk-parallel-item\"><div class=\"sk-item\"><div class=\"sk-label-container\"><div class=\"sk-label sk-toggleable\"><label>rdr</label></div></div><div class=\"sk-serial\"><div class=\"sk-item\"><div class=\"sk-estimator sk-toggleable\"><input class=\"sk-toggleable__control sk-hidden--visually\" id=\"sk-estimator-id-64\" type=\"checkbox\" ><label for=\"sk-estimator-id-64\" class=\"sk-toggleable__label sk-toggleable__label-arrow\">Ridge</label><div class=\"sk-toggleable__content\"><pre>Ridge()</pre></div></div></div></div></div></div><div class=\"sk-parallel-item\"><div class=\"sk-item\"><div class=\"sk-label-container\"><div class=\"sk-label sk-toggleable\"><label>knr</label></div></div><div class=\"sk-serial\"><div class=\"sk-item\"><div class=\"sk-estimator sk-toggleable\"><input class=\"sk-toggleable__control sk-hidden--visually\" id=\"sk-estimator-id-65\" type=\"checkbox\" ><label for=\"sk-estimator-id-65\" class=\"sk-toggleable__label sk-toggleable__label-arrow\">KNeighborsRegressor</label><div class=\"sk-toggleable__content\"><pre>KNeighborsRegressor()</pre></div></div></div></div></div></div><div class=\"sk-parallel-item\"><div class=\"sk-item\"><div class=\"sk-label-container\"><div class=\"sk-label sk-toggleable\"><label>rfr</label></div></div><div class=\"sk-serial\"><div class=\"sk-item\"><div class=\"sk-estimator sk-toggleable\"><input class=\"sk-toggleable__control sk-hidden--visually\" id=\"sk-estimator-id-66\" type=\"checkbox\" ><label for=\"sk-estimator-id-66\" class=\"sk-toggleable__label sk-toggleable__label-arrow\">RandomForestRegressor</label><div class=\"sk-toggleable__content\"><pre>RandomForestRegressor()</pre></div></div></div></div></div></div><div class=\"sk-parallel-item\"><div class=\"sk-item\"><div class=\"sk-label-container\"><div class=\"sk-label sk-toggleable\"><label>dtr</label></div></div><div class=\"sk-serial\"><div class=\"sk-item\"><div class=\"sk-estimator sk-toggleable\"><input class=\"sk-toggleable__control sk-hidden--visually\" id=\"sk-estimator-id-67\" type=\"checkbox\" ><label for=\"sk-estimator-id-67\" class=\"sk-toggleable__label sk-toggleable__label-arrow\">DecisionTreeRegressor</label><div class=\"sk-toggleable__content\"><pre>DecisionTreeRegressor()</pre></div></div></div></div></div></div></div></div></div></div></div></div></div></div></div></div></div>"
     },
     "execution_count": 60,
     "metadata": {},
     "output_type": "execute_result"
    }
   ],
   "source": [
    "# Perform model training and hyper-parmeter tuning\n",
    "searcher.fit(X_train, y_train)"
   ],
   "metadata": {
    "collapsed": false,
    "ExecuteTime": {
     "start_time": "2023-04-14T03:43:00.693273Z",
     "end_time": "2023-04-14T03:44:48.119189Z"
    }
   }
  },
  {
   "cell_type": "code",
   "execution_count": 61,
   "outputs": [],
   "source": [
    "# Select best model\n",
    "best_pipeline = searcher.best_estimator_\n",
    "best_params = searcher.best_params_\n",
    "best_pipeline.verify(X_train.sample(n = 10))"
   ],
   "metadata": {
    "collapsed": false,
    "ExecuteTime": {
     "start_time": "2023-04-14T03:44:53.014817Z",
     "end_time": "2023-04-14T03:44:53.052119Z"
    }
   }
  },
  {
   "cell_type": "code",
   "execution_count": 62,
   "outputs": [
    {
     "data": {
      "text/plain": "PMMLPipeline(steps=[('mapper', DataFrameMapper(df_out=True, drop_cols=['AveRooms'],\n                features=[(['MedInc'],\n                           [ContinuousDomain(),\n                            SimpleImputer(strategy='median'),\n                            StandardScaler()]),\n                          (['HouseAge'],\n                           [ContinuousDomain(),\n                            SimpleImputer(strategy='median'),\n                            StandardScaler()]),\n                          (['AveBedrms'],\n                           [ContinuousDomain(),\n                            SimpleImputer(strategy='median'),\n                            StandardScaler()]),\n                          (['Population'],\n                           [ContinuousDomain(),\n                            SimpleImputer(strategy='median'),\n                            StandardScaler()]),\n                          (['AveOccup'],\n                           [ContinuousDomain(),\n                            SimpleImputer(strategy='median'),\n                            StandardScaler()]),\n                          (['Latitude'],\n                           [ContinuousDomain(),\n                            SimpleImputer(strategy='median'),\n                            StandardScaler()]),\n                          (['Longitude'],\n                           [ContinuousDomain(),\n                            SimpleImputer(strategy='median'),\n                            StandardScaler()])],\n                input_df=True)),\n       ('ensemble', VotingRegressor(estimators=[('svr', SVR(C=2)), ('rdr', Ridge()),\n                            ('knr', KNeighborsRegressor()),\n                            ('rfr', RandomForestRegressor(max_depth=7)),\n                            ('dtr', DecisionTreeRegressor())]))])",
      "text/html": "<style>#sk-container-id-9 {color: black;background-color: white;}#sk-container-id-9 pre{padding: 0;}#sk-container-id-9 div.sk-toggleable {background-color: white;}#sk-container-id-9 label.sk-toggleable__label {cursor: pointer;display: block;width: 100%;margin-bottom: 0;padding: 0.3em;box-sizing: border-box;text-align: center;}#sk-container-id-9 label.sk-toggleable__label-arrow:before {content: \"▸\";float: left;margin-right: 0.25em;color: #696969;}#sk-container-id-9 label.sk-toggleable__label-arrow:hover:before {color: black;}#sk-container-id-9 div.sk-estimator:hover label.sk-toggleable__label-arrow:before {color: black;}#sk-container-id-9 div.sk-toggleable__content {max-height: 0;max-width: 0;overflow: hidden;text-align: left;background-color: #f0f8ff;}#sk-container-id-9 div.sk-toggleable__content pre {margin: 0.2em;color: black;border-radius: 0.25em;background-color: #f0f8ff;}#sk-container-id-9 input.sk-toggleable__control:checked~div.sk-toggleable__content {max-height: 200px;max-width: 100%;overflow: auto;}#sk-container-id-9 input.sk-toggleable__control:checked~label.sk-toggleable__label-arrow:before {content: \"▾\";}#sk-container-id-9 div.sk-estimator input.sk-toggleable__control:checked~label.sk-toggleable__label {background-color: #d4ebff;}#sk-container-id-9 div.sk-label input.sk-toggleable__control:checked~label.sk-toggleable__label {background-color: #d4ebff;}#sk-container-id-9 input.sk-hidden--visually {border: 0;clip: rect(1px 1px 1px 1px);clip: rect(1px, 1px, 1px, 1px);height: 1px;margin: -1px;overflow: hidden;padding: 0;position: absolute;width: 1px;}#sk-container-id-9 div.sk-estimator {font-family: monospace;background-color: #f0f8ff;border: 1px dotted black;border-radius: 0.25em;box-sizing: border-box;margin-bottom: 0.5em;}#sk-container-id-9 div.sk-estimator:hover {background-color: #d4ebff;}#sk-container-id-9 div.sk-parallel-item::after {content: \"\";width: 100%;border-bottom: 1px solid gray;flex-grow: 1;}#sk-container-id-9 div.sk-label:hover label.sk-toggleable__label {background-color: #d4ebff;}#sk-container-id-9 div.sk-serial::before {content: \"\";position: absolute;border-left: 1px solid gray;box-sizing: border-box;top: 0;bottom: 0;left: 50%;z-index: 0;}#sk-container-id-9 div.sk-serial {display: flex;flex-direction: column;align-items: center;background-color: white;padding-right: 0.2em;padding-left: 0.2em;position: relative;}#sk-container-id-9 div.sk-item {position: relative;z-index: 1;}#sk-container-id-9 div.sk-parallel {display: flex;align-items: stretch;justify-content: center;background-color: white;position: relative;}#sk-container-id-9 div.sk-item::before, #sk-container-id-9 div.sk-parallel-item::before {content: \"\";position: absolute;border-left: 1px solid gray;box-sizing: border-box;top: 0;bottom: 0;left: 50%;z-index: -1;}#sk-container-id-9 div.sk-parallel-item {display: flex;flex-direction: column;z-index: 1;position: relative;background-color: white;}#sk-container-id-9 div.sk-parallel-item:first-child::after {align-self: flex-end;width: 50%;}#sk-container-id-9 div.sk-parallel-item:last-child::after {align-self: flex-start;width: 50%;}#sk-container-id-9 div.sk-parallel-item:only-child::after {width: 0;}#sk-container-id-9 div.sk-dashed-wrapped {border: 1px dashed gray;margin: 0 0.4em 0.5em 0.4em;box-sizing: border-box;padding-bottom: 0.4em;background-color: white;}#sk-container-id-9 div.sk-label label {font-family: monospace;font-weight: bold;display: inline-block;line-height: 1.2em;}#sk-container-id-9 div.sk-label-container {text-align: center;}#sk-container-id-9 div.sk-container {/* jupyter's `normalize.less` sets `[hidden] { display: none; }` but bootstrap.min.css set `[hidden] { display: none !important; }` so we also need the `!important` here to be able to override the default hidden behavior on the sphinx rendered scikit-learn.org. See: https://github.com/scikit-learn/scikit-learn/issues/21755 */display: inline-block !important;position: relative;}#sk-container-id-9 div.sk-text-repr-fallback {display: none;}</style><div id=\"sk-container-id-9\" class=\"sk-top-container\"><div class=\"sk-text-repr-fallback\"><pre>PMMLPipeline(steps=[(&#x27;mapper&#x27;, DataFrameMapper(df_out=True, drop_cols=[&#x27;AveRooms&#x27;],\n                features=[([&#x27;MedInc&#x27;],\n                           [ContinuousDomain(),\n                            SimpleImputer(strategy=&#x27;median&#x27;),\n                            StandardScaler()]),\n                          ([&#x27;HouseAge&#x27;],\n                           [ContinuousDomain(),\n                            SimpleImputer(strategy=&#x27;median&#x27;),\n                            StandardScaler()]),\n                          ([&#x27;AveBedrms&#x27;],\n                           [ContinuousDomain(),\n                            SimpleImputer(strategy=&#x27;median&#x27;),\n                            StandardScaler()]),\n                          ([&#x27;Population&#x27;],\n                           [ContinuousDomain(),\n                            SimpleImputer(strategy=&#x27;median&#x27;),\n                            StandardScaler()]),\n                          ([&#x27;AveOccup&#x27;],\n                           [ContinuousDomain(),\n                            SimpleImputer(strategy=&#x27;median&#x27;),\n                            StandardScaler()]),\n                          ([&#x27;Latitude&#x27;],\n                           [ContinuousDomain(),\n                            SimpleImputer(strategy=&#x27;median&#x27;),\n                            StandardScaler()]),\n                          ([&#x27;Longitude&#x27;],\n                           [ContinuousDomain(),\n                            SimpleImputer(strategy=&#x27;median&#x27;),\n                            StandardScaler()])],\n                input_df=True)),\n       (&#x27;ensemble&#x27;, VotingRegressor(estimators=[(&#x27;svr&#x27;, SVR(C=2)), (&#x27;rdr&#x27;, Ridge()),\n                            (&#x27;knr&#x27;, KNeighborsRegressor()),\n                            (&#x27;rfr&#x27;, RandomForestRegressor(max_depth=7)),\n                            (&#x27;dtr&#x27;, DecisionTreeRegressor())]))])</pre><b>In a Jupyter environment, please rerun this cell to show the HTML representation or trust the notebook. <br />On GitHub, the HTML representation is unable to render, please try loading this page with nbviewer.org.</b></div><div class=\"sk-container\" hidden><div class=\"sk-item sk-dashed-wrapped\"><div class=\"sk-label-container\"><div class=\"sk-label sk-toggleable\"><input class=\"sk-toggleable__control sk-hidden--visually\" id=\"sk-estimator-id-68\" type=\"checkbox\" ><label for=\"sk-estimator-id-68\" class=\"sk-toggleable__label sk-toggleable__label-arrow\">PMMLPipeline</label><div class=\"sk-toggleable__content\"><pre>PMMLPipeline(steps=[(&#x27;mapper&#x27;, DataFrameMapper(df_out=True, drop_cols=[&#x27;AveRooms&#x27;],\n                features=[([&#x27;MedInc&#x27;],\n                           [ContinuousDomain(),\n                            SimpleImputer(strategy=&#x27;median&#x27;),\n                            StandardScaler()]),\n                          ([&#x27;HouseAge&#x27;],\n                           [ContinuousDomain(),\n                            SimpleImputer(strategy=&#x27;median&#x27;),\n                            StandardScaler()]),\n                          ([&#x27;AveBedrms&#x27;],\n                           [ContinuousDomain(),\n                            SimpleImputer(strategy=&#x27;median&#x27;),\n                            StandardScaler()]),\n                          ([&#x27;Population&#x27;],\n                           [ContinuousDomain(),\n                            SimpleImputer(strategy=&#x27;median&#x27;),\n                            StandardScaler()]),\n                          ([&#x27;AveOccup&#x27;],\n                           [ContinuousDomain(),\n                            SimpleImputer(strategy=&#x27;median&#x27;),\n                            StandardScaler()]),\n                          ([&#x27;Latitude&#x27;],\n                           [ContinuousDomain(),\n                            SimpleImputer(strategy=&#x27;median&#x27;),\n                            StandardScaler()]),\n                          ([&#x27;Longitude&#x27;],\n                           [ContinuousDomain(),\n                            SimpleImputer(strategy=&#x27;median&#x27;),\n                            StandardScaler()])],\n                input_df=True)),\n       (&#x27;ensemble&#x27;, VotingRegressor(estimators=[(&#x27;svr&#x27;, SVR(C=2)), (&#x27;rdr&#x27;, Ridge()),\n                            (&#x27;knr&#x27;, KNeighborsRegressor()),\n                            (&#x27;rfr&#x27;, RandomForestRegressor(max_depth=7)),\n                            (&#x27;dtr&#x27;, DecisionTreeRegressor())]))])</pre></div></div></div><div class=\"sk-serial\"><div class=\"sk-item\"><div class=\"sk-estimator sk-toggleable\"><input class=\"sk-toggleable__control sk-hidden--visually\" id=\"sk-estimator-id-69\" type=\"checkbox\" ><label for=\"sk-estimator-id-69\" class=\"sk-toggleable__label sk-toggleable__label-arrow\">DataFrameMapper</label><div class=\"sk-toggleable__content\"><pre>DataFrameMapper(df_out=True, drop_cols=[&#x27;AveRooms&#x27;],\n                features=[([&#x27;MedInc&#x27;],\n                           [ContinuousDomain(),\n                            SimpleImputer(strategy=&#x27;median&#x27;),\n                            StandardScaler()]),\n                          ([&#x27;HouseAge&#x27;],\n                           [ContinuousDomain(),\n                            SimpleImputer(strategy=&#x27;median&#x27;),\n                            StandardScaler()]),\n                          ([&#x27;AveBedrms&#x27;],\n                           [ContinuousDomain(),\n                            SimpleImputer(strategy=&#x27;median&#x27;),\n                            StandardScaler()]),\n                          ([&#x27;Population&#x27;],\n                           [ContinuousDomain(),\n                            SimpleImputer(strategy=&#x27;median&#x27;),\n                            StandardScaler()]),\n                          ([&#x27;AveOccup&#x27;],\n                           [ContinuousDomain(),\n                            SimpleImputer(strategy=&#x27;median&#x27;),\n                            StandardScaler()]),\n                          ([&#x27;Latitude&#x27;],\n                           [ContinuousDomain(),\n                            SimpleImputer(strategy=&#x27;median&#x27;),\n                            StandardScaler()]),\n                          ([&#x27;Longitude&#x27;],\n                           [ContinuousDomain(),\n                            SimpleImputer(strategy=&#x27;median&#x27;),\n                            StandardScaler()])],\n                input_df=True)</pre></div></div></div><div class=\"sk-item sk-dashed-wrapped\"><div class=\"sk-label-container\"><div class=\"sk-label sk-toggleable\"><input class=\"sk-toggleable__control sk-hidden--visually\" id=\"sk-estimator-id-70\" type=\"checkbox\" ><label for=\"sk-estimator-id-70\" class=\"sk-toggleable__label sk-toggleable__label-arrow\">ensemble: VotingRegressor</label><div class=\"sk-toggleable__content\"><pre>VotingRegressor(estimators=[(&#x27;svr&#x27;, SVR(C=2)), (&#x27;rdr&#x27;, Ridge()),\n                            (&#x27;knr&#x27;, KNeighborsRegressor()),\n                            (&#x27;rfr&#x27;, RandomForestRegressor(max_depth=7)),\n                            (&#x27;dtr&#x27;, DecisionTreeRegressor())])</pre></div></div></div><div class=\"sk-parallel\"><div class=\"sk-parallel-item\"><div class=\"sk-item\"><div class=\"sk-label-container\"><div class=\"sk-label sk-toggleable\"><label>svr</label></div></div><div class=\"sk-serial\"><div class=\"sk-item\"><div class=\"sk-estimator sk-toggleable\"><input class=\"sk-toggleable__control sk-hidden--visually\" id=\"sk-estimator-id-71\" type=\"checkbox\" ><label for=\"sk-estimator-id-71\" class=\"sk-toggleable__label sk-toggleable__label-arrow\">SVR</label><div class=\"sk-toggleable__content\"><pre>SVR(C=2)</pre></div></div></div></div></div></div><div class=\"sk-parallel-item\"><div class=\"sk-item\"><div class=\"sk-label-container\"><div class=\"sk-label sk-toggleable\"><label>rdr</label></div></div><div class=\"sk-serial\"><div class=\"sk-item\"><div class=\"sk-estimator sk-toggleable\"><input class=\"sk-toggleable__control sk-hidden--visually\" id=\"sk-estimator-id-72\" type=\"checkbox\" ><label for=\"sk-estimator-id-72\" class=\"sk-toggleable__label sk-toggleable__label-arrow\">Ridge</label><div class=\"sk-toggleable__content\"><pre>Ridge()</pre></div></div></div></div></div></div><div class=\"sk-parallel-item\"><div class=\"sk-item\"><div class=\"sk-label-container\"><div class=\"sk-label sk-toggleable\"><label>knr</label></div></div><div class=\"sk-serial\"><div class=\"sk-item\"><div class=\"sk-estimator sk-toggleable\"><input class=\"sk-toggleable__control sk-hidden--visually\" id=\"sk-estimator-id-73\" type=\"checkbox\" ><label for=\"sk-estimator-id-73\" class=\"sk-toggleable__label sk-toggleable__label-arrow\">KNeighborsRegressor</label><div class=\"sk-toggleable__content\"><pre>KNeighborsRegressor()</pre></div></div></div></div></div></div><div class=\"sk-parallel-item\"><div class=\"sk-item\"><div class=\"sk-label-container\"><div class=\"sk-label sk-toggleable\"><label>rfr</label></div></div><div class=\"sk-serial\"><div class=\"sk-item\"><div class=\"sk-estimator sk-toggleable\"><input class=\"sk-toggleable__control sk-hidden--visually\" id=\"sk-estimator-id-74\" type=\"checkbox\" ><label for=\"sk-estimator-id-74\" class=\"sk-toggleable__label sk-toggleable__label-arrow\">RandomForestRegressor</label><div class=\"sk-toggleable__content\"><pre>RandomForestRegressor(max_depth=7)</pre></div></div></div></div></div></div><div class=\"sk-parallel-item\"><div class=\"sk-item\"><div class=\"sk-label-container\"><div class=\"sk-label sk-toggleable\"><label>dtr</label></div></div><div class=\"sk-serial\"><div class=\"sk-item\"><div class=\"sk-estimator sk-toggleable\"><input class=\"sk-toggleable__control sk-hidden--visually\" id=\"sk-estimator-id-75\" type=\"checkbox\" ><label for=\"sk-estimator-id-75\" class=\"sk-toggleable__label sk-toggleable__label-arrow\">DecisionTreeRegressor</label><div class=\"sk-toggleable__content\"><pre>DecisionTreeRegressor()</pre></div></div></div></div></div></div></div></div></div></div></div></div>"
     },
     "metadata": {},
     "output_type": "display_data"
    }
   ],
   "source": [
    "display(best_pipeline)"
   ],
   "metadata": {
    "collapsed": false,
    "ExecuteTime": {
     "start_time": "2023-04-14T03:44:54.526017Z",
     "end_time": "2023-04-14T03:44:54.568142Z"
    }
   }
  },
  {
   "cell_type": "code",
   "execution_count": 63,
   "outputs": [
    {
     "data": {
      "text/plain": "{'ensemble__svr__C': 2,\n 'ensemble__rfr__max_depth': 7,\n 'ensemble__rdr__alpha': 1.0,\n 'ensemble__knr__n_neighbors': 5,\n 'ensemble__dtr__ccp_alpha': 0.0}"
     },
     "execution_count": 63,
     "metadata": {},
     "output_type": "execute_result"
    }
   ],
   "source": [
    "best_params"
   ],
   "metadata": {
    "collapsed": false,
    "ExecuteTime": {
     "start_time": "2023-04-14T03:44:56.373442Z",
     "end_time": "2023-04-14T03:44:56.386691Z"
    }
   }
  },
  {
   "cell_type": "code",
   "execution_count": 64,
   "outputs": [],
   "source": [
    "# Perform prediction\n",
    "y_pred = best_pipeline.predict(X_test)"
   ],
   "metadata": {
    "collapsed": false,
    "ExecuteTime": {
     "start_time": "2023-04-14T03:44:58.022077Z",
     "end_time": "2023-04-14T03:45:02.387446Z"
    }
   }
  },
  {
   "cell_type": "code",
   "execution_count": 65,
   "outputs": [
    {
     "name": "stdout",
     "output_type": "stream",
     "text": [
      "R-Squared: 75.7%\n",
      "MSE: 32.5%\n"
     ]
    }
   ],
   "source": [
    "# Model Performance\n",
    "print(f'R-Squared: {np.round(r2_score(y_test, y_pred), decimals=3)*100}%')\n",
    "print(f'MSE: {np.round(mean_squared_error(y_test, y_pred), decimals=3)*100}%')"
   ],
   "metadata": {
    "collapsed": false,
    "ExecuteTime": {
     "start_time": "2023-04-14T03:45:05.475137Z",
     "end_time": "2023-04-14T03:45:05.484869Z"
    }
   }
  },
  {
   "cell_type": "code",
   "execution_count": 70,
   "outputs": [
    {
     "data": {
      "text/plain": "<Figure size 2160x2160 with 0 Axes>"
     },
     "metadata": {},
     "output_type": "display_data"
    },
    {
     "data": {
      "text/plain": "<Figure size 432x288 with 1 Axes>",
      "image/png": "[encoded data removed]"
     },
     "metadata": {
      "needs_background": "light"
     },
     "output_type": "display_data"
    }
   ],
   "source": [
    "# https://inria.github.io/scikit-learn-mooc/python_scripts/dev_features_importance.html\n",
    "def plot_feature_importances(pi_result, features_name):\n",
    "    \"\"\" bar plot the feature importance \"\"\"\n",
    "    plt.figure(figsize=(30, 30))\n",
    "    fig, ax = plt.subplots()\n",
    "\n",
    "    indices = pi_result['importances_mean'].argsort()\n",
    "    plt.barh(range(len(indices)),\n",
    "             pi_result['importances_mean'][indices],\n",
    "             xerr=pi_result['importances_std'][indices])\n",
    "\n",
    "    ax.set_yticks(range(len(indices)))\n",
    "    tmp = np.array(features_name)\n",
    "    ax.set_yticklabels(tmp[indices])\n",
    "    ax.set_title(\"Permutation importance\")\n",
    "\n",
    "ppl_ensemble.fit(X_test,y_test)\n",
    "pi_result = permutation_importance(ppl_ensemble, X_test, y_test)\n",
    "plot_feature_importances(pi_result, X_test.columns)"
   ],
   "metadata": {
    "collapsed": false,
    "ExecuteTime": {
     "start_time": "2023-04-14T03:47:19.614371Z",
     "end_time": "2023-04-14T03:48:13.142948Z"
    }
   }
  },
  {
   "cell_type": "markdown",
   "source": [
    "## Save the best model"
   ],
   "metadata": {
    "collapsed": false
   }
  },
  {
   "cell_type": "code",
   "execution_count": 71,
   "outputs": [],
   "source": [
    "# Save the best model in PMML format\n",
    "sklearn2pmml(best_pipeline, \"../../../data/house-price-ensemble-regressor.pmml\")"
   ],
   "metadata": {
    "collapsed": false,
    "ExecuteTime": {
     "start_time": "2023-04-14T03:48:24.375161Z",
     "end_time": "2023-04-14T03:48:31.565253Z"
    }
   }
  },
  {
   "cell_type": "code",
   "execution_count": null,
   "outputs": [],
   "source": [],
   "metadata": {
    "collapsed": false
   }
  }
 ],
 "metadata": {
  "kernelspec": {
   "display_name": "Python 3",
   "language": "python",
   "name": "python3"
  },
  "language_info": {
   "codemirror_mode": {
    "name": "ipython",
    "version": 2
   },
   "file_extension": ".py",
   "mimetype": "text/x-python",
   "name": "python",
   "nbconvert_exporter": "python",
   "pygments_lexer": "ipython2",
   "version": "2.7.6"
  }
 },
 "nbformat": 4,
 "nbformat_minor": 0
}
