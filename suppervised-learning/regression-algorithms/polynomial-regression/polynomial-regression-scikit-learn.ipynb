{
 "cells": [
  {
   "cell_type": "markdown",
   "source": [
    "## Polynomial Regression"
   ],
   "metadata": {
    "collapsed": false
   }
  },
  {
   "cell_type": "code",
   "execution_count": 26,
   "outputs": [],
   "source": [
    "import pandas as pd\n",
    "# suppress Pandas warnings entirely.\n",
    "pd.set_option('mode.chained_assignment',None)\n",
    "\n",
    "# importing datasets\n",
    "df_dataset= pd.read_csv('../../../data/position-salaries.csv')"
   ],
   "metadata": {
    "collapsed": false
   }
  },
  {
   "cell_type": "code",
   "execution_count": 27,
   "outputs": [
    {
     "data": {
      "text/plain": "            Position  Level   Salary\n0   Business Analyst      1    45000\n1  Junior Consultant      2    50000\n2  Senior Consultant      3    60000\n3            Manager      4    80000\n4    Country Manager      5   110000\n5     Region Manager      6   150000\n6            Partner      7   200000\n7     Senior Partner      8   300000\n8            C-level      9   500000\n9                CEO     10  1000000",
      "text/html": "<div>\n<style scoped>\n    .dataframe tbody tr th:only-of-type {\n        vertical-align: middle;\n    }\n\n    .dataframe tbody tr th {\n        vertical-align: top;\n    }\n\n    .dataframe thead th {\n        text-align: right;\n    }\n</style>\n<table border=\"1\" class=\"dataframe\">\n  <thead>\n    <tr style=\"text-align: right;\">\n      <th></th>\n      <th>Position</th>\n      <th>Level</th>\n      <th>Salary</th>\n    </tr>\n  </thead>\n  <tbody>\n    <tr>\n      <th>0</th>\n      <td>Business Analyst</td>\n      <td>1</td>\n      <td>45000</td>\n    </tr>\n    <tr>\n      <th>1</th>\n      <td>Junior Consultant</td>\n      <td>2</td>\n      <td>50000</td>\n    </tr>\n    <tr>\n      <th>2</th>\n      <td>Senior Consultant</td>\n      <td>3</td>\n      <td>60000</td>\n    </tr>\n    <tr>\n      <th>3</th>\n      <td>Manager</td>\n      <td>4</td>\n      <td>80000</td>\n    </tr>\n    <tr>\n      <th>4</th>\n      <td>Country Manager</td>\n      <td>5</td>\n      <td>110000</td>\n    </tr>\n    <tr>\n      <th>5</th>\n      <td>Region Manager</td>\n      <td>6</td>\n      <td>150000</td>\n    </tr>\n    <tr>\n      <th>6</th>\n      <td>Partner</td>\n      <td>7</td>\n      <td>200000</td>\n    </tr>\n    <tr>\n      <th>7</th>\n      <td>Senior Partner</td>\n      <td>8</td>\n      <td>300000</td>\n    </tr>\n    <tr>\n      <th>8</th>\n      <td>C-level</td>\n      <td>9</td>\n      <td>500000</td>\n    </tr>\n    <tr>\n      <th>9</th>\n      <td>CEO</td>\n      <td>10</td>\n      <td>1000000</td>\n    </tr>\n  </tbody>\n</table>\n</div>"
     },
     "execution_count": 27,
     "metadata": {},
     "output_type": "execute_result"
    }
   ],
   "source": [
    "df_dataset.head(10)"
   ],
   "metadata": {
    "collapsed": false
   }
  },
  {
   "cell_type": "code",
   "execution_count": 28,
   "outputs": [
    {
     "data": {
      "text/plain": "<matplotlib.legend.Legend at 0x132e53220>"
     },
     "execution_count": 28,
     "metadata": {},
     "output_type": "execute_result"
    },
    {
     "data": {
      "text/plain": "<Figure size 720x360 with 1 Axes>",
      "image/png": "[encoded data removed]"
     },
     "metadata": {
      "needs_background": "light"
     },
     "output_type": "display_data"
    }
   ],
   "source": [
    "%matplotlib inline\n",
    "import matplotlib.pyplot as plt\n",
    "import seaborn as sns\n",
    "\n",
    "# Set up the matplotlib figure\n",
    "fig, axs = plt.subplots(figsize=(10, 5))\n",
    "\n",
    "# Draw the line\n",
    "sns.lineplot(x='Level', y='Salary', label='Salary', data=df_dataset, color='blue', ax=axs)\n",
    "\n",
    "axs.set(title='Position Salary');\n",
    "axs.legend(loc='upper left', fontsize='x-large')"
   ],
   "metadata": {
    "collapsed": false
   }
  },
  {
   "cell_type": "markdown",
   "source": [
    "## Building the Linear regression model"
   ],
   "metadata": {
    "collapsed": false
   }
  },
  {
   "cell_type": "code",
   "execution_count": 29,
   "outputs": [
    {
     "name": "stdout",
     "output_type": "stream",
     "text": [
      "Predicted Salary = -195333.3 + 80878.8 * level\n"
     ]
    }
   ],
   "source": [
    "from sklearn.linear_model import LinearRegression\n",
    "\n",
    "x_features = df_dataset[['Level']]\n",
    "y_target  = df_dataset[['Salary']]\n",
    "\n",
    "# Initialize and train the model\n",
    "slr = LinearRegression()\n",
    "slr.fit(x_features, y_target['Salary'])\n",
    "\n",
    "# Make predictions\n",
    "y_target['Salary (SLR)']= slr.predict(x_features)\n",
    "\n",
    "# Regression intercept & coefficients\n",
    "print('Predicted Salary = {:.1f} + {:.1f} * level'.format(slr.intercept_, slr.coef_[0]))"
   ],
   "metadata": {
    "collapsed": false
   }
  },
  {
   "cell_type": "code",
   "execution_count": 30,
   "outputs": [
    {
     "data": {
      "text/plain": "                Coeff    ABS(Coeff)\nFeature                            \nLevel    80878.787879  80878.787879",
      "text/html": "<div>\n<style scoped>\n    .dataframe tbody tr th:only-of-type {\n        vertical-align: middle;\n    }\n\n    .dataframe tbody tr th {\n        vertical-align: top;\n    }\n\n    .dataframe thead th {\n        text-align: right;\n    }\n</style>\n<table border=\"1\" class=\"dataframe\">\n  <thead>\n    <tr style=\"text-align: right;\">\n      <th></th>\n      <th>Coeff</th>\n      <th>ABS(Coeff)</th>\n    </tr>\n    <tr>\n      <th>Feature</th>\n      <th></th>\n      <th></th>\n    </tr>\n  </thead>\n  <tbody>\n    <tr>\n      <th>Level</th>\n      <td>80878.787879</td>\n      <td>80878.787879</td>\n    </tr>\n  </tbody>\n</table>\n</div>"
     },
     "execution_count": 30,
     "metadata": {},
     "output_type": "execute_result"
    }
   ],
   "source": [
    "# Check importance for each feature\n",
    "slr_coeff = pd.DataFrame(\n",
    "    {\n",
    "        'Feature': x_features.columns,\n",
    "        'Coeff': slr.coef_,\n",
    "        'ABS(Coeff)': abs(slr.coef_),\n",
    "    }\n",
    ").set_index('Feature').sort_values('ABS(Coeff)', ascending=False)\n",
    "\n",
    "slr_coeff"
   ],
   "metadata": {
    "collapsed": false
   }
  },
  {
   "cell_type": "code",
   "execution_count": 31,
   "outputs": [
    {
     "data": {
      "text/plain": "<matplotlib.legend.Legend at 0x137405510>"
     },
     "execution_count": 31,
     "metadata": {},
     "output_type": "execute_result"
    },
    {
     "data": {
      "text/plain": "<Figure size 720x576 with 1 Axes>",
      "image/png": "[encoded data removed]"
     },
     "metadata": {
      "needs_background": "light"
     },
     "output_type": "display_data"
    }
   ],
   "source": [
    "# Visualizing the result for Linear regression\n",
    "fig, axs = plt.subplots(figsize=(10, 8), sharex=False, sharey=False)\n",
    "\n",
    "# Draw the data points\n",
    "sns.scatterplot(x=x_features['Level'], y=y_target['Salary'], label='Salary', color=\"blue\", ax=axs)\n",
    "# Draw the prediction line\n",
    "sns.lineplot(x=x_features['Level'], y=y_target['Salary (SLR)'], label='Salary (SLR)', color=\"red\", ax=axs)\n",
    "\n",
    "axs.set(title='Simple Linear Regression');\n",
    "axs.legend(loc='upper left', fontsize='x-large')"
   ],
   "metadata": {
    "collapsed": false
   }
  },
  {
   "cell_type": "markdown",
   "source": [
    "## In the above output image, we can clearly see that the regression line is so far from the datasets. Predictions are in a red straight line,\n",
    "## and blue points are actual values. So we need a curved model to fit the dataset other than a straight line."
   ],
   "metadata": {
    "collapsed": false
   }
  },
  {
   "cell_type": "code",
   "execution_count": 32,
   "outputs": [
    {
     "data": {
      "text/plain": "                                SLR\nPerformance Metric                 \nR2 Score                      0.669\nMAE                      128454.545\nMSE                 26695878787.879",
      "text/html": "<div>\n<style scoped>\n    .dataframe tbody tr th:only-of-type {\n        vertical-align: middle;\n    }\n\n    .dataframe tbody tr th {\n        vertical-align: top;\n    }\n\n    .dataframe thead th {\n        text-align: right;\n    }\n</style>\n<table border=\"1\" class=\"dataframe\">\n  <thead>\n    <tr style=\"text-align: right;\">\n      <th></th>\n      <th>SLR</th>\n    </tr>\n    <tr>\n      <th>Performance Metric</th>\n      <th></th>\n    </tr>\n  </thead>\n  <tbody>\n    <tr>\n      <th>R2 Score</th>\n      <td>0.669</td>\n    </tr>\n    <tr>\n      <th>MAE</th>\n      <td>128454.545</td>\n    </tr>\n    <tr>\n      <th>MSE</th>\n      <td>26695878787.879</td>\n    </tr>\n  </tbody>\n</table>\n</div>"
     },
     "execution_count": 32,
     "metadata": {},
     "output_type": "execute_result"
    }
   ],
   "source": [
    "# Calculate R2, MAE, MSE - Simple Linear Regression\n",
    "# Higher R2 Score is better (close to 1)\n",
    "# Lower MAE is better\n",
    "# Lower MSE is better\n",
    "from sklearn.metrics import mean_absolute_error\n",
    "from sklearn.metrics import mean_squared_error\n",
    "from sklearn.metrics import r2_score\n",
    "\n",
    "df_metrics = pd.DataFrame(\n",
    "    {\n",
    "        'Performance Metric': ['R2 Score','MAE','MSE']\n",
    "    }\n",
    ").set_index('Performance Metric')\n",
    "\n",
    "df_metrics['SLR'] = [\n",
    "    \"{:.3f}\".format(r2_score(y_target['Salary'], y_target['Salary (SLR)'])),\n",
    "    \"{:.3f}\".format(mean_absolute_error(y_target['Salary'], y_target['Salary (SLR)'])),\n",
    "    \"{:.3f}\".format(mean_squared_error(y_target['Salary'], y_target['Salary (SLR)']))\n",
    "]\n",
    "\n",
    "df_metrics"
   ],
   "metadata": {
    "collapsed": false
   }
  },
  {
   "cell_type": "markdown",
   "source": [
    "## Building the Polynomial regression model"
   ],
   "metadata": {
    "collapsed": false
   }
  },
  {
   "cell_type": "code",
   "execution_count": 33,
   "outputs": [
    {
     "data": {
      "text/plain": "array([[   1.,    1.,    1.,    1.],\n       [   1.,    2.,    4.,    8.],\n       [   1.,    3.,    9.,   27.],\n       [   1.,    4.,   16.,   64.],\n       [   1.,    5.,   25.,  125.],\n       [   1.,    6.,   36.,  216.],\n       [   1.,    7.,   49.,  343.],\n       [   1.,    8.,   64.,  512.],\n       [   1.,    9.,   81.,  729.],\n       [   1.,   10.,  100., 1000.]])"
     },
     "execution_count": 33,
     "metadata": {},
     "output_type": "execute_result"
    }
   ],
   "source": [
    "# Polynomial Regression, degree=3\n",
    "from sklearn.preprocessing import PolynomialFeatures\n",
    "\n",
    "# degree=3 to get both the quadratic and cubic feature transformation\n",
    "pf3 = PolynomialFeatures(degree=3)\n",
    "x_pf3 = pf3.fit_transform(x_features)\n",
    "x_pf3"
   ],
   "metadata": {
    "collapsed": false
   }
  },
  {
   "cell_type": "code",
   "execution_count": 34,
   "outputs": [],
   "source": [
    "# Reclaim our column names\n",
    "feature_translator = [(f'x{i}', feature) for i, feature in enumerate(x_features.columns, 0)]\n",
    "\n",
    "def translate_feature_names(s):\n",
    "    for key, val in reversed(feature_translator):\n",
    "        s = s.replace(key, val)\n",
    "    return s\n",
    "\n",
    "poly_features = [\n",
    "    translate_feature_names(f) for f in pf3.get_feature_names_out()\n",
    "]\n",
    "\n",
    "x_pf3n = pd.DataFrame(x_pf3, columns=poly_features)"
   ],
   "metadata": {
    "collapsed": false
   }
  },
  {
   "cell_type": "code",
   "execution_count": 35,
   "outputs": [
    {
     "data": {
      "text/plain": "     1  Level  Level^2  Level^3\n0  1.0    1.0      1.0      1.0\n1  1.0    2.0      4.0      8.0\n2  1.0    3.0      9.0     27.0\n3  1.0    4.0     16.0     64.0\n4  1.0    5.0     25.0    125.0\n5  1.0    6.0     36.0    216.0\n6  1.0    7.0     49.0    343.0\n7  1.0    8.0     64.0    512.0\n8  1.0    9.0     81.0    729.0\n9  1.0   10.0    100.0   1000.0",
      "text/html": "<div>\n<style scoped>\n    .dataframe tbody tr th:only-of-type {\n        vertical-align: middle;\n    }\n\n    .dataframe tbody tr th {\n        vertical-align: top;\n    }\n\n    .dataframe thead th {\n        text-align: right;\n    }\n</style>\n<table border=\"1\" class=\"dataframe\">\n  <thead>\n    <tr style=\"text-align: right;\">\n      <th></th>\n      <th>1</th>\n      <th>Level</th>\n      <th>Level^2</th>\n      <th>Level^3</th>\n    </tr>\n  </thead>\n  <tbody>\n    <tr>\n      <th>0</th>\n      <td>1.0</td>\n      <td>1.0</td>\n      <td>1.0</td>\n      <td>1.0</td>\n    </tr>\n    <tr>\n      <th>1</th>\n      <td>1.0</td>\n      <td>2.0</td>\n      <td>4.0</td>\n      <td>8.0</td>\n    </tr>\n    <tr>\n      <th>2</th>\n      <td>1.0</td>\n      <td>3.0</td>\n      <td>9.0</td>\n      <td>27.0</td>\n    </tr>\n    <tr>\n      <th>3</th>\n      <td>1.0</td>\n      <td>4.0</td>\n      <td>16.0</td>\n      <td>64.0</td>\n    </tr>\n    <tr>\n      <th>4</th>\n      <td>1.0</td>\n      <td>5.0</td>\n      <td>25.0</td>\n      <td>125.0</td>\n    </tr>\n    <tr>\n      <th>5</th>\n      <td>1.0</td>\n      <td>6.0</td>\n      <td>36.0</td>\n      <td>216.0</td>\n    </tr>\n    <tr>\n      <th>6</th>\n      <td>1.0</td>\n      <td>7.0</td>\n      <td>49.0</td>\n      <td>343.0</td>\n    </tr>\n    <tr>\n      <th>7</th>\n      <td>1.0</td>\n      <td>8.0</td>\n      <td>64.0</td>\n      <td>512.0</td>\n    </tr>\n    <tr>\n      <th>8</th>\n      <td>1.0</td>\n      <td>9.0</td>\n      <td>81.0</td>\n      <td>729.0</td>\n    </tr>\n    <tr>\n      <th>9</th>\n      <td>1.0</td>\n      <td>10.0</td>\n      <td>100.0</td>\n      <td>1000.0</td>\n    </tr>\n  </tbody>\n</table>\n</div>"
     },
     "execution_count": 35,
     "metadata": {},
     "output_type": "execute_result"
    }
   ],
   "source": [
    "x_pf3n"
   ],
   "metadata": {
    "collapsed": false
   }
  },
  {
   "cell_type": "code",
   "execution_count": 36,
   "outputs": [],
   "source": [
    "# Fitting the linear regressor with the derived features\n",
    "from sklearn.linear_model import LinearRegression\n",
    "\n",
    "plr3 = LinearRegression(fit_intercept=False)\n",
    "plr3.fit(x_pf3n, y_target['Salary'])\n",
    "\n",
    "y_target['Salary (PLR3)'] = plr3.predict(x_pf3n)"
   ],
   "metadata": {
    "collapsed": false
   }
  },
  {
   "cell_type": "code",
   "execution_count": 37,
   "outputs": [
    {
     "data": {
      "text/plain": "    Salary   Salary (SLR)  Salary (PLR3)\n0    45000 -114454.545455   14902.097902\n1    50000  -33575.757576   78759.906760\n2    60000   47303.030303   94960.372960\n3    80000  128181.818182   88223.776224\n4   110000  209060.606061   83270.396270\n5   150000  289939.393939  104820.512820\n6   200000  370818.181818  177594.405594\n7   300000  451696.969697  326312.354312\n8   500000  532575.757576  575694.638695\n9  1000000  613454.545455  950461.538461",
      "text/html": "<div>\n<style scoped>\n    .dataframe tbody tr th:only-of-type {\n        vertical-align: middle;\n    }\n\n    .dataframe tbody tr th {\n        vertical-align: top;\n    }\n\n    .dataframe thead th {\n        text-align: right;\n    }\n</style>\n<table border=\"1\" class=\"dataframe\">\n  <thead>\n    <tr style=\"text-align: right;\">\n      <th></th>\n      <th>Salary</th>\n      <th>Salary (SLR)</th>\n      <th>Salary (PLR3)</th>\n    </tr>\n  </thead>\n  <tbody>\n    <tr>\n      <th>0</th>\n      <td>45000</td>\n      <td>-114454.545455</td>\n      <td>14902.097902</td>\n    </tr>\n    <tr>\n      <th>1</th>\n      <td>50000</td>\n      <td>-33575.757576</td>\n      <td>78759.906760</td>\n    </tr>\n    <tr>\n      <th>2</th>\n      <td>60000</td>\n      <td>47303.030303</td>\n      <td>94960.372960</td>\n    </tr>\n    <tr>\n      <th>3</th>\n      <td>80000</td>\n      <td>128181.818182</td>\n      <td>88223.776224</td>\n    </tr>\n    <tr>\n      <th>4</th>\n      <td>110000</td>\n      <td>209060.606061</td>\n      <td>83270.396270</td>\n    </tr>\n    <tr>\n      <th>5</th>\n      <td>150000</td>\n      <td>289939.393939</td>\n      <td>104820.512820</td>\n    </tr>\n    <tr>\n      <th>6</th>\n      <td>200000</td>\n      <td>370818.181818</td>\n      <td>177594.405594</td>\n    </tr>\n    <tr>\n      <th>7</th>\n      <td>300000</td>\n      <td>451696.969697</td>\n      <td>326312.354312</td>\n    </tr>\n    <tr>\n      <th>8</th>\n      <td>500000</td>\n      <td>532575.757576</td>\n      <td>575694.638695</td>\n    </tr>\n    <tr>\n      <th>9</th>\n      <td>1000000</td>\n      <td>613454.545455</td>\n      <td>950461.538461</td>\n    </tr>\n  </tbody>\n</table>\n</div>"
     },
     "execution_count": 37,
     "metadata": {},
     "output_type": "execute_result"
    }
   ],
   "source": [
    "y_target"
   ],
   "metadata": {
    "collapsed": false
   }
  },
  {
   "cell_type": "code",
   "execution_count": 38,
   "outputs": [
    {
     "data": {
      "text/plain": "                 Coeff     ABS(Coeff)\nFeature                              \nLevel    180664.335664  180664.335664\n1       -121333.333333  121333.333333\nLevel^2  -48548.951049   48548.951049\nLevel^3    4120.046620    4120.046620",
      "text/html": "<div>\n<style scoped>\n    .dataframe tbody tr th:only-of-type {\n        vertical-align: middle;\n    }\n\n    .dataframe tbody tr th {\n        vertical-align: top;\n    }\n\n    .dataframe thead th {\n        text-align: right;\n    }\n</style>\n<table border=\"1\" class=\"dataframe\">\n  <thead>\n    <tr style=\"text-align: right;\">\n      <th></th>\n      <th>Coeff</th>\n      <th>ABS(Coeff)</th>\n    </tr>\n    <tr>\n      <th>Feature</th>\n      <th></th>\n      <th></th>\n    </tr>\n  </thead>\n  <tbody>\n    <tr>\n      <th>Level</th>\n      <td>180664.335664</td>\n      <td>180664.335664</td>\n    </tr>\n    <tr>\n      <th>1</th>\n      <td>-121333.333333</td>\n      <td>121333.333333</td>\n    </tr>\n    <tr>\n      <th>Level^2</th>\n      <td>-48548.951049</td>\n      <td>48548.951049</td>\n    </tr>\n    <tr>\n      <th>Level^3</th>\n      <td>4120.046620</td>\n      <td>4120.046620</td>\n    </tr>\n  </tbody>\n</table>\n</div>"
     },
     "execution_count": 38,
     "metadata": {},
     "output_type": "execute_result"
    }
   ],
   "source": [
    "# Check importance for each feature\n",
    "plr3_coeff = pd.DataFrame(\n",
    "    {\n",
    "        'Feature': x_pf3n.columns,\n",
    "        'Coeff': plr3.coef_,\n",
    "        'ABS(Coeff)': abs(plr3.coef_),\n",
    "    }\n",
    ").set_index('Feature').sort_values('ABS(Coeff)', ascending=False)\n",
    "\n",
    "plr3_coeff"
   ],
   "metadata": {
    "collapsed": false
   }
  },
  {
   "cell_type": "code",
   "execution_count": 39,
   "outputs": [
    {
     "data": {
      "text/plain": "<matplotlib.legend.Legend at 0x1396130a0>"
     },
     "execution_count": 39,
     "metadata": {},
     "output_type": "execute_result"
    },
    {
     "data": {
      "text/plain": "<Figure size 720x576 with 1 Axes>",
      "image/png": "[encoded data removed]"
     },
     "metadata": {
      "needs_background": "light"
     },
     "output_type": "display_data"
    }
   ],
   "source": [
    "# Visualizing the result for polynomial regression, degree=3\n",
    "fig, axs = plt.subplots(figsize=(10, 8), sharex=False, sharey=False)\n",
    "\n",
    "# Draw the data points\n",
    "sns.scatterplot(x=x_pf3n['Level'], y=y_target['Salary'], label='Salary', color=\"blue\", ax=axs)\n",
    "# Draw the prediction line\n",
    "sns.lineplot(x=x_pf3n['Level'], y=y_target['Salary (PLR3)'], label='Salary (PLR3)', color=\"red\", ax=axs)\n",
    "\n",
    "axs.set(title='Polynomail Regression for degree=3');\n",
    "axs.legend(loc='upper left', fontsize='x-large')"
   ],
   "metadata": {
    "collapsed": false
   }
  },
  {
   "cell_type": "markdown",
   "source": [
    "## As we can see in the above output image, the predictions are close to the real values. The above plot will vary as we will change the degree."
   ],
   "metadata": {
    "collapsed": false
   }
  },
  {
   "cell_type": "code",
   "execution_count": 40,
   "outputs": [
    {
     "data": {
      "text/plain": "                                SLR            PLR3\nPerformance Metric                                 \nR2 Score                      0.669           0.981\nMAE                      128454.545       34790.210\nMSE                 26695878787.879  1515662004.662",
      "text/html": "<div>\n<style scoped>\n    .dataframe tbody tr th:only-of-type {\n        vertical-align: middle;\n    }\n\n    .dataframe tbody tr th {\n        vertical-align: top;\n    }\n\n    .dataframe thead th {\n        text-align: right;\n    }\n</style>\n<table border=\"1\" class=\"dataframe\">\n  <thead>\n    <tr style=\"text-align: right;\">\n      <th></th>\n      <th>SLR</th>\n      <th>PLR3</th>\n    </tr>\n    <tr>\n      <th>Performance Metric</th>\n      <th></th>\n      <th></th>\n    </tr>\n  </thead>\n  <tbody>\n    <tr>\n      <th>R2 Score</th>\n      <td>0.669</td>\n      <td>0.981</td>\n    </tr>\n    <tr>\n      <th>MAE</th>\n      <td>128454.545</td>\n      <td>34790.210</td>\n    </tr>\n    <tr>\n      <th>MSE</th>\n      <td>26695878787.879</td>\n      <td>1515662004.662</td>\n    </tr>\n  </tbody>\n</table>\n</div>"
     },
     "execution_count": 40,
     "metadata": {},
     "output_type": "execute_result"
    }
   ],
   "source": [
    "# Calculate R2, MAE, MSE - Polynomial Linear Regression, degree=3\n",
    "# Higher R2 Score is better (close to 1)\n",
    "# Lower MAE is better\n",
    "# Lower MSE is better\n",
    "\n",
    "df_metrics['PLR3'] = [\n",
    "    \"{:.3f}\".format(r2_score(y_target['Salary'], y_target['Salary (PLR3)'])),\n",
    "    \"{:.3f}\".format(mean_absolute_error(y_target['Salary'], y_target['Salary (PLR3)'])),\n",
    "    \"{:.3f}\".format(mean_squared_error(y_target['Salary'], y_target['Salary (PLR3)']))\n",
    "]\n",
    "\n",
    "df_metrics"
   ],
   "metadata": {
    "collapsed": false
   }
  },
  {
   "cell_type": "code",
   "execution_count": 41,
   "outputs": [
    {
     "data": {
      "text/plain": "array([[1.000e+00, 1.000e+00, 1.000e+00, 1.000e+00, 1.000e+00],\n       [1.000e+00, 2.000e+00, 4.000e+00, 8.000e+00, 1.600e+01],\n       [1.000e+00, 3.000e+00, 9.000e+00, 2.700e+01, 8.100e+01],\n       [1.000e+00, 4.000e+00, 1.600e+01, 6.400e+01, 2.560e+02],\n       [1.000e+00, 5.000e+00, 2.500e+01, 1.250e+02, 6.250e+02],\n       [1.000e+00, 6.000e+00, 3.600e+01, 2.160e+02, 1.296e+03],\n       [1.000e+00, 7.000e+00, 4.900e+01, 3.430e+02, 2.401e+03],\n       [1.000e+00, 8.000e+00, 6.400e+01, 5.120e+02, 4.096e+03],\n       [1.000e+00, 9.000e+00, 8.100e+01, 7.290e+02, 6.561e+03],\n       [1.000e+00, 1.000e+01, 1.000e+02, 1.000e+03, 1.000e+04]])"
     },
     "execution_count": 41,
     "metadata": {},
     "output_type": "execute_result"
    }
   ],
   "source": [
    "# Polynomial Regression, degree=4\n",
    "from sklearn.preprocessing import PolynomialFeatures\n",
    "\n",
    "# degree=4 to get both the quadratic and cubic feature transformation\n",
    "pf4 = PolynomialFeatures(degree=4)\n",
    "x_pf4 = pf4.fit_transform(x_features)\n",
    "x_pf4"
   ],
   "metadata": {
    "collapsed": false
   }
  },
  {
   "cell_type": "code",
   "execution_count": 42,
   "outputs": [],
   "source": [
    "# Reclaim our column names\n",
    "feature_translator = [(f'x{i}', feature) for i, feature in enumerate(x_features.columns, 0)]\n",
    "\n",
    "def translate_feature_names(s):\n",
    "    for key, val in reversed(feature_translator):\n",
    "        s = s.replace(key, val)\n",
    "    return s\n",
    "\n",
    "poly_features = [\n",
    "    translate_feature_names(f) for f in pf4.get_feature_names_out()\n",
    "]\n",
    "\n",
    "x_pf4n = pd.DataFrame(x_pf4, columns=poly_features)"
   ],
   "metadata": {
    "collapsed": false
   }
  },
  {
   "cell_type": "code",
   "execution_count": 43,
   "outputs": [
    {
     "data": {
      "text/plain": "     1  Level  Level^2  Level^3  Level^4\n0  1.0    1.0      1.0      1.0      1.0\n1  1.0    2.0      4.0      8.0     16.0\n2  1.0    3.0      9.0     27.0     81.0\n3  1.0    4.0     16.0     64.0    256.0\n4  1.0    5.0     25.0    125.0    625.0\n5  1.0    6.0     36.0    216.0   1296.0\n6  1.0    7.0     49.0    343.0   2401.0\n7  1.0    8.0     64.0    512.0   4096.0\n8  1.0    9.0     81.0    729.0   6561.0\n9  1.0   10.0    100.0   1000.0  10000.0",
      "text/html": "<div>\n<style scoped>\n    .dataframe tbody tr th:only-of-type {\n        vertical-align: middle;\n    }\n\n    .dataframe tbody tr th {\n        vertical-align: top;\n    }\n\n    .dataframe thead th {\n        text-align: right;\n    }\n</style>\n<table border=\"1\" class=\"dataframe\">\n  <thead>\n    <tr style=\"text-align: right;\">\n      <th></th>\n      <th>1</th>\n      <th>Level</th>\n      <th>Level^2</th>\n      <th>Level^3</th>\n      <th>Level^4</th>\n    </tr>\n  </thead>\n  <tbody>\n    <tr>\n      <th>0</th>\n      <td>1.0</td>\n      <td>1.0</td>\n      <td>1.0</td>\n      <td>1.0</td>\n      <td>1.0</td>\n    </tr>\n    <tr>\n      <th>1</th>\n      <td>1.0</td>\n      <td>2.0</td>\n      <td>4.0</td>\n      <td>8.0</td>\n      <td>16.0</td>\n    </tr>\n    <tr>\n      <th>2</th>\n      <td>1.0</td>\n      <td>3.0</td>\n      <td>9.0</td>\n      <td>27.0</td>\n      <td>81.0</td>\n    </tr>\n    <tr>\n      <th>3</th>\n      <td>1.0</td>\n      <td>4.0</td>\n      <td>16.0</td>\n      <td>64.0</td>\n      <td>256.0</td>\n    </tr>\n    <tr>\n      <th>4</th>\n      <td>1.0</td>\n      <td>5.0</td>\n      <td>25.0</td>\n      <td>125.0</td>\n      <td>625.0</td>\n    </tr>\n    <tr>\n      <th>5</th>\n      <td>1.0</td>\n      <td>6.0</td>\n      <td>36.0</td>\n      <td>216.0</td>\n      <td>1296.0</td>\n    </tr>\n    <tr>\n      <th>6</th>\n      <td>1.0</td>\n      <td>7.0</td>\n      <td>49.0</td>\n      <td>343.0</td>\n      <td>2401.0</td>\n    </tr>\n    <tr>\n      <th>7</th>\n      <td>1.0</td>\n      <td>8.0</td>\n      <td>64.0</td>\n      <td>512.0</td>\n      <td>4096.0</td>\n    </tr>\n    <tr>\n      <th>8</th>\n      <td>1.0</td>\n      <td>9.0</td>\n      <td>81.0</td>\n      <td>729.0</td>\n      <td>6561.0</td>\n    </tr>\n    <tr>\n      <th>9</th>\n      <td>1.0</td>\n      <td>10.0</td>\n      <td>100.0</td>\n      <td>1000.0</td>\n      <td>10000.0</td>\n    </tr>\n  </tbody>\n</table>\n</div>"
     },
     "execution_count": 43,
     "metadata": {},
     "output_type": "execute_result"
    }
   ],
   "source": [
    "x_pf4n"
   ],
   "metadata": {
    "collapsed": false
   }
  },
  {
   "cell_type": "code",
   "execution_count": 44,
   "outputs": [],
   "source": [
    "# Fitting the linear regressor with the derived features\n",
    "from sklearn.linear_model import LinearRegression\n",
    "\n",
    "plr4 = LinearRegression(fit_intercept=False)\n",
    "plr4.fit(x_pf4n, y_target['Salary'])\n",
    "\n",
    "y_target['Salary (PLR4)'] = plr4.predict(x_pf4n)"
   ],
   "metadata": {
    "collapsed": false
   }
  },
  {
   "cell_type": "code",
   "execution_count": 45,
   "outputs": [
    {
     "data": {
      "text/plain": "    Salary   Salary (SLR)  Salary (PLR3)  Salary (PLR4)\n0    45000 -114454.545455   14902.097902   53356.643357\n1    50000  -33575.757576   78759.906760   31759.906760\n2    60000   47303.030303   94960.372960   58642.191142\n3    80000  128181.818182   88223.776224   94632.867133\n4   110000  209060.606061   83270.396270  121724.941725\n5   150000  289939.393939  104820.512820  143275.058275\n6   200000  370818.181818  177594.405594  184003.496503\n7   300000  451696.969697  326312.354312  289994.172494\n8   500000  532575.757576  575694.638695  528694.638695\n9  1000000  613454.545455  950461.538461  988916.083916",
      "text/html": "<div>\n<style scoped>\n    .dataframe tbody tr th:only-of-type {\n        vertical-align: middle;\n    }\n\n    .dataframe tbody tr th {\n        vertical-align: top;\n    }\n\n    .dataframe thead th {\n        text-align: right;\n    }\n</style>\n<table border=\"1\" class=\"dataframe\">\n  <thead>\n    <tr style=\"text-align: right;\">\n      <th></th>\n      <th>Salary</th>\n      <th>Salary (SLR)</th>\n      <th>Salary (PLR3)</th>\n      <th>Salary (PLR4)</th>\n    </tr>\n  </thead>\n  <tbody>\n    <tr>\n      <th>0</th>\n      <td>45000</td>\n      <td>-114454.545455</td>\n      <td>14902.097902</td>\n      <td>53356.643357</td>\n    </tr>\n    <tr>\n      <th>1</th>\n      <td>50000</td>\n      <td>-33575.757576</td>\n      <td>78759.906760</td>\n      <td>31759.906760</td>\n    </tr>\n    <tr>\n      <th>2</th>\n      <td>60000</td>\n      <td>47303.030303</td>\n      <td>94960.372960</td>\n      <td>58642.191142</td>\n    </tr>\n    <tr>\n      <th>3</th>\n      <td>80000</td>\n      <td>128181.818182</td>\n      <td>88223.776224</td>\n      <td>94632.867133</td>\n    </tr>\n    <tr>\n      <th>4</th>\n      <td>110000</td>\n      <td>209060.606061</td>\n      <td>83270.396270</td>\n      <td>121724.941725</td>\n    </tr>\n    <tr>\n      <th>5</th>\n      <td>150000</td>\n      <td>289939.393939</td>\n      <td>104820.512820</td>\n      <td>143275.058275</td>\n    </tr>\n    <tr>\n      <th>6</th>\n      <td>200000</td>\n      <td>370818.181818</td>\n      <td>177594.405594</td>\n      <td>184003.496503</td>\n    </tr>\n    <tr>\n      <th>7</th>\n      <td>300000</td>\n      <td>451696.969697</td>\n      <td>326312.354312</td>\n      <td>289994.172494</td>\n    </tr>\n    <tr>\n      <th>8</th>\n      <td>500000</td>\n      <td>532575.757576</td>\n      <td>575694.638695</td>\n      <td>528694.638695</td>\n    </tr>\n    <tr>\n      <th>9</th>\n      <td>1000000</td>\n      <td>613454.545455</td>\n      <td>950461.538461</td>\n      <td>988916.083916</td>\n    </tr>\n  </tbody>\n</table>\n</div>"
     },
     "execution_count": 45,
     "metadata": {},
     "output_type": "execute_result"
    }
   ],
   "source": [
    "y_target"
   ],
   "metadata": {
    "collapsed": false
   }
  },
  {
   "cell_type": "code",
   "execution_count": 46,
   "outputs": [
    {
     "data": {
      "text/plain": "                 Coeff     ABS(Coeff)\nFeature                              \nLevel   -211002.331002  211002.331002\n1        184166.666667  184166.666667\nLevel^2   94765.442890   94765.442890\nLevel^3  -15463.286713   15463.286713\nLevel^4     890.151515     890.151515",
      "text/html": "<div>\n<style scoped>\n    .dataframe tbody tr th:only-of-type {\n        vertical-align: middle;\n    }\n\n    .dataframe tbody tr th {\n        vertical-align: top;\n    }\n\n    .dataframe thead th {\n        text-align: right;\n    }\n</style>\n<table border=\"1\" class=\"dataframe\">\n  <thead>\n    <tr style=\"text-align: right;\">\n      <th></th>\n      <th>Coeff</th>\n      <th>ABS(Coeff)</th>\n    </tr>\n    <tr>\n      <th>Feature</th>\n      <th></th>\n      <th></th>\n    </tr>\n  </thead>\n  <tbody>\n    <tr>\n      <th>Level</th>\n      <td>-211002.331002</td>\n      <td>211002.331002</td>\n    </tr>\n    <tr>\n      <th>1</th>\n      <td>184166.666667</td>\n      <td>184166.666667</td>\n    </tr>\n    <tr>\n      <th>Level^2</th>\n      <td>94765.442890</td>\n      <td>94765.442890</td>\n    </tr>\n    <tr>\n      <th>Level^3</th>\n      <td>-15463.286713</td>\n      <td>15463.286713</td>\n    </tr>\n    <tr>\n      <th>Level^4</th>\n      <td>890.151515</td>\n      <td>890.151515</td>\n    </tr>\n  </tbody>\n</table>\n</div>"
     },
     "execution_count": 46,
     "metadata": {},
     "output_type": "execute_result"
    }
   ],
   "source": [
    "# Check importance for each feature\n",
    "plr4_coeff = pd.DataFrame(\n",
    "    {\n",
    "        'Feature': x_pf4n.columns,\n",
    "        'Coeff': plr4.coef_,\n",
    "        'ABS(Coeff)': abs(plr4.coef_),\n",
    "    }\n",
    ").set_index('Feature').sort_values('ABS(Coeff)', ascending=False)\n",
    "\n",
    "plr4_coeff"
   ],
   "metadata": {
    "collapsed": false
   }
  },
  {
   "cell_type": "code",
   "execution_count": 47,
   "outputs": [
    {
     "data": {
      "text/plain": "<matplotlib.legend.Legend at 0x1394ddc60>"
     },
     "execution_count": 47,
     "metadata": {},
     "output_type": "execute_result"
    },
    {
     "data": {
      "text/plain": "<Figure size 720x576 with 1 Axes>",
      "image/png": "[encoded data removed]"
     },
     "metadata": {
      "needs_background": "light"
     },
     "output_type": "display_data"
    }
   ],
   "source": [
    "# Visualizing the result for polynomial regression, degree=4\n",
    "fig, axs = plt.subplots(figsize=(10, 8), sharex=False, sharey=False)\n",
    "# Draw the data points\n",
    "sns.scatterplot(x=x_pf4n['Level'], y=y_target['Salary'], label='Salary', color=\"blue\", ax=axs)\n",
    "# Draw the prediction line\n",
    "sns.lineplot(x=x_pf4n['Level'], y=y_target['Salary (PLR4)'], label='Salary (PLR4)', color=\"red\", ax=axs)\n",
    "\n",
    "axs.set(title='Polynomail Regression for degree=4');\n",
    "axs.legend(loc='upper left', fontsize='x-large')"
   ],
   "metadata": {
    "collapsed": false
   }
  },
  {
   "cell_type": "markdown",
   "source": [
    "## If we change the degree=4, then we will give a more accurate plot, as shown in the below image.\n",
    "## Hence we can get more accurate results by increasing the degree of Polynomial."
   ],
   "metadata": {
    "collapsed": false
   }
  },
  {
   "cell_type": "code",
   "execution_count": 48,
   "outputs": [
    {
     "data": {
      "text/plain": "                                SLR            PLR3           PLR4\nPerformance Metric                                                \nR2 Score                      0.669           0.981          0.997\nMAE                      128454.545       34790.210      12681.818\nMSE                 26695878787.879  1515662004.662  210343822.844",
      "text/html": "<div>\n<style scoped>\n    .dataframe tbody tr th:only-of-type {\n        vertical-align: middle;\n    }\n\n    .dataframe tbody tr th {\n        vertical-align: top;\n    }\n\n    .dataframe thead th {\n        text-align: right;\n    }\n</style>\n<table border=\"1\" class=\"dataframe\">\n  <thead>\n    <tr style=\"text-align: right;\">\n      <th></th>\n      <th>SLR</th>\n      <th>PLR3</th>\n      <th>PLR4</th>\n    </tr>\n    <tr>\n      <th>Performance Metric</th>\n      <th></th>\n      <th></th>\n      <th></th>\n    </tr>\n  </thead>\n  <tbody>\n    <tr>\n      <th>R2 Score</th>\n      <td>0.669</td>\n      <td>0.981</td>\n      <td>0.997</td>\n    </tr>\n    <tr>\n      <th>MAE</th>\n      <td>128454.545</td>\n      <td>34790.210</td>\n      <td>12681.818</td>\n    </tr>\n    <tr>\n      <th>MSE</th>\n      <td>26695878787.879</td>\n      <td>1515662004.662</td>\n      <td>210343822.844</td>\n    </tr>\n  </tbody>\n</table>\n</div>"
     },
     "execution_count": 48,
     "metadata": {},
     "output_type": "execute_result"
    }
   ],
   "source": [
    "# Calculate R2, MAE, MSE - Polynomial Regression degree=4\n",
    "# Higher R2 Score is better (close to 1)\n",
    "# Lower MAE is better\n",
    "# Lower MSE is better\n",
    "\n",
    "df_metrics['PLR4'] = [\n",
    "    \"{:.3f}\".format(r2_score(y_target['Salary'], y_target['Salary (PLR4)'])),\n",
    "    \"{:.3f}\".format(mean_absolute_error(y_target['Salary'], y_target['Salary (PLR4)'])),\n",
    "    \"{:.3f}\".format(mean_squared_error(y_target['Salary'], y_target['Salary (PLR4)']))\n",
    "]\n",
    "\n",
    "df_metrics"
   ],
   "metadata": {
    "collapsed": false
   }
  },
  {
   "cell_type": "markdown",
   "source": [
    "## Predicting the final result with the Linear Regression model"
   ],
   "metadata": {
    "collapsed": false
   }
  },
  {
   "cell_type": "code",
   "execution_count": 49,
   "outputs": [
    {
     "name": "stdout",
     "output_type": "stream",
     "text": [
      "[330378.78787879]\n"
     ]
    },
    {
     "name": "stderr",
     "output_type": "stream",
     "text": [
      "/Users/dmmil/.pyenv/versions/env3.10.8/lib/python3.10/site-packages/sklearn/base.py:439: UserWarning: X does not have valid feature names, but LinearRegression was fitted with feature names\n",
      "  warnings.warn(\n"
     ]
    }
   ],
   "source": [
    "# Now, we will predict the final output using the Linear regression model.\n",
    "# So, for this, we will use the predict() method and will pass the value 6.5.\n",
    "slr_pred = slr.predict([[6.5]])\n",
    "print(slr_pred)"
   ],
   "metadata": {
    "collapsed": false
   }
  },
  {
   "cell_type": "code",
   "execution_count": 50,
   "outputs": [
    {
     "name": "stdout",
     "output_type": "stream",
     "text": [
      "[158862.45265146]\n"
     ]
    },
    {
     "name": "stderr",
     "output_type": "stream",
     "text": [
      "/Users/dmmil/.pyenv/versions/env3.10.8/lib/python3.10/site-packages/sklearn/base.py:439: UserWarning: X does not have valid feature names, but LinearRegression was fitted with feature names\n",
      "  warnings.warn(\n"
     ]
    }
   ],
   "source": [
    "# Now, we will predict the final output using the Polynomial Regression model to compare with Linear model.\n",
    "plr4_pred = plr4.predict(pf4.fit_transform([[6.5]]))\n",
    "print(plr4_pred)"
   ],
   "metadata": {
    "collapsed": false
   }
  },
  {
   "cell_type": "code",
   "execution_count": null,
   "outputs": [],
   "source": [],
   "metadata": {
    "collapsed": false
   }
  }
 ],
 "metadata": {
  "kernelspec": {
   "display_name": "Python 3",
   "language": "python",
   "name": "python3"
  },
  "language_info": {
   "codemirror_mode": {
    "name": "ipython",
    "version": 2
   },
   "file_extension": ".py",
   "mimetype": "text/x-python",
   "name": "python",
   "nbconvert_exporter": "python",
   "pygments_lexer": "ipython2",
   "version": "2.7.6"
  }
 },
 "nbformat": 4,
 "nbformat_minor": 0
}
