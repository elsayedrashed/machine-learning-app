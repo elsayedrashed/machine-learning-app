{
 "cells": [
  {
   "cell_type": "markdown",
   "source": [
    "## Multinomial Classification\n",
    "### Model Serving"
   ],
   "metadata": {
    "collapsed": false
   }
  },
  {
   "cell_type": "code",
   "execution_count": 1,
   "outputs": [],
   "source": [
    "import pandas as pd\n",
    "\n",
    "# Features verification\n",
    "from feature_engine.preprocessing import MatchVariables\n",
    "# Categories verification\n",
    "from feature_engine.preprocessing import MatchCategories\n",
    "# Script Serving\n",
    "from jpmml_evaluator import make_evaluator\n",
    "from jpmml_evaluator.py4j import Py4JBackend\n",
    "# REST Serving\n",
    "from openscoring import Openscoring"
   ],
   "metadata": {
    "collapsed": false
   }
  },
  {
   "cell_type": "code",
   "execution_count": 2,
   "outputs": [],
   "source": [
    "import warnings\n",
    "warnings.filterwarnings('ignore')"
   ],
   "metadata": {
    "collapsed": false
   }
  },
  {
   "cell_type": "code",
   "execution_count": 3,
   "outputs": [],
   "source": [
    "# Data Import\n",
    "df = pd.read_csv('../../../data/dry_bean_clean.csv')\n",
    "# Get sample dataset for model serving\n",
    "df_serve = df.sample(30)\n",
    "x_serve = df_serve.drop('target', axis=1)\n",
    "y_serve = df_serve[['target']]\n",
    "x_serve.reset_index(drop=True, inplace=True)\n",
    "y_serve.reset_index(drop=True, inplace=True)"
   ],
   "metadata": {
    "collapsed": false
   }
  },
  {
   "cell_type": "markdown",
   "source": [
    "## Features Verification"
   ],
   "metadata": {
    "collapsed": false
   }
  },
  {
   "cell_type": "code",
   "execution_count": 4,
   "outputs": [
    {
     "data": {
      "text/plain": "['Area',\n 'Perimeter',\n 'MajorAxisLength',\n 'MinorAxisLength',\n 'AspectRation',\n 'Eccentricity',\n 'ConvexArea',\n 'EquivDiameter',\n 'Extent',\n 'Solidity',\n 'roundness',\n 'Compactness',\n 'ShapeFactor1',\n 'ShapeFactor2',\n 'ShapeFactor3',\n 'ShapeFactor4']"
     },
     "execution_count": 4,
     "metadata": {},
     "output_type": "execute_result"
    }
   ],
   "source": [
    "# Ensures that columns in serving set match those in train set\n",
    "x_train = df_serve.drop('target', axis=1)\n",
    "# Setup the transformer\n",
    "match_cols = MatchVariables(missing_values=\"ignore\")\n",
    "match_cols.fit(x_train)\n",
    "match_cols.feature_names_in_"
   ],
   "metadata": {
    "collapsed": false
   }
  },
  {
   "cell_type": "code",
   "execution_count": 5,
   "outputs": [
    {
     "data": {
      "text/plain": "     Area    Perimeter  MajorAxisLength  MinorAxisLength  AspectRation  \\\n0   41884   748.149000       267.797808       199.374960      1.343187   \n1   89064  1136.037810       431.177196       265.959802      1.621296   \n2   41153   731.845052       256.623853       204.471564      1.255262   \n3  180061  1615.172606       611.486741       376.471074      1.624700   \n4   47775   852.110000       341.692355       178.604141      1.913127   \n\n   Eccentricity  ConvexArea  EquivDiameter    Extent  Solidity  roundness  \\\n0      0.667625       42242     230.929351  0.742703  0.991525   0.940333   \n1      0.787044       90314     336.749626  0.740073  0.986164   0.867219   \n2      0.603614       41465     228.907950  0.782783  0.992489   0.965596   \n3      0.787676      181832     478.813137  0.720286  0.990266   0.867557   \n4      0.852514       48428     246.635397  0.794080  0.986516   0.826836   \n\n   Compactness  ShapeFactor1  ShapeFactor2  ShapeFactor3  ShapeFactor4  \n0     0.862327      0.006394      0.002181      0.743608      0.998805  \n1     0.781015      0.004841      0.001111      0.609995      0.988902  \n2     0.892072      0.006236      0.002436      0.795859      0.998682  \n3     0.783153      0.003396      0.000788      0.613423      0.996035  \n4     0.721805      0.007152      0.001198      0.521003      0.996745  ",
      "text/html": "<div>\n<style scoped>\n    .dataframe tbody tr th:only-of-type {\n        vertical-align: middle;\n    }\n\n    .dataframe tbody tr th {\n        vertical-align: top;\n    }\n\n    .dataframe thead th {\n        text-align: right;\n    }\n</style>\n<table border=\"1\" class=\"dataframe\">\n  <thead>\n    <tr style=\"text-align: right;\">\n      <th></th>\n      <th>Area</th>\n      <th>Perimeter</th>\n      <th>MajorAxisLength</th>\n      <th>MinorAxisLength</th>\n      <th>AspectRation</th>\n      <th>Eccentricity</th>\n      <th>ConvexArea</th>\n      <th>EquivDiameter</th>\n      <th>Extent</th>\n      <th>Solidity</th>\n      <th>roundness</th>\n      <th>Compactness</th>\n      <th>ShapeFactor1</th>\n      <th>ShapeFactor2</th>\n      <th>ShapeFactor3</th>\n      <th>ShapeFactor4</th>\n    </tr>\n  </thead>\n  <tbody>\n    <tr>\n      <th>0</th>\n      <td>41884</td>\n      <td>748.149000</td>\n      <td>267.797808</td>\n      <td>199.374960</td>\n      <td>1.343187</td>\n      <td>0.667625</td>\n      <td>42242</td>\n      <td>230.929351</td>\n      <td>0.742703</td>\n      <td>0.991525</td>\n      <td>0.940333</td>\n      <td>0.862327</td>\n      <td>0.006394</td>\n      <td>0.002181</td>\n      <td>0.743608</td>\n      <td>0.998805</td>\n    </tr>\n    <tr>\n      <th>1</th>\n      <td>89064</td>\n      <td>1136.037810</td>\n      <td>431.177196</td>\n      <td>265.959802</td>\n      <td>1.621296</td>\n      <td>0.787044</td>\n      <td>90314</td>\n      <td>336.749626</td>\n      <td>0.740073</td>\n      <td>0.986164</td>\n      <td>0.867219</td>\n      <td>0.781015</td>\n      <td>0.004841</td>\n      <td>0.001111</td>\n      <td>0.609995</td>\n      <td>0.988902</td>\n    </tr>\n    <tr>\n      <th>2</th>\n      <td>41153</td>\n      <td>731.845052</td>\n      <td>256.623853</td>\n      <td>204.471564</td>\n      <td>1.255262</td>\n      <td>0.603614</td>\n      <td>41465</td>\n      <td>228.907950</td>\n      <td>0.782783</td>\n      <td>0.992489</td>\n      <td>0.965596</td>\n      <td>0.892072</td>\n      <td>0.006236</td>\n      <td>0.002436</td>\n      <td>0.795859</td>\n      <td>0.998682</td>\n    </tr>\n    <tr>\n      <th>3</th>\n      <td>180061</td>\n      <td>1615.172606</td>\n      <td>611.486741</td>\n      <td>376.471074</td>\n      <td>1.624700</td>\n      <td>0.787676</td>\n      <td>181832</td>\n      <td>478.813137</td>\n      <td>0.720286</td>\n      <td>0.990266</td>\n      <td>0.867557</td>\n      <td>0.783153</td>\n      <td>0.003396</td>\n      <td>0.000788</td>\n      <td>0.613423</td>\n      <td>0.996035</td>\n    </tr>\n    <tr>\n      <th>4</th>\n      <td>47775</td>\n      <td>852.110000</td>\n      <td>341.692355</td>\n      <td>178.604141</td>\n      <td>1.913127</td>\n      <td>0.852514</td>\n      <td>48428</td>\n      <td>246.635397</td>\n      <td>0.794080</td>\n      <td>0.986516</td>\n      <td>0.826836</td>\n      <td>0.721805</td>\n      <td>0.007152</td>\n      <td>0.001198</td>\n      <td>0.521003</td>\n      <td>0.996745</td>\n    </tr>\n  </tbody>\n</table>\n</div>"
     },
     "execution_count": 5,
     "metadata": {},
     "output_type": "execute_result"
    }
   ],
   "source": [
    "# Run the transformer\n",
    "x_match = match_cols.transform(x_serve)\n",
    "x_match.head(5)"
   ],
   "metadata": {
    "collapsed": false
   }
  },
  {
   "cell_type": "markdown",
   "source": [
    "## Categories Verification"
   ],
   "metadata": {
    "collapsed": false
   }
  },
  {
   "cell_type": "code",
   "execution_count": 6,
   "outputs": [],
   "source": [
    "# Ensures categorical variables are of type ‘category’\n",
    "mc = MatchCategories(missing_values=\"ignore\")\n",
    "# mc.fit(x_train)"
   ],
   "metadata": {
    "collapsed": false
   }
  },
  {
   "cell_type": "code",
   "execution_count": 7,
   "outputs": [],
   "source": [
    "# Run the transformer\n",
    "# x_match_c = mc.transform(x_match)\n",
    "# x_match_c.head(5)"
   ],
   "metadata": {
    "collapsed": false
   }
  },
  {
   "cell_type": "markdown",
   "source": [
    "## Model Script Serving"
   ],
   "metadata": {
    "collapsed": false
   }
  },
  {
   "cell_type": "code",
   "execution_count": 8,
   "outputs": [
    {
     "data": {
      "text/plain": "<jpmml_evaluator.Evaluator at 0x134e86260>"
     },
     "execution_count": 8,
     "metadata": {},
     "output_type": "execute_result"
    }
   ],
   "source": [
    "# Load PMML model\n",
    "evaluator = make_evaluator(backend=Py4JBackend(), path=\"../../../data/MultinomialClassification-LogisticRegression.pmml\")\n",
    "# Perform automated QA\n",
    "evaluator.verify()"
   ],
   "metadata": {
    "collapsed": false
   }
  },
  {
   "cell_type": "code",
   "execution_count": 9,
   "outputs": [
    {
     "data": {
      "text/plain": "   target  probability(BARBUNYA)  probability(BOMBAY)  probability(CALI)  \\\n0   SEKER           1.063511e-04         4.068263e-10       5.054330e-08   \n1    CALI           1.551991e-03         5.552064e-03       9.928958e-01   \n2   SEKER           1.850116e-06         2.036167e-11       1.471680e-10   \n3  BOMBAY           5.826885e-07         9.999750e-01       2.439196e-05   \n4   HOROZ           1.605717e-04         1.713898e-10       5.476602e-04   \n\n   probability(DERMASON)  probability(HOROZ)  probability(SEKER)  \\\n0           8.646425e-04        1.817695e-11        9.910744e-01   \n1           3.897494e-20        2.887214e-08        9.611967e-13   \n2           1.701867e-05        1.730132e-15        9.999288e-01   \n3           4.858948e-47        1.358891e-23        2.647611e-20   \n4           1.445961e-05        9.620158e-01        2.203553e-09   \n\n   probability(SIRA)  \n0       7.954513e-03  \n1       1.327525e-07  \n2       5.232816e-05  \n3       4.250403e-25  \n4       3.726148e-02  ",
      "text/html": "<div>\n<style scoped>\n    .dataframe tbody tr th:only-of-type {\n        vertical-align: middle;\n    }\n\n    .dataframe tbody tr th {\n        vertical-align: top;\n    }\n\n    .dataframe thead th {\n        text-align: right;\n    }\n</style>\n<table border=\"1\" class=\"dataframe\">\n  <thead>\n    <tr style=\"text-align: right;\">\n      <th></th>\n      <th>target</th>\n      <th>probability(BARBUNYA)</th>\n      <th>probability(BOMBAY)</th>\n      <th>probability(CALI)</th>\n      <th>probability(DERMASON)</th>\n      <th>probability(HOROZ)</th>\n      <th>probability(SEKER)</th>\n      <th>probability(SIRA)</th>\n    </tr>\n  </thead>\n  <tbody>\n    <tr>\n      <th>0</th>\n      <td>SEKER</td>\n      <td>1.063511e-04</td>\n      <td>4.068263e-10</td>\n      <td>5.054330e-08</td>\n      <td>8.646425e-04</td>\n      <td>1.817695e-11</td>\n      <td>9.910744e-01</td>\n      <td>7.954513e-03</td>\n    </tr>\n    <tr>\n      <th>1</th>\n      <td>CALI</td>\n      <td>1.551991e-03</td>\n      <td>5.552064e-03</td>\n      <td>9.928958e-01</td>\n      <td>3.897494e-20</td>\n      <td>2.887214e-08</td>\n      <td>9.611967e-13</td>\n      <td>1.327525e-07</td>\n    </tr>\n    <tr>\n      <th>2</th>\n      <td>SEKER</td>\n      <td>1.850116e-06</td>\n      <td>2.036167e-11</td>\n      <td>1.471680e-10</td>\n      <td>1.701867e-05</td>\n      <td>1.730132e-15</td>\n      <td>9.999288e-01</td>\n      <td>5.232816e-05</td>\n    </tr>\n    <tr>\n      <th>3</th>\n      <td>BOMBAY</td>\n      <td>5.826885e-07</td>\n      <td>9.999750e-01</td>\n      <td>2.439196e-05</td>\n      <td>4.858948e-47</td>\n      <td>1.358891e-23</td>\n      <td>2.647611e-20</td>\n      <td>4.250403e-25</td>\n    </tr>\n    <tr>\n      <th>4</th>\n      <td>HOROZ</td>\n      <td>1.605717e-04</td>\n      <td>1.713898e-10</td>\n      <td>5.476602e-04</td>\n      <td>1.445961e-05</td>\n      <td>9.620158e-01</td>\n      <td>2.203553e-09</td>\n      <td>3.726148e-02</td>\n    </tr>\n  </tbody>\n</table>\n</div>"
     },
     "execution_count": 9,
     "metadata": {},
     "output_type": "execute_result"
    }
   ],
   "source": [
    "# Model Serving\n",
    "dfresult = evaluator.evaluateAll(x_match)\n",
    "dfresult.head(5)"
   ],
   "metadata": {
    "collapsed": false
   }
  },
  {
   "cell_type": "markdown",
   "source": [
    "## Model REST Serving"
   ],
   "metadata": {
    "collapsed": false
   }
  },
  {
   "cell_type": "code",
   "execution_count": 10,
   "outputs": [],
   "source": [
    "# Creating an Openscoring object\n",
    "# Openscoring server have to be running on base-url\n",
    "os = Openscoring(base_url = \"http://localhost:8080\", token=\"secret\")"
   ],
   "metadata": {
    "collapsed": false
   }
  },
  {
   "cell_type": "code",
   "execution_count": 11,
   "outputs": [
    {
     "data": {
      "text/plain": "<openscoring.common.ModelResponse at 0x102f1d570>"
     },
     "execution_count": 11,
     "metadata": {},
     "output_type": "execute_result"
    }
   ],
   "source": [
    "# Deploying a PMML model:\n",
    "model_name = 'MultinomialClassification-LogisticRegression'\n",
    "os.deployFile(model_name, \"../../../data/MultinomialClassification-LogisticRegression.pmml\")"
   ],
   "metadata": {
    "collapsed": false
   }
  },
  {
   "cell_type": "code",
   "execution_count": 13,
   "outputs": [
    {
     "name": "stdout",
     "output_type": "stream",
     "text": [
      "   target  probability(BARBUNYA)  probability(BOMBAY)  probability(CALI)  \\\n",
      "0   SEKER           1.063511e-04         4.068263e-10       5.054330e-08   \n",
      "1    CALI           1.551991e-03         5.552064e-03       9.928958e-01   \n",
      "2   SEKER           1.850116e-06         2.036167e-11       1.471680e-10   \n",
      "3  BOMBAY           5.826885e-07         9.999750e-01       2.439196e-05   \n",
      "4   HOROZ           1.605717e-04         1.713898e-10       5.476602e-04   \n",
      "\n",
      "   probability(DERMASON)  probability(HOROZ)  probability(SEKER)  \\\n",
      "0           8.646425e-04        1.817695e-11        9.910744e-01   \n",
      "1           3.897494e-20        2.887214e-08        9.611967e-13   \n",
      "2           1.701867e-05        1.730132e-15        9.999288e-01   \n",
      "3           4.858948e-47        1.358891e-23        2.647611e-20   \n",
      "4           1.445961e-05        9.620158e-01        2.203553e-09   \n",
      "\n",
      "   probability(SIRA)  \n",
      "0       7.954513e-03  \n",
      "1       1.327525e-07  \n",
      "2       5.232816e-05  \n",
      "3       4.250403e-25  \n",
      "4       3.726148e-02  \n"
     ]
    }
   ],
   "source": [
    "# Model serving with data records from DataFrame\n",
    "dfResponse = os.evaluateCsv(model_name, x_match)\n",
    "print(dfResponse.head(5))"
   ],
   "metadata": {
    "collapsed": false
   }
  },
  {
   "cell_type": "code",
   "execution_count": null,
   "outputs": [],
   "source": [],
   "metadata": {
    "collapsed": false
   }
  }
 ],
 "metadata": {
  "kernelspec": {
   "display_name": "Python 3",
   "language": "python",
   "name": "python3"
  },
  "language_info": {
   "codemirror_mode": {
    "name": "ipython",
    "version": 2
   },
   "file_extension": ".py",
   "mimetype": "text/x-python",
   "name": "python",
   "nbconvert_exporter": "python",
   "pygments_lexer": "ipython2",
   "version": "2.7.6"
  }
 },
 "nbformat": 4,
 "nbformat_minor": 0
}
