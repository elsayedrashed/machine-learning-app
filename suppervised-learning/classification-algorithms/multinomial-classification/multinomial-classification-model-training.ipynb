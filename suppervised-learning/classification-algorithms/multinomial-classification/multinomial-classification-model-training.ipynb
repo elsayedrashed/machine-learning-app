{
 "cells": [
  {
   "cell_type": "markdown",
   "source": [
    "## Multinomial Classification\n",
    "### Model Training"
   ],
   "metadata": {
    "collapsed": false
   }
  },
  {
   "cell_type": "code",
   "execution_count": 76,
   "outputs": [],
   "source": [
    "import pandas as pd\n",
    "import numpy as np\n",
    "import matplotlib.pyplot as plt\n",
    "import seaborn as sns\n",
    "\n",
    "from sklearn.metrics import confusion_matrix, f1_score, accuracy_score\n",
    "from sklearn.linear_model import LogisticRegression\n",
    "from sklearn.model_selection import train_test_split\n",
    "from sklearn.impute import SimpleImputer\n",
    "from sklearn.compose import make_column_selector\n",
    "from sklearn.preprocessing import StandardScaler\n",
    "from sklearn.preprocessing import OrdinalEncoder\n",
    "from sklearn.pipeline import Pipeline\n",
    "\n",
    "from sklearn_pandas import DataFrameMapper\n",
    "\n",
    "from sklearn2pmml import sklearn2pmml\n",
    "from sklearn2pmml import ColumnTransformer\n",
    "from sklearn2pmml.decoration import CategoricalDomain, ContinuousDomain\n",
    "from sklearn2pmml.pipeline import PMMLPipeline"
   ],
   "metadata": {
    "collapsed": false
   }
  },
  {
   "cell_type": "code",
   "execution_count": 77,
   "outputs": [],
   "source": [
    "import warnings\n",
    "warnings.filterwarnings('ignore')"
   ],
   "metadata": {
    "collapsed": false
   }
  },
  {
   "cell_type": "markdown",
   "source": [
    "## Data Loading"
   ],
   "metadata": {
    "collapsed": false
   }
  },
  {
   "cell_type": "code",
   "execution_count": 78,
   "outputs": [],
   "source": [
    "# Data Import\n",
    "df = pd.read_csv('../../../data/dry_bean_clean.csv')\n",
    "# Get features and target\n",
    "x = df.drop('target', axis=1)\n",
    "y = df[['target']]"
   ],
   "metadata": {
    "collapsed": false
   }
  },
  {
   "cell_type": "markdown",
   "source": [
    "## Data Transformation"
   ],
   "metadata": {
    "collapsed": false
   }
  },
  {
   "cell_type": "code",
   "execution_count": 79,
   "outputs": [],
   "source": [
    "# Selecting categorical and numeric features\n",
    "sel_numeric = make_column_selector(dtype_include=np.number)\n",
    "x_numerical = sel_numeric(x)\n",
    "\n",
    "sel_categorical = make_column_selector(dtype_exclude=np.number)\n",
    "x_categorical = sel_categorical(x)"
   ],
   "metadata": {
    "collapsed": false
   }
  },
  {
   "cell_type": "code",
   "execution_count": 80,
   "outputs": [],
   "source": [
    "mapper = DataFrameMapper(\n",
    "    [([cat_column], [CategoricalDomain(),SimpleImputer(strategy='most_frequent'),OrdinalEncoder(),StandardScaler()]) for cat_column in x_categorical] +\n",
    "    [([cont_column], [ContinuousDomain(),SimpleImputer(strategy='median'),StandardScaler()]) for cont_column in x_numerical]\n",
    ")"
   ],
   "metadata": {
    "collapsed": false
   }
  },
  {
   "cell_type": "code",
   "execution_count": 81,
   "outputs": [
    {
     "data": {
      "text/plain": "array([[-0.6857125 , -0.61107887, -0.63779201, ...,  0.0884978 ,\n        -0.47583236,  0.70496765],\n       [-0.68569252, -0.78865434, -0.76802435, ...,  0.531788  ,\n         0.23580813,  0.76466667],\n       [-0.67522781, -0.63039699, -0.90266476, ...,  1.15232532,\n         1.20707084, -0.8277854 ],\n       ...,\n       [-0.52834239, -0.56445389, -0.508546  , ...,  0.13788914,\n        -0.02210041, -0.03478284],\n       [-0.7049444 , -0.79572841, -0.72847201, ...,  0.33915449,\n        -0.1265992 ,  0.33840551],\n       [-0.61261927, -0.60696824, -0.49471989, ..., -0.11458872,\n        -0.65011272,  0.39321297]])"
     },
     "execution_count": 81,
     "metadata": {},
     "output_type": "execute_result"
    }
   ],
   "source": [
    "x_m = mapper.fit_transform(x,y)\n",
    "x_m"
   ],
   "metadata": {
    "collapsed": false
   }
  },
  {
   "cell_type": "code",
   "execution_count": 82,
   "outputs": [],
   "source": [
    "# Create preprocessing pipelines for numerical features\n",
    "trans_numerical = Pipeline(steps=[\n",
    "    ('imputer', SimpleImputer(strategy='median')),\n",
    "    ('scaler', StandardScaler())]\n",
    ")"
   ],
   "metadata": {
    "collapsed": false
   }
  },
  {
   "cell_type": "code",
   "execution_count": 83,
   "outputs": [],
   "source": [
    "# Create preprocessing pipelines for categorical features\n",
    "trans_categorical = Pipeline(steps=[\n",
    "    ('imputer', SimpleImputer(strategy='most_frequent')),\n",
    "    ('encoder', OrdinalEncoder()),\n",
    "    ('scaler', StandardScaler())]\n",
    ")"
   ],
   "metadata": {
    "collapsed": false
   }
  },
  {
   "cell_type": "code",
   "execution_count": 84,
   "outputs": [],
   "source": [
    "# Putting the preprocessing steps together\n",
    "transformer = ColumnTransformer([\n",
    "    # ('categorical', trans_categorical, x_categorical),\n",
    "    ('numerical', trans_numerical, x_numerical)],\n",
    "remainder='passthrough'\n",
    ")"
   ],
   "metadata": {
    "collapsed": false
   }
  },
  {
   "cell_type": "markdown",
   "source": [
    "## Model Training"
   ],
   "metadata": {
    "collapsed": false
   }
  },
  {
   "cell_type": "code",
   "execution_count": 85,
   "outputs": [],
   "source": [
    "# Data Split\n",
    "x_train, x_test, y_train, y_test = train_test_split(x, y, shuffle=True, test_size=0.2)\n",
    "x_train.reset_index(drop=True, inplace=True)\n",
    "x_test.reset_index(drop=True, inplace=True)\n",
    "y_train.reset_index(drop=True, inplace=True)\n",
    "y_test.reset_index(drop=True, inplace=True)"
   ],
   "metadata": {
    "collapsed": false
   }
  },
  {
   "cell_type": "code",
   "execution_count": 86,
   "outputs": [
    {
     "data": {
      "text/plain": "['Area',\n 'Perimeter',\n 'MajorAxisLength',\n 'MinorAxisLength',\n 'AspectRation',\n 'Eccentricity',\n 'ConvexArea',\n 'EquivDiameter',\n 'Extent',\n 'Solidity',\n 'roundness',\n 'Compactness',\n 'ShapeFactor1',\n 'ShapeFactor2',\n 'ShapeFactor3',\n 'ShapeFactor4']"
     },
     "execution_count": 86,
     "metadata": {},
     "output_type": "execute_result"
    }
   ],
   "source": [
    "list(x_train.columns)"
   ],
   "metadata": {
    "collapsed": false
   }
  },
  {
   "cell_type": "markdown",
   "source": [
    "## Multinomial Logistic Regression Model"
   ],
   "metadata": {
    "collapsed": false
   }
  },
  {
   "cell_type": "code",
   "execution_count": 87,
   "outputs": [],
   "source": [
    "# Create pipeline with logistic regression as classifier\n",
    "mnlr_pipeline = PMMLPipeline(steps=[\n",
    "    # ('mapper', mapper),\n",
    "    ('transformer', transformer),\n",
    "    ('classifier', LogisticRegression(multi_class='multinomial', solver='lbfgs',max_iter=1000))\n",
    "])\n",
    "\n",
    "mnlr_pipeline.fit(x_train, y_train)\n",
    "mnlr_pipeline.verify(x_train.sample(n = 10))"
   ],
   "metadata": {
    "collapsed": false
   }
  },
  {
   "cell_type": "code",
   "execution_count": 88,
   "outputs": [
    {
     "data": {
      "text/plain": "array(['SIRA', 'BOMBAY', 'CALI', ..., 'SIRA', 'SIRA', 'CALI'],\n      dtype=object)"
     },
     "execution_count": 88,
     "metadata": {},
     "output_type": "execute_result"
    }
   ],
   "source": [
    "y_pred = mnlr_pipeline.predict(x_test)\n",
    "y_pred.view()"
   ],
   "metadata": {
    "collapsed": false
   }
  },
  {
   "cell_type": "markdown",
   "source": [
    "## Multinomial Logistic Regression - Model Performance"
   ],
   "metadata": {
    "collapsed": false
   }
  },
  {
   "cell_type": "code",
   "execution_count": 89,
   "outputs": [
    {
     "name": "stdout",
     "output_type": "stream",
     "text": [
      "The model accuracy is: 98.0%\n",
      "The model f1 score is: 98.0%\n"
     ]
    }
   ],
   "source": [
    "print(f'The model accuracy is: {np.round(accuracy_score(y_test, y_pred), decimals=3)*100}%')\n",
    "print(f'The model f1 score is: {np.round(f1_score(y_test, y_pred, average=\"\"\"weighted\"\"\"), decimals=3)*100}%')"
   ],
   "metadata": {
    "collapsed": false
   }
  },
  {
   "cell_type": "code",
   "execution_count": 90,
   "outputs": [
    {
     "data": {
      "text/plain": "<Figure size 864x864 with 2 Axes>",
      "image/png": "[encoded data removed]"
     },
     "metadata": {
      "needs_background": "light"
     },
     "output_type": "display_data"
    }
   ],
   "source": [
    "cm = confusion_matrix(y_test, y_pred, labels=mnlr_pipeline.classes_)\n",
    "plt.figure(figsize=(12, 12))\n",
    "cmap = sns.color_palette(\"Oranges\",12)\n",
    "sns.heatmap(data=cm, cmap=\"RdBu_r\", xticklabels=mnlr_pipeline.classes_, yticklabels=mnlr_pipeline.classes_, fmt='g', annot=True)\n",
    "plt.show()"
   ],
   "metadata": {
    "collapsed": false
   }
  },
  {
   "cell_type": "markdown",
   "source": [
    "As we can observer, the diagonal value is the highest value for each row which means we have a good classifier."
   ],
   "metadata": {
    "collapsed": false
   }
  },
  {
   "cell_type": "markdown",
   "source": [
    "## Model Selection"
   ],
   "metadata": {
    "collapsed": false
   }
  },
  {
   "cell_type": "markdown",
   "source": [
    "As shown from the models performance,  Multinomial Logistic Regression is the best model"
   ],
   "metadata": {
    "collapsed": false
   }
  },
  {
   "cell_type": "markdown",
   "source": [
    "## Save the mode"
   ],
   "metadata": {
    "collapsed": false
   }
  },
  {
   "cell_type": "code",
   "execution_count": 91,
   "outputs": [],
   "source": [
    "# Save the best model in PMML format\n",
    "sklearn2pmml(mnlr_pipeline, \"../../../data/MultinomialClassification-LogisticRegression.pmml\")"
   ],
   "metadata": {
    "collapsed": false
   }
  },
  {
   "cell_type": "code",
   "execution_count": null,
   "outputs": [],
   "source": [],
   "metadata": {
    "collapsed": false
   }
  }
 ],
 "metadata": {
  "kernelspec": {
   "display_name": "Python 3",
   "language": "python",
   "name": "python3"
  },
  "language_info": {
   "codemirror_mode": {
    "name": "ipython",
    "version": 2
   },
   "file_extension": ".py",
   "mimetype": "text/x-python",
   "name": "python",
   "nbconvert_exporter": "python",
   "pygments_lexer": "ipython2",
   "version": "2.7.6"
  }
 },
 "nbformat": 4,
 "nbformat_minor": 0
}
