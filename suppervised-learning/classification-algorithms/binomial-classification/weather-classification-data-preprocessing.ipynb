{
 "cells": [
  {
   "cell_type": "markdown",
   "source": [
    "## Weather Classification\n",
    "### Data Preprocessing"
   ],
   "metadata": {
    "collapsed": false
   }
  },
  {
   "cell_type": "code",
   "execution_count": 270,
   "outputs": [],
   "source": [
    "import pandas as pd\n",
    "import matplotlib.pyplot as plt\n",
    "import seaborn as sns\n",
    "\n",
    "# Assemble pipeline(s)\n",
    "from sklearn.pipeline import Pipeline\n",
    "from sklearn.compose import make_column_selector\n",
    "\n",
    "# Features engineering\n",
    "from feature_engine.imputation import CategoricalImputer\n",
    "from feature_engine.imputation import MeanMedianImputer\n",
    "from feature_engine.outliers import OutlierTrimmer"
   ],
   "metadata": {
    "collapsed": false
   }
  },
  {
   "cell_type": "code",
   "execution_count": 271,
   "outputs": [],
   "source": [
    "# Dsplay pipelines\n",
    "from sklearn import set_config\n",
    "set_config(display=\"diagram\")"
   ],
   "metadata": {
    "collapsed": false
   }
  },
  {
   "cell_type": "code",
   "execution_count": 272,
   "outputs": [],
   "source": [
    "import warnings\n",
    "warnings.filterwarnings('ignore')"
   ],
   "metadata": {
    "collapsed": false
   }
  },
  {
   "cell_type": "markdown",
   "source": [
    "## Data Loading"
   ],
   "metadata": {
    "collapsed": false
   }
  },
  {
   "cell_type": "code",
   "execution_count": 273,
   "outputs": [
    {
     "data": {
      "text/plain": "            Date  Location  MinTemp  MaxTemp  Rainfall WindGustDir  \\\n14850 2016-11-12   Region5     20.2     36.0       0.0         WNW   \n34237 2010-12-19  Region12     17.3     28.3       0.0           N   \n20459 2015-09-05   Region7     12.3     20.2       NaN          SE   \n3162  2009-05-03   Region2      8.5     21.9       0.0         SSW   \n35705 2015-03-25  Region12     15.2     23.2      14.6         SSW   \n9304  2009-09-04   Region4     15.8     23.6       0.6         NNE   \n30797 2009-10-14  Region11     15.2     22.1       0.0         NaN   \n17299 2015-04-01   Region6     16.0     27.2      11.6         NaN   \n8180  2015-01-30   Region3     17.0     30.5       0.0         WSW   \n53    2009-01-23   Region1     18.8     35.2       6.4         WNW   \n\n       WindGustSpeed WindDir9am WindDir3pm  WindSpeed9am  ...  Humidity9am  \\\n14850           50.0        NNE        NaN          17.0  ...         63.0   \n34237           69.0         NW          N           9.0  ...         65.0   \n20459           43.0        WNW        SSE           6.0  ...         77.0   \n3162            24.0         SW          E          17.0  ...         73.0   \n35705           54.0        WNW          S          13.0  ...         69.0   \n9304            50.0          N        NNE           9.0  ...         64.0   \n30797            NaN         NW        WNW          20.0  ...         36.0   \n17299            NaN        NaN        NaN           0.0  ...        100.0   \n8180            41.0        SSE          W           7.0  ...         31.0   \n53              52.0          S         NW           6.0  ...         43.0   \n\n       Humidity3pm  Pressure9am  Pressure3pm  Cloud9am  Cloud3pm  Temp9am  \\\n14850         29.0       1006.7       1002.3       8.0       2.0     24.7   \n34237         36.0       1003.7        995.0       6.0       4.0     20.7   \n20459         57.0       1022.1       1019.3       NaN       NaN     16.4   \n3162          52.0       1027.9       1025.6       NaN       NaN     15.3   \n35705         63.0       1017.3       1016.8       1.0       3.0     18.5   \n9304          77.0       1019.3       1014.1       7.0       7.0     18.3   \n30797         34.0       1000.7       1000.7       1.0       5.0     19.7   \n17299          NaN          NaN          NaN       7.0       NaN     18.0   \n8180          12.0       1009.7       1006.5       1.0       1.0     22.7   \n53            28.0       1007.9       1003.9       NaN       NaN     22.8   \n\n       Temp3pm  RainToday RainTomorrow  \n14850     34.5         No           No  \n34237     26.5         No          Yes  \n20459     18.4        NaN          NaN  \n3162      20.8         No           No  \n35705     21.8        Yes           No  \n9304      19.5         No          Yes  \n30797     17.8         No           No  \n17299      NaN        Yes           No  \n8180      29.1         No           No  \n53        33.0        Yes           No  \n\n[10 rows x 21 columns]",
      "text/html": "<div>\n<style scoped>\n    .dataframe tbody tr th:only-of-type {\n        vertical-align: middle;\n    }\n\n    .dataframe tbody tr th {\n        vertical-align: top;\n    }\n\n    .dataframe thead th {\n        text-align: right;\n    }\n</style>\n<table border=\"1\" class=\"dataframe\">\n  <thead>\n    <tr style=\"text-align: right;\">\n      <th></th>\n      <th>Date</th>\n      <th>Location</th>\n      <th>MinTemp</th>\n      <th>MaxTemp</th>\n      <th>Rainfall</th>\n      <th>WindGustDir</th>\n      <th>WindGustSpeed</th>\n      <th>WindDir9am</th>\n      <th>WindDir3pm</th>\n      <th>WindSpeed9am</th>\n      <th>...</th>\n      <th>Humidity9am</th>\n      <th>Humidity3pm</th>\n      <th>Pressure9am</th>\n      <th>Pressure3pm</th>\n      <th>Cloud9am</th>\n      <th>Cloud3pm</th>\n      <th>Temp9am</th>\n      <th>Temp3pm</th>\n      <th>RainToday</th>\n      <th>RainTomorrow</th>\n    </tr>\n  </thead>\n  <tbody>\n    <tr>\n      <th>14850</th>\n      <td>2016-11-12</td>\n      <td>Region5</td>\n      <td>20.2</td>\n      <td>36.0</td>\n      <td>0.0</td>\n      <td>WNW</td>\n      <td>50.0</td>\n      <td>NNE</td>\n      <td>NaN</td>\n      <td>17.0</td>\n      <td>...</td>\n      <td>63.0</td>\n      <td>29.0</td>\n      <td>1006.7</td>\n      <td>1002.3</td>\n      <td>8.0</td>\n      <td>2.0</td>\n      <td>24.7</td>\n      <td>34.5</td>\n      <td>No</td>\n      <td>No</td>\n    </tr>\n    <tr>\n      <th>34237</th>\n      <td>2010-12-19</td>\n      <td>Region12</td>\n      <td>17.3</td>\n      <td>28.3</td>\n      <td>0.0</td>\n      <td>N</td>\n      <td>69.0</td>\n      <td>NW</td>\n      <td>N</td>\n      <td>9.0</td>\n      <td>...</td>\n      <td>65.0</td>\n      <td>36.0</td>\n      <td>1003.7</td>\n      <td>995.0</td>\n      <td>6.0</td>\n      <td>4.0</td>\n      <td>20.7</td>\n      <td>26.5</td>\n      <td>No</td>\n      <td>Yes</td>\n    </tr>\n    <tr>\n      <th>20459</th>\n      <td>2015-09-05</td>\n      <td>Region7</td>\n      <td>12.3</td>\n      <td>20.2</td>\n      <td>NaN</td>\n      <td>SE</td>\n      <td>43.0</td>\n      <td>WNW</td>\n      <td>SSE</td>\n      <td>6.0</td>\n      <td>...</td>\n      <td>77.0</td>\n      <td>57.0</td>\n      <td>1022.1</td>\n      <td>1019.3</td>\n      <td>NaN</td>\n      <td>NaN</td>\n      <td>16.4</td>\n      <td>18.4</td>\n      <td>NaN</td>\n      <td>NaN</td>\n    </tr>\n    <tr>\n      <th>3162</th>\n      <td>2009-05-03</td>\n      <td>Region2</td>\n      <td>8.5</td>\n      <td>21.9</td>\n      <td>0.0</td>\n      <td>SSW</td>\n      <td>24.0</td>\n      <td>SW</td>\n      <td>E</td>\n      <td>17.0</td>\n      <td>...</td>\n      <td>73.0</td>\n      <td>52.0</td>\n      <td>1027.9</td>\n      <td>1025.6</td>\n      <td>NaN</td>\n      <td>NaN</td>\n      <td>15.3</td>\n      <td>20.8</td>\n      <td>No</td>\n      <td>No</td>\n    </tr>\n    <tr>\n      <th>35705</th>\n      <td>2015-03-25</td>\n      <td>Region12</td>\n      <td>15.2</td>\n      <td>23.2</td>\n      <td>14.6</td>\n      <td>SSW</td>\n      <td>54.0</td>\n      <td>WNW</td>\n      <td>S</td>\n      <td>13.0</td>\n      <td>...</td>\n      <td>69.0</td>\n      <td>63.0</td>\n      <td>1017.3</td>\n      <td>1016.8</td>\n      <td>1.0</td>\n      <td>3.0</td>\n      <td>18.5</td>\n      <td>21.8</td>\n      <td>Yes</td>\n      <td>No</td>\n    </tr>\n    <tr>\n      <th>9304</th>\n      <td>2009-09-04</td>\n      <td>Region4</td>\n      <td>15.8</td>\n      <td>23.6</td>\n      <td>0.6</td>\n      <td>NNE</td>\n      <td>50.0</td>\n      <td>N</td>\n      <td>NNE</td>\n      <td>9.0</td>\n      <td>...</td>\n      <td>64.0</td>\n      <td>77.0</td>\n      <td>1019.3</td>\n      <td>1014.1</td>\n      <td>7.0</td>\n      <td>7.0</td>\n      <td>18.3</td>\n      <td>19.5</td>\n      <td>No</td>\n      <td>Yes</td>\n    </tr>\n    <tr>\n      <th>30797</th>\n      <td>2009-10-14</td>\n      <td>Region11</td>\n      <td>15.2</td>\n      <td>22.1</td>\n      <td>0.0</td>\n      <td>NaN</td>\n      <td>NaN</td>\n      <td>NW</td>\n      <td>WNW</td>\n      <td>20.0</td>\n      <td>...</td>\n      <td>36.0</td>\n      <td>34.0</td>\n      <td>1000.7</td>\n      <td>1000.7</td>\n      <td>1.0</td>\n      <td>5.0</td>\n      <td>19.7</td>\n      <td>17.8</td>\n      <td>No</td>\n      <td>No</td>\n    </tr>\n    <tr>\n      <th>17299</th>\n      <td>2015-04-01</td>\n      <td>Region6</td>\n      <td>16.0</td>\n      <td>27.2</td>\n      <td>11.6</td>\n      <td>NaN</td>\n      <td>NaN</td>\n      <td>NaN</td>\n      <td>NaN</td>\n      <td>0.0</td>\n      <td>...</td>\n      <td>100.0</td>\n      <td>NaN</td>\n      <td>NaN</td>\n      <td>NaN</td>\n      <td>7.0</td>\n      <td>NaN</td>\n      <td>18.0</td>\n      <td>NaN</td>\n      <td>Yes</td>\n      <td>No</td>\n    </tr>\n    <tr>\n      <th>8180</th>\n      <td>2015-01-30</td>\n      <td>Region3</td>\n      <td>17.0</td>\n      <td>30.5</td>\n      <td>0.0</td>\n      <td>WSW</td>\n      <td>41.0</td>\n      <td>SSE</td>\n      <td>W</td>\n      <td>7.0</td>\n      <td>...</td>\n      <td>31.0</td>\n      <td>12.0</td>\n      <td>1009.7</td>\n      <td>1006.5</td>\n      <td>1.0</td>\n      <td>1.0</td>\n      <td>22.7</td>\n      <td>29.1</td>\n      <td>No</td>\n      <td>No</td>\n    </tr>\n    <tr>\n      <th>53</th>\n      <td>2009-01-23</td>\n      <td>Region1</td>\n      <td>18.8</td>\n      <td>35.2</td>\n      <td>6.4</td>\n      <td>WNW</td>\n      <td>52.0</td>\n      <td>S</td>\n      <td>NW</td>\n      <td>6.0</td>\n      <td>...</td>\n      <td>43.0</td>\n      <td>28.0</td>\n      <td>1007.9</td>\n      <td>1003.9</td>\n      <td>NaN</td>\n      <td>NaN</td>\n      <td>22.8</td>\n      <td>33.0</td>\n      <td>Yes</td>\n      <td>No</td>\n    </tr>\n  </tbody>\n</table>\n<p>10 rows × 21 columns</p>\n</div>"
     },
     "execution_count": 273,
     "metadata": {},
     "output_type": "execute_result"
    }
   ],
   "source": [
    "# Weather Classification dataset\n",
    "# It contains 21 columns including the target variable RainTomorrow (YES/NO).\n",
    "df = pd.read_excel('../../../data/weather-data.xls')\n",
    "df.sample(10)"
   ],
   "metadata": {
    "collapsed": false
   }
  },
  {
   "cell_type": "code",
   "execution_count": 274,
   "outputs": [
    {
     "data": {
      "text/plain": "(36529, 21)"
     },
     "execution_count": 274,
     "metadata": {},
     "output_type": "execute_result"
    }
   ],
   "source": [
    "df.shape"
   ],
   "metadata": {
    "collapsed": false
   }
  },
  {
   "cell_type": "markdown",
   "source": [
    "## Prepare target Variable"
   ],
   "metadata": {
    "collapsed": false
   }
  },
  {
   "cell_type": "code",
   "execution_count": 275,
   "outputs": [],
   "source": [
    "# Convert the target variable to categorical order form.\n",
    "df.rename(columns={'RainTomorrow':'target'}, inplace=True)"
   ],
   "metadata": {
    "collapsed": false
   }
  },
  {
   "cell_type": "code",
   "execution_count": 276,
   "outputs": [
    {
     "data": {
      "text/plain": "['No', 'Yes', nan]"
     },
     "execution_count": 276,
     "metadata": {},
     "output_type": "execute_result"
    }
   ],
   "source": [
    "list(df['target'].unique())"
   ],
   "metadata": {
    "collapsed": false
   }
  },
  {
   "cell_type": "code",
   "execution_count": 277,
   "outputs": [
    {
     "data": {
      "text/plain": "['No', 'Yes']"
     },
     "execution_count": 277,
     "metadata": {},
     "output_type": "execute_result"
    }
   ],
   "source": [
    "# Handle missing values in target variable\n",
    "ci = CategoricalImputer(imputation_method='frequent', variables=['target'])\n",
    "df = ci.fit_transform(df)\n",
    "list(df['target'].unique())"
   ],
   "metadata": {
    "collapsed": false
   }
  },
  {
   "cell_type": "code",
   "execution_count": 278,
   "outputs": [],
   "source": [
    "df['target'].replace({'No':0, 'Yes':1}, inplace=True)\n",
    "target_type = pd.CategoricalDtype(categories=sorted(df.target.unique()), ordered=True)\n",
    "df[\"target\"] = df[\"target\"].astype(target_type)"
   ],
   "metadata": {
    "collapsed": false
   }
  },
  {
   "cell_type": "markdown",
   "source": [
    "## Handle features datatypes"
   ],
   "metadata": {
    "collapsed": false
   }
  },
  {
   "cell_type": "code",
   "execution_count": 279,
   "outputs": [
    {
     "data": {
      "text/plain": "Date             datetime64[ns]\nLocation                 object\nMinTemp                 float64\nMaxTemp                 float64\nRainfall                float64\nWindGustDir              object\nWindGustSpeed           float64\nWindDir9am               object\nWindDir3pm               object\nWindSpeed9am            float64\nWindSpeed3pm            float64\nHumidity9am             float64\nHumidity3pm             float64\nPressure9am             float64\nPressure3pm             float64\nCloud9am                float64\nCloud3pm                float64\nTemp9am                 float64\nTemp3pm                 float64\nRainToday                object\ntarget                 category\ndtype: object"
     },
     "execution_count": 279,
     "metadata": {},
     "output_type": "execute_result"
    }
   ],
   "source": [
    "# Know the datatypes\n",
    "df.dtypes"
   ],
   "metadata": {
    "collapsed": false
   }
  },
  {
   "cell_type": "code",
   "execution_count": 280,
   "outputs": [],
   "source": [
    "# Convert categorical features to categorical datatype.\n",
    "df[df.select_dtypes(['object']).columns] = df.select_dtypes(['object']).apply(lambda x: x.astype('category'))"
   ],
   "metadata": {
    "collapsed": false
   }
  },
  {
   "cell_type": "code",
   "execution_count": 281,
   "outputs": [
    {
     "data": {
      "text/plain": "Date             datetime64[ns]\nLocation               category\nMinTemp                 float64\nMaxTemp                 float64\nRainfall                float64\nWindGustDir            category\nWindGustSpeed           float64\nWindDir9am             category\nWindDir3pm             category\nWindSpeed9am            float64\nWindSpeed3pm            float64\nHumidity9am             float64\nHumidity3pm             float64\nPressure9am             float64\nPressure3pm             float64\nCloud9am                float64\nCloud3pm                float64\nTemp9am                 float64\nTemp3pm                 float64\nRainToday              category\ntarget                 category\ndtype: object"
     },
     "execution_count": 281,
     "metadata": {},
     "output_type": "execute_result"
    }
   ],
   "source": [
    "df.dtypes"
   ],
   "metadata": {
    "collapsed": false
   }
  },
  {
   "cell_type": "code",
   "execution_count": 283,
   "outputs": [
    {
     "data": {
      "text/plain": "            MinTemp       MaxTemp      Rainfall  WindGustSpeed  WindSpeed9am  \\\ncount  36029.000000  36160.000000  35839.000000   31597.000000  35698.000000   \nmean      13.413489     23.956333      2.696772      38.360287     12.662978   \nstd        5.723398      5.914569      9.410816      13.706660      9.126107   \nmin       -4.800000      6.800000      0.000000       7.000000      0.000000   \n25%        9.200000     19.500000      0.000000      30.000000      6.000000   \n50%       14.000000     23.400000      0.000000      37.000000     11.000000   \n75%       18.000000     27.500000      0.800000      46.000000     19.000000   \nmax       29.700000     47.300000    371.000000     135.000000    130.000000   \n\n       WindSpeed3pm   Humidity9am   Humidity3pm   Pressure9am   Pressure3pm  \\\ncount  35054.000000  35862.000000  35196.000000  29837.000000  29846.000000   \nmean      17.413904     70.032820     52.508581   1018.259165   1015.698485   \nstd        9.316727     17.508474     20.387986      6.648539      6.597083   \nmin        0.000000      3.000000      1.000000    980.500000    979.000000   \n25%       11.000000     58.000000     37.000000   1013.800000   1011.300000   \n50%       17.000000     71.000000     53.000000   1018.300000   1015.800000   \n75%       22.000000     83.000000     67.000000   1022.700000   1020.200000   \nmax       83.000000    100.000000    100.000000   1039.900000   1037.000000   \n\n           Cloud9am      Cloud3pm       Temp9am       Temp3pm  \ncount  20712.000000  20390.000000  36092.000000  35424.000000  \nmean       4.312331      4.401422     17.861931     22.478128  \nstd        2.913795      2.703880      5.290466      5.750985  \nmin        0.000000      0.000000      0.300000      6.400000  \n25%        1.000000      2.000000     14.100000     18.200000  \n50%        5.000000      5.000000     18.300000     21.800000  \n75%        7.000000      7.000000     21.800000     25.900000  \nmax        9.000000      8.000000     37.700000     46.700000  ",
      "text/html": "<div>\n<style scoped>\n    .dataframe tbody tr th:only-of-type {\n        vertical-align: middle;\n    }\n\n    .dataframe tbody tr th {\n        vertical-align: top;\n    }\n\n    .dataframe thead th {\n        text-align: right;\n    }\n</style>\n<table border=\"1\" class=\"dataframe\">\n  <thead>\n    <tr style=\"text-align: right;\">\n      <th></th>\n      <th>MinTemp</th>\n      <th>MaxTemp</th>\n      <th>Rainfall</th>\n      <th>WindGustSpeed</th>\n      <th>WindSpeed9am</th>\n      <th>WindSpeed3pm</th>\n      <th>Humidity9am</th>\n      <th>Humidity3pm</th>\n      <th>Pressure9am</th>\n      <th>Pressure3pm</th>\n      <th>Cloud9am</th>\n      <th>Cloud3pm</th>\n      <th>Temp9am</th>\n      <th>Temp3pm</th>\n    </tr>\n  </thead>\n  <tbody>\n    <tr>\n      <th>count</th>\n      <td>36029.000000</td>\n      <td>36160.000000</td>\n      <td>35839.000000</td>\n      <td>31597.000000</td>\n      <td>35698.000000</td>\n      <td>35054.000000</td>\n      <td>35862.000000</td>\n      <td>35196.000000</td>\n      <td>29837.000000</td>\n      <td>29846.000000</td>\n      <td>20712.000000</td>\n      <td>20390.000000</td>\n      <td>36092.000000</td>\n      <td>35424.000000</td>\n    </tr>\n    <tr>\n      <th>mean</th>\n      <td>13.413489</td>\n      <td>23.956333</td>\n      <td>2.696772</td>\n      <td>38.360287</td>\n      <td>12.662978</td>\n      <td>17.413904</td>\n      <td>70.032820</td>\n      <td>52.508581</td>\n      <td>1018.259165</td>\n      <td>1015.698485</td>\n      <td>4.312331</td>\n      <td>4.401422</td>\n      <td>17.861931</td>\n      <td>22.478128</td>\n    </tr>\n    <tr>\n      <th>std</th>\n      <td>5.723398</td>\n      <td>5.914569</td>\n      <td>9.410816</td>\n      <td>13.706660</td>\n      <td>9.126107</td>\n      <td>9.316727</td>\n      <td>17.508474</td>\n      <td>20.387986</td>\n      <td>6.648539</td>\n      <td>6.597083</td>\n      <td>2.913795</td>\n      <td>2.703880</td>\n      <td>5.290466</td>\n      <td>5.750985</td>\n    </tr>\n    <tr>\n      <th>min</th>\n      <td>-4.800000</td>\n      <td>6.800000</td>\n      <td>0.000000</td>\n      <td>7.000000</td>\n      <td>0.000000</td>\n      <td>0.000000</td>\n      <td>3.000000</td>\n      <td>1.000000</td>\n      <td>980.500000</td>\n      <td>979.000000</td>\n      <td>0.000000</td>\n      <td>0.000000</td>\n      <td>0.300000</td>\n      <td>6.400000</td>\n    </tr>\n    <tr>\n      <th>25%</th>\n      <td>9.200000</td>\n      <td>19.500000</td>\n      <td>0.000000</td>\n      <td>30.000000</td>\n      <td>6.000000</td>\n      <td>11.000000</td>\n      <td>58.000000</td>\n      <td>37.000000</td>\n      <td>1013.800000</td>\n      <td>1011.300000</td>\n      <td>1.000000</td>\n      <td>2.000000</td>\n      <td>14.100000</td>\n      <td>18.200000</td>\n    </tr>\n    <tr>\n      <th>50%</th>\n      <td>14.000000</td>\n      <td>23.400000</td>\n      <td>0.000000</td>\n      <td>37.000000</td>\n      <td>11.000000</td>\n      <td>17.000000</td>\n      <td>71.000000</td>\n      <td>53.000000</td>\n      <td>1018.300000</td>\n      <td>1015.800000</td>\n      <td>5.000000</td>\n      <td>5.000000</td>\n      <td>18.300000</td>\n      <td>21.800000</td>\n    </tr>\n    <tr>\n      <th>75%</th>\n      <td>18.000000</td>\n      <td>27.500000</td>\n      <td>0.800000</td>\n      <td>46.000000</td>\n      <td>19.000000</td>\n      <td>22.000000</td>\n      <td>83.000000</td>\n      <td>67.000000</td>\n      <td>1022.700000</td>\n      <td>1020.200000</td>\n      <td>7.000000</td>\n      <td>7.000000</td>\n      <td>21.800000</td>\n      <td>25.900000</td>\n    </tr>\n    <tr>\n      <th>max</th>\n      <td>29.700000</td>\n      <td>47.300000</td>\n      <td>371.000000</td>\n      <td>135.000000</td>\n      <td>130.000000</td>\n      <td>83.000000</td>\n      <td>100.000000</td>\n      <td>100.000000</td>\n      <td>1039.900000</td>\n      <td>1037.000000</td>\n      <td>9.000000</td>\n      <td>8.000000</td>\n      <td>37.700000</td>\n      <td>46.700000</td>\n    </tr>\n  </tbody>\n</table>\n</div>"
     },
     "execution_count": 283,
     "metadata": {},
     "output_type": "execute_result"
    }
   ],
   "source": [
    "# Checked the Descriptive Statistics\n",
    "df.describe()"
   ],
   "metadata": {
    "collapsed": false
   }
  },
  {
   "cell_type": "code",
   "execution_count": 284,
   "outputs": [],
   "source": [
    "# sns.pairplot(df, hue='target', corner=True, palette='coolwarm')\n",
    "# plt.show()"
   ],
   "metadata": {
    "collapsed": false
   }
  },
  {
   "cell_type": "markdown",
   "source": [
    "## Duplicates dropping"
   ],
   "metadata": {
    "collapsed": false
   }
  },
  {
   "cell_type": "code",
   "execution_count": 285,
   "outputs": [
    {
     "name": "stdout",
     "output_type": "stream",
     "text": [
      "Now of rows dropped: 0\n"
     ]
    }
   ],
   "source": [
    "# Duplicates dropping\n",
    "nrows = df.shape[0]\n",
    "df.drop_duplicates(inplace=True)\n",
    "print(f'Now of rows dropped: {nrows - df.shape[0]}')"
   ],
   "metadata": {
    "collapsed": false
   }
  },
  {
   "cell_type": "markdown",
   "source": [
    "## Outliers Removal"
   ],
   "metadata": {
    "collapsed": false
   }
  },
  {
   "cell_type": "code",
   "execution_count": 286,
   "outputs": [
    {
     "data": {
      "text/plain": "<function matplotlib.pyplot.show(close=None, block=None)>"
     },
     "execution_count": 286,
     "metadata": {},
     "output_type": "execute_result"
    },
    {
     "data": {
      "text/plain": "<Figure size 1440x720 with 1 Axes>",
      "image/png": "[encoded data removed]"
     },
     "metadata": {
      "needs_background": "light"
     },
     "output_type": "display_data"
    }
   ],
   "source": [
    "# Check Outliers\n",
    "plt.figure(figsize=(20, 10))\n",
    "sns.boxplot(data=df, orient=\"v\", palette=\"Set2\")\n",
    "plt.show"
   ],
   "metadata": {
    "collapsed": false
   }
  },
  {
   "cell_type": "markdown",
   "source": [
    "We observed existence of outliers for features: \"Rainfall\", \"WindGustSpeed\",\"WindSpeed9am\", \"WindSpeed3pm\", \"Humidity9am\""
   ],
   "metadata": {
    "collapsed": false
   }
  },
  {
   "cell_type": "code",
   "execution_count": 287,
   "outputs": [
    {
     "data": {
      "text/plain": "OutlierTrimmer(missing_values='ignore', tail='both',\n               variables=['Rainfall', 'WindGustSpeed', 'WindSpeed9am',\n                          'WindSpeed3pm', 'Humidity9am'])",
      "text/html": "<style>#sk-container-id-17 {color: black;background-color: white;}#sk-container-id-17 pre{padding: 0;}#sk-container-id-17 div.sk-toggleable {background-color: white;}#sk-container-id-17 label.sk-toggleable__label {cursor: pointer;display: block;width: 100%;margin-bottom: 0;padding: 0.3em;box-sizing: border-box;text-align: center;}#sk-container-id-17 label.sk-toggleable__label-arrow:before {content: \"▸\";float: left;margin-right: 0.25em;color: #696969;}#sk-container-id-17 label.sk-toggleable__label-arrow:hover:before {color: black;}#sk-container-id-17 div.sk-estimator:hover label.sk-toggleable__label-arrow:before {color: black;}#sk-container-id-17 div.sk-toggleable__content {max-height: 0;max-width: 0;overflow: hidden;text-align: left;background-color: #f0f8ff;}#sk-container-id-17 div.sk-toggleable__content pre {margin: 0.2em;color: black;border-radius: 0.25em;background-color: #f0f8ff;}#sk-container-id-17 input.sk-toggleable__control:checked~div.sk-toggleable__content {max-height: 200px;max-width: 100%;overflow: auto;}#sk-container-id-17 input.sk-toggleable__control:checked~label.sk-toggleable__label-arrow:before {content: \"▾\";}#sk-container-id-17 div.sk-estimator input.sk-toggleable__control:checked~label.sk-toggleable__label {background-color: #d4ebff;}#sk-container-id-17 div.sk-label input.sk-toggleable__control:checked~label.sk-toggleable__label {background-color: #d4ebff;}#sk-container-id-17 input.sk-hidden--visually {border: 0;clip: rect(1px 1px 1px 1px);clip: rect(1px, 1px, 1px, 1px);height: 1px;margin: -1px;overflow: hidden;padding: 0;position: absolute;width: 1px;}#sk-container-id-17 div.sk-estimator {font-family: monospace;background-color: #f0f8ff;border: 1px dotted black;border-radius: 0.25em;box-sizing: border-box;margin-bottom: 0.5em;}#sk-container-id-17 div.sk-estimator:hover {background-color: #d4ebff;}#sk-container-id-17 div.sk-parallel-item::after {content: \"\";width: 100%;border-bottom: 1px solid gray;flex-grow: 1;}#sk-container-id-17 div.sk-label:hover label.sk-toggleable__label {background-color: #d4ebff;}#sk-container-id-17 div.sk-serial::before {content: \"\";position: absolute;border-left: 1px solid gray;box-sizing: border-box;top: 0;bottom: 0;left: 50%;z-index: 0;}#sk-container-id-17 div.sk-serial {display: flex;flex-direction: column;align-items: center;background-color: white;padding-right: 0.2em;padding-left: 0.2em;position: relative;}#sk-container-id-17 div.sk-item {position: relative;z-index: 1;}#sk-container-id-17 div.sk-parallel {display: flex;align-items: stretch;justify-content: center;background-color: white;position: relative;}#sk-container-id-17 div.sk-item::before, #sk-container-id-17 div.sk-parallel-item::before {content: \"\";position: absolute;border-left: 1px solid gray;box-sizing: border-box;top: 0;bottom: 0;left: 50%;z-index: -1;}#sk-container-id-17 div.sk-parallel-item {display: flex;flex-direction: column;z-index: 1;position: relative;background-color: white;}#sk-container-id-17 div.sk-parallel-item:first-child::after {align-self: flex-end;width: 50%;}#sk-container-id-17 div.sk-parallel-item:last-child::after {align-self: flex-start;width: 50%;}#sk-container-id-17 div.sk-parallel-item:only-child::after {width: 0;}#sk-container-id-17 div.sk-dashed-wrapped {border: 1px dashed gray;margin: 0 0.4em 0.5em 0.4em;box-sizing: border-box;padding-bottom: 0.4em;background-color: white;}#sk-container-id-17 div.sk-label label {font-family: monospace;font-weight: bold;display: inline-block;line-height: 1.2em;}#sk-container-id-17 div.sk-label-container {text-align: center;}#sk-container-id-17 div.sk-container {/* jupyter's `normalize.less` sets `[hidden] { display: none; }` but bootstrap.min.css set `[hidden] { display: none !important; }` so we also need the `!important` here to be able to override the default hidden behavior on the sphinx rendered scikit-learn.org. See: https://github.com/scikit-learn/scikit-learn/issues/21755 */display: inline-block !important;position: relative;}#sk-container-id-17 div.sk-text-repr-fallback {display: none;}</style><div id=\"sk-container-id-17\" class=\"sk-top-container\"><div class=\"sk-text-repr-fallback\"><pre>OutlierTrimmer(missing_values=&#x27;ignore&#x27;, tail=&#x27;both&#x27;,\n               variables=[&#x27;Rainfall&#x27;, &#x27;WindGustSpeed&#x27;, &#x27;WindSpeed9am&#x27;,\n                          &#x27;WindSpeed3pm&#x27;, &#x27;Humidity9am&#x27;])</pre><b>In a Jupyter environment, please rerun this cell to show the HTML representation or trust the notebook. <br />On GitHub, the HTML representation is unable to render, please try loading this page with nbviewer.org.</b></div><div class=\"sk-container\" hidden><div class=\"sk-item\"><div class=\"sk-estimator sk-toggleable\"><input class=\"sk-toggleable__control sk-hidden--visually\" id=\"sk-estimator-id-45\" type=\"checkbox\" checked><label for=\"sk-estimator-id-45\" class=\"sk-toggleable__label sk-toggleable__label-arrow\">OutlierTrimmer</label><div class=\"sk-toggleable__content\"><pre>OutlierTrimmer(missing_values=&#x27;ignore&#x27;, tail=&#x27;both&#x27;,\n               variables=[&#x27;Rainfall&#x27;, &#x27;WindGustSpeed&#x27;, &#x27;WindSpeed9am&#x27;,\n                          &#x27;WindSpeed3pm&#x27;, &#x27;Humidity9am&#x27;])</pre></div></div></div></div></div>"
     },
     "execution_count": 287,
     "metadata": {},
     "output_type": "execute_result"
    }
   ],
   "source": [
    "# Remove outliers\n",
    "ot = OutlierTrimmer(capping_method='gaussian', tail='both', fold=3, missing_values='ignore', variables=['Rainfall', 'WindGustSpeed','WindSpeed9am', 'WindSpeed3pm', 'Humidity9am'])\n",
    "ot.fit(df)"
   ],
   "metadata": {
    "collapsed": false
   }
  },
  {
   "cell_type": "code",
   "execution_count": 288,
   "outputs": [
    {
     "name": "stdout",
     "output_type": "stream",
     "text": [
      "Minimum caps : {'Rainfall': -25.53528340731494, 'WindGustSpeed': -2.7590422177490623, 'WindSpeed9am': -14.714959462043973, 'WindSpeed3pm': -10.53587860860912, 'Humidity9am': 17.50812931793071}\n",
      "Maximum caps : {'Rainfall': 30.928826753948496, 'WindGustSpeed': 79.4796169558571, 'WindSpeed9am': 40.040916098270095, 'WindSpeed3pm': 45.363687132600674, 'Humidity9am': 122.55751119291644}\n"
     ]
    }
   ],
   "source": [
    "print(\"Minimum caps :\", ot.left_tail_caps_)\n",
    "print(\"Maximum caps :\", ot.right_tail_caps_)"
   ],
   "metadata": {
    "collapsed": false
   }
  },
  {
   "cell_type": "code",
   "execution_count": 289,
   "outputs": [],
   "source": [
    "df_out = ot.transform(df)"
   ],
   "metadata": {
    "collapsed": false
   }
  },
  {
   "cell_type": "code",
   "execution_count": 290,
   "outputs": [
    {
     "name": "stdout",
     "output_type": "stream",
     "text": [
      "train data shape after removing outliers: (29679, 21)\n",
      "6850 observations are removed\n",
      "\n"
     ]
    }
   ],
   "source": [
    "print(\"train data shape after removing outliers:\", df_out.shape)\n",
    "print(f\"{df.shape[0] - df_out.shape[0]} observations are removed\\n\")"
   ],
   "metadata": {
    "collapsed": false
   }
  },
  {
   "cell_type": "code",
   "execution_count": 291,
   "outputs": [
    {
     "data": {
      "text/plain": "<function matplotlib.pyplot.show(close=None, block=None)>"
     },
     "execution_count": 291,
     "metadata": {},
     "output_type": "execute_result"
    },
    {
     "data": {
      "text/plain": "<Figure size 1440x720 with 1 Axes>",
      "image/png": "[encoded data removed]"
     },
     "metadata": {
      "needs_background": "light"
     },
     "output_type": "display_data"
    }
   ],
   "source": [
    "# Check Outliers\n",
    "plt.figure(figsize=(20, 10))\n",
    "sns.boxplot(data=df_out, orient=\"v\", palette=\"Set2\")\n",
    "plt.show"
   ],
   "metadata": {
    "collapsed": false
   }
  },
  {
   "cell_type": "markdown",
   "source": [
    "## Handling Missing Data"
   ],
   "metadata": {
    "collapsed": false
   }
  },
  {
   "cell_type": "code",
   "execution_count": 292,
   "outputs": [
    {
     "data": {
      "text/plain": "Date                 0\nLocation             0\nMinTemp              8\nMaxTemp             10\nRainfall             0\nWindGustDir          3\nWindGustSpeed        0\nWindDir9am        2351\nWindDir3pm         233\nWindSpeed9am         0\nWindSpeed3pm         0\nHumidity9am          0\nHumidity3pm         25\nPressure9am       2979\nPressure3pm       2969\nCloud9am         13967\nCloud3pm         13661\nTemp9am              0\nTemp3pm              4\nRainToday            0\ntarget               0\ndtype: int64"
     },
     "execution_count": 292,
     "metadata": {},
     "output_type": "execute_result"
    }
   ],
   "source": [
    "# Check Null Data\n",
    "df_out.isnull().sum()"
   ],
   "metadata": {
    "collapsed": false
   }
  },
  {
   "cell_type": "code",
   "execution_count": 294,
   "outputs": [],
   "source": [
    "# Selecting categorical and numeric features\n",
    "sel_numeric = make_column_selector(dtype_include=['number'])\n",
    "col_numerical = sel_numeric(df_out)\n",
    "\n",
    "sel_categorical = make_column_selector(dtype_include=['object','category'])\n",
    "col_categorical = sel_categorical(df_out)\n",
    "\n",
    "sel_datetime = make_column_selector(dtype_include=['datetime','datetimetz','timedelta'])\n",
    "col_datetime = sel_datetime(df_out)\n",
    "\n",
    "ppl_imp = Pipeline([\n",
    "    # Step 1: Impute features\n",
    "    ('num', MeanMedianImputer(imputation_method='median', variables=col_numerical)),\n",
    "    ('cat', CategoricalImputer(imputation_method='frequent', variables=col_categorical))\n",
    "])"
   ],
   "metadata": {
    "collapsed": false
   }
  },
  {
   "cell_type": "code",
   "execution_count": 295,
   "outputs": [
    {
     "data": {
      "text/plain": "Pipeline(steps=[('num',\n                 MeanMedianImputer(variables=['MinTemp', 'MaxTemp', 'Rainfall',\n                                              'WindGustSpeed', 'WindSpeed9am',\n                                              'WindSpeed3pm', 'Humidity9am',\n                                              'Humidity3pm', 'Pressure9am',\n                                              'Pressure3pm', 'Cloud9am',\n                                              'Cloud3pm', 'Temp9am',\n                                              'Temp3pm'])),\n                ('cat',\n                 CategoricalImputer(imputation_method='frequent',\n                                    variables=['Location', 'WindGustDir',\n                                               'WindDir9am', 'WindDir3pm',\n                                               'RainToday', 'target']))])",
      "text/html": "<style>#sk-container-id-18 {color: black;background-color: white;}#sk-container-id-18 pre{padding: 0;}#sk-container-id-18 div.sk-toggleable {background-color: white;}#sk-container-id-18 label.sk-toggleable__label {cursor: pointer;display: block;width: 100%;margin-bottom: 0;padding: 0.3em;box-sizing: border-box;text-align: center;}#sk-container-id-18 label.sk-toggleable__label-arrow:before {content: \"▸\";float: left;margin-right: 0.25em;color: #696969;}#sk-container-id-18 label.sk-toggleable__label-arrow:hover:before {color: black;}#sk-container-id-18 div.sk-estimator:hover label.sk-toggleable__label-arrow:before {color: black;}#sk-container-id-18 div.sk-toggleable__content {max-height: 0;max-width: 0;overflow: hidden;text-align: left;background-color: #f0f8ff;}#sk-container-id-18 div.sk-toggleable__content pre {margin: 0.2em;color: black;border-radius: 0.25em;background-color: #f0f8ff;}#sk-container-id-18 input.sk-toggleable__control:checked~div.sk-toggleable__content {max-height: 200px;max-width: 100%;overflow: auto;}#sk-container-id-18 input.sk-toggleable__control:checked~label.sk-toggleable__label-arrow:before {content: \"▾\";}#sk-container-id-18 div.sk-estimator input.sk-toggleable__control:checked~label.sk-toggleable__label {background-color: #d4ebff;}#sk-container-id-18 div.sk-label input.sk-toggleable__control:checked~label.sk-toggleable__label {background-color: #d4ebff;}#sk-container-id-18 input.sk-hidden--visually {border: 0;clip: rect(1px 1px 1px 1px);clip: rect(1px, 1px, 1px, 1px);height: 1px;margin: -1px;overflow: hidden;padding: 0;position: absolute;width: 1px;}#sk-container-id-18 div.sk-estimator {font-family: monospace;background-color: #f0f8ff;border: 1px dotted black;border-radius: 0.25em;box-sizing: border-box;margin-bottom: 0.5em;}#sk-container-id-18 div.sk-estimator:hover {background-color: #d4ebff;}#sk-container-id-18 div.sk-parallel-item::after {content: \"\";width: 100%;border-bottom: 1px solid gray;flex-grow: 1;}#sk-container-id-18 div.sk-label:hover label.sk-toggleable__label {background-color: #d4ebff;}#sk-container-id-18 div.sk-serial::before {content: \"\";position: absolute;border-left: 1px solid gray;box-sizing: border-box;top: 0;bottom: 0;left: 50%;z-index: 0;}#sk-container-id-18 div.sk-serial {display: flex;flex-direction: column;align-items: center;background-color: white;padding-right: 0.2em;padding-left: 0.2em;position: relative;}#sk-container-id-18 div.sk-item {position: relative;z-index: 1;}#sk-container-id-18 div.sk-parallel {display: flex;align-items: stretch;justify-content: center;background-color: white;position: relative;}#sk-container-id-18 div.sk-item::before, #sk-container-id-18 div.sk-parallel-item::before {content: \"\";position: absolute;border-left: 1px solid gray;box-sizing: border-box;top: 0;bottom: 0;left: 50%;z-index: -1;}#sk-container-id-18 div.sk-parallel-item {display: flex;flex-direction: column;z-index: 1;position: relative;background-color: white;}#sk-container-id-18 div.sk-parallel-item:first-child::after {align-self: flex-end;width: 50%;}#sk-container-id-18 div.sk-parallel-item:last-child::after {align-self: flex-start;width: 50%;}#sk-container-id-18 div.sk-parallel-item:only-child::after {width: 0;}#sk-container-id-18 div.sk-dashed-wrapped {border: 1px dashed gray;margin: 0 0.4em 0.5em 0.4em;box-sizing: border-box;padding-bottom: 0.4em;background-color: white;}#sk-container-id-18 div.sk-label label {font-family: monospace;font-weight: bold;display: inline-block;line-height: 1.2em;}#sk-container-id-18 div.sk-label-container {text-align: center;}#sk-container-id-18 div.sk-container {/* jupyter's `normalize.less` sets `[hidden] { display: none; }` but bootstrap.min.css set `[hidden] { display: none !important; }` so we also need the `!important` here to be able to override the default hidden behavior on the sphinx rendered scikit-learn.org. See: https://github.com/scikit-learn/scikit-learn/issues/21755 */display: inline-block !important;position: relative;}#sk-container-id-18 div.sk-text-repr-fallback {display: none;}</style><div id=\"sk-container-id-18\" class=\"sk-top-container\"><div class=\"sk-text-repr-fallback\"><pre>Pipeline(steps=[(&#x27;num&#x27;,\n                 MeanMedianImputer(variables=[&#x27;MinTemp&#x27;, &#x27;MaxTemp&#x27;, &#x27;Rainfall&#x27;,\n                                              &#x27;WindGustSpeed&#x27;, &#x27;WindSpeed9am&#x27;,\n                                              &#x27;WindSpeed3pm&#x27;, &#x27;Humidity9am&#x27;,\n                                              &#x27;Humidity3pm&#x27;, &#x27;Pressure9am&#x27;,\n                                              &#x27;Pressure3pm&#x27;, &#x27;Cloud9am&#x27;,\n                                              &#x27;Cloud3pm&#x27;, &#x27;Temp9am&#x27;,\n                                              &#x27;Temp3pm&#x27;])),\n                (&#x27;cat&#x27;,\n                 CategoricalImputer(imputation_method=&#x27;frequent&#x27;,\n                                    variables=[&#x27;Location&#x27;, &#x27;WindGustDir&#x27;,\n                                               &#x27;WindDir9am&#x27;, &#x27;WindDir3pm&#x27;,\n                                               &#x27;RainToday&#x27;, &#x27;target&#x27;]))])</pre><b>In a Jupyter environment, please rerun this cell to show the HTML representation or trust the notebook. <br />On GitHub, the HTML representation is unable to render, please try loading this page with nbviewer.org.</b></div><div class=\"sk-container\" hidden><div class=\"sk-item sk-dashed-wrapped\"><div class=\"sk-label-container\"><div class=\"sk-label sk-toggleable\"><input class=\"sk-toggleable__control sk-hidden--visually\" id=\"sk-estimator-id-46\" type=\"checkbox\" ><label for=\"sk-estimator-id-46\" class=\"sk-toggleable__label sk-toggleable__label-arrow\">Pipeline</label><div class=\"sk-toggleable__content\"><pre>Pipeline(steps=[(&#x27;num&#x27;,\n                 MeanMedianImputer(variables=[&#x27;MinTemp&#x27;, &#x27;MaxTemp&#x27;, &#x27;Rainfall&#x27;,\n                                              &#x27;WindGustSpeed&#x27;, &#x27;WindSpeed9am&#x27;,\n                                              &#x27;WindSpeed3pm&#x27;, &#x27;Humidity9am&#x27;,\n                                              &#x27;Humidity3pm&#x27;, &#x27;Pressure9am&#x27;,\n                                              &#x27;Pressure3pm&#x27;, &#x27;Cloud9am&#x27;,\n                                              &#x27;Cloud3pm&#x27;, &#x27;Temp9am&#x27;,\n                                              &#x27;Temp3pm&#x27;])),\n                (&#x27;cat&#x27;,\n                 CategoricalImputer(imputation_method=&#x27;frequent&#x27;,\n                                    variables=[&#x27;Location&#x27;, &#x27;WindGustDir&#x27;,\n                                               &#x27;WindDir9am&#x27;, &#x27;WindDir3pm&#x27;,\n                                               &#x27;RainToday&#x27;, &#x27;target&#x27;]))])</pre></div></div></div><div class=\"sk-serial\"><div class=\"sk-item\"><div class=\"sk-estimator sk-toggleable\"><input class=\"sk-toggleable__control sk-hidden--visually\" id=\"sk-estimator-id-47\" type=\"checkbox\" ><label for=\"sk-estimator-id-47\" class=\"sk-toggleable__label sk-toggleable__label-arrow\">MeanMedianImputer</label><div class=\"sk-toggleable__content\"><pre>MeanMedianImputer(variables=[&#x27;MinTemp&#x27;, &#x27;MaxTemp&#x27;, &#x27;Rainfall&#x27;, &#x27;WindGustSpeed&#x27;,\n                             &#x27;WindSpeed9am&#x27;, &#x27;WindSpeed3pm&#x27;, &#x27;Humidity9am&#x27;,\n                             &#x27;Humidity3pm&#x27;, &#x27;Pressure9am&#x27;, &#x27;Pressure3pm&#x27;,\n                             &#x27;Cloud9am&#x27;, &#x27;Cloud3pm&#x27;, &#x27;Temp9am&#x27;, &#x27;Temp3pm&#x27;])</pre></div></div></div><div class=\"sk-item\"><div class=\"sk-estimator sk-toggleable\"><input class=\"sk-toggleable__control sk-hidden--visually\" id=\"sk-estimator-id-48\" type=\"checkbox\" ><label for=\"sk-estimator-id-48\" class=\"sk-toggleable__label sk-toggleable__label-arrow\">CategoricalImputer</label><div class=\"sk-toggleable__content\"><pre>CategoricalImputer(imputation_method=&#x27;frequent&#x27;,\n                   variables=[&#x27;Location&#x27;, &#x27;WindGustDir&#x27;, &#x27;WindDir9am&#x27;,\n                              &#x27;WindDir3pm&#x27;, &#x27;RainToday&#x27;, &#x27;target&#x27;])</pre></div></div></div></div></div></div></div>"
     },
     "metadata": {},
     "output_type": "display_data"
    }
   ],
   "source": [
    "display(ppl_imp)"
   ],
   "metadata": {
    "collapsed": false
   }
  },
  {
   "cell_type": "code",
   "execution_count": 296,
   "outputs": [
    {
     "data": {
      "text/plain": "            Date  Location  MinTemp  MaxTemp  Rainfall WindGustDir  \\\n0     2008-12-01   Region1     13.4     22.9       0.6           W   \n1     2008-12-02   Region1      7.4     25.1       0.0         WNW   \n2     2008-12-03   Region1     12.9     25.7       0.0         WSW   \n3     2008-12-04   Region1      9.2     28.0       0.0          NE   \n4     2008-12-05   Region1     17.5     32.3       1.0           W   \n...          ...       ...      ...      ...       ...         ...   \n36524 2017-06-21  Region12      8.6     18.6       0.2         SSW   \n36525 2017-06-22  Region12      9.5     17.8       0.2          SW   \n36526 2017-06-23  Region12      8.7     19.4       0.0         NNW   \n36527 2017-06-24  Region12      9.4     19.9       0.0          SW   \n36528 2017-06-25  Region12      6.8     19.5       0.0         WSW   \n\n       WindGustSpeed WindDir9am WindDir3pm  WindSpeed9am  ...  Humidity9am  \\\n0               44.0          W        WNW          20.0  ...         71.0   \n1               44.0        NNW        WSW           4.0  ...         44.0   \n2               46.0          W        WSW          19.0  ...         38.0   \n3               24.0         SE          E          11.0  ...         45.0   \n4               41.0        ENE         NW           7.0  ...         82.0   \n...              ...        ...        ...           ...  ...          ...   \n36524           56.0        NNW          S          13.0  ...         69.0   \n36525           35.0        NNW        SSE           9.0  ...         74.0   \n36526           30.0         NW         NW          13.0  ...         83.0   \n36527           43.0        WNW          W          22.0  ...         61.0   \n36528           46.0         NW        WSW          19.0  ...         67.0   \n\n       Humidity3pm  Pressure9am  Pressure3pm  Cloud9am  Cloud3pm  Temp9am  \\\n0             22.0       1007.7       1007.1       8.0       5.0     16.9   \n1             25.0       1010.6       1007.8       5.0       5.0     17.2   \n2             30.0       1007.6       1008.7       5.0       2.0     21.0   \n3             16.0       1017.6       1012.8       5.0       5.0     18.1   \n4             33.0       1010.8       1006.0       7.0       8.0     17.8   \n...            ...          ...          ...       ...       ...      ...   \n36524         67.0       1025.7       1025.3       2.0       2.0     13.3   \n36525         70.0       1028.3       1024.6       2.0       2.0     14.3   \n36526         57.0       1020.8       1014.7       6.0       6.0     10.9   \n36527         41.0       1017.3       1015.2       5.0       2.0     12.9   \n36528         42.0       1018.4       1015.2       1.0       1.0     11.9   \n\n       Temp3pm  RainToday target  \n0         21.8         No      0  \n1         24.3         No      0  \n2         23.2         No      0  \n3         26.5         No      0  \n4         29.7         No      0  \n...        ...        ...    ...  \n36524     17.7         No      0  \n36525     16.8         No      0  \n36526     18.2         No      0  \n36527     19.3         No      0  \n36528     17.9         No      0  \n\n[29679 rows x 21 columns]",
      "text/html": "<div>\n<style scoped>\n    .dataframe tbody tr th:only-of-type {\n        vertical-align: middle;\n    }\n\n    .dataframe tbody tr th {\n        vertical-align: top;\n    }\n\n    .dataframe thead th {\n        text-align: right;\n    }\n</style>\n<table border=\"1\" class=\"dataframe\">\n  <thead>\n    <tr style=\"text-align: right;\">\n      <th></th>\n      <th>Date</th>\n      <th>Location</th>\n      <th>MinTemp</th>\n      <th>MaxTemp</th>\n      <th>Rainfall</th>\n      <th>WindGustDir</th>\n      <th>WindGustSpeed</th>\n      <th>WindDir9am</th>\n      <th>WindDir3pm</th>\n      <th>WindSpeed9am</th>\n      <th>...</th>\n      <th>Humidity9am</th>\n      <th>Humidity3pm</th>\n      <th>Pressure9am</th>\n      <th>Pressure3pm</th>\n      <th>Cloud9am</th>\n      <th>Cloud3pm</th>\n      <th>Temp9am</th>\n      <th>Temp3pm</th>\n      <th>RainToday</th>\n      <th>target</th>\n    </tr>\n  </thead>\n  <tbody>\n    <tr>\n      <th>0</th>\n      <td>2008-12-01</td>\n      <td>Region1</td>\n      <td>13.4</td>\n      <td>22.9</td>\n      <td>0.6</td>\n      <td>W</td>\n      <td>44.0</td>\n      <td>W</td>\n      <td>WNW</td>\n      <td>20.0</td>\n      <td>...</td>\n      <td>71.0</td>\n      <td>22.0</td>\n      <td>1007.7</td>\n      <td>1007.1</td>\n      <td>8.0</td>\n      <td>5.0</td>\n      <td>16.9</td>\n      <td>21.8</td>\n      <td>No</td>\n      <td>0</td>\n    </tr>\n    <tr>\n      <th>1</th>\n      <td>2008-12-02</td>\n      <td>Region1</td>\n      <td>7.4</td>\n      <td>25.1</td>\n      <td>0.0</td>\n      <td>WNW</td>\n      <td>44.0</td>\n      <td>NNW</td>\n      <td>WSW</td>\n      <td>4.0</td>\n      <td>...</td>\n      <td>44.0</td>\n      <td>25.0</td>\n      <td>1010.6</td>\n      <td>1007.8</td>\n      <td>5.0</td>\n      <td>5.0</td>\n      <td>17.2</td>\n      <td>24.3</td>\n      <td>No</td>\n      <td>0</td>\n    </tr>\n    <tr>\n      <th>2</th>\n      <td>2008-12-03</td>\n      <td>Region1</td>\n      <td>12.9</td>\n      <td>25.7</td>\n      <td>0.0</td>\n      <td>WSW</td>\n      <td>46.0</td>\n      <td>W</td>\n      <td>WSW</td>\n      <td>19.0</td>\n      <td>...</td>\n      <td>38.0</td>\n      <td>30.0</td>\n      <td>1007.6</td>\n      <td>1008.7</td>\n      <td>5.0</td>\n      <td>2.0</td>\n      <td>21.0</td>\n      <td>23.2</td>\n      <td>No</td>\n      <td>0</td>\n    </tr>\n    <tr>\n      <th>3</th>\n      <td>2008-12-04</td>\n      <td>Region1</td>\n      <td>9.2</td>\n      <td>28.0</td>\n      <td>0.0</td>\n      <td>NE</td>\n      <td>24.0</td>\n      <td>SE</td>\n      <td>E</td>\n      <td>11.0</td>\n      <td>...</td>\n      <td>45.0</td>\n      <td>16.0</td>\n      <td>1017.6</td>\n      <td>1012.8</td>\n      <td>5.0</td>\n      <td>5.0</td>\n      <td>18.1</td>\n      <td>26.5</td>\n      <td>No</td>\n      <td>0</td>\n    </tr>\n    <tr>\n      <th>4</th>\n      <td>2008-12-05</td>\n      <td>Region1</td>\n      <td>17.5</td>\n      <td>32.3</td>\n      <td>1.0</td>\n      <td>W</td>\n      <td>41.0</td>\n      <td>ENE</td>\n      <td>NW</td>\n      <td>7.0</td>\n      <td>...</td>\n      <td>82.0</td>\n      <td>33.0</td>\n      <td>1010.8</td>\n      <td>1006.0</td>\n      <td>7.0</td>\n      <td>8.0</td>\n      <td>17.8</td>\n      <td>29.7</td>\n      <td>No</td>\n      <td>0</td>\n    </tr>\n    <tr>\n      <th>...</th>\n      <td>...</td>\n      <td>...</td>\n      <td>...</td>\n      <td>...</td>\n      <td>...</td>\n      <td>...</td>\n      <td>...</td>\n      <td>...</td>\n      <td>...</td>\n      <td>...</td>\n      <td>...</td>\n      <td>...</td>\n      <td>...</td>\n      <td>...</td>\n      <td>...</td>\n      <td>...</td>\n      <td>...</td>\n      <td>...</td>\n      <td>...</td>\n      <td>...</td>\n      <td>...</td>\n    </tr>\n    <tr>\n      <th>36524</th>\n      <td>2017-06-21</td>\n      <td>Region12</td>\n      <td>8.6</td>\n      <td>18.6</td>\n      <td>0.2</td>\n      <td>SSW</td>\n      <td>56.0</td>\n      <td>NNW</td>\n      <td>S</td>\n      <td>13.0</td>\n      <td>...</td>\n      <td>69.0</td>\n      <td>67.0</td>\n      <td>1025.7</td>\n      <td>1025.3</td>\n      <td>2.0</td>\n      <td>2.0</td>\n      <td>13.3</td>\n      <td>17.7</td>\n      <td>No</td>\n      <td>0</td>\n    </tr>\n    <tr>\n      <th>36525</th>\n      <td>2017-06-22</td>\n      <td>Region12</td>\n      <td>9.5</td>\n      <td>17.8</td>\n      <td>0.2</td>\n      <td>SW</td>\n      <td>35.0</td>\n      <td>NNW</td>\n      <td>SSE</td>\n      <td>9.0</td>\n      <td>...</td>\n      <td>74.0</td>\n      <td>70.0</td>\n      <td>1028.3</td>\n      <td>1024.6</td>\n      <td>2.0</td>\n      <td>2.0</td>\n      <td>14.3</td>\n      <td>16.8</td>\n      <td>No</td>\n      <td>0</td>\n    </tr>\n    <tr>\n      <th>36526</th>\n      <td>2017-06-23</td>\n      <td>Region12</td>\n      <td>8.7</td>\n      <td>19.4</td>\n      <td>0.0</td>\n      <td>NNW</td>\n      <td>30.0</td>\n      <td>NW</td>\n      <td>NW</td>\n      <td>13.0</td>\n      <td>...</td>\n      <td>83.0</td>\n      <td>57.0</td>\n      <td>1020.8</td>\n      <td>1014.7</td>\n      <td>6.0</td>\n      <td>6.0</td>\n      <td>10.9</td>\n      <td>18.2</td>\n      <td>No</td>\n      <td>0</td>\n    </tr>\n    <tr>\n      <th>36527</th>\n      <td>2017-06-24</td>\n      <td>Region12</td>\n      <td>9.4</td>\n      <td>19.9</td>\n      <td>0.0</td>\n      <td>SW</td>\n      <td>43.0</td>\n      <td>WNW</td>\n      <td>W</td>\n      <td>22.0</td>\n      <td>...</td>\n      <td>61.0</td>\n      <td>41.0</td>\n      <td>1017.3</td>\n      <td>1015.2</td>\n      <td>5.0</td>\n      <td>2.0</td>\n      <td>12.9</td>\n      <td>19.3</td>\n      <td>No</td>\n      <td>0</td>\n    </tr>\n    <tr>\n      <th>36528</th>\n      <td>2017-06-25</td>\n      <td>Region12</td>\n      <td>6.8</td>\n      <td>19.5</td>\n      <td>0.0</td>\n      <td>WSW</td>\n      <td>46.0</td>\n      <td>NW</td>\n      <td>WSW</td>\n      <td>19.0</td>\n      <td>...</td>\n      <td>67.0</td>\n      <td>42.0</td>\n      <td>1018.4</td>\n      <td>1015.2</td>\n      <td>1.0</td>\n      <td>1.0</td>\n      <td>11.9</td>\n      <td>17.9</td>\n      <td>No</td>\n      <td>0</td>\n    </tr>\n  </tbody>\n</table>\n<p>29679 rows × 21 columns</p>\n</div>"
     },
     "execution_count": 296,
     "metadata": {},
     "output_type": "execute_result"
    }
   ],
   "source": [
    "X_im = ppl_imp.fit_transform(df_out)\n",
    "X_im"
   ],
   "metadata": {
    "collapsed": false
   }
  },
  {
   "cell_type": "code",
   "execution_count": 297,
   "outputs": [
    {
     "data": {
      "text/plain": "Date             0\nLocation         0\nMinTemp          0\nMaxTemp          0\nRainfall         0\nWindGustDir      0\nWindGustSpeed    0\nWindDir9am       0\nWindDir3pm       0\nWindSpeed9am     0\nWindSpeed3pm     0\nHumidity9am      0\nHumidity3pm      0\nPressure9am      0\nPressure3pm      0\nCloud9am         0\nCloud3pm         0\nTemp9am          0\nTemp3pm          0\nRainToday        0\ntarget           0\ndtype: int64"
     },
     "execution_count": 297,
     "metadata": {},
     "output_type": "execute_result"
    }
   ],
   "source": [
    "# Check Null Data\n",
    "X_im.isnull().sum()"
   ],
   "metadata": {
    "collapsed": false
   }
  },
  {
   "cell_type": "markdown",
   "source": [
    "## Save cleaned data"
   ],
   "metadata": {
    "collapsed": false
   }
  },
  {
   "cell_type": "code",
   "execution_count": 298,
   "outputs": [],
   "source": [
    "#X_train, X_test, y_train, y_test = train_test_split(X_im, y, test_size=0.2)\n",
    "#df_train_clean = pd.concat([X_train, y_train], axis=1)\n",
    "#df_test_clean = pd.concat([X_test, y_test], axis=1)\n",
    "X_im.to_csv('../../../data/weather-classification-clean.csv', index=False)"
   ],
   "metadata": {
    "collapsed": false
   }
  },
  {
   "cell_type": "code",
   "execution_count": null,
   "outputs": [],
   "source": [],
   "metadata": {
    "collapsed": false
   }
  }
 ],
 "metadata": {
  "kernelspec": {
   "display_name": "Python 3",
   "language": "python",
   "name": "python3"
  },
  "language_info": {
   "codemirror_mode": {
    "name": "ipython",
    "version": 2
   },
   "file_extension": ".py",
   "mimetype": "text/x-python",
   "name": "python",
   "nbconvert_exporter": "python",
   "pygments_lexer": "ipython2",
   "version": "2.7.6"
  }
 },
 "nbformat": 4,
 "nbformat_minor": 0
}
