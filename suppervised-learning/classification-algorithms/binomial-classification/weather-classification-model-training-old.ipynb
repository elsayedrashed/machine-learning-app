{
 "cells": [
  {
   "cell_type": "markdown",
   "source": [
    "## Weather Classification\n",
    "### Model Training"
   ],
   "metadata": {
    "collapsed": false
   }
  },
  {
   "cell_type": "code",
   "execution_count": 133,
   "outputs": [],
   "source": [
    "# The usual suspects\n",
    "import pandas as pd\n",
    "import numpy as np\n",
    "import matplotlib.pyplot as plt\n",
    "import seaborn as sns\n",
    "\n",
    "# Assemble pipeline(s)\n",
    "from sklearn.pipeline import make_pipeline, Pipeline\n",
    "from sklearn.compose import ColumnTransformer, make_column_selector\n",
    "from sklearn.impute import SimpleImputer\n",
    "from sklearn.preprocessing import StandardScaler, OneHotEncoder\n",
    "\n",
    "# PMML Pipeline(s)\n",
    "from sklearn2pmml import sklearn2pmml\n",
    "from sklearn2pmml.pipeline import PMMLPipeline\n",
    "\n",
    "# Models\n",
    "from xgboost import XGBClassifier\n",
    "from sklearn.linear_model import LogisticRegression\n",
    "from sklearn.ensemble import RandomForestClassifier, VotingClassifier\n",
    "from sklearn.tree import DecisionTreeClassifier\n",
    "from sklearn.metrics import accuracy_score\n",
    "from sklearn.inspection import permutation_importance\n",
    "\n",
    "from feature_engine.imputation import CategoricalImputer\n",
    "\n",
    "# Model Selection\n",
    "from sklearn.model_selection import RandomizedSearchCV,RepeatedStratifiedKFold"
   ],
   "metadata": {
    "collapsed": false
   }
  },
  {
   "cell_type": "code",
   "execution_count": 134,
   "outputs": [],
   "source": [
    "# Dsplay pipelines\n",
    "from sklearn import set_config\n",
    "set_config(display=\"diagram\")"
   ],
   "metadata": {
    "collapsed": false
   }
  },
  {
   "cell_type": "code",
   "execution_count": 135,
   "outputs": [],
   "source": [
    "import warnings\n",
    "warnings.filterwarnings('ignore')"
   ],
   "metadata": {
    "collapsed": false
   }
  },
  {
   "cell_type": "markdown",
   "source": [
    "## Data Loading"
   ],
   "metadata": {
    "collapsed": false
   }
  },
  {
   "cell_type": "code",
   "execution_count": 136,
   "outputs": [
    {
     "data": {
      "text/plain": "             Date  Location  MinTemp  MaxTemp  Rainfall WindGustDir  \\\n24816  2010-12-09  Region11     22.0     30.7       0.0           N   \n7172   2013-06-09   Region3      5.9     20.8       0.0          NE   \n17897  2013-09-24   Region8     14.8     18.6       8.0         SSW   \n19470  2009-10-27   Region9     12.5     19.1       1.2         SSW   \n3415   2010-07-17   Region2      1.3     17.5       0.0         NNE   \n11920  2011-11-09   Region5     20.5     34.2       0.0         NNE   \n7384   2014-02-06   Region3     19.8     35.7       0.0         ENE   \n14663  2012-04-13   Region7     14.4     22.9       0.0           W   \n8503   2009-03-02   Region4     21.4     26.5       0.0           S   \n2299   2015-09-22   Region1      6.2     16.3       0.2          SW   \n\n       WindGustSpeed WindDir9am WindDir3pm  WindSpeed9am  WindSpeed3pm  \\\n24816           31.0         NE        SSE          13.0           9.0   \n7172            19.0        ESE        NNE           7.0          11.0   \n17897           54.0          S        SSW          31.0          31.0   \n19470           26.0          S        WNW           7.0           2.0   \n3415            22.0         SW        NNE           9.0          13.0   \n11920           41.0          N        NNW          26.0          11.0   \n7384            43.0        ENE          E          22.0          17.0   \n14663           22.0          W          E           9.0          15.0   \n8503            33.0         SW          S          20.0          22.0   \n2299            41.0        WSW         SW          20.0          20.0   \n\n       Humidity9am  Humidity3pm  Pressure9am  Pressure3pm  Cloud9am  Cloud3pm  \\\n24816         80.0         62.0       1010.8       1008.2       7.0       8.0   \n7172          92.0         39.0       1026.5       1022.1       7.0       1.0   \n17897         70.0         63.0       1008.6       1008.1       7.0       3.0   \n19470         83.0         66.0       1018.5       1015.9       5.0       5.0   \n3415          83.0         45.0       1028.6       1024.6       5.0       5.0   \n11920         56.0         25.0       1017.9       1013.9       6.0       3.0   \n7384          38.0         23.0       1014.8       1010.7       4.0       1.0   \n14663         74.0         65.0       1031.5       1028.7       5.0       5.0   \n8503          72.0         70.0       1014.7       1013.9       6.0       7.0   \n2299          68.0         36.0       1021.8       1022.0       5.0       4.0   \n\n       Temp9am  Temp3pm RainToday  \n24816     23.4     28.3        No  \n7172       9.3     20.3        No  \n17897     16.7     17.7       Yes  \n19470     14.5     17.3       Yes  \n3415       8.2     16.6        No  \n11920     23.8     33.2        No  \n7384      22.5     33.4        No  \n14663     18.4     21.0        No  \n8503      24.3     25.1        No  \n2299      10.7     15.3        No  ",
      "text/html": "<div>\n<style scoped>\n    .dataframe tbody tr th:only-of-type {\n        vertical-align: middle;\n    }\n\n    .dataframe tbody tr th {\n        vertical-align: top;\n    }\n\n    .dataframe thead th {\n        text-align: right;\n    }\n</style>\n<table border=\"1\" class=\"dataframe\">\n  <thead>\n    <tr style=\"text-align: right;\">\n      <th></th>\n      <th>Date</th>\n      <th>Location</th>\n      <th>MinTemp</th>\n      <th>MaxTemp</th>\n      <th>Rainfall</th>\n      <th>WindGustDir</th>\n      <th>WindGustSpeed</th>\n      <th>WindDir9am</th>\n      <th>WindDir3pm</th>\n      <th>WindSpeed9am</th>\n      <th>WindSpeed3pm</th>\n      <th>Humidity9am</th>\n      <th>Humidity3pm</th>\n      <th>Pressure9am</th>\n      <th>Pressure3pm</th>\n      <th>Cloud9am</th>\n      <th>Cloud3pm</th>\n      <th>Temp9am</th>\n      <th>Temp3pm</th>\n      <th>RainToday</th>\n    </tr>\n  </thead>\n  <tbody>\n    <tr>\n      <th>24816</th>\n      <td>2010-12-09</td>\n      <td>Region11</td>\n      <td>22.0</td>\n      <td>30.7</td>\n      <td>0.0</td>\n      <td>N</td>\n      <td>31.0</td>\n      <td>NE</td>\n      <td>SSE</td>\n      <td>13.0</td>\n      <td>9.0</td>\n      <td>80.0</td>\n      <td>62.0</td>\n      <td>1010.8</td>\n      <td>1008.2</td>\n      <td>7.0</td>\n      <td>8.0</td>\n      <td>23.4</td>\n      <td>28.3</td>\n      <td>No</td>\n    </tr>\n    <tr>\n      <th>7172</th>\n      <td>2013-06-09</td>\n      <td>Region3</td>\n      <td>5.9</td>\n      <td>20.8</td>\n      <td>0.0</td>\n      <td>NE</td>\n      <td>19.0</td>\n      <td>ESE</td>\n      <td>NNE</td>\n      <td>7.0</td>\n      <td>11.0</td>\n      <td>92.0</td>\n      <td>39.0</td>\n      <td>1026.5</td>\n      <td>1022.1</td>\n      <td>7.0</td>\n      <td>1.0</td>\n      <td>9.3</td>\n      <td>20.3</td>\n      <td>No</td>\n    </tr>\n    <tr>\n      <th>17897</th>\n      <td>2013-09-24</td>\n      <td>Region8</td>\n      <td>14.8</td>\n      <td>18.6</td>\n      <td>8.0</td>\n      <td>SSW</td>\n      <td>54.0</td>\n      <td>S</td>\n      <td>SSW</td>\n      <td>31.0</td>\n      <td>31.0</td>\n      <td>70.0</td>\n      <td>63.0</td>\n      <td>1008.6</td>\n      <td>1008.1</td>\n      <td>7.0</td>\n      <td>3.0</td>\n      <td>16.7</td>\n      <td>17.7</td>\n      <td>Yes</td>\n    </tr>\n    <tr>\n      <th>19470</th>\n      <td>2009-10-27</td>\n      <td>Region9</td>\n      <td>12.5</td>\n      <td>19.1</td>\n      <td>1.2</td>\n      <td>SSW</td>\n      <td>26.0</td>\n      <td>S</td>\n      <td>WNW</td>\n      <td>7.0</td>\n      <td>2.0</td>\n      <td>83.0</td>\n      <td>66.0</td>\n      <td>1018.5</td>\n      <td>1015.9</td>\n      <td>5.0</td>\n      <td>5.0</td>\n      <td>14.5</td>\n      <td>17.3</td>\n      <td>Yes</td>\n    </tr>\n    <tr>\n      <th>3415</th>\n      <td>2010-07-17</td>\n      <td>Region2</td>\n      <td>1.3</td>\n      <td>17.5</td>\n      <td>0.0</td>\n      <td>NNE</td>\n      <td>22.0</td>\n      <td>SW</td>\n      <td>NNE</td>\n      <td>9.0</td>\n      <td>13.0</td>\n      <td>83.0</td>\n      <td>45.0</td>\n      <td>1028.6</td>\n      <td>1024.6</td>\n      <td>5.0</td>\n      <td>5.0</td>\n      <td>8.2</td>\n      <td>16.6</td>\n      <td>No</td>\n    </tr>\n    <tr>\n      <th>11920</th>\n      <td>2011-11-09</td>\n      <td>Region5</td>\n      <td>20.5</td>\n      <td>34.2</td>\n      <td>0.0</td>\n      <td>NNE</td>\n      <td>41.0</td>\n      <td>N</td>\n      <td>NNW</td>\n      <td>26.0</td>\n      <td>11.0</td>\n      <td>56.0</td>\n      <td>25.0</td>\n      <td>1017.9</td>\n      <td>1013.9</td>\n      <td>6.0</td>\n      <td>3.0</td>\n      <td>23.8</td>\n      <td>33.2</td>\n      <td>No</td>\n    </tr>\n    <tr>\n      <th>7384</th>\n      <td>2014-02-06</td>\n      <td>Region3</td>\n      <td>19.8</td>\n      <td>35.7</td>\n      <td>0.0</td>\n      <td>ENE</td>\n      <td>43.0</td>\n      <td>ENE</td>\n      <td>E</td>\n      <td>22.0</td>\n      <td>17.0</td>\n      <td>38.0</td>\n      <td>23.0</td>\n      <td>1014.8</td>\n      <td>1010.7</td>\n      <td>4.0</td>\n      <td>1.0</td>\n      <td>22.5</td>\n      <td>33.4</td>\n      <td>No</td>\n    </tr>\n    <tr>\n      <th>14663</th>\n      <td>2012-04-13</td>\n      <td>Region7</td>\n      <td>14.4</td>\n      <td>22.9</td>\n      <td>0.0</td>\n      <td>W</td>\n      <td>22.0</td>\n      <td>W</td>\n      <td>E</td>\n      <td>9.0</td>\n      <td>15.0</td>\n      <td>74.0</td>\n      <td>65.0</td>\n      <td>1031.5</td>\n      <td>1028.7</td>\n      <td>5.0</td>\n      <td>5.0</td>\n      <td>18.4</td>\n      <td>21.0</td>\n      <td>No</td>\n    </tr>\n    <tr>\n      <th>8503</th>\n      <td>2009-03-02</td>\n      <td>Region4</td>\n      <td>21.4</td>\n      <td>26.5</td>\n      <td>0.0</td>\n      <td>S</td>\n      <td>33.0</td>\n      <td>SW</td>\n      <td>S</td>\n      <td>20.0</td>\n      <td>22.0</td>\n      <td>72.0</td>\n      <td>70.0</td>\n      <td>1014.7</td>\n      <td>1013.9</td>\n      <td>6.0</td>\n      <td>7.0</td>\n      <td>24.3</td>\n      <td>25.1</td>\n      <td>No</td>\n    </tr>\n    <tr>\n      <th>2299</th>\n      <td>2015-09-22</td>\n      <td>Region1</td>\n      <td>6.2</td>\n      <td>16.3</td>\n      <td>0.2</td>\n      <td>SW</td>\n      <td>41.0</td>\n      <td>WSW</td>\n      <td>SW</td>\n      <td>20.0</td>\n      <td>20.0</td>\n      <td>68.0</td>\n      <td>36.0</td>\n      <td>1021.8</td>\n      <td>1022.0</td>\n      <td>5.0</td>\n      <td>4.0</td>\n      <td>10.7</td>\n      <td>15.3</td>\n      <td>No</td>\n    </tr>\n  </tbody>\n</table>\n</div>"
     },
     "execution_count": 136,
     "metadata": {},
     "output_type": "execute_result"
    }
   ],
   "source": [
    "from sklearn.model_selection import train_test_split\n",
    "\n",
    "# Newspaper churn dataset\n",
    "# It contains 15.855 records and 19 columns including the target variable Subscriber (YES/NO).\n",
    "# The majority of the features is categorial.\n",
    "df = pd.read_csv('../../../data/weather-classification-clean.csv')\n",
    "\n",
    "X = df.drop('target', axis=1)\n",
    "y = df['target']\n",
    "\n",
    "X_train, X_test, y_train, y_test = train_test_split(X, y, test_size=0.2)\n",
    "\n",
    "X_test.sample(10)"
   ],
   "metadata": {
    "collapsed": false
   }
  },
  {
   "cell_type": "code",
   "execution_count": 137,
   "outputs": [
    {
     "data": {
      "text/plain": "Date              object\nLocation          object\nMinTemp          float64\nMaxTemp          float64\nRainfall         float64\nWindGustDir       object\nWindGustSpeed    float64\nWindDir9am        object\nWindDir3pm        object\nWindSpeed9am     float64\nWindSpeed3pm     float64\nHumidity9am      float64\nHumidity3pm      float64\nPressure9am      float64\nPressure3pm      float64\nCloud9am         float64\nCloud3pm         float64\nTemp9am          float64\nTemp3pm          float64\nRainToday         object\ndtype: object"
     },
     "execution_count": 137,
     "metadata": {},
     "output_type": "execute_result"
    }
   ],
   "source": [
    "X_train.dtypes"
   ],
   "metadata": {
    "collapsed": false
   }
  },
  {
   "cell_type": "code",
   "execution_count": 138,
   "outputs": [],
   "source": [
    "# Selecting categorical and numeric features\n",
    "col_numerical = ['MinTemp','MaxTemp','Rainfall','WindGustSpeed','WindSpeed9am','WindSpeed3pm','Humidity9am','Humidity3pm','Pressure9am','Cloud9am','Cloud3pm']\n",
    "col_categorical = ['Location', 'WindGustDir', 'WindDir9am', 'WindDir3pm', 'RainToday']\n",
    "col_datetime = ['Date']\n",
    "col_drop = ['Date','Pressure3pm', 'Temp3pm', 'Temp9am']"
   ],
   "metadata": {
    "collapsed": false
   }
  },
  {
   "cell_type": "code",
   "execution_count": 139,
   "outputs": [
    {
     "data": {
      "text/plain": "['Location', 'WindGustDir', 'WindDir9am', 'WindDir3pm', 'RainToday']"
     },
     "execution_count": 139,
     "metadata": {},
     "output_type": "execute_result"
    }
   ],
   "source": [
    "col_categorical"
   ],
   "metadata": {
    "collapsed": false
   }
  },
  {
   "cell_type": "markdown",
   "source": [
    "## Ensemble of models"
   ],
   "metadata": {
    "collapsed": false
   }
  },
  {
   "cell_type": "code",
   "execution_count": 140,
   "outputs": [],
   "source": [
    "# Ensemble of models\n",
    "estimator = []\n",
    "estimator.append(('lrc',LogisticRegression(warm_start=True, max_iter=400)))\n",
    "estimator.append(('xgb', XGBClassifier(tree_method=\"hist\", verbosity=0, silent=True)))\n",
    "estimator.append(('rfc', RandomForestClassifier()))\n",
    "estimator.append(('dtc', DecisionTreeClassifier()))"
   ],
   "metadata": {
    "collapsed": false
   }
  },
  {
   "cell_type": "code",
   "execution_count": 141,
   "outputs": [],
   "source": [
    "from sklearn.feature_selection import VarianceThreshold\n",
    "from feature_engine.transformation import YeoJohnsonTransformer\n",
    "from sklearn2pmml.decoration import ContinuousDomain, OrdinalDomain\n",
    "from feature_engine.encoding import OrdinalEncoder\n",
    "from feature_engine.imputation import MeanMedianImputer, CategoricalImputer\n",
    "from feature_engine.selection import DropFeatures\n",
    "from feature_engine.datetime import DatetimeFeatures\n",
    "\n",
    "ppl_ensemble = Pipeline([\n",
    "    # Step 1: Feature Engineering\n",
    "    #('conv_datetime', DatetimeFeatures(features_to_extract=['year','month','day_of_month'], variables=col_datetime, missing_values='ignore')),\n",
    "    ('drop_constant', VarianceThreshold()),\n",
    "\n",
    "    # Step 2: Impute and scale features\n",
    "    ('cleaning', ColumnTransformer([\n",
    "        # Step 2.1: Apply steps for numerical features\n",
    "        ('num',make_pipeline(\n",
    "            SimpleImputer(strategy='median'),\n",
    "            StandardScaler()),\n",
    "         col_numerical),\n",
    "        # Step 2.2 Apply steps for categorial features\n",
    "        ('cat',make_pipeline(\n",
    "            SimpleImputer(strategy='most_frequent'),\n",
    "            OneHotEncoder(handle_unknown = 'ignore')),\n",
    "         col_categorical)])\n",
    "     ),\n",
    "\n",
    "    # Step 3: Features scaling\n",
    "   # ('scaler', StandardScaler()),\n",
    "\n",
    "    # Step 4: Voting Classifier\n",
    "    ('ensemble', VotingClassifier(estimators = estimator, voting ='soft'))\n",
    "\n",
    "])"
   ],
   "metadata": {
    "collapsed": false
   }
  },
  {
   "cell_type": "code",
   "execution_count": 142,
   "outputs": [
    {
     "data": {
      "text/plain": "Pipeline(steps=[('cleaning',\n                 ColumnTransformer(transformers=[('num',\n                                                  Pipeline(steps=[('simpleimputer',\n                                                                   SimpleImputer(strategy='median')),\n                                                                  ('standardscaler',\n                                                                   StandardScaler())]),\n                                                  ['MinTemp', 'MaxTemp',\n                                                   'Rainfall', 'WindGustSpeed',\n                                                   'WindSpeed9am',\n                                                   'WindSpeed3pm',\n                                                   'Humidity9am', 'Humidity3pm',\n                                                   'Pressure9am', 'Cloud9am',\n                                                   'Cloud3pm']),\n                                                 ('cat',\n                                                  Pipeline(steps=[('simpleimp...\n                                                                   OneHotEncoder(handle_unknown='ignore'))]),\n                                                  ['Location', 'WindGustDir',\n                                                   'WindDir9am', 'WindDir3pm',\n                                                   'RainToday'])])),\n                ('ensemble',\n                 VotingClassifier(estimators=[('lrc',\n                                               LogisticRegression(max_iter=400,\n                                                                  warm_start=True)),\n                                              ('xgb',\n                                               XGBClassifier(silent=True,\n                                                             tree_method='hist',\n                                                             verbosity=0)),\n                                              ('rfc', RandomForestClassifier()),\n                                              ('dtc',\n                                               DecisionTreeClassifier())],\n                                  voting='soft'))])",
      "text/html": "<style>#sk-container-id-10 {color: black;background-color: white;}#sk-container-id-10 pre{padding: 0;}#sk-container-id-10 div.sk-toggleable {background-color: white;}#sk-container-id-10 label.sk-toggleable__label {cursor: pointer;display: block;width: 100%;margin-bottom: 0;padding: 0.3em;box-sizing: border-box;text-align: center;}#sk-container-id-10 label.sk-toggleable__label-arrow:before {content: \"▸\";float: left;margin-right: 0.25em;color: #696969;}#sk-container-id-10 label.sk-toggleable__label-arrow:hover:before {color: black;}#sk-container-id-10 div.sk-estimator:hover label.sk-toggleable__label-arrow:before {color: black;}#sk-container-id-10 div.sk-toggleable__content {max-height: 0;max-width: 0;overflow: hidden;text-align: left;background-color: #f0f8ff;}#sk-container-id-10 div.sk-toggleable__content pre {margin: 0.2em;color: black;border-radius: 0.25em;background-color: #f0f8ff;}#sk-container-id-10 input.sk-toggleable__control:checked~div.sk-toggleable__content {max-height: 200px;max-width: 100%;overflow: auto;}#sk-container-id-10 input.sk-toggleable__control:checked~label.sk-toggleable__label-arrow:before {content: \"▾\";}#sk-container-id-10 div.sk-estimator input.sk-toggleable__control:checked~label.sk-toggleable__label {background-color: #d4ebff;}#sk-container-id-10 div.sk-label input.sk-toggleable__control:checked~label.sk-toggleable__label {background-color: #d4ebff;}#sk-container-id-10 input.sk-hidden--visually {border: 0;clip: rect(1px 1px 1px 1px);clip: rect(1px, 1px, 1px, 1px);height: 1px;margin: -1px;overflow: hidden;padding: 0;position: absolute;width: 1px;}#sk-container-id-10 div.sk-estimator {font-family: monospace;background-color: #f0f8ff;border: 1px dotted black;border-radius: 0.25em;box-sizing: border-box;margin-bottom: 0.5em;}#sk-container-id-10 div.sk-estimator:hover {background-color: #d4ebff;}#sk-container-id-10 div.sk-parallel-item::after {content: \"\";width: 100%;border-bottom: 1px solid gray;flex-grow: 1;}#sk-container-id-10 div.sk-label:hover label.sk-toggleable__label {background-color: #d4ebff;}#sk-container-id-10 div.sk-serial::before {content: \"\";position: absolute;border-left: 1px solid gray;box-sizing: border-box;top: 0;bottom: 0;left: 50%;z-index: 0;}#sk-container-id-10 div.sk-serial {display: flex;flex-direction: column;align-items: center;background-color: white;padding-right: 0.2em;padding-left: 0.2em;position: relative;}#sk-container-id-10 div.sk-item {position: relative;z-index: 1;}#sk-container-id-10 div.sk-parallel {display: flex;align-items: stretch;justify-content: center;background-color: white;position: relative;}#sk-container-id-10 div.sk-item::before, #sk-container-id-10 div.sk-parallel-item::before {content: \"\";position: absolute;border-left: 1px solid gray;box-sizing: border-box;top: 0;bottom: 0;left: 50%;z-index: -1;}#sk-container-id-10 div.sk-parallel-item {display: flex;flex-direction: column;z-index: 1;position: relative;background-color: white;}#sk-container-id-10 div.sk-parallel-item:first-child::after {align-self: flex-end;width: 50%;}#sk-container-id-10 div.sk-parallel-item:last-child::after {align-self: flex-start;width: 50%;}#sk-container-id-10 div.sk-parallel-item:only-child::after {width: 0;}#sk-container-id-10 div.sk-dashed-wrapped {border: 1px dashed gray;margin: 0 0.4em 0.5em 0.4em;box-sizing: border-box;padding-bottom: 0.4em;background-color: white;}#sk-container-id-10 div.sk-label label {font-family: monospace;font-weight: bold;display: inline-block;line-height: 1.2em;}#sk-container-id-10 div.sk-label-container {text-align: center;}#sk-container-id-10 div.sk-container {/* jupyter's `normalize.less` sets `[hidden] { display: none; }` but bootstrap.min.css set `[hidden] { display: none !important; }` so we also need the `!important` here to be able to override the default hidden behavior on the sphinx rendered scikit-learn.org. See: https://github.com/scikit-learn/scikit-learn/issues/21755 */display: inline-block !important;position: relative;}#sk-container-id-10 div.sk-text-repr-fallback {display: none;}</style><div id=\"sk-container-id-10\" class=\"sk-top-container\"><div class=\"sk-text-repr-fallback\"><pre>Pipeline(steps=[(&#x27;cleaning&#x27;,\n                 ColumnTransformer(transformers=[(&#x27;num&#x27;,\n                                                  Pipeline(steps=[(&#x27;simpleimputer&#x27;,\n                                                                   SimpleImputer(strategy=&#x27;median&#x27;)),\n                                                                  (&#x27;standardscaler&#x27;,\n                                                                   StandardScaler())]),\n                                                  [&#x27;MinTemp&#x27;, &#x27;MaxTemp&#x27;,\n                                                   &#x27;Rainfall&#x27;, &#x27;WindGustSpeed&#x27;,\n                                                   &#x27;WindSpeed9am&#x27;,\n                                                   &#x27;WindSpeed3pm&#x27;,\n                                                   &#x27;Humidity9am&#x27;, &#x27;Humidity3pm&#x27;,\n                                                   &#x27;Pressure9am&#x27;, &#x27;Cloud9am&#x27;,\n                                                   &#x27;Cloud3pm&#x27;]),\n                                                 (&#x27;cat&#x27;,\n                                                  Pipeline(steps=[(&#x27;simpleimp...\n                                                                   OneHotEncoder(handle_unknown=&#x27;ignore&#x27;))]),\n                                                  [&#x27;Location&#x27;, &#x27;WindGustDir&#x27;,\n                                                   &#x27;WindDir9am&#x27;, &#x27;WindDir3pm&#x27;,\n                                                   &#x27;RainToday&#x27;])])),\n                (&#x27;ensemble&#x27;,\n                 VotingClassifier(estimators=[(&#x27;lrc&#x27;,\n                                               LogisticRegression(max_iter=400,\n                                                                  warm_start=True)),\n                                              (&#x27;xgb&#x27;,\n                                               XGBClassifier(silent=True,\n                                                             tree_method=&#x27;hist&#x27;,\n                                                             verbosity=0)),\n                                              (&#x27;rfc&#x27;, RandomForestClassifier()),\n                                              (&#x27;dtc&#x27;,\n                                               DecisionTreeClassifier())],\n                                  voting=&#x27;soft&#x27;))])</pre><b>In a Jupyter environment, please rerun this cell to show the HTML representation or trust the notebook. <br />On GitHub, the HTML representation is unable to render, please try loading this page with nbviewer.org.</b></div><div class=\"sk-container\" hidden><div class=\"sk-item sk-dashed-wrapped\"><div class=\"sk-label-container\"><div class=\"sk-label sk-toggleable\"><input class=\"sk-toggleable__control sk-hidden--visually\" id=\"sk-estimator-id-128\" type=\"checkbox\" ><label for=\"sk-estimator-id-128\" class=\"sk-toggleable__label sk-toggleable__label-arrow\">Pipeline</label><div class=\"sk-toggleable__content\"><pre>Pipeline(steps=[(&#x27;cleaning&#x27;,\n                 ColumnTransformer(transformers=[(&#x27;num&#x27;,\n                                                  Pipeline(steps=[(&#x27;simpleimputer&#x27;,\n                                                                   SimpleImputer(strategy=&#x27;median&#x27;)),\n                                                                  (&#x27;standardscaler&#x27;,\n                                                                   StandardScaler())]),\n                                                  [&#x27;MinTemp&#x27;, &#x27;MaxTemp&#x27;,\n                                                   &#x27;Rainfall&#x27;, &#x27;WindGustSpeed&#x27;,\n                                                   &#x27;WindSpeed9am&#x27;,\n                                                   &#x27;WindSpeed3pm&#x27;,\n                                                   &#x27;Humidity9am&#x27;, &#x27;Humidity3pm&#x27;,\n                                                   &#x27;Pressure9am&#x27;, &#x27;Cloud9am&#x27;,\n                                                   &#x27;Cloud3pm&#x27;]),\n                                                 (&#x27;cat&#x27;,\n                                                  Pipeline(steps=[(&#x27;simpleimp...\n                                                                   OneHotEncoder(handle_unknown=&#x27;ignore&#x27;))]),\n                                                  [&#x27;Location&#x27;, &#x27;WindGustDir&#x27;,\n                                                   &#x27;WindDir9am&#x27;, &#x27;WindDir3pm&#x27;,\n                                                   &#x27;RainToday&#x27;])])),\n                (&#x27;ensemble&#x27;,\n                 VotingClassifier(estimators=[(&#x27;lrc&#x27;,\n                                               LogisticRegression(max_iter=400,\n                                                                  warm_start=True)),\n                                              (&#x27;xgb&#x27;,\n                                               XGBClassifier(silent=True,\n                                                             tree_method=&#x27;hist&#x27;,\n                                                             verbosity=0)),\n                                              (&#x27;rfc&#x27;, RandomForestClassifier()),\n                                              (&#x27;dtc&#x27;,\n                                               DecisionTreeClassifier())],\n                                  voting=&#x27;soft&#x27;))])</pre></div></div></div><div class=\"sk-serial\"><div class=\"sk-item sk-dashed-wrapped\"><div class=\"sk-label-container\"><div class=\"sk-label sk-toggleable\"><input class=\"sk-toggleable__control sk-hidden--visually\" id=\"sk-estimator-id-129\" type=\"checkbox\" ><label for=\"sk-estimator-id-129\" class=\"sk-toggleable__label sk-toggleable__label-arrow\">cleaning: ColumnTransformer</label><div class=\"sk-toggleable__content\"><pre>ColumnTransformer(transformers=[(&#x27;num&#x27;,\n                                 Pipeline(steps=[(&#x27;simpleimputer&#x27;,\n                                                  SimpleImputer(strategy=&#x27;median&#x27;)),\n                                                 (&#x27;standardscaler&#x27;,\n                                                  StandardScaler())]),\n                                 [&#x27;MinTemp&#x27;, &#x27;MaxTemp&#x27;, &#x27;Rainfall&#x27;,\n                                  &#x27;WindGustSpeed&#x27;, &#x27;WindSpeed9am&#x27;,\n                                  &#x27;WindSpeed3pm&#x27;, &#x27;Humidity9am&#x27;, &#x27;Humidity3pm&#x27;,\n                                  &#x27;Pressure9am&#x27;, &#x27;Cloud9am&#x27;, &#x27;Cloud3pm&#x27;]),\n                                (&#x27;cat&#x27;,\n                                 Pipeline(steps=[(&#x27;simpleimputer&#x27;,\n                                                  SimpleImputer(strategy=&#x27;most_frequent&#x27;)),\n                                                 (&#x27;onehotencoder&#x27;,\n                                                  OneHotEncoder(handle_unknown=&#x27;ignore&#x27;))]),\n                                 [&#x27;Location&#x27;, &#x27;WindGustDir&#x27;, &#x27;WindDir9am&#x27;,\n                                  &#x27;WindDir3pm&#x27;, &#x27;RainToday&#x27;])])</pre></div></div></div><div class=\"sk-parallel\"><div class=\"sk-parallel-item\"><div class=\"sk-item\"><div class=\"sk-label-container\"><div class=\"sk-label sk-toggleable\"><input class=\"sk-toggleable__control sk-hidden--visually\" id=\"sk-estimator-id-130\" type=\"checkbox\" ><label for=\"sk-estimator-id-130\" class=\"sk-toggleable__label sk-toggleable__label-arrow\">num</label><div class=\"sk-toggleable__content\"><pre>[&#x27;MinTemp&#x27;, &#x27;MaxTemp&#x27;, &#x27;Rainfall&#x27;, &#x27;WindGustSpeed&#x27;, &#x27;WindSpeed9am&#x27;, &#x27;WindSpeed3pm&#x27;, &#x27;Humidity9am&#x27;, &#x27;Humidity3pm&#x27;, &#x27;Pressure9am&#x27;, &#x27;Cloud9am&#x27;, &#x27;Cloud3pm&#x27;]</pre></div></div></div><div class=\"sk-serial\"><div class=\"sk-item\"><div class=\"sk-serial\"><div class=\"sk-item\"><div class=\"sk-estimator sk-toggleable\"><input class=\"sk-toggleable__control sk-hidden--visually\" id=\"sk-estimator-id-131\" type=\"checkbox\" ><label for=\"sk-estimator-id-131\" class=\"sk-toggleable__label sk-toggleable__label-arrow\">SimpleImputer</label><div class=\"sk-toggleable__content\"><pre>SimpleImputer(strategy=&#x27;median&#x27;)</pre></div></div></div><div class=\"sk-item\"><div class=\"sk-estimator sk-toggleable\"><input class=\"sk-toggleable__control sk-hidden--visually\" id=\"sk-estimator-id-132\" type=\"checkbox\" ><label for=\"sk-estimator-id-132\" class=\"sk-toggleable__label sk-toggleable__label-arrow\">StandardScaler</label><div class=\"sk-toggleable__content\"><pre>StandardScaler()</pre></div></div></div></div></div></div></div></div><div class=\"sk-parallel-item\"><div class=\"sk-item\"><div class=\"sk-label-container\"><div class=\"sk-label sk-toggleable\"><input class=\"sk-toggleable__control sk-hidden--visually\" id=\"sk-estimator-id-133\" type=\"checkbox\" ><label for=\"sk-estimator-id-133\" class=\"sk-toggleable__label sk-toggleable__label-arrow\">cat</label><div class=\"sk-toggleable__content\"><pre>[&#x27;Location&#x27;, &#x27;WindGustDir&#x27;, &#x27;WindDir9am&#x27;, &#x27;WindDir3pm&#x27;, &#x27;RainToday&#x27;]</pre></div></div></div><div class=\"sk-serial\"><div class=\"sk-item\"><div class=\"sk-serial\"><div class=\"sk-item\"><div class=\"sk-estimator sk-toggleable\"><input class=\"sk-toggleable__control sk-hidden--visually\" id=\"sk-estimator-id-134\" type=\"checkbox\" ><label for=\"sk-estimator-id-134\" class=\"sk-toggleable__label sk-toggleable__label-arrow\">SimpleImputer</label><div class=\"sk-toggleable__content\"><pre>SimpleImputer(strategy=&#x27;most_frequent&#x27;)</pre></div></div></div><div class=\"sk-item\"><div class=\"sk-estimator sk-toggleable\"><input class=\"sk-toggleable__control sk-hidden--visually\" id=\"sk-estimator-id-135\" type=\"checkbox\" ><label for=\"sk-estimator-id-135\" class=\"sk-toggleable__label sk-toggleable__label-arrow\">OneHotEncoder</label><div class=\"sk-toggleable__content\"><pre>OneHotEncoder(handle_unknown=&#x27;ignore&#x27;)</pre></div></div></div></div></div></div></div></div></div></div><div class=\"sk-item sk-dashed-wrapped\"><div class=\"sk-label-container\"><div class=\"sk-label sk-toggleable\"><input class=\"sk-toggleable__control sk-hidden--visually\" id=\"sk-estimator-id-136\" type=\"checkbox\" ><label for=\"sk-estimator-id-136\" class=\"sk-toggleable__label sk-toggleable__label-arrow\">ensemble: VotingClassifier</label><div class=\"sk-toggleable__content\"><pre>VotingClassifier(estimators=[(&#x27;lrc&#x27;,\n                              LogisticRegression(max_iter=400,\n                                                 warm_start=True)),\n                             (&#x27;xgb&#x27;,\n                              XGBClassifier(silent=True, tree_method=&#x27;hist&#x27;,\n                                            verbosity=0)),\n                             (&#x27;rfc&#x27;, RandomForestClassifier()),\n                             (&#x27;dtc&#x27;, DecisionTreeClassifier())],\n                 voting=&#x27;soft&#x27;)</pre></div></div></div><div class=\"sk-parallel\"><div class=\"sk-parallel-item\"><div class=\"sk-item\"><div class=\"sk-label-container\"><div class=\"sk-label sk-toggleable\"><label>lrc</label></div></div><div class=\"sk-serial\"><div class=\"sk-item\"><div class=\"sk-estimator sk-toggleable\"><input class=\"sk-toggleable__control sk-hidden--visually\" id=\"sk-estimator-id-137\" type=\"checkbox\" ><label for=\"sk-estimator-id-137\" class=\"sk-toggleable__label sk-toggleable__label-arrow\">LogisticRegression</label><div class=\"sk-toggleable__content\"><pre>LogisticRegression(max_iter=400, warm_start=True)</pre></div></div></div></div></div></div><div class=\"sk-parallel-item\"><div class=\"sk-item\"><div class=\"sk-label-container\"><div class=\"sk-label sk-toggleable\"><label>xgb</label></div></div><div class=\"sk-serial\"><div class=\"sk-item\"><div class=\"sk-estimator sk-toggleable\"><input class=\"sk-toggleable__control sk-hidden--visually\" id=\"sk-estimator-id-138\" type=\"checkbox\" ><label for=\"sk-estimator-id-138\" class=\"sk-toggleable__label sk-toggleable__label-arrow\">XGBClassifier</label><div class=\"sk-toggleable__content\"><pre>XGBClassifier(silent=True, tree_method=&#x27;hist&#x27;, verbosity=0)</pre></div></div></div></div></div></div><div class=\"sk-parallel-item\"><div class=\"sk-item\"><div class=\"sk-label-container\"><div class=\"sk-label sk-toggleable\"><label>rfc</label></div></div><div class=\"sk-serial\"><div class=\"sk-item\"><div class=\"sk-estimator sk-toggleable\"><input class=\"sk-toggleable__control sk-hidden--visually\" id=\"sk-estimator-id-139\" type=\"checkbox\" ><label for=\"sk-estimator-id-139\" class=\"sk-toggleable__label sk-toggleable__label-arrow\">RandomForestClassifier</label><div class=\"sk-toggleable__content\"><pre>RandomForestClassifier()</pre></div></div></div></div></div></div><div class=\"sk-parallel-item\"><div class=\"sk-item\"><div class=\"sk-label-container\"><div class=\"sk-label sk-toggleable\"><label>dtc</label></div></div><div class=\"sk-serial\"><div class=\"sk-item\"><div class=\"sk-estimator sk-toggleable\"><input class=\"sk-toggleable__control sk-hidden--visually\" id=\"sk-estimator-id-140\" type=\"checkbox\" ><label for=\"sk-estimator-id-140\" class=\"sk-toggleable__label sk-toggleable__label-arrow\">DecisionTreeClassifier</label><div class=\"sk-toggleable__content\"><pre>DecisionTreeClassifier()</pre></div></div></div></div></div></div></div></div></div></div></div></div>"
     },
     "metadata": {},
     "output_type": "display_data"
    }
   ],
   "source": [
    "display(ppl_ensemble)"
   ],
   "metadata": {
    "collapsed": false
   }
  },
  {
   "cell_type": "markdown",
   "source": [
    "## Hyper-parameter Tuning"
   ],
   "metadata": {
    "collapsed": false
   }
  },
  {
   "cell_type": "code",
   "execution_count": 143,
   "outputs": [
    {
     "data": {
      "text/plain": "{'memory': None,\n 'steps': [('cleaning', ColumnTransformer(transformers=[('num',\n                                    Pipeline(steps=[('simpleimputer',\n                                                     SimpleImputer(strategy='median')),\n                                                    ('standardscaler',\n                                                     StandardScaler())]),\n                                    ['MinTemp', 'MaxTemp', 'Rainfall',\n                                     'WindGustSpeed', 'WindSpeed9am',\n                                     'WindSpeed3pm', 'Humidity9am', 'Humidity3pm',\n                                     'Pressure9am', 'Cloud9am', 'Cloud3pm']),\n                                   ('cat',\n                                    Pipeline(steps=[('simpleimputer',\n                                                     SimpleImputer(strategy='most_frequent')),\n                                                    ('onehotencoder',\n                                                     OneHotEncoder(handle_unknown='ignore'))]),\n                                    ['Location', 'WindGustDir', 'WindDir9am',\n                                     'WindDir3pm', 'RainToday'])])),\n  ('ensemble',\n   VotingClassifier(estimators=[('lrc',\n                                 LogisticRegression(max_iter=400,\n                                                    warm_start=True)),\n                                ('xgb',\n                                 XGBClassifier(silent=True, tree_method='hist',\n                                               verbosity=0)),\n                                ('rfc', RandomForestClassifier()),\n                                ('dtc', DecisionTreeClassifier())],\n                    voting='soft'))],\n 'verbose': False,\n 'cleaning': ColumnTransformer(transformers=[('num',\n                                  Pipeline(steps=[('simpleimputer',\n                                                   SimpleImputer(strategy='median')),\n                                                  ('standardscaler',\n                                                   StandardScaler())]),\n                                  ['MinTemp', 'MaxTemp', 'Rainfall',\n                                   'WindGustSpeed', 'WindSpeed9am',\n                                   'WindSpeed3pm', 'Humidity9am', 'Humidity3pm',\n                                   'Pressure9am', 'Cloud9am', 'Cloud3pm']),\n                                 ('cat',\n                                  Pipeline(steps=[('simpleimputer',\n                                                   SimpleImputer(strategy='most_frequent')),\n                                                  ('onehotencoder',\n                                                   OneHotEncoder(handle_unknown='ignore'))]),\n                                  ['Location', 'WindGustDir', 'WindDir9am',\n                                   'WindDir3pm', 'RainToday'])]),\n 'ensemble': VotingClassifier(estimators=[('lrc',\n                               LogisticRegression(max_iter=400,\n                                                  warm_start=True)),\n                              ('xgb',\n                               XGBClassifier(silent=True, tree_method='hist',\n                                             verbosity=0)),\n                              ('rfc', RandomForestClassifier()),\n                              ('dtc', DecisionTreeClassifier())],\n                  voting='soft'),\n 'cleaning__n_jobs': None,\n 'cleaning__remainder': 'drop',\n 'cleaning__sparse_threshold': 0.3,\n 'cleaning__transformer_weights': None,\n 'cleaning__transformers': [('num',\n   Pipeline(steps=[('simpleimputer', SimpleImputer(strategy='median')),\n                   ('standardscaler', StandardScaler())]),\n   ['MinTemp',\n    'MaxTemp',\n    'Rainfall',\n    'WindGustSpeed',\n    'WindSpeed9am',\n    'WindSpeed3pm',\n    'Humidity9am',\n    'Humidity3pm',\n    'Pressure9am',\n    'Cloud9am',\n    'Cloud3pm']),\n  ('cat',\n   Pipeline(steps=[('simpleimputer', SimpleImputer(strategy='most_frequent')),\n                   ('onehotencoder', OneHotEncoder(handle_unknown='ignore'))]),\n   ['Location', 'WindGustDir', 'WindDir9am', 'WindDir3pm', 'RainToday'])],\n 'cleaning__verbose': False,\n 'cleaning__verbose_feature_names_out': True,\n 'cleaning__num': Pipeline(steps=[('simpleimputer', SimpleImputer(strategy='median')),\n                 ('standardscaler', StandardScaler())]),\n 'cleaning__cat': Pipeline(steps=[('simpleimputer', SimpleImputer(strategy='most_frequent')),\n                 ('onehotencoder', OneHotEncoder(handle_unknown='ignore'))]),\n 'cleaning__num__memory': None,\n 'cleaning__num__steps': [('simpleimputer', SimpleImputer(strategy='median')),\n  ('standardscaler', StandardScaler())],\n 'cleaning__num__verbose': False,\n 'cleaning__num__simpleimputer': SimpleImputer(strategy='median'),\n 'cleaning__num__standardscaler': StandardScaler(),\n 'cleaning__num__simpleimputer__add_indicator': False,\n 'cleaning__num__simpleimputer__copy': True,\n 'cleaning__num__simpleimputer__fill_value': None,\n 'cleaning__num__simpleimputer__keep_empty_features': False,\n 'cleaning__num__simpleimputer__missing_values': nan,\n 'cleaning__num__simpleimputer__strategy': 'median',\n 'cleaning__num__simpleimputer__verbose': 'deprecated',\n 'cleaning__num__standardscaler__copy': True,\n 'cleaning__num__standardscaler__with_mean': True,\n 'cleaning__num__standardscaler__with_std': True,\n 'cleaning__cat__memory': None,\n 'cleaning__cat__steps': [('simpleimputer',\n   SimpleImputer(strategy='most_frequent')),\n  ('onehotencoder', OneHotEncoder(handle_unknown='ignore'))],\n 'cleaning__cat__verbose': False,\n 'cleaning__cat__simpleimputer': SimpleImputer(strategy='most_frequent'),\n 'cleaning__cat__onehotencoder': OneHotEncoder(handle_unknown='ignore'),\n 'cleaning__cat__simpleimputer__add_indicator': False,\n 'cleaning__cat__simpleimputer__copy': True,\n 'cleaning__cat__simpleimputer__fill_value': None,\n 'cleaning__cat__simpleimputer__keep_empty_features': False,\n 'cleaning__cat__simpleimputer__missing_values': nan,\n 'cleaning__cat__simpleimputer__strategy': 'most_frequent',\n 'cleaning__cat__simpleimputer__verbose': 'deprecated',\n 'cleaning__cat__onehotencoder__categories': 'auto',\n 'cleaning__cat__onehotencoder__drop': None,\n 'cleaning__cat__onehotencoder__dtype': numpy.float64,\n 'cleaning__cat__onehotencoder__handle_unknown': 'ignore',\n 'cleaning__cat__onehotencoder__max_categories': None,\n 'cleaning__cat__onehotencoder__min_frequency': None,\n 'cleaning__cat__onehotencoder__sparse': 'deprecated',\n 'cleaning__cat__onehotencoder__sparse_output': True,\n 'ensemble__estimators': [('lrc',\n   LogisticRegression(max_iter=400, warm_start=True)),\n  ('xgb', XGBClassifier(silent=True, tree_method='hist', verbosity=0)),\n  ('rfc', RandomForestClassifier()),\n  ('dtc', DecisionTreeClassifier())],\n 'ensemble__flatten_transform': True,\n 'ensemble__n_jobs': None,\n 'ensemble__verbose': False,\n 'ensemble__voting': 'soft',\n 'ensemble__weights': None,\n 'ensemble__lrc': LogisticRegression(max_iter=400, warm_start=True),\n 'ensemble__xgb': XGBClassifier(silent=True, tree_method='hist', verbosity=0),\n 'ensemble__rfc': RandomForestClassifier(),\n 'ensemble__dtc': DecisionTreeClassifier(),\n 'ensemble__lrc__C': 1.0,\n 'ensemble__lrc__class_weight': None,\n 'ensemble__lrc__dual': False,\n 'ensemble__lrc__fit_intercept': True,\n 'ensemble__lrc__intercept_scaling': 1,\n 'ensemble__lrc__l1_ratio': None,\n 'ensemble__lrc__max_iter': 400,\n 'ensemble__lrc__multi_class': 'auto',\n 'ensemble__lrc__n_jobs': None,\n 'ensemble__lrc__penalty': 'l2',\n 'ensemble__lrc__random_state': None,\n 'ensemble__lrc__solver': 'lbfgs',\n 'ensemble__lrc__tol': 0.0001,\n 'ensemble__lrc__verbose': 0,\n 'ensemble__lrc__warm_start': True,\n 'ensemble__xgb__base_score': 0.5,\n 'ensemble__xgb__booster': 'gbtree',\n 'ensemble__xgb__colsample_bylevel': 1,\n 'ensemble__xgb__colsample_bynode': 1,\n 'ensemble__xgb__colsample_bytree': 1,\n 'ensemble__xgb__gamma': 0,\n 'ensemble__xgb__learning_rate': 0.1,\n 'ensemble__xgb__max_delta_step': 0,\n 'ensemble__xgb__max_depth': 3,\n 'ensemble__xgb__min_child_weight': 1,\n 'ensemble__xgb__missing': None,\n 'ensemble__xgb__n_estimators': 100,\n 'ensemble__xgb__n_jobs': 1,\n 'ensemble__xgb__nthread': None,\n 'ensemble__xgb__objective': 'binary:logistic',\n 'ensemble__xgb__random_state': 0,\n 'ensemble__xgb__reg_alpha': 0,\n 'ensemble__xgb__reg_lambda': 1,\n 'ensemble__xgb__scale_pos_weight': 1,\n 'ensemble__xgb__seed': None,\n 'ensemble__xgb__silent': True,\n 'ensemble__xgb__subsample': 1,\n 'ensemble__xgb__verbosity': 0,\n 'ensemble__xgb__tree_method': 'hist',\n 'ensemble__rfc__bootstrap': True,\n 'ensemble__rfc__ccp_alpha': 0.0,\n 'ensemble__rfc__class_weight': None,\n 'ensemble__rfc__criterion': 'gini',\n 'ensemble__rfc__max_depth': None,\n 'ensemble__rfc__max_features': 'sqrt',\n 'ensemble__rfc__max_leaf_nodes': None,\n 'ensemble__rfc__max_samples': None,\n 'ensemble__rfc__min_impurity_decrease': 0.0,\n 'ensemble__rfc__min_samples_leaf': 1,\n 'ensemble__rfc__min_samples_split': 2,\n 'ensemble__rfc__min_weight_fraction_leaf': 0.0,\n 'ensemble__rfc__n_estimators': 100,\n 'ensemble__rfc__n_jobs': None,\n 'ensemble__rfc__oob_score': False,\n 'ensemble__rfc__random_state': None,\n 'ensemble__rfc__verbose': 0,\n 'ensemble__rfc__warm_start': False,\n 'ensemble__dtc__ccp_alpha': 0.0,\n 'ensemble__dtc__class_weight': None,\n 'ensemble__dtc__criterion': 'gini',\n 'ensemble__dtc__max_depth': None,\n 'ensemble__dtc__max_features': None,\n 'ensemble__dtc__max_leaf_nodes': None,\n 'ensemble__dtc__min_impurity_decrease': 0.0,\n 'ensemble__dtc__min_samples_leaf': 1,\n 'ensemble__dtc__min_samples_split': 2,\n 'ensemble__dtc__min_weight_fraction_leaf': 0.0,\n 'ensemble__dtc__random_state': None,\n 'ensemble__dtc__splitter': 'best'}"
     },
     "execution_count": 143,
     "metadata": {},
     "output_type": "execute_result"
    }
   ],
   "source": [
    "ppl_ensemble.get_params()"
   ],
   "metadata": {
    "collapsed": false
   }
  },
  {
   "cell_type": "code",
   "execution_count": 144,
   "outputs": [],
   "source": [
    "# Hyper-parameter\n",
    "hyper_params = {\n",
    "    'ensemble__lrc__solver': ['newton-cg'],\n",
    "    'ensemble__xgb__reg_alpha': [0.1,0.5],\n",
    "    'ensemble__rfc__max_depth': [7,10],\n",
    "    'ensemble__dtc__max_depth': [7,10]\n",
    "}\n",
    "\n",
    "cv_rsf = RepeatedStratifiedKFold(n_splits=2, n_repeats=1)"
   ],
   "metadata": {
    "collapsed": false
   }
  },
  {
   "cell_type": "code",
   "execution_count": 145,
   "outputs": [
    {
     "name": "stdout",
     "output_type": "stream",
     "text": [
      "Fitting 2 folds for each of 8 candidates, totalling 16 fits\n",
      "[CV] END ensemble__dtc__max_depth=7, ensemble__lrc__solver=newton-cg, ensemble__rfc__max_depth=7, ensemble__xgb__reg_alpha=0.1; total time=   1.7s\n",
      "[CV] END ensemble__dtc__max_depth=7, ensemble__lrc__solver=newton-cg, ensemble__rfc__max_depth=7, ensemble__xgb__reg_alpha=0.1; total time=   1.7s\n",
      "[CV] END ensemble__dtc__max_depth=7, ensemble__lrc__solver=newton-cg, ensemble__rfc__max_depth=7, ensemble__xgb__reg_alpha=0.5; total time=   1.7s\n",
      "[CV] END ensemble__dtc__max_depth=7, ensemble__lrc__solver=newton-cg, ensemble__rfc__max_depth=7, ensemble__xgb__reg_alpha=0.5; total time=   1.6s\n",
      "[CV] END ensemble__dtc__max_depth=7, ensemble__lrc__solver=newton-cg, ensemble__rfc__max_depth=10, ensemble__xgb__reg_alpha=0.1; total time=   2.5s\n",
      "[CV] END ensemble__dtc__max_depth=7, ensemble__lrc__solver=newton-cg, ensemble__rfc__max_depth=10, ensemble__xgb__reg_alpha=0.1; total time=   2.7s\n",
      "[CV] END ensemble__dtc__max_depth=7, ensemble__lrc__solver=newton-cg, ensemble__rfc__max_depth=10, ensemble__xgb__reg_alpha=0.5; total time=   2.4s\n",
      "[CV] END ensemble__dtc__max_depth=7, ensemble__lrc__solver=newton-cg, ensemble__rfc__max_depth=10, ensemble__xgb__reg_alpha=0.5; total time=   2.6s\n",
      "[CV] END ensemble__dtc__max_depth=10, ensemble__lrc__solver=newton-cg, ensemble__rfc__max_depth=7, ensemble__xgb__reg_alpha=0.1; total time=   1.7s\n",
      "[CV] END ensemble__dtc__max_depth=10, ensemble__lrc__solver=newton-cg, ensemble__rfc__max_depth=7, ensemble__xgb__reg_alpha=0.1; total time=   1.8s\n",
      "[CV] END ensemble__dtc__max_depth=10, ensemble__lrc__solver=newton-cg, ensemble__rfc__max_depth=7, ensemble__xgb__reg_alpha=0.5; total time=   1.7s\n",
      "[CV] END ensemble__dtc__max_depth=10, ensemble__lrc__solver=newton-cg, ensemble__rfc__max_depth=7, ensemble__xgb__reg_alpha=0.5; total time=   1.8s\n",
      "[CV] END ensemble__dtc__max_depth=10, ensemble__lrc__solver=newton-cg, ensemble__rfc__max_depth=10, ensemble__xgb__reg_alpha=0.1; total time=   2.6s\n",
      "[CV] END ensemble__dtc__max_depth=10, ensemble__lrc__solver=newton-cg, ensemble__rfc__max_depth=10, ensemble__xgb__reg_alpha=0.1; total time=   2.7s\n",
      "[CV] END ensemble__dtc__max_depth=10, ensemble__lrc__solver=newton-cg, ensemble__rfc__max_depth=10, ensemble__xgb__reg_alpha=0.5; total time=   2.7s\n",
      "[CV] END ensemble__dtc__max_depth=10, ensemble__lrc__solver=newton-cg, ensemble__rfc__max_depth=10, ensemble__xgb__reg_alpha=0.5; total time=   2.6s\n"
     ]
    }
   ],
   "source": [
    "# Create pipeline with logistic regression as classifier\n",
    "ppl_tuning = PMMLPipeline(steps=[\n",
    "    ('hyper-tuning', RandomizedSearchCV(ppl_ensemble, param_distributions=hyper_params, scoring='roc_auc', verbose=2, cv=cv_rsf))\n",
    "])\n",
    "\n",
    "ppl_tuning.fit(X_train, y_train)\n",
    "ppl_tuning.verify(X_train.sample(n = 10))"
   ],
   "metadata": {
    "collapsed": false
   }
  },
  {
   "cell_type": "code",
   "execution_count": 146,
   "outputs": [],
   "source": [
    "# summarize result\n",
    "# print('Best Score: %s' % ppl_tuning.best_score_)\n",
    "# print('Best Hyperparameters: %s' % ppl_tuning.best_params_)"
   ],
   "metadata": {
    "collapsed": false
   }
  },
  {
   "cell_type": "code",
   "execution_count": 147,
   "outputs": [],
   "source": [
    "y_pred = ppl_tuning.predict(X_test)"
   ],
   "metadata": {
    "collapsed": false
   }
  },
  {
   "cell_type": "code",
   "execution_count": 148,
   "outputs": [
    {
     "name": "stdout",
     "output_type": "stream",
     "text": [
      "The model accuracy is: 84.6%\n",
      "The model f1 score is: 82.89999999999999%\n"
     ]
    }
   ],
   "source": [
    "# using accuracy_score\n",
    "from sklearn.metrics import f1_score\n",
    "\n",
    "print(f'The model accuracy is: {np.round(accuracy_score(y_test, y_pred), decimals=3)*100}%')\n",
    "print(f'The model f1 score is: {np.round(f1_score(y_test, y_pred, average=\"\"\"weighted\"\"\"), decimals=3)*100}%')"
   ],
   "metadata": {
    "collapsed": false
   }
  },
  {
   "cell_type": "code",
   "execution_count": 149,
   "outputs": [
    {
     "data": {
      "text/plain": "<Figure size 864x864 with 2 Axes>",
      "image/png": "[encoded data removed]"
     },
     "metadata": {
      "needs_background": "light"
     },
     "output_type": "display_data"
    }
   ],
   "source": [
    "from sklearn.metrics import confusion_matrix\n",
    "\n",
    "cm = confusion_matrix(y_test, y_pred, labels=ppl_tuning.classes_)\n",
    "plt.figure(figsize=(12, 12))\n",
    "cmap = sns.color_palette(\"Oranges\",12)\n",
    "sns.heatmap(data=cm, cmap=\"RdBu_r\", xticklabels=ppl_tuning.classes_, yticklabels=ppl_tuning.classes_, fmt='g', annot=True)\n",
    "plt.show()"
   ],
   "metadata": {
    "collapsed": false
   }
  },
  {
   "cell_type": "code",
   "execution_count": 150,
   "outputs": [
    {
     "data": {
      "text/plain": "<Figure size 2160x2160 with 0 Axes>"
     },
     "metadata": {},
     "output_type": "display_data"
    },
    {
     "data": {
      "text/plain": "<Figure size 432x288 with 1 Axes>",
      "image/png": "[encoded data removed]"
     },
     "metadata": {
      "needs_background": "light"
     },
     "output_type": "display_data"
    }
   ],
   "source": [
    "# https://inria.github.io/scikit-learn-mooc/python_scripts/dev_features_importance.html\n",
    "def plot_feature_importances(perm_importance_result, feat_name):\n",
    "    \"\"\" bar plot the feature importance \"\"\"\n",
    "    plt.figure(figsize=(30, 30))\n",
    "    fig, ax = plt.subplots()\n",
    "\n",
    "    indices = perm_importance_result['importances_mean'].argsort()\n",
    "    plt.barh(range(len(indices)),\n",
    "             perm_importance_result['importances_mean'][indices],\n",
    "             xerr=perm_importance_result['importances_std'][indices])\n",
    "\n",
    "    ax.set_yticks(range(len(indices)))\n",
    "    tmp = np.array(feat_name)\n",
    "    ax.set_yticklabels(tmp[indices])\n",
    "    ax.set_title(\"Permutation importance\")\n",
    "\n",
    "ppl_ensemble.fit(X_test,y_test)\n",
    "features = ppl_ensemble.feature_names_in_\n",
    "perm_importance_result_train = permutation_importance(ppl_tuning, X_test, y_test)\n",
    "plot_feature_importances(perm_importance_result_train, features)"
   ],
   "metadata": {
    "collapsed": false
   }
  },
  {
   "cell_type": "markdown",
   "source": [
    "## Save the model"
   ],
   "metadata": {
    "collapsed": false
   }
  },
  {
   "cell_type": "code",
   "execution_count": 151,
   "outputs": [],
   "source": [
    "# Save the best model in PMML format\n",
    "sklearn2pmml(ppl_tuning, \"../../../data/weather-classification-ensemble-classifier.pmml\")"
   ],
   "metadata": {
    "collapsed": false
   }
  },
  {
   "cell_type": "code",
   "execution_count": null,
   "outputs": [],
   "source": [],
   "metadata": {
    "collapsed": false
   }
  }
 ],
 "metadata": {
  "kernelspec": {
   "display_name": "Python 3",
   "language": "python",
   "name": "python3"
  },
  "language_info": {
   "codemirror_mode": {
    "name": "ipython",
    "version": 2
   },
   "file_extension": ".py",
   "mimetype": "text/x-python",
   "name": "python",
   "nbconvert_exporter": "python",
   "pygments_lexer": "ipython2",
   "version": "2.7.6"
  }
 },
 "nbformat": 4,
 "nbformat_minor": 0
}
