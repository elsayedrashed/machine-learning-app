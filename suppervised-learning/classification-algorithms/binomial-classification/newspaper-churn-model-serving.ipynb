{
 "cells": [
  {
   "cell_type": "markdown",
   "source": [
    "## Newspaper Churn\n",
    "### Model Serving"
   ],
   "metadata": {
    "collapsed": false
   }
  },
  {
   "cell_type": "code",
   "execution_count": 16,
   "outputs": [],
   "source": [
    "import pandas as pd\n",
    "\n",
    "# Features verification\n",
    "from feature_engine.preprocessing import MatchVariables\n",
    "# Categories verification\n",
    "from feature_engine.preprocessing import MatchCategories\n",
    "# Script Serving\n",
    "from jpmml_evaluator import make_evaluator\n",
    "from jpmml_evaluator.py4j import Py4JBackend\n",
    "# REST Serving\n",
    "from openscoring import Openscoring"
   ],
   "metadata": {
    "collapsed": false
   }
  },
  {
   "cell_type": "code",
   "execution_count": 17,
   "outputs": [],
   "source": [
    "import warnings\n",
    "warnings.filterwarnings('ignore')"
   ],
   "metadata": {
    "collapsed": false
   }
  },
  {
   "cell_type": "code",
   "execution_count": 28,
   "outputs": [],
   "source": [
    "# Data Import\n",
    "df = pd.read_csv('../../../data/newspaper-churn-train.csv')\n",
    "# Get sample dataset for model serving\n",
    "df_serve = df.sample(30)\n",
    "x_serve = df_serve.drop('target', axis=1)\n",
    "y_serve = df_serve[['target']]\n",
    "x_serve.reset_index(drop=True, inplace=True)\n",
    "y_serve.reset_index(drop=True, inplace=True)"
   ],
   "metadata": {
    "collapsed": false
   }
  },
  {
   "cell_type": "markdown",
   "source": [
    "## Features Verification"
   ],
   "metadata": {
    "collapsed": false
   }
  },
  {
   "cell_type": "code",
   "execution_count": 19,
   "outputs": [
    {
     "data": {
      "text/plain": "['HH Income',\n 'Home Ownership',\n 'Ethnicity',\n 'dummy for Children',\n 'Year Of Residence',\n 'Age range',\n 'Language',\n 'City',\n 'County',\n 'Zip Code',\n 'weekly fee',\n 'Deliveryperiod',\n 'Nielsen Prizm',\n 'reward program',\n 'Source Channel']"
     },
     "execution_count": 19,
     "metadata": {},
     "output_type": "execute_result"
    }
   ],
   "source": [
    "# Ensures that columns in serving set match those in train set\n",
    "x_train = df_serve.drop('target', axis=1)\n",
    "# Setup the transformer\n",
    "match_cols = MatchVariables(missing_values=\"ignore\")\n",
    "match_cols.fit(x_train)\n",
    "match_cols.feature_names_in_"
   ],
   "metadata": {
    "collapsed": false
   }
  },
  {
   "cell_type": "code",
   "execution_count": 20,
   "outputs": [
    {
     "data": {
      "text/plain": "             HH Income Home Ownership Ethnicity dummy for Children  \\\n0  $300,000 - $399,999          OWNER   English                  N   \n1  $  30,000 - $39,999          OWNER   English                  N   \n2        Under $20,000         RENTER  Hispanic                  N   \n3  $  90,000 - $99,999          OWNER   Italian                  N   \n4  $100,000 - $124,999          OWNER    Indian                  N   \n\n   Year Of Residence         Age range Language              City  \\\n0                 20  75 years or more  English  HUNTINGTON BEACH   \n1                 28             65-69  English       ALISO VIEJO   \n2                  5             70-74  Spanish      GARDEN GROVE   \n3                 22             55-59  English            IRVINE   \n4                  7             40-44  English       CHINO HILLS   \n\n           County  Zip Code     weekly fee Deliveryperiod Nielsen Prizm  \\\n0          ORANGE     92648  $5.00 - $5.99           7Day            MW   \n1          ORANGE     92655  $4.00 - $4.99           7Day            MM   \n2          ORANGE     92840  $3.00 - $3.99        THU-SUN            FE   \n3          ORANGE     92605  $3.00 - $3.99        SunOnly            MW   \n4  SAN BERNARDINO     91709  $0.01 - $0.50        SunOnly            FW   \n\n   reward program Source Channel  \n0               3       CustCall  \n1               2         TeleIn  \n2               0          Crew1  \n3               0        Partner  \n4               0        Partner  ",
      "text/html": "<div>\n<style scoped>\n    .dataframe tbody tr th:only-of-type {\n        vertical-align: middle;\n    }\n\n    .dataframe tbody tr th {\n        vertical-align: top;\n    }\n\n    .dataframe thead th {\n        text-align: right;\n    }\n</style>\n<table border=\"1\" class=\"dataframe\">\n  <thead>\n    <tr style=\"text-align: right;\">\n      <th></th>\n      <th>HH Income</th>\n      <th>Home Ownership</th>\n      <th>Ethnicity</th>\n      <th>dummy for Children</th>\n      <th>Year Of Residence</th>\n      <th>Age range</th>\n      <th>Language</th>\n      <th>City</th>\n      <th>County</th>\n      <th>Zip Code</th>\n      <th>weekly fee</th>\n      <th>Deliveryperiod</th>\n      <th>Nielsen Prizm</th>\n      <th>reward program</th>\n      <th>Source Channel</th>\n    </tr>\n  </thead>\n  <tbody>\n    <tr>\n      <th>0</th>\n      <td>$300,000 - $399,999</td>\n      <td>OWNER</td>\n      <td>English</td>\n      <td>N</td>\n      <td>20</td>\n      <td>75 years or more</td>\n      <td>English</td>\n      <td>HUNTINGTON BEACH</td>\n      <td>ORANGE</td>\n      <td>92648</td>\n      <td>$5.00 - $5.99</td>\n      <td>7Day</td>\n      <td>MW</td>\n      <td>3</td>\n      <td>CustCall</td>\n    </tr>\n    <tr>\n      <th>1</th>\n      <td>$  30,000 - $39,999</td>\n      <td>OWNER</td>\n      <td>English</td>\n      <td>N</td>\n      <td>28</td>\n      <td>65-69</td>\n      <td>English</td>\n      <td>ALISO VIEJO</td>\n      <td>ORANGE</td>\n      <td>92655</td>\n      <td>$4.00 - $4.99</td>\n      <td>7Day</td>\n      <td>MM</td>\n      <td>2</td>\n      <td>TeleIn</td>\n    </tr>\n    <tr>\n      <th>2</th>\n      <td>Under $20,000</td>\n      <td>RENTER</td>\n      <td>Hispanic</td>\n      <td>N</td>\n      <td>5</td>\n      <td>70-74</td>\n      <td>Spanish</td>\n      <td>GARDEN GROVE</td>\n      <td>ORANGE</td>\n      <td>92840</td>\n      <td>$3.00 - $3.99</td>\n      <td>THU-SUN</td>\n      <td>FE</td>\n      <td>0</td>\n      <td>Crew1</td>\n    </tr>\n    <tr>\n      <th>3</th>\n      <td>$  90,000 - $99,999</td>\n      <td>OWNER</td>\n      <td>Italian</td>\n      <td>N</td>\n      <td>22</td>\n      <td>55-59</td>\n      <td>English</td>\n      <td>IRVINE</td>\n      <td>ORANGE</td>\n      <td>92605</td>\n      <td>$3.00 - $3.99</td>\n      <td>SunOnly</td>\n      <td>MW</td>\n      <td>0</td>\n      <td>Partner</td>\n    </tr>\n    <tr>\n      <th>4</th>\n      <td>$100,000 - $124,999</td>\n      <td>OWNER</td>\n      <td>Indian</td>\n      <td>N</td>\n      <td>7</td>\n      <td>40-44</td>\n      <td>English</td>\n      <td>CHINO HILLS</td>\n      <td>SAN BERNARDINO</td>\n      <td>91709</td>\n      <td>$0.01 - $0.50</td>\n      <td>SunOnly</td>\n      <td>FW</td>\n      <td>0</td>\n      <td>Partner</td>\n    </tr>\n  </tbody>\n</table>\n</div>"
     },
     "execution_count": 20,
     "metadata": {},
     "output_type": "execute_result"
    }
   ],
   "source": [
    "# Run the transformer\n",
    "x_match = match_cols.transform(x_serve)\n",
    "x_match.head(5)"
   ],
   "metadata": {
    "collapsed": false
   }
  },
  {
   "cell_type": "markdown",
   "source": [
    "## Categories Verification"
   ],
   "metadata": {
    "collapsed": false
   }
  },
  {
   "cell_type": "code",
   "execution_count": 21,
   "outputs": [],
   "source": [
    "# Ensures categorical variables are of type ‘category’\n",
    "mc = MatchCategories(missing_values=\"ignore\")\n",
    "# mc.fit(x_train)"
   ],
   "metadata": {
    "collapsed": false
   }
  },
  {
   "cell_type": "code",
   "execution_count": 22,
   "outputs": [],
   "source": [
    "# Run the transformer\n",
    "# x_match_c = mc.transform(x_match)\n",
    "# x_match_c.head(5)"
   ],
   "metadata": {
    "collapsed": false
   }
  },
  {
   "cell_type": "markdown",
   "source": [
    "## Model Script Serving"
   ],
   "metadata": {
    "collapsed": false
   }
  },
  {
   "cell_type": "code",
   "execution_count": 29,
   "outputs": [
    {
     "data": {
      "text/plain": "<jpmml_evaluator.Evaluator at 0x14008b850>"
     },
     "execution_count": 29,
     "metadata": {},
     "output_type": "execute_result"
    }
   ],
   "source": [
    "# Load PMML model\n",
    "evaluator = make_evaluator(backend=Py4JBackend(), path=\"../../../data/newspaper-churn-train-ensemble-classifier.pmml\")\n",
    "# Perform automated QA\n",
    "evaluator.verify()"
   ],
   "metadata": {
    "collapsed": false
   }
  },
  {
   "cell_type": "code",
   "execution_count": 34,
   "outputs": [
    {
     "data": {
      "text/plain": "    target  probability(0)  probability(1)\n0        1        0.125088        0.874912\n1        1        0.354135        0.645865\n2        1        0.125482        0.874518\n3        1        0.391267        0.608733\n4        1        0.276924        0.723076\n5        1        0.446762        0.553238\n6        1        0.471755        0.528245\n7        1        0.370905        0.629095\n8        0        0.520061        0.479939\n9        0        0.708561        0.291439\n10       1        0.362534        0.637466\n11       1        0.297077        0.702923\n12       1        0.248858        0.751142\n13       0        0.949145        0.050855\n14       1        0.267083        0.732917\n15       1        0.250420        0.749580\n16       0        0.590285        0.409715\n17       1        0.245985        0.754015\n18       1        0.233349        0.766651\n19       1        0.085952        0.914048\n20       0        0.564813        0.435187\n21       1        0.479646        0.520354\n22       0        0.915696        0.084304\n23       0        0.745802        0.254198\n24       1        0.280586        0.719414\n25       1        0.083387        0.916613\n26       0        0.581929        0.418071\n27       0        0.520225        0.479775\n28       0        0.706850        0.293150\n29       0        0.616127        0.383873",
      "text/html": "<div>\n<style scoped>\n    .dataframe tbody tr th:only-of-type {\n        vertical-align: middle;\n    }\n\n    .dataframe tbody tr th {\n        vertical-align: top;\n    }\n\n    .dataframe thead th {\n        text-align: right;\n    }\n</style>\n<table border=\"1\" class=\"dataframe\">\n  <thead>\n    <tr style=\"text-align: right;\">\n      <th></th>\n      <th>target</th>\n      <th>probability(0)</th>\n      <th>probability(1)</th>\n    </tr>\n  </thead>\n  <tbody>\n    <tr>\n      <th>0</th>\n      <td>1</td>\n      <td>0.125088</td>\n      <td>0.874912</td>\n    </tr>\n    <tr>\n      <th>1</th>\n      <td>1</td>\n      <td>0.354135</td>\n      <td>0.645865</td>\n    </tr>\n    <tr>\n      <th>2</th>\n      <td>1</td>\n      <td>0.125482</td>\n      <td>0.874518</td>\n    </tr>\n    <tr>\n      <th>3</th>\n      <td>1</td>\n      <td>0.391267</td>\n      <td>0.608733</td>\n    </tr>\n    <tr>\n      <th>4</th>\n      <td>1</td>\n      <td>0.276924</td>\n      <td>0.723076</td>\n    </tr>\n    <tr>\n      <th>5</th>\n      <td>1</td>\n      <td>0.446762</td>\n      <td>0.553238</td>\n    </tr>\n    <tr>\n      <th>6</th>\n      <td>1</td>\n      <td>0.471755</td>\n      <td>0.528245</td>\n    </tr>\n    <tr>\n      <th>7</th>\n      <td>1</td>\n      <td>0.370905</td>\n      <td>0.629095</td>\n    </tr>\n    <tr>\n      <th>8</th>\n      <td>0</td>\n      <td>0.520061</td>\n      <td>0.479939</td>\n    </tr>\n    <tr>\n      <th>9</th>\n      <td>0</td>\n      <td>0.708561</td>\n      <td>0.291439</td>\n    </tr>\n    <tr>\n      <th>10</th>\n      <td>1</td>\n      <td>0.362534</td>\n      <td>0.637466</td>\n    </tr>\n    <tr>\n      <th>11</th>\n      <td>1</td>\n      <td>0.297077</td>\n      <td>0.702923</td>\n    </tr>\n    <tr>\n      <th>12</th>\n      <td>1</td>\n      <td>0.248858</td>\n      <td>0.751142</td>\n    </tr>\n    <tr>\n      <th>13</th>\n      <td>0</td>\n      <td>0.949145</td>\n      <td>0.050855</td>\n    </tr>\n    <tr>\n      <th>14</th>\n      <td>1</td>\n      <td>0.267083</td>\n      <td>0.732917</td>\n    </tr>\n    <tr>\n      <th>15</th>\n      <td>1</td>\n      <td>0.250420</td>\n      <td>0.749580</td>\n    </tr>\n    <tr>\n      <th>16</th>\n      <td>0</td>\n      <td>0.590285</td>\n      <td>0.409715</td>\n    </tr>\n    <tr>\n      <th>17</th>\n      <td>1</td>\n      <td>0.245985</td>\n      <td>0.754015</td>\n    </tr>\n    <tr>\n      <th>18</th>\n      <td>1</td>\n      <td>0.233349</td>\n      <td>0.766651</td>\n    </tr>\n    <tr>\n      <th>19</th>\n      <td>1</td>\n      <td>0.085952</td>\n      <td>0.914048</td>\n    </tr>\n    <tr>\n      <th>20</th>\n      <td>0</td>\n      <td>0.564813</td>\n      <td>0.435187</td>\n    </tr>\n    <tr>\n      <th>21</th>\n      <td>1</td>\n      <td>0.479646</td>\n      <td>0.520354</td>\n    </tr>\n    <tr>\n      <th>22</th>\n      <td>0</td>\n      <td>0.915696</td>\n      <td>0.084304</td>\n    </tr>\n    <tr>\n      <th>23</th>\n      <td>0</td>\n      <td>0.745802</td>\n      <td>0.254198</td>\n    </tr>\n    <tr>\n      <th>24</th>\n      <td>1</td>\n      <td>0.280586</td>\n      <td>0.719414</td>\n    </tr>\n    <tr>\n      <th>25</th>\n      <td>1</td>\n      <td>0.083387</td>\n      <td>0.916613</td>\n    </tr>\n    <tr>\n      <th>26</th>\n      <td>0</td>\n      <td>0.581929</td>\n      <td>0.418071</td>\n    </tr>\n    <tr>\n      <th>27</th>\n      <td>0</td>\n      <td>0.520225</td>\n      <td>0.479775</td>\n    </tr>\n    <tr>\n      <th>28</th>\n      <td>0</td>\n      <td>0.706850</td>\n      <td>0.293150</td>\n    </tr>\n    <tr>\n      <th>29</th>\n      <td>0</td>\n      <td>0.616127</td>\n      <td>0.383873</td>\n    </tr>\n  </tbody>\n</table>\n</div>"
     },
     "execution_count": 34,
     "metadata": {},
     "output_type": "execute_result"
    }
   ],
   "source": [
    "# Model Serving\n",
    "dfresult = evaluator.evaluateAll(x_match)\n",
    "dfresult.head(30)"
   ],
   "metadata": {
    "collapsed": false
   }
  },
  {
   "cell_type": "markdown",
   "source": [
    "## Model REST Serving"
   ],
   "metadata": {
    "collapsed": false
   }
  },
  {
   "cell_type": "code",
   "execution_count": 31,
   "outputs": [],
   "source": [
    "# Creating an Openscoring object\n",
    "# Openscoring server have to be running on base-url\n",
    "os = Openscoring(base_url = \"http://localhost:8080\", token=\"secret\")"
   ],
   "metadata": {
    "collapsed": false
   }
  },
  {
   "cell_type": "code",
   "execution_count": 32,
   "outputs": [
    {
     "data": {
      "text/plain": "<openscoring.common.ModelResponse at 0x13ff4b850>"
     },
     "execution_count": 32,
     "metadata": {},
     "output_type": "execute_result"
    }
   ],
   "source": [
    "# Deploying a PMML model:\n",
    "model_name = 'newspaper-churn-train-ensemble-classifier'\n",
    "os.deployFile(model_name, \"../../../data/newspaper-churn-train-ensemble-classifier.pmml\")"
   ],
   "metadata": {
    "collapsed": false
   }
  },
  {
   "cell_type": "code",
   "execution_count": 33,
   "outputs": [
    {
     "name": "stdout",
     "output_type": "stream",
     "text": [
      "   target  probability(0)  probability(1)\n",
      "0       1        0.125088        0.874912\n",
      "1       1        0.354135        0.645865\n",
      "2       1        0.125482        0.874518\n",
      "3       1        0.391267        0.608733\n",
      "4       1        0.276924        0.723076\n"
     ]
    }
   ],
   "source": [
    "# Model serving with data records from DataFrame\n",
    "dfResponse = os.evaluateCsv(model_name, x_match)\n",
    "print(dfResponse.head(5))"
   ],
   "metadata": {
    "collapsed": false
   }
  },
  {
   "cell_type": "code",
   "execution_count": null,
   "outputs": [],
   "source": [],
   "metadata": {
    "collapsed": false
   }
  }
 ],
 "metadata": {
  "kernelspec": {
   "display_name": "Python 3",
   "language": "python",
   "name": "python3"
  },
  "language_info": {
   "codemirror_mode": {
    "name": "ipython",
    "version": 2
   },
   "file_extension": ".py",
   "mimetype": "text/x-python",
   "name": "python",
   "nbconvert_exporter": "python",
   "pygments_lexer": "ipython2",
   "version": "2.7.6"
  }
 },
 "nbformat": 4,
 "nbformat_minor": 0
}
