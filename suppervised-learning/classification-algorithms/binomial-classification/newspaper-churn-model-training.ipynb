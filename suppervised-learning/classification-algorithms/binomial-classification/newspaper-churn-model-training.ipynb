{
 "cells": [
  {
   "cell_type": "markdown",
   "source": [
    "## Newspaper Churn\n",
    "### Model Training"
   ],
   "metadata": {
    "collapsed": false
   }
  },
  {
   "cell_type": "code",
   "execution_count": 1,
   "outputs": [],
   "source": [
    "# The usual suspects\n",
    "import pandas as pd\n",
    "import numpy as np\n",
    "import matplotlib.pyplot as plt\n",
    "import seaborn as sns\n",
    "\n",
    "# Assemble pipeline(s)\n",
    "from sklearn.pipeline import make_pipeline, Pipeline\n",
    "from sklearn.compose import ColumnTransformer, make_column_selector\n",
    "from sklearn.impute import SimpleImputer\n",
    "from sklearn.preprocessing import StandardScaler, OneHotEncoder\n",
    "\n",
    "# PMML Pipeline(s)\n",
    "from sklearn2pmml import sklearn2pmml\n",
    "from sklearn2pmml.pipeline import PMMLPipeline\n",
    "\n",
    "# Models\n",
    "from xgboost import XGBClassifier\n",
    "from sklearn.linear_model import LogisticRegression\n",
    "from sklearn.ensemble import RandomForestClassifier, VotingClassifier\n",
    "from sklearn.tree import DecisionTreeClassifier\n",
    "from sklearn.metrics import accuracy_score\n",
    "from sklearn.inspection import permutation_importance\n",
    "\n",
    "# Model Selection\n",
    "from sklearn.model_selection import RandomizedSearchCV,RepeatedStratifiedKFold"
   ],
   "metadata": {
    "collapsed": false
   }
  },
  {
   "cell_type": "code",
   "execution_count": 2,
   "outputs": [],
   "source": [
    "# Dsplay pipelines\n",
    "from sklearn import set_config\n",
    "set_config(display=\"diagram\")"
   ],
   "metadata": {
    "collapsed": false
   }
  },
  {
   "cell_type": "code",
   "execution_count": 3,
   "outputs": [],
   "source": [
    "import warnings\n",
    "warnings.filterwarnings('ignore')"
   ],
   "metadata": {
    "collapsed": false
   }
  },
  {
   "cell_type": "markdown",
   "source": [
    "## Data Loading"
   ],
   "metadata": {
    "collapsed": false
   }
  },
  {
   "cell_type": "code",
   "execution_count": 4,
   "outputs": [
    {
     "data": {
      "text/plain": "                HH Income Home Ownership Ethnicity dummy for Children  \\\n734   $  20,000 - $29,999         RENTER  Hispanic                  N   \n61    $400,000 - $499,999          OWNER  Hispanic                  N   \n3061  $  20,000 - $29,999         RENTER    Korean                  N   \n4866  $100,000 - $124,999          OWNER  Hispanic                  N   \n846         Under $20,000          OWNER  Hispanic                  N   \n1207  $400,000 - $499,999          OWNER    Jewish                  N   \n4566  $  60,000 - $69,999         RENTER  Hispanic                  N   \n2293  $125,000 - $149,999          OWNER   unknown                  N   \n2829  $  80,000 - $89,999          OWNER      Arab                  Y   \n1329  $100,000 - $124,999          OWNER   English                  N   \n\n      Year Of Residence         Age range Language            City  County  \\\n734                   2             30-34  Spanish         ANAHEIM  ORANGE   \n61                   22             45-49  English       SANTA ANA  ORANGE   \n3061                  1             65-69   Korean    GARDEN GROVE  ORANGE   \n4866                 16             50-54  Spanish       SANTA ANA  ORANGE   \n846                  38  75 years or more  English         STANTON  ORANGE   \n1207                  2             65-69  English  TRABUCO CANYON  ORANGE   \n4566                  3             30-34  Spanish         STANTON  ORANGE   \n2293                  4             35-39  English    SAN CLEMENTE  ORANGE   \n2829                 26             60-64   Arabic     WESTMINSTER  ORANGE   \n1329                 20  75 years or more  English         ANAHEIM  ORANGE   \n\n      Zip Code       weekly fee Deliveryperiod Nielsen Prizm  reward program  \\\n734      92805    $0.01 - $0.50        SunOnly            FE               0   \n61       92707       $0 - $0.01        SunOnly            FM               0   \n3061     92840    $2.00 - $2.99        Thu-Sun            FE               0   \n4866     92703       $0 - $0.01        SunOnly            MW               0   \n846      90680    $7.00 - $7.99           7Day            FE               0   \n1207     92679    $0.51 - $0.99           7Day            FW              14   \n4566     90680    $0.01 - $0.50        SunOnly            FM               0   \n2293     92673    $0.51 - $0.99           7Day            YW               0   \n2829     92683       $0 - $0.01        SunOnly            FM               0   \n1329     92806  $10.00 - $10.99           7Day            MW               0   \n\n     Source Channel  target  \n734        Internet       1  \n61          Partner       1  \n3061           Crew       0  \n4866        Partner       0  \n846            Crew       0  \n1207         AdvAdm       0  \n4566        Partner       1  \n2293       CustCall       0  \n2829        Partner       0  \n1329       CustCall       1  ",
      "text/html": "<div>\n<style scoped>\n    .dataframe tbody tr th:only-of-type {\n        vertical-align: middle;\n    }\n\n    .dataframe tbody tr th {\n        vertical-align: top;\n    }\n\n    .dataframe thead th {\n        text-align: right;\n    }\n</style>\n<table border=\"1\" class=\"dataframe\">\n  <thead>\n    <tr style=\"text-align: right;\">\n      <th></th>\n      <th>HH Income</th>\n      <th>Home Ownership</th>\n      <th>Ethnicity</th>\n      <th>dummy for Children</th>\n      <th>Year Of Residence</th>\n      <th>Age range</th>\n      <th>Language</th>\n      <th>City</th>\n      <th>County</th>\n      <th>Zip Code</th>\n      <th>weekly fee</th>\n      <th>Deliveryperiod</th>\n      <th>Nielsen Prizm</th>\n      <th>reward program</th>\n      <th>Source Channel</th>\n      <th>target</th>\n    </tr>\n  </thead>\n  <tbody>\n    <tr>\n      <th>734</th>\n      <td>$  20,000 - $29,999</td>\n      <td>RENTER</td>\n      <td>Hispanic</td>\n      <td>N</td>\n      <td>2</td>\n      <td>30-34</td>\n      <td>Spanish</td>\n      <td>ANAHEIM</td>\n      <td>ORANGE</td>\n      <td>92805</td>\n      <td>$0.01 - $0.50</td>\n      <td>SunOnly</td>\n      <td>FE</td>\n      <td>0</td>\n      <td>Internet</td>\n      <td>1</td>\n    </tr>\n    <tr>\n      <th>61</th>\n      <td>$400,000 - $499,999</td>\n      <td>OWNER</td>\n      <td>Hispanic</td>\n      <td>N</td>\n      <td>22</td>\n      <td>45-49</td>\n      <td>English</td>\n      <td>SANTA ANA</td>\n      <td>ORANGE</td>\n      <td>92707</td>\n      <td>$0 - $0.01</td>\n      <td>SunOnly</td>\n      <td>FM</td>\n      <td>0</td>\n      <td>Partner</td>\n      <td>1</td>\n    </tr>\n    <tr>\n      <th>3061</th>\n      <td>$  20,000 - $29,999</td>\n      <td>RENTER</td>\n      <td>Korean</td>\n      <td>N</td>\n      <td>1</td>\n      <td>65-69</td>\n      <td>Korean</td>\n      <td>GARDEN GROVE</td>\n      <td>ORANGE</td>\n      <td>92840</td>\n      <td>$2.00 - $2.99</td>\n      <td>Thu-Sun</td>\n      <td>FE</td>\n      <td>0</td>\n      <td>Crew</td>\n      <td>0</td>\n    </tr>\n    <tr>\n      <th>4866</th>\n      <td>$100,000 - $124,999</td>\n      <td>OWNER</td>\n      <td>Hispanic</td>\n      <td>N</td>\n      <td>16</td>\n      <td>50-54</td>\n      <td>Spanish</td>\n      <td>SANTA ANA</td>\n      <td>ORANGE</td>\n      <td>92703</td>\n      <td>$0 - $0.01</td>\n      <td>SunOnly</td>\n      <td>MW</td>\n      <td>0</td>\n      <td>Partner</td>\n      <td>0</td>\n    </tr>\n    <tr>\n      <th>846</th>\n      <td>Under $20,000</td>\n      <td>OWNER</td>\n      <td>Hispanic</td>\n      <td>N</td>\n      <td>38</td>\n      <td>75 years or more</td>\n      <td>English</td>\n      <td>STANTON</td>\n      <td>ORANGE</td>\n      <td>90680</td>\n      <td>$7.00 - $7.99</td>\n      <td>7Day</td>\n      <td>FE</td>\n      <td>0</td>\n      <td>Crew</td>\n      <td>0</td>\n    </tr>\n    <tr>\n      <th>1207</th>\n      <td>$400,000 - $499,999</td>\n      <td>OWNER</td>\n      <td>Jewish</td>\n      <td>N</td>\n      <td>2</td>\n      <td>65-69</td>\n      <td>English</td>\n      <td>TRABUCO CANYON</td>\n      <td>ORANGE</td>\n      <td>92679</td>\n      <td>$0.51 - $0.99</td>\n      <td>7Day</td>\n      <td>FW</td>\n      <td>14</td>\n      <td>AdvAdm</td>\n      <td>0</td>\n    </tr>\n    <tr>\n      <th>4566</th>\n      <td>$  60,000 - $69,999</td>\n      <td>RENTER</td>\n      <td>Hispanic</td>\n      <td>N</td>\n      <td>3</td>\n      <td>30-34</td>\n      <td>Spanish</td>\n      <td>STANTON</td>\n      <td>ORANGE</td>\n      <td>90680</td>\n      <td>$0.01 - $0.50</td>\n      <td>SunOnly</td>\n      <td>FM</td>\n      <td>0</td>\n      <td>Partner</td>\n      <td>1</td>\n    </tr>\n    <tr>\n      <th>2293</th>\n      <td>$125,000 - $149,999</td>\n      <td>OWNER</td>\n      <td>unknown</td>\n      <td>N</td>\n      <td>4</td>\n      <td>35-39</td>\n      <td>English</td>\n      <td>SAN CLEMENTE</td>\n      <td>ORANGE</td>\n      <td>92673</td>\n      <td>$0.51 - $0.99</td>\n      <td>7Day</td>\n      <td>YW</td>\n      <td>0</td>\n      <td>CustCall</td>\n      <td>0</td>\n    </tr>\n    <tr>\n      <th>2829</th>\n      <td>$  80,000 - $89,999</td>\n      <td>OWNER</td>\n      <td>Arab</td>\n      <td>Y</td>\n      <td>26</td>\n      <td>60-64</td>\n      <td>Arabic</td>\n      <td>WESTMINSTER</td>\n      <td>ORANGE</td>\n      <td>92683</td>\n      <td>$0 - $0.01</td>\n      <td>SunOnly</td>\n      <td>FM</td>\n      <td>0</td>\n      <td>Partner</td>\n      <td>0</td>\n    </tr>\n    <tr>\n      <th>1329</th>\n      <td>$100,000 - $124,999</td>\n      <td>OWNER</td>\n      <td>English</td>\n      <td>N</td>\n      <td>20</td>\n      <td>75 years or more</td>\n      <td>English</td>\n      <td>ANAHEIM</td>\n      <td>ORANGE</td>\n      <td>92806</td>\n      <td>$10.00 - $10.99</td>\n      <td>7Day</td>\n      <td>MW</td>\n      <td>0</td>\n      <td>CustCall</td>\n      <td>1</td>\n    </tr>\n  </tbody>\n</table>\n</div>"
     },
     "execution_count": 4,
     "metadata": {},
     "output_type": "execute_result"
    }
   ],
   "source": [
    "# Newspaper churn dataset\n",
    "# It contains 15.855 records and 19 columns including the target variable Subscriber (YES/NO).\n",
    "# The majority of the features is categorial.\n",
    "df_train = pd.read_csv('../../../data/newspaper-churn-train.csv')\n",
    "df_test = pd.read_csv('../../../data/newspaper-churn-test.csv')\n",
    "df_test.sample(10)"
   ],
   "metadata": {
    "collapsed": false
   }
  },
  {
   "cell_type": "markdown",
   "source": [
    "## Ensemble of models"
   ],
   "metadata": {
    "collapsed": false
   }
  },
  {
   "cell_type": "code",
   "execution_count": 5,
   "outputs": [],
   "source": [
    "X_train = df_train.drop('target', axis=1)\n",
    "y_train = df_train['target']\n",
    "X_test = df_test.drop('target', axis=1)\n",
    "y_test = df_test['target']"
   ],
   "metadata": {
    "collapsed": false
   }
  },
  {
   "cell_type": "code",
   "execution_count": 6,
   "outputs": [],
   "source": [
    "# Ensemble of models\n",
    "estimator = []\n",
    "estimator.append(('lrc',LogisticRegression(warm_start=True, max_iter=400)))\n",
    "estimator.append(('xgb', XGBClassifier(tree_method=\"hist\", verbosity=0, silent=True)))\n",
    "estimator.append(('rfc', RandomForestClassifier()))\n",
    "estimator.append(('dtc', DecisionTreeClassifier()))"
   ],
   "metadata": {
    "collapsed": false
   }
  },
  {
   "cell_type": "code",
   "execution_count": 7,
   "outputs": [],
   "source": [
    "ppl_ensemble = Pipeline([\n",
    "    # Step 1: Impute and scale features\n",
    "    ('cleaning', ColumnTransformer([\n",
    "        # Step 2.1: Apply steps for numerical features\n",
    "        ('num',make_pipeline(\n",
    "            SimpleImputer(strategy='median'),\n",
    "            StandardScaler()),\n",
    "         make_column_selector(dtype_include='int64')\n",
    "         ),\n",
    "        # Step 2.2 Apply steps for categorial features\n",
    "        ('cat',make_pipeline(\n",
    "            SimpleImputer(strategy='most_frequent'),\n",
    "            OneHotEncoder(handle_unknown = 'ignore')),\n",
    "         make_column_selector(dtype_exclude=['int64'])\n",
    "         )])\n",
    "     ),\n",
    "\n",
    "    # Step 2: Voting Classifier\n",
    "    ('ensemble', VotingClassifier(estimators = estimator, voting ='soft'))\n",
    "\n",
    "])"
   ],
   "metadata": {
    "collapsed": false
   }
  },
  {
   "cell_type": "code",
   "execution_count": 8,
   "outputs": [
    {
     "data": {
      "text/plain": "Pipeline(steps=[('cleaning',\n                 ColumnTransformer(transformers=[('num',\n                                                  Pipeline(steps=[('simpleimputer',\n                                                                   SimpleImputer(strategy='median')),\n                                                                  ('standardscaler',\n                                                                   StandardScaler())]),\n                                                  <sklearn.compose._column_transformer.make_column_selector object at 0x142bfc370>),\n                                                 ('cat',\n                                                  Pipeline(steps=[('simpleimputer',\n                                                                   SimpleImputer(strategy='most_frequent')),\n                                                                  ('onehotencoder',\n                                                                   O...nknown='ignore'))]),\n                                                  <sklearn.compose._column_transformer.make_column_selector object at 0x142bffac0>)])),\n                ('ensemble',\n                 VotingClassifier(estimators=[('lrc',\n                                               LogisticRegression(max_iter=400,\n                                                                  warm_start=True)),\n                                              ('xgb',\n                                               XGBClassifier(silent=True,\n                                                             tree_method='hist',\n                                                             verbosity=0)),\n                                              ('rfc', RandomForestClassifier()),\n                                              ('dtc',\n                                               DecisionTreeClassifier())],\n                                  voting='soft'))])",
      "text/html": "<style>#sk-container-id-1 {color: black;background-color: white;}#sk-container-id-1 pre{padding: 0;}#sk-container-id-1 div.sk-toggleable {background-color: white;}#sk-container-id-1 label.sk-toggleable__label {cursor: pointer;display: block;width: 100%;margin-bottom: 0;padding: 0.3em;box-sizing: border-box;text-align: center;}#sk-container-id-1 label.sk-toggleable__label-arrow:before {content: \"▸\";float: left;margin-right: 0.25em;color: #696969;}#sk-container-id-1 label.sk-toggleable__label-arrow:hover:before {color: black;}#sk-container-id-1 div.sk-estimator:hover label.sk-toggleable__label-arrow:before {color: black;}#sk-container-id-1 div.sk-toggleable__content {max-height: 0;max-width: 0;overflow: hidden;text-align: left;background-color: #f0f8ff;}#sk-container-id-1 div.sk-toggleable__content pre {margin: 0.2em;color: black;border-radius: 0.25em;background-color: #f0f8ff;}#sk-container-id-1 input.sk-toggleable__control:checked~div.sk-toggleable__content {max-height: 200px;max-width: 100%;overflow: auto;}#sk-container-id-1 input.sk-toggleable__control:checked~label.sk-toggleable__label-arrow:before {content: \"▾\";}#sk-container-id-1 div.sk-estimator input.sk-toggleable__control:checked~label.sk-toggleable__label {background-color: #d4ebff;}#sk-container-id-1 div.sk-label input.sk-toggleable__control:checked~label.sk-toggleable__label {background-color: #d4ebff;}#sk-container-id-1 input.sk-hidden--visually {border: 0;clip: rect(1px 1px 1px 1px);clip: rect(1px, 1px, 1px, 1px);height: 1px;margin: -1px;overflow: hidden;padding: 0;position: absolute;width: 1px;}#sk-container-id-1 div.sk-estimator {font-family: monospace;background-color: #f0f8ff;border: 1px dotted black;border-radius: 0.25em;box-sizing: border-box;margin-bottom: 0.5em;}#sk-container-id-1 div.sk-estimator:hover {background-color: #d4ebff;}#sk-container-id-1 div.sk-parallel-item::after {content: \"\";width: 100%;border-bottom: 1px solid gray;flex-grow: 1;}#sk-container-id-1 div.sk-label:hover label.sk-toggleable__label {background-color: #d4ebff;}#sk-container-id-1 div.sk-serial::before {content: \"\";position: absolute;border-left: 1px solid gray;box-sizing: border-box;top: 0;bottom: 0;left: 50%;z-index: 0;}#sk-container-id-1 div.sk-serial {display: flex;flex-direction: column;align-items: center;background-color: white;padding-right: 0.2em;padding-left: 0.2em;position: relative;}#sk-container-id-1 div.sk-item {position: relative;z-index: 1;}#sk-container-id-1 div.sk-parallel {display: flex;align-items: stretch;justify-content: center;background-color: white;position: relative;}#sk-container-id-1 div.sk-item::before, #sk-container-id-1 div.sk-parallel-item::before {content: \"\";position: absolute;border-left: 1px solid gray;box-sizing: border-box;top: 0;bottom: 0;left: 50%;z-index: -1;}#sk-container-id-1 div.sk-parallel-item {display: flex;flex-direction: column;z-index: 1;position: relative;background-color: white;}#sk-container-id-1 div.sk-parallel-item:first-child::after {align-self: flex-end;width: 50%;}#sk-container-id-1 div.sk-parallel-item:last-child::after {align-self: flex-start;width: 50%;}#sk-container-id-1 div.sk-parallel-item:only-child::after {width: 0;}#sk-container-id-1 div.sk-dashed-wrapped {border: 1px dashed gray;margin: 0 0.4em 0.5em 0.4em;box-sizing: border-box;padding-bottom: 0.4em;background-color: white;}#sk-container-id-1 div.sk-label label {font-family: monospace;font-weight: bold;display: inline-block;line-height: 1.2em;}#sk-container-id-1 div.sk-label-container {text-align: center;}#sk-container-id-1 div.sk-container {/* jupyter's `normalize.less` sets `[hidden] { display: none; }` but bootstrap.min.css set `[hidden] { display: none !important; }` so we also need the `!important` here to be able to override the default hidden behavior on the sphinx rendered scikit-learn.org. See: https://github.com/scikit-learn/scikit-learn/issues/21755 */display: inline-block !important;position: relative;}#sk-container-id-1 div.sk-text-repr-fallback {display: none;}</style><div id=\"sk-container-id-1\" class=\"sk-top-container\"><div class=\"sk-text-repr-fallback\"><pre>Pipeline(steps=[(&#x27;cleaning&#x27;,\n                 ColumnTransformer(transformers=[(&#x27;num&#x27;,\n                                                  Pipeline(steps=[(&#x27;simpleimputer&#x27;,\n                                                                   SimpleImputer(strategy=&#x27;median&#x27;)),\n                                                                  (&#x27;standardscaler&#x27;,\n                                                                   StandardScaler())]),\n                                                  &lt;sklearn.compose._column_transformer.make_column_selector object at 0x142bfc370&gt;),\n                                                 (&#x27;cat&#x27;,\n                                                  Pipeline(steps=[(&#x27;simpleimputer&#x27;,\n                                                                   SimpleImputer(strategy=&#x27;most_frequent&#x27;)),\n                                                                  (&#x27;onehotencoder&#x27;,\n                                                                   O...nknown=&#x27;ignore&#x27;))]),\n                                                  &lt;sklearn.compose._column_transformer.make_column_selector object at 0x142bffac0&gt;)])),\n                (&#x27;ensemble&#x27;,\n                 VotingClassifier(estimators=[(&#x27;lrc&#x27;,\n                                               LogisticRegression(max_iter=400,\n                                                                  warm_start=True)),\n                                              (&#x27;xgb&#x27;,\n                                               XGBClassifier(silent=True,\n                                                             tree_method=&#x27;hist&#x27;,\n                                                             verbosity=0)),\n                                              (&#x27;rfc&#x27;, RandomForestClassifier()),\n                                              (&#x27;dtc&#x27;,\n                                               DecisionTreeClassifier())],\n                                  voting=&#x27;soft&#x27;))])</pre><b>In a Jupyter environment, please rerun this cell to show the HTML representation or trust the notebook. <br />On GitHub, the HTML representation is unable to render, please try loading this page with nbviewer.org.</b></div><div class=\"sk-container\" hidden><div class=\"sk-item sk-dashed-wrapped\"><div class=\"sk-label-container\"><div class=\"sk-label sk-toggleable\"><input class=\"sk-toggleable__control sk-hidden--visually\" id=\"sk-estimator-id-1\" type=\"checkbox\" ><label for=\"sk-estimator-id-1\" class=\"sk-toggleable__label sk-toggleable__label-arrow\">Pipeline</label><div class=\"sk-toggleable__content\"><pre>Pipeline(steps=[(&#x27;cleaning&#x27;,\n                 ColumnTransformer(transformers=[(&#x27;num&#x27;,\n                                                  Pipeline(steps=[(&#x27;simpleimputer&#x27;,\n                                                                   SimpleImputer(strategy=&#x27;median&#x27;)),\n                                                                  (&#x27;standardscaler&#x27;,\n                                                                   StandardScaler())]),\n                                                  &lt;sklearn.compose._column_transformer.make_column_selector object at 0x142bfc370&gt;),\n                                                 (&#x27;cat&#x27;,\n                                                  Pipeline(steps=[(&#x27;simpleimputer&#x27;,\n                                                                   SimpleImputer(strategy=&#x27;most_frequent&#x27;)),\n                                                                  (&#x27;onehotencoder&#x27;,\n                                                                   O...nknown=&#x27;ignore&#x27;))]),\n                                                  &lt;sklearn.compose._column_transformer.make_column_selector object at 0x142bffac0&gt;)])),\n                (&#x27;ensemble&#x27;,\n                 VotingClassifier(estimators=[(&#x27;lrc&#x27;,\n                                               LogisticRegression(max_iter=400,\n                                                                  warm_start=True)),\n                                              (&#x27;xgb&#x27;,\n                                               XGBClassifier(silent=True,\n                                                             tree_method=&#x27;hist&#x27;,\n                                                             verbosity=0)),\n                                              (&#x27;rfc&#x27;, RandomForestClassifier()),\n                                              (&#x27;dtc&#x27;,\n                                               DecisionTreeClassifier())],\n                                  voting=&#x27;soft&#x27;))])</pre></div></div></div><div class=\"sk-serial\"><div class=\"sk-item sk-dashed-wrapped\"><div class=\"sk-label-container\"><div class=\"sk-label sk-toggleable\"><input class=\"sk-toggleable__control sk-hidden--visually\" id=\"sk-estimator-id-2\" type=\"checkbox\" ><label for=\"sk-estimator-id-2\" class=\"sk-toggleable__label sk-toggleable__label-arrow\">cleaning: ColumnTransformer</label><div class=\"sk-toggleable__content\"><pre>ColumnTransformer(transformers=[(&#x27;num&#x27;,\n                                 Pipeline(steps=[(&#x27;simpleimputer&#x27;,\n                                                  SimpleImputer(strategy=&#x27;median&#x27;)),\n                                                 (&#x27;standardscaler&#x27;,\n                                                  StandardScaler())]),\n                                 &lt;sklearn.compose._column_transformer.make_column_selector object at 0x142bfc370&gt;),\n                                (&#x27;cat&#x27;,\n                                 Pipeline(steps=[(&#x27;simpleimputer&#x27;,\n                                                  SimpleImputer(strategy=&#x27;most_frequent&#x27;)),\n                                                 (&#x27;onehotencoder&#x27;,\n                                                  OneHotEncoder(handle_unknown=&#x27;ignore&#x27;))]),\n                                 &lt;sklearn.compose._column_transformer.make_column_selector object at 0x142bffac0&gt;)])</pre></div></div></div><div class=\"sk-parallel\"><div class=\"sk-parallel-item\"><div class=\"sk-item\"><div class=\"sk-label-container\"><div class=\"sk-label sk-toggleable\"><input class=\"sk-toggleable__control sk-hidden--visually\" id=\"sk-estimator-id-3\" type=\"checkbox\" ><label for=\"sk-estimator-id-3\" class=\"sk-toggleable__label sk-toggleable__label-arrow\">num</label><div class=\"sk-toggleable__content\"><pre>&lt;sklearn.compose._column_transformer.make_column_selector object at 0x142bfc370&gt;</pre></div></div></div><div class=\"sk-serial\"><div class=\"sk-item\"><div class=\"sk-serial\"><div class=\"sk-item\"><div class=\"sk-estimator sk-toggleable\"><input class=\"sk-toggleable__control sk-hidden--visually\" id=\"sk-estimator-id-4\" type=\"checkbox\" ><label for=\"sk-estimator-id-4\" class=\"sk-toggleable__label sk-toggleable__label-arrow\">SimpleImputer</label><div class=\"sk-toggleable__content\"><pre>SimpleImputer(strategy=&#x27;median&#x27;)</pre></div></div></div><div class=\"sk-item\"><div class=\"sk-estimator sk-toggleable\"><input class=\"sk-toggleable__control sk-hidden--visually\" id=\"sk-estimator-id-5\" type=\"checkbox\" ><label for=\"sk-estimator-id-5\" class=\"sk-toggleable__label sk-toggleable__label-arrow\">StandardScaler</label><div class=\"sk-toggleable__content\"><pre>StandardScaler()</pre></div></div></div></div></div></div></div></div><div class=\"sk-parallel-item\"><div class=\"sk-item\"><div class=\"sk-label-container\"><div class=\"sk-label sk-toggleable\"><input class=\"sk-toggleable__control sk-hidden--visually\" id=\"sk-estimator-id-6\" type=\"checkbox\" ><label for=\"sk-estimator-id-6\" class=\"sk-toggleable__label sk-toggleable__label-arrow\">cat</label><div class=\"sk-toggleable__content\"><pre>&lt;sklearn.compose._column_transformer.make_column_selector object at 0x142bffac0&gt;</pre></div></div></div><div class=\"sk-serial\"><div class=\"sk-item\"><div class=\"sk-serial\"><div class=\"sk-item\"><div class=\"sk-estimator sk-toggleable\"><input class=\"sk-toggleable__control sk-hidden--visually\" id=\"sk-estimator-id-7\" type=\"checkbox\" ><label for=\"sk-estimator-id-7\" class=\"sk-toggleable__label sk-toggleable__label-arrow\">SimpleImputer</label><div class=\"sk-toggleable__content\"><pre>SimpleImputer(strategy=&#x27;most_frequent&#x27;)</pre></div></div></div><div class=\"sk-item\"><div class=\"sk-estimator sk-toggleable\"><input class=\"sk-toggleable__control sk-hidden--visually\" id=\"sk-estimator-id-8\" type=\"checkbox\" ><label for=\"sk-estimator-id-8\" class=\"sk-toggleable__label sk-toggleable__label-arrow\">OneHotEncoder</label><div class=\"sk-toggleable__content\"><pre>OneHotEncoder(handle_unknown=&#x27;ignore&#x27;)</pre></div></div></div></div></div></div></div></div></div></div><div class=\"sk-item sk-dashed-wrapped\"><div class=\"sk-label-container\"><div class=\"sk-label sk-toggleable\"><input class=\"sk-toggleable__control sk-hidden--visually\" id=\"sk-estimator-id-9\" type=\"checkbox\" ><label for=\"sk-estimator-id-9\" class=\"sk-toggleable__label sk-toggleable__label-arrow\">ensemble: VotingClassifier</label><div class=\"sk-toggleable__content\"><pre>VotingClassifier(estimators=[(&#x27;lrc&#x27;,\n                              LogisticRegression(max_iter=400,\n                                                 warm_start=True)),\n                             (&#x27;xgb&#x27;,\n                              XGBClassifier(silent=True, tree_method=&#x27;hist&#x27;,\n                                            verbosity=0)),\n                             (&#x27;rfc&#x27;, RandomForestClassifier()),\n                             (&#x27;dtc&#x27;, DecisionTreeClassifier())],\n                 voting=&#x27;soft&#x27;)</pre></div></div></div><div class=\"sk-parallel\"><div class=\"sk-parallel-item\"><div class=\"sk-item\"><div class=\"sk-label-container\"><div class=\"sk-label sk-toggleable\"><label>lrc</label></div></div><div class=\"sk-serial\"><div class=\"sk-item\"><div class=\"sk-estimator sk-toggleable\"><input class=\"sk-toggleable__control sk-hidden--visually\" id=\"sk-estimator-id-10\" type=\"checkbox\" ><label for=\"sk-estimator-id-10\" class=\"sk-toggleable__label sk-toggleable__label-arrow\">LogisticRegression</label><div class=\"sk-toggleable__content\"><pre>LogisticRegression(max_iter=400, warm_start=True)</pre></div></div></div></div></div></div><div class=\"sk-parallel-item\"><div class=\"sk-item\"><div class=\"sk-label-container\"><div class=\"sk-label sk-toggleable\"><label>xgb</label></div></div><div class=\"sk-serial\"><div class=\"sk-item\"><div class=\"sk-estimator sk-toggleable\"><input class=\"sk-toggleable__control sk-hidden--visually\" id=\"sk-estimator-id-11\" type=\"checkbox\" ><label for=\"sk-estimator-id-11\" class=\"sk-toggleable__label sk-toggleable__label-arrow\">XGBClassifier</label><div class=\"sk-toggleable__content\"><pre>XGBClassifier(silent=True, tree_method=&#x27;hist&#x27;, verbosity=0)</pre></div></div></div></div></div></div><div class=\"sk-parallel-item\"><div class=\"sk-item\"><div class=\"sk-label-container\"><div class=\"sk-label sk-toggleable\"><label>rfc</label></div></div><div class=\"sk-serial\"><div class=\"sk-item\"><div class=\"sk-estimator sk-toggleable\"><input class=\"sk-toggleable__control sk-hidden--visually\" id=\"sk-estimator-id-12\" type=\"checkbox\" ><label for=\"sk-estimator-id-12\" class=\"sk-toggleable__label sk-toggleable__label-arrow\">RandomForestClassifier</label><div class=\"sk-toggleable__content\"><pre>RandomForestClassifier()</pre></div></div></div></div></div></div><div class=\"sk-parallel-item\"><div class=\"sk-item\"><div class=\"sk-label-container\"><div class=\"sk-label sk-toggleable\"><label>dtc</label></div></div><div class=\"sk-serial\"><div class=\"sk-item\"><div class=\"sk-estimator sk-toggleable\"><input class=\"sk-toggleable__control sk-hidden--visually\" id=\"sk-estimator-id-13\" type=\"checkbox\" ><label for=\"sk-estimator-id-13\" class=\"sk-toggleable__label sk-toggleable__label-arrow\">DecisionTreeClassifier</label><div class=\"sk-toggleable__content\"><pre>DecisionTreeClassifier()</pre></div></div></div></div></div></div></div></div></div></div></div></div>"
     },
     "metadata": {},
     "output_type": "display_data"
    }
   ],
   "source": [
    "display(ppl_ensemble)"
   ],
   "metadata": {
    "collapsed": false
   }
  },
  {
   "cell_type": "markdown",
   "source": [
    "## Hyper-parameter Tuning"
   ],
   "metadata": {
    "collapsed": false
   }
  },
  {
   "cell_type": "code",
   "execution_count": 9,
   "outputs": [
    {
     "data": {
      "text/plain": "{'memory': None,\n 'steps': [('cleaning', ColumnTransformer(transformers=[('num',\n                                    Pipeline(steps=[('simpleimputer',\n                                                     SimpleImputer(strategy='median')),\n                                                    ('standardscaler',\n                                                     StandardScaler())]),\n                                    <sklearn.compose._column_transformer.make_column_selector object at 0x142bfc370>),\n                                   ('cat',\n                                    Pipeline(steps=[('simpleimputer',\n                                                     SimpleImputer(strategy='most_frequent')),\n                                                    ('onehotencoder',\n                                                     OneHotEncoder(handle_unknown='ignore'))]),\n                                    <sklearn.compose._column_transformer.make_column_selector object at 0x142bffac0>)])),\n  ('ensemble',\n   VotingClassifier(estimators=[('lrc',\n                                 LogisticRegression(max_iter=400,\n                                                    warm_start=True)),\n                                ('xgb',\n                                 XGBClassifier(silent=True, tree_method='hist',\n                                               verbosity=0)),\n                                ('rfc', RandomForestClassifier()),\n                                ('dtc', DecisionTreeClassifier())],\n                    voting='soft'))],\n 'verbose': False,\n 'cleaning': ColumnTransformer(transformers=[('num',\n                                  Pipeline(steps=[('simpleimputer',\n                                                   SimpleImputer(strategy='median')),\n                                                  ('standardscaler',\n                                                   StandardScaler())]),\n                                  <sklearn.compose._column_transformer.make_column_selector object at 0x142bfc370>),\n                                 ('cat',\n                                  Pipeline(steps=[('simpleimputer',\n                                                   SimpleImputer(strategy='most_frequent')),\n                                                  ('onehotencoder',\n                                                   OneHotEncoder(handle_unknown='ignore'))]),\n                                  <sklearn.compose._column_transformer.make_column_selector object at 0x142bffac0>)]),\n 'ensemble': VotingClassifier(estimators=[('lrc',\n                               LogisticRegression(max_iter=400,\n                                                  warm_start=True)),\n                              ('xgb',\n                               XGBClassifier(silent=True, tree_method='hist',\n                                             verbosity=0)),\n                              ('rfc', RandomForestClassifier()),\n                              ('dtc', DecisionTreeClassifier())],\n                  voting='soft'),\n 'cleaning__n_jobs': None,\n 'cleaning__remainder': 'drop',\n 'cleaning__sparse_threshold': 0.3,\n 'cleaning__transformer_weights': None,\n 'cleaning__transformers': [('num',\n   Pipeline(steps=[('simpleimputer', SimpleImputer(strategy='median')),\n                   ('standardscaler', StandardScaler())]),\n   <sklearn.compose._column_transformer.make_column_selector at 0x142bfc370>),\n  ('cat',\n   Pipeline(steps=[('simpleimputer', SimpleImputer(strategy='most_frequent')),\n                   ('onehotencoder', OneHotEncoder(handle_unknown='ignore'))]),\n   <sklearn.compose._column_transformer.make_column_selector at 0x142bffac0>)],\n 'cleaning__verbose': False,\n 'cleaning__verbose_feature_names_out': True,\n 'cleaning__num': Pipeline(steps=[('simpleimputer', SimpleImputer(strategy='median')),\n                 ('standardscaler', StandardScaler())]),\n 'cleaning__cat': Pipeline(steps=[('simpleimputer', SimpleImputer(strategy='most_frequent')),\n                 ('onehotencoder', OneHotEncoder(handle_unknown='ignore'))]),\n 'cleaning__num__memory': None,\n 'cleaning__num__steps': [('simpleimputer', SimpleImputer(strategy='median')),\n  ('standardscaler', StandardScaler())],\n 'cleaning__num__verbose': False,\n 'cleaning__num__simpleimputer': SimpleImputer(strategy='median'),\n 'cleaning__num__standardscaler': StandardScaler(),\n 'cleaning__num__simpleimputer__add_indicator': False,\n 'cleaning__num__simpleimputer__copy': True,\n 'cleaning__num__simpleimputer__fill_value': None,\n 'cleaning__num__simpleimputer__keep_empty_features': False,\n 'cleaning__num__simpleimputer__missing_values': nan,\n 'cleaning__num__simpleimputer__strategy': 'median',\n 'cleaning__num__simpleimputer__verbose': 'deprecated',\n 'cleaning__num__standardscaler__copy': True,\n 'cleaning__num__standardscaler__with_mean': True,\n 'cleaning__num__standardscaler__with_std': True,\n 'cleaning__cat__memory': None,\n 'cleaning__cat__steps': [('simpleimputer',\n   SimpleImputer(strategy='most_frequent')),\n  ('onehotencoder', OneHotEncoder(handle_unknown='ignore'))],\n 'cleaning__cat__verbose': False,\n 'cleaning__cat__simpleimputer': SimpleImputer(strategy='most_frequent'),\n 'cleaning__cat__onehotencoder': OneHotEncoder(handle_unknown='ignore'),\n 'cleaning__cat__simpleimputer__add_indicator': False,\n 'cleaning__cat__simpleimputer__copy': True,\n 'cleaning__cat__simpleimputer__fill_value': None,\n 'cleaning__cat__simpleimputer__keep_empty_features': False,\n 'cleaning__cat__simpleimputer__missing_values': nan,\n 'cleaning__cat__simpleimputer__strategy': 'most_frequent',\n 'cleaning__cat__simpleimputer__verbose': 'deprecated',\n 'cleaning__cat__onehotencoder__categories': 'auto',\n 'cleaning__cat__onehotencoder__drop': None,\n 'cleaning__cat__onehotencoder__dtype': numpy.float64,\n 'cleaning__cat__onehotencoder__handle_unknown': 'ignore',\n 'cleaning__cat__onehotencoder__max_categories': None,\n 'cleaning__cat__onehotencoder__min_frequency': None,\n 'cleaning__cat__onehotencoder__sparse': 'deprecated',\n 'cleaning__cat__onehotencoder__sparse_output': True,\n 'ensemble__estimators': [('lrc',\n   LogisticRegression(max_iter=400, warm_start=True)),\n  ('xgb', XGBClassifier(silent=True, tree_method='hist', verbosity=0)),\n  ('rfc', RandomForestClassifier()),\n  ('dtc', DecisionTreeClassifier())],\n 'ensemble__flatten_transform': True,\n 'ensemble__n_jobs': None,\n 'ensemble__verbose': False,\n 'ensemble__voting': 'soft',\n 'ensemble__weights': None,\n 'ensemble__lrc': LogisticRegression(max_iter=400, warm_start=True),\n 'ensemble__xgb': XGBClassifier(silent=True, tree_method='hist', verbosity=0),\n 'ensemble__rfc': RandomForestClassifier(),\n 'ensemble__dtc': DecisionTreeClassifier(),\n 'ensemble__lrc__C': 1.0,\n 'ensemble__lrc__class_weight': None,\n 'ensemble__lrc__dual': False,\n 'ensemble__lrc__fit_intercept': True,\n 'ensemble__lrc__intercept_scaling': 1,\n 'ensemble__lrc__l1_ratio': None,\n 'ensemble__lrc__max_iter': 400,\n 'ensemble__lrc__multi_class': 'auto',\n 'ensemble__lrc__n_jobs': None,\n 'ensemble__lrc__penalty': 'l2',\n 'ensemble__lrc__random_state': None,\n 'ensemble__lrc__solver': 'lbfgs',\n 'ensemble__lrc__tol': 0.0001,\n 'ensemble__lrc__verbose': 0,\n 'ensemble__lrc__warm_start': True,\n 'ensemble__xgb__base_score': 0.5,\n 'ensemble__xgb__booster': 'gbtree',\n 'ensemble__xgb__colsample_bylevel': 1,\n 'ensemble__xgb__colsample_bynode': 1,\n 'ensemble__xgb__colsample_bytree': 1,\n 'ensemble__xgb__gamma': 0,\n 'ensemble__xgb__learning_rate': 0.1,\n 'ensemble__xgb__max_delta_step': 0,\n 'ensemble__xgb__max_depth': 3,\n 'ensemble__xgb__min_child_weight': 1,\n 'ensemble__xgb__missing': None,\n 'ensemble__xgb__n_estimators': 100,\n 'ensemble__xgb__n_jobs': 1,\n 'ensemble__xgb__nthread': None,\n 'ensemble__xgb__objective': 'binary:logistic',\n 'ensemble__xgb__random_state': 0,\n 'ensemble__xgb__reg_alpha': 0,\n 'ensemble__xgb__reg_lambda': 1,\n 'ensemble__xgb__scale_pos_weight': 1,\n 'ensemble__xgb__seed': None,\n 'ensemble__xgb__silent': True,\n 'ensemble__xgb__subsample': 1,\n 'ensemble__xgb__verbosity': 0,\n 'ensemble__xgb__tree_method': 'hist',\n 'ensemble__rfc__bootstrap': True,\n 'ensemble__rfc__ccp_alpha': 0.0,\n 'ensemble__rfc__class_weight': None,\n 'ensemble__rfc__criterion': 'gini',\n 'ensemble__rfc__max_depth': None,\n 'ensemble__rfc__max_features': 'sqrt',\n 'ensemble__rfc__max_leaf_nodes': None,\n 'ensemble__rfc__max_samples': None,\n 'ensemble__rfc__min_impurity_decrease': 0.0,\n 'ensemble__rfc__min_samples_leaf': 1,\n 'ensemble__rfc__min_samples_split': 2,\n 'ensemble__rfc__min_weight_fraction_leaf': 0.0,\n 'ensemble__rfc__n_estimators': 100,\n 'ensemble__rfc__n_jobs': None,\n 'ensemble__rfc__oob_score': False,\n 'ensemble__rfc__random_state': None,\n 'ensemble__rfc__verbose': 0,\n 'ensemble__rfc__warm_start': False,\n 'ensemble__dtc__ccp_alpha': 0.0,\n 'ensemble__dtc__class_weight': None,\n 'ensemble__dtc__criterion': 'gini',\n 'ensemble__dtc__max_depth': None,\n 'ensemble__dtc__max_features': None,\n 'ensemble__dtc__max_leaf_nodes': None,\n 'ensemble__dtc__min_impurity_decrease': 0.0,\n 'ensemble__dtc__min_samples_leaf': 1,\n 'ensemble__dtc__min_samples_split': 2,\n 'ensemble__dtc__min_weight_fraction_leaf': 0.0,\n 'ensemble__dtc__random_state': None,\n 'ensemble__dtc__splitter': 'best'}"
     },
     "execution_count": 9,
     "metadata": {},
     "output_type": "execute_result"
    }
   ],
   "source": [
    "ppl_ensemble.get_params(3)"
   ],
   "metadata": {
    "collapsed": false
   }
  },
  {
   "cell_type": "code",
   "execution_count": 10,
   "outputs": [],
   "source": [
    "# Hyper-parameter\n",
    "hyper_params = {\n",
    "    'ensemble__lrc__solver': ['newton-cg'],\n",
    "    'ensemble__xgb__reg_alpha': [0.1,0.5],\n",
    "    'ensemble__rfc__max_depth': [7,10],\n",
    "    'ensemble__dtc__max_depth': [7,10]\n",
    "}\n",
    "\n",
    "cv_rsf = RepeatedStratifiedKFold(n_splits=2, n_repeats=1)"
   ],
   "metadata": {
    "collapsed": false
   }
  },
  {
   "cell_type": "code",
   "execution_count": 11,
   "outputs": [
    {
     "name": "stdout",
     "output_type": "stream",
     "text": [
      "Fitting 2 folds for each of 8 candidates, totalling 16 fits\n",
      "[CV] END ensemble__dtc__max_depth=7, ensemble__lrc__solver=newton-cg, ensemble__rfc__max_depth=7, ensemble__xgb__reg_alpha=0.1; total time=   1.2s\n",
      "[CV] END ensemble__dtc__max_depth=7, ensemble__lrc__solver=newton-cg, ensemble__rfc__max_depth=7, ensemble__xgb__reg_alpha=0.1; total time=   1.0s\n",
      "[CV] END ensemble__dtc__max_depth=7, ensemble__lrc__solver=newton-cg, ensemble__rfc__max_depth=7, ensemble__xgb__reg_alpha=0.5; total time=   1.0s\n",
      "[CV] END ensemble__dtc__max_depth=7, ensemble__lrc__solver=newton-cg, ensemble__rfc__max_depth=7, ensemble__xgb__reg_alpha=0.5; total time=   1.0s\n",
      "[CV] END ensemble__dtc__max_depth=7, ensemble__lrc__solver=newton-cg, ensemble__rfc__max_depth=10, ensemble__xgb__reg_alpha=0.1; total time=   1.3s\n",
      "[CV] END ensemble__dtc__max_depth=7, ensemble__lrc__solver=newton-cg, ensemble__rfc__max_depth=10, ensemble__xgb__reg_alpha=0.1; total time=   1.3s\n",
      "[CV] END ensemble__dtc__max_depth=7, ensemble__lrc__solver=newton-cg, ensemble__rfc__max_depth=10, ensemble__xgb__reg_alpha=0.5; total time=   1.4s\n",
      "[CV] END ensemble__dtc__max_depth=7, ensemble__lrc__solver=newton-cg, ensemble__rfc__max_depth=10, ensemble__xgb__reg_alpha=0.5; total time=   1.3s\n",
      "[CV] END ensemble__dtc__max_depth=10, ensemble__lrc__solver=newton-cg, ensemble__rfc__max_depth=7, ensemble__xgb__reg_alpha=0.1; total time=   1.2s\n",
      "[CV] END ensemble__dtc__max_depth=10, ensemble__lrc__solver=newton-cg, ensemble__rfc__max_depth=7, ensemble__xgb__reg_alpha=0.1; total time=   1.1s\n",
      "[CV] END ensemble__dtc__max_depth=10, ensemble__lrc__solver=newton-cg, ensemble__rfc__max_depth=7, ensemble__xgb__reg_alpha=0.5; total time=   1.1s\n",
      "[CV] END ensemble__dtc__max_depth=10, ensemble__lrc__solver=newton-cg, ensemble__rfc__max_depth=7, ensemble__xgb__reg_alpha=0.5; total time=   1.0s\n",
      "[CV] END ensemble__dtc__max_depth=10, ensemble__lrc__solver=newton-cg, ensemble__rfc__max_depth=10, ensemble__xgb__reg_alpha=0.1; total time=   1.5s\n",
      "[CV] END ensemble__dtc__max_depth=10, ensemble__lrc__solver=newton-cg, ensemble__rfc__max_depth=10, ensemble__xgb__reg_alpha=0.1; total time=   1.4s\n",
      "[CV] END ensemble__dtc__max_depth=10, ensemble__lrc__solver=newton-cg, ensemble__rfc__max_depth=10, ensemble__xgb__reg_alpha=0.5; total time=   1.3s\n",
      "[CV] END ensemble__dtc__max_depth=10, ensemble__lrc__solver=newton-cg, ensemble__rfc__max_depth=10, ensemble__xgb__reg_alpha=0.5; total time=   1.4s\n"
     ]
    }
   ],
   "source": [
    "# Create pipeline with logistic regression as classifier\n",
    "ppl_tuning = PMMLPipeline(steps=[\n",
    "    ('hyper-tuning', RandomizedSearchCV(ppl_ensemble, param_distributions=hyper_params, scoring='roc_auc', verbose=2, cv=cv_rsf))\n",
    "])\n",
    "\n",
    "ppl_tuning.fit(X_train, y_train)\n",
    "ppl_tuning.verify(X_train.sample(n = 10))"
   ],
   "metadata": {
    "collapsed": false
   }
  },
  {
   "cell_type": "code",
   "execution_count": 12,
   "outputs": [],
   "source": [
    "# summarize result\n",
    "# print('Best Score: %s' % ppl_tuning.best_score_)\n",
    "# print('Best Hyperparameters: %s' % ppl_tuning.best_params_)"
   ],
   "metadata": {
    "collapsed": false
   }
  },
  {
   "cell_type": "code",
   "execution_count": 13,
   "outputs": [],
   "source": [
    "y_pred = ppl_tuning.predict(X_test)"
   ],
   "metadata": {
    "collapsed": false
   }
  },
  {
   "cell_type": "code",
   "execution_count": 14,
   "outputs": [
    {
     "name": "stdout",
     "output_type": "stream",
     "text": [
      "The model accuracy is: 82.3%\n",
      "The model f1 score is: 82.3%\n"
     ]
    }
   ],
   "source": [
    "# using accuracy_score\n",
    "from sklearn.metrics import f1_score\n",
    "\n",
    "print(f'The model accuracy is: {np.round(accuracy_score(y_test, y_pred), decimals=3)*100}%')\n",
    "print(f'The model f1 score is: {np.round(f1_score(y_test, y_pred, average=\"\"\"weighted\"\"\"), decimals=3)*100}%')"
   ],
   "metadata": {
    "collapsed": false
   }
  },
  {
   "cell_type": "code",
   "execution_count": 15,
   "outputs": [
    {
     "data": {
      "text/plain": "<Figure size 864x864 with 2 Axes>",
      "image/png": "[encoded data removed]"
     },
     "metadata": {
      "needs_background": "light"
     },
     "output_type": "display_data"
    }
   ],
   "source": [
    "from sklearn.metrics import confusion_matrix\n",
    "\n",
    "cm = confusion_matrix(y_test, y_pred, labels=ppl_tuning.classes_)\n",
    "plt.figure(figsize=(12, 12))\n",
    "cmap = sns.color_palette(\"Oranges\",12)\n",
    "sns.heatmap(data=cm, cmap=\"RdBu_r\", xticklabels=ppl_tuning.classes_, yticklabels=ppl_tuning.classes_, fmt='g', annot=True)\n",
    "plt.show()"
   ],
   "metadata": {
    "collapsed": false
   }
  },
  {
   "cell_type": "code",
   "execution_count": 16,
   "outputs": [
    {
     "data": {
      "text/plain": "<Figure size 2160x2160 with 0 Axes>"
     },
     "metadata": {},
     "output_type": "display_data"
    },
    {
     "data": {
      "text/plain": "<Figure size 432x288 with 1 Axes>",
      "image/png": "[encoded data removed]"
     },
     "metadata": {
      "needs_background": "light"
     },
     "output_type": "display_data"
    }
   ],
   "source": [
    "# https://inria.github.io/scikit-learn-mooc/python_scripts/dev_features_importance.html\n",
    "def plot_feature_importances(perm_importance_result, feat_name):\n",
    "    \"\"\" bar plot the feature importance \"\"\"\n",
    "    plt.figure(figsize=(30, 30))\n",
    "    fig, ax = plt.subplots()\n",
    "\n",
    "    indices = perm_importance_result['importances_mean'].argsort()\n",
    "    plt.barh(range(len(indices)),\n",
    "             perm_importance_result['importances_mean'][indices],\n",
    "             xerr=perm_importance_result['importances_std'][indices])\n",
    "\n",
    "    ax.set_yticks(range(len(indices)))\n",
    "    tmp = np.array(feat_name)\n",
    "    ax.set_yticklabels(tmp[indices])\n",
    "    ax.set_title(\"Permutation importance\")\n",
    "\n",
    "ppl_ensemble.fit(X_test,y_test)\n",
    "features = ppl_ensemble.get_feature_names_out()\n",
    "perm_importance_result_train = permutation_importance(ppl_tuning, X_test, y_test)\n",
    "plot_feature_importances(perm_importance_result_train, X_test.columns)"
   ],
   "metadata": {
    "collapsed": false
   }
  },
  {
   "cell_type": "markdown",
   "source": [
    "## Save the mode"
   ],
   "metadata": {
    "collapsed": false
   }
  },
  {
   "cell_type": "code",
   "execution_count": 17,
   "outputs": [],
   "source": [
    "# Save the best model in PMML format\n",
    "sklearn2pmml(ppl_tuning, \"../../../data/newspaper-churn-train-ensemble-classifier.pmml\")"
   ],
   "metadata": {
    "collapsed": false
   }
  },
  {
   "cell_type": "code",
   "execution_count": null,
   "outputs": [],
   "source": [],
   "metadata": {
    "collapsed": false
   }
  }
 ],
 "metadata": {
  "kernelspec": {
   "display_name": "Python 3",
   "language": "python",
   "name": "python3"
  },
  "language_info": {
   "codemirror_mode": {
    "name": "ipython",
    "version": 2
   },
   "file_extension": ".py",
   "mimetype": "text/x-python",
   "name": "python",
   "nbconvert_exporter": "python",
   "pygments_lexer": "ipython2",
   "version": "2.7.6"
  }
 },
 "nbformat": 4,
 "nbformat_minor": 0
}
