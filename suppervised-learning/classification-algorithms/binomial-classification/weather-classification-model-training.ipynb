{
 "cells": [
  {
   "cell_type": "markdown",
   "source": [
    "## Weather Classification\n",
    "### Model Training"
   ],
   "metadata": {
    "collapsed": false
   }
  },
  {
   "cell_type": "code",
   "execution_count": 33,
   "outputs": [],
   "source": [
    "# The usual suspects\n",
    "import pandas as pd\n",
    "import numpy as np\n",
    "import matplotlib.pyplot as plt\n",
    "import seaborn as sns\n",
    "\n",
    "# PMML Pipeline(s)\n",
    "from sklearn2pmml import sklearn2pmml\n",
    "from sklearn2pmml.pipeline import PMMLPipeline\n",
    "from sklearn2pmml.preprocessing import LookupTransformer\n",
    "from sklearn2pmml.preprocessing import DaysSinceYearTransformer\n",
    "from sklearn2pmml.preprocessing import PMMLLabelEncoder\n",
    "from sklearn2pmml.decoration import ContinuousDomain\n",
    "from sklearn2pmml.decoration import CategoricalDomain\n",
    "from sklearn2pmml.decoration import DateTimeDomain\n",
    "from sklearn2pmml.feature_extraction.text import Splitter\n",
    "\n",
    "# Data Mapping\n",
    "from sklearn_pandas import DataFrameMapper\n",
    "from sklearn.impute import SimpleImputer\n",
    "from sklearn.preprocessing import StandardScaler\n",
    "from sklearn.feature_extraction.text import CountVectorizer\n",
    "\n",
    "# Classification Models\n",
    "from xgboost import XGBClassifier\n",
    "from sklearn.linear_model import LogisticRegression\n",
    "from sklearn.ensemble import VotingClassifier\n",
    "from sklearn.ensemble import RandomForestClassifier\n",
    "from sklearn.tree import DecisionTreeClassifier\n",
    "\n",
    "# Model Accuracy\n",
    "from sklearn.metrics import accuracy_score\n",
    "\n",
    "# Features Importance\n",
    "from sklearn.inspection import permutation_importance\n",
    "\n",
    "# Model Selection\n",
    "from sklearn.model_selection import RandomizedSearchCV\n",
    "from sklearn.model_selection import RepeatedStratifiedKFold"
   ],
   "metadata": {
    "collapsed": false,
    "ExecuteTime": {
     "start_time": "2023-04-13T22:22:37.253100Z",
     "end_time": "2023-04-13T22:22:37.257661Z"
    }
   }
  },
  {
   "cell_type": "code",
   "execution_count": 34,
   "outputs": [],
   "source": [
    "# Dsplay pipelines\n",
    "from sklearn import set_config\n",
    "set_config(display=\"diagram\")"
   ],
   "metadata": {
    "collapsed": false,
    "ExecuteTime": {
     "start_time": "2023-04-13T22:22:38.992962Z",
     "end_time": "2023-04-13T22:22:39.000070Z"
    }
   }
  },
  {
   "cell_type": "code",
   "execution_count": 35,
   "outputs": [],
   "source": [
    "import warnings\n",
    "warnings.filterwarnings('ignore')"
   ],
   "metadata": {
    "collapsed": false,
    "ExecuteTime": {
     "start_time": "2023-04-13T22:22:39.499578Z",
     "end_time": "2023-04-13T22:22:39.504803Z"
    }
   }
  },
  {
   "cell_type": "markdown",
   "source": [
    "## Data Loading"
   ],
   "metadata": {
    "collapsed": false
   }
  },
  {
   "cell_type": "code",
   "execution_count": 36,
   "outputs": [],
   "source": [
    "from sklearn.model_selection import train_test_split\n",
    "\n",
    "# Newspaper churn dataset\n",
    "# It contains 15.855 records and 19 columns including the target variable Subscriber (YES/NO).\n",
    "# The majority of the features is categorial.\n",
    "df = pd.read_csv('../../../data/weather-classification-clean.csv')\n",
    "\n",
    "X = df.drop('target', axis=1)\n",
    "y = df['target']"
   ],
   "metadata": {
    "collapsed": false,
    "ExecuteTime": {
     "start_time": "2023-04-13T22:22:40.583500Z",
     "end_time": "2023-04-13T22:22:40.649096Z"
    }
   }
  },
  {
   "cell_type": "code",
   "execution_count": 37,
   "outputs": [],
   "source": [
    "# Data Split\n",
    "X_train, X_test, y_train, y_test = train_test_split(X, y, test_size=0.2)"
   ],
   "metadata": {
    "collapsed": false,
    "ExecuteTime": {
     "start_time": "2023-04-13T22:22:41.558627Z",
     "end_time": "2023-04-13T22:22:41.571400Z"
    }
   }
  },
  {
   "cell_type": "code",
   "execution_count": 38,
   "outputs": [
    {
     "data": {
      "text/plain": "Date              object\nLocation          object\nMinTemp          float64\nMaxTemp          float64\nRainfall         float64\nWindGustDir       object\nWindGustSpeed    float64\nWindDir9am        object\nWindDir3pm        object\nWindSpeed9am     float64\nWindSpeed3pm     float64\nHumidity9am      float64\nHumidity3pm      float64\nPressure9am      float64\nPressure3pm      float64\nCloud9am         float64\nCloud3pm         float64\nTemp9am          float64\nTemp3pm          float64\nRainToday         object\ndtype: object"
     },
     "execution_count": 38,
     "metadata": {},
     "output_type": "execute_result"
    }
   ],
   "source": [
    "X_train.dtypes"
   ],
   "metadata": {
    "collapsed": false,
    "ExecuteTime": {
     "start_time": "2023-04-13T22:22:42.098694Z",
     "end_time": "2023-04-13T22:22:42.114275Z"
    }
   }
  },
  {
   "cell_type": "code",
   "execution_count": 39,
   "outputs": [],
   "source": [
    "# Selecting categorical, numeric, datatime, and text features\n",
    "numeric_features = ['MinTemp','MaxTemp','Rainfall','WindGustSpeed','WindSpeed9am','WindSpeed3pm','Humidity9am','Humidity3pm','Pressure9am','Cloud9am','Cloud3pm']\n",
    "categorical_features = ['Location', 'WindGustDir', 'WindDir9am', 'WindDir3pm', 'RainToday']\n",
    "datetime_features = ['Date']\n",
    "text_features = []\n",
    "drop_features = ['Pressure3pm', 'Temp3pm', 'Temp9am']"
   ],
   "metadata": {
    "collapsed": false,
    "ExecuteTime": {
     "start_time": "2023-04-13T22:22:42.954847Z",
     "end_time": "2023-04-13T22:22:42.962121Z"
    }
   }
  },
  {
   "cell_type": "code",
   "execution_count": 40,
   "outputs": [],
   "source": [
    "mapper = DataFrameMapper(\n",
    "    [([col_num], [ContinuousDomain(), SimpleImputer(strategy='median'), StandardScaler()]) for col_num in numeric_features] +\n",
    "    [([col_cat], [CategoricalDomain(), SimpleImputer(strategy='most_frequent'), PMMLLabelEncoder(), StandardScaler()]) for col_cat in categorical_features] +\n",
    "    [([col_dat], [DateTimeDomain(), DaysSinceYearTransformer(year = 1968), StandardScaler()]) for col_dat in datetime_features] +\n",
    "    [(col_txt,   [CategoricalDomain(), CountVectorizer(tokenizer=Splitter(), max_features=5)]) for col_txt in text_features],\n",
    "    drop_cols=drop_features,\n",
    "    input_df=True,\n",
    "    df_out=True\n",
    ")"
   ],
   "metadata": {
    "collapsed": false,
    "ExecuteTime": {
     "start_time": "2023-04-13T22:22:43.699107Z",
     "end_time": "2023-04-13T22:22:43.707446Z"
    }
   }
  },
  {
   "cell_type": "code",
   "execution_count": 41,
   "outputs": [
    {
     "data": {
      "text/plain": "        MinTemp   MaxTemp  Rainfall  WindGustSpeed  WindSpeed9am  \\\n2015   0.113541  0.628512 -0.061535      -0.051639     -0.813016   \n23070 -1.253099 -1.082565 -0.376834      -1.790601     -1.523968   \n11714  0.892007  1.542193 -0.376834      -0.209727      0.727381   \n22322  1.237992  0.944147  1.424873       1.134016      0.490397   \n3520   0.511423  0.827860  2.190599      -0.051639     -0.694524   \n...         ...       ...       ...            ...           ...   \n8895  -1.460690 -0.467906 -0.376834      -0.604945     -0.457540   \n17552  0.130840 -0.982891  0.073593       2.872977      2.623254   \n10272  0.130840 -0.849992  2.866239       0.422623      0.845873   \n7730   1.272590  2.555550 -0.331791      -0.051639      0.490397   \n22748 -1.356895 -1.049340 -0.376834      -0.763033     -1.523968   \n\n       WindSpeed3pm  Humidity9am  Humidity3pm  Pressure9am  Cloud9am  \\\n2015       0.516543     0.257719    -0.479475    -1.788033  0.163504   \n23070     -1.223835     1.761454     0.558747     1.306710  0.163504   \n11714      0.168467    -0.783329    -1.221062     0.476016 -1.691364   \n22322      0.980643     0.720407     0.262112    -0.696729  0.163504   \n3520      -0.295633     0.489063     0.014917    -0.208085  0.163504   \n...             ...          ...          ...          ...       ...   \n8895      -0.991784    -1.130345    -1.270501     0.052525 -1.691364   \n17552      1.444744    -0.899001     0.064356    -1.055068 -1.227647   \n10272      0.516543     0.720407     0.855382     2.577184  1.554655   \n7730      -0.527684    -1.303853    -1.715453    -0.631576 -2.155080   \n22748     -0.063583     1.240931     0.163234     2.674913  0.163504   \n\n       Cloud3pm  Location  WindGustDir  WindDir9am  WindDir3pm  RainToday  \\\n2015   0.165716 -1.567930     1.178019   -1.538798    0.013985   1.937163   \n23070  0.165716 -1.254714    -1.374923    0.863932   -1.078350  -0.516219   \n11714 -0.826907  0.624587    -1.587669   -1.757228   -1.515285  -0.516219   \n22322  0.165716 -1.254714    -0.736688   -1.320368   -1.296818   1.937163   \n3520   0.165716 -0.315063     0.965274   -1.101938   -0.422949   1.937163   \n...         ...       ...          ...         ...         ...        ...   \n8895  -2.315842  0.311370     0.965274    1.519221    1.761723  -0.516219   \n17552 -1.323219  1.251020     1.603510    1.519221    1.761723   1.937163   \n10272  1.654651  0.311370     1.603510    0.863932    1.106321   1.937163   \n7730  -1.323219 -0.001847     1.603510   -1.101938    1.761723  -0.516219   \n22748  0.165716 -1.254714     0.327038    0.863932    0.450920  -0.516219   \n\n           Date  \n2015   0.673854  \n23070 -0.324604  \n11714 -0.853463  \n22322 -1.304055  \n3520  -0.989870  \n...         ...  \n8895  -1.193363  \n17552 -0.288825  \n10272  0.880701  \n7730   0.751002  \n22748 -0.733827  \n\n[5936 rows x 17 columns]",
      "text/html": "<div>\n<style scoped>\n    .dataframe tbody tr th:only-of-type {\n        vertical-align: middle;\n    }\n\n    .dataframe tbody tr th {\n        vertical-align: top;\n    }\n\n    .dataframe thead th {\n        text-align: right;\n    }\n</style>\n<table border=\"1\" class=\"dataframe\">\n  <thead>\n    <tr style=\"text-align: right;\">\n      <th></th>\n      <th>MinTemp</th>\n      <th>MaxTemp</th>\n      <th>Rainfall</th>\n      <th>WindGustSpeed</th>\n      <th>WindSpeed9am</th>\n      <th>WindSpeed3pm</th>\n      <th>Humidity9am</th>\n      <th>Humidity3pm</th>\n      <th>Pressure9am</th>\n      <th>Cloud9am</th>\n      <th>Cloud3pm</th>\n      <th>Location</th>\n      <th>WindGustDir</th>\n      <th>WindDir9am</th>\n      <th>WindDir3pm</th>\n      <th>RainToday</th>\n      <th>Date</th>\n    </tr>\n  </thead>\n  <tbody>\n    <tr>\n      <th>2015</th>\n      <td>0.113541</td>\n      <td>0.628512</td>\n      <td>-0.061535</td>\n      <td>-0.051639</td>\n      <td>-0.813016</td>\n      <td>0.516543</td>\n      <td>0.257719</td>\n      <td>-0.479475</td>\n      <td>-1.788033</td>\n      <td>0.163504</td>\n      <td>0.165716</td>\n      <td>-1.567930</td>\n      <td>1.178019</td>\n      <td>-1.538798</td>\n      <td>0.013985</td>\n      <td>1.937163</td>\n      <td>0.673854</td>\n    </tr>\n    <tr>\n      <th>23070</th>\n      <td>-1.253099</td>\n      <td>-1.082565</td>\n      <td>-0.376834</td>\n      <td>-1.790601</td>\n      <td>-1.523968</td>\n      <td>-1.223835</td>\n      <td>1.761454</td>\n      <td>0.558747</td>\n      <td>1.306710</td>\n      <td>0.163504</td>\n      <td>0.165716</td>\n      <td>-1.254714</td>\n      <td>-1.374923</td>\n      <td>0.863932</td>\n      <td>-1.078350</td>\n      <td>-0.516219</td>\n      <td>-0.324604</td>\n    </tr>\n    <tr>\n      <th>11714</th>\n      <td>0.892007</td>\n      <td>1.542193</td>\n      <td>-0.376834</td>\n      <td>-0.209727</td>\n      <td>0.727381</td>\n      <td>0.168467</td>\n      <td>-0.783329</td>\n      <td>-1.221062</td>\n      <td>0.476016</td>\n      <td>-1.691364</td>\n      <td>-0.826907</td>\n      <td>0.624587</td>\n      <td>-1.587669</td>\n      <td>-1.757228</td>\n      <td>-1.515285</td>\n      <td>-0.516219</td>\n      <td>-0.853463</td>\n    </tr>\n    <tr>\n      <th>22322</th>\n      <td>1.237992</td>\n      <td>0.944147</td>\n      <td>1.424873</td>\n      <td>1.134016</td>\n      <td>0.490397</td>\n      <td>0.980643</td>\n      <td>0.720407</td>\n      <td>0.262112</td>\n      <td>-0.696729</td>\n      <td>0.163504</td>\n      <td>0.165716</td>\n      <td>-1.254714</td>\n      <td>-0.736688</td>\n      <td>-1.320368</td>\n      <td>-1.296818</td>\n      <td>1.937163</td>\n      <td>-1.304055</td>\n    </tr>\n    <tr>\n      <th>3520</th>\n      <td>0.511423</td>\n      <td>0.827860</td>\n      <td>2.190599</td>\n      <td>-0.051639</td>\n      <td>-0.694524</td>\n      <td>-0.295633</td>\n      <td>0.489063</td>\n      <td>0.014917</td>\n      <td>-0.208085</td>\n      <td>0.163504</td>\n      <td>0.165716</td>\n      <td>-0.315063</td>\n      <td>0.965274</td>\n      <td>-1.101938</td>\n      <td>-0.422949</td>\n      <td>1.937163</td>\n      <td>-0.989870</td>\n    </tr>\n    <tr>\n      <th>...</th>\n      <td>...</td>\n      <td>...</td>\n      <td>...</td>\n      <td>...</td>\n      <td>...</td>\n      <td>...</td>\n      <td>...</td>\n      <td>...</td>\n      <td>...</td>\n      <td>...</td>\n      <td>...</td>\n      <td>...</td>\n      <td>...</td>\n      <td>...</td>\n      <td>...</td>\n      <td>...</td>\n      <td>...</td>\n    </tr>\n    <tr>\n      <th>8895</th>\n      <td>-1.460690</td>\n      <td>-0.467906</td>\n      <td>-0.376834</td>\n      <td>-0.604945</td>\n      <td>-0.457540</td>\n      <td>-0.991784</td>\n      <td>-1.130345</td>\n      <td>-1.270501</td>\n      <td>0.052525</td>\n      <td>-1.691364</td>\n      <td>-2.315842</td>\n      <td>0.311370</td>\n      <td>0.965274</td>\n      <td>1.519221</td>\n      <td>1.761723</td>\n      <td>-0.516219</td>\n      <td>-1.193363</td>\n    </tr>\n    <tr>\n      <th>17552</th>\n      <td>0.130840</td>\n      <td>-0.982891</td>\n      <td>0.073593</td>\n      <td>2.872977</td>\n      <td>2.623254</td>\n      <td>1.444744</td>\n      <td>-0.899001</td>\n      <td>0.064356</td>\n      <td>-1.055068</td>\n      <td>-1.227647</td>\n      <td>-1.323219</td>\n      <td>1.251020</td>\n      <td>1.603510</td>\n      <td>1.519221</td>\n      <td>1.761723</td>\n      <td>1.937163</td>\n      <td>-0.288825</td>\n    </tr>\n    <tr>\n      <th>10272</th>\n      <td>0.130840</td>\n      <td>-0.849992</td>\n      <td>2.866239</td>\n      <td>0.422623</td>\n      <td>0.845873</td>\n      <td>0.516543</td>\n      <td>0.720407</td>\n      <td>0.855382</td>\n      <td>2.577184</td>\n      <td>1.554655</td>\n      <td>1.654651</td>\n      <td>0.311370</td>\n      <td>1.603510</td>\n      <td>0.863932</td>\n      <td>1.106321</td>\n      <td>1.937163</td>\n      <td>0.880701</td>\n    </tr>\n    <tr>\n      <th>7730</th>\n      <td>1.272590</td>\n      <td>2.555550</td>\n      <td>-0.331791</td>\n      <td>-0.051639</td>\n      <td>0.490397</td>\n      <td>-0.527684</td>\n      <td>-1.303853</td>\n      <td>-1.715453</td>\n      <td>-0.631576</td>\n      <td>-2.155080</td>\n      <td>-1.323219</td>\n      <td>-0.001847</td>\n      <td>1.603510</td>\n      <td>-1.101938</td>\n      <td>1.761723</td>\n      <td>-0.516219</td>\n      <td>0.751002</td>\n    </tr>\n    <tr>\n      <th>22748</th>\n      <td>-1.356895</td>\n      <td>-1.049340</td>\n      <td>-0.376834</td>\n      <td>-0.763033</td>\n      <td>-1.523968</td>\n      <td>-0.063583</td>\n      <td>1.240931</td>\n      <td>0.163234</td>\n      <td>2.674913</td>\n      <td>0.163504</td>\n      <td>0.165716</td>\n      <td>-1.254714</td>\n      <td>0.327038</td>\n      <td>0.863932</td>\n      <td>0.450920</td>\n      <td>-0.516219</td>\n      <td>-0.733827</td>\n    </tr>\n  </tbody>\n</table>\n<p>5936 rows × 17 columns</p>\n</div>"
     },
     "execution_count": 41,
     "metadata": {},
     "output_type": "execute_result"
    }
   ],
   "source": [
    "X_trans = mapper.fit_transform(X_test)\n",
    "X_trans"
   ],
   "metadata": {
    "collapsed": false,
    "ExecuteTime": {
     "start_time": "2023-04-13T22:22:44.809128Z",
     "end_time": "2023-04-13T22:22:46.436321Z"
    }
   }
  },
  {
   "cell_type": "markdown",
   "source": [
    "## Ensemble of models"
   ],
   "metadata": {
    "collapsed": false
   }
  },
  {
   "cell_type": "code",
   "execution_count": 11,
   "outputs": [],
   "source": [
    "# Ensemble of models\n",
    "estimator = []\n",
    "estimator.append(('lrc',LogisticRegression(warm_start=True, max_iter=400)))\n",
    "estimator.append(('xgb', XGBClassifier(tree_method=\"hist\", verbosity=0, silent=True)))\n",
    "estimator.append(('rfc', RandomForestClassifier()))\n",
    "estimator.append(('dtc', DecisionTreeClassifier()))"
   ],
   "metadata": {
    "collapsed": false,
    "ExecuteTime": {
     "start_time": "2023-04-13T22:16:09.044230Z",
     "end_time": "2023-04-13T22:16:09.053518Z"
    }
   }
  },
  {
   "cell_type": "code",
   "execution_count": 12,
   "outputs": [],
   "source": [
    "ppl_ensemble = PMMLPipeline([\n",
    "    (\"mapper\", mapper),\n",
    "    ('ensemble', VotingClassifier(estimators = estimator, voting ='soft'))\n",
    "])"
   ],
   "metadata": {
    "collapsed": false,
    "ExecuteTime": {
     "start_time": "2023-04-13T22:16:10.072649Z",
     "end_time": "2023-04-13T22:16:10.083499Z"
    }
   }
  },
  {
   "cell_type": "code",
   "execution_count": 13,
   "outputs": [
    {
     "data": {
      "text/plain": "PMMLPipeline(steps=[('mapper', DataFrameMapper(df_out=True, drop_cols=['Pressure3pm', 'Temp3pm', 'Temp9am'],\n                features=[(['MinTemp'],\n                           [ContinuousDomain(),\n                            SimpleImputer(strategy='median'),\n                            StandardScaler()]),\n                          (['MaxTemp'],\n                           [ContinuousDomain(),\n                            SimpleImputer(strategy='median'),\n                            StandardScaler()]),\n                          (['Rainfall'],\n                           [ContinuousDomain(),\n                            SimpleImputer(strategy='median'),\n                            StandardScaler()]),\n                          (['WindGus...\n                            PMMLLabelEncoder(), StandardScaler()]),\n                          (['WindDir3pm'],\n                           [CategoricalDomain(),\n                            SimpleImputer(strategy='most_frequent'),\n                            PMMLLabelEncoder(), StandardScaler()]),\n                          (['RainToday'],\n                           [CategoricalDomain(),\n                            SimpleImputer(strategy='most_frequent'),\n                            PMMLLabelEncoder(), StandardScaler()]),\n                          (['Date'],\n                           [DateTimeDomain(),\n                            DaysSinceYearTransformer(year=1968),\n                            StandardScaler()])],\n                input_df=True)),\n       ('ensemble', VotingClassifier(estimators=[('lrc',\n                              LogisticRegression(max_iter=400,\n                                                 warm_start=True)),\n                             ('xgb',\n                              XGBClassifier(silent=True, tree_method='hist',\n                                            verbosity=0)),\n                             ('rfc', RandomForestClassifier()),\n                             ('dtc', DecisionTreeClassifier())],\n                 voting='soft'))])",
      "text/html": "<style>#sk-container-id-1 {color: black;background-color: white;}#sk-container-id-1 pre{padding: 0;}#sk-container-id-1 div.sk-toggleable {background-color: white;}#sk-container-id-1 label.sk-toggleable__label {cursor: pointer;display: block;width: 100%;margin-bottom: 0;padding: 0.3em;box-sizing: border-box;text-align: center;}#sk-container-id-1 label.sk-toggleable__label-arrow:before {content: \"▸\";float: left;margin-right: 0.25em;color: #696969;}#sk-container-id-1 label.sk-toggleable__label-arrow:hover:before {color: black;}#sk-container-id-1 div.sk-estimator:hover label.sk-toggleable__label-arrow:before {color: black;}#sk-container-id-1 div.sk-toggleable__content {max-height: 0;max-width: 0;overflow: hidden;text-align: left;background-color: #f0f8ff;}#sk-container-id-1 div.sk-toggleable__content pre {margin: 0.2em;color: black;border-radius: 0.25em;background-color: #f0f8ff;}#sk-container-id-1 input.sk-toggleable__control:checked~div.sk-toggleable__content {max-height: 200px;max-width: 100%;overflow: auto;}#sk-container-id-1 input.sk-toggleable__control:checked~label.sk-toggleable__label-arrow:before {content: \"▾\";}#sk-container-id-1 div.sk-estimator input.sk-toggleable__control:checked~label.sk-toggleable__label {background-color: #d4ebff;}#sk-container-id-1 div.sk-label input.sk-toggleable__control:checked~label.sk-toggleable__label {background-color: #d4ebff;}#sk-container-id-1 input.sk-hidden--visually {border: 0;clip: rect(1px 1px 1px 1px);clip: rect(1px, 1px, 1px, 1px);height: 1px;margin: -1px;overflow: hidden;padding: 0;position: absolute;width: 1px;}#sk-container-id-1 div.sk-estimator {font-family: monospace;background-color: #f0f8ff;border: 1px dotted black;border-radius: 0.25em;box-sizing: border-box;margin-bottom: 0.5em;}#sk-container-id-1 div.sk-estimator:hover {background-color: #d4ebff;}#sk-container-id-1 div.sk-parallel-item::after {content: \"\";width: 100%;border-bottom: 1px solid gray;flex-grow: 1;}#sk-container-id-1 div.sk-label:hover label.sk-toggleable__label {background-color: #d4ebff;}#sk-container-id-1 div.sk-serial::before {content: \"\";position: absolute;border-left: 1px solid gray;box-sizing: border-box;top: 0;bottom: 0;left: 50%;z-index: 0;}#sk-container-id-1 div.sk-serial {display: flex;flex-direction: column;align-items: center;background-color: white;padding-right: 0.2em;padding-left: 0.2em;position: relative;}#sk-container-id-1 div.sk-item {position: relative;z-index: 1;}#sk-container-id-1 div.sk-parallel {display: flex;align-items: stretch;justify-content: center;background-color: white;position: relative;}#sk-container-id-1 div.sk-item::before, #sk-container-id-1 div.sk-parallel-item::before {content: \"\";position: absolute;border-left: 1px solid gray;box-sizing: border-box;top: 0;bottom: 0;left: 50%;z-index: -1;}#sk-container-id-1 div.sk-parallel-item {display: flex;flex-direction: column;z-index: 1;position: relative;background-color: white;}#sk-container-id-1 div.sk-parallel-item:first-child::after {align-self: flex-end;width: 50%;}#sk-container-id-1 div.sk-parallel-item:last-child::after {align-self: flex-start;width: 50%;}#sk-container-id-1 div.sk-parallel-item:only-child::after {width: 0;}#sk-container-id-1 div.sk-dashed-wrapped {border: 1px dashed gray;margin: 0 0.4em 0.5em 0.4em;box-sizing: border-box;padding-bottom: 0.4em;background-color: white;}#sk-container-id-1 div.sk-label label {font-family: monospace;font-weight: bold;display: inline-block;line-height: 1.2em;}#sk-container-id-1 div.sk-label-container {text-align: center;}#sk-container-id-1 div.sk-container {/* jupyter's `normalize.less` sets `[hidden] { display: none; }` but bootstrap.min.css set `[hidden] { display: none !important; }` so we also need the `!important` here to be able to override the default hidden behavior on the sphinx rendered scikit-learn.org. See: https://github.com/scikit-learn/scikit-learn/issues/21755 */display: inline-block !important;position: relative;}#sk-container-id-1 div.sk-text-repr-fallback {display: none;}</style><div id=\"sk-container-id-1\" class=\"sk-top-container\"><div class=\"sk-text-repr-fallback\"><pre>PMMLPipeline(steps=[(&#x27;mapper&#x27;, DataFrameMapper(df_out=True, drop_cols=[&#x27;Pressure3pm&#x27;, &#x27;Temp3pm&#x27;, &#x27;Temp9am&#x27;],\n                features=[([&#x27;MinTemp&#x27;],\n                           [ContinuousDomain(),\n                            SimpleImputer(strategy=&#x27;median&#x27;),\n                            StandardScaler()]),\n                          ([&#x27;MaxTemp&#x27;],\n                           [ContinuousDomain(),\n                            SimpleImputer(strategy=&#x27;median&#x27;),\n                            StandardScaler()]),\n                          ([&#x27;Rainfall&#x27;],\n                           [ContinuousDomain(),\n                            SimpleImputer(strategy=&#x27;median&#x27;),\n                            StandardScaler()]),\n                          ([&#x27;WindGus...\n                            PMMLLabelEncoder(), StandardScaler()]),\n                          ([&#x27;WindDir3pm&#x27;],\n                           [CategoricalDomain(),\n                            SimpleImputer(strategy=&#x27;most_frequent&#x27;),\n                            PMMLLabelEncoder(), StandardScaler()]),\n                          ([&#x27;RainToday&#x27;],\n                           [CategoricalDomain(),\n                            SimpleImputer(strategy=&#x27;most_frequent&#x27;),\n                            PMMLLabelEncoder(), StandardScaler()]),\n                          ([&#x27;Date&#x27;],\n                           [DateTimeDomain(),\n                            DaysSinceYearTransformer(year=1968),\n                            StandardScaler()])],\n                input_df=True)),\n       (&#x27;ensemble&#x27;, VotingClassifier(estimators=[(&#x27;lrc&#x27;,\n                              LogisticRegression(max_iter=400,\n                                                 warm_start=True)),\n                             (&#x27;xgb&#x27;,\n                              XGBClassifier(silent=True, tree_method=&#x27;hist&#x27;,\n                                            verbosity=0)),\n                             (&#x27;rfc&#x27;, RandomForestClassifier()),\n                             (&#x27;dtc&#x27;, DecisionTreeClassifier())],\n                 voting=&#x27;soft&#x27;))])</pre><b>In a Jupyter environment, please rerun this cell to show the HTML representation or trust the notebook. <br />On GitHub, the HTML representation is unable to render, please try loading this page with nbviewer.org.</b></div><div class=\"sk-container\" hidden><div class=\"sk-item sk-dashed-wrapped\"><div class=\"sk-label-container\"><div class=\"sk-label sk-toggleable\"><input class=\"sk-toggleable__control sk-hidden--visually\" id=\"sk-estimator-id-1\" type=\"checkbox\" ><label for=\"sk-estimator-id-1\" class=\"sk-toggleable__label sk-toggleable__label-arrow\">PMMLPipeline</label><div class=\"sk-toggleable__content\"><pre>PMMLPipeline(steps=[(&#x27;mapper&#x27;, DataFrameMapper(df_out=True, drop_cols=[&#x27;Pressure3pm&#x27;, &#x27;Temp3pm&#x27;, &#x27;Temp9am&#x27;],\n                features=[([&#x27;MinTemp&#x27;],\n                           [ContinuousDomain(),\n                            SimpleImputer(strategy=&#x27;median&#x27;),\n                            StandardScaler()]),\n                          ([&#x27;MaxTemp&#x27;],\n                           [ContinuousDomain(),\n                            SimpleImputer(strategy=&#x27;median&#x27;),\n                            StandardScaler()]),\n                          ([&#x27;Rainfall&#x27;],\n                           [ContinuousDomain(),\n                            SimpleImputer(strategy=&#x27;median&#x27;),\n                            StandardScaler()]),\n                          ([&#x27;WindGus...\n                            PMMLLabelEncoder(), StandardScaler()]),\n                          ([&#x27;WindDir3pm&#x27;],\n                           [CategoricalDomain(),\n                            SimpleImputer(strategy=&#x27;most_frequent&#x27;),\n                            PMMLLabelEncoder(), StandardScaler()]),\n                          ([&#x27;RainToday&#x27;],\n                           [CategoricalDomain(),\n                            SimpleImputer(strategy=&#x27;most_frequent&#x27;),\n                            PMMLLabelEncoder(), StandardScaler()]),\n                          ([&#x27;Date&#x27;],\n                           [DateTimeDomain(),\n                            DaysSinceYearTransformer(year=1968),\n                            StandardScaler()])],\n                input_df=True)),\n       (&#x27;ensemble&#x27;, VotingClassifier(estimators=[(&#x27;lrc&#x27;,\n                              LogisticRegression(max_iter=400,\n                                                 warm_start=True)),\n                             (&#x27;xgb&#x27;,\n                              XGBClassifier(silent=True, tree_method=&#x27;hist&#x27;,\n                                            verbosity=0)),\n                             (&#x27;rfc&#x27;, RandomForestClassifier()),\n                             (&#x27;dtc&#x27;, DecisionTreeClassifier())],\n                 voting=&#x27;soft&#x27;))])</pre></div></div></div><div class=\"sk-serial\"><div class=\"sk-item\"><div class=\"sk-estimator sk-toggleable\"><input class=\"sk-toggleable__control sk-hidden--visually\" id=\"sk-estimator-id-2\" type=\"checkbox\" ><label for=\"sk-estimator-id-2\" class=\"sk-toggleable__label sk-toggleable__label-arrow\">DataFrameMapper</label><div class=\"sk-toggleable__content\"><pre>DataFrameMapper(df_out=True, drop_cols=[&#x27;Pressure3pm&#x27;, &#x27;Temp3pm&#x27;, &#x27;Temp9am&#x27;],\n                features=[([&#x27;MinTemp&#x27;],\n                           [ContinuousDomain(),\n                            SimpleImputer(strategy=&#x27;median&#x27;),\n                            StandardScaler()]),\n                          ([&#x27;MaxTemp&#x27;],\n                           [ContinuousDomain(),\n                            SimpleImputer(strategy=&#x27;median&#x27;),\n                            StandardScaler()]),\n                          ([&#x27;Rainfall&#x27;],\n                           [ContinuousDomain(),\n                            SimpleImputer(strategy=&#x27;median&#x27;),\n                            StandardScaler()]),\n                          ([&#x27;WindGus...\n                            PMMLLabelEncoder(), StandardScaler()]),\n                          ([&#x27;WindDir3pm&#x27;],\n                           [CategoricalDomain(),\n                            SimpleImputer(strategy=&#x27;most_frequent&#x27;),\n                            PMMLLabelEncoder(), StandardScaler()]),\n                          ([&#x27;RainToday&#x27;],\n                           [CategoricalDomain(),\n                            SimpleImputer(strategy=&#x27;most_frequent&#x27;),\n                            PMMLLabelEncoder(), StandardScaler()]),\n                          ([&#x27;Date&#x27;],\n                           [DateTimeDomain(),\n                            DaysSinceYearTransformer(year=1968),\n                            StandardScaler()])],\n                input_df=True)</pre></div></div></div><div class=\"sk-item sk-dashed-wrapped\"><div class=\"sk-label-container\"><div class=\"sk-label sk-toggleable\"><input class=\"sk-toggleable__control sk-hidden--visually\" id=\"sk-estimator-id-3\" type=\"checkbox\" ><label for=\"sk-estimator-id-3\" class=\"sk-toggleable__label sk-toggleable__label-arrow\">ensemble: VotingClassifier</label><div class=\"sk-toggleable__content\"><pre>VotingClassifier(estimators=[(&#x27;lrc&#x27;,\n                              LogisticRegression(max_iter=400,\n                                                 warm_start=True)),\n                             (&#x27;xgb&#x27;,\n                              XGBClassifier(silent=True, tree_method=&#x27;hist&#x27;,\n                                            verbosity=0)),\n                             (&#x27;rfc&#x27;, RandomForestClassifier()),\n                             (&#x27;dtc&#x27;, DecisionTreeClassifier())],\n                 voting=&#x27;soft&#x27;)</pre></div></div></div><div class=\"sk-parallel\"><div class=\"sk-parallel-item\"><div class=\"sk-item\"><div class=\"sk-label-container\"><div class=\"sk-label sk-toggleable\"><label>lrc</label></div></div><div class=\"sk-serial\"><div class=\"sk-item\"><div class=\"sk-estimator sk-toggleable\"><input class=\"sk-toggleable__control sk-hidden--visually\" id=\"sk-estimator-id-4\" type=\"checkbox\" ><label for=\"sk-estimator-id-4\" class=\"sk-toggleable__label sk-toggleable__label-arrow\">LogisticRegression</label><div class=\"sk-toggleable__content\"><pre>LogisticRegression(max_iter=400, warm_start=True)</pre></div></div></div></div></div></div><div class=\"sk-parallel-item\"><div class=\"sk-item\"><div class=\"sk-label-container\"><div class=\"sk-label sk-toggleable\"><label>xgb</label></div></div><div class=\"sk-serial\"><div class=\"sk-item\"><div class=\"sk-estimator sk-toggleable\"><input class=\"sk-toggleable__control sk-hidden--visually\" id=\"sk-estimator-id-5\" type=\"checkbox\" ><label for=\"sk-estimator-id-5\" class=\"sk-toggleable__label sk-toggleable__label-arrow\">XGBClassifier</label><div class=\"sk-toggleable__content\"><pre>XGBClassifier(silent=True, tree_method=&#x27;hist&#x27;, verbosity=0)</pre></div></div></div></div></div></div><div class=\"sk-parallel-item\"><div class=\"sk-item\"><div class=\"sk-label-container\"><div class=\"sk-label sk-toggleable\"><label>rfc</label></div></div><div class=\"sk-serial\"><div class=\"sk-item\"><div class=\"sk-estimator sk-toggleable\"><input class=\"sk-toggleable__control sk-hidden--visually\" id=\"sk-estimator-id-6\" type=\"checkbox\" ><label for=\"sk-estimator-id-6\" class=\"sk-toggleable__label sk-toggleable__label-arrow\">RandomForestClassifier</label><div class=\"sk-toggleable__content\"><pre>RandomForestClassifier()</pre></div></div></div></div></div></div><div class=\"sk-parallel-item\"><div class=\"sk-item\"><div class=\"sk-label-container\"><div class=\"sk-label sk-toggleable\"><label>dtc</label></div></div><div class=\"sk-serial\"><div class=\"sk-item\"><div class=\"sk-estimator sk-toggleable\"><input class=\"sk-toggleable__control sk-hidden--visually\" id=\"sk-estimator-id-7\" type=\"checkbox\" ><label for=\"sk-estimator-id-7\" class=\"sk-toggleable__label sk-toggleable__label-arrow\">DecisionTreeClassifier</label><div class=\"sk-toggleable__content\"><pre>DecisionTreeClassifier()</pre></div></div></div></div></div></div></div></div></div></div></div></div>"
     },
     "metadata": {},
     "output_type": "display_data"
    }
   ],
   "source": [
    "display(ppl_ensemble)"
   ],
   "metadata": {
    "collapsed": false,
    "ExecuteTime": {
     "start_time": "2023-04-13T22:16:11.025287Z",
     "end_time": "2023-04-13T22:16:11.229249Z"
    }
   }
  },
  {
   "cell_type": "markdown",
   "source": [
    "## Hyper-parameter Tuning"
   ],
   "metadata": {
    "collapsed": false
   }
  },
  {
   "cell_type": "code",
   "execution_count": 15,
   "outputs": [
    {
     "data": {
      "text/plain": "{'apply_transformer': None,\n 'header': None,\n 'memory': None,\n 'predict_proba_transformer': None,\n 'predict_transformer': None,\n 'steps': [('mapper',\n   DataFrameMapper(df_out=True, drop_cols=['Pressure3pm', 'Temp3pm', 'Temp9am'],\n                   features=[(['MinTemp'],\n                              [ContinuousDomain(),\n                               SimpleImputer(strategy='median'),\n                               StandardScaler()]),\n                             (['MaxTemp'],\n                              [ContinuousDomain(),\n                               SimpleImputer(strategy='median'),\n                               StandardScaler()]),\n                             (['Rainfall'],\n                              [ContinuousDomain(),\n                               SimpleImputer(strategy='median'),\n                               StandardScaler()]),\n                             (['WindGus...\n                               PMMLLabelEncoder(), StandardScaler()]),\n                             (['WindDir3pm'],\n                              [CategoricalDomain(),\n                               SimpleImputer(strategy='most_frequent'),\n                               PMMLLabelEncoder(), StandardScaler()]),\n                             (['RainToday'],\n                              [CategoricalDomain(),\n                               SimpleImputer(strategy='most_frequent'),\n                               PMMLLabelEncoder(), StandardScaler()]),\n                             (['Date'],\n                              [DateTimeDomain(),\n                               DaysSinceYearTransformer(year=1968),\n                               StandardScaler()])],\n                   input_df=True)),\n  ('ensemble',\n   VotingClassifier(estimators=[('lrc',\n                                 LogisticRegression(max_iter=400,\n                                                    warm_start=True)),\n                                ('xgb',\n                                 XGBClassifier(silent=True, tree_method='hist',\n                                               verbosity=0)),\n                                ('rfc', RandomForestClassifier()),\n                                ('dtc', DecisionTreeClassifier())],\n                    voting='soft'))],\n 'verbose': False,\n 'mapper': DataFrameMapper(df_out=True, drop_cols=['Pressure3pm', 'Temp3pm', 'Temp9am'],\n                 features=[(['MinTemp'],\n                            [ContinuousDomain(),\n                             SimpleImputer(strategy='median'),\n                             StandardScaler()]),\n                           (['MaxTemp'],\n                            [ContinuousDomain(),\n                             SimpleImputer(strategy='median'),\n                             StandardScaler()]),\n                           (['Rainfall'],\n                            [ContinuousDomain(),\n                             SimpleImputer(strategy='median'),\n                             StandardScaler()]),\n                           (['WindGus...\n                             PMMLLabelEncoder(), StandardScaler()]),\n                           (['WindDir3pm'],\n                            [CategoricalDomain(),\n                             SimpleImputer(strategy='most_frequent'),\n                             PMMLLabelEncoder(), StandardScaler()]),\n                           (['RainToday'],\n                            [CategoricalDomain(),\n                             SimpleImputer(strategy='most_frequent'),\n                             PMMLLabelEncoder(), StandardScaler()]),\n                           (['Date'],\n                            [DateTimeDomain(),\n                             DaysSinceYearTransformer(year=1968),\n                             StandardScaler()])],\n                 input_df=True),\n 'ensemble': VotingClassifier(estimators=[('lrc',\n                               LogisticRegression(max_iter=400,\n                                                  warm_start=True)),\n                              ('xgb',\n                               XGBClassifier(silent=True, tree_method='hist',\n                                             verbosity=0)),\n                              ('rfc', RandomForestClassifier()),\n                              ('dtc', DecisionTreeClassifier())],\n                  voting='soft'),\n 'mapper__default': False,\n 'mapper__df_out': True,\n 'mapper__drop_cols': ['Pressure3pm', 'Temp3pm', 'Temp9am'],\n 'mapper__features': [(['MinTemp'],\n   [ContinuousDomain(), SimpleImputer(strategy='median'), StandardScaler()]),\n  (['MaxTemp'],\n   [ContinuousDomain(), SimpleImputer(strategy='median'), StandardScaler()]),\n  (['Rainfall'],\n   [ContinuousDomain(), SimpleImputer(strategy='median'), StandardScaler()]),\n  (['WindGustSpeed'],\n   [ContinuousDomain(), SimpleImputer(strategy='median'), StandardScaler()]),\n  (['WindSpeed9am'],\n   [ContinuousDomain(), SimpleImputer(strategy='median'), StandardScaler()]),\n  (['WindSpeed3pm'],\n   [ContinuousDomain(), SimpleImputer(strategy='median'), StandardScaler()]),\n  (['Humidity9am'],\n   [ContinuousDomain(), SimpleImputer(strategy='median'), StandardScaler()]),\n  (['Humidity3pm'],\n   [ContinuousDomain(), SimpleImputer(strategy='median'), StandardScaler()]),\n  (['Pressure9am'],\n   [ContinuousDomain(), SimpleImputer(strategy='median'), StandardScaler()]),\n  (['Cloud9am'],\n   [ContinuousDomain(), SimpleImputer(strategy='median'), StandardScaler()]),\n  (['Cloud3pm'],\n   [ContinuousDomain(), SimpleImputer(strategy='median'), StandardScaler()]),\n  (['Location'],\n   [CategoricalDomain(),\n    SimpleImputer(strategy='most_frequent'),\n    PMMLLabelEncoder(),\n    StandardScaler()]),\n  (['WindGustDir'],\n   [CategoricalDomain(),\n    SimpleImputer(strategy='most_frequent'),\n    PMMLLabelEncoder(),\n    StandardScaler()]),\n  (['WindDir9am'],\n   [CategoricalDomain(),\n    SimpleImputer(strategy='most_frequent'),\n    PMMLLabelEncoder(),\n    StandardScaler()]),\n  (['WindDir3pm'],\n   [CategoricalDomain(),\n    SimpleImputer(strategy='most_frequent'),\n    PMMLLabelEncoder(),\n    StandardScaler()]),\n  (['RainToday'],\n   [CategoricalDomain(),\n    SimpleImputer(strategy='most_frequent'),\n    PMMLLabelEncoder(),\n    StandardScaler()]),\n  (['Date'],\n   [DateTimeDomain(), DaysSinceYearTransformer(year=1968), StandardScaler()])],\n 'mapper__input_df': True,\n 'mapper__sparse': False,\n 'ensemble__estimators': [('lrc',\n   LogisticRegression(max_iter=400, warm_start=True)),\n  ('xgb', XGBClassifier(silent=True, tree_method='hist', verbosity=0)),\n  ('rfc', RandomForestClassifier()),\n  ('dtc', DecisionTreeClassifier())],\n 'ensemble__flatten_transform': True,\n 'ensemble__n_jobs': None,\n 'ensemble__verbose': False,\n 'ensemble__voting': 'soft',\n 'ensemble__weights': None,\n 'ensemble__lrc': LogisticRegression(max_iter=400, warm_start=True),\n 'ensemble__xgb': XGBClassifier(silent=True, tree_method='hist', verbosity=0),\n 'ensemble__rfc': RandomForestClassifier(),\n 'ensemble__dtc': DecisionTreeClassifier(),\n 'ensemble__lrc__C': 1.0,\n 'ensemble__lrc__class_weight': None,\n 'ensemble__lrc__dual': False,\n 'ensemble__lrc__fit_intercept': True,\n 'ensemble__lrc__intercept_scaling': 1,\n 'ensemble__lrc__l1_ratio': None,\n 'ensemble__lrc__max_iter': 400,\n 'ensemble__lrc__multi_class': 'auto',\n 'ensemble__lrc__n_jobs': None,\n 'ensemble__lrc__penalty': 'l2',\n 'ensemble__lrc__random_state': None,\n 'ensemble__lrc__solver': 'lbfgs',\n 'ensemble__lrc__tol': 0.0001,\n 'ensemble__lrc__verbose': 0,\n 'ensemble__lrc__warm_start': True,\n 'ensemble__xgb__base_score': 0.5,\n 'ensemble__xgb__booster': 'gbtree',\n 'ensemble__xgb__colsample_bylevel': 1,\n 'ensemble__xgb__colsample_bynode': 1,\n 'ensemble__xgb__colsample_bytree': 1,\n 'ensemble__xgb__gamma': 0,\n 'ensemble__xgb__learning_rate': 0.1,\n 'ensemble__xgb__max_delta_step': 0,\n 'ensemble__xgb__max_depth': 3,\n 'ensemble__xgb__min_child_weight': 1,\n 'ensemble__xgb__missing': None,\n 'ensemble__xgb__n_estimators': 100,\n 'ensemble__xgb__n_jobs': 1,\n 'ensemble__xgb__nthread': None,\n 'ensemble__xgb__objective': 'binary:logistic',\n 'ensemble__xgb__random_state': 0,\n 'ensemble__xgb__reg_alpha': 0,\n 'ensemble__xgb__reg_lambda': 1,\n 'ensemble__xgb__scale_pos_weight': 1,\n 'ensemble__xgb__seed': None,\n 'ensemble__xgb__silent': True,\n 'ensemble__xgb__subsample': 1,\n 'ensemble__xgb__verbosity': 0,\n 'ensemble__xgb__tree_method': 'hist',\n 'ensemble__rfc__bootstrap': True,\n 'ensemble__rfc__ccp_alpha': 0.0,\n 'ensemble__rfc__class_weight': None,\n 'ensemble__rfc__criterion': 'gini',\n 'ensemble__rfc__max_depth': None,\n 'ensemble__rfc__max_features': 'sqrt',\n 'ensemble__rfc__max_leaf_nodes': None,\n 'ensemble__rfc__max_samples': None,\n 'ensemble__rfc__min_impurity_decrease': 0.0,\n 'ensemble__rfc__min_samples_leaf': 1,\n 'ensemble__rfc__min_samples_split': 2,\n 'ensemble__rfc__min_weight_fraction_leaf': 0.0,\n 'ensemble__rfc__n_estimators': 100,\n 'ensemble__rfc__n_jobs': None,\n 'ensemble__rfc__oob_score': False,\n 'ensemble__rfc__random_state': None,\n 'ensemble__rfc__verbose': 0,\n 'ensemble__rfc__warm_start': False,\n 'ensemble__dtc__ccp_alpha': 0.0,\n 'ensemble__dtc__class_weight': None,\n 'ensemble__dtc__criterion': 'gini',\n 'ensemble__dtc__max_depth': None,\n 'ensemble__dtc__max_features': None,\n 'ensemble__dtc__max_leaf_nodes': None,\n 'ensemble__dtc__min_impurity_decrease': 0.0,\n 'ensemble__dtc__min_samples_leaf': 1,\n 'ensemble__dtc__min_samples_split': 2,\n 'ensemble__dtc__min_weight_fraction_leaf': 0.0,\n 'ensemble__dtc__random_state': None,\n 'ensemble__dtc__splitter': 'best'}"
     },
     "execution_count": 15,
     "metadata": {},
     "output_type": "execute_result"
    }
   ],
   "source": [
    "ppl_ensemble.get_params()"
   ],
   "metadata": {
    "collapsed": false,
    "ExecuteTime": {
     "start_time": "2023-04-13T22:16:39.785689Z",
     "end_time": "2023-04-13T22:16:39.857649Z"
    }
   }
  },
  {
   "cell_type": "code",
   "execution_count": 18,
   "outputs": [],
   "source": [
    "# Hyper-parameter\n",
    "hyper_params = {\n",
    "    'ensemble__lrc__solver': ['newton-cg'],\n",
    "    'ensemble__xgb__reg_alpha': [0.1,0.5],\n",
    "    'ensemble__rfc__max_depth': [7,10],\n",
    "    'ensemble__dtc__max_depth': [7,10]\n",
    "}\n",
    "\n",
    "cv_rsf = RepeatedStratifiedKFold(n_splits=2, n_repeats=1)\n",
    "searcher = RandomizedSearchCV(ppl_ensemble, param_distributions=hyper_params, scoring='roc_auc', verbose=2, cv=cv_rsf)"
   ],
   "metadata": {
    "collapsed": false,
    "ExecuteTime": {
     "start_time": "2023-04-13T22:18:02.810082Z",
     "end_time": "2023-04-13T22:18:02.818909Z"
    }
   }
  },
  {
   "cell_type": "code",
   "execution_count": 19,
   "outputs": [
    {
     "name": "stdout",
     "output_type": "stream",
     "text": [
      "Fitting 2 folds for each of 8 candidates, totalling 16 fits\n",
      "[CV] END ensemble__dtc__max_depth=7, ensemble__lrc__solver=newton-cg, ensemble__rfc__max_depth=7, ensemble__xgb__reg_alpha=0.1; total time=   4.1s\n",
      "[CV] END ensemble__dtc__max_depth=7, ensemble__lrc__solver=newton-cg, ensemble__rfc__max_depth=7, ensemble__xgb__reg_alpha=0.1; total time=   3.8s\n",
      "[CV] END ensemble__dtc__max_depth=7, ensemble__lrc__solver=newton-cg, ensemble__rfc__max_depth=7, ensemble__xgb__reg_alpha=0.5; total time=   3.9s\n",
      "[CV] END ensemble__dtc__max_depth=7, ensemble__lrc__solver=newton-cg, ensemble__rfc__max_depth=7, ensemble__xgb__reg_alpha=0.5; total time=   3.8s\n",
      "[CV] END ensemble__dtc__max_depth=7, ensemble__lrc__solver=newton-cg, ensemble__rfc__max_depth=10, ensemble__xgb__reg_alpha=0.1; total time=   4.1s\n",
      "[CV] END ensemble__dtc__max_depth=7, ensemble__lrc__solver=newton-cg, ensemble__rfc__max_depth=10, ensemble__xgb__reg_alpha=0.1; total time=   4.0s\n",
      "[CV] END ensemble__dtc__max_depth=7, ensemble__lrc__solver=newton-cg, ensemble__rfc__max_depth=10, ensemble__xgb__reg_alpha=0.5; total time=   4.1s\n",
      "[CV] END ensemble__dtc__max_depth=7, ensemble__lrc__solver=newton-cg, ensemble__rfc__max_depth=10, ensemble__xgb__reg_alpha=0.5; total time=   4.1s\n",
      "[CV] END ensemble__dtc__max_depth=10, ensemble__lrc__solver=newton-cg, ensemble__rfc__max_depth=7, ensemble__xgb__reg_alpha=0.1; total time=   3.7s\n",
      "[CV] END ensemble__dtc__max_depth=10, ensemble__lrc__solver=newton-cg, ensemble__rfc__max_depth=7, ensemble__xgb__reg_alpha=0.1; total time=   3.9s\n",
      "[CV] END ensemble__dtc__max_depth=10, ensemble__lrc__solver=newton-cg, ensemble__rfc__max_depth=7, ensemble__xgb__reg_alpha=0.5; total time=   3.8s\n",
      "[CV] END ensemble__dtc__max_depth=10, ensemble__lrc__solver=newton-cg, ensemble__rfc__max_depth=7, ensemble__xgb__reg_alpha=0.5; total time=   3.8s\n",
      "[CV] END ensemble__dtc__max_depth=10, ensemble__lrc__solver=newton-cg, ensemble__rfc__max_depth=10, ensemble__xgb__reg_alpha=0.1; total time=   4.2s\n",
      "[CV] END ensemble__dtc__max_depth=10, ensemble__lrc__solver=newton-cg, ensemble__rfc__max_depth=10, ensemble__xgb__reg_alpha=0.1; total time=   4.0s\n",
      "[CV] END ensemble__dtc__max_depth=10, ensemble__lrc__solver=newton-cg, ensemble__rfc__max_depth=10, ensemble__xgb__reg_alpha=0.5; total time=   4.1s\n",
      "[CV] END ensemble__dtc__max_depth=10, ensemble__lrc__solver=newton-cg, ensemble__rfc__max_depth=10, ensemble__xgb__reg_alpha=0.5; total time=   4.1s\n"
     ]
    },
    {
     "data": {
      "text/plain": "RandomizedSearchCV(cv=RepeatedStratifiedKFold(n_repeats=1, n_splits=2, random_state=None),\n                   estimator=PMMLPipeline(steps=[('mapper', DataFrameMapper(df_out=True, drop_cols=['Pressure3pm', 'Temp3pm', 'Temp9am'], features=[(['MinTemp'], [ContinuousDomain(), SimpleImputer(strategy='median'), StandardScaler()]), (['MaxTemp'], [ContinuousDomain(), SimpleImputer(strate...rue)), ('xgb', XGBClassifier(silent=True, tree_method='hist', verbosity=0)), ('rfc', RandomForestClassifier()), ('dtc', DecisionTreeClassifier())], voting='soft'))]),\n                   param_distributions={'ensemble__dtc__max_depth': [7, 10],\n                                        'ensemble__lrc__solver': ['newton-cg'],\n                                        'ensemble__rfc__max_depth': [7, 10],\n                                        'ensemble__xgb__reg_alpha': [0.1, 0.5]},\n                   scoring='roc_auc', verbose=2)",
      "text/html": "<style>#sk-container-id-2 {color: black;background-color: white;}#sk-container-id-2 pre{padding: 0;}#sk-container-id-2 div.sk-toggleable {background-color: white;}#sk-container-id-2 label.sk-toggleable__label {cursor: pointer;display: block;width: 100%;margin-bottom: 0;padding: 0.3em;box-sizing: border-box;text-align: center;}#sk-container-id-2 label.sk-toggleable__label-arrow:before {content: \"▸\";float: left;margin-right: 0.25em;color: #696969;}#sk-container-id-2 label.sk-toggleable__label-arrow:hover:before {color: black;}#sk-container-id-2 div.sk-estimator:hover label.sk-toggleable__label-arrow:before {color: black;}#sk-container-id-2 div.sk-toggleable__content {max-height: 0;max-width: 0;overflow: hidden;text-align: left;background-color: #f0f8ff;}#sk-container-id-2 div.sk-toggleable__content pre {margin: 0.2em;color: black;border-radius: 0.25em;background-color: #f0f8ff;}#sk-container-id-2 input.sk-toggleable__control:checked~div.sk-toggleable__content {max-height: 200px;max-width: 100%;overflow: auto;}#sk-container-id-2 input.sk-toggleable__control:checked~label.sk-toggleable__label-arrow:before {content: \"▾\";}#sk-container-id-2 div.sk-estimator input.sk-toggleable__control:checked~label.sk-toggleable__label {background-color: #d4ebff;}#sk-container-id-2 div.sk-label input.sk-toggleable__control:checked~label.sk-toggleable__label {background-color: #d4ebff;}#sk-container-id-2 input.sk-hidden--visually {border: 0;clip: rect(1px 1px 1px 1px);clip: rect(1px, 1px, 1px, 1px);height: 1px;margin: -1px;overflow: hidden;padding: 0;position: absolute;width: 1px;}#sk-container-id-2 div.sk-estimator {font-family: monospace;background-color: #f0f8ff;border: 1px dotted black;border-radius: 0.25em;box-sizing: border-box;margin-bottom: 0.5em;}#sk-container-id-2 div.sk-estimator:hover {background-color: #d4ebff;}#sk-container-id-2 div.sk-parallel-item::after {content: \"\";width: 100%;border-bottom: 1px solid gray;flex-grow: 1;}#sk-container-id-2 div.sk-label:hover label.sk-toggleable__label {background-color: #d4ebff;}#sk-container-id-2 div.sk-serial::before {content: \"\";position: absolute;border-left: 1px solid gray;box-sizing: border-box;top: 0;bottom: 0;left: 50%;z-index: 0;}#sk-container-id-2 div.sk-serial {display: flex;flex-direction: column;align-items: center;background-color: white;padding-right: 0.2em;padding-left: 0.2em;position: relative;}#sk-container-id-2 div.sk-item {position: relative;z-index: 1;}#sk-container-id-2 div.sk-parallel {display: flex;align-items: stretch;justify-content: center;background-color: white;position: relative;}#sk-container-id-2 div.sk-item::before, #sk-container-id-2 div.sk-parallel-item::before {content: \"\";position: absolute;border-left: 1px solid gray;box-sizing: border-box;top: 0;bottom: 0;left: 50%;z-index: -1;}#sk-container-id-2 div.sk-parallel-item {display: flex;flex-direction: column;z-index: 1;position: relative;background-color: white;}#sk-container-id-2 div.sk-parallel-item:first-child::after {align-self: flex-end;width: 50%;}#sk-container-id-2 div.sk-parallel-item:last-child::after {align-self: flex-start;width: 50%;}#sk-container-id-2 div.sk-parallel-item:only-child::after {width: 0;}#sk-container-id-2 div.sk-dashed-wrapped {border: 1px dashed gray;margin: 0 0.4em 0.5em 0.4em;box-sizing: border-box;padding-bottom: 0.4em;background-color: white;}#sk-container-id-2 div.sk-label label {font-family: monospace;font-weight: bold;display: inline-block;line-height: 1.2em;}#sk-container-id-2 div.sk-label-container {text-align: center;}#sk-container-id-2 div.sk-container {/* jupyter's `normalize.less` sets `[hidden] { display: none; }` but bootstrap.min.css set `[hidden] { display: none !important; }` so we also need the `!important` here to be able to override the default hidden behavior on the sphinx rendered scikit-learn.org. See: https://github.com/scikit-learn/scikit-learn/issues/21755 */display: inline-block !important;position: relative;}#sk-container-id-2 div.sk-text-repr-fallback {display: none;}</style><div id=\"sk-container-id-2\" class=\"sk-top-container\"><div class=\"sk-text-repr-fallback\"><pre>RandomizedSearchCV(cv=RepeatedStratifiedKFold(n_repeats=1, n_splits=2, random_state=None),\n                   estimator=PMMLPipeline(steps=[(&#x27;mapper&#x27;, DataFrameMapper(df_out=True, drop_cols=[&#x27;Pressure3pm&#x27;, &#x27;Temp3pm&#x27;, &#x27;Temp9am&#x27;], features=[([&#x27;MinTemp&#x27;], [ContinuousDomain(), SimpleImputer(strategy=&#x27;median&#x27;), StandardScaler()]), ([&#x27;MaxTemp&#x27;], [ContinuousDomain(), SimpleImputer(strate...rue)), (&#x27;xgb&#x27;, XGBClassifier(silent=True, tree_method=&#x27;hist&#x27;, verbosity=0)), (&#x27;rfc&#x27;, RandomForestClassifier()), (&#x27;dtc&#x27;, DecisionTreeClassifier())], voting=&#x27;soft&#x27;))]),\n                   param_distributions={&#x27;ensemble__dtc__max_depth&#x27;: [7, 10],\n                                        &#x27;ensemble__lrc__solver&#x27;: [&#x27;newton-cg&#x27;],\n                                        &#x27;ensemble__rfc__max_depth&#x27;: [7, 10],\n                                        &#x27;ensemble__xgb__reg_alpha&#x27;: [0.1, 0.5]},\n                   scoring=&#x27;roc_auc&#x27;, verbose=2)</pre><b>In a Jupyter environment, please rerun this cell to show the HTML representation or trust the notebook. <br />On GitHub, the HTML representation is unable to render, please try loading this page with nbviewer.org.</b></div><div class=\"sk-container\" hidden><div class=\"sk-item sk-dashed-wrapped\"><div class=\"sk-label-container\"><div class=\"sk-label sk-toggleable\"><input class=\"sk-toggleable__control sk-hidden--visually\" id=\"sk-estimator-id-8\" type=\"checkbox\" ><label for=\"sk-estimator-id-8\" class=\"sk-toggleable__label sk-toggleable__label-arrow\">RandomizedSearchCV</label><div class=\"sk-toggleable__content\"><pre>RandomizedSearchCV(cv=RepeatedStratifiedKFold(n_repeats=1, n_splits=2, random_state=None),\n                   estimator=PMMLPipeline(steps=[(&#x27;mapper&#x27;, DataFrameMapper(df_out=True, drop_cols=[&#x27;Pressure3pm&#x27;, &#x27;Temp3pm&#x27;, &#x27;Temp9am&#x27;], features=[([&#x27;MinTemp&#x27;], [ContinuousDomain(), SimpleImputer(strategy=&#x27;median&#x27;), StandardScaler()]), ([&#x27;MaxTemp&#x27;], [ContinuousDomain(), SimpleImputer(strate...rue)), (&#x27;xgb&#x27;, XGBClassifier(silent=True, tree_method=&#x27;hist&#x27;, verbosity=0)), (&#x27;rfc&#x27;, RandomForestClassifier()), (&#x27;dtc&#x27;, DecisionTreeClassifier())], voting=&#x27;soft&#x27;))]),\n                   param_distributions={&#x27;ensemble__dtc__max_depth&#x27;: [7, 10],\n                                        &#x27;ensemble__lrc__solver&#x27;: [&#x27;newton-cg&#x27;],\n                                        &#x27;ensemble__rfc__max_depth&#x27;: [7, 10],\n                                        &#x27;ensemble__xgb__reg_alpha&#x27;: [0.1, 0.5]},\n                   scoring=&#x27;roc_auc&#x27;, verbose=2)</pre></div></div></div><div class=\"sk-parallel\"><div class=\"sk-parallel-item\"><div class=\"sk-item\"><div class=\"sk-label-container\"><div class=\"sk-label sk-toggleable\"><input class=\"sk-toggleable__control sk-hidden--visually\" id=\"sk-estimator-id-9\" type=\"checkbox\" ><label for=\"sk-estimator-id-9\" class=\"sk-toggleable__label sk-toggleable__label-arrow\">estimator: PMMLPipeline</label><div class=\"sk-toggleable__content\"><pre>PMMLPipeline(steps=[(&#x27;mapper&#x27;, DataFrameMapper(df_out=True, drop_cols=[&#x27;Pressure3pm&#x27;, &#x27;Temp3pm&#x27;, &#x27;Temp9am&#x27;],\n                features=[([&#x27;MinTemp&#x27;],\n                           [ContinuousDomain(),\n                            SimpleImputer(strategy=&#x27;median&#x27;),\n                            StandardScaler()]),\n                          ([&#x27;MaxTemp&#x27;],\n                           [ContinuousDomain(),\n                            SimpleImputer(strategy=&#x27;median&#x27;),\n                            StandardScaler()]),\n                          ([&#x27;Rainfall&#x27;],\n                           [ContinuousDomain(),\n                            SimpleImputer(strategy=&#x27;median&#x27;),\n                            StandardScaler()]),\n                          ([&#x27;WindGus...\n                            PMMLLabelEncoder(), StandardScaler()]),\n                          ([&#x27;WindDir3pm&#x27;],\n                           [CategoricalDomain(),\n                            SimpleImputer(strategy=&#x27;most_frequent&#x27;),\n                            PMMLLabelEncoder(), StandardScaler()]),\n                          ([&#x27;RainToday&#x27;],\n                           [CategoricalDomain(),\n                            SimpleImputer(strategy=&#x27;most_frequent&#x27;),\n                            PMMLLabelEncoder(), StandardScaler()]),\n                          ([&#x27;Date&#x27;],\n                           [DateTimeDomain(),\n                            DaysSinceYearTransformer(year=1968),\n                            StandardScaler()])],\n                input_df=True)),\n       (&#x27;ensemble&#x27;, VotingClassifier(estimators=[(&#x27;lrc&#x27;,\n                              LogisticRegression(max_iter=400,\n                                                 warm_start=True)),\n                             (&#x27;xgb&#x27;,\n                              XGBClassifier(silent=True, tree_method=&#x27;hist&#x27;,\n                                            verbosity=0)),\n                             (&#x27;rfc&#x27;, RandomForestClassifier()),\n                             (&#x27;dtc&#x27;, DecisionTreeClassifier())],\n                 voting=&#x27;soft&#x27;))])</pre></div></div></div><div class=\"sk-serial\"><div class=\"sk-item\"><div class=\"sk-serial\"><div class=\"sk-item\"><div class=\"sk-estimator sk-toggleable\"><input class=\"sk-toggleable__control sk-hidden--visually\" id=\"sk-estimator-id-10\" type=\"checkbox\" ><label for=\"sk-estimator-id-10\" class=\"sk-toggleable__label sk-toggleable__label-arrow\">DataFrameMapper</label><div class=\"sk-toggleable__content\"><pre>DataFrameMapper(df_out=True, drop_cols=[&#x27;Pressure3pm&#x27;, &#x27;Temp3pm&#x27;, &#x27;Temp9am&#x27;],\n                features=[([&#x27;MinTemp&#x27;],\n                           [ContinuousDomain(),\n                            SimpleImputer(strategy=&#x27;median&#x27;),\n                            StandardScaler()]),\n                          ([&#x27;MaxTemp&#x27;],\n                           [ContinuousDomain(),\n                            SimpleImputer(strategy=&#x27;median&#x27;),\n                            StandardScaler()]),\n                          ([&#x27;Rainfall&#x27;],\n                           [ContinuousDomain(),\n                            SimpleImputer(strategy=&#x27;median&#x27;),\n                            StandardScaler()]),\n                          ([&#x27;WindGus...\n                            PMMLLabelEncoder(), StandardScaler()]),\n                          ([&#x27;WindDir3pm&#x27;],\n                           [CategoricalDomain(),\n                            SimpleImputer(strategy=&#x27;most_frequent&#x27;),\n                            PMMLLabelEncoder(), StandardScaler()]),\n                          ([&#x27;RainToday&#x27;],\n                           [CategoricalDomain(),\n                            SimpleImputer(strategy=&#x27;most_frequent&#x27;),\n                            PMMLLabelEncoder(), StandardScaler()]),\n                          ([&#x27;Date&#x27;],\n                           [DateTimeDomain(),\n                            DaysSinceYearTransformer(year=1968),\n                            StandardScaler()])],\n                input_df=True)</pre></div></div></div><div class=\"sk-item sk-dashed-wrapped\"><div class=\"sk-label-container\"><div class=\"sk-label sk-toggleable\"><input class=\"sk-toggleable__control sk-hidden--visually\" id=\"sk-estimator-id-11\" type=\"checkbox\" ><label for=\"sk-estimator-id-11\" class=\"sk-toggleable__label sk-toggleable__label-arrow\">ensemble: VotingClassifier</label><div class=\"sk-toggleable__content\"><pre>VotingClassifier(estimators=[(&#x27;lrc&#x27;,\n                              LogisticRegression(max_iter=400,\n                                                 warm_start=True)),\n                             (&#x27;xgb&#x27;,\n                              XGBClassifier(silent=True, tree_method=&#x27;hist&#x27;,\n                                            verbosity=0)),\n                             (&#x27;rfc&#x27;, RandomForestClassifier()),\n                             (&#x27;dtc&#x27;, DecisionTreeClassifier())],\n                 voting=&#x27;soft&#x27;)</pre></div></div></div><div class=\"sk-parallel\"><div class=\"sk-parallel-item\"><div class=\"sk-item\"><div class=\"sk-label-container\"><div class=\"sk-label sk-toggleable\"><label>lrc</label></div></div><div class=\"sk-serial\"><div class=\"sk-item\"><div class=\"sk-estimator sk-toggleable\"><input class=\"sk-toggleable__control sk-hidden--visually\" id=\"sk-estimator-id-12\" type=\"checkbox\" ><label for=\"sk-estimator-id-12\" class=\"sk-toggleable__label sk-toggleable__label-arrow\">LogisticRegression</label><div class=\"sk-toggleable__content\"><pre>LogisticRegression(max_iter=400, warm_start=True)</pre></div></div></div></div></div></div><div class=\"sk-parallel-item\"><div class=\"sk-item\"><div class=\"sk-label-container\"><div class=\"sk-label sk-toggleable\"><label>xgb</label></div></div><div class=\"sk-serial\"><div class=\"sk-item\"><div class=\"sk-estimator sk-toggleable\"><input class=\"sk-toggleable__control sk-hidden--visually\" id=\"sk-estimator-id-13\" type=\"checkbox\" ><label for=\"sk-estimator-id-13\" class=\"sk-toggleable__label sk-toggleable__label-arrow\">XGBClassifier</label><div class=\"sk-toggleable__content\"><pre>XGBClassifier(silent=True, tree_method=&#x27;hist&#x27;, verbosity=0)</pre></div></div></div></div></div></div><div class=\"sk-parallel-item\"><div class=\"sk-item\"><div class=\"sk-label-container\"><div class=\"sk-label sk-toggleable\"><label>rfc</label></div></div><div class=\"sk-serial\"><div class=\"sk-item\"><div class=\"sk-estimator sk-toggleable\"><input class=\"sk-toggleable__control sk-hidden--visually\" id=\"sk-estimator-id-14\" type=\"checkbox\" ><label for=\"sk-estimator-id-14\" class=\"sk-toggleable__label sk-toggleable__label-arrow\">RandomForestClassifier</label><div class=\"sk-toggleable__content\"><pre>RandomForestClassifier()</pre></div></div></div></div></div></div><div class=\"sk-parallel-item\"><div class=\"sk-item\"><div class=\"sk-label-container\"><div class=\"sk-label sk-toggleable\"><label>dtc</label></div></div><div class=\"sk-serial\"><div class=\"sk-item\"><div class=\"sk-estimator sk-toggleable\"><input class=\"sk-toggleable__control sk-hidden--visually\" id=\"sk-estimator-id-15\" type=\"checkbox\" ><label for=\"sk-estimator-id-15\" class=\"sk-toggleable__label sk-toggleable__label-arrow\">DecisionTreeClassifier</label><div class=\"sk-toggleable__content\"><pre>DecisionTreeClassifier()</pre></div></div></div></div></div></div></div></div></div></div></div></div></div></div></div></div></div>"
     },
     "execution_count": 19,
     "metadata": {},
     "output_type": "execute_result"
    }
   ],
   "source": [
    "# Perform model training and hyper-parmeter tuning\n",
    "searcher.fit(X_train, y_train)"
   ],
   "metadata": {
    "collapsed": false,
    "ExecuteTime": {
     "start_time": "2023-04-13T22:18:03.911157Z",
     "end_time": "2023-04-13T22:19:15.187688Z"
    }
   }
  },
  {
   "cell_type": "code",
   "execution_count": 20,
   "outputs": [],
   "source": [
    "# Select best model\n",
    "best_pipeline = searcher.best_estimator_\n",
    "best_params = searcher.best_params_\n",
    "best_pipeline.verify(X_train.sample(n = 10))"
   ],
   "metadata": {
    "collapsed": false,
    "ExecuteTime": {
     "start_time": "2023-04-13T22:19:18.203564Z",
     "end_time": "2023-04-13T22:19:18.290400Z"
    }
   }
  },
  {
   "cell_type": "code",
   "execution_count": 21,
   "outputs": [
    {
     "data": {
      "text/plain": "PMMLPipeline(steps=[('mapper', DataFrameMapper(df_out=True, drop_cols=['Pressure3pm', 'Temp3pm', 'Temp9am'],\n                features=[(['MinTemp'],\n                           [ContinuousDomain(),\n                            SimpleImputer(strategy='median'),\n                            StandardScaler()]),\n                          (['MaxTemp'],\n                           [ContinuousDomain(),\n                            SimpleImputer(strategy='median'),\n                            StandardScaler()]),\n                          (['Rainfall'],\n                           [ContinuousDomain(),\n                            SimpleImputer(strategy='median'),\n                            StandardScaler()]),\n                          (['WindGus...\n                            PMMLLabelEncoder(), StandardScaler()]),\n                          (['WindDir3pm'],\n                           [CategoricalDomain(),\n                            SimpleImputer(strategy='most_frequent'),\n                            PMMLLabelEncoder(), StandardScaler()]),\n                          (['RainToday'],\n                           [CategoricalDomain(),\n                            SimpleImputer(strategy='most_frequent'),\n                            PMMLLabelEncoder(), StandardScaler()]),\n                          (['Date'],\n                           [DateTimeDomain(),\n                            DaysSinceYearTransformer(year=1968),\n                            StandardScaler()])],\n                input_df=True)),\n       ('ensemble', VotingClassifier(estimators=[('lrc',\n                              LogisticRegression(max_iter=400,\n                                                 solver='newton-cg',\n                                                 warm_start=True)),\n                             ('xgb',\n                              XGBClassifier(reg_alpha=0.1, silent=True,\n                                            tree_method='hist', verbosity=0)),\n                             ('rfc', RandomForestClassifier(max_depth=7)),\n                             ('dtc', DecisionTreeClassifier(max_depth=7))],\n                 voting='soft'))])",
      "text/html": "<style>#sk-container-id-3 {color: black;background-color: white;}#sk-container-id-3 pre{padding: 0;}#sk-container-id-3 div.sk-toggleable {background-color: white;}#sk-container-id-3 label.sk-toggleable__label {cursor: pointer;display: block;width: 100%;margin-bottom: 0;padding: 0.3em;box-sizing: border-box;text-align: center;}#sk-container-id-3 label.sk-toggleable__label-arrow:before {content: \"▸\";float: left;margin-right: 0.25em;color: #696969;}#sk-container-id-3 label.sk-toggleable__label-arrow:hover:before {color: black;}#sk-container-id-3 div.sk-estimator:hover label.sk-toggleable__label-arrow:before {color: black;}#sk-container-id-3 div.sk-toggleable__content {max-height: 0;max-width: 0;overflow: hidden;text-align: left;background-color: #f0f8ff;}#sk-container-id-3 div.sk-toggleable__content pre {margin: 0.2em;color: black;border-radius: 0.25em;background-color: #f0f8ff;}#sk-container-id-3 input.sk-toggleable__control:checked~div.sk-toggleable__content {max-height: 200px;max-width: 100%;overflow: auto;}#sk-container-id-3 input.sk-toggleable__control:checked~label.sk-toggleable__label-arrow:before {content: \"▾\";}#sk-container-id-3 div.sk-estimator input.sk-toggleable__control:checked~label.sk-toggleable__label {background-color: #d4ebff;}#sk-container-id-3 div.sk-label input.sk-toggleable__control:checked~label.sk-toggleable__label {background-color: #d4ebff;}#sk-container-id-3 input.sk-hidden--visually {border: 0;clip: rect(1px 1px 1px 1px);clip: rect(1px, 1px, 1px, 1px);height: 1px;margin: -1px;overflow: hidden;padding: 0;position: absolute;width: 1px;}#sk-container-id-3 div.sk-estimator {font-family: monospace;background-color: #f0f8ff;border: 1px dotted black;border-radius: 0.25em;box-sizing: border-box;margin-bottom: 0.5em;}#sk-container-id-3 div.sk-estimator:hover {background-color: #d4ebff;}#sk-container-id-3 div.sk-parallel-item::after {content: \"\";width: 100%;border-bottom: 1px solid gray;flex-grow: 1;}#sk-container-id-3 div.sk-label:hover label.sk-toggleable__label {background-color: #d4ebff;}#sk-container-id-3 div.sk-serial::before {content: \"\";position: absolute;border-left: 1px solid gray;box-sizing: border-box;top: 0;bottom: 0;left: 50%;z-index: 0;}#sk-container-id-3 div.sk-serial {display: flex;flex-direction: column;align-items: center;background-color: white;padding-right: 0.2em;padding-left: 0.2em;position: relative;}#sk-container-id-3 div.sk-item {position: relative;z-index: 1;}#sk-container-id-3 div.sk-parallel {display: flex;align-items: stretch;justify-content: center;background-color: white;position: relative;}#sk-container-id-3 div.sk-item::before, #sk-container-id-3 div.sk-parallel-item::before {content: \"\";position: absolute;border-left: 1px solid gray;box-sizing: border-box;top: 0;bottom: 0;left: 50%;z-index: -1;}#sk-container-id-3 div.sk-parallel-item {display: flex;flex-direction: column;z-index: 1;position: relative;background-color: white;}#sk-container-id-3 div.sk-parallel-item:first-child::after {align-self: flex-end;width: 50%;}#sk-container-id-3 div.sk-parallel-item:last-child::after {align-self: flex-start;width: 50%;}#sk-container-id-3 div.sk-parallel-item:only-child::after {width: 0;}#sk-container-id-3 div.sk-dashed-wrapped {border: 1px dashed gray;margin: 0 0.4em 0.5em 0.4em;box-sizing: border-box;padding-bottom: 0.4em;background-color: white;}#sk-container-id-3 div.sk-label label {font-family: monospace;font-weight: bold;display: inline-block;line-height: 1.2em;}#sk-container-id-3 div.sk-label-container {text-align: center;}#sk-container-id-3 div.sk-container {/* jupyter's `normalize.less` sets `[hidden] { display: none; }` but bootstrap.min.css set `[hidden] { display: none !important; }` so we also need the `!important` here to be able to override the default hidden behavior on the sphinx rendered scikit-learn.org. See: https://github.com/scikit-learn/scikit-learn/issues/21755 */display: inline-block !important;position: relative;}#sk-container-id-3 div.sk-text-repr-fallback {display: none;}</style><div id=\"sk-container-id-3\" class=\"sk-top-container\"><div class=\"sk-text-repr-fallback\"><pre>PMMLPipeline(steps=[(&#x27;mapper&#x27;, DataFrameMapper(df_out=True, drop_cols=[&#x27;Pressure3pm&#x27;, &#x27;Temp3pm&#x27;, &#x27;Temp9am&#x27;],\n                features=[([&#x27;MinTemp&#x27;],\n                           [ContinuousDomain(),\n                            SimpleImputer(strategy=&#x27;median&#x27;),\n                            StandardScaler()]),\n                          ([&#x27;MaxTemp&#x27;],\n                           [ContinuousDomain(),\n                            SimpleImputer(strategy=&#x27;median&#x27;),\n                            StandardScaler()]),\n                          ([&#x27;Rainfall&#x27;],\n                           [ContinuousDomain(),\n                            SimpleImputer(strategy=&#x27;median&#x27;),\n                            StandardScaler()]),\n                          ([&#x27;WindGus...\n                            PMMLLabelEncoder(), StandardScaler()]),\n                          ([&#x27;WindDir3pm&#x27;],\n                           [CategoricalDomain(),\n                            SimpleImputer(strategy=&#x27;most_frequent&#x27;),\n                            PMMLLabelEncoder(), StandardScaler()]),\n                          ([&#x27;RainToday&#x27;],\n                           [CategoricalDomain(),\n                            SimpleImputer(strategy=&#x27;most_frequent&#x27;),\n                            PMMLLabelEncoder(), StandardScaler()]),\n                          ([&#x27;Date&#x27;],\n                           [DateTimeDomain(),\n                            DaysSinceYearTransformer(year=1968),\n                            StandardScaler()])],\n                input_df=True)),\n       (&#x27;ensemble&#x27;, VotingClassifier(estimators=[(&#x27;lrc&#x27;,\n                              LogisticRegression(max_iter=400,\n                                                 solver=&#x27;newton-cg&#x27;,\n                                                 warm_start=True)),\n                             (&#x27;xgb&#x27;,\n                              XGBClassifier(reg_alpha=0.1, silent=True,\n                                            tree_method=&#x27;hist&#x27;, verbosity=0)),\n                             (&#x27;rfc&#x27;, RandomForestClassifier(max_depth=7)),\n                             (&#x27;dtc&#x27;, DecisionTreeClassifier(max_depth=7))],\n                 voting=&#x27;soft&#x27;))])</pre><b>In a Jupyter environment, please rerun this cell to show the HTML representation or trust the notebook. <br />On GitHub, the HTML representation is unable to render, please try loading this page with nbviewer.org.</b></div><div class=\"sk-container\" hidden><div class=\"sk-item sk-dashed-wrapped\"><div class=\"sk-label-container\"><div class=\"sk-label sk-toggleable\"><input class=\"sk-toggleable__control sk-hidden--visually\" id=\"sk-estimator-id-16\" type=\"checkbox\" ><label for=\"sk-estimator-id-16\" class=\"sk-toggleable__label sk-toggleable__label-arrow\">PMMLPipeline</label><div class=\"sk-toggleable__content\"><pre>PMMLPipeline(steps=[(&#x27;mapper&#x27;, DataFrameMapper(df_out=True, drop_cols=[&#x27;Pressure3pm&#x27;, &#x27;Temp3pm&#x27;, &#x27;Temp9am&#x27;],\n                features=[([&#x27;MinTemp&#x27;],\n                           [ContinuousDomain(),\n                            SimpleImputer(strategy=&#x27;median&#x27;),\n                            StandardScaler()]),\n                          ([&#x27;MaxTemp&#x27;],\n                           [ContinuousDomain(),\n                            SimpleImputer(strategy=&#x27;median&#x27;),\n                            StandardScaler()]),\n                          ([&#x27;Rainfall&#x27;],\n                           [ContinuousDomain(),\n                            SimpleImputer(strategy=&#x27;median&#x27;),\n                            StandardScaler()]),\n                          ([&#x27;WindGus...\n                            PMMLLabelEncoder(), StandardScaler()]),\n                          ([&#x27;WindDir3pm&#x27;],\n                           [CategoricalDomain(),\n                            SimpleImputer(strategy=&#x27;most_frequent&#x27;),\n                            PMMLLabelEncoder(), StandardScaler()]),\n                          ([&#x27;RainToday&#x27;],\n                           [CategoricalDomain(),\n                            SimpleImputer(strategy=&#x27;most_frequent&#x27;),\n                            PMMLLabelEncoder(), StandardScaler()]),\n                          ([&#x27;Date&#x27;],\n                           [DateTimeDomain(),\n                            DaysSinceYearTransformer(year=1968),\n                            StandardScaler()])],\n                input_df=True)),\n       (&#x27;ensemble&#x27;, VotingClassifier(estimators=[(&#x27;lrc&#x27;,\n                              LogisticRegression(max_iter=400,\n                                                 solver=&#x27;newton-cg&#x27;,\n                                                 warm_start=True)),\n                             (&#x27;xgb&#x27;,\n                              XGBClassifier(reg_alpha=0.1, silent=True,\n                                            tree_method=&#x27;hist&#x27;, verbosity=0)),\n                             (&#x27;rfc&#x27;, RandomForestClassifier(max_depth=7)),\n                             (&#x27;dtc&#x27;, DecisionTreeClassifier(max_depth=7))],\n                 voting=&#x27;soft&#x27;))])</pre></div></div></div><div class=\"sk-serial\"><div class=\"sk-item\"><div class=\"sk-estimator sk-toggleable\"><input class=\"sk-toggleable__control sk-hidden--visually\" id=\"sk-estimator-id-17\" type=\"checkbox\" ><label for=\"sk-estimator-id-17\" class=\"sk-toggleable__label sk-toggleable__label-arrow\">DataFrameMapper</label><div class=\"sk-toggleable__content\"><pre>DataFrameMapper(df_out=True, drop_cols=[&#x27;Pressure3pm&#x27;, &#x27;Temp3pm&#x27;, &#x27;Temp9am&#x27;],\n                features=[([&#x27;MinTemp&#x27;],\n                           [ContinuousDomain(),\n                            SimpleImputer(strategy=&#x27;median&#x27;),\n                            StandardScaler()]),\n                          ([&#x27;MaxTemp&#x27;],\n                           [ContinuousDomain(),\n                            SimpleImputer(strategy=&#x27;median&#x27;),\n                            StandardScaler()]),\n                          ([&#x27;Rainfall&#x27;],\n                           [ContinuousDomain(),\n                            SimpleImputer(strategy=&#x27;median&#x27;),\n                            StandardScaler()]),\n                          ([&#x27;WindGus...\n                            PMMLLabelEncoder(), StandardScaler()]),\n                          ([&#x27;WindDir3pm&#x27;],\n                           [CategoricalDomain(),\n                            SimpleImputer(strategy=&#x27;most_frequent&#x27;),\n                            PMMLLabelEncoder(), StandardScaler()]),\n                          ([&#x27;RainToday&#x27;],\n                           [CategoricalDomain(),\n                            SimpleImputer(strategy=&#x27;most_frequent&#x27;),\n                            PMMLLabelEncoder(), StandardScaler()]),\n                          ([&#x27;Date&#x27;],\n                           [DateTimeDomain(),\n                            DaysSinceYearTransformer(year=1968),\n                            StandardScaler()])],\n                input_df=True)</pre></div></div></div><div class=\"sk-item sk-dashed-wrapped\"><div class=\"sk-label-container\"><div class=\"sk-label sk-toggleable\"><input class=\"sk-toggleable__control sk-hidden--visually\" id=\"sk-estimator-id-18\" type=\"checkbox\" ><label for=\"sk-estimator-id-18\" class=\"sk-toggleable__label sk-toggleable__label-arrow\">ensemble: VotingClassifier</label><div class=\"sk-toggleable__content\"><pre>VotingClassifier(estimators=[(&#x27;lrc&#x27;,\n                              LogisticRegression(max_iter=400,\n                                                 solver=&#x27;newton-cg&#x27;,\n                                                 warm_start=True)),\n                             (&#x27;xgb&#x27;,\n                              XGBClassifier(reg_alpha=0.1, silent=True,\n                                            tree_method=&#x27;hist&#x27;, verbosity=0)),\n                             (&#x27;rfc&#x27;, RandomForestClassifier(max_depth=7)),\n                             (&#x27;dtc&#x27;, DecisionTreeClassifier(max_depth=7))],\n                 voting=&#x27;soft&#x27;)</pre></div></div></div><div class=\"sk-parallel\"><div class=\"sk-parallel-item\"><div class=\"sk-item\"><div class=\"sk-label-container\"><div class=\"sk-label sk-toggleable\"><label>lrc</label></div></div><div class=\"sk-serial\"><div class=\"sk-item\"><div class=\"sk-estimator sk-toggleable\"><input class=\"sk-toggleable__control sk-hidden--visually\" id=\"sk-estimator-id-19\" type=\"checkbox\" ><label for=\"sk-estimator-id-19\" class=\"sk-toggleable__label sk-toggleable__label-arrow\">LogisticRegression</label><div class=\"sk-toggleable__content\"><pre>LogisticRegression(max_iter=400, solver=&#x27;newton-cg&#x27;, warm_start=True)</pre></div></div></div></div></div></div><div class=\"sk-parallel-item\"><div class=\"sk-item\"><div class=\"sk-label-container\"><div class=\"sk-label sk-toggleable\"><label>xgb</label></div></div><div class=\"sk-serial\"><div class=\"sk-item\"><div class=\"sk-estimator sk-toggleable\"><input class=\"sk-toggleable__control sk-hidden--visually\" id=\"sk-estimator-id-20\" type=\"checkbox\" ><label for=\"sk-estimator-id-20\" class=\"sk-toggleable__label sk-toggleable__label-arrow\">XGBClassifier</label><div class=\"sk-toggleable__content\"><pre>XGBClassifier(reg_alpha=0.1, silent=True, tree_method=&#x27;hist&#x27;, verbosity=0)</pre></div></div></div></div></div></div><div class=\"sk-parallel-item\"><div class=\"sk-item\"><div class=\"sk-label-container\"><div class=\"sk-label sk-toggleable\"><label>rfc</label></div></div><div class=\"sk-serial\"><div class=\"sk-item\"><div class=\"sk-estimator sk-toggleable\"><input class=\"sk-toggleable__control sk-hidden--visually\" id=\"sk-estimator-id-21\" type=\"checkbox\" ><label for=\"sk-estimator-id-21\" class=\"sk-toggleable__label sk-toggleable__label-arrow\">RandomForestClassifier</label><div class=\"sk-toggleable__content\"><pre>RandomForestClassifier(max_depth=7)</pre></div></div></div></div></div></div><div class=\"sk-parallel-item\"><div class=\"sk-item\"><div class=\"sk-label-container\"><div class=\"sk-label sk-toggleable\"><label>dtc</label></div></div><div class=\"sk-serial\"><div class=\"sk-item\"><div class=\"sk-estimator sk-toggleable\"><input class=\"sk-toggleable__control sk-hidden--visually\" id=\"sk-estimator-id-22\" type=\"checkbox\" ><label for=\"sk-estimator-id-22\" class=\"sk-toggleable__label sk-toggleable__label-arrow\">DecisionTreeClassifier</label><div class=\"sk-toggleable__content\"><pre>DecisionTreeClassifier(max_depth=7)</pre></div></div></div></div></div></div></div></div></div></div></div></div>"
     },
     "metadata": {},
     "output_type": "display_data"
    }
   ],
   "source": [
    "display(best_pipeline)"
   ],
   "metadata": {
    "collapsed": false,
    "ExecuteTime": {
     "start_time": "2023-04-13T22:19:19.348052Z",
     "end_time": "2023-04-13T22:19:19.521364Z"
    }
   }
  },
  {
   "cell_type": "code",
   "execution_count": 22,
   "outputs": [
    {
     "data": {
      "text/plain": "{'ensemble__xgb__reg_alpha': 0.1,\n 'ensemble__rfc__max_depth': 7,\n 'ensemble__lrc__solver': 'newton-cg',\n 'ensemble__dtc__max_depth': 7}"
     },
     "execution_count": 22,
     "metadata": {},
     "output_type": "execute_result"
    }
   ],
   "source": [
    "best_params"
   ],
   "metadata": {
    "collapsed": false,
    "ExecuteTime": {
     "start_time": "2023-04-13T22:19:23.614684Z",
     "end_time": "2023-04-13T22:19:23.625280Z"
    }
   }
  },
  {
   "cell_type": "code",
   "execution_count": 23,
   "outputs": [
    {
     "ename": "ValueError",
     "evalue": "['MinTemp']: Data contains 1 invalid values",
     "output_type": "error",
     "traceback": [
      "\u001B[0;31m---------------------------------------------------------------------------\u001B[0m",
      "\u001B[0;31mValueError\u001B[0m                                Traceback (most recent call last)",
      "\u001B[0;32m<ipython-input-23-30f7e1bf449d>\u001B[0m in \u001B[0;36m<module>\u001B[0;34m\u001B[0m\n\u001B[0;32m----> 1\u001B[0;31m \u001B[0my_pred\u001B[0m \u001B[0;34m=\u001B[0m \u001B[0mbest_pipeline\u001B[0m\u001B[0;34m.\u001B[0m\u001B[0mpredict\u001B[0m\u001B[0;34m(\u001B[0m\u001B[0mX_test\u001B[0m\u001B[0;34m)\u001B[0m\u001B[0;34m\u001B[0m\u001B[0;34m\u001B[0m\u001B[0m\n\u001B[0m",
      "\u001B[0;32m~/.pyenv/versions/env3.10.8/lib/python3.10/site-packages/sklearn/pipeline.py\u001B[0m in \u001B[0;36mpredict\u001B[0;34m(self, X, **predict_params)\u001B[0m\n\u001B[1;32m    478\u001B[0m         \u001B[0mXt\u001B[0m \u001B[0;34m=\u001B[0m \u001B[0mX\u001B[0m\u001B[0;34m\u001B[0m\u001B[0;34m\u001B[0m\u001B[0m\n\u001B[1;32m    479\u001B[0m         \u001B[0;32mfor\u001B[0m \u001B[0m_\u001B[0m\u001B[0;34m,\u001B[0m \u001B[0mname\u001B[0m\u001B[0;34m,\u001B[0m \u001B[0mtransform\u001B[0m \u001B[0;32min\u001B[0m \u001B[0mself\u001B[0m\u001B[0;34m.\u001B[0m\u001B[0m_iter\u001B[0m\u001B[0;34m(\u001B[0m\u001B[0mwith_final\u001B[0m\u001B[0;34m=\u001B[0m\u001B[0;32mFalse\u001B[0m\u001B[0;34m)\u001B[0m\u001B[0;34m:\u001B[0m\u001B[0;34m\u001B[0m\u001B[0;34m\u001B[0m\u001B[0m\n\u001B[0;32m--> 480\u001B[0;31m             \u001B[0mXt\u001B[0m \u001B[0;34m=\u001B[0m \u001B[0mtransform\u001B[0m\u001B[0;34m.\u001B[0m\u001B[0mtransform\u001B[0m\u001B[0;34m(\u001B[0m\u001B[0mXt\u001B[0m\u001B[0;34m)\u001B[0m\u001B[0;34m\u001B[0m\u001B[0;34m\u001B[0m\u001B[0m\n\u001B[0m\u001B[1;32m    481\u001B[0m         \u001B[0;32mreturn\u001B[0m \u001B[0mself\u001B[0m\u001B[0;34m.\u001B[0m\u001B[0msteps\u001B[0m\u001B[0;34m[\u001B[0m\u001B[0;34m-\u001B[0m\u001B[0;36m1\u001B[0m\u001B[0;34m]\u001B[0m\u001B[0;34m[\u001B[0m\u001B[0;36m1\u001B[0m\u001B[0;34m]\u001B[0m\u001B[0;34m.\u001B[0m\u001B[0mpredict\u001B[0m\u001B[0;34m(\u001B[0m\u001B[0mXt\u001B[0m\u001B[0;34m,\u001B[0m \u001B[0;34m**\u001B[0m\u001B[0mpredict_params\u001B[0m\u001B[0;34m)\u001B[0m\u001B[0;34m\u001B[0m\u001B[0;34m\u001B[0m\u001B[0m\n\u001B[1;32m    482\u001B[0m \u001B[0;34m\u001B[0m\u001B[0m\n",
      "\u001B[0;32m~/.pyenv/versions/env3.10.8/lib/python3.10/site-packages/sklearn/utils/_set_output.py\u001B[0m in \u001B[0;36mwrapped\u001B[0;34m(self, X, *args, **kwargs)\u001B[0m\n\u001B[1;32m    138\u001B[0m     \u001B[0;34m@\u001B[0m\u001B[0mwraps\u001B[0m\u001B[0;34m(\u001B[0m\u001B[0mf\u001B[0m\u001B[0;34m)\u001B[0m\u001B[0;34m\u001B[0m\u001B[0;34m\u001B[0m\u001B[0m\n\u001B[1;32m    139\u001B[0m     \u001B[0;32mdef\u001B[0m \u001B[0mwrapped\u001B[0m\u001B[0;34m(\u001B[0m\u001B[0mself\u001B[0m\u001B[0;34m,\u001B[0m \u001B[0mX\u001B[0m\u001B[0;34m,\u001B[0m \u001B[0;34m*\u001B[0m\u001B[0margs\u001B[0m\u001B[0;34m,\u001B[0m \u001B[0;34m**\u001B[0m\u001B[0mkwargs\u001B[0m\u001B[0;34m)\u001B[0m\u001B[0;34m:\u001B[0m\u001B[0;34m\u001B[0m\u001B[0;34m\u001B[0m\u001B[0m\n\u001B[0;32m--> 140\u001B[0;31m         \u001B[0mdata_to_wrap\u001B[0m \u001B[0;34m=\u001B[0m \u001B[0mf\u001B[0m\u001B[0;34m(\u001B[0m\u001B[0mself\u001B[0m\u001B[0;34m,\u001B[0m \u001B[0mX\u001B[0m\u001B[0;34m,\u001B[0m \u001B[0;34m*\u001B[0m\u001B[0margs\u001B[0m\u001B[0;34m,\u001B[0m \u001B[0;34m**\u001B[0m\u001B[0mkwargs\u001B[0m\u001B[0;34m)\u001B[0m\u001B[0;34m\u001B[0m\u001B[0;34m\u001B[0m\u001B[0m\n\u001B[0m\u001B[1;32m    141\u001B[0m         \u001B[0;32mif\u001B[0m \u001B[0misinstance\u001B[0m\u001B[0;34m(\u001B[0m\u001B[0mdata_to_wrap\u001B[0m\u001B[0;34m,\u001B[0m \u001B[0mtuple\u001B[0m\u001B[0;34m)\u001B[0m\u001B[0;34m:\u001B[0m\u001B[0;34m\u001B[0m\u001B[0;34m\u001B[0m\u001B[0m\n\u001B[1;32m    142\u001B[0m             \u001B[0;31m# only wrap the first output for cross decomposition\u001B[0m\u001B[0;34m\u001B[0m\u001B[0;34m\u001B[0m\u001B[0m\n",
      "\u001B[0;32m~/.pyenv/versions/env3.10.8/lib/python3.10/site-packages/sklearn_pandas/dataframe_mapper.py\u001B[0m in \u001B[0;36mtransform\u001B[0;34m(self, X)\u001B[0m\n\u001B[1;32m    430\u001B[0m         \u001B[0mX\u001B[0m       \u001B[0mthe\u001B[0m \u001B[0mdata\u001B[0m \u001B[0mto\u001B[0m \u001B[0mtransform\u001B[0m\u001B[0;34m\u001B[0m\u001B[0;34m\u001B[0m\u001B[0m\n\u001B[1;32m    431\u001B[0m         \"\"\"\n\u001B[0;32m--> 432\u001B[0;31m         \u001B[0;32mreturn\u001B[0m \u001B[0mself\u001B[0m\u001B[0;34m.\u001B[0m\u001B[0m_transform\u001B[0m\u001B[0;34m(\u001B[0m\u001B[0mX\u001B[0m\u001B[0;34m)\u001B[0m\u001B[0;34m\u001B[0m\u001B[0;34m\u001B[0m\u001B[0m\n\u001B[0m\u001B[1;32m    433\u001B[0m \u001B[0;34m\u001B[0m\u001B[0m\n\u001B[1;32m    434\u001B[0m     \u001B[0;32mdef\u001B[0m \u001B[0mfit_transform\u001B[0m\u001B[0;34m(\u001B[0m\u001B[0mself\u001B[0m\u001B[0;34m,\u001B[0m \u001B[0mX\u001B[0m\u001B[0;34m,\u001B[0m \u001B[0my\u001B[0m\u001B[0;34m=\u001B[0m\u001B[0;32mNone\u001B[0m\u001B[0;34m)\u001B[0m\u001B[0;34m:\u001B[0m\u001B[0;34m\u001B[0m\u001B[0;34m\u001B[0m\u001B[0m\n",
      "\u001B[0;32m~/.pyenv/versions/env3.10.8/lib/python3.10/site-packages/sklearn_pandas/dataframe_mapper.py\u001B[0m in \u001B[0;36m_transform\u001B[0;34m(self, X, y, do_fit)\u001B[0m\n\u001B[1;32m    350\u001B[0m \u001B[0;34m\u001B[0m\u001B[0m\n\u001B[1;32m    351\u001B[0m                         \u001B[0mt1\u001B[0m \u001B[0;34m=\u001B[0m \u001B[0mdatetime\u001B[0m\u001B[0;34m.\u001B[0m\u001B[0mnow\u001B[0m\u001B[0;34m(\u001B[0m\u001B[0;34m)\u001B[0m\u001B[0;34m\u001B[0m\u001B[0;34m\u001B[0m\u001B[0m\n\u001B[0;32m--> 352\u001B[0;31m                         \u001B[0mXt\u001B[0m \u001B[0;34m=\u001B[0m \u001B[0mtransformers\u001B[0m\u001B[0;34m.\u001B[0m\u001B[0mtransform\u001B[0m\u001B[0;34m(\u001B[0m\u001B[0mXt\u001B[0m\u001B[0;34m)\u001B[0m\u001B[0;34m\u001B[0m\u001B[0;34m\u001B[0m\u001B[0m\n\u001B[0m\u001B[1;32m    353\u001B[0m                         \u001B[0mlogger\u001B[0m\u001B[0;34m.\u001B[0m\u001B[0minfo\u001B[0m\u001B[0;34m(\u001B[0m\u001B[0;34mf\"[TRANSFORM] {columns}: {_elapsed_secs(t1)} secs\"\u001B[0m\u001B[0;34m)\u001B[0m  \u001B[0;31m# NOQA\u001B[0m\u001B[0;34m\u001B[0m\u001B[0;34m\u001B[0m\u001B[0m\n\u001B[1;32m    354\u001B[0m \u001B[0;34m\u001B[0m\u001B[0m\n",
      "\u001B[0;32m~/.pyenv/versions/env3.10.8/lib/python3.10/site-packages/sklearn/pipeline.py\u001B[0m in \u001B[0;36mtransform\u001B[0;34m(self, X)\u001B[0m\n\u001B[1;32m    656\u001B[0m         \u001B[0mXt\u001B[0m \u001B[0;34m=\u001B[0m \u001B[0mX\u001B[0m\u001B[0;34m\u001B[0m\u001B[0;34m\u001B[0m\u001B[0m\n\u001B[1;32m    657\u001B[0m         \u001B[0;32mfor\u001B[0m \u001B[0m_\u001B[0m\u001B[0;34m,\u001B[0m \u001B[0m_\u001B[0m\u001B[0;34m,\u001B[0m \u001B[0mtransform\u001B[0m \u001B[0;32min\u001B[0m \u001B[0mself\u001B[0m\u001B[0;34m.\u001B[0m\u001B[0m_iter\u001B[0m\u001B[0;34m(\u001B[0m\u001B[0;34m)\u001B[0m\u001B[0;34m:\u001B[0m\u001B[0;34m\u001B[0m\u001B[0;34m\u001B[0m\u001B[0m\n\u001B[0;32m--> 658\u001B[0;31m             \u001B[0mXt\u001B[0m \u001B[0;34m=\u001B[0m \u001B[0mtransform\u001B[0m\u001B[0;34m.\u001B[0m\u001B[0mtransform\u001B[0m\u001B[0;34m(\u001B[0m\u001B[0mXt\u001B[0m\u001B[0;34m)\u001B[0m\u001B[0;34m\u001B[0m\u001B[0;34m\u001B[0m\u001B[0m\n\u001B[0m\u001B[1;32m    659\u001B[0m         \u001B[0;32mreturn\u001B[0m \u001B[0mXt\u001B[0m\u001B[0;34m\u001B[0m\u001B[0;34m\u001B[0m\u001B[0m\n\u001B[1;32m    660\u001B[0m \u001B[0;34m\u001B[0m\u001B[0m\n",
      "\u001B[0;32m~/.pyenv/versions/env3.10.8/lib/python3.10/site-packages/sklearn/utils/_set_output.py\u001B[0m in \u001B[0;36mwrapped\u001B[0;34m(self, X, *args, **kwargs)\u001B[0m\n\u001B[1;32m    138\u001B[0m     \u001B[0;34m@\u001B[0m\u001B[0mwraps\u001B[0m\u001B[0;34m(\u001B[0m\u001B[0mf\u001B[0m\u001B[0;34m)\u001B[0m\u001B[0;34m\u001B[0m\u001B[0;34m\u001B[0m\u001B[0m\n\u001B[1;32m    139\u001B[0m     \u001B[0;32mdef\u001B[0m \u001B[0mwrapped\u001B[0m\u001B[0;34m(\u001B[0m\u001B[0mself\u001B[0m\u001B[0;34m,\u001B[0m \u001B[0mX\u001B[0m\u001B[0;34m,\u001B[0m \u001B[0;34m*\u001B[0m\u001B[0margs\u001B[0m\u001B[0;34m,\u001B[0m \u001B[0;34m**\u001B[0m\u001B[0mkwargs\u001B[0m\u001B[0;34m)\u001B[0m\u001B[0;34m:\u001B[0m\u001B[0;34m\u001B[0m\u001B[0;34m\u001B[0m\u001B[0m\n\u001B[0;32m--> 140\u001B[0;31m         \u001B[0mdata_to_wrap\u001B[0m \u001B[0;34m=\u001B[0m \u001B[0mf\u001B[0m\u001B[0;34m(\u001B[0m\u001B[0mself\u001B[0m\u001B[0;34m,\u001B[0m \u001B[0mX\u001B[0m\u001B[0;34m,\u001B[0m \u001B[0;34m*\u001B[0m\u001B[0margs\u001B[0m\u001B[0;34m,\u001B[0m \u001B[0;34m**\u001B[0m\u001B[0mkwargs\u001B[0m\u001B[0;34m)\u001B[0m\u001B[0;34m\u001B[0m\u001B[0;34m\u001B[0m\u001B[0m\n\u001B[0m\u001B[1;32m    141\u001B[0m         \u001B[0;32mif\u001B[0m \u001B[0misinstance\u001B[0m\u001B[0;34m(\u001B[0m\u001B[0mdata_to_wrap\u001B[0m\u001B[0;34m,\u001B[0m \u001B[0mtuple\u001B[0m\u001B[0;34m)\u001B[0m\u001B[0;34m:\u001B[0m\u001B[0;34m\u001B[0m\u001B[0;34m\u001B[0m\u001B[0m\n\u001B[1;32m    142\u001B[0m             \u001B[0;31m# only wrap the first output for cross decomposition\u001B[0m\u001B[0;34m\u001B[0m\u001B[0;34m\u001B[0m\u001B[0m\n",
      "\u001B[0;32m~/.pyenv/versions/env3.10.8/lib/python3.10/site-packages/sklearn2pmml/decoration/__init__.py\u001B[0m in \u001B[0;36mtransform\u001B[0;34m(self, X)\u001B[0m\n\u001B[1;32m    149\u001B[0m                 \u001B[0mself\u001B[0m\u001B[0;34m.\u001B[0m\u001B[0m_transform_missing_values\u001B[0m\u001B[0;34m(\u001B[0m\u001B[0mX\u001B[0m\u001B[0;34m,\u001B[0m \u001B[0mmissing_value_mask\u001B[0m\u001B[0;34m)\u001B[0m\u001B[0;34m\u001B[0m\u001B[0;34m\u001B[0m\u001B[0m\n\u001B[1;32m    150\u001B[0m                 \u001B[0mself\u001B[0m\u001B[0;34m.\u001B[0m\u001B[0m_transform_valid_values\u001B[0m\u001B[0;34m(\u001B[0m\u001B[0mX\u001B[0m\u001B[0;34m,\u001B[0m \u001B[0mvalid_value_mask\u001B[0m\u001B[0;34m)\u001B[0m\u001B[0;34m\u001B[0m\u001B[0;34m\u001B[0m\u001B[0m\n\u001B[0;32m--> 151\u001B[0;31m                 \u001B[0mself\u001B[0m\u001B[0;34m.\u001B[0m\u001B[0m_transform_invalid_values\u001B[0m\u001B[0;34m(\u001B[0m\u001B[0mX\u001B[0m\u001B[0;34m,\u001B[0m \u001B[0minvalid_value_mask\u001B[0m\u001B[0;34m)\u001B[0m\u001B[0;34m\u001B[0m\u001B[0;34m\u001B[0m\u001B[0m\n\u001B[0m\u001B[1;32m    152\u001B[0m                 \u001B[0;32mreturn\u001B[0m \u001B[0mX\u001B[0m\u001B[0;34m\u001B[0m\u001B[0;34m\u001B[0m\u001B[0m\n\u001B[1;32m    153\u001B[0m \u001B[0;34m\u001B[0m\u001B[0m\n",
      "\u001B[0;32m~/.pyenv/versions/env3.10.8/lib/python3.10/site-packages/sklearn2pmml/decoration/__init__.py\u001B[0m in \u001B[0;36m_transform_invalid_values\u001B[0;34m(self, X, where)\u001B[0m\n\u001B[1;32m    131\u001B[0m                 \u001B[0;32mif\u001B[0m \u001B[0mself\u001B[0m\u001B[0;34m.\u001B[0m\u001B[0minvalid_value_treatment\u001B[0m \u001B[0;34m==\u001B[0m \u001B[0;34m\"return_invalid\"\u001B[0m\u001B[0;34m:\u001B[0m\u001B[0;34m\u001B[0m\u001B[0;34m\u001B[0m\u001B[0m\n\u001B[1;32m    132\u001B[0m                         \u001B[0;32mif\u001B[0m \u001B[0mnumpy\u001B[0m\u001B[0;34m.\u001B[0m\u001B[0many\u001B[0m\u001B[0;34m(\u001B[0m\u001B[0mwhere\u001B[0m\u001B[0;34m)\u001B[0m \u001B[0;34m>\u001B[0m \u001B[0;36m0\u001B[0m\u001B[0;34m:\u001B[0m\u001B[0;34m\u001B[0m\u001B[0;34m\u001B[0m\u001B[0m\n\u001B[0;32m--> 133\u001B[0;31m                                 \u001B[0;32mraise\u001B[0m \u001B[0mValueError\u001B[0m\u001B[0;34m(\u001B[0m\u001B[0;34m\"Data contains {0} invalid values\"\u001B[0m\u001B[0;34m.\u001B[0m\u001B[0mformat\u001B[0m\u001B[0;34m(\u001B[0m\u001B[0mnumpy\u001B[0m\u001B[0;34m.\u001B[0m\u001B[0mcount_nonzero\u001B[0m\u001B[0;34m(\u001B[0m\u001B[0mwhere\u001B[0m\u001B[0;34m)\u001B[0m\u001B[0;34m)\u001B[0m\u001B[0;34m)\u001B[0m\u001B[0;34m\u001B[0m\u001B[0;34m\u001B[0m\u001B[0m\n\u001B[0m\u001B[1;32m    134\u001B[0m                 \u001B[0;32melif\u001B[0m \u001B[0mself\u001B[0m\u001B[0;34m.\u001B[0m\u001B[0minvalid_value_treatment\u001B[0m \u001B[0;34m==\u001B[0m \u001B[0;34m\"as_is\"\u001B[0m\u001B[0;34m:\u001B[0m\u001B[0;34m\u001B[0m\u001B[0;34m\u001B[0m\u001B[0m\n\u001B[1;32m    135\u001B[0m                         \u001B[0;32mpass\u001B[0m\u001B[0;34m\u001B[0m\u001B[0;34m\u001B[0m\u001B[0m\n",
      "\u001B[0;31mValueError\u001B[0m: ['MinTemp']: Data contains 1 invalid values"
     ]
    }
   ],
   "source": [
    "y_pred = best_pipeline.predict(X_test)"
   ],
   "metadata": {
    "collapsed": false,
    "ExecuteTime": {
     "start_time": "2023-04-13T20:17:54.907879Z",
     "end_time": "2023-04-13T20:18:00.096258Z"
    }
   }
  },
  {
   "cell_type": "code",
   "execution_count": 44,
   "outputs": [
    {
     "name": "stdout",
     "output_type": "stream",
     "text": [
      "The model accuracy is: 86.6%\n",
      "The model f1 score is: 85.3%\n"
     ]
    }
   ],
   "source": [
    "# using accuracy_score\n",
    "from sklearn.metrics import f1_score\n",
    "\n",
    "print(f'The model accuracy is: {np.round(accuracy_score(y_test, y_pred), decimals=3)*100}%')\n",
    "print(f'The model f1 score is: {np.round(f1_score(y_test, y_pred, average=\"\"\"weighted\"\"\"), decimals=3)*100}%')"
   ],
   "metadata": {
    "collapsed": false,
    "ExecuteTime": {
     "start_time": "2023-04-13T20:18:48.054747Z",
     "end_time": "2023-04-13T20:18:48.067346Z"
    }
   }
  },
  {
   "cell_type": "code",
   "execution_count": 46,
   "outputs": [
    {
     "data": {
      "text/plain": "<Figure size 864x864 with 2 Axes>",
      "image/png": "[encoded data removed]"
     },
     "metadata": {
      "needs_background": "light"
     },
     "output_type": "display_data"
    }
   ],
   "source": [
    "from sklearn.metrics import confusion_matrix\n",
    "\n",
    "cm = confusion_matrix(y_test, y_pred, labels=best_pipeline.classes_)\n",
    "plt.figure(figsize=(12, 12))\n",
    "cmap = sns.color_palette(\"Oranges\",12)\n",
    "sns.heatmap(data=cm, cmap=\"RdBu_r\", xticklabels=best_pipeline.classes_, yticklabels=best_pipeline.classes_, fmt='g', annot=True)\n",
    "plt.show()"
   ],
   "metadata": {
    "collapsed": false,
    "ExecuteTime": {
     "start_time": "2023-04-13T20:19:19.843830Z",
     "end_time": "2023-04-13T20:19:20.139530Z"
    }
   }
  },
  {
   "cell_type": "code",
   "execution_count": 57,
   "outputs": [
    {
     "name": "stdout",
     "output_type": "stream",
     "text": [
      "[17 14 18 19  8  9 15  7  5 10  1 13  0  2  3 11  4 16  6 12]\n",
      "[0.         0.         0.         0.00737871 0.01836253 0.01839623\n",
      " 0.01954178 0.02479784 0.02614555 0.02796496 0.02981806 0.03160377\n",
      " 0.03477089 0.03557951 0.03571429 0.0370283  0.04727089 0.05309973\n",
      " 0.05643531 0.18113208]\n"
     ]
    }
   ],
   "source": [
    "# https://inria.github.io/scikit-learn-mooc/python_scripts/dev_features_importance.html\n",
    "def plot_feature_importances(pi_result, features_name):\n",
    "    \"\"\" bar plot the feature importance \"\"\"\n",
    "    plt.figure(figsize=(30, 30))\n",
    "    fig, ax = plt.subplots()\n",
    "\n",
    "    indices = pi_result['importances_mean'].argsort()\n",
    "    plt.barh(range(len(indices)),\n",
    "             pi_result['importances_mean'][indices],\n",
    "             xerr=pi_result['importances_std'][indices])\n",
    "\n",
    "    ax.set_yticks(range(len(indices)))\n",
    "    tmp = np.array(features_name)\n",
    "    ax.set_yticklabels(tmp[indices])\n",
    "    ax.set_title(\"Permutation importance\")\n",
    "\n",
    "# ppl_ensemble.fit(X_test,y_test)\n",
    "pi_result = permutation_importance(ppl_ensemble, X_test, y_test)\n",
    "plot_feature_importances(pi_result, X_test.columns)"
   ],
   "metadata": {
    "collapsed": false,
    "ExecuteTime": {
     "start_time": "2023-04-13T22:06:01.329226Z",
     "end_time": "2023-04-13T22:08:18.867388Z"
    }
   }
  },
  {
   "cell_type": "markdown",
   "source": [
    "## Save the model"
   ],
   "metadata": {
    "collapsed": false
   }
  },
  {
   "cell_type": "code",
   "execution_count": 51,
   "outputs": [],
   "source": [
    "# Save the best model in PMML format\n",
    "sklearn2pmml(best_pipeline, \"../../../data/weather-classification-ensemble-classifier.pmml\")"
   ],
   "metadata": {
    "collapsed": false,
    "ExecuteTime": {
     "start_time": "2023-04-13T21:44:07.813125Z",
     "end_time": "2023-04-13T21:44:11.987449Z"
    }
   }
  },
  {
   "cell_type": "code",
   "execution_count": null,
   "outputs": [],
   "source": [],
   "metadata": {
    "collapsed": false
   }
  }
 ],
 "metadata": {
  "kernelspec": {
   "display_name": "Python 3",
   "language": "python",
   "name": "python3"
  },
  "language_info": {
   "codemirror_mode": {
    "name": "ipython",
    "version": 2
   },
   "file_extension": ".py",
   "mimetype": "text/x-python",
   "name": "python",
   "nbconvert_exporter": "python",
   "pygments_lexer": "ipython2",
   "version": "2.7.6"
  }
 },
 "nbformat": 4,
 "nbformat_minor": 0
}
