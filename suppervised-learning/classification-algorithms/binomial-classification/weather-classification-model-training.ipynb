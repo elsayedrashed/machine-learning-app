{
 "cells": [
  {
   "cell_type": "markdown",
   "source": [
    "## Weather Classification\n",
    "### Model Training"
   ],
   "metadata": {
    "collapsed": false
   }
  },
  {
   "cell_type": "code",
   "execution_count": 82,
   "outputs": [],
   "source": [
    "# The usual suspects\n",
    "import pandas as pd\n",
    "import numpy as np\n",
    "import matplotlib.pyplot as plt\n",
    "import seaborn as sns\n",
    "\n",
    "# PMML Pipeline(s)\n",
    "from sklearn2pmml import sklearn2pmml\n",
    "from sklearn2pmml.pipeline import PMMLPipeline\n",
    "from sklearn2pmml.preprocessing import LookupTransformer\n",
    "from sklearn2pmml.preprocessing import DaysSinceYearTransformer\n",
    "from sklearn2pmml.preprocessing import PMMLLabelEncoder\n",
    "from sklearn2pmml.decoration import ContinuousDomain\n",
    "from sklearn2pmml.decoration import CategoricalDomain\n",
    "from sklearn2pmml.decoration import DateTimeDomain\n",
    "from sklearn2pmml.feature_extraction.text import Splitter\n",
    "\n",
    "# Data Mapping\n",
    "from sklearn_pandas import DataFrameMapper\n",
    "from sklearn.impute import SimpleImputer\n",
    "from sklearn.preprocessing import StandardScaler\n",
    "from sklearn.feature_extraction.text import CountVectorizer\n",
    "\n",
    "# Classification Models\n",
    "from sklearn.svm import SVC\n",
    "from sklearn.linear_model import LogisticRegression\n",
    "from sklearn.neighbors import KNeighborsClassifier\n",
    "from sklearn.ensemble import RandomForestClassifier\n",
    "from sklearn.tree import DecisionTreeClassifier\n",
    "\n",
    "from sklearn.ensemble import VotingClassifier\n",
    "\n",
    "\n",
    "# Model Accuracy\n",
    "from sklearn.metrics import accuracy_score\n",
    "\n",
    "# Features Importance\n",
    "from sklearn.inspection import permutation_importance\n",
    "\n",
    "# Model Selection\n",
    "from sklearn.model_selection import RandomizedSearchCV\n",
    "from sklearn.model_selection import RepeatedStratifiedKFold"
   ],
   "metadata": {
    "collapsed": false,
    "ExecuteTime": {
     "start_time": "2023-04-13T23:25:25.228866Z",
     "end_time": "2023-04-13T23:25:25.233344Z"
    }
   }
  },
  {
   "cell_type": "code",
   "execution_count": 83,
   "outputs": [],
   "source": [
    "# Dsplay pipelines\n",
    "from sklearn import set_config\n",
    "set_config(display=\"diagram\")"
   ],
   "metadata": {
    "collapsed": false,
    "ExecuteTime": {
     "start_time": "2023-04-13T23:25:25.997911Z",
     "end_time": "2023-04-13T23:25:26.005479Z"
    }
   }
  },
  {
   "cell_type": "code",
   "execution_count": 84,
   "outputs": [],
   "source": [
    "import warnings\n",
    "warnings.filterwarnings('ignore')"
   ],
   "metadata": {
    "collapsed": false,
    "ExecuteTime": {
     "start_time": "2023-04-13T23:25:26.609724Z",
     "end_time": "2023-04-13T23:25:26.617239Z"
    }
   }
  },
  {
   "cell_type": "markdown",
   "source": [
    "## Data Loading"
   ],
   "metadata": {
    "collapsed": false
   }
  },
  {
   "cell_type": "code",
   "execution_count": 85,
   "outputs": [],
   "source": [
    "from sklearn.model_selection import train_test_split\n",
    "\n",
    "# Newspaper churn dataset\n",
    "# It contains 15.855 records and 19 columns including the target variable Subscriber (YES/NO).\n",
    "# The majority of the features is categorial.\n",
    "df = pd.read_csv('../../../data/weather-classification-clean.csv')\n",
    "\n",
    "X = df.drop('target', axis=1)\n",
    "y = df['target']"
   ],
   "metadata": {
    "collapsed": false,
    "ExecuteTime": {
     "start_time": "2023-04-13T23:25:28.223293Z",
     "end_time": "2023-04-13T23:25:28.305412Z"
    }
   }
  },
  {
   "cell_type": "code",
   "execution_count": 86,
   "outputs": [],
   "source": [
    "# Data Split\n",
    "X_train, X_test, y_train, y_test = train_test_split(X, y, test_size=0.25)"
   ],
   "metadata": {
    "collapsed": false,
    "ExecuteTime": {
     "start_time": "2023-04-13T23:25:32.550928Z",
     "end_time": "2023-04-13T23:25:32.563663Z"
    }
   }
  },
  {
   "cell_type": "code",
   "execution_count": 88,
   "outputs": [
    {
     "name": "stdout",
     "output_type": "stream",
     "text": [
      "<class 'pandas.core.frame.DataFrame'>\n"
     ]
    }
   ],
   "source": [
    "print(type(X_train))"
   ],
   "metadata": {
    "collapsed": false,
    "ExecuteTime": {
     "start_time": "2023-04-13T23:25:54.457148Z",
     "end_time": "2023-04-13T23:25:54.467984Z"
    }
   }
  },
  {
   "cell_type": "code",
   "execution_count": 30,
   "outputs": [],
   "source": [
    "# Selecting categorical, numeric, datatime, and text features\n",
    "numeric_features = ['MinTemp','MaxTemp','Rainfall','WindGustSpeed','WindSpeed9am','WindSpeed3pm','Humidity9am','Humidity3pm','Pressure9am','Cloud9am','Cloud3pm']\n",
    "categorical_features = ['Location', 'WindGustDir', 'WindDir9am', 'WindDir3pm', 'RainToday']\n",
    "datetime_features = ['Date']\n",
    "text_features = []\n",
    "drop_features = ['Pressure3pm', 'Temp3pm', 'Temp9am']"
   ],
   "metadata": {
    "collapsed": false,
    "ExecuteTime": {
     "start_time": "2023-04-13T22:38:54.045233Z",
     "end_time": "2023-04-13T22:38:54.055068Z"
    }
   }
  },
  {
   "cell_type": "code",
   "execution_count": 31,
   "outputs": [],
   "source": [
    "mapper = DataFrameMapper(\n",
    "    [([col_num], [ContinuousDomain(), SimpleImputer(strategy='median'), StandardScaler()]) for col_num in numeric_features] +\n",
    "    [([col_cat], [CategoricalDomain(), SimpleImputer(strategy='most_frequent'), PMMLLabelEncoder(), StandardScaler()]) for col_cat in categorical_features] +\n",
    "    [([col_dat], [DateTimeDomain(), DaysSinceYearTransformer(year = 1968), StandardScaler()]) for col_dat in datetime_features] +\n",
    "    [(col_txt,   [CategoricalDomain(), CountVectorizer(tokenizer=Splitter(), max_features=5)]) for col_txt in text_features],\n",
    "    drop_cols=drop_features,\n",
    "    input_df=True,\n",
    "    df_out=True\n",
    ")"
   ],
   "metadata": {
    "collapsed": false,
    "ExecuteTime": {
     "start_time": "2023-04-13T22:38:56.532855Z",
     "end_time": "2023-04-13T22:38:56.541113Z"
    }
   }
  },
  {
   "cell_type": "code",
   "execution_count": 40,
   "outputs": [
    {
     "data": {
      "text/plain": "        MinTemp   MaxTemp  Rainfall  WindGustSpeed  WindSpeed9am  \\\n27725 -0.428930 -0.552721 -0.366698      -0.757660      0.261934   \n19373 -1.633976 -0.887658 -0.366698      -1.625057     -1.529247   \n5030  -1.289677 -0.602961 -0.366698      -1.388494     -0.812775   \n16953  0.500676 -0.435493  6.462669      -0.047971      1.336643   \n10946  0.156378 -0.418746 -0.366698      -0.599952      0.023110   \n...         ...       ...       ...            ...           ...   \n15537  1.447498  1.105218 -0.366698      -0.599952      0.500758   \n24530  0.466246  0.066913 -0.366698       0.425154      0.261934   \n4786  -1.306892 -0.134049 -0.366698      -0.757660     -1.290423   \n3772  -0.738799 -0.904404 -0.366698      -0.915369     -0.454538   \n8985   0.707255 -0.301518 -0.366698      -0.205680     -0.454538   \n\n       WindSpeed3pm  Humidity9am  Humidity3pm  Pressure9am  Cloud9am  \\\n27725     -0.525300     0.257714    -0.276800     0.179638 -0.742273   \n19373     -1.805457     1.576777    -0.080028     0.002095  0.179589   \n5030      -1.223568     0.315065     0.165937     1.632263  0.179589   \n16953     -0.059789     0.831220     1.740111     0.034375 -0.281342   \n10946      0.289345    -0.602544     0.313515     1.261036 -1.664136   \n...             ...          ...          ...          ...       ...   \n15537      0.754856     0.888571     0.854638    -1.660354  0.179589   \n24530     -0.758056    -2.208360    -1.506623    -1.208426  0.179589   \n4786      -0.758056     0.200364    -0.867115     1.890507  0.179589   \n3772      -0.292545     0.773869     0.608673     0.792968  0.179589   \n8985      -0.990812    -0.545194    -0.325993    -0.691937  1.101452   \n\n       Cloud3pm  Location  WindGustDir  WindDir9am  WindDir3pm  RainToday  \\\n27725  0.175874 -0.631583     1.363447    1.288710   -0.025189  -0.508620   \n19373  0.175874  1.546667     1.363447    0.849632   -0.025189  -0.508620   \n5030   0.175874 -0.320405     1.575370    0.849632   -0.891479  -0.508620   \n16953  1.167883  1.235488    -1.391551   -1.784832   -1.108052   1.966106   \n10946  0.175874  0.301952     0.091909    1.508248    0.191384  -0.508620   \n...         ...       ...          ...         ...         ...        ...   \n15537  0.175874  0.924309    -0.755782   -0.687138   -0.674907  -0.508620   \n24530  0.175874 -1.253941     1.575370    0.410555   -1.541197  -0.508620   \n4786   0.175874 -0.320405    -1.603474   -0.028522   -0.674907  -0.508620   \n3772   0.175874 -0.320405    -1.179628    1.508248   -1.541197  -0.508620   \n8985   0.671879  0.301952    -0.120014    1.508248    1.274246  -0.508620   \n\n           Date  \n27725 -0.774529  \n19373 -1.539903  \n5030   0.861248  \n16953 -1.051628  \n10946  1.695897  \n...         ...  \n15537  0.712643  \n24530  1.434441  \n4786   0.575211  \n3772  -0.676204  \n8985  -1.095204  \n\n[7420 rows x 17 columns]",
      "text/html": "<div>\n<style scoped>\n    .dataframe tbody tr th:only-of-type {\n        vertical-align: middle;\n    }\n\n    .dataframe tbody tr th {\n        vertical-align: top;\n    }\n\n    .dataframe thead th {\n        text-align: right;\n    }\n</style>\n<table border=\"1\" class=\"dataframe\">\n  <thead>\n    <tr style=\"text-align: right;\">\n      <th></th>\n      <th>MinTemp</th>\n      <th>MaxTemp</th>\n      <th>Rainfall</th>\n      <th>WindGustSpeed</th>\n      <th>WindSpeed9am</th>\n      <th>WindSpeed3pm</th>\n      <th>Humidity9am</th>\n      <th>Humidity3pm</th>\n      <th>Pressure9am</th>\n      <th>Cloud9am</th>\n      <th>Cloud3pm</th>\n      <th>Location</th>\n      <th>WindGustDir</th>\n      <th>WindDir9am</th>\n      <th>WindDir3pm</th>\n      <th>RainToday</th>\n      <th>Date</th>\n    </tr>\n  </thead>\n  <tbody>\n    <tr>\n      <th>27725</th>\n      <td>-0.428930</td>\n      <td>-0.552721</td>\n      <td>-0.366698</td>\n      <td>-0.757660</td>\n      <td>0.261934</td>\n      <td>-0.525300</td>\n      <td>0.257714</td>\n      <td>-0.276800</td>\n      <td>0.179638</td>\n      <td>-0.742273</td>\n      <td>0.175874</td>\n      <td>-0.631583</td>\n      <td>1.363447</td>\n      <td>1.288710</td>\n      <td>-0.025189</td>\n      <td>-0.508620</td>\n      <td>-0.774529</td>\n    </tr>\n    <tr>\n      <th>19373</th>\n      <td>-1.633976</td>\n      <td>-0.887658</td>\n      <td>-0.366698</td>\n      <td>-1.625057</td>\n      <td>-1.529247</td>\n      <td>-1.805457</td>\n      <td>1.576777</td>\n      <td>-0.080028</td>\n      <td>0.002095</td>\n      <td>0.179589</td>\n      <td>0.175874</td>\n      <td>1.546667</td>\n      <td>1.363447</td>\n      <td>0.849632</td>\n      <td>-0.025189</td>\n      <td>-0.508620</td>\n      <td>-1.539903</td>\n    </tr>\n    <tr>\n      <th>5030</th>\n      <td>-1.289677</td>\n      <td>-0.602961</td>\n      <td>-0.366698</td>\n      <td>-1.388494</td>\n      <td>-0.812775</td>\n      <td>-1.223568</td>\n      <td>0.315065</td>\n      <td>0.165937</td>\n      <td>1.632263</td>\n      <td>0.179589</td>\n      <td>0.175874</td>\n      <td>-0.320405</td>\n      <td>1.575370</td>\n      <td>0.849632</td>\n      <td>-0.891479</td>\n      <td>-0.508620</td>\n      <td>0.861248</td>\n    </tr>\n    <tr>\n      <th>16953</th>\n      <td>0.500676</td>\n      <td>-0.435493</td>\n      <td>6.462669</td>\n      <td>-0.047971</td>\n      <td>1.336643</td>\n      <td>-0.059789</td>\n      <td>0.831220</td>\n      <td>1.740111</td>\n      <td>0.034375</td>\n      <td>-0.281342</td>\n      <td>1.167883</td>\n      <td>1.235488</td>\n      <td>-1.391551</td>\n      <td>-1.784832</td>\n      <td>-1.108052</td>\n      <td>1.966106</td>\n      <td>-1.051628</td>\n    </tr>\n    <tr>\n      <th>10946</th>\n      <td>0.156378</td>\n      <td>-0.418746</td>\n      <td>-0.366698</td>\n      <td>-0.599952</td>\n      <td>0.023110</td>\n      <td>0.289345</td>\n      <td>-0.602544</td>\n      <td>0.313515</td>\n      <td>1.261036</td>\n      <td>-1.664136</td>\n      <td>0.175874</td>\n      <td>0.301952</td>\n      <td>0.091909</td>\n      <td>1.508248</td>\n      <td>0.191384</td>\n      <td>-0.508620</td>\n      <td>1.695897</td>\n    </tr>\n    <tr>\n      <th>...</th>\n      <td>...</td>\n      <td>...</td>\n      <td>...</td>\n      <td>...</td>\n      <td>...</td>\n      <td>...</td>\n      <td>...</td>\n      <td>...</td>\n      <td>...</td>\n      <td>...</td>\n      <td>...</td>\n      <td>...</td>\n      <td>...</td>\n      <td>...</td>\n      <td>...</td>\n      <td>...</td>\n      <td>...</td>\n    </tr>\n    <tr>\n      <th>15537</th>\n      <td>1.447498</td>\n      <td>1.105218</td>\n      <td>-0.366698</td>\n      <td>-0.599952</td>\n      <td>0.500758</td>\n      <td>0.754856</td>\n      <td>0.888571</td>\n      <td>0.854638</td>\n      <td>-1.660354</td>\n      <td>0.179589</td>\n      <td>0.175874</td>\n      <td>0.924309</td>\n      <td>-0.755782</td>\n      <td>-0.687138</td>\n      <td>-0.674907</td>\n      <td>-0.508620</td>\n      <td>0.712643</td>\n    </tr>\n    <tr>\n      <th>24530</th>\n      <td>0.466246</td>\n      <td>0.066913</td>\n      <td>-0.366698</td>\n      <td>0.425154</td>\n      <td>0.261934</td>\n      <td>-0.758056</td>\n      <td>-2.208360</td>\n      <td>-1.506623</td>\n      <td>-1.208426</td>\n      <td>0.179589</td>\n      <td>0.175874</td>\n      <td>-1.253941</td>\n      <td>1.575370</td>\n      <td>0.410555</td>\n      <td>-1.541197</td>\n      <td>-0.508620</td>\n      <td>1.434441</td>\n    </tr>\n    <tr>\n      <th>4786</th>\n      <td>-1.306892</td>\n      <td>-0.134049</td>\n      <td>-0.366698</td>\n      <td>-0.757660</td>\n      <td>-1.290423</td>\n      <td>-0.758056</td>\n      <td>0.200364</td>\n      <td>-0.867115</td>\n      <td>1.890507</td>\n      <td>0.179589</td>\n      <td>0.175874</td>\n      <td>-0.320405</td>\n      <td>-1.603474</td>\n      <td>-0.028522</td>\n      <td>-0.674907</td>\n      <td>-0.508620</td>\n      <td>0.575211</td>\n    </tr>\n    <tr>\n      <th>3772</th>\n      <td>-0.738799</td>\n      <td>-0.904404</td>\n      <td>-0.366698</td>\n      <td>-0.915369</td>\n      <td>-0.454538</td>\n      <td>-0.292545</td>\n      <td>0.773869</td>\n      <td>0.608673</td>\n      <td>0.792968</td>\n      <td>0.179589</td>\n      <td>0.175874</td>\n      <td>-0.320405</td>\n      <td>-1.179628</td>\n      <td>1.508248</td>\n      <td>-1.541197</td>\n      <td>-0.508620</td>\n      <td>-0.676204</td>\n    </tr>\n    <tr>\n      <th>8985</th>\n      <td>0.707255</td>\n      <td>-0.301518</td>\n      <td>-0.366698</td>\n      <td>-0.205680</td>\n      <td>-0.454538</td>\n      <td>-0.990812</td>\n      <td>-0.545194</td>\n      <td>-0.325993</td>\n      <td>-0.691937</td>\n      <td>1.101452</td>\n      <td>0.671879</td>\n      <td>0.301952</td>\n      <td>-0.120014</td>\n      <td>1.508248</td>\n      <td>1.274246</td>\n      <td>-0.508620</td>\n      <td>-1.095204</td>\n    </tr>\n  </tbody>\n</table>\n<p>7420 rows × 17 columns</p>\n</div>"
     },
     "execution_count": 40,
     "metadata": {},
     "output_type": "execute_result"
    }
   ],
   "source": [
    "X_trans = mapper.fit_transform(X_test)\n",
    "X_trans"
   ],
   "metadata": {
    "collapsed": false,
    "ExecuteTime": {
     "start_time": "2023-04-13T22:45:51.060623Z",
     "end_time": "2023-04-13T22:45:52.981962Z"
    }
   }
  },
  {
   "cell_type": "markdown",
   "source": [
    "## Ensemble of models"
   ],
   "metadata": {
    "collapsed": false
   }
  },
  {
   "cell_type": "code",
   "execution_count": 53,
   "outputs": [],
   "source": [
    "# Ensemble of models\n",
    "estimator = []\n",
    "estimator.append(('svm', SVC(probability=True)))\n",
    "estimator.append(('lrc', LogisticRegression(max_iter=400)))\n",
    "estimator.append(('knc', KNeighborsClassifier()))\n",
    "estimator.append(('rfc', RandomForestClassifier()))\n",
    "estimator.append(('dtc', DecisionTreeClassifier()))"
   ],
   "metadata": {
    "collapsed": false,
    "ExecuteTime": {
     "start_time": "2023-04-13T22:51:34.562994Z",
     "end_time": "2023-04-13T22:51:34.574466Z"
    }
   }
  },
  {
   "cell_type": "code",
   "execution_count": 54,
   "outputs": [],
   "source": [
    "ppl_ensemble = PMMLPipeline([\n",
    "    (\"mapper\", mapper),\n",
    "    ('ensemble', VotingClassifier(estimators = estimator, voting ='soft'))\n",
    "])"
   ],
   "metadata": {
    "collapsed": false,
    "ExecuteTime": {
     "start_time": "2023-04-13T22:51:35.395562Z",
     "end_time": "2023-04-13T22:51:35.405136Z"
    }
   }
  },
  {
   "cell_type": "code",
   "execution_count": 55,
   "outputs": [
    {
     "data": {
      "text/plain": "PMMLPipeline(steps=[('mapper', DataFrameMapper(df_out=True, drop_cols=['Pressure3pm', 'Temp3pm', 'Temp9am'],\n                features=[(['MinTemp'],\n                           [ContinuousDomain(),\n                            SimpleImputer(strategy='median'),\n                            StandardScaler()]),\n                          (['MaxTemp'],\n                           [ContinuousDomain(),\n                            SimpleImputer(strategy='median'),\n                            StandardScaler()]),\n                          (['Rainfall'],\n                           [ContinuousDomain(),\n                            SimpleImputer(strategy='median'),\n                            StandardScaler()]),\n                          (['WindGus...\n                            PMMLLabelEncoder(), StandardScaler()]),\n                          (['WindDir3pm'],\n                           [CategoricalDomain(),\n                            SimpleImputer(strategy='most_frequent'),\n                            PMMLLabelEncoder(), StandardScaler()]),\n                          (['RainToday'],\n                           [CategoricalDomain(),\n                            SimpleImputer(strategy='most_frequent'),\n                            PMMLLabelEncoder(), StandardScaler()]),\n                          (['Date'],\n                           [DateTimeDomain(),\n                            DaysSinceYearTransformer(year=1968),\n                            StandardScaler()])],\n                input_df=True)),\n       ('ensemble', VotingClassifier(estimators=[('svm', SVC(probability=True)),\n                             ('lrc',\n                              LogisticRegression(max_iter=400,\n                                                 multi_class='multinomial')),\n                             ('knc', KNeighborsClassifier()),\n                             ('rfc', RandomForestClassifier()),\n                             ('dtc', DecisionTreeClassifier())],\n                 voting='soft'))])",
      "text/html": "<style>#sk-container-id-9 {color: black;background-color: white;}#sk-container-id-9 pre{padding: 0;}#sk-container-id-9 div.sk-toggleable {background-color: white;}#sk-container-id-9 label.sk-toggleable__label {cursor: pointer;display: block;width: 100%;margin-bottom: 0;padding: 0.3em;box-sizing: border-box;text-align: center;}#sk-container-id-9 label.sk-toggleable__label-arrow:before {content: \"▸\";float: left;margin-right: 0.25em;color: #696969;}#sk-container-id-9 label.sk-toggleable__label-arrow:hover:before {color: black;}#sk-container-id-9 div.sk-estimator:hover label.sk-toggleable__label-arrow:before {color: black;}#sk-container-id-9 div.sk-toggleable__content {max-height: 0;max-width: 0;overflow: hidden;text-align: left;background-color: #f0f8ff;}#sk-container-id-9 div.sk-toggleable__content pre {margin: 0.2em;color: black;border-radius: 0.25em;background-color: #f0f8ff;}#sk-container-id-9 input.sk-toggleable__control:checked~div.sk-toggleable__content {max-height: 200px;max-width: 100%;overflow: auto;}#sk-container-id-9 input.sk-toggleable__control:checked~label.sk-toggleable__label-arrow:before {content: \"▾\";}#sk-container-id-9 div.sk-estimator input.sk-toggleable__control:checked~label.sk-toggleable__label {background-color: #d4ebff;}#sk-container-id-9 div.sk-label input.sk-toggleable__control:checked~label.sk-toggleable__label {background-color: #d4ebff;}#sk-container-id-9 input.sk-hidden--visually {border: 0;clip: rect(1px 1px 1px 1px);clip: rect(1px, 1px, 1px, 1px);height: 1px;margin: -1px;overflow: hidden;padding: 0;position: absolute;width: 1px;}#sk-container-id-9 div.sk-estimator {font-family: monospace;background-color: #f0f8ff;border: 1px dotted black;border-radius: 0.25em;box-sizing: border-box;margin-bottom: 0.5em;}#sk-container-id-9 div.sk-estimator:hover {background-color: #d4ebff;}#sk-container-id-9 div.sk-parallel-item::after {content: \"\";width: 100%;border-bottom: 1px solid gray;flex-grow: 1;}#sk-container-id-9 div.sk-label:hover label.sk-toggleable__label {background-color: #d4ebff;}#sk-container-id-9 div.sk-serial::before {content: \"\";position: absolute;border-left: 1px solid gray;box-sizing: border-box;top: 0;bottom: 0;left: 50%;z-index: 0;}#sk-container-id-9 div.sk-serial {display: flex;flex-direction: column;align-items: center;background-color: white;padding-right: 0.2em;padding-left: 0.2em;position: relative;}#sk-container-id-9 div.sk-item {position: relative;z-index: 1;}#sk-container-id-9 div.sk-parallel {display: flex;align-items: stretch;justify-content: center;background-color: white;position: relative;}#sk-container-id-9 div.sk-item::before, #sk-container-id-9 div.sk-parallel-item::before {content: \"\";position: absolute;border-left: 1px solid gray;box-sizing: border-box;top: 0;bottom: 0;left: 50%;z-index: -1;}#sk-container-id-9 div.sk-parallel-item {display: flex;flex-direction: column;z-index: 1;position: relative;background-color: white;}#sk-container-id-9 div.sk-parallel-item:first-child::after {align-self: flex-end;width: 50%;}#sk-container-id-9 div.sk-parallel-item:last-child::after {align-self: flex-start;width: 50%;}#sk-container-id-9 div.sk-parallel-item:only-child::after {width: 0;}#sk-container-id-9 div.sk-dashed-wrapped {border: 1px dashed gray;margin: 0 0.4em 0.5em 0.4em;box-sizing: border-box;padding-bottom: 0.4em;background-color: white;}#sk-container-id-9 div.sk-label label {font-family: monospace;font-weight: bold;display: inline-block;line-height: 1.2em;}#sk-container-id-9 div.sk-label-container {text-align: center;}#sk-container-id-9 div.sk-container {/* jupyter's `normalize.less` sets `[hidden] { display: none; }` but bootstrap.min.css set `[hidden] { display: none !important; }` so we also need the `!important` here to be able to override the default hidden behavior on the sphinx rendered scikit-learn.org. See: https://github.com/scikit-learn/scikit-learn/issues/21755 */display: inline-block !important;position: relative;}#sk-container-id-9 div.sk-text-repr-fallback {display: none;}</style><div id=\"sk-container-id-9\" class=\"sk-top-container\"><div class=\"sk-text-repr-fallback\"><pre>PMMLPipeline(steps=[(&#x27;mapper&#x27;, DataFrameMapper(df_out=True, drop_cols=[&#x27;Pressure3pm&#x27;, &#x27;Temp3pm&#x27;, &#x27;Temp9am&#x27;],\n                features=[([&#x27;MinTemp&#x27;],\n                           [ContinuousDomain(),\n                            SimpleImputer(strategy=&#x27;median&#x27;),\n                            StandardScaler()]),\n                          ([&#x27;MaxTemp&#x27;],\n                           [ContinuousDomain(),\n                            SimpleImputer(strategy=&#x27;median&#x27;),\n                            StandardScaler()]),\n                          ([&#x27;Rainfall&#x27;],\n                           [ContinuousDomain(),\n                            SimpleImputer(strategy=&#x27;median&#x27;),\n                            StandardScaler()]),\n                          ([&#x27;WindGus...\n                            PMMLLabelEncoder(), StandardScaler()]),\n                          ([&#x27;WindDir3pm&#x27;],\n                           [CategoricalDomain(),\n                            SimpleImputer(strategy=&#x27;most_frequent&#x27;),\n                            PMMLLabelEncoder(), StandardScaler()]),\n                          ([&#x27;RainToday&#x27;],\n                           [CategoricalDomain(),\n                            SimpleImputer(strategy=&#x27;most_frequent&#x27;),\n                            PMMLLabelEncoder(), StandardScaler()]),\n                          ([&#x27;Date&#x27;],\n                           [DateTimeDomain(),\n                            DaysSinceYearTransformer(year=1968),\n                            StandardScaler()])],\n                input_df=True)),\n       (&#x27;ensemble&#x27;, VotingClassifier(estimators=[(&#x27;svm&#x27;, SVC(probability=True)),\n                             (&#x27;lrc&#x27;,\n                              LogisticRegression(max_iter=400,\n                                                 multi_class=&#x27;multinomial&#x27;)),\n                             (&#x27;knc&#x27;, KNeighborsClassifier()),\n                             (&#x27;rfc&#x27;, RandomForestClassifier()),\n                             (&#x27;dtc&#x27;, DecisionTreeClassifier())],\n                 voting=&#x27;soft&#x27;))])</pre><b>In a Jupyter environment, please rerun this cell to show the HTML representation or trust the notebook. <br />On GitHub, the HTML representation is unable to render, please try loading this page with nbviewer.org.</b></div><div class=\"sk-container\" hidden><div class=\"sk-item sk-dashed-wrapped\"><div class=\"sk-label-container\"><div class=\"sk-label sk-toggleable\"><input class=\"sk-toggleable__control sk-hidden--visually\" id=\"sk-estimator-id-64\" type=\"checkbox\" ><label for=\"sk-estimator-id-64\" class=\"sk-toggleable__label sk-toggleable__label-arrow\">PMMLPipeline</label><div class=\"sk-toggleable__content\"><pre>PMMLPipeline(steps=[(&#x27;mapper&#x27;, DataFrameMapper(df_out=True, drop_cols=[&#x27;Pressure3pm&#x27;, &#x27;Temp3pm&#x27;, &#x27;Temp9am&#x27;],\n                features=[([&#x27;MinTemp&#x27;],\n                           [ContinuousDomain(),\n                            SimpleImputer(strategy=&#x27;median&#x27;),\n                            StandardScaler()]),\n                          ([&#x27;MaxTemp&#x27;],\n                           [ContinuousDomain(),\n                            SimpleImputer(strategy=&#x27;median&#x27;),\n                            StandardScaler()]),\n                          ([&#x27;Rainfall&#x27;],\n                           [ContinuousDomain(),\n                            SimpleImputer(strategy=&#x27;median&#x27;),\n                            StandardScaler()]),\n                          ([&#x27;WindGus...\n                            PMMLLabelEncoder(), StandardScaler()]),\n                          ([&#x27;WindDir3pm&#x27;],\n                           [CategoricalDomain(),\n                            SimpleImputer(strategy=&#x27;most_frequent&#x27;),\n                            PMMLLabelEncoder(), StandardScaler()]),\n                          ([&#x27;RainToday&#x27;],\n                           [CategoricalDomain(),\n                            SimpleImputer(strategy=&#x27;most_frequent&#x27;),\n                            PMMLLabelEncoder(), StandardScaler()]),\n                          ([&#x27;Date&#x27;],\n                           [DateTimeDomain(),\n                            DaysSinceYearTransformer(year=1968),\n                            StandardScaler()])],\n                input_df=True)),\n       (&#x27;ensemble&#x27;, VotingClassifier(estimators=[(&#x27;svm&#x27;, SVC(probability=True)),\n                             (&#x27;lrc&#x27;,\n                              LogisticRegression(max_iter=400,\n                                                 multi_class=&#x27;multinomial&#x27;)),\n                             (&#x27;knc&#x27;, KNeighborsClassifier()),\n                             (&#x27;rfc&#x27;, RandomForestClassifier()),\n                             (&#x27;dtc&#x27;, DecisionTreeClassifier())],\n                 voting=&#x27;soft&#x27;))])</pre></div></div></div><div class=\"sk-serial\"><div class=\"sk-item\"><div class=\"sk-estimator sk-toggleable\"><input class=\"sk-toggleable__control sk-hidden--visually\" id=\"sk-estimator-id-65\" type=\"checkbox\" ><label for=\"sk-estimator-id-65\" class=\"sk-toggleable__label sk-toggleable__label-arrow\">DataFrameMapper</label><div class=\"sk-toggleable__content\"><pre>DataFrameMapper(df_out=True, drop_cols=[&#x27;Pressure3pm&#x27;, &#x27;Temp3pm&#x27;, &#x27;Temp9am&#x27;],\n                features=[([&#x27;MinTemp&#x27;],\n                           [ContinuousDomain(),\n                            SimpleImputer(strategy=&#x27;median&#x27;),\n                            StandardScaler()]),\n                          ([&#x27;MaxTemp&#x27;],\n                           [ContinuousDomain(),\n                            SimpleImputer(strategy=&#x27;median&#x27;),\n                            StandardScaler()]),\n                          ([&#x27;Rainfall&#x27;],\n                           [ContinuousDomain(),\n                            SimpleImputer(strategy=&#x27;median&#x27;),\n                            StandardScaler()]),\n                          ([&#x27;WindGus...\n                            PMMLLabelEncoder(), StandardScaler()]),\n                          ([&#x27;WindDir3pm&#x27;],\n                           [CategoricalDomain(),\n                            SimpleImputer(strategy=&#x27;most_frequent&#x27;),\n                            PMMLLabelEncoder(), StandardScaler()]),\n                          ([&#x27;RainToday&#x27;],\n                           [CategoricalDomain(),\n                            SimpleImputer(strategy=&#x27;most_frequent&#x27;),\n                            PMMLLabelEncoder(), StandardScaler()]),\n                          ([&#x27;Date&#x27;],\n                           [DateTimeDomain(),\n                            DaysSinceYearTransformer(year=1968),\n                            StandardScaler()])],\n                input_df=True)</pre></div></div></div><div class=\"sk-item sk-dashed-wrapped\"><div class=\"sk-label-container\"><div class=\"sk-label sk-toggleable\"><input class=\"sk-toggleable__control sk-hidden--visually\" id=\"sk-estimator-id-66\" type=\"checkbox\" ><label for=\"sk-estimator-id-66\" class=\"sk-toggleable__label sk-toggleable__label-arrow\">ensemble: VotingClassifier</label><div class=\"sk-toggleable__content\"><pre>VotingClassifier(estimators=[(&#x27;svm&#x27;, SVC(probability=True)),\n                             (&#x27;lrc&#x27;,\n                              LogisticRegression(max_iter=400,\n                                                 multi_class=&#x27;multinomial&#x27;)),\n                             (&#x27;knc&#x27;, KNeighborsClassifier()),\n                             (&#x27;rfc&#x27;, RandomForestClassifier()),\n                             (&#x27;dtc&#x27;, DecisionTreeClassifier())],\n                 voting=&#x27;soft&#x27;)</pre></div></div></div><div class=\"sk-parallel\"><div class=\"sk-parallel-item\"><div class=\"sk-item\"><div class=\"sk-label-container\"><div class=\"sk-label sk-toggleable\"><label>svm</label></div></div><div class=\"sk-serial\"><div class=\"sk-item\"><div class=\"sk-estimator sk-toggleable\"><input class=\"sk-toggleable__control sk-hidden--visually\" id=\"sk-estimator-id-67\" type=\"checkbox\" ><label for=\"sk-estimator-id-67\" class=\"sk-toggleable__label sk-toggleable__label-arrow\">SVC</label><div class=\"sk-toggleable__content\"><pre>SVC(probability=True)</pre></div></div></div></div></div></div><div class=\"sk-parallel-item\"><div class=\"sk-item\"><div class=\"sk-label-container\"><div class=\"sk-label sk-toggleable\"><label>lrc</label></div></div><div class=\"sk-serial\"><div class=\"sk-item\"><div class=\"sk-estimator sk-toggleable\"><input class=\"sk-toggleable__control sk-hidden--visually\" id=\"sk-estimator-id-68\" type=\"checkbox\" ><label for=\"sk-estimator-id-68\" class=\"sk-toggleable__label sk-toggleable__label-arrow\">LogisticRegression</label><div class=\"sk-toggleable__content\"><pre>LogisticRegression(max_iter=400, multi_class=&#x27;multinomial&#x27;)</pre></div></div></div></div></div></div><div class=\"sk-parallel-item\"><div class=\"sk-item\"><div class=\"sk-label-container\"><div class=\"sk-label sk-toggleable\"><label>knc</label></div></div><div class=\"sk-serial\"><div class=\"sk-item\"><div class=\"sk-estimator sk-toggleable\"><input class=\"sk-toggleable__control sk-hidden--visually\" id=\"sk-estimator-id-69\" type=\"checkbox\" ><label for=\"sk-estimator-id-69\" class=\"sk-toggleable__label sk-toggleable__label-arrow\">KNeighborsClassifier</label><div class=\"sk-toggleable__content\"><pre>KNeighborsClassifier()</pre></div></div></div></div></div></div><div class=\"sk-parallel-item\"><div class=\"sk-item\"><div class=\"sk-label-container\"><div class=\"sk-label sk-toggleable\"><label>rfc</label></div></div><div class=\"sk-serial\"><div class=\"sk-item\"><div class=\"sk-estimator sk-toggleable\"><input class=\"sk-toggleable__control sk-hidden--visually\" id=\"sk-estimator-id-70\" type=\"checkbox\" ><label for=\"sk-estimator-id-70\" class=\"sk-toggleable__label sk-toggleable__label-arrow\">RandomForestClassifier</label><div class=\"sk-toggleable__content\"><pre>RandomForestClassifier()</pre></div></div></div></div></div></div><div class=\"sk-parallel-item\"><div class=\"sk-item\"><div class=\"sk-label-container\"><div class=\"sk-label sk-toggleable\"><label>dtc</label></div></div><div class=\"sk-serial\"><div class=\"sk-item\"><div class=\"sk-estimator sk-toggleable\"><input class=\"sk-toggleable__control sk-hidden--visually\" id=\"sk-estimator-id-71\" type=\"checkbox\" ><label for=\"sk-estimator-id-71\" class=\"sk-toggleable__label sk-toggleable__label-arrow\">DecisionTreeClassifier</label><div class=\"sk-toggleable__content\"><pre>DecisionTreeClassifier()</pre></div></div></div></div></div></div></div></div></div></div></div></div>"
     },
     "metadata": {},
     "output_type": "display_data"
    }
   ],
   "source": [
    "display(ppl_ensemble)"
   ],
   "metadata": {
    "collapsed": false,
    "ExecuteTime": {
     "start_time": "2023-04-13T22:51:36.522979Z",
     "end_time": "2023-04-13T22:51:36.713915Z"
    }
   }
  },
  {
   "cell_type": "markdown",
   "source": [
    "## Hyper-parameter Tuning"
   ],
   "metadata": {
    "collapsed": false
   }
  },
  {
   "cell_type": "code",
   "execution_count": 56,
   "outputs": [
    {
     "data": {
      "text/plain": "{'apply_transformer': None,\n 'header': None,\n 'memory': None,\n 'predict_proba_transformer': None,\n 'predict_transformer': None,\n 'steps': [('mapper',\n   DataFrameMapper(df_out=True, drop_cols=['Pressure3pm', 'Temp3pm', 'Temp9am'],\n                   features=[(['MinTemp'],\n                              [ContinuousDomain(),\n                               SimpleImputer(strategy='median'),\n                               StandardScaler()]),\n                             (['MaxTemp'],\n                              [ContinuousDomain(),\n                               SimpleImputer(strategy='median'),\n                               StandardScaler()]),\n                             (['Rainfall'],\n                              [ContinuousDomain(),\n                               SimpleImputer(strategy='median'),\n                               StandardScaler()]),\n                             (['WindGus...\n                               PMMLLabelEncoder(), StandardScaler()]),\n                             (['WindDir3pm'],\n                              [CategoricalDomain(),\n                               SimpleImputer(strategy='most_frequent'),\n                               PMMLLabelEncoder(), StandardScaler()]),\n                             (['RainToday'],\n                              [CategoricalDomain(),\n                               SimpleImputer(strategy='most_frequent'),\n                               PMMLLabelEncoder(), StandardScaler()]),\n                             (['Date'],\n                              [DateTimeDomain(),\n                               DaysSinceYearTransformer(year=1968),\n                               StandardScaler()])],\n                   input_df=True)),\n  ('ensemble',\n   VotingClassifier(estimators=[('svm', SVC(probability=True)),\n                                ('lrc',\n                                 LogisticRegression(max_iter=400,\n                                                    multi_class='multinomial')),\n                                ('knc', KNeighborsClassifier()),\n                                ('rfc', RandomForestClassifier()),\n                                ('dtc', DecisionTreeClassifier())],\n                    voting='soft'))],\n 'verbose': False,\n 'mapper': DataFrameMapper(df_out=True, drop_cols=['Pressure3pm', 'Temp3pm', 'Temp9am'],\n                 features=[(['MinTemp'],\n                            [ContinuousDomain(),\n                             SimpleImputer(strategy='median'),\n                             StandardScaler()]),\n                           (['MaxTemp'],\n                            [ContinuousDomain(),\n                             SimpleImputer(strategy='median'),\n                             StandardScaler()]),\n                           (['Rainfall'],\n                            [ContinuousDomain(),\n                             SimpleImputer(strategy='median'),\n                             StandardScaler()]),\n                           (['WindGus...\n                             PMMLLabelEncoder(), StandardScaler()]),\n                           (['WindDir3pm'],\n                            [CategoricalDomain(),\n                             SimpleImputer(strategy='most_frequent'),\n                             PMMLLabelEncoder(), StandardScaler()]),\n                           (['RainToday'],\n                            [CategoricalDomain(),\n                             SimpleImputer(strategy='most_frequent'),\n                             PMMLLabelEncoder(), StandardScaler()]),\n                           (['Date'],\n                            [DateTimeDomain(),\n                             DaysSinceYearTransformer(year=1968),\n                             StandardScaler()])],\n                 input_df=True),\n 'ensemble': VotingClassifier(estimators=[('svm', SVC(probability=True)),\n                              ('lrc',\n                               LogisticRegression(max_iter=400,\n                                                  multi_class='multinomial')),\n                              ('knc', KNeighborsClassifier()),\n                              ('rfc', RandomForestClassifier()),\n                              ('dtc', DecisionTreeClassifier())],\n                  voting='soft'),\n 'mapper__default': False,\n 'mapper__df_out': True,\n 'mapper__drop_cols': ['Pressure3pm', 'Temp3pm', 'Temp9am'],\n 'mapper__features': [(['MinTemp'],\n   [ContinuousDomain(), SimpleImputer(strategy='median'), StandardScaler()]),\n  (['MaxTemp'],\n   [ContinuousDomain(), SimpleImputer(strategy='median'), StandardScaler()]),\n  (['Rainfall'],\n   [ContinuousDomain(), SimpleImputer(strategy='median'), StandardScaler()]),\n  (['WindGustSpeed'],\n   [ContinuousDomain(), SimpleImputer(strategy='median'), StandardScaler()]),\n  (['WindSpeed9am'],\n   [ContinuousDomain(), SimpleImputer(strategy='median'), StandardScaler()]),\n  (['WindSpeed3pm'],\n   [ContinuousDomain(), SimpleImputer(strategy='median'), StandardScaler()]),\n  (['Humidity9am'],\n   [ContinuousDomain(), SimpleImputer(strategy='median'), StandardScaler()]),\n  (['Humidity3pm'],\n   [ContinuousDomain(), SimpleImputer(strategy='median'), StandardScaler()]),\n  (['Pressure9am'],\n   [ContinuousDomain(), SimpleImputer(strategy='median'), StandardScaler()]),\n  (['Cloud9am'],\n   [ContinuousDomain(), SimpleImputer(strategy='median'), StandardScaler()]),\n  (['Cloud3pm'],\n   [ContinuousDomain(), SimpleImputer(strategy='median'), StandardScaler()]),\n  (['Location'],\n   [CategoricalDomain(),\n    SimpleImputer(strategy='most_frequent'),\n    PMMLLabelEncoder(),\n    StandardScaler()]),\n  (['WindGustDir'],\n   [CategoricalDomain(),\n    SimpleImputer(strategy='most_frequent'),\n    PMMLLabelEncoder(),\n    StandardScaler()]),\n  (['WindDir9am'],\n   [CategoricalDomain(),\n    SimpleImputer(strategy='most_frequent'),\n    PMMLLabelEncoder(),\n    StandardScaler()]),\n  (['WindDir3pm'],\n   [CategoricalDomain(),\n    SimpleImputer(strategy='most_frequent'),\n    PMMLLabelEncoder(),\n    StandardScaler()]),\n  (['RainToday'],\n   [CategoricalDomain(),\n    SimpleImputer(strategy='most_frequent'),\n    PMMLLabelEncoder(),\n    StandardScaler()]),\n  (['Date'],\n   [DateTimeDomain(), DaysSinceYearTransformer(year=1968), StandardScaler()])],\n 'mapper__input_df': True,\n 'mapper__sparse': False,\n 'ensemble__estimators': [('svm', SVC(probability=True)),\n  ('lrc', LogisticRegression(max_iter=400, multi_class='multinomial')),\n  ('knc', KNeighborsClassifier()),\n  ('rfc', RandomForestClassifier()),\n  ('dtc', DecisionTreeClassifier())],\n 'ensemble__flatten_transform': True,\n 'ensemble__n_jobs': None,\n 'ensemble__verbose': False,\n 'ensemble__voting': 'soft',\n 'ensemble__weights': None,\n 'ensemble__svm': SVC(probability=True),\n 'ensemble__lrc': LogisticRegression(max_iter=400, multi_class='multinomial'),\n 'ensemble__knc': KNeighborsClassifier(),\n 'ensemble__rfc': RandomForestClassifier(),\n 'ensemble__dtc': DecisionTreeClassifier(),\n 'ensemble__svm__C': 1.0,\n 'ensemble__svm__break_ties': False,\n 'ensemble__svm__cache_size': 200,\n 'ensemble__svm__class_weight': None,\n 'ensemble__svm__coef0': 0.0,\n 'ensemble__svm__decision_function_shape': 'ovr',\n 'ensemble__svm__degree': 3,\n 'ensemble__svm__gamma': 'scale',\n 'ensemble__svm__kernel': 'rbf',\n 'ensemble__svm__max_iter': -1,\n 'ensemble__svm__probability': True,\n 'ensemble__svm__random_state': None,\n 'ensemble__svm__shrinking': True,\n 'ensemble__svm__tol': 0.001,\n 'ensemble__svm__verbose': False,\n 'ensemble__lrc__C': 1.0,\n 'ensemble__lrc__class_weight': None,\n 'ensemble__lrc__dual': False,\n 'ensemble__lrc__fit_intercept': True,\n 'ensemble__lrc__intercept_scaling': 1,\n 'ensemble__lrc__l1_ratio': None,\n 'ensemble__lrc__max_iter': 400,\n 'ensemble__lrc__multi_class': 'multinomial',\n 'ensemble__lrc__n_jobs': None,\n 'ensemble__lrc__penalty': 'l2',\n 'ensemble__lrc__random_state': None,\n 'ensemble__lrc__solver': 'lbfgs',\n 'ensemble__lrc__tol': 0.0001,\n 'ensemble__lrc__verbose': 0,\n 'ensemble__lrc__warm_start': False,\n 'ensemble__knc__algorithm': 'auto',\n 'ensemble__knc__leaf_size': 30,\n 'ensemble__knc__metric': 'minkowski',\n 'ensemble__knc__metric_params': None,\n 'ensemble__knc__n_jobs': None,\n 'ensemble__knc__n_neighbors': 5,\n 'ensemble__knc__p': 2,\n 'ensemble__knc__weights': 'uniform',\n 'ensemble__rfc__bootstrap': True,\n 'ensemble__rfc__ccp_alpha': 0.0,\n 'ensemble__rfc__class_weight': None,\n 'ensemble__rfc__criterion': 'gini',\n 'ensemble__rfc__max_depth': None,\n 'ensemble__rfc__max_features': 'sqrt',\n 'ensemble__rfc__max_leaf_nodes': None,\n 'ensemble__rfc__max_samples': None,\n 'ensemble__rfc__min_impurity_decrease': 0.0,\n 'ensemble__rfc__min_samples_leaf': 1,\n 'ensemble__rfc__min_samples_split': 2,\n 'ensemble__rfc__min_weight_fraction_leaf': 0.0,\n 'ensemble__rfc__n_estimators': 100,\n 'ensemble__rfc__n_jobs': None,\n 'ensemble__rfc__oob_score': False,\n 'ensemble__rfc__random_state': None,\n 'ensemble__rfc__verbose': 0,\n 'ensemble__rfc__warm_start': False,\n 'ensemble__dtc__ccp_alpha': 0.0,\n 'ensemble__dtc__class_weight': None,\n 'ensemble__dtc__criterion': 'gini',\n 'ensemble__dtc__max_depth': None,\n 'ensemble__dtc__max_features': None,\n 'ensemble__dtc__max_leaf_nodes': None,\n 'ensemble__dtc__min_impurity_decrease': 0.0,\n 'ensemble__dtc__min_samples_leaf': 1,\n 'ensemble__dtc__min_samples_split': 2,\n 'ensemble__dtc__min_weight_fraction_leaf': 0.0,\n 'ensemble__dtc__random_state': None,\n 'ensemble__dtc__splitter': 'best'}"
     },
     "execution_count": 56,
     "metadata": {},
     "output_type": "execute_result"
    }
   ],
   "source": [
    "ppl_ensemble.get_params()"
   ],
   "metadata": {
    "collapsed": false,
    "ExecuteTime": {
     "start_time": "2023-04-13T22:51:39.088393Z",
     "end_time": "2023-04-13T22:51:39.144681Z"
    }
   }
  },
  {
   "cell_type": "code",
   "execution_count": 57,
   "outputs": [],
   "source": [
    "# Hyper-parameter\n",
    "hyper_params = {\n",
    "    'ensemble__svm__C' : [1,2],\n",
    "    'ensemble__lrc__solver': ['lbfgs','newton-cg'],\n",
    "    'ensemble__knc__n_neighbors' : [5,8],\n",
    "    'ensemble__rfc__max_depth': [7,10],\n",
    "    'ensemble__dtc__max_depth': [7,10]\n",
    "}\n",
    "\n",
    "cv_rsf = RepeatedStratifiedKFold(n_splits=2, n_repeats=1)\n",
    "searcher = RandomizedSearchCV(ppl_ensemble, param_distributions=hyper_params, scoring='roc_auc', verbose=2, cv=cv_rsf)"
   ],
   "metadata": {
    "collapsed": false,
    "ExecuteTime": {
     "start_time": "2023-04-13T22:51:40.275168Z",
     "end_time": "2023-04-13T22:51:40.281248Z"
    }
   }
  },
  {
   "cell_type": "code",
   "execution_count": 58,
   "outputs": [
    {
     "name": "stdout",
     "output_type": "stream",
     "text": [
      "Fitting 2 folds for each of 10 candidates, totalling 20 fits\n",
      "[CV] END ensemble__dtc__max_depth=7, ensemble__knc__n_neighbors=5, ensemble__lrc__solver=lbfgs, ensemble__rfc__max_depth=10, ensemble__svm__C=2; total time=  19.9s\n",
      "[CV] END ensemble__dtc__max_depth=7, ensemble__knc__n_neighbors=5, ensemble__lrc__solver=lbfgs, ensemble__rfc__max_depth=10, ensemble__svm__C=2; total time=  19.3s\n",
      "[CV] END ensemble__dtc__max_depth=10, ensemble__knc__n_neighbors=5, ensemble__lrc__solver=newton-cg, ensemble__rfc__max_depth=10, ensemble__svm__C=2; total time=  20.5s\n",
      "[CV] END ensemble__dtc__max_depth=10, ensemble__knc__n_neighbors=5, ensemble__lrc__solver=newton-cg, ensemble__rfc__max_depth=10, ensemble__svm__C=2; total time=  19.8s\n",
      "[CV] END ensemble__dtc__max_depth=7, ensemble__knc__n_neighbors=8, ensemble__lrc__solver=lbfgs, ensemble__rfc__max_depth=10, ensemble__svm__C=2; total time=  19.9s\n",
      "[CV] END ensemble__dtc__max_depth=7, ensemble__knc__n_neighbors=8, ensemble__lrc__solver=lbfgs, ensemble__rfc__max_depth=10, ensemble__svm__C=2; total time=  19.4s\n",
      "[CV] END ensemble__dtc__max_depth=7, ensemble__knc__n_neighbors=5, ensemble__lrc__solver=lbfgs, ensemble__rfc__max_depth=7, ensemble__svm__C=2; total time=  19.0s\n",
      "[CV] END ensemble__dtc__max_depth=7, ensemble__knc__n_neighbors=5, ensemble__lrc__solver=lbfgs, ensemble__rfc__max_depth=7, ensemble__svm__C=2; total time=  19.3s\n",
      "[CV] END ensemble__dtc__max_depth=10, ensemble__knc__n_neighbors=8, ensemble__lrc__solver=lbfgs, ensemble__rfc__max_depth=7, ensemble__svm__C=1; total time=  18.2s\n",
      "[CV] END ensemble__dtc__max_depth=10, ensemble__knc__n_neighbors=8, ensemble__lrc__solver=lbfgs, ensemble__rfc__max_depth=7, ensemble__svm__C=1; total time=  17.6s\n",
      "[CV] END ensemble__dtc__max_depth=7, ensemble__knc__n_neighbors=8, ensemble__lrc__solver=lbfgs, ensemble__rfc__max_depth=7, ensemble__svm__C=1; total time=  17.9s\n",
      "[CV] END ensemble__dtc__max_depth=7, ensemble__knc__n_neighbors=8, ensemble__lrc__solver=lbfgs, ensemble__rfc__max_depth=7, ensemble__svm__C=1; total time=  17.7s\n",
      "[CV] END ensemble__dtc__max_depth=10, ensemble__knc__n_neighbors=8, ensemble__lrc__solver=newton-cg, ensemble__rfc__max_depth=7, ensemble__svm__C=1; total time=  18.6s\n",
      "[CV] END ensemble__dtc__max_depth=10, ensemble__knc__n_neighbors=8, ensemble__lrc__solver=newton-cg, ensemble__rfc__max_depth=7, ensemble__svm__C=1; total time=  18.6s\n",
      "[CV] END ensemble__dtc__max_depth=7, ensemble__knc__n_neighbors=5, ensemble__lrc__solver=newton-cg, ensemble__rfc__max_depth=7, ensemble__svm__C=1; total time=  18.7s\n",
      "[CV] END ensemble__dtc__max_depth=7, ensemble__knc__n_neighbors=5, ensemble__lrc__solver=newton-cg, ensemble__rfc__max_depth=7, ensemble__svm__C=1; total time=  18.7s\n",
      "[CV] END ensemble__dtc__max_depth=10, ensemble__knc__n_neighbors=5, ensemble__lrc__solver=lbfgs, ensemble__rfc__max_depth=7, ensemble__svm__C=1; total time=  19.1s\n",
      "[CV] END ensemble__dtc__max_depth=10, ensemble__knc__n_neighbors=5, ensemble__lrc__solver=lbfgs, ensemble__rfc__max_depth=7, ensemble__svm__C=1; total time=  18.0s\n",
      "[CV] END ensemble__dtc__max_depth=10, ensemble__knc__n_neighbors=5, ensemble__lrc__solver=lbfgs, ensemble__rfc__max_depth=7, ensemble__svm__C=2; total time=  19.6s\n",
      "[CV] END ensemble__dtc__max_depth=10, ensemble__knc__n_neighbors=5, ensemble__lrc__solver=lbfgs, ensemble__rfc__max_depth=7, ensemble__svm__C=2; total time=  19.6s\n"
     ]
    },
    {
     "data": {
      "text/plain": "RandomizedSearchCV(cv=RepeatedStratifiedKFold(n_repeats=1, n_splits=2, random_state=None),\n                   estimator=PMMLPipeline(steps=[('mapper', DataFrameMapper(df_out=True, drop_cols=['Pressure3pm', 'Temp3pm', 'Temp9am'], features=[(['MinTemp'], [ContinuousDomain(), SimpleImputer(strategy='median'), StandardScaler()]), (['MaxTemp'], [ContinuousDomain(), SimpleImputer(strate...nomial')), ('knc', KNeighborsClassifier()), ('rfc', RandomForestClassifier()), ('dtc', DecisionTreeClassifier())], voting='soft'))]),\n                   param_distributions={'ensemble__dtc__max_depth': [7, 10],\n                                        'ensemble__knc__n_neighbors': [5, 8],\n                                        'ensemble__lrc__solver': ['lbfgs',\n                                                                  'newton-cg'],\n                                        'ensemble__rfc__max_depth': [7, 10],\n                                        'ensemble__svm__C': [1, 2]},\n                   scoring='roc_auc', verbose=2)",
      "text/html": "<style>#sk-container-id-10 {color: black;background-color: white;}#sk-container-id-10 pre{padding: 0;}#sk-container-id-10 div.sk-toggleable {background-color: white;}#sk-container-id-10 label.sk-toggleable__label {cursor: pointer;display: block;width: 100%;margin-bottom: 0;padding: 0.3em;box-sizing: border-box;text-align: center;}#sk-container-id-10 label.sk-toggleable__label-arrow:before {content: \"▸\";float: left;margin-right: 0.25em;color: #696969;}#sk-container-id-10 label.sk-toggleable__label-arrow:hover:before {color: black;}#sk-container-id-10 div.sk-estimator:hover label.sk-toggleable__label-arrow:before {color: black;}#sk-container-id-10 div.sk-toggleable__content {max-height: 0;max-width: 0;overflow: hidden;text-align: left;background-color: #f0f8ff;}#sk-container-id-10 div.sk-toggleable__content pre {margin: 0.2em;color: black;border-radius: 0.25em;background-color: #f0f8ff;}#sk-container-id-10 input.sk-toggleable__control:checked~div.sk-toggleable__content {max-height: 200px;max-width: 100%;overflow: auto;}#sk-container-id-10 input.sk-toggleable__control:checked~label.sk-toggleable__label-arrow:before {content: \"▾\";}#sk-container-id-10 div.sk-estimator input.sk-toggleable__control:checked~label.sk-toggleable__label {background-color: #d4ebff;}#sk-container-id-10 div.sk-label input.sk-toggleable__control:checked~label.sk-toggleable__label {background-color: #d4ebff;}#sk-container-id-10 input.sk-hidden--visually {border: 0;clip: rect(1px 1px 1px 1px);clip: rect(1px, 1px, 1px, 1px);height: 1px;margin: -1px;overflow: hidden;padding: 0;position: absolute;width: 1px;}#sk-container-id-10 div.sk-estimator {font-family: monospace;background-color: #f0f8ff;border: 1px dotted black;border-radius: 0.25em;box-sizing: border-box;margin-bottom: 0.5em;}#sk-container-id-10 div.sk-estimator:hover {background-color: #d4ebff;}#sk-container-id-10 div.sk-parallel-item::after {content: \"\";width: 100%;border-bottom: 1px solid gray;flex-grow: 1;}#sk-container-id-10 div.sk-label:hover label.sk-toggleable__label {background-color: #d4ebff;}#sk-container-id-10 div.sk-serial::before {content: \"\";position: absolute;border-left: 1px solid gray;box-sizing: border-box;top: 0;bottom: 0;left: 50%;z-index: 0;}#sk-container-id-10 div.sk-serial {display: flex;flex-direction: column;align-items: center;background-color: white;padding-right: 0.2em;padding-left: 0.2em;position: relative;}#sk-container-id-10 div.sk-item {position: relative;z-index: 1;}#sk-container-id-10 div.sk-parallel {display: flex;align-items: stretch;justify-content: center;background-color: white;position: relative;}#sk-container-id-10 div.sk-item::before, #sk-container-id-10 div.sk-parallel-item::before {content: \"\";position: absolute;border-left: 1px solid gray;box-sizing: border-box;top: 0;bottom: 0;left: 50%;z-index: -1;}#sk-container-id-10 div.sk-parallel-item {display: flex;flex-direction: column;z-index: 1;position: relative;background-color: white;}#sk-container-id-10 div.sk-parallel-item:first-child::after {align-self: flex-end;width: 50%;}#sk-container-id-10 div.sk-parallel-item:last-child::after {align-self: flex-start;width: 50%;}#sk-container-id-10 div.sk-parallel-item:only-child::after {width: 0;}#sk-container-id-10 div.sk-dashed-wrapped {border: 1px dashed gray;margin: 0 0.4em 0.5em 0.4em;box-sizing: border-box;padding-bottom: 0.4em;background-color: white;}#sk-container-id-10 div.sk-label label {font-family: monospace;font-weight: bold;display: inline-block;line-height: 1.2em;}#sk-container-id-10 div.sk-label-container {text-align: center;}#sk-container-id-10 div.sk-container {/* jupyter's `normalize.less` sets `[hidden] { display: none; }` but bootstrap.min.css set `[hidden] { display: none !important; }` so we also need the `!important` here to be able to override the default hidden behavior on the sphinx rendered scikit-learn.org. See: https://github.com/scikit-learn/scikit-learn/issues/21755 */display: inline-block !important;position: relative;}#sk-container-id-10 div.sk-text-repr-fallback {display: none;}</style><div id=\"sk-container-id-10\" class=\"sk-top-container\"><div class=\"sk-text-repr-fallback\"><pre>RandomizedSearchCV(cv=RepeatedStratifiedKFold(n_repeats=1, n_splits=2, random_state=None),\n                   estimator=PMMLPipeline(steps=[(&#x27;mapper&#x27;, DataFrameMapper(df_out=True, drop_cols=[&#x27;Pressure3pm&#x27;, &#x27;Temp3pm&#x27;, &#x27;Temp9am&#x27;], features=[([&#x27;MinTemp&#x27;], [ContinuousDomain(), SimpleImputer(strategy=&#x27;median&#x27;), StandardScaler()]), ([&#x27;MaxTemp&#x27;], [ContinuousDomain(), SimpleImputer(strate...nomial&#x27;)), (&#x27;knc&#x27;, KNeighborsClassifier()), (&#x27;rfc&#x27;, RandomForestClassifier()), (&#x27;dtc&#x27;, DecisionTreeClassifier())], voting=&#x27;soft&#x27;))]),\n                   param_distributions={&#x27;ensemble__dtc__max_depth&#x27;: [7, 10],\n                                        &#x27;ensemble__knc__n_neighbors&#x27;: [5, 8],\n                                        &#x27;ensemble__lrc__solver&#x27;: [&#x27;lbfgs&#x27;,\n                                                                  &#x27;newton-cg&#x27;],\n                                        &#x27;ensemble__rfc__max_depth&#x27;: [7, 10],\n                                        &#x27;ensemble__svm__C&#x27;: [1, 2]},\n                   scoring=&#x27;roc_auc&#x27;, verbose=2)</pre><b>In a Jupyter environment, please rerun this cell to show the HTML representation or trust the notebook. <br />On GitHub, the HTML representation is unable to render, please try loading this page with nbviewer.org.</b></div><div class=\"sk-container\" hidden><div class=\"sk-item sk-dashed-wrapped\"><div class=\"sk-label-container\"><div class=\"sk-label sk-toggleable\"><input class=\"sk-toggleable__control sk-hidden--visually\" id=\"sk-estimator-id-72\" type=\"checkbox\" ><label for=\"sk-estimator-id-72\" class=\"sk-toggleable__label sk-toggleable__label-arrow\">RandomizedSearchCV</label><div class=\"sk-toggleable__content\"><pre>RandomizedSearchCV(cv=RepeatedStratifiedKFold(n_repeats=1, n_splits=2, random_state=None),\n                   estimator=PMMLPipeline(steps=[(&#x27;mapper&#x27;, DataFrameMapper(df_out=True, drop_cols=[&#x27;Pressure3pm&#x27;, &#x27;Temp3pm&#x27;, &#x27;Temp9am&#x27;], features=[([&#x27;MinTemp&#x27;], [ContinuousDomain(), SimpleImputer(strategy=&#x27;median&#x27;), StandardScaler()]), ([&#x27;MaxTemp&#x27;], [ContinuousDomain(), SimpleImputer(strate...nomial&#x27;)), (&#x27;knc&#x27;, KNeighborsClassifier()), (&#x27;rfc&#x27;, RandomForestClassifier()), (&#x27;dtc&#x27;, DecisionTreeClassifier())], voting=&#x27;soft&#x27;))]),\n                   param_distributions={&#x27;ensemble__dtc__max_depth&#x27;: [7, 10],\n                                        &#x27;ensemble__knc__n_neighbors&#x27;: [5, 8],\n                                        &#x27;ensemble__lrc__solver&#x27;: [&#x27;lbfgs&#x27;,\n                                                                  &#x27;newton-cg&#x27;],\n                                        &#x27;ensemble__rfc__max_depth&#x27;: [7, 10],\n                                        &#x27;ensemble__svm__C&#x27;: [1, 2]},\n                   scoring=&#x27;roc_auc&#x27;, verbose=2)</pre></div></div></div><div class=\"sk-parallel\"><div class=\"sk-parallel-item\"><div class=\"sk-item\"><div class=\"sk-label-container\"><div class=\"sk-label sk-toggleable\"><input class=\"sk-toggleable__control sk-hidden--visually\" id=\"sk-estimator-id-73\" type=\"checkbox\" ><label for=\"sk-estimator-id-73\" class=\"sk-toggleable__label sk-toggleable__label-arrow\">estimator: PMMLPipeline</label><div class=\"sk-toggleable__content\"><pre>PMMLPipeline(steps=[(&#x27;mapper&#x27;, DataFrameMapper(df_out=True, drop_cols=[&#x27;Pressure3pm&#x27;, &#x27;Temp3pm&#x27;, &#x27;Temp9am&#x27;],\n                features=[([&#x27;MinTemp&#x27;],\n                           [ContinuousDomain(),\n                            SimpleImputer(strategy=&#x27;median&#x27;),\n                            StandardScaler()]),\n                          ([&#x27;MaxTemp&#x27;],\n                           [ContinuousDomain(),\n                            SimpleImputer(strategy=&#x27;median&#x27;),\n                            StandardScaler()]),\n                          ([&#x27;Rainfall&#x27;],\n                           [ContinuousDomain(),\n                            SimpleImputer(strategy=&#x27;median&#x27;),\n                            StandardScaler()]),\n                          ([&#x27;WindGus...\n                            PMMLLabelEncoder(), StandardScaler()]),\n                          ([&#x27;WindDir3pm&#x27;],\n                           [CategoricalDomain(),\n                            SimpleImputer(strategy=&#x27;most_frequent&#x27;),\n                            PMMLLabelEncoder(), StandardScaler()]),\n                          ([&#x27;RainToday&#x27;],\n                           [CategoricalDomain(),\n                            SimpleImputer(strategy=&#x27;most_frequent&#x27;),\n                            PMMLLabelEncoder(), StandardScaler()]),\n                          ([&#x27;Date&#x27;],\n                           [DateTimeDomain(),\n                            DaysSinceYearTransformer(year=1968),\n                            StandardScaler()])],\n                input_df=True)),\n       (&#x27;ensemble&#x27;, VotingClassifier(estimators=[(&#x27;svm&#x27;, SVC(probability=True)),\n                             (&#x27;lrc&#x27;,\n                              LogisticRegression(max_iter=400,\n                                                 multi_class=&#x27;multinomial&#x27;)),\n                             (&#x27;knc&#x27;, KNeighborsClassifier()),\n                             (&#x27;rfc&#x27;, RandomForestClassifier()),\n                             (&#x27;dtc&#x27;, DecisionTreeClassifier())],\n                 voting=&#x27;soft&#x27;))])</pre></div></div></div><div class=\"sk-serial\"><div class=\"sk-item\"><div class=\"sk-serial\"><div class=\"sk-item\"><div class=\"sk-estimator sk-toggleable\"><input class=\"sk-toggleable__control sk-hidden--visually\" id=\"sk-estimator-id-74\" type=\"checkbox\" ><label for=\"sk-estimator-id-74\" class=\"sk-toggleable__label sk-toggleable__label-arrow\">DataFrameMapper</label><div class=\"sk-toggleable__content\"><pre>DataFrameMapper(df_out=True, drop_cols=[&#x27;Pressure3pm&#x27;, &#x27;Temp3pm&#x27;, &#x27;Temp9am&#x27;],\n                features=[([&#x27;MinTemp&#x27;],\n                           [ContinuousDomain(),\n                            SimpleImputer(strategy=&#x27;median&#x27;),\n                            StandardScaler()]),\n                          ([&#x27;MaxTemp&#x27;],\n                           [ContinuousDomain(),\n                            SimpleImputer(strategy=&#x27;median&#x27;),\n                            StandardScaler()]),\n                          ([&#x27;Rainfall&#x27;],\n                           [ContinuousDomain(),\n                            SimpleImputer(strategy=&#x27;median&#x27;),\n                            StandardScaler()]),\n                          ([&#x27;WindGus...\n                            PMMLLabelEncoder(), StandardScaler()]),\n                          ([&#x27;WindDir3pm&#x27;],\n                           [CategoricalDomain(),\n                            SimpleImputer(strategy=&#x27;most_frequent&#x27;),\n                            PMMLLabelEncoder(), StandardScaler()]),\n                          ([&#x27;RainToday&#x27;],\n                           [CategoricalDomain(),\n                            SimpleImputer(strategy=&#x27;most_frequent&#x27;),\n                            PMMLLabelEncoder(), StandardScaler()]),\n                          ([&#x27;Date&#x27;],\n                           [DateTimeDomain(),\n                            DaysSinceYearTransformer(year=1968),\n                            StandardScaler()])],\n                input_df=True)</pre></div></div></div><div class=\"sk-item sk-dashed-wrapped\"><div class=\"sk-label-container\"><div class=\"sk-label sk-toggleable\"><input class=\"sk-toggleable__control sk-hidden--visually\" id=\"sk-estimator-id-75\" type=\"checkbox\" ><label for=\"sk-estimator-id-75\" class=\"sk-toggleable__label sk-toggleable__label-arrow\">ensemble: VotingClassifier</label><div class=\"sk-toggleable__content\"><pre>VotingClassifier(estimators=[(&#x27;svm&#x27;, SVC(probability=True)),\n                             (&#x27;lrc&#x27;,\n                              LogisticRegression(max_iter=400,\n                                                 multi_class=&#x27;multinomial&#x27;)),\n                             (&#x27;knc&#x27;, KNeighborsClassifier()),\n                             (&#x27;rfc&#x27;, RandomForestClassifier()),\n                             (&#x27;dtc&#x27;, DecisionTreeClassifier())],\n                 voting=&#x27;soft&#x27;)</pre></div></div></div><div class=\"sk-parallel\"><div class=\"sk-parallel-item\"><div class=\"sk-item\"><div class=\"sk-label-container\"><div class=\"sk-label sk-toggleable\"><label>svm</label></div></div><div class=\"sk-serial\"><div class=\"sk-item\"><div class=\"sk-estimator sk-toggleable\"><input class=\"sk-toggleable__control sk-hidden--visually\" id=\"sk-estimator-id-76\" type=\"checkbox\" ><label for=\"sk-estimator-id-76\" class=\"sk-toggleable__label sk-toggleable__label-arrow\">SVC</label><div class=\"sk-toggleable__content\"><pre>SVC(probability=True)</pre></div></div></div></div></div></div><div class=\"sk-parallel-item\"><div class=\"sk-item\"><div class=\"sk-label-container\"><div class=\"sk-label sk-toggleable\"><label>lrc</label></div></div><div class=\"sk-serial\"><div class=\"sk-item\"><div class=\"sk-estimator sk-toggleable\"><input class=\"sk-toggleable__control sk-hidden--visually\" id=\"sk-estimator-id-77\" type=\"checkbox\" ><label for=\"sk-estimator-id-77\" class=\"sk-toggleable__label sk-toggleable__label-arrow\">LogisticRegression</label><div class=\"sk-toggleable__content\"><pre>LogisticRegression(max_iter=400, multi_class=&#x27;multinomial&#x27;)</pre></div></div></div></div></div></div><div class=\"sk-parallel-item\"><div class=\"sk-item\"><div class=\"sk-label-container\"><div class=\"sk-label sk-toggleable\"><label>knc</label></div></div><div class=\"sk-serial\"><div class=\"sk-item\"><div class=\"sk-estimator sk-toggleable\"><input class=\"sk-toggleable__control sk-hidden--visually\" id=\"sk-estimator-id-78\" type=\"checkbox\" ><label for=\"sk-estimator-id-78\" class=\"sk-toggleable__label sk-toggleable__label-arrow\">KNeighborsClassifier</label><div class=\"sk-toggleable__content\"><pre>KNeighborsClassifier()</pre></div></div></div></div></div></div><div class=\"sk-parallel-item\"><div class=\"sk-item\"><div class=\"sk-label-container\"><div class=\"sk-label sk-toggleable\"><label>rfc</label></div></div><div class=\"sk-serial\"><div class=\"sk-item\"><div class=\"sk-estimator sk-toggleable\"><input class=\"sk-toggleable__control sk-hidden--visually\" id=\"sk-estimator-id-79\" type=\"checkbox\" ><label for=\"sk-estimator-id-79\" class=\"sk-toggleable__label sk-toggleable__label-arrow\">RandomForestClassifier</label><div class=\"sk-toggleable__content\"><pre>RandomForestClassifier()</pre></div></div></div></div></div></div><div class=\"sk-parallel-item\"><div class=\"sk-item\"><div class=\"sk-label-container\"><div class=\"sk-label sk-toggleable\"><label>dtc</label></div></div><div class=\"sk-serial\"><div class=\"sk-item\"><div class=\"sk-estimator sk-toggleable\"><input class=\"sk-toggleable__control sk-hidden--visually\" id=\"sk-estimator-id-80\" type=\"checkbox\" ><label for=\"sk-estimator-id-80\" class=\"sk-toggleable__label sk-toggleable__label-arrow\">DecisionTreeClassifier</label><div class=\"sk-toggleable__content\"><pre>DecisionTreeClassifier()</pre></div></div></div></div></div></div></div></div></div></div></div></div></div></div></div></div></div>"
     },
     "execution_count": 58,
     "metadata": {},
     "output_type": "execute_result"
    }
   ],
   "source": [
    "# Perform model training and hyper-parmeter tuning\n",
    "searcher.fit(X_train, y_train)"
   ],
   "metadata": {
    "collapsed": false,
    "ExecuteTime": {
     "start_time": "2023-04-13T22:51:41.159401Z",
     "end_time": "2023-04-13T22:59:11.703443Z"
    }
   }
  },
  {
   "cell_type": "code",
   "execution_count": 66,
   "outputs": [],
   "source": [
    "# Select best model\n",
    "best_pipeline = searcher.best_estimator_\n",
    "best_params = searcher.best_params_\n",
    "best_pipeline.verify(X_train.sample(n = 10))"
   ],
   "metadata": {
    "collapsed": false,
    "ExecuteTime": {
     "start_time": "2023-04-13T23:08:37.117418Z",
     "end_time": "2023-04-13T23:08:37.252015Z"
    }
   }
  },
  {
   "cell_type": "code",
   "execution_count": 67,
   "outputs": [
    {
     "data": {
      "text/plain": "PMMLPipeline(steps=[('mapper', DataFrameMapper(df_out=True, drop_cols=['Pressure3pm', 'Temp3pm', 'Temp9am'],\n                features=[(['MinTemp'],\n                           [ContinuousDomain(),\n                            SimpleImputer(strategy='median'),\n                            StandardScaler()]),\n                          (['MaxTemp'],\n                           [ContinuousDomain(),\n                            SimpleImputer(strategy='median'),\n                            StandardScaler()]),\n                          (['Rainfall'],\n                           [ContinuousDomain(),\n                            SimpleImputer(strategy='median'),\n                            StandardScaler()]),\n                          (['WindGus...\n                            PMMLLabelEncoder(), StandardScaler()]),\n                          (['WindDir3pm'],\n                           [CategoricalDomain(),\n                            SimpleImputer(strategy='most_frequent'),\n                            PMMLLabelEncoder(), StandardScaler()]),\n                          (['RainToday'],\n                           [CategoricalDomain(),\n                            SimpleImputer(strategy='most_frequent'),\n                            PMMLLabelEncoder(), StandardScaler()]),\n                          (['Date'],\n                           [DateTimeDomain(),\n                            DaysSinceYearTransformer(year=1968),\n                            StandardScaler()])],\n                input_df=True)),\n       ('ensemble', VotingClassifier(estimators=[('svm', SVC(C=2, probability=True)),\n                             ('lrc',\n                              LogisticRegression(max_iter=400,\n                                                 multi_class='multinomial')),\n                             ('knc', KNeighborsClassifier()),\n                             ('rfc', RandomForestClassifier(max_depth=10)),\n                             ('dtc', DecisionTreeClassifier(max_depth=7))],\n                 voting='soft'))])",
      "text/html": "<style>#sk-container-id-12 {color: black;background-color: white;}#sk-container-id-12 pre{padding: 0;}#sk-container-id-12 div.sk-toggleable {background-color: white;}#sk-container-id-12 label.sk-toggleable__label {cursor: pointer;display: block;width: 100%;margin-bottom: 0;padding: 0.3em;box-sizing: border-box;text-align: center;}#sk-container-id-12 label.sk-toggleable__label-arrow:before {content: \"▸\";float: left;margin-right: 0.25em;color: #696969;}#sk-container-id-12 label.sk-toggleable__label-arrow:hover:before {color: black;}#sk-container-id-12 div.sk-estimator:hover label.sk-toggleable__label-arrow:before {color: black;}#sk-container-id-12 div.sk-toggleable__content {max-height: 0;max-width: 0;overflow: hidden;text-align: left;background-color: #f0f8ff;}#sk-container-id-12 div.sk-toggleable__content pre {margin: 0.2em;color: black;border-radius: 0.25em;background-color: #f0f8ff;}#sk-container-id-12 input.sk-toggleable__control:checked~div.sk-toggleable__content {max-height: 200px;max-width: 100%;overflow: auto;}#sk-container-id-12 input.sk-toggleable__control:checked~label.sk-toggleable__label-arrow:before {content: \"▾\";}#sk-container-id-12 div.sk-estimator input.sk-toggleable__control:checked~label.sk-toggleable__label {background-color: #d4ebff;}#sk-container-id-12 div.sk-label input.sk-toggleable__control:checked~label.sk-toggleable__label {background-color: #d4ebff;}#sk-container-id-12 input.sk-hidden--visually {border: 0;clip: rect(1px 1px 1px 1px);clip: rect(1px, 1px, 1px, 1px);height: 1px;margin: -1px;overflow: hidden;padding: 0;position: absolute;width: 1px;}#sk-container-id-12 div.sk-estimator {font-family: monospace;background-color: #f0f8ff;border: 1px dotted black;border-radius: 0.25em;box-sizing: border-box;margin-bottom: 0.5em;}#sk-container-id-12 div.sk-estimator:hover {background-color: #d4ebff;}#sk-container-id-12 div.sk-parallel-item::after {content: \"\";width: 100%;border-bottom: 1px solid gray;flex-grow: 1;}#sk-container-id-12 div.sk-label:hover label.sk-toggleable__label {background-color: #d4ebff;}#sk-container-id-12 div.sk-serial::before {content: \"\";position: absolute;border-left: 1px solid gray;box-sizing: border-box;top: 0;bottom: 0;left: 50%;z-index: 0;}#sk-container-id-12 div.sk-serial {display: flex;flex-direction: column;align-items: center;background-color: white;padding-right: 0.2em;padding-left: 0.2em;position: relative;}#sk-container-id-12 div.sk-item {position: relative;z-index: 1;}#sk-container-id-12 div.sk-parallel {display: flex;align-items: stretch;justify-content: center;background-color: white;position: relative;}#sk-container-id-12 div.sk-item::before, #sk-container-id-12 div.sk-parallel-item::before {content: \"\";position: absolute;border-left: 1px solid gray;box-sizing: border-box;top: 0;bottom: 0;left: 50%;z-index: -1;}#sk-container-id-12 div.sk-parallel-item {display: flex;flex-direction: column;z-index: 1;position: relative;background-color: white;}#sk-container-id-12 div.sk-parallel-item:first-child::after {align-self: flex-end;width: 50%;}#sk-container-id-12 div.sk-parallel-item:last-child::after {align-self: flex-start;width: 50%;}#sk-container-id-12 div.sk-parallel-item:only-child::after {width: 0;}#sk-container-id-12 div.sk-dashed-wrapped {border: 1px dashed gray;margin: 0 0.4em 0.5em 0.4em;box-sizing: border-box;padding-bottom: 0.4em;background-color: white;}#sk-container-id-12 div.sk-label label {font-family: monospace;font-weight: bold;display: inline-block;line-height: 1.2em;}#sk-container-id-12 div.sk-label-container {text-align: center;}#sk-container-id-12 div.sk-container {/* jupyter's `normalize.less` sets `[hidden] { display: none; }` but bootstrap.min.css set `[hidden] { display: none !important; }` so we also need the `!important` here to be able to override the default hidden behavior on the sphinx rendered scikit-learn.org. See: https://github.com/scikit-learn/scikit-learn/issues/21755 */display: inline-block !important;position: relative;}#sk-container-id-12 div.sk-text-repr-fallback {display: none;}</style><div id=\"sk-container-id-12\" class=\"sk-top-container\"><div class=\"sk-text-repr-fallback\"><pre>PMMLPipeline(steps=[(&#x27;mapper&#x27;, DataFrameMapper(df_out=True, drop_cols=[&#x27;Pressure3pm&#x27;, &#x27;Temp3pm&#x27;, &#x27;Temp9am&#x27;],\n                features=[([&#x27;MinTemp&#x27;],\n                           [ContinuousDomain(),\n                            SimpleImputer(strategy=&#x27;median&#x27;),\n                            StandardScaler()]),\n                          ([&#x27;MaxTemp&#x27;],\n                           [ContinuousDomain(),\n                            SimpleImputer(strategy=&#x27;median&#x27;),\n                            StandardScaler()]),\n                          ([&#x27;Rainfall&#x27;],\n                           [ContinuousDomain(),\n                            SimpleImputer(strategy=&#x27;median&#x27;),\n                            StandardScaler()]),\n                          ([&#x27;WindGus...\n                            PMMLLabelEncoder(), StandardScaler()]),\n                          ([&#x27;WindDir3pm&#x27;],\n                           [CategoricalDomain(),\n                            SimpleImputer(strategy=&#x27;most_frequent&#x27;),\n                            PMMLLabelEncoder(), StandardScaler()]),\n                          ([&#x27;RainToday&#x27;],\n                           [CategoricalDomain(),\n                            SimpleImputer(strategy=&#x27;most_frequent&#x27;),\n                            PMMLLabelEncoder(), StandardScaler()]),\n                          ([&#x27;Date&#x27;],\n                           [DateTimeDomain(),\n                            DaysSinceYearTransformer(year=1968),\n                            StandardScaler()])],\n                input_df=True)),\n       (&#x27;ensemble&#x27;, VotingClassifier(estimators=[(&#x27;svm&#x27;, SVC(C=2, probability=True)),\n                             (&#x27;lrc&#x27;,\n                              LogisticRegression(max_iter=400,\n                                                 multi_class=&#x27;multinomial&#x27;)),\n                             (&#x27;knc&#x27;, KNeighborsClassifier()),\n                             (&#x27;rfc&#x27;, RandomForestClassifier(max_depth=10)),\n                             (&#x27;dtc&#x27;, DecisionTreeClassifier(max_depth=7))],\n                 voting=&#x27;soft&#x27;))])</pre><b>In a Jupyter environment, please rerun this cell to show the HTML representation or trust the notebook. <br />On GitHub, the HTML representation is unable to render, please try loading this page with nbviewer.org.</b></div><div class=\"sk-container\" hidden><div class=\"sk-item sk-dashed-wrapped\"><div class=\"sk-label-container\"><div class=\"sk-label sk-toggleable\"><input class=\"sk-toggleable__control sk-hidden--visually\" id=\"sk-estimator-id-89\" type=\"checkbox\" ><label for=\"sk-estimator-id-89\" class=\"sk-toggleable__label sk-toggleable__label-arrow\">PMMLPipeline</label><div class=\"sk-toggleable__content\"><pre>PMMLPipeline(steps=[(&#x27;mapper&#x27;, DataFrameMapper(df_out=True, drop_cols=[&#x27;Pressure3pm&#x27;, &#x27;Temp3pm&#x27;, &#x27;Temp9am&#x27;],\n                features=[([&#x27;MinTemp&#x27;],\n                           [ContinuousDomain(),\n                            SimpleImputer(strategy=&#x27;median&#x27;),\n                            StandardScaler()]),\n                          ([&#x27;MaxTemp&#x27;],\n                           [ContinuousDomain(),\n                            SimpleImputer(strategy=&#x27;median&#x27;),\n                            StandardScaler()]),\n                          ([&#x27;Rainfall&#x27;],\n                           [ContinuousDomain(),\n                            SimpleImputer(strategy=&#x27;median&#x27;),\n                            StandardScaler()]),\n                          ([&#x27;WindGus...\n                            PMMLLabelEncoder(), StandardScaler()]),\n                          ([&#x27;WindDir3pm&#x27;],\n                           [CategoricalDomain(),\n                            SimpleImputer(strategy=&#x27;most_frequent&#x27;),\n                            PMMLLabelEncoder(), StandardScaler()]),\n                          ([&#x27;RainToday&#x27;],\n                           [CategoricalDomain(),\n                            SimpleImputer(strategy=&#x27;most_frequent&#x27;),\n                            PMMLLabelEncoder(), StandardScaler()]),\n                          ([&#x27;Date&#x27;],\n                           [DateTimeDomain(),\n                            DaysSinceYearTransformer(year=1968),\n                            StandardScaler()])],\n                input_df=True)),\n       (&#x27;ensemble&#x27;, VotingClassifier(estimators=[(&#x27;svm&#x27;, SVC(C=2, probability=True)),\n                             (&#x27;lrc&#x27;,\n                              LogisticRegression(max_iter=400,\n                                                 multi_class=&#x27;multinomial&#x27;)),\n                             (&#x27;knc&#x27;, KNeighborsClassifier()),\n                             (&#x27;rfc&#x27;, RandomForestClassifier(max_depth=10)),\n                             (&#x27;dtc&#x27;, DecisionTreeClassifier(max_depth=7))],\n                 voting=&#x27;soft&#x27;))])</pre></div></div></div><div class=\"sk-serial\"><div class=\"sk-item\"><div class=\"sk-estimator sk-toggleable\"><input class=\"sk-toggleable__control sk-hidden--visually\" id=\"sk-estimator-id-90\" type=\"checkbox\" ><label for=\"sk-estimator-id-90\" class=\"sk-toggleable__label sk-toggleable__label-arrow\">DataFrameMapper</label><div class=\"sk-toggleable__content\"><pre>DataFrameMapper(df_out=True, drop_cols=[&#x27;Pressure3pm&#x27;, &#x27;Temp3pm&#x27;, &#x27;Temp9am&#x27;],\n                features=[([&#x27;MinTemp&#x27;],\n                           [ContinuousDomain(),\n                            SimpleImputer(strategy=&#x27;median&#x27;),\n                            StandardScaler()]),\n                          ([&#x27;MaxTemp&#x27;],\n                           [ContinuousDomain(),\n                            SimpleImputer(strategy=&#x27;median&#x27;),\n                            StandardScaler()]),\n                          ([&#x27;Rainfall&#x27;],\n                           [ContinuousDomain(),\n                            SimpleImputer(strategy=&#x27;median&#x27;),\n                            StandardScaler()]),\n                          ([&#x27;WindGus...\n                            PMMLLabelEncoder(), StandardScaler()]),\n                          ([&#x27;WindDir3pm&#x27;],\n                           [CategoricalDomain(),\n                            SimpleImputer(strategy=&#x27;most_frequent&#x27;),\n                            PMMLLabelEncoder(), StandardScaler()]),\n                          ([&#x27;RainToday&#x27;],\n                           [CategoricalDomain(),\n                            SimpleImputer(strategy=&#x27;most_frequent&#x27;),\n                            PMMLLabelEncoder(), StandardScaler()]),\n                          ([&#x27;Date&#x27;],\n                           [DateTimeDomain(),\n                            DaysSinceYearTransformer(year=1968),\n                            StandardScaler()])],\n                input_df=True)</pre></div></div></div><div class=\"sk-item sk-dashed-wrapped\"><div class=\"sk-label-container\"><div class=\"sk-label sk-toggleable\"><input class=\"sk-toggleable__control sk-hidden--visually\" id=\"sk-estimator-id-91\" type=\"checkbox\" ><label for=\"sk-estimator-id-91\" class=\"sk-toggleable__label sk-toggleable__label-arrow\">ensemble: VotingClassifier</label><div class=\"sk-toggleable__content\"><pre>VotingClassifier(estimators=[(&#x27;svm&#x27;, SVC(C=2, probability=True)),\n                             (&#x27;lrc&#x27;,\n                              LogisticRegression(max_iter=400,\n                                                 multi_class=&#x27;multinomial&#x27;)),\n                             (&#x27;knc&#x27;, KNeighborsClassifier()),\n                             (&#x27;rfc&#x27;, RandomForestClassifier(max_depth=10)),\n                             (&#x27;dtc&#x27;, DecisionTreeClassifier(max_depth=7))],\n                 voting=&#x27;soft&#x27;)</pre></div></div></div><div class=\"sk-parallel\"><div class=\"sk-parallel-item\"><div class=\"sk-item\"><div class=\"sk-label-container\"><div class=\"sk-label sk-toggleable\"><label>svm</label></div></div><div class=\"sk-serial\"><div class=\"sk-item\"><div class=\"sk-estimator sk-toggleable\"><input class=\"sk-toggleable__control sk-hidden--visually\" id=\"sk-estimator-id-92\" type=\"checkbox\" ><label for=\"sk-estimator-id-92\" class=\"sk-toggleable__label sk-toggleable__label-arrow\">SVC</label><div class=\"sk-toggleable__content\"><pre>SVC(C=2, probability=True)</pre></div></div></div></div></div></div><div class=\"sk-parallel-item\"><div class=\"sk-item\"><div class=\"sk-label-container\"><div class=\"sk-label sk-toggleable\"><label>lrc</label></div></div><div class=\"sk-serial\"><div class=\"sk-item\"><div class=\"sk-estimator sk-toggleable\"><input class=\"sk-toggleable__control sk-hidden--visually\" id=\"sk-estimator-id-93\" type=\"checkbox\" ><label for=\"sk-estimator-id-93\" class=\"sk-toggleable__label sk-toggleable__label-arrow\">LogisticRegression</label><div class=\"sk-toggleable__content\"><pre>LogisticRegression(max_iter=400, multi_class=&#x27;multinomial&#x27;)</pre></div></div></div></div></div></div><div class=\"sk-parallel-item\"><div class=\"sk-item\"><div class=\"sk-label-container\"><div class=\"sk-label sk-toggleable\"><label>knc</label></div></div><div class=\"sk-serial\"><div class=\"sk-item\"><div class=\"sk-estimator sk-toggleable\"><input class=\"sk-toggleable__control sk-hidden--visually\" id=\"sk-estimator-id-94\" type=\"checkbox\" ><label for=\"sk-estimator-id-94\" class=\"sk-toggleable__label sk-toggleable__label-arrow\">KNeighborsClassifier</label><div class=\"sk-toggleable__content\"><pre>KNeighborsClassifier()</pre></div></div></div></div></div></div><div class=\"sk-parallel-item\"><div class=\"sk-item\"><div class=\"sk-label-container\"><div class=\"sk-label sk-toggleable\"><label>rfc</label></div></div><div class=\"sk-serial\"><div class=\"sk-item\"><div class=\"sk-estimator sk-toggleable\"><input class=\"sk-toggleable__control sk-hidden--visually\" id=\"sk-estimator-id-95\" type=\"checkbox\" ><label for=\"sk-estimator-id-95\" class=\"sk-toggleable__label sk-toggleable__label-arrow\">RandomForestClassifier</label><div class=\"sk-toggleable__content\"><pre>RandomForestClassifier(max_depth=10)</pre></div></div></div></div></div></div><div class=\"sk-parallel-item\"><div class=\"sk-item\"><div class=\"sk-label-container\"><div class=\"sk-label sk-toggleable\"><label>dtc</label></div></div><div class=\"sk-serial\"><div class=\"sk-item\"><div class=\"sk-estimator sk-toggleable\"><input class=\"sk-toggleable__control sk-hidden--visually\" id=\"sk-estimator-id-96\" type=\"checkbox\" ><label for=\"sk-estimator-id-96\" class=\"sk-toggleable__label sk-toggleable__label-arrow\">DecisionTreeClassifier</label><div class=\"sk-toggleable__content\"><pre>DecisionTreeClassifier(max_depth=7)</pre></div></div></div></div></div></div></div></div></div></div></div></div>"
     },
     "metadata": {},
     "output_type": "display_data"
    }
   ],
   "source": [
    "display(best_pipeline)"
   ],
   "metadata": {
    "collapsed": false,
    "ExecuteTime": {
     "start_time": "2023-04-13T23:08:39.727358Z",
     "end_time": "2023-04-13T23:08:39.869611Z"
    }
   }
  },
  {
   "cell_type": "code",
   "execution_count": 68,
   "outputs": [
    {
     "data": {
      "text/plain": "{'ensemble__svm__C': 2,\n 'ensemble__rfc__max_depth': 10,\n 'ensemble__lrc__solver': 'lbfgs',\n 'ensemble__knc__n_neighbors': 5,\n 'ensemble__dtc__max_depth': 7}"
     },
     "execution_count": 68,
     "metadata": {},
     "output_type": "execute_result"
    }
   ],
   "source": [
    "best_params"
   ],
   "metadata": {
    "collapsed": false,
    "ExecuteTime": {
     "start_time": "2023-04-13T23:08:41.865580Z",
     "end_time": "2023-04-13T23:08:41.875932Z"
    }
   }
  },
  {
   "cell_type": "code",
   "execution_count": 69,
   "outputs": [],
   "source": [
    "y_pred = best_pipeline.predict(X_test)"
   ],
   "metadata": {
    "collapsed": false,
    "ExecuteTime": {
     "start_time": "2023-04-13T23:08:44.129670Z",
     "end_time": "2023-04-13T23:08:50.890152Z"
    }
   }
  },
  {
   "cell_type": "code",
   "execution_count": 70,
   "outputs": [
    {
     "name": "stdout",
     "output_type": "stream",
     "text": [
      "The model accuracy is: 86.0%\n",
      "The model f1 score is: 84.5%\n"
     ]
    }
   ],
   "source": [
    "# using accuracy_score\n",
    "from sklearn.metrics import f1_score\n",
    "\n",
    "print(f'The model accuracy is: {np.round(accuracy_score(y_test, y_pred), decimals=3)*100}%')\n",
    "print(f'The model f1 score is: {np.round(f1_score(y_test, y_pred, average=\"\"\"weighted\"\"\"), decimals=3)*100}%')"
   ],
   "metadata": {
    "collapsed": false,
    "ExecuteTime": {
     "start_time": "2023-04-13T23:08:52.573170Z",
     "end_time": "2023-04-13T23:08:52.588325Z"
    }
   }
  },
  {
   "cell_type": "code",
   "execution_count": 71,
   "outputs": [
    {
     "data": {
      "text/plain": "<Figure size 864x864 with 2 Axes>",
      "image/png": "[encoded data removed]"
     },
     "metadata": {
      "needs_background": "light"
     },
     "output_type": "display_data"
    }
   ],
   "source": [
    "from sklearn.metrics import confusion_matrix\n",
    "\n",
    "cm = confusion_matrix(y_test, y_pred, labels=best_pipeline.classes_)\n",
    "plt.figure(figsize=(12, 12))\n",
    "cmap = sns.color_palette(\"Oranges\",12)\n",
    "sns.heatmap(data=cm, cmap=\"RdBu_r\", xticklabels=best_pipeline.classes_, yticklabels=best_pipeline.classes_, fmt='g', annot=True)\n",
    "plt.show()"
   ],
   "metadata": {
    "collapsed": false,
    "ExecuteTime": {
     "start_time": "2023-04-13T23:08:54.983022Z",
     "end_time": "2023-04-13T23:08:55.170861Z"
    }
   }
  },
  {
   "cell_type": "code",
   "execution_count": 72,
   "outputs": [
    {
     "data": {
      "text/plain": "<Figure size 2160x2160 with 0 Axes>"
     },
     "metadata": {},
     "output_type": "display_data"
    },
    {
     "data": {
      "text/plain": "<Figure size 432x288 with 1 Axes>",
      "image/png": "[encoded data removed]"
     },
     "metadata": {
      "needs_background": "light"
     },
     "output_type": "display_data"
    }
   ],
   "source": [
    "# https://inria.github.io/scikit-learn-mooc/python_scripts/dev_features_importance.html\n",
    "def plot_feature_importances(pi_result, features_name):\n",
    "    \"\"\" bar plot the feature importance \"\"\"\n",
    "    plt.figure(figsize=(30, 30))\n",
    "    fig, ax = plt.subplots()\n",
    "\n",
    "    indices = pi_result['importances_mean'].argsort()\n",
    "    plt.barh(range(len(indices)),\n",
    "             pi_result['importances_mean'][indices],\n",
    "             xerr=pi_result['importances_std'][indices])\n",
    "\n",
    "    ax.set_yticks(range(len(indices)))\n",
    "    tmp = np.array(features_name)\n",
    "    ax.set_yticklabels(tmp[indices])\n",
    "    ax.set_title(\"Permutation importance\")\n",
    "\n",
    "ppl_ensemble.fit(X_test,y_test)\n",
    "pi_result = permutation_importance(ppl_ensemble, X_test, y_test)\n",
    "plot_feature_importances(pi_result, X_test.columns)"
   ],
   "metadata": {
    "collapsed": false,
    "ExecuteTime": {
     "start_time": "2023-04-13T23:08:57.572304Z",
     "end_time": "2023-04-13T23:15:05.079339Z"
    }
   }
  },
  {
   "cell_type": "markdown",
   "source": [
    "## Save the model"
   ],
   "metadata": {
    "collapsed": false
   }
  },
  {
   "cell_type": "code",
   "execution_count": 73,
   "outputs": [],
   "source": [
    "# Save the best model in PMML format\n",
    "sklearn2pmml(best_pipeline, \"../../../data/weather-classification-ensemble-classifier.pmml\")"
   ],
   "metadata": {
    "collapsed": false,
    "ExecuteTime": {
     "start_time": "2023-04-13T23:17:02.797953Z",
     "end_time": "2023-04-13T23:17:10.844606Z"
    }
   }
  },
  {
   "cell_type": "code",
   "execution_count": null,
   "outputs": [],
   "source": [],
   "metadata": {
    "collapsed": false
   }
  }
 ],
 "metadata": {
  "kernelspec": {
   "display_name": "Python 3",
   "language": "python",
   "name": "python3"
  },
  "language_info": {
   "codemirror_mode": {
    "name": "ipython",
    "version": 2
   },
   "file_extension": ".py",
   "mimetype": "text/x-python",
   "name": "python",
   "nbconvert_exporter": "python",
   "pygments_lexer": "ipython2",
   "version": "2.7.6"
  }
 },
 "nbformat": 4,
 "nbformat_minor": 0
}
