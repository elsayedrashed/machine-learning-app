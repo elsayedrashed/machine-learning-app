{
 "cells": [
  {
   "cell_type": "markdown",
   "source": [
    "## Ordinal Classification\n",
    "### Model Serving"
   ],
   "metadata": {
    "collapsed": false
   }
  },
  {
   "cell_type": "code",
   "execution_count": 18,
   "outputs": [],
   "source": [
    "import pandas as pd\n",
    "\n",
    "# Features verification\n",
    "from feature_engine.preprocessing import MatchVariables\n",
    "# Categories verification\n",
    "from feature_engine.preprocessing import MatchCategories\n",
    "# Script Serving\n",
    "from jpmml_evaluator import make_evaluator\n",
    "from jpmml_evaluator.py4j import Py4JBackend\n",
    "# REST Serving\n",
    "from openscoring import Openscoring"
   ],
   "metadata": {
    "collapsed": false
   }
  },
  {
   "cell_type": "code",
   "execution_count": 19,
   "outputs": [],
   "source": [
    "import warnings\n",
    "warnings.filterwarnings('ignore')"
   ],
   "metadata": {
    "collapsed": false
   }
  },
  {
   "cell_type": "code",
   "execution_count": 20,
   "outputs": [],
   "source": [
    "# Data Import\n",
    "df = pd.read_csv('../../../data/winequality-white-cleaned.csv',sep=';')\n",
    "# Get sample dataset for model serving\n",
    "df_serve = df.sample(30)\n",
    "x_serve = df_serve.drop('target', axis=1)\n",
    "y_serve = df_serve[['target']]\n",
    "x_serve.reset_index(drop=True, inplace=True)\n",
    "y_serve.reset_index(drop=True, inplace=True)"
   ],
   "metadata": {
    "collapsed": false
   }
  },
  {
   "cell_type": "markdown",
   "source": [
    "## Features Verification"
   ],
   "metadata": {
    "collapsed": false
   }
  },
  {
   "cell_type": "code",
   "execution_count": 21,
   "outputs": [
    {
     "data": {
      "text/plain": "['fixed acidity',\n 'volatile acidity',\n 'citric acid',\n 'residual sugar',\n 'chlorides',\n 'free sulfur dioxide',\n 'total sulfur dioxide',\n 'density',\n 'pH',\n 'sulphates',\n 'alcohol']"
     },
     "execution_count": 21,
     "metadata": {},
     "output_type": "execute_result"
    }
   ],
   "source": [
    "# Ensures that columns in serving set match those in train set\n",
    "x_train = df_serve.drop('target', axis=1)\n",
    "# Setup the transformer\n",
    "match_cols = MatchVariables(missing_values=\"ignore\")\n",
    "match_cols.fit(x_train)\n",
    "match_cols.feature_names_in_"
   ],
   "metadata": {
    "collapsed": false
   }
  },
  {
   "cell_type": "code",
   "execution_count": 22,
   "outputs": [
    {
     "data": {
      "text/plain": "   fixed acidity  volatile acidity  citric acid  residual sugar  chlorides  \\\n0       7.028196          0.274361     0.461278        2.113835   0.030420   \n1       6.316556          0.258596     0.435868        3.014437   0.029826   \n2       8.524475          0.373857     0.404240        1.268480   0.035027   \n3       9.647888          0.336479     0.652254        3.439440   0.049690   \n4       6.589248          0.286775     0.310000        3.867745   0.027323   \n\n   free sulfur dioxide  total sulfur dioxide   density        pH  sulphates  \\\n0            29.994745            108.978981  0.990207  3.375744   0.447285   \n1             7.686092            106.313908  0.991259  3.461815   0.407272   \n2             5.000000             48.782443  0.993019  2.995216   0.450976   \n3            17.929580            120.549300  0.996386  3.079718   0.634225   \n4            38.677453             95.569937  0.990340  3.237850   0.602150   \n\n     alcohol  \n0  12.828196  \n1  11.844636  \n2  10.126081  \n3  10.176056  \n4  12.600000  ",
      "text/html": "<div>\n<style scoped>\n    .dataframe tbody tr th:only-of-type {\n        vertical-align: middle;\n    }\n\n    .dataframe tbody tr th {\n        vertical-align: top;\n    }\n\n    .dataframe thead th {\n        text-align: right;\n    }\n</style>\n<table border=\"1\" class=\"dataframe\">\n  <thead>\n    <tr style=\"text-align: right;\">\n      <th></th>\n      <th>fixed acidity</th>\n      <th>volatile acidity</th>\n      <th>citric acid</th>\n      <th>residual sugar</th>\n      <th>chlorides</th>\n      <th>free sulfur dioxide</th>\n      <th>total sulfur dioxide</th>\n      <th>density</th>\n      <th>pH</th>\n      <th>sulphates</th>\n      <th>alcohol</th>\n    </tr>\n  </thead>\n  <tbody>\n    <tr>\n      <th>0</th>\n      <td>7.028196</td>\n      <td>0.274361</td>\n      <td>0.461278</td>\n      <td>2.113835</td>\n      <td>0.030420</td>\n      <td>29.994745</td>\n      <td>108.978981</td>\n      <td>0.990207</td>\n      <td>3.375744</td>\n      <td>0.447285</td>\n      <td>12.828196</td>\n    </tr>\n    <tr>\n      <th>1</th>\n      <td>6.316556</td>\n      <td>0.258596</td>\n      <td>0.435868</td>\n      <td>3.014437</td>\n      <td>0.029826</td>\n      <td>7.686092</td>\n      <td>106.313908</td>\n      <td>0.991259</td>\n      <td>3.461815</td>\n      <td>0.407272</td>\n      <td>11.844636</td>\n    </tr>\n    <tr>\n      <th>2</th>\n      <td>8.524475</td>\n      <td>0.373857</td>\n      <td>0.404240</td>\n      <td>1.268480</td>\n      <td>0.035027</td>\n      <td>5.000000</td>\n      <td>48.782443</td>\n      <td>0.993019</td>\n      <td>2.995216</td>\n      <td>0.450976</td>\n      <td>10.126081</td>\n    </tr>\n    <tr>\n      <th>3</th>\n      <td>9.647888</td>\n      <td>0.336479</td>\n      <td>0.652254</td>\n      <td>3.439440</td>\n      <td>0.049690</td>\n      <td>17.929580</td>\n      <td>120.549300</td>\n      <td>0.996386</td>\n      <td>3.079718</td>\n      <td>0.634225</td>\n      <td>10.176056</td>\n    </tr>\n    <tr>\n      <th>4</th>\n      <td>6.589248</td>\n      <td>0.286775</td>\n      <td>0.310000</td>\n      <td>3.867745</td>\n      <td>0.027323</td>\n      <td>38.677453</td>\n      <td>95.569937</td>\n      <td>0.990340</td>\n      <td>3.237850</td>\n      <td>0.602150</td>\n      <td>12.600000</td>\n    </tr>\n  </tbody>\n</table>\n</div>"
     },
     "execution_count": 22,
     "metadata": {},
     "output_type": "execute_result"
    }
   ],
   "source": [
    "# Run the transformer\n",
    "x_match = match_cols.transform(x_serve)\n",
    "x_match.head(5)"
   ],
   "metadata": {
    "collapsed": false
   }
  },
  {
   "cell_type": "markdown",
   "source": [
    "## Categories Verification"
   ],
   "metadata": {
    "collapsed": false
   }
  },
  {
   "cell_type": "code",
   "execution_count": 23,
   "outputs": [],
   "source": [
    "# Ensures categorical variables are of type ‘category’\n",
    "mc = MatchCategories(missing_values=\"ignore\")\n",
    "# mc.fit(x_train)"
   ],
   "metadata": {
    "collapsed": false
   }
  },
  {
   "cell_type": "code",
   "execution_count": 24,
   "outputs": [],
   "source": [
    "# Run the transformer\n",
    "# x_match_c = mc.transform(x_match)\n",
    "# x_match_c.head(5)"
   ],
   "metadata": {
    "collapsed": false
   }
  },
  {
   "cell_type": "markdown",
   "source": [
    "## Model Script Serving"
   ],
   "metadata": {
    "collapsed": false
   }
  },
  {
   "cell_type": "code",
   "execution_count": 25,
   "outputs": [
    {
     "data": {
      "text/plain": "<jpmml_evaluator.Evaluator at 0x143497340>"
     },
     "execution_count": 25,
     "metadata": {},
     "output_type": "execute_result"
    }
   ],
   "source": [
    "# Load PMML model\n",
    "evaluator = make_evaluator(backend=Py4JBackend(), path=\"../../../data/OrdinalLogisticRegression.pmml\")\n",
    "# Perform automated QA\n",
    "evaluator.verify()"
   ],
   "metadata": {
    "collapsed": false
   }
  },
  {
   "cell_type": "code",
   "execution_count": 26,
   "outputs": [
    {
     "data": {
      "text/plain": "   target  probability(3)  probability(4)  probability(5)  probability(6)  \\\n0       9        0.000453        0.000076        0.000013        0.000092   \n1       9        0.055264        0.055466        0.012795        0.014762   \n2       4        0.212337        0.694939        0.081091        0.004804   \n3       4        0.470142        0.503053        0.019551        0.001658   \n4       8        0.002723        0.001848        0.000525        0.007999   \n\n   probability(7)  probability(8)  probability(9)  \n0        0.004325        0.010304    9.847376e-01  \n1        0.193000        0.317745    3.509679e-01  \n2        0.005776        0.001053    2.388514e-08  \n3        0.003330        0.001925    3.397066e-04  \n4        0.376441        0.603058    7.406137e-03  ",
      "text/html": "<div>\n<style scoped>\n    .dataframe tbody tr th:only-of-type {\n        vertical-align: middle;\n    }\n\n    .dataframe tbody tr th {\n        vertical-align: top;\n    }\n\n    .dataframe thead th {\n        text-align: right;\n    }\n</style>\n<table border=\"1\" class=\"dataframe\">\n  <thead>\n    <tr style=\"text-align: right;\">\n      <th></th>\n      <th>target</th>\n      <th>probability(3)</th>\n      <th>probability(4)</th>\n      <th>probability(5)</th>\n      <th>probability(6)</th>\n      <th>probability(7)</th>\n      <th>probability(8)</th>\n      <th>probability(9)</th>\n    </tr>\n  </thead>\n  <tbody>\n    <tr>\n      <th>0</th>\n      <td>9</td>\n      <td>0.000453</td>\n      <td>0.000076</td>\n      <td>0.000013</td>\n      <td>0.000092</td>\n      <td>0.004325</td>\n      <td>0.010304</td>\n      <td>9.847376e-01</td>\n    </tr>\n    <tr>\n      <th>1</th>\n      <td>9</td>\n      <td>0.055264</td>\n      <td>0.055466</td>\n      <td>0.012795</td>\n      <td>0.014762</td>\n      <td>0.193000</td>\n      <td>0.317745</td>\n      <td>3.509679e-01</td>\n    </tr>\n    <tr>\n      <th>2</th>\n      <td>4</td>\n      <td>0.212337</td>\n      <td>0.694939</td>\n      <td>0.081091</td>\n      <td>0.004804</td>\n      <td>0.005776</td>\n      <td>0.001053</td>\n      <td>2.388514e-08</td>\n    </tr>\n    <tr>\n      <th>3</th>\n      <td>4</td>\n      <td>0.470142</td>\n      <td>0.503053</td>\n      <td>0.019551</td>\n      <td>0.001658</td>\n      <td>0.003330</td>\n      <td>0.001925</td>\n      <td>3.397066e-04</td>\n    </tr>\n    <tr>\n      <th>4</th>\n      <td>8</td>\n      <td>0.002723</td>\n      <td>0.001848</td>\n      <td>0.000525</td>\n      <td>0.007999</td>\n      <td>0.376441</td>\n      <td>0.603058</td>\n      <td>7.406137e-03</td>\n    </tr>\n  </tbody>\n</table>\n</div>"
     },
     "execution_count": 26,
     "metadata": {},
     "output_type": "execute_result"
    }
   ],
   "source": [
    "# Model Serving\n",
    "dfresult = evaluator.evaluateAll(x_match)\n",
    "dfresult.head(5)"
   ],
   "metadata": {
    "collapsed": false
   }
  },
  {
   "cell_type": "markdown",
   "source": [
    "## Model REST Serving"
   ],
   "metadata": {
    "collapsed": false
   }
  },
  {
   "cell_type": "code",
   "execution_count": 27,
   "outputs": [],
   "source": [
    "# Creating an Openscoring object\n",
    "# Openscoring server have to be running on base-url\n",
    "os = Openscoring(base_url = \"http://localhost:8080\", token=\"secret\")"
   ],
   "metadata": {
    "collapsed": false
   }
  },
  {
   "cell_type": "code",
   "execution_count": 28,
   "outputs": [
    {
     "data": {
      "text/plain": "<openscoring.common.ModelResponse at 0x111564e50>"
     },
     "execution_count": 28,
     "metadata": {},
     "output_type": "execute_result"
    }
   ],
   "source": [
    "# Deploying a PMML model:\n",
    "model_name = 'OrdinalLogisticRegression'\n",
    "os.deployFile(model_name, \"../../../data/OrdinalLogisticRegression.pmml\")"
   ],
   "metadata": {
    "collapsed": false
   }
  },
  {
   "cell_type": "code",
   "execution_count": 29,
   "outputs": [
    {
     "name": "stdout",
     "output_type": "stream",
     "text": [
      "   target  probability(3)  probability(4)  probability(5)  probability(6)  \\\n",
      "0       9        0.000453        0.000076        0.000013        0.000092   \n",
      "1       9        0.055264        0.055466        0.012795        0.014762   \n",
      "2       4        0.212337        0.694939        0.081091        0.004804   \n",
      "3       4        0.470142        0.503053        0.019551        0.001658   \n",
      "4       8        0.002723        0.001848        0.000525        0.007999   \n",
      "\n",
      "   probability(7)  probability(8)  probability(9)  \n",
      "0        0.004325        0.010304    9.847376e-01  \n",
      "1        0.193000        0.317745    3.509679e-01  \n",
      "2        0.005776        0.001053    2.388514e-08  \n",
      "3        0.003330        0.001925    3.397066e-04  \n",
      "4        0.376441        0.603058    7.406137e-03  \n"
     ]
    }
   ],
   "source": [
    "# Model serving with data records from DataFrame\n",
    "dfResponse = os.evaluateCsv(model_name, x_match)\n",
    "print(dfResponse.head(5))"
   ],
   "metadata": {
    "collapsed": false
   }
  },
  {
   "cell_type": "code",
   "execution_count": null,
   "outputs": [],
   "source": [],
   "metadata": {
    "collapsed": false
   }
  }
 ],
 "metadata": {
  "kernelspec": {
   "display_name": "Python 3",
   "language": "python",
   "name": "python3"
  },
  "language_info": {
   "codemirror_mode": {
    "name": "ipython",
    "version": 2
   },
   "file_extension": ".py",
   "mimetype": "text/x-python",
   "name": "python",
   "nbconvert_exporter": "python",
   "pygments_lexer": "ipython2",
   "version": "2.7.6"
  }
 },
 "nbformat": 4,
 "nbformat_minor": 0
}
