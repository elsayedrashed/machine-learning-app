{
 "cells": [
  {
   "cell_type": "markdown",
   "source": [
    "## Ordinal Classification\n",
    "### Model Serving"
   ],
   "metadata": {
    "collapsed": false
   }
  },
  {
   "cell_type": "code",
   "execution_count": 1,
   "outputs": [],
   "source": [
    "import pandas as pd\n",
    "\n",
    "# Features verification\n",
    "from feature_engine.preprocessing import MatchVariables\n",
    "# Categories verification\n",
    "from feature_engine.preprocessing import MatchCategories\n",
    "# Script Serving\n",
    "from jpmml_evaluator import LoadingModelEvaluatorBuilder\n",
    "from jpmml_evaluator.py4j import Py4JBackend\n",
    "# REST Serving\n",
    "from openscoring import Openscoring"
   ],
   "metadata": {
    "collapsed": false
   }
  },
  {
   "cell_type": "code",
   "execution_count": 29,
   "outputs": [],
   "source": [
    "import warnings\n",
    "warnings.filterwarnings('ignore')"
   ],
   "metadata": {
    "collapsed": false
   }
  },
  {
   "cell_type": "code",
   "execution_count": 2,
   "outputs": [],
   "source": [
    "# Data Import\n",
    "df = pd.read_csv('../../../data/winequality-white-cleaned.csv',sep=';')\n",
    "# Get sample dataset for model serving\n",
    "df_serve = df.sample(30)\n",
    "x_serve = df_serve.drop('target', axis=1)\n",
    "y_serve = df_serve[['target']]\n",
    "x_serve.reset_index(drop=True, inplace=True)\n",
    "y_serve.reset_index(drop=True, inplace=True)"
   ],
   "metadata": {
    "collapsed": false
   }
  },
  {
   "cell_type": "markdown",
   "source": [
    "## Features Verification"
   ],
   "metadata": {
    "collapsed": false
   }
  },
  {
   "cell_type": "code",
   "execution_count": 3,
   "outputs": [
    {
     "data": {
      "text/plain": "['fixed acidity',\n 'volatile acidity',\n 'citric acid',\n 'residual sugar',\n 'chlorides',\n 'free sulfur dioxide',\n 'total sulfur dioxide',\n 'density',\n 'pH',\n 'sulphates',\n 'alcohol']"
     },
     "execution_count": 3,
     "metadata": {},
     "output_type": "execute_result"
    }
   ],
   "source": [
    "# Ensures that columns in serving set match those in train set\n",
    "x_train = df_serve.drop('target', axis=1)\n",
    "# Setup the transformer\n",
    "match_cols = MatchVariables(missing_values=\"ignore\")\n",
    "match_cols.fit(x_train)\n",
    "match_cols.feature_names_in_"
   ],
   "metadata": {
    "collapsed": false
   }
  },
  {
   "cell_type": "code",
   "execution_count": 4,
   "outputs": [
    {
     "data": {
      "text/plain": "   fixed acidity  volatile acidity  citric acid  residual sugar  chlorides  \\\n0       6.510377          0.164937     0.314025        5.432389   0.031954   \n1       6.025079          0.167492     0.332508        6.025079   0.035498   \n2       7.033988          0.268079     0.371921        2.221178   0.045596   \n3       5.619242          0.294196     0.256593        2.652678   0.072502   \n4       6.511633          0.425117     0.327210        4.106998   0.032721   \n\n   free sulfur dioxide  total sulfur dioxide   density        pH  sulphates  \\\n0            58.253143            127.701257  0.991603  3.225849   0.701038   \n1            30.250788            111.752364  0.993628  3.320000   0.580000   \n2            34.000000            106.403926  0.990491  3.237634   0.508719   \n3            49.451101            165.709780  0.994943  3.281136   0.528391   \n4            48.093002            163.697667  0.992730  3.433254   0.656974   \n\n     alcohol  \n0  12.219497  \n1  10.150000  \n2  12.800000  \n3   8.729022  \n4  11.851166  ",
      "text/html": "<div>\n<style scoped>\n    .dataframe tbody tr th:only-of-type {\n        vertical-align: middle;\n    }\n\n    .dataframe tbody tr th {\n        vertical-align: top;\n    }\n\n    .dataframe thead th {\n        text-align: right;\n    }\n</style>\n<table border=\"1\" class=\"dataframe\">\n  <thead>\n    <tr style=\"text-align: right;\">\n      <th></th>\n      <th>fixed acidity</th>\n      <th>volatile acidity</th>\n      <th>citric acid</th>\n      <th>residual sugar</th>\n      <th>chlorides</th>\n      <th>free sulfur dioxide</th>\n      <th>total sulfur dioxide</th>\n      <th>density</th>\n      <th>pH</th>\n      <th>sulphates</th>\n      <th>alcohol</th>\n    </tr>\n  </thead>\n  <tbody>\n    <tr>\n      <th>0</th>\n      <td>6.510377</td>\n      <td>0.164937</td>\n      <td>0.314025</td>\n      <td>5.432389</td>\n      <td>0.031954</td>\n      <td>58.253143</td>\n      <td>127.701257</td>\n      <td>0.991603</td>\n      <td>3.225849</td>\n      <td>0.701038</td>\n      <td>12.219497</td>\n    </tr>\n    <tr>\n      <th>1</th>\n      <td>6.025079</td>\n      <td>0.167492</td>\n      <td>0.332508</td>\n      <td>6.025079</td>\n      <td>0.035498</td>\n      <td>30.250788</td>\n      <td>111.752364</td>\n      <td>0.993628</td>\n      <td>3.320000</td>\n      <td>0.580000</td>\n      <td>10.150000</td>\n    </tr>\n    <tr>\n      <th>2</th>\n      <td>7.033988</td>\n      <td>0.268079</td>\n      <td>0.371921</td>\n      <td>2.221178</td>\n      <td>0.045596</td>\n      <td>34.000000</td>\n      <td>106.403926</td>\n      <td>0.990491</td>\n      <td>3.237634</td>\n      <td>0.508719</td>\n      <td>12.800000</td>\n    </tr>\n    <tr>\n      <th>3</th>\n      <td>5.619242</td>\n      <td>0.294196</td>\n      <td>0.256593</td>\n      <td>2.652678</td>\n      <td>0.072502</td>\n      <td>49.451101</td>\n      <td>165.709780</td>\n      <td>0.994943</td>\n      <td>3.281136</td>\n      <td>0.528391</td>\n      <td>8.729022</td>\n    </tr>\n    <tr>\n      <th>4</th>\n      <td>6.511633</td>\n      <td>0.425117</td>\n      <td>0.327210</td>\n      <td>4.106998</td>\n      <td>0.032721</td>\n      <td>48.093002</td>\n      <td>163.697667</td>\n      <td>0.992730</td>\n      <td>3.433254</td>\n      <td>0.656974</td>\n      <td>11.851166</td>\n    </tr>\n  </tbody>\n</table>\n</div>"
     },
     "execution_count": 4,
     "metadata": {},
     "output_type": "execute_result"
    }
   ],
   "source": [
    "# Run the transformer\n",
    "x_match = match_cols.transform(x_serve)\n",
    "x_match.head(5)"
   ],
   "metadata": {
    "collapsed": false
   }
  },
  {
   "cell_type": "markdown",
   "source": [
    "## Categories Verification"
   ],
   "metadata": {
    "collapsed": false
   }
  },
  {
   "cell_type": "code",
   "execution_count": 5,
   "outputs": [],
   "source": [
    "# Ensures categorical variables are of type ‘category’\n",
    "mc = MatchCategories(missing_values=\"ignore\")\n",
    "# mc.fit(x_train)"
   ],
   "metadata": {
    "collapsed": false
   }
  },
  {
   "cell_type": "code",
   "execution_count": 6,
   "outputs": [],
   "source": [
    "# Run the transformer\n",
    "# x_match_c = mc.transform(x_match)\n",
    "# x_match_c.head(5)"
   ],
   "metadata": {
    "collapsed": false
   }
  },
  {
   "cell_type": "markdown",
   "source": [
    "## Model Script Serving"
   ],
   "metadata": {
    "collapsed": false
   }
  },
  {
   "cell_type": "code",
   "execution_count": 7,
   "outputs": [],
   "source": [
    "# Load PMML model\n",
    "py4jbackend  = Py4JBackend()\n",
    "evaluator = LoadingModelEvaluatorBuilder(backend = py4jbackend ) \\\n",
    "    .loadFile(\"../../../data/OrdinalLogisticRegression.pmml\") \\\n",
    "    .build()"
   ],
   "metadata": {
    "collapsed": false
   }
  },
  {
   "cell_type": "code",
   "execution_count": 8,
   "outputs": [
    {
     "data": {
      "text/plain": "<jpmml_evaluator.Evaluator at 0x135acd210>"
     },
     "execution_count": 8,
     "metadata": {},
     "output_type": "execute_result"
    }
   ],
   "source": [
    "# Perform automated QA\n",
    "evaluator.verify()"
   ],
   "metadata": {
    "collapsed": false
   }
  },
  {
   "cell_type": "code",
   "execution_count": 9,
   "outputs": [
    {
     "data": {
      "text/plain": "   target  probability(3)  probability(4)  probability(5)  probability(6)  \\\n0       8        0.000564        0.000190        0.000144        0.007457   \n1       7        0.033063        0.059658        0.108570        0.158700   \n2       8        0.017782        0.006642        0.000632        0.006408   \n3       4        0.168523        0.486868        0.320300        0.016670   \n4       8        0.099366        0.073194        0.008050        0.009112   \n\n   probability(7)  probability(8)  probability(9)  \n0        0.340096        0.648422    3.126919e-03  \n1        0.362257        0.277750    2.270307e-06  \n2        0.269123        0.699265    1.474899e-04  \n3        0.004930        0.002709    4.163612e-20  \n4        0.298173        0.507774    4.331617e-03  ",
      "text/html": "<div>\n<style scoped>\n    .dataframe tbody tr th:only-of-type {\n        vertical-align: middle;\n    }\n\n    .dataframe tbody tr th {\n        vertical-align: top;\n    }\n\n    .dataframe thead th {\n        text-align: right;\n    }\n</style>\n<table border=\"1\" class=\"dataframe\">\n  <thead>\n    <tr style=\"text-align: right;\">\n      <th></th>\n      <th>target</th>\n      <th>probability(3)</th>\n      <th>probability(4)</th>\n      <th>probability(5)</th>\n      <th>probability(6)</th>\n      <th>probability(7)</th>\n      <th>probability(8)</th>\n      <th>probability(9)</th>\n    </tr>\n  </thead>\n  <tbody>\n    <tr>\n      <th>0</th>\n      <td>8</td>\n      <td>0.000564</td>\n      <td>0.000190</td>\n      <td>0.000144</td>\n      <td>0.007457</td>\n      <td>0.340096</td>\n      <td>0.648422</td>\n      <td>3.126919e-03</td>\n    </tr>\n    <tr>\n      <th>1</th>\n      <td>7</td>\n      <td>0.033063</td>\n      <td>0.059658</td>\n      <td>0.108570</td>\n      <td>0.158700</td>\n      <td>0.362257</td>\n      <td>0.277750</td>\n      <td>2.270307e-06</td>\n    </tr>\n    <tr>\n      <th>2</th>\n      <td>8</td>\n      <td>0.017782</td>\n      <td>0.006642</td>\n      <td>0.000632</td>\n      <td>0.006408</td>\n      <td>0.269123</td>\n      <td>0.699265</td>\n      <td>1.474899e-04</td>\n    </tr>\n    <tr>\n      <th>3</th>\n      <td>4</td>\n      <td>0.168523</td>\n      <td>0.486868</td>\n      <td>0.320300</td>\n      <td>0.016670</td>\n      <td>0.004930</td>\n      <td>0.002709</td>\n      <td>4.163612e-20</td>\n    </tr>\n    <tr>\n      <th>4</th>\n      <td>8</td>\n      <td>0.099366</td>\n      <td>0.073194</td>\n      <td>0.008050</td>\n      <td>0.009112</td>\n      <td>0.298173</td>\n      <td>0.507774</td>\n      <td>4.331617e-03</td>\n    </tr>\n  </tbody>\n</table>\n</div>"
     },
     "execution_count": 9,
     "metadata": {},
     "output_type": "execute_result"
    }
   ],
   "source": [
    "# Model Serving\n",
    "dfresult = evaluator.evaluateAll(x_match)\n",
    "dfresult.head(5)"
   ],
   "metadata": {
    "collapsed": false
   }
  },
  {
   "cell_type": "markdown",
   "source": [
    "## Model REST Serving"
   ],
   "metadata": {
    "collapsed": false
   }
  },
  {
   "cell_type": "code",
   "execution_count": 10,
   "outputs": [],
   "source": [
    "# Creating an Openscoring object\n",
    "# Openscoring server have to be running on base-url\n",
    "os = Openscoring(base_url = \"http://localhost:8080\", token=\"secret\")"
   ],
   "metadata": {
    "collapsed": false
   }
  },
  {
   "cell_type": "code",
   "execution_count": 11,
   "outputs": [
    {
     "data": {
      "text/plain": "<openscoring.common.ModelResponse at 0x103bab040>"
     },
     "execution_count": 11,
     "metadata": {},
     "output_type": "execute_result"
    }
   ],
   "source": [
    "# Deploying a PMML model:\n",
    "model_name = 'OrdinalLogisticRegression'\n",
    "os.deployFile(model_name, \"../../../data/OrdinalLogisticRegression.pmml\")"
   ],
   "metadata": {
    "collapsed": false
   }
  },
  {
   "cell_type": "code",
   "execution_count": 12,
   "outputs": [
    {
     "name": "stdout",
     "output_type": "stream",
     "text": [
      "   target  probability(3)  probability(4)  probability(5)  probability(6)  \\\n",
      "0       8        0.000564        0.000190        0.000144        0.007457   \n",
      "1       7        0.033063        0.059658        0.108570        0.158700   \n",
      "2       8        0.017782        0.006642        0.000632        0.006408   \n",
      "3       4        0.168523        0.486868        0.320300        0.016670   \n",
      "4       8        0.099366        0.073194        0.008050        0.009112   \n",
      "\n",
      "   probability(7)  probability(8)  probability(9)  \n",
      "0        0.340096        0.648422    3.126919e-03  \n",
      "1        0.362257        0.277750    2.270307e-06  \n",
      "2        0.269123        0.699265    1.474899e-04  \n",
      "3        0.004930        0.002709    4.163612e-20  \n",
      "4        0.298173        0.507774    4.331617e-03  \n"
     ]
    }
   ],
   "source": [
    "# Model serving with data records from DataFrame\n",
    "dfResponse = os.evaluateCsv(model_name, x_match)\n",
    "print(dfResponse.head(5))"
   ],
   "metadata": {
    "collapsed": false
   }
  },
  {
   "cell_type": "code",
   "execution_count": null,
   "outputs": [],
   "source": [],
   "metadata": {
    "collapsed": false
   }
  }
 ],
 "metadata": {
  "kernelspec": {
   "display_name": "Python 3",
   "language": "python",
   "name": "python3"
  },
  "language_info": {
   "codemirror_mode": {
    "name": "ipython",
    "version": 2
   },
   "file_extension": ".py",
   "mimetype": "text/x-python",
   "name": "python",
   "nbconvert_exporter": "python",
   "pygments_lexer": "ipython2",
   "version": "2.7.6"
  }
 },
 "nbformat": 4,
 "nbformat_minor": 0
}
