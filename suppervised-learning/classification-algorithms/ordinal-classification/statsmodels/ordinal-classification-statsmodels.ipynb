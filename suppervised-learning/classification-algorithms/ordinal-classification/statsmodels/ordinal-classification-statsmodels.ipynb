{
 "cells": [
  {
   "cell_type": "markdown",
   "source": [
    "## Ordinal Regression using statsmodels\n",
    "### https://analyticsindiamag.com/a-complete-tutorial-on-ordinal-regression-in-python"
   ],
   "metadata": {
    "collapsed": false
   }
  },
  {
   "cell_type": "code",
   "execution_count": 267,
   "outputs": [],
   "source": [
    "import pandas as pd\n",
    "import numpy as np\n",
    "import matplotlib.pyplot as plt\n",
    "import seaborn as sns\n",
    "\n",
    "from pandas.api.types import CategoricalDtype\n",
    "from statsmodels.miscmodels.ordinal_model import OrderedModel\n",
    "from sklearn.metrics import accuracy_score\n",
    "from sklearn.metrics import f1_score\n",
    "from sklearn.metrics import confusion_matrix"
   ],
   "metadata": {
    "collapsed": false
   }
  },
  {
   "cell_type": "code",
   "execution_count": 233,
   "outputs": [],
   "source": [
    "import warnings\n",
    "warnings.filterwarnings('ignore')"
   ],
   "metadata": {
    "collapsed": false
   }
  },
  {
   "cell_type": "code",
   "execution_count": 234,
   "outputs": [
    {
     "data": {
      "text/plain": "   Unnamed: 0  carat        cut color clarity  depth  table  price     x  \\\n0           1   0.23      Ideal     E     SI2   61.5   55.0    326  3.95   \n1           2   0.21    Premium     E     SI1   59.8   61.0    326  3.89   \n2           3   0.23       Good     E     VS1   56.9   65.0    327  4.05   \n3           4   0.29    Premium     I     VS2   62.4   58.0    334  4.20   \n4           5   0.31       Good     J     SI2   63.3   58.0    335  4.34   \n5           6   0.24  Very Good     J    VVS2   62.8   57.0    336  3.94   \n6           7   0.24  Very Good     I    VVS1   62.3   57.0    336  3.95   \n7           8   0.26  Very Good     H     SI1   61.9   55.0    337  4.07   \n8           9   0.22       Fair     E     VS2   65.1   61.0    337  3.87   \n9          10   0.23  Very Good     H     VS1   59.4   61.0    338  4.00   \n\n      y     z  \n0  3.98  2.43  \n1  3.84  2.31  \n2  4.07  2.31  \n3  4.23  2.63  \n4  4.35  2.75  \n5  3.96  2.48  \n6  3.98  2.47  \n7  4.11  2.53  \n8  3.78  2.49  \n9  4.05  2.39  ",
      "text/html": "<div>\n<style scoped>\n    .dataframe tbody tr th:only-of-type {\n        vertical-align: middle;\n    }\n\n    .dataframe tbody tr th {\n        vertical-align: top;\n    }\n\n    .dataframe thead th {\n        text-align: right;\n    }\n</style>\n<table border=\"1\" class=\"dataframe\">\n  <thead>\n    <tr style=\"text-align: right;\">\n      <th></th>\n      <th>Unnamed: 0</th>\n      <th>carat</th>\n      <th>cut</th>\n      <th>color</th>\n      <th>clarity</th>\n      <th>depth</th>\n      <th>table</th>\n      <th>price</th>\n      <th>x</th>\n      <th>y</th>\n      <th>z</th>\n    </tr>\n  </thead>\n  <tbody>\n    <tr>\n      <th>0</th>\n      <td>1</td>\n      <td>0.23</td>\n      <td>Ideal</td>\n      <td>E</td>\n      <td>SI2</td>\n      <td>61.5</td>\n      <td>55.0</td>\n      <td>326</td>\n      <td>3.95</td>\n      <td>3.98</td>\n      <td>2.43</td>\n    </tr>\n    <tr>\n      <th>1</th>\n      <td>2</td>\n      <td>0.21</td>\n      <td>Premium</td>\n      <td>E</td>\n      <td>SI1</td>\n      <td>59.8</td>\n      <td>61.0</td>\n      <td>326</td>\n      <td>3.89</td>\n      <td>3.84</td>\n      <td>2.31</td>\n    </tr>\n    <tr>\n      <th>2</th>\n      <td>3</td>\n      <td>0.23</td>\n      <td>Good</td>\n      <td>E</td>\n      <td>VS1</td>\n      <td>56.9</td>\n      <td>65.0</td>\n      <td>327</td>\n      <td>4.05</td>\n      <td>4.07</td>\n      <td>2.31</td>\n    </tr>\n    <tr>\n      <th>3</th>\n      <td>4</td>\n      <td>0.29</td>\n      <td>Premium</td>\n      <td>I</td>\n      <td>VS2</td>\n      <td>62.4</td>\n      <td>58.0</td>\n      <td>334</td>\n      <td>4.20</td>\n      <td>4.23</td>\n      <td>2.63</td>\n    </tr>\n    <tr>\n      <th>4</th>\n      <td>5</td>\n      <td>0.31</td>\n      <td>Good</td>\n      <td>J</td>\n      <td>SI2</td>\n      <td>63.3</td>\n      <td>58.0</td>\n      <td>335</td>\n      <td>4.34</td>\n      <td>4.35</td>\n      <td>2.75</td>\n    </tr>\n    <tr>\n      <th>5</th>\n      <td>6</td>\n      <td>0.24</td>\n      <td>Very Good</td>\n      <td>J</td>\n      <td>VVS2</td>\n      <td>62.8</td>\n      <td>57.0</td>\n      <td>336</td>\n      <td>3.94</td>\n      <td>3.96</td>\n      <td>2.48</td>\n    </tr>\n    <tr>\n      <th>6</th>\n      <td>7</td>\n      <td>0.24</td>\n      <td>Very Good</td>\n      <td>I</td>\n      <td>VVS1</td>\n      <td>62.3</td>\n      <td>57.0</td>\n      <td>336</td>\n      <td>3.95</td>\n      <td>3.98</td>\n      <td>2.47</td>\n    </tr>\n    <tr>\n      <th>7</th>\n      <td>8</td>\n      <td>0.26</td>\n      <td>Very Good</td>\n      <td>H</td>\n      <td>SI1</td>\n      <td>61.9</td>\n      <td>55.0</td>\n      <td>337</td>\n      <td>4.07</td>\n      <td>4.11</td>\n      <td>2.53</td>\n    </tr>\n    <tr>\n      <th>8</th>\n      <td>9</td>\n      <td>0.22</td>\n      <td>Fair</td>\n      <td>E</td>\n      <td>VS2</td>\n      <td>65.1</td>\n      <td>61.0</td>\n      <td>337</td>\n      <td>3.87</td>\n      <td>3.78</td>\n      <td>2.49</td>\n    </tr>\n    <tr>\n      <th>9</th>\n      <td>10</td>\n      <td>0.23</td>\n      <td>Very Good</td>\n      <td>H</td>\n      <td>VS1</td>\n      <td>59.4</td>\n      <td>61.0</td>\n      <td>338</td>\n      <td>4.00</td>\n      <td>4.05</td>\n      <td>2.39</td>\n    </tr>\n  </tbody>\n</table>\n</div>"
     },
     "execution_count": 234,
     "metadata": {},
     "output_type": "execute_result"
    }
   ],
   "source": [
    "# Data Import\n",
    "df = pd.read_csv('../../../data/diamonds.csv')\n",
    "df.head(10)"
   ],
   "metadata": {
    "collapsed": false
   }
  },
  {
   "cell_type": "code",
   "execution_count": 235,
   "outputs": [
    {
     "data": {
      "text/plain": "array(['Ideal', 'Premium', 'Good', 'Very Good', 'Fair'], dtype=object)"
     },
     "execution_count": 235,
     "metadata": {},
     "output_type": "execute_result"
    }
   ],
   "source": [
    "df.cut.unique()"
   ],
   "metadata": {
    "collapsed": false
   }
  },
  {
   "cell_type": "markdown",
   "source": [
    "We observe that data is not balanced, we need to balalnce the data"
   ],
   "metadata": {
    "collapsed": false
   }
  },
  {
   "cell_type": "code",
   "execution_count": 236,
   "outputs": [],
   "source": [
    "# calculate the volume of the diamonds\n",
    "df['volume'] = df['x']*df['y']*df['z']\n",
    "df.drop(['x','y','z'],axis=1,inplace=True)\n",
    "x_sm = df[['carat','depth', 'table','price','volume']]\n",
    "y_sm = df[['cut']]"
   ],
   "metadata": {
    "collapsed": false
   }
  },
  {
   "cell_type": "markdown",
   "source": [
    "## Vsualize Data"
   ],
   "metadata": {
    "collapsed": false
   }
  },
  {
   "cell_type": "code",
   "execution_count": 237,
   "outputs": [
    {
     "data": {
      "text/plain": "Text(0.5, 1.0, 'Distribution by Volume')"
     },
     "execution_count": 237,
     "metadata": {},
     "output_type": "execute_result"
    },
    {
     "data": {
      "text/plain": "<Figure size 1008x1008 with 4 Axes>",
      "image/png": "[encoded data removed]"
     },
     "metadata": {
      "needs_background": "light"
     },
     "output_type": "display_data"
    }
   ],
   "source": [
    "plt.figure(figsize=[14,14])\n",
    "\n",
    "plt.subplot(221)\n",
    "plt.hist(df['carat'],bins=20,color='b')\n",
    "plt.xlabel('Weight')\n",
    "plt.title('Distribution by Weight')\n",
    "\n",
    "plt.subplot(222)\n",
    "plt.hist(df['depth'],bins=20,color='r')\n",
    "plt.xlabel('Diamond Depth')\n",
    "plt.title('Distribution by Depth')\n",
    "\n",
    "plt.subplot(223)\n",
    "plt.hist(df['price'],bins=20,color='g')\n",
    "plt.xlabel('Price')\n",
    "plt.title('Distribution by Price')\n",
    "\n",
    "plt.subplot(224)\n",
    "plt.hist(df['volume'],bins=20,color='m')\n",
    "plt.xlabel('Volume')\n",
    "plt.title('Distribution by Volume')"
   ],
   "metadata": {
    "collapsed": false
   }
  },
  {
   "cell_type": "markdown",
   "source": [
    "## Data preprocessing"
   ],
   "metadata": {
    "collapsed": false
   }
  },
  {
   "cell_type": "code",
   "execution_count": 238,
   "outputs": [
    {
     "data": {
      "text/plain": "CategoricalDtype(categories=['Fair', 'Good', 'Ideal', 'Very Good', 'Premium'], ordered=True)"
     },
     "execution_count": 238,
     "metadata": {},
     "output_type": "execute_result"
    }
   ],
   "source": [
    "# convert the target variable into a categorical ordered form\n",
    "cut_type = CategoricalDtype(categories=['Fair', 'Good', 'Ideal', 'Very Good', 'Premium'], ordered=True)\n",
    "y_sm[\"cut\"] = y_sm[\"cut\"].astype(cut_type)\n",
    "y_sm['cut'].dtype"
   ],
   "metadata": {
    "collapsed": false
   }
  },
  {
   "cell_type": "markdown",
   "source": [
    "Here we can see that now the values under the cut variable are in a categorical ordered form"
   ],
   "metadata": {
    "collapsed": false
   }
  },
  {
   "cell_type": "markdown",
   "source": [
    "## Ordered probit model"
   ],
   "metadata": {
    "collapsed": false
   }
  },
  {
   "cell_type": "code",
   "execution_count": 239,
   "outputs": [
    {
     "name": "stdout",
     "output_type": "stream",
     "text": [
      "Warning: Desired error not necessarily achieved due to precision loss.\n",
      "         Current function value: 1.318315\n",
      "         Iterations: 42\n",
      "         Function evaluations: 50\n",
      "         Gradient evaluations: 50\n"
     ]
    },
    {
     "data": {
      "text/plain": "<class 'statsmodels.iolib.summary.Summary'>\n\"\"\"\n                             OrderedModel Results                             \n==============================================================================\nDep. Variable:                    cut   Log-Likelihood:                -71110.\nModel:                   OrderedModel   AIC:                         1.422e+05\nMethod:            Maximum Likelihood   BIC:                         1.423e+05\nDate:                Wed, 05 Apr 2023                                         \nTime:                        14:25:26                                         \nNo. Observations:               53940                                         \nDf Residuals:                   53931                                         \nDf Model:                           9                                         \n=====================================================================================\n                        coef    std err          z      P>|z|      [0.025      0.975]\n-------------------------------------------------------------------------------------\ncarat                -0.6476      0.103     -6.304      0.000      -0.849      -0.446\ndepth                -0.1765      0.004    -49.553      0.000      -0.183      -0.169\ntable                 0.0787      0.002     34.411      0.000       0.074       0.083\nprice              3.439e-05   3.07e-06     11.192      0.000    2.84e-05    4.04e-05\nvolume                0.0029      0.001      4.695      0.000       0.002       0.004\nFair/Good            -8.3549      0.292    -28.619      0.000      -8.927      -7.783\nGood/Ideal           -0.2933      0.014    -21.035      0.000      -0.321      -0.266\nIdeal/Very Good       0.2406      0.006     41.377      0.000       0.229       0.252\nVery Good/Premium    -0.4202      0.008    -50.893      0.000      -0.436      -0.404\n=====================================================================================\n\"\"\"",
      "text/html": "<table class=\"simpletable\">\n<caption>OrderedModel Results</caption>\n<tr>\n  <th>Dep. Variable:</th>            <td>cut</td>        <th>  Log-Likelihood:    </th> <td> -71110.</td> \n</tr>\n<tr>\n  <th>Model:</th>               <td>OrderedModel</td>    <th>  AIC:               </th> <td>1.422e+05</td>\n</tr>\n<tr>\n  <th>Method:</th>           <td>Maximum Likelihood</td> <th>  BIC:               </th> <td>1.423e+05</td>\n</tr>\n<tr>\n  <th>Date:</th>              <td>Wed, 05 Apr 2023</td>  <th>                     </th>     <td> </td>    \n</tr>\n<tr>\n  <th>Time:</th>                  <td>14:25:26</td>      <th>                     </th>     <td> </td>    \n</tr>\n<tr>\n  <th>No. Observations:</th>       <td> 53940</td>       <th>                     </th>     <td> </td>    \n</tr>\n<tr>\n  <th>Df Residuals:</th>           <td> 53931</td>       <th>                     </th>     <td> </td>    \n</tr>\n<tr>\n  <th>Df Model:</th>               <td>     9</td>       <th>                     </th>     <td> </td>    \n</tr>\n</table>\n<table class=\"simpletable\">\n<tr>\n          <td></td>             <th>coef</th>     <th>std err</th>      <th>z</th>      <th>P>|z|</th>  <th>[0.025</th>    <th>0.975]</th>  \n</tr>\n<tr>\n  <th>carat</th>             <td>   -0.6476</td> <td>    0.103</td> <td>   -6.304</td> <td> 0.000</td> <td>   -0.849</td> <td>   -0.446</td>\n</tr>\n<tr>\n  <th>depth</th>             <td>   -0.1765</td> <td>    0.004</td> <td>  -49.553</td> <td> 0.000</td> <td>   -0.183</td> <td>   -0.169</td>\n</tr>\n<tr>\n  <th>table</th>             <td>    0.0787</td> <td>    0.002</td> <td>   34.411</td> <td> 0.000</td> <td>    0.074</td> <td>    0.083</td>\n</tr>\n<tr>\n  <th>price</th>             <td> 3.439e-05</td> <td> 3.07e-06</td> <td>   11.192</td> <td> 0.000</td> <td> 2.84e-05</td> <td> 4.04e-05</td>\n</tr>\n<tr>\n  <th>volume</th>            <td>    0.0029</td> <td>    0.001</td> <td>    4.695</td> <td> 0.000</td> <td>    0.002</td> <td>    0.004</td>\n</tr>\n<tr>\n  <th>Fair/Good</th>         <td>   -8.3549</td> <td>    0.292</td> <td>  -28.619</td> <td> 0.000</td> <td>   -8.927</td> <td>   -7.783</td>\n</tr>\n<tr>\n  <th>Good/Ideal</th>        <td>   -0.2933</td> <td>    0.014</td> <td>  -21.035</td> <td> 0.000</td> <td>   -0.321</td> <td>   -0.266</td>\n</tr>\n<tr>\n  <th>Ideal/Very Good</th>   <td>    0.2406</td> <td>    0.006</td> <td>   41.377</td> <td> 0.000</td> <td>    0.229</td> <td>    0.252</td>\n</tr>\n<tr>\n  <th>Very Good/Premium</th> <td>   -0.4202</td> <td>    0.008</td> <td>  -50.893</td> <td> 0.000</td> <td>   -0.436</td> <td>   -0.404</td>\n</tr>\n</table>"
     },
     "execution_count": 239,
     "metadata": {},
     "output_type": "execute_result"
    }
   ],
   "source": [
    "# Define ordered probit model taking the cut variable as our target and volume, price, and carat as independent variables.\n",
    "mod_probit = OrderedModel(y_sm['cut'],\n",
    "                        x_sm[['carat','depth', 'table','price','volume']],\n",
    "                        distr='probit')\n",
    "\n",
    "res_probit = mod_probit.fit(method='bfgs')\n",
    "res_probit.summary()"
   ],
   "metadata": {
    "collapsed": false
   }
  },
  {
   "cell_type": "code",
   "execution_count": 240,
   "outputs": [
    {
     "data": {
      "text/plain": "array([[3.57073330e-02, 1.09544137e-01, 4.39866258e-01, 2.23247586e-01,\n        1.91634687e-01],\n       [4.98293005e-03, 2.85524953e-02, 2.54485222e-01, 2.50897341e-01,\n        4.61082011e-01],\n       [3.35787545e-04, 3.62827688e-03, 7.93541324e-02, 1.50537369e-01,\n        7.66144434e-01],\n       ...,\n       [2.45156082e-02, 8.62422822e-02, 4.08987682e-01, 2.40284616e-01,\n        2.39969811e-01],\n       [1.77885287e-02, 6.97744284e-02, 3.79007622e-01, 2.50104096e-01,\n        2.83325325e-01],\n       [4.66761464e-02, 1.28950583e-01, 4.57392953e-01, 2.07536507e-01,\n        1.59443811e-01]])"
     },
     "execution_count": 240,
     "metadata": {},
     "output_type": "execute_result"
    }
   ],
   "source": [
    "# Prediction\n",
    "predicted = res_probit.model.predict(res_probit.params, exog=x_sm[['carat','depth', 'table','price','volume']])\n",
    "predicted"
   ],
   "metadata": {
    "collapsed": false
   }
  },
  {
   "cell_type": "code",
   "execution_count": 241,
   "outputs": [],
   "source": [
    "y_pred = predicted.argmax(axis=1)\n",
    "y_pred = pd.DataFrame(y_pred,columns=['y'])\n",
    "cut_map = {0:'Fair', 1:'Good', 2:'Ideal', 3:'Very Good', 4:'Premium'}\n",
    "y_pred['y'] = y_pred['y'].map(cut_map)"
   ],
   "metadata": {
    "collapsed": false
   }
  },
  {
   "cell_type": "code",
   "execution_count": 242,
   "outputs": [
    {
     "data": {
      "text/plain": "             y\n0        Ideal\n1      Premium\n2      Premium\n3        Ideal\n4        Ideal\n...        ...\n53935    Ideal\n53936    Ideal\n53937    Ideal\n53938    Ideal\n53939    Ideal\n\n[53940 rows x 1 columns]",
      "text/html": "<div>\n<style scoped>\n    .dataframe tbody tr th:only-of-type {\n        vertical-align: middle;\n    }\n\n    .dataframe tbody tr th {\n        vertical-align: top;\n    }\n\n    .dataframe thead th {\n        text-align: right;\n    }\n</style>\n<table border=\"1\" class=\"dataframe\">\n  <thead>\n    <tr style=\"text-align: right;\">\n      <th></th>\n      <th>y</th>\n    </tr>\n  </thead>\n  <tbody>\n    <tr>\n      <th>0</th>\n      <td>Ideal</td>\n    </tr>\n    <tr>\n      <th>1</th>\n      <td>Premium</td>\n    </tr>\n    <tr>\n      <th>2</th>\n      <td>Premium</td>\n    </tr>\n    <tr>\n      <th>3</th>\n      <td>Ideal</td>\n    </tr>\n    <tr>\n      <th>4</th>\n      <td>Ideal</td>\n    </tr>\n    <tr>\n      <th>...</th>\n      <td>...</td>\n    </tr>\n    <tr>\n      <th>53935</th>\n      <td>Ideal</td>\n    </tr>\n    <tr>\n      <th>53936</th>\n      <td>Ideal</td>\n    </tr>\n    <tr>\n      <th>53937</th>\n      <td>Ideal</td>\n    </tr>\n    <tr>\n      <th>53938</th>\n      <td>Ideal</td>\n    </tr>\n    <tr>\n      <th>53939</th>\n      <td>Ideal</td>\n    </tr>\n  </tbody>\n</table>\n<p>53940 rows × 1 columns</p>\n</div>"
     },
     "execution_count": 242,
     "metadata": {},
     "output_type": "execute_result"
    }
   ],
   "source": [
    "y_pred"
   ],
   "metadata": {
    "collapsed": false
   }
  },
  {
   "cell_type": "markdown",
   "source": [
    "## Model Testing"
   ],
   "metadata": {
    "collapsed": false
   }
  },
  {
   "cell_type": "code",
   "execution_count": 243,
   "outputs": [
    {
     "name": "stdout",
     "output_type": "stream",
     "text": [
      "The model accuracy is: 47.3%\n"
     ]
    }
   ],
   "source": [
    "print(f'The model accuracy is: {np.round(accuracy_score(y_sm.cut, y_pred), decimals=3)*100}%')"
   ],
   "metadata": {
    "collapsed": false
   }
  },
  {
   "cell_type": "code",
   "execution_count": 244,
   "outputs": [
    {
     "name": "stdout",
     "output_type": "stream",
     "text": [
      "The model f1 score is: 35.5%\n"
     ]
    }
   ],
   "source": [
    "print(f'The model f1 score is: {np.round(f1_score(y_sm.cut, y_pred, average=\"\"\"weighted\"\"\"), decimals=3)*100}%')"
   ],
   "metadata": {
    "collapsed": false
   }
  },
  {
   "cell_type": "code",
   "execution_count": 245,
   "outputs": [
    {
     "data": {
      "text/plain": "<Figure size 864x864 with 2 Axes>",
      "image/png": "[encoded data removed]"
     },
     "metadata": {
      "needs_background": "light"
     },
     "output_type": "display_data"
    }
   ],
   "source": [
    "cm = confusion_matrix(y_sm.cut, y_pred)\n",
    "plt.figure(figsize=(12, 12))\n",
    "cmap = sns.color_palette(\"Oranges\",12)\n",
    "sns.heatmap(data=cm, cmap=\"RdBu_r\", fmt='g', annot=True)\n",
    "plt.show()"
   ],
   "metadata": {
    "collapsed": false
   }
  },
  {
   "cell_type": "markdown",
   "source": [
    "## Ordered logit regression"
   ],
   "metadata": {
    "collapsed": false
   }
  },
  {
   "cell_type": "code",
   "execution_count": 246,
   "outputs": [
    {
     "name": "stdout",
     "output_type": "stream",
     "text": [
      "Optimization terminated successfully.\n",
      "         Current function value: 1.296608\n",
      "         Iterations: 52\n",
      "         Function evaluations: 58\n",
      "         Gradient evaluations: 58\n"
     ]
    },
    {
     "data": {
      "text/plain": "<class 'statsmodels.iolib.summary.Summary'>\n\"\"\"\n                             OrderedModel Results                             \n==============================================================================\nDep. Variable:                    cut   Log-Likelihood:                -69939.\nModel:                   OrderedModel   AIC:                         1.399e+05\nMethod:            Maximum Likelihood   BIC:                         1.400e+05\nDate:                Wed, 05 Apr 2023                                         \nTime:                        14:25:40                                         \nNo. Observations:               53940                                         \nDf Residuals:                   53931                                         \nDf Model:                           9                                         \n=====================================================================================\n                        coef    std err          z      P>|z|      [0.025      0.975]\n-------------------------------------------------------------------------------------\ncarat                -0.8274      0.225     -3.671      0.000      -1.269      -0.386\ndepth                -0.3667      0.007    -50.287      0.000      -0.381      -0.352\ntable                 0.2330      0.004     52.495      0.000       0.224       0.242\nprice              3.591e-05   5.39e-06      6.665      0.000    2.54e-05    4.65e-05\nvolume                0.0044      0.001      3.202      0.001       0.002       0.007\nFair/Good           -13.0078      0.572    -22.732      0.000     -14.129     -11.886\nGood/Ideal            0.4474      0.015     30.322      0.000       0.419       0.476\nIdeal/Very Good       0.8119      0.006    130.410      0.000       0.800       0.824\nVery Good/Premium     0.1400      0.008     16.549      0.000       0.123       0.157\n=====================================================================================\n\"\"\"",
      "text/html": "<table class=\"simpletable\">\n<caption>OrderedModel Results</caption>\n<tr>\n  <th>Dep. Variable:</th>            <td>cut</td>        <th>  Log-Likelihood:    </th> <td> -69939.</td> \n</tr>\n<tr>\n  <th>Model:</th>               <td>OrderedModel</td>    <th>  AIC:               </th> <td>1.399e+05</td>\n</tr>\n<tr>\n  <th>Method:</th>           <td>Maximum Likelihood</td> <th>  BIC:               </th> <td>1.400e+05</td>\n</tr>\n<tr>\n  <th>Date:</th>              <td>Wed, 05 Apr 2023</td>  <th>                     </th>     <td> </td>    \n</tr>\n<tr>\n  <th>Time:</th>                  <td>14:25:40</td>      <th>                     </th>     <td> </td>    \n</tr>\n<tr>\n  <th>No. Observations:</th>       <td> 53940</td>       <th>                     </th>     <td> </td>    \n</tr>\n<tr>\n  <th>Df Residuals:</th>           <td> 53931</td>       <th>                     </th>     <td> </td>    \n</tr>\n<tr>\n  <th>Df Model:</th>               <td>     9</td>       <th>                     </th>     <td> </td>    \n</tr>\n</table>\n<table class=\"simpletable\">\n<tr>\n          <td></td>             <th>coef</th>     <th>std err</th>      <th>z</th>      <th>P>|z|</th>  <th>[0.025</th>    <th>0.975]</th>  \n</tr>\n<tr>\n  <th>carat</th>             <td>   -0.8274</td> <td>    0.225</td> <td>   -3.671</td> <td> 0.000</td> <td>   -1.269</td> <td>   -0.386</td>\n</tr>\n<tr>\n  <th>depth</th>             <td>   -0.3667</td> <td>    0.007</td> <td>  -50.287</td> <td> 0.000</td> <td>   -0.381</td> <td>   -0.352</td>\n</tr>\n<tr>\n  <th>table</th>             <td>    0.2330</td> <td>    0.004</td> <td>   52.495</td> <td> 0.000</td> <td>    0.224</td> <td>    0.242</td>\n</tr>\n<tr>\n  <th>price</th>             <td> 3.591e-05</td> <td> 5.39e-06</td> <td>    6.665</td> <td> 0.000</td> <td> 2.54e-05</td> <td> 4.65e-05</td>\n</tr>\n<tr>\n  <th>volume</th>            <td>    0.0044</td> <td>    0.001</td> <td>    3.202</td> <td> 0.001</td> <td>    0.002</td> <td>    0.007</td>\n</tr>\n<tr>\n  <th>Fair/Good</th>         <td>  -13.0078</td> <td>    0.572</td> <td>  -22.732</td> <td> 0.000</td> <td>  -14.129</td> <td>  -11.886</td>\n</tr>\n<tr>\n  <th>Good/Ideal</th>        <td>    0.4474</td> <td>    0.015</td> <td>   30.322</td> <td> 0.000</td> <td>    0.419</td> <td>    0.476</td>\n</tr>\n<tr>\n  <th>Ideal/Very Good</th>   <td>    0.8119</td> <td>    0.006</td> <td>  130.410</td> <td> 0.000</td> <td>    0.800</td> <td>    0.824</td>\n</tr>\n<tr>\n  <th>Very Good/Premium</th> <td>    0.1400</td> <td>    0.008</td> <td>   16.549</td> <td> 0.000</td> <td>    0.123</td> <td>    0.157</td>\n</tr>\n</table>"
     },
     "execution_count": 246,
     "metadata": {},
     "output_type": "execute_result"
    }
   ],
   "source": [
    "# Define ordered probit model taking the cut variable as our target and volume, price, and carat as independent variables.\n",
    "mod_logit = OrderedModel(y_sm['cut'],\n",
    "                          x_sm[['carat','depth', 'table','price','volume']],\n",
    "                          distr='logit')\n",
    "\n",
    "res_logit = mod_logit.fit(method='bfgs')\n",
    "res_logit.summary()"
   ],
   "metadata": {
    "collapsed": false
   }
  },
  {
   "cell_type": "code",
   "execution_count": 247,
   "outputs": [
    {
     "data": {
      "text/plain": "array([[3.70152171e-02, 1.18179156e-01, 4.80725718e-01, 2.10650533e-01,\n        1.53429376e-01],\n       [5.06398772e-03, 1.86835150e-02, 1.64091080e-01, 2.34333670e-01,\n        5.77827748e-01],\n       [6.91964879e-04, 2.60647147e-03, 2.72068477e-02, 5.99061702e-02,\n        9.09588546e-01],\n       ...,\n       [1.83313784e-02, 6.36023194e-02, 3.77100465e-01, 2.69267360e-01,\n        2.71698477e-01],\n       [1.53973679e-02, 5.41436467e-02, 3.45871716e-01, 2.76402670e-01,\n        3.08184600e-01],\n       [4.57063705e-02, 1.40560286e-01, 4.98912004e-01, 1.87841248e-01,\n        1.26980092e-01]])"
     },
     "execution_count": 247,
     "metadata": {},
     "output_type": "execute_result"
    }
   ],
   "source": [
    "# Prediction\n",
    "predicted = res_logit.model.predict(res_logit.params, exog=x_sm[['carat','depth', 'table','price','volume']])\n",
    "predicted"
   ],
   "metadata": {
    "collapsed": false
   }
  },
  {
   "cell_type": "code",
   "execution_count": 248,
   "outputs": [],
   "source": [
    "y_pred = predicted.argmax(axis=1)\n",
    "y_pred = pd.DataFrame(y_pred,columns=['y'])\n",
    "cut_map = {0:'Fair', 1:'Good', 2:'Ideal', 3:'Very Good', 4:'Premium'}\n",
    "y_pred['y'] = y_pred['y'].map(cut_map)"
   ],
   "metadata": {
    "collapsed": false
   }
  },
  {
   "cell_type": "code",
   "execution_count": 249,
   "outputs": [
    {
     "data": {
      "text/plain": "             y\n0        Ideal\n1      Premium\n2      Premium\n3        Ideal\n4        Ideal\n...        ...\n53935    Ideal\n53936    Ideal\n53937    Ideal\n53938    Ideal\n53939    Ideal\n\n[53940 rows x 1 columns]",
      "text/html": "<div>\n<style scoped>\n    .dataframe tbody tr th:only-of-type {\n        vertical-align: middle;\n    }\n\n    .dataframe tbody tr th {\n        vertical-align: top;\n    }\n\n    .dataframe thead th {\n        text-align: right;\n    }\n</style>\n<table border=\"1\" class=\"dataframe\">\n  <thead>\n    <tr style=\"text-align: right;\">\n      <th></th>\n      <th>y</th>\n    </tr>\n  </thead>\n  <tbody>\n    <tr>\n      <th>0</th>\n      <td>Ideal</td>\n    </tr>\n    <tr>\n      <th>1</th>\n      <td>Premium</td>\n    </tr>\n    <tr>\n      <th>2</th>\n      <td>Premium</td>\n    </tr>\n    <tr>\n      <th>3</th>\n      <td>Ideal</td>\n    </tr>\n    <tr>\n      <th>4</th>\n      <td>Ideal</td>\n    </tr>\n    <tr>\n      <th>...</th>\n      <td>...</td>\n    </tr>\n    <tr>\n      <th>53935</th>\n      <td>Ideal</td>\n    </tr>\n    <tr>\n      <th>53936</th>\n      <td>Ideal</td>\n    </tr>\n    <tr>\n      <th>53937</th>\n      <td>Ideal</td>\n    </tr>\n    <tr>\n      <th>53938</th>\n      <td>Ideal</td>\n    </tr>\n    <tr>\n      <th>53939</th>\n      <td>Ideal</td>\n    </tr>\n  </tbody>\n</table>\n<p>53940 rows × 1 columns</p>\n</div>"
     },
     "execution_count": 249,
     "metadata": {},
     "output_type": "execute_result"
    }
   ],
   "source": [
    "y_pred"
   ],
   "metadata": {
    "collapsed": false
   }
  },
  {
   "cell_type": "markdown",
   "source": [
    "## Model Testing"
   ],
   "metadata": {
    "collapsed": false
   }
  },
  {
   "cell_type": "code",
   "execution_count": 250,
   "outputs": [
    {
     "name": "stdout",
     "output_type": "stream",
     "text": [
      "The model accuracy is: 50.7%\n"
     ]
    }
   ],
   "source": [
    "print(f'The model accuracy is: {np.round(accuracy_score(y_sm.cut, y_pred), decimals=3)*100}%')"
   ],
   "metadata": {
    "collapsed": false
   }
  },
  {
   "cell_type": "code",
   "execution_count": 251,
   "outputs": [
    {
     "name": "stdout",
     "output_type": "stream",
     "text": [
      "The model f1 score is: 39.300000000000004%\n"
     ]
    }
   ],
   "source": [
    "print(f'The model f1 score is: {np.round(f1_score(y_sm.cut, y_pred, average=\"\"\"weighted\"\"\"), decimals=3)*100}%')"
   ],
   "metadata": {
    "collapsed": false
   }
  },
  {
   "cell_type": "code",
   "execution_count": 252,
   "outputs": [
    {
     "data": {
      "text/plain": "<Figure size 864x864 with 2 Axes>",
      "image/png": "[encoded data removed]"
     },
     "metadata": {
      "needs_background": "light"
     },
     "output_type": "display_data"
    }
   ],
   "source": [
    "cm = confusion_matrix(y_sm.cut, y_pred)\n",
    "plt.figure(figsize=(12, 12))\n",
    "cmap = sns.color_palette(\"Oranges\",12)\n",
    "sns.heatmap(data=cm, cmap=\"RdBu_r\", fmt='g', annot=True)\n",
    "plt.show()"
   ],
   "metadata": {
    "collapsed": false
   }
  }
 ],
 "metadata": {
  "kernelspec": {
   "display_name": "Python 3",
   "language": "python",
   "name": "python3"
  },
  "language_info": {
   "codemirror_mode": {
    "name": "ipython",
    "version": 2
   },
   "file_extension": ".py",
   "mimetype": "text/x-python",
   "name": "python",
   "nbconvert_exporter": "python",
   "pygments_lexer": "ipython2",
   "version": "2.7.6"
  }
 },
 "nbformat": 4,
 "nbformat_minor": 0
}
