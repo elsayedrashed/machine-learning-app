{
 "cells": [
  {
   "cell_type": "markdown",
   "source": [
    "## Ordinal Classification\n",
    "### Model Training"
   ],
   "metadata": {
    "collapsed": false
   }
  },
  {
   "cell_type": "code",
   "execution_count": 1,
   "outputs": [],
   "source": [
    "import pandas as pd\n",
    "import numpy as np\n",
    "import matplotlib.pyplot as plt\n",
    "import seaborn as sns\n",
    "\n",
    "from sklearn.metrics import confusion_matrix, f1_score, accuracy_score\n",
    "from sklearn.linear_model import LogisticRegression\n",
    "from sklearn.model_selection import train_test_split\n",
    "from sklearn.impute import SimpleImputer\n",
    "from sklearn.compose import make_column_selector\n",
    "from sklearn.preprocessing import StandardScaler\n",
    "from sklearn.preprocessing import OrdinalEncoder\n",
    "from sklearn.preprocessing import LabelEncoder\n",
    "from sklearn.pipeline import Pipeline\n",
    "\n",
    "from mord import LogisticIT\n",
    "from mord import LogisticAT\n",
    "from mord import LogisticSE\n",
    "\n",
    "from statsmodels.miscmodels.ordinal_model import OrderedModel\n",
    "\n",
    "from sklearn2pmml import sklearn2pmml\n",
    "from sklearn2pmml import ColumnTransformer\n",
    "from sklearn2pmml.pipeline import PMMLPipeline"
   ],
   "metadata": {
    "collapsed": false
   }
  },
  {
   "cell_type": "code",
   "execution_count": 2,
   "outputs": [],
   "source": [
    "import warnings\n",
    "warnings.filterwarnings('ignore')"
   ],
   "metadata": {
    "collapsed": false
   }
  },
  {
   "cell_type": "markdown",
   "source": [
    "## Data Loading"
   ],
   "metadata": {
    "collapsed": false
   }
  },
  {
   "cell_type": "code",
   "execution_count": 4,
   "outputs": [],
   "source": [
    "# Data Import\n",
    "df = pd.read_csv('../../../data/winequality-white-cleaned.csv',sep=';')\n",
    "# Get features and target\n",
    "x = df.drop('target', axis=1)\n",
    "y = df[['target']]"
   ],
   "metadata": {
    "collapsed": false
   }
  },
  {
   "cell_type": "markdown",
   "source": [
    "## Data Transformation"
   ],
   "metadata": {
    "collapsed": false
   }
  },
  {
   "cell_type": "code",
   "execution_count": 5,
   "outputs": [],
   "source": [
    "# Selecting categorical and numeric features\n",
    "sel_numeric = make_column_selector(dtype_include=np.number)\n",
    "x_numerical = sel_numeric(x)\n",
    "\n",
    "sel_categorical = make_column_selector(dtype_exclude=np.number)\n",
    "x_categorical = sel_categorical(x)"
   ],
   "metadata": {
    "collapsed": false
   }
  },
  {
   "cell_type": "code",
   "execution_count": 6,
   "outputs": [],
   "source": [
    "# Create preprocessing pipelines for numerical features\n",
    "trans_numerical = Pipeline(steps=[\n",
    "    ('imputer', SimpleImputer(strategy='median')),\n",
    "    ('scaler', StandardScaler())]\n",
    ")"
   ],
   "metadata": {
    "collapsed": false
   }
  },
  {
   "cell_type": "code",
   "execution_count": 7,
   "outputs": [],
   "source": [
    "# Create preprocessing pipelines for categorical features\n",
    "trans_categorical = Pipeline(steps=[\n",
    "    ('imputer', SimpleImputer(strategy='most_frequent')),\n",
    "    ('encoder', OrdinalEncoder()),\n",
    "    ('scaler', StandardScaler())]\n",
    ")"
   ],
   "metadata": {
    "collapsed": false
   }
  },
  {
   "cell_type": "code",
   "execution_count": 8,
   "outputs": [],
   "source": [
    "# Putting the preprocessing steps together\n",
    "transformer = ColumnTransformer([\n",
    "    # ('categorical', trans_categorical, x_categorical),\n",
    "    ('numerical', trans_numerical, x_numerical)],\n",
    "remainder='passthrough'\n",
    ")"
   ],
   "metadata": {
    "collapsed": false
   }
  },
  {
   "cell_type": "markdown",
   "source": [
    "## Model Training"
   ],
   "metadata": {
    "collapsed": false
   }
  },
  {
   "cell_type": "code",
   "execution_count": 9,
   "outputs": [],
   "source": [
    "# Data Split\n",
    "x_train, x_test, y_train, y_test = train_test_split(x, y, shuffle=True, test_size=0.2)\n",
    "x_train.reset_index(drop=True, inplace=True)\n",
    "x_test.reset_index(drop=True, inplace=True)\n",
    "y_train.reset_index(drop=True, inplace=True)\n",
    "y_test.reset_index(drop=True, inplace=True)"
   ],
   "metadata": {
    "collapsed": false
   }
  },
  {
   "cell_type": "code",
   "execution_count": 10,
   "outputs": [
    {
     "data": {
      "text/plain": "['fixed acidity',\n 'volatile acidity',\n 'citric acid',\n 'residual sugar',\n 'chlorides',\n 'free sulfur dioxide',\n 'total sulfur dioxide',\n 'density',\n 'pH',\n 'sulphates',\n 'alcohol']"
     },
     "execution_count": 10,
     "metadata": {},
     "output_type": "execute_result"
    }
   ],
   "source": [
    "list(x_train.columns)"
   ],
   "metadata": {
    "collapsed": false
   }
  },
  {
   "cell_type": "markdown",
   "source": [
    "## Multinomial Logistic Regression Model"
   ],
   "metadata": {
    "collapsed": false
   }
  },
  {
   "cell_type": "code",
   "execution_count": 11,
   "outputs": [],
   "source": [
    "# Create pipeline with logistic regression as classifier\n",
    "mnlr_pipeline = PMMLPipeline(steps=[\n",
    "    ('transformer', transformer),\n",
    "    ('classifier', LogisticRegression(multi_class='multinomial', solver='lbfgs',max_iter=1000))\n",
    "])\n",
    "\n",
    "mnlr_pipeline.fit(x_train, y_train)\n",
    "mnlr_pipeline.verify(x_train.sample(n = 10))"
   ],
   "metadata": {
    "collapsed": false
   }
  },
  {
   "cell_type": "code",
   "execution_count": 12,
   "outputs": [
    {
     "data": {
      "text/plain": "array([4, 9, 4, ..., 8, 7, 8])"
     },
     "execution_count": 12,
     "metadata": {},
     "output_type": "execute_result"
    }
   ],
   "source": [
    "y_pred = mnlr_pipeline.predict(x_test)\n",
    "y_pred.view()"
   ],
   "metadata": {
    "collapsed": false
   }
  },
  {
   "cell_type": "markdown",
   "source": [
    "## Multinomial Logistic Regression - Model Performance"
   ],
   "metadata": {
    "collapsed": false
   }
  },
  {
   "cell_type": "code",
   "execution_count": 13,
   "outputs": [
    {
     "name": "stdout",
     "output_type": "stream",
     "text": [
      "The model accuracy is: 65.2%\n",
      "The model f1 score is: 62.9%\n"
     ]
    }
   ],
   "source": [
    "print(f'The model accuracy is: {np.round(accuracy_score(y_test, y_pred), decimals=3)*100}%')\n",
    "print(f'The model f1 score is: {np.round(f1_score(y_test, y_pred, average=\"\"\"weighted\"\"\"), decimals=3)*100}%')"
   ],
   "metadata": {
    "collapsed": false
   }
  },
  {
   "cell_type": "code",
   "execution_count": 14,
   "outputs": [
    {
     "data": {
      "text/plain": "<Figure size 864x864 with 2 Axes>",
      "image/png": "[encoded data removed]"
     },
     "metadata": {
      "needs_background": "light"
     },
     "output_type": "display_data"
    }
   ],
   "source": [
    "cm = confusion_matrix(y_test, y_pred, labels=mnlr_pipeline.classes_)\n",
    "plt.figure(figsize=(12, 12))\n",
    "cmap = sns.color_palette(\"Oranges\",12)\n",
    "sns.heatmap(data=cm, cmap=\"RdBu_r\", xticklabels=mnlr_pipeline.classes_, yticklabels=mnlr_pipeline.classes_, fmt='g', annot=True)\n",
    "plt.show()"
   ],
   "metadata": {
    "collapsed": false
   }
  },
  {
   "cell_type": "markdown",
   "source": [
    "As we can observer, the diagonal value is the highest value for each row which means we have a good classifier."
   ],
   "metadata": {
    "collapsed": false
   }
  },
  {
   "cell_type": "markdown",
   "source": [
    "## mord LogisticIT Model"
   ],
   "metadata": {
    "collapsed": false
   }
  },
  {
   "cell_type": "code",
   "execution_count": 15,
   "outputs": [],
   "source": [
    "# Create pipeline with logistic regression as classifier\n",
    "mord_pipeline = PMMLPipeline(steps=[\n",
    "    ('transformer', transformer),\n",
    "    ('classifier', LogisticIT(alpha=1.0))\n",
    "])\n",
    "\n",
    "le = LabelEncoder()\n",
    "y_train_le = le.fit_transform(y_train)\n",
    "\n",
    "mord_pipeline.fit(x_train, y_train_le)\n",
    "mord_pipeline.verify(x_train.sample(n = 10))"
   ],
   "metadata": {
    "collapsed": false
   }
  },
  {
   "cell_type": "code",
   "execution_count": 16,
   "outputs": [
    {
     "data": {
      "text/plain": "array([3, 9, 4, ..., 9, 8, 9])"
     },
     "execution_count": 16,
     "metadata": {},
     "output_type": "execute_result"
    }
   ],
   "source": [
    "y_pred = mord_pipeline.predict(x_test)\n",
    "y_pred = le.inverse_transform(y_pred)\n",
    "y_pred.view()"
   ],
   "metadata": {
    "collapsed": false
   }
  },
  {
   "cell_type": "markdown",
   "source": [
    "##  mord LogisticIT - Model Performance"
   ],
   "metadata": {
    "collapsed": false
   }
  },
  {
   "cell_type": "code",
   "execution_count": 17,
   "outputs": [
    {
     "name": "stdout",
     "output_type": "stream",
     "text": [
      "The model accuracy is: 47.4%\n",
      "The model f1 score is: 40.5%\n"
     ]
    }
   ],
   "source": [
    "print(f'The model accuracy is: {np.round(accuracy_score(y_test, y_pred), decimals=3)*100}%')\n",
    "print(f'The model f1 score is: {np.round(f1_score(y_test, y_pred, average=\"\"\"weighted\"\"\"), decimals=3)*100}%')"
   ],
   "metadata": {
    "collapsed": false
   }
  },
  {
   "cell_type": "code",
   "execution_count": 18,
   "outputs": [
    {
     "data": {
      "text/plain": "<Figure size 864x864 with 2 Axes>",
      "image/png": "[encoded data removed]"
     },
     "metadata": {
      "needs_background": "light"
     },
     "output_type": "display_data"
    }
   ],
   "source": [
    "cm = confusion_matrix(y_test, y_pred, labels=mord_pipeline.classes_)\n",
    "plt.figure(figsize=(12, 12))\n",
    "cmap = sns.color_palette(\"Oranges\",12)\n",
    "sns.heatmap(data=cm, cmap=\"RdBu_r\", xticklabels=mord_pipeline.classes_, yticklabels=mord_pipeline.classes_, fmt='g', annot=True)\n",
    "plt.show()"
   ],
   "metadata": {
    "collapsed": false
   }
  },
  {
   "cell_type": "markdown",
   "source": [
    "## Ordered probit model"
   ],
   "metadata": {
    "collapsed": false
   }
  },
  {
   "cell_type": "code",
   "execution_count": 19,
   "outputs": [
    {
     "name": "stdout",
     "output_type": "stream",
     "text": [
      "Optimization terminated successfully.\n",
      "         Current function value: 1.450201\n",
      "         Iterations: 117\n",
      "         Function evaluations: 124\n",
      "         Gradient evaluations: 124\n"
     ]
    },
    {
     "data": {
      "text/plain": "<class 'statsmodels.iolib.summary.Summary'>\n\"\"\"\n                             OrderedModel Results                             \n==============================================================================\nDep. Variable:                 target   Log-Likelihood:                -10075.\nModel:                   OrderedModel   AIC:                         2.018e+04\nMethod:            Maximum Likelihood   BIC:                         2.030e+04\nDate:                Thu, 06 Apr 2023                                         \nTime:                        16:51:12                                         \nNo. Observations:                6947                                         \nDf Residuals:                    6930                                         \nDf Model:                          17                                         \n========================================================================================\n                           coef    std err          z      P>|z|      [0.025      0.975]\n----------------------------------------------------------------------------------------\nfixed acidity            0.5033      0.027     18.630      0.000       0.450       0.556\nvolatile acidity        -1.0864      0.141     -7.689      0.000      -1.363      -0.809\ncitric acid              2.1161      0.158     13.369      0.000       1.806       2.426\nresidual sugar           0.2455      0.011     22.422      0.000       0.224       0.267\nchlorides               -2.3081      0.813     -2.839      0.005      -3.901      -0.715\nfree sulfur dioxide     -0.0067      0.001     -7.903      0.000      -0.008      -0.005\ntotal sulfur dioxide    -0.0002      0.000     -0.404      0.686      -0.001       0.001\ndensity               -520.0228     30.913    -16.822      0.000    -580.612    -459.434\npH                       4.4058      0.148     29.741      0.000       4.115       4.696\nsulphates                1.6349      0.143     11.400      0.000       1.354       1.916\nalcohol                 -0.0230      0.041     -0.565      0.572      -0.103       0.057\n3/4                   -498.1228     30.579    -16.290      0.000    -558.056    -438.190\n4/5                     -0.2978      0.025    -11.885      0.000      -0.347      -0.249\n5/6                     -1.2388      0.045    -27.610      0.000      -1.327      -1.151\n6/7                     -2.4930      0.090    -27.555      0.000      -2.670      -2.316\n7/8                     -0.5601      0.031    -18.166      0.000      -0.621      -0.500\n8/9                     -0.1190      0.025     -4.854      0.000      -0.167      -0.071\n========================================================================================\n\"\"\"",
      "text/html": "<table class=\"simpletable\">\n<caption>OrderedModel Results</caption>\n<tr>\n  <th>Dep. Variable:</th>          <td>target</td>       <th>  Log-Likelihood:    </th> <td> -10075.</td> \n</tr>\n<tr>\n  <th>Model:</th>               <td>OrderedModel</td>    <th>  AIC:               </th> <td>2.018e+04</td>\n</tr>\n<tr>\n  <th>Method:</th>           <td>Maximum Likelihood</td> <th>  BIC:               </th> <td>2.030e+04</td>\n</tr>\n<tr>\n  <th>Date:</th>              <td>Thu, 06 Apr 2023</td>  <th>                     </th>     <td> </td>    \n</tr>\n<tr>\n  <th>Time:</th>                  <td>16:51:12</td>      <th>                     </th>     <td> </td>    \n</tr>\n<tr>\n  <th>No. Observations:</th>       <td>  6947</td>       <th>                     </th>     <td> </td>    \n</tr>\n<tr>\n  <th>Df Residuals:</th>           <td>  6930</td>       <th>                     </th>     <td> </td>    \n</tr>\n<tr>\n  <th>Df Model:</th>               <td>    17</td>       <th>                     </th>     <td> </td>    \n</tr>\n</table>\n<table class=\"simpletable\">\n<tr>\n            <td></td>              <th>coef</th>     <th>std err</th>      <th>z</th>      <th>P>|z|</th>  <th>[0.025</th>    <th>0.975]</th>  \n</tr>\n<tr>\n  <th>fixed acidity</th>        <td>    0.5033</td> <td>    0.027</td> <td>   18.630</td> <td> 0.000</td> <td>    0.450</td> <td>    0.556</td>\n</tr>\n<tr>\n  <th>volatile acidity</th>     <td>   -1.0864</td> <td>    0.141</td> <td>   -7.689</td> <td> 0.000</td> <td>   -1.363</td> <td>   -0.809</td>\n</tr>\n<tr>\n  <th>citric acid</th>          <td>    2.1161</td> <td>    0.158</td> <td>   13.369</td> <td> 0.000</td> <td>    1.806</td> <td>    2.426</td>\n</tr>\n<tr>\n  <th>residual sugar</th>       <td>    0.2455</td> <td>    0.011</td> <td>   22.422</td> <td> 0.000</td> <td>    0.224</td> <td>    0.267</td>\n</tr>\n<tr>\n  <th>chlorides</th>            <td>   -2.3081</td> <td>    0.813</td> <td>   -2.839</td> <td> 0.005</td> <td>   -3.901</td> <td>   -0.715</td>\n</tr>\n<tr>\n  <th>free sulfur dioxide</th>  <td>   -0.0067</td> <td>    0.001</td> <td>   -7.903</td> <td> 0.000</td> <td>   -0.008</td> <td>   -0.005</td>\n</tr>\n<tr>\n  <th>total sulfur dioxide</th> <td>   -0.0002</td> <td>    0.000</td> <td>   -0.404</td> <td> 0.686</td> <td>   -0.001</td> <td>    0.001</td>\n</tr>\n<tr>\n  <th>density</th>              <td> -520.0228</td> <td>   30.913</td> <td>  -16.822</td> <td> 0.000</td> <td> -580.612</td> <td> -459.434</td>\n</tr>\n<tr>\n  <th>pH</th>                   <td>    4.4058</td> <td>    0.148</td> <td>   29.741</td> <td> 0.000</td> <td>    4.115</td> <td>    4.696</td>\n</tr>\n<tr>\n  <th>sulphates</th>            <td>    1.6349</td> <td>    0.143</td> <td>   11.400</td> <td> 0.000</td> <td>    1.354</td> <td>    1.916</td>\n</tr>\n<tr>\n  <th>alcohol</th>              <td>   -0.0230</td> <td>    0.041</td> <td>   -0.565</td> <td> 0.572</td> <td>   -0.103</td> <td>    0.057</td>\n</tr>\n<tr>\n  <th>3/4</th>                  <td> -498.1228</td> <td>   30.579</td> <td>  -16.290</td> <td> 0.000</td> <td> -558.056</td> <td> -438.190</td>\n</tr>\n<tr>\n  <th>4/5</th>                  <td>   -0.2978</td> <td>    0.025</td> <td>  -11.885</td> <td> 0.000</td> <td>   -0.347</td> <td>   -0.249</td>\n</tr>\n<tr>\n  <th>5/6</th>                  <td>   -1.2388</td> <td>    0.045</td> <td>  -27.610</td> <td> 0.000</td> <td>   -1.327</td> <td>   -1.151</td>\n</tr>\n<tr>\n  <th>6/7</th>                  <td>   -2.4930</td> <td>    0.090</td> <td>  -27.555</td> <td> 0.000</td> <td>   -2.670</td> <td>   -2.316</td>\n</tr>\n<tr>\n  <th>7/8</th>                  <td>   -0.5601</td> <td>    0.031</td> <td>  -18.166</td> <td> 0.000</td> <td>   -0.621</td> <td>   -0.500</td>\n</tr>\n<tr>\n  <th>8/9</th>                  <td>   -0.1190</td> <td>    0.025</td> <td>   -4.854</td> <td> 0.000</td> <td>   -0.167</td> <td>   -0.071</td>\n</tr>\n</table>"
     },
     "execution_count": 19,
     "metadata": {},
     "output_type": "execute_result"
    }
   ],
   "source": [
    "# Define ordered probit model taking the cut variable as our target and volume, price, and carat as independent variables.\n",
    "mod_probit = OrderedModel(y_train[list(y_train.columns)],\n",
    "                          x_train[list(x_train.columns)],\n",
    "                          distr='probit')\n",
    "\n",
    "res_probit = mod_probit.fit(method='bfgs')\n",
    "res_probit.summary()"
   ],
   "metadata": {
    "collapsed": false
   }
  },
  {
   "cell_type": "code",
   "execution_count": 20,
   "outputs": [
    {
     "data": {
      "text/plain": "array([[0.41874502, 0.28573694, 0.09141451, ..., 0.11216392, 0.06039662,\n        0.00892515],\n       [0.00244938, 0.0167218 , 0.01824763, ..., 0.08505486, 0.27550789,\n        0.59475818],\n       [0.36291611, 0.28946808, 0.09983286, ..., 0.13149907, 0.07778728,\n        0.01310321],\n       ...,\n       [0.0021804 , 0.01531911, 0.01698275, ..., 0.08075809, 0.26885043,\n        0.60910844],\n       [0.05503529, 0.1411197 , 0.08963775, ..., 0.22056859, 0.30035482,\n        0.16454759],\n       [0.00924672, 0.04410954, 0.03949003, ..., 0.14420333, 0.33482401,\n        0.41362631]])"
     },
     "execution_count": 20,
     "metadata": {},
     "output_type": "execute_result"
    }
   ],
   "source": [
    "# Prediction\n",
    "predicted = res_probit.model.predict(res_probit.params, exog=x_test[list(x_train.columns)])\n",
    "predicted"
   ],
   "metadata": {
    "collapsed": false
   }
  },
  {
   "cell_type": "code",
   "execution_count": 21,
   "outputs": [
    {
     "data": {
      "text/plain": "      target\n0          3\n1          9\n2          3\n3          4\n4          8\n...      ...\n1732       3\n1733       8\n1734       9\n1735       8\n1736       9\n\n[1737 rows x 1 columns]",
      "text/html": "<div>\n<style scoped>\n    .dataframe tbody tr th:only-of-type {\n        vertical-align: middle;\n    }\n\n    .dataframe tbody tr th {\n        vertical-align: top;\n    }\n\n    .dataframe thead th {\n        text-align: right;\n    }\n</style>\n<table border=\"1\" class=\"dataframe\">\n  <thead>\n    <tr style=\"text-align: right;\">\n      <th></th>\n      <th>target</th>\n    </tr>\n  </thead>\n  <tbody>\n    <tr>\n      <th>0</th>\n      <td>3</td>\n    </tr>\n    <tr>\n      <th>1</th>\n      <td>9</td>\n    </tr>\n    <tr>\n      <th>2</th>\n      <td>3</td>\n    </tr>\n    <tr>\n      <th>3</th>\n      <td>4</td>\n    </tr>\n    <tr>\n      <th>4</th>\n      <td>8</td>\n    </tr>\n    <tr>\n      <th>...</th>\n      <td>...</td>\n    </tr>\n    <tr>\n      <th>1732</th>\n      <td>3</td>\n    </tr>\n    <tr>\n      <th>1733</th>\n      <td>8</td>\n    </tr>\n    <tr>\n      <th>1734</th>\n      <td>9</td>\n    </tr>\n    <tr>\n      <th>1735</th>\n      <td>8</td>\n    </tr>\n    <tr>\n      <th>1736</th>\n      <td>9</td>\n    </tr>\n  </tbody>\n</table>\n<p>1737 rows × 1 columns</p>\n</div>"
     },
     "execution_count": 21,
     "metadata": {},
     "output_type": "execute_result"
    }
   ],
   "source": [
    "y_pred = predicted.argmax(axis=1)\n",
    "y_pred = pd.DataFrame(y_pred,columns=['target'])\n",
    "target_map = {0:3, 1:4, 2:5, 3:6, 4:7, 5:8, 6:9}\n",
    "y_pred['target'] = y_pred['target'].map(target_map)\n",
    "y_pred"
   ],
   "metadata": {
    "collapsed": false
   }
  },
  {
   "cell_type": "markdown",
   "source": [
    "## Ordered probit - Model Performance"
   ],
   "metadata": {
    "collapsed": false
   }
  },
  {
   "cell_type": "code",
   "execution_count": 22,
   "outputs": [
    {
     "name": "stdout",
     "output_type": "stream",
     "text": [
      "The model accuracy is: 43.5%\n",
      "The model f1 score is: 38.0%\n"
     ]
    }
   ],
   "source": [
    "print(f'The model accuracy is: {np.round(accuracy_score(y_test, y_pred), decimals=3)*100}%')\n",
    "print(f'The model f1 score is: {np.round(f1_score(y_test, y_pred, average=\"\"\"weighted\"\"\"), decimals=3)*100}%')"
   ],
   "metadata": {
    "collapsed": false
   }
  },
  {
   "cell_type": "code",
   "execution_count": 23,
   "outputs": [
    {
     "data": {
      "text/plain": "<Figure size 864x864 with 2 Axes>",
      "image/png": "[encoded data removed]"
     },
     "metadata": {
      "needs_background": "light"
     },
     "output_type": "display_data"
    }
   ],
   "source": [
    "cm = confusion_matrix(y_test, y_pred)\n",
    "plt.figure(figsize=(12, 12))\n",
    "cmap = sns.color_palette(\"Oranges\",12)\n",
    "sns.heatmap(data=cm, cmap=\"RdBu_r\", fmt='g', annot=True)\n",
    "plt.show()"
   ],
   "metadata": {
    "collapsed": false
   }
  },
  {
   "cell_type": "markdown",
   "source": [
    "## Model Selection"
   ],
   "metadata": {
    "collapsed": false
   }
  },
  {
   "cell_type": "markdown",
   "source": [
    "As shown from the models performance,  Multinomial Logistic Regression is the best model"
   ],
   "metadata": {
    "collapsed": false
   }
  },
  {
   "cell_type": "markdown",
   "source": [
    "## Save the mode"
   ],
   "metadata": {
    "collapsed": false
   }
  },
  {
   "cell_type": "code",
   "execution_count": 25,
   "outputs": [],
   "source": [
    "# Save the best model in PMML format\n",
    "sklearn2pmml(mnlr_pipeline, \"../../../data/OrdinalLogisticRegression.pmml\")"
   ],
   "metadata": {
    "collapsed": false
   }
  },
  {
   "cell_type": "code",
   "execution_count": null,
   "outputs": [],
   "source": [],
   "metadata": {
    "collapsed": false
   }
  }
 ],
 "metadata": {
  "kernelspec": {
   "display_name": "Python 3",
   "language": "python",
   "name": "python3"
  },
  "language_info": {
   "codemirror_mode": {
    "name": "ipython",
    "version": 2
   },
   "file_extension": ".py",
   "mimetype": "text/x-python",
   "name": "python",
   "nbconvert_exporter": "python",
   "pygments_lexer": "ipython2",
   "version": "2.7.6"
  }
 },
 "nbformat": 4,
 "nbformat_minor": 0
}
