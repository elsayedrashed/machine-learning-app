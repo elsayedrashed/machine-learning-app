{
 "cells": [
  {
   "cell_type": "markdown",
   "source": [
    "## SkLearn2PMML\n",
    "### Python package for converting Scikit-Learn pipelines to PMML\n",
    "### https://github.com/jpmml/sklearn2pmml"
   ],
   "metadata": {
    "collapsed": false
   }
  },
  {
   "cell_type": "code",
   "execution_count": 1,
   "outputs": [],
   "source": [
    "import numpy as np\n",
    "import pandas as pd\n",
    "from sklearn_pandas import DataFrameMapper\n",
    "from sklearn.linear_model import LogisticRegression\n",
    "from sklearn.preprocessing import OneHotEncoder, PolynomialFeatures, StandardScaler\n",
    "from sklearn2pmml import sklearn2pmml\n",
    "from sklearn2pmml.decoration import CategoricalDomain, ContinuousDomain, MultiDomain\n",
    "from sklearn2pmml.pipeline import PMMLPipeline\n",
    "from sklearn2pmml.preprocessing import ExpressionTransformer, LookupTransformer"
   ],
   "metadata": {
    "collapsed": false
   }
  },
  {
   "cell_type": "code",
   "execution_count": 2,
   "outputs": [],
   "source": [
    "df = pd.read_csv(\"../../data/audit.csv\")\n",
    "\n",
    "cat_columns = [\"Education\", \"Employment\", \"Gender\", \"Marital\", \"Occupation\"]\n",
    "cont_columns = [\"Age\", \"Hours\", \"Income\"]\n",
    "\n",
    "df_X = df[cat_columns + cont_columns]\n",
    "df_y = df[\"Adjusted\"]"
   ],
   "metadata": {
    "collapsed": false
   }
  },
  {
   "cell_type": "code",
   "execution_count": 3,
   "outputs": [
    {
     "data": {
      "text/plain": "   Education Employment  Gender    Marital Occupation  Age  Hours     Income\n0    College    Private  Female  Unmarried    Service   38     72   81838.00\n1  Associate    Private    Male     Absent  Transport   35     30   72099.00\n2     HSgrad    Private    Male   Divorced   Clerical   32     40  154676.74\n3   Bachelor    Private    Male    Married     Repair   45     55   27743.82\n4    College    Private    Male    Married  Executive   60     40    7568.23\n5     HSgrad    Private    Male    Married    Service   74     30   33144.40\n6   Bachelor    Private    Male    Married  Executive   43     50   43391.17\n7       Yr12    Private    Male    Married  Machinist   35     40   59906.65\n8  Associate    Private  Female   Divorced   Clerical   25     40  126888.91\n9     HSgrad    Private  Female     Absent      Sales   22     37   52466.49",
      "text/html": "<div>\n<style scoped>\n    .dataframe tbody tr th:only-of-type {\n        vertical-align: middle;\n    }\n\n    .dataframe tbody tr th {\n        vertical-align: top;\n    }\n\n    .dataframe thead th {\n        text-align: right;\n    }\n</style>\n<table border=\"1\" class=\"dataframe\">\n  <thead>\n    <tr style=\"text-align: right;\">\n      <th></th>\n      <th>Education</th>\n      <th>Employment</th>\n      <th>Gender</th>\n      <th>Marital</th>\n      <th>Occupation</th>\n      <th>Age</th>\n      <th>Hours</th>\n      <th>Income</th>\n    </tr>\n  </thead>\n  <tbody>\n    <tr>\n      <th>0</th>\n      <td>College</td>\n      <td>Private</td>\n      <td>Female</td>\n      <td>Unmarried</td>\n      <td>Service</td>\n      <td>38</td>\n      <td>72</td>\n      <td>81838.00</td>\n    </tr>\n    <tr>\n      <th>1</th>\n      <td>Associate</td>\n      <td>Private</td>\n      <td>Male</td>\n      <td>Absent</td>\n      <td>Transport</td>\n      <td>35</td>\n      <td>30</td>\n      <td>72099.00</td>\n    </tr>\n    <tr>\n      <th>2</th>\n      <td>HSgrad</td>\n      <td>Private</td>\n      <td>Male</td>\n      <td>Divorced</td>\n      <td>Clerical</td>\n      <td>32</td>\n      <td>40</td>\n      <td>154676.74</td>\n    </tr>\n    <tr>\n      <th>3</th>\n      <td>Bachelor</td>\n      <td>Private</td>\n      <td>Male</td>\n      <td>Married</td>\n      <td>Repair</td>\n      <td>45</td>\n      <td>55</td>\n      <td>27743.82</td>\n    </tr>\n    <tr>\n      <th>4</th>\n      <td>College</td>\n      <td>Private</td>\n      <td>Male</td>\n      <td>Married</td>\n      <td>Executive</td>\n      <td>60</td>\n      <td>40</td>\n      <td>7568.23</td>\n    </tr>\n    <tr>\n      <th>5</th>\n      <td>HSgrad</td>\n      <td>Private</td>\n      <td>Male</td>\n      <td>Married</td>\n      <td>Service</td>\n      <td>74</td>\n      <td>30</td>\n      <td>33144.40</td>\n    </tr>\n    <tr>\n      <th>6</th>\n      <td>Bachelor</td>\n      <td>Private</td>\n      <td>Male</td>\n      <td>Married</td>\n      <td>Executive</td>\n      <td>43</td>\n      <td>50</td>\n      <td>43391.17</td>\n    </tr>\n    <tr>\n      <th>7</th>\n      <td>Yr12</td>\n      <td>Private</td>\n      <td>Male</td>\n      <td>Married</td>\n      <td>Machinist</td>\n      <td>35</td>\n      <td>40</td>\n      <td>59906.65</td>\n    </tr>\n    <tr>\n      <th>8</th>\n      <td>Associate</td>\n      <td>Private</td>\n      <td>Female</td>\n      <td>Divorced</td>\n      <td>Clerical</td>\n      <td>25</td>\n      <td>40</td>\n      <td>126888.91</td>\n    </tr>\n    <tr>\n      <th>9</th>\n      <td>HSgrad</td>\n      <td>Private</td>\n      <td>Female</td>\n      <td>Absent</td>\n      <td>Sales</td>\n      <td>22</td>\n      <td>37</td>\n      <td>52466.49</td>\n    </tr>\n  </tbody>\n</table>\n</div>"
     },
     "execution_count": 3,
     "metadata": {},
     "output_type": "execute_result"
    }
   ],
   "source": [
    "df_X.head(10)"
   ],
   "metadata": {
    "collapsed": false
   }
  },
  {
   "cell_type": "code",
   "execution_count": 4,
   "outputs": [
    {
     "data": {
      "text/plain": "0    0\n1    0\n2    0\n3    1\n4    1\n5    0\n6    1\n7    0\n8    0\n9    0\nName: Adjusted, dtype: int64"
     },
     "execution_count": 4,
     "metadata": {},
     "output_type": "execute_result"
    }
   ],
   "source": [
    "df_y.head(10)"
   ],
   "metadata": {
    "collapsed": false
   }
  },
  {
   "cell_type": "code",
   "execution_count": 5,
   "outputs": [],
   "source": [
    "employment_mapping = {\n",
    "    \"Consultant\" : \"Private\",\n",
    "    \"Private\" : \"Private\",\n",
    "    \"PSFederal\" : \"Public\",\n",
    "    \"PSLocal\" : \"Public\",\n",
    "    \"PSState\" : \"Public\",\n",
    "    \"SelfEmp\" : \"Private\",\n",
    "    \"Volunteer\" : \"Other\"\n",
    "}\n",
    "\n",
    "mapper = DataFrameMapper([\n",
    "    ([\"Income\"], [ContinuousDomain(), ExpressionTransformer(\"numpy.log(X[0])\", dtype = np.float64)]),\n",
    "    ([\"Employment\"], [CategoricalDomain(), LookupTransformer(employment_mapping, default_value = None), OneHotEncoder(drop = \"first\")]),\n",
    "    ([\"Gender\", \"Marital\"], [MultiDomain([CategoricalDomain(), CategoricalDomain()]), OneHotEncoder(), PolynomialFeatures(degree = 2, interaction_only = True, include_bias = False)]),\n",
    "    ([\"Age\", \"Hours\"], [ContinuousDomain(), StandardScaler()]),\n",
    "    ([\"Education\"], [CategoricalDomain(), OneHotEncoder(drop = \"first\")]),\n",
    "    ([\"Occupation\"], [CategoricalDomain(), OneHotEncoder(drop = \"first\")])\n",
    "])"
   ],
   "metadata": {
    "collapsed": false
   }
  },
  {
   "cell_type": "code",
   "execution_count": 6,
   "outputs": [],
   "source": [
    "pipeline = PMMLPipeline([\n",
    "    (\"mapper\", mapper),\n",
    "    (\"classifier\", LogisticRegression(multi_class = \"ovr\", max_iter = 1000))\n",
    "])\n",
    "\n",
    "pipeline.fit(df_X, df_y)\n",
    "pipeline.verify(df_X.sample(n = 10))"
   ],
   "metadata": {
    "collapsed": false
   }
  },
  {
   "cell_type": "code",
   "execution_count": 7,
   "outputs": [],
   "source": [
    "sklearn2pmml(pipeline, \"../../data/SkLearnAudit.pmml\")"
   ],
   "metadata": {
    "collapsed": false
   }
  },
  {
   "cell_type": "markdown",
   "source": [
    "### Model REST Scoring"
   ],
   "metadata": {
    "collapsed": false
   }
  },
  {
   "cell_type": "code",
   "execution_count": 16,
   "outputs": [],
   "source": [
    "from openscoring import Openscoring\n",
    "from openscoring import EvaluationRequest\n",
    "\n",
    "# Creating an Openscoring object\n",
    "# Openscoring server have to be running on base-url\n",
    "os = Openscoring(base_url = \"http://localhost:8080\", token=\"secret\")"
   ],
   "metadata": {
    "collapsed": false
   }
  },
  {
   "cell_type": "code",
   "execution_count": 17,
   "outputs": [
    {
     "data": {
      "text/plain": "<openscoring.common.ModelResponse at 0x13b4f3190>"
     },
     "execution_count": 17,
     "metadata": {},
     "output_type": "execute_result"
    }
   ],
   "source": [
    "# Deploying a PMML model:\n",
    "os.deployFile(\"SkLearnAudit\", \"../../data/SkLearnAudit.pmml\")"
   ],
   "metadata": {
    "collapsed": false
   }
  },
  {
   "cell_type": "code",
   "execution_count": 18,
   "outputs": [
    {
     "name": "stdout",
     "output_type": "stream",
     "text": [
      "   Adjusted  probability(0)  probability(1)\n",
      "0         0        0.945702        0.054298\n",
      "1         0        0.974710        0.025290\n",
      "2         0        0.947192        0.052808\n",
      "3         1        0.362751        0.637249\n",
      "4         1        0.376199        0.623801\n"
     ]
    }
   ],
   "source": [
    "# Evaluating the model with data records from DataFrame\n",
    "dfResponse = os.evaluateCsv(\"SkLearnAudit\", df_X)\n",
    "print(dfResponse.head(5))"
   ],
   "metadata": {
    "collapsed": false
   }
  },
  {
   "cell_type": "code",
   "execution_count": null,
   "outputs": [],
   "source": [],
   "metadata": {
    "collapsed": false
   }
  }
 ],
 "metadata": {
  "kernelspec": {
   "display_name": "Python 3",
   "language": "python",
   "name": "python3"
  },
  "language_info": {
   "codemirror_mode": {
    "name": "ipython",
    "version": 2
   },
   "file_extension": ".py",
   "mimetype": "text/x-python",
   "name": "python",
   "nbconvert_exporter": "python",
   "pygments_lexer": "ipython2",
   "version": "2.7.6"
  }
 },
 "nbformat": 4,
 "nbformat_minor": 0
}
