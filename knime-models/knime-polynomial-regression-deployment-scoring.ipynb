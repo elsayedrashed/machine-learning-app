{
 "cells": [
  {
   "cell_type": "markdown",
   "source": [
    "## Deploying and Scoring KNIME Polynomial Regression Model"
   ],
   "metadata": {
    "collapsed": false
   }
  },
  {
   "cell_type": "code",
   "execution_count": 1,
   "outputs": [],
   "source": [
    "import numpy as np\n",
    "import pandas as pd\n",
    "\n",
    "# Features Scaling\n",
    "from sklearn.preprocessing import MinMaxScaler\n",
    "# Script Serving\n",
    "from jpmml_evaluator import make_evaluator\n",
    "from jpmml_evaluator.py4j import Py4JBackend\n",
    "# REST Serving\n",
    "from openscoring import Openscoring\n",
    "# Performance Metrics\n",
    "from sklearn.metrics import r2_score\n",
    "from sklearn.metrics import mean_squared_error"
   ],
   "metadata": {
    "collapsed": false,
    "ExecuteTime": {
     "start_time": "2023-04-15T23:51:30.450698Z",
     "end_time": "2023-04-15T23:51:32.053392Z"
    }
   }
  },
  {
   "cell_type": "markdown",
   "source": [
    "## Loading Data"
   ],
   "metadata": {
    "collapsed": false
   }
  },
  {
   "cell_type": "code",
   "execution_count": 2,
   "outputs": [],
   "source": [
    "# Load Data\n",
    "df = pd.read_csv(\"../data/california_housing.csv\")\n",
    "df_sample = df.sample(10)"
   ],
   "metadata": {
    "collapsed": false,
    "ExecuteTime": {
     "start_time": "2023-04-15T23:51:35.290707Z",
     "end_time": "2023-04-15T23:51:35.324188Z"
    }
   }
  },
  {
   "cell_type": "code",
   "execution_count": 3,
   "outputs": [
    {
     "data": {
      "text/plain": "     MedInc  HouseAge  AveRooms  AveBedrms  Population  AveOccup  Latitude  \\\n0  1.000000  0.585366  0.686250   0.274889    0.126798  0.188338  0.683748   \n1  0.148470  0.804878  0.037410   0.375060    0.323336  1.000000  0.210835   \n2  0.660123  0.000000  1.000000   1.000000    1.000000  0.616763  0.291362   \n3  0.282862  0.585366  0.739437   0.671483    0.007071  0.076515  0.622255   \n4  0.000000  0.439024  0.715830   0.621014    0.017557  0.271898  1.000000   \n5  0.069692  0.195122  0.000000   0.167054    0.000244  0.364034  0.000000   \n6  0.105449  0.926829  0.394389   0.057741    0.009022  0.016021  0.787701   \n7  0.677707  1.000000  0.633398   0.182150    0.000000  0.000000  0.761347   \n8  0.366380  0.634146  0.301488   0.977267    0.208486  0.626243  0.193265   \n9  0.513083  0.707317  0.540186   0.000000    0.301634  0.284320  0.226940   \n\n   Longitude     PRICE  \n0   0.058939  1.000000  \n1   0.795678  0.511050  \n2   0.807466  0.461326  \n3   0.493124  0.107735  \n4   0.096267  0.000000  \n5   1.000000  0.403867  \n6   0.170923  0.115470  \n7   0.000000  0.575138  \n8   0.764244  0.747514  \n9   0.848723  0.696685  ",
      "text/html": "<div>\n<style scoped>\n    .dataframe tbody tr th:only-of-type {\n        vertical-align: middle;\n    }\n\n    .dataframe tbody tr th {\n        vertical-align: top;\n    }\n\n    .dataframe thead th {\n        text-align: right;\n    }\n</style>\n<table border=\"1\" class=\"dataframe\">\n  <thead>\n    <tr style=\"text-align: right;\">\n      <th></th>\n      <th>MedInc</th>\n      <th>HouseAge</th>\n      <th>AveRooms</th>\n      <th>AveBedrms</th>\n      <th>Population</th>\n      <th>AveOccup</th>\n      <th>Latitude</th>\n      <th>Longitude</th>\n      <th>PRICE</th>\n    </tr>\n  </thead>\n  <tbody>\n    <tr>\n      <th>0</th>\n      <td>1.000000</td>\n      <td>0.585366</td>\n      <td>0.686250</td>\n      <td>0.274889</td>\n      <td>0.126798</td>\n      <td>0.188338</td>\n      <td>0.683748</td>\n      <td>0.058939</td>\n      <td>1.000000</td>\n    </tr>\n    <tr>\n      <th>1</th>\n      <td>0.148470</td>\n      <td>0.804878</td>\n      <td>0.037410</td>\n      <td>0.375060</td>\n      <td>0.323336</td>\n      <td>1.000000</td>\n      <td>0.210835</td>\n      <td>0.795678</td>\n      <td>0.511050</td>\n    </tr>\n    <tr>\n      <th>2</th>\n      <td>0.660123</td>\n      <td>0.000000</td>\n      <td>1.000000</td>\n      <td>1.000000</td>\n      <td>1.000000</td>\n      <td>0.616763</td>\n      <td>0.291362</td>\n      <td>0.807466</td>\n      <td>0.461326</td>\n    </tr>\n    <tr>\n      <th>3</th>\n      <td>0.282862</td>\n      <td>0.585366</td>\n      <td>0.739437</td>\n      <td>0.671483</td>\n      <td>0.007071</td>\n      <td>0.076515</td>\n      <td>0.622255</td>\n      <td>0.493124</td>\n      <td>0.107735</td>\n    </tr>\n    <tr>\n      <th>4</th>\n      <td>0.000000</td>\n      <td>0.439024</td>\n      <td>0.715830</td>\n      <td>0.621014</td>\n      <td>0.017557</td>\n      <td>0.271898</td>\n      <td>1.000000</td>\n      <td>0.096267</td>\n      <td>0.000000</td>\n    </tr>\n    <tr>\n      <th>5</th>\n      <td>0.069692</td>\n      <td>0.195122</td>\n      <td>0.000000</td>\n      <td>0.167054</td>\n      <td>0.000244</td>\n      <td>0.364034</td>\n      <td>0.000000</td>\n      <td>1.000000</td>\n      <td>0.403867</td>\n    </tr>\n    <tr>\n      <th>6</th>\n      <td>0.105449</td>\n      <td>0.926829</td>\n      <td>0.394389</td>\n      <td>0.057741</td>\n      <td>0.009022</td>\n      <td>0.016021</td>\n      <td>0.787701</td>\n      <td>0.170923</td>\n      <td>0.115470</td>\n    </tr>\n    <tr>\n      <th>7</th>\n      <td>0.677707</td>\n      <td>1.000000</td>\n      <td>0.633398</td>\n      <td>0.182150</td>\n      <td>0.000000</td>\n      <td>0.000000</td>\n      <td>0.761347</td>\n      <td>0.000000</td>\n      <td>0.575138</td>\n    </tr>\n    <tr>\n      <th>8</th>\n      <td>0.366380</td>\n      <td>0.634146</td>\n      <td>0.301488</td>\n      <td>0.977267</td>\n      <td>0.208486</td>\n      <td>0.626243</td>\n      <td>0.193265</td>\n      <td>0.764244</td>\n      <td>0.747514</td>\n    </tr>\n    <tr>\n      <th>9</th>\n      <td>0.513083</td>\n      <td>0.707317</td>\n      <td>0.540186</td>\n      <td>0.000000</td>\n      <td>0.301634</td>\n      <td>0.284320</td>\n      <td>0.226940</td>\n      <td>0.848723</td>\n      <td>0.696685</td>\n    </tr>\n  </tbody>\n</table>\n</div>"
     },
     "execution_count": 3,
     "metadata": {},
     "output_type": "execute_result"
    }
   ],
   "source": [
    "# Sacle Data\n",
    "mms = MinMaxScaler(feature_range=(0, 1))\n",
    "np_scale = mms.fit_transform(df_sample)\n",
    "df_scale = pd.DataFrame(np_scale, columns=df_sample.columns)\n",
    "df_scale"
   ],
   "metadata": {
    "collapsed": false,
    "ExecuteTime": {
     "start_time": "2023-04-15T23:51:39.583539Z",
     "end_time": "2023-04-15T23:51:39.620071Z"
    }
   }
  },
  {
   "cell_type": "code",
   "execution_count": 4,
   "outputs": [],
   "source": [
    "X = df_scale.drop('PRICE', axis=1)\n",
    "y = df_scale[['PRICE']]"
   ],
   "metadata": {
    "collapsed": false,
    "ExecuteTime": {
     "start_time": "2023-04-15T23:51:44.020618Z",
     "end_time": "2023-04-15T23:51:44.038447Z"
    }
   }
  },
  {
   "cell_type": "markdown",
   "source": [
    "## Model Script Serving"
   ],
   "metadata": {
    "collapsed": false
   }
  },
  {
   "cell_type": "code",
   "execution_count": 5,
   "outputs": [
    {
     "data": {
      "text/plain": "<jpmml_evaluator.Evaluator at 0x1359e1060>"
     },
     "execution_count": 5,
     "metadata": {},
     "output_type": "execute_result"
    }
   ],
   "source": [
    "# Load PMML model\n",
    "evaluator = make_evaluator(backend=Py4JBackend(), path=\"../data/ridge-regression-knime.pmml\")\n",
    "# Perform automated QA\n",
    "evaluator.verify()"
   ],
   "metadata": {
    "collapsed": false,
    "ExecuteTime": {
     "start_time": "2023-04-15T23:51:49.058909Z",
     "end_time": "2023-04-15T23:51:49.985938Z"
    }
   }
  },
  {
   "cell_type": "code",
   "execution_count": 6,
   "outputs": [
    {
     "data": {
      "text/plain": "      PRICE\n0  0.808301\n1  0.352557\n2  0.483515\n3  0.316132\n4 -0.066234\n5  0.246622\n6  0.182825\n7  0.664020\n8  0.388177\n9  0.478649",
      "text/html": "<div>\n<style scoped>\n    .dataframe tbody tr th:only-of-type {\n        vertical-align: middle;\n    }\n\n    .dataframe tbody tr th {\n        vertical-align: top;\n    }\n\n    .dataframe thead th {\n        text-align: right;\n    }\n</style>\n<table border=\"1\" class=\"dataframe\">\n  <thead>\n    <tr style=\"text-align: right;\">\n      <th></th>\n      <th>PRICE</th>\n    </tr>\n  </thead>\n  <tbody>\n    <tr>\n      <th>0</th>\n      <td>0.808301</td>\n    </tr>\n    <tr>\n      <th>1</th>\n      <td>0.352557</td>\n    </tr>\n    <tr>\n      <th>2</th>\n      <td>0.483515</td>\n    </tr>\n    <tr>\n      <th>3</th>\n      <td>0.316132</td>\n    </tr>\n    <tr>\n      <th>4</th>\n      <td>-0.066234</td>\n    </tr>\n    <tr>\n      <th>5</th>\n      <td>0.246622</td>\n    </tr>\n    <tr>\n      <th>6</th>\n      <td>0.182825</td>\n    </tr>\n    <tr>\n      <th>7</th>\n      <td>0.664020</td>\n    </tr>\n    <tr>\n      <th>8</th>\n      <td>0.388177</td>\n    </tr>\n    <tr>\n      <th>9</th>\n      <td>0.478649</td>\n    </tr>\n  </tbody>\n</table>\n</div>"
     },
     "execution_count": 6,
     "metadata": {},
     "output_type": "execute_result"
    }
   ],
   "source": [
    "# Model Serving\n",
    "y_pred = evaluator.evaluateAll(X)\n",
    "y_pred.head(10)"
   ],
   "metadata": {
    "collapsed": false,
    "ExecuteTime": {
     "start_time": "2023-04-15T23:51:51.137125Z",
     "end_time": "2023-04-15T23:51:51.215073Z"
    }
   }
  },
  {
   "cell_type": "code",
   "execution_count": 7,
   "outputs": [
    {
     "name": "stdout",
     "output_type": "stream",
     "text": [
      "R-Squared: 64.1%\n",
      "MSE: 3.2%\n"
     ]
    }
   ],
   "source": [
    "# Model Performance\n",
    "print(f'R-Squared: {np.round(r2_score(y, y_pred), decimals=3)*100}%')\n",
    "print(f'MSE: {np.round(mean_squared_error(y, y_pred), decimals=3)*100}%')"
   ],
   "metadata": {
    "collapsed": false,
    "ExecuteTime": {
     "start_time": "2023-04-15T23:52:00.673434Z",
     "end_time": "2023-04-15T23:52:00.676711Z"
    }
   }
  },
  {
   "cell_type": "markdown",
   "source": [
    "## Model REST Serving"
   ],
   "metadata": {
    "collapsed": false
   }
  },
  {
   "cell_type": "code",
   "execution_count": 8,
   "outputs": [],
   "source": [
    "# Creating an Openscoring object\n",
    "# Openscoring server have to be running on base-url\n",
    "os = Openscoring(base_url = \"http://localhost:8080\", token=\"secret\")"
   ],
   "metadata": {
    "collapsed": false,
    "ExecuteTime": {
     "start_time": "2023-04-15T23:52:03.370209Z",
     "end_time": "2023-04-15T23:52:03.376753Z"
    }
   }
  },
  {
   "cell_type": "code",
   "execution_count": 9,
   "outputs": [
    {
     "data": {
      "text/plain": "<openscoring.common.ModelResponse at 0x135953640>"
     },
     "execution_count": 9,
     "metadata": {},
     "output_type": "execute_result"
    }
   ],
   "source": [
    "# Deploying a PMML model:\n",
    "model_name = 'ridge-regression-knime'\n",
    "os.deployFile(model_name, \"../data/ridge-regression-knime.pmml\")"
   ],
   "metadata": {
    "collapsed": false,
    "ExecuteTime": {
     "start_time": "2023-04-15T23:52:04.195718Z",
     "end_time": "2023-04-15T23:52:04.228460Z"
    }
   }
  },
  {
   "cell_type": "code",
   "execution_count": 10,
   "outputs": [
    {
     "name": "stdout",
     "output_type": "stream",
     "text": [
      "      PRICE\n",
      "0  0.808301\n",
      "1  0.352557\n",
      "2  0.483515\n",
      "3  0.316132\n",
      "4 -0.066234\n",
      "5  0.246622\n",
      "6  0.182825\n",
      "7  0.664020\n",
      "8  0.388177\n",
      "9  0.478649\n"
     ]
    }
   ],
   "source": [
    "# Model serving with data records from DataFrame\n",
    "dfResponse = os.evaluateCsv(model_name, X)\n",
    "print(dfResponse.head(10))"
   ],
   "metadata": {
    "collapsed": false,
    "ExecuteTime": {
     "start_time": "2023-04-15T23:52:05.512133Z",
     "end_time": "2023-04-15T23:52:05.541609Z"
    }
   }
  },
  {
   "cell_type": "code",
   "execution_count": 11,
   "outputs": [
    {
     "name": "stdout",
     "output_type": "stream",
     "text": [
      "R-Squared: 64.1%\n",
      "MSE: 3.2%\n"
     ]
    }
   ],
   "source": [
    "# Model Performance\n",
    "print(f'R-Squared: {np.round(r2_score(y, dfResponse), decimals=3)*100}%')\n",
    "print(f'MSE: {np.round(mean_squared_error(y, dfResponse), decimals=3)*100}%')"
   ],
   "metadata": {
    "collapsed": false,
    "ExecuteTime": {
     "start_time": "2023-04-15T23:52:06.731270Z",
     "end_time": "2023-04-15T23:52:06.733646Z"
    }
   }
  },
  {
   "cell_type": "code",
   "execution_count": null,
   "outputs": [],
   "source": [],
   "metadata": {
    "collapsed": false
   }
  }
 ],
 "metadata": {
  "kernelspec": {
   "display_name": "Python 3",
   "language": "python",
   "name": "python3"
  },
  "language_info": {
   "codemirror_mode": {
    "name": "ipython",
    "version": 2
   },
   "file_extension": ".py",
   "mimetype": "text/x-python",
   "name": "python",
   "nbconvert_exporter": "python",
   "pygments_lexer": "ipython2",
   "version": "2.7.6"
  }
 },
 "nbformat": 4,
 "nbformat_minor": 0
}
