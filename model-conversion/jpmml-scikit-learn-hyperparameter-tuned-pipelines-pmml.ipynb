{
 "cells": [
  {
   "cell_type": "markdown",
   "source": [
    "##  Converting Scikit-Learn hyperparameter-tuned pipelines to PMML\n",
    "### https://openscoring.io/blog/2019/12/25/converting_sklearn_gridsearchcv_pipeline_pmml/"
   ],
   "metadata": {
    "collapsed": false
   }
  },
  {
   "cell_type": "code",
   "execution_count": 7,
   "outputs": [],
   "source": [
    "import pandas as pd\n",
    "from sklearn_pandas import DataFrameMapper\n",
    "from sklearn.feature_selection import SelectKBest\n",
    "from sklearn.linear_model import LogisticRegression\n",
    "from sklearn.model_selection import GridSearchCV\n",
    "from sklearn.preprocessing import LabelBinarizer, StandardScaler\n",
    "from sklearn2pmml import sklearn2pmml\n",
    "from sklearn2pmml.decoration import CategoricalDomain, ContinuousDomain\n",
    "from sklearn2pmml.pipeline import PMMLPipeline"
   ],
   "metadata": {
    "collapsed": false
   }
  },
  {
   "cell_type": "code",
   "execution_count": 8,
   "outputs": [
    {
     "data": {
      "text/plain": "   Age Employment  Education    Marital Occupation     Income  Gender  \\\n0   38    Private    College  Unmarried    Service   81838.00  Female   \n1   35    Private  Associate     Absent  Transport   72099.00    Male   \n2   32    Private     HSgrad   Divorced   Clerical  154676.74    Male   \n3   45    Private   Bachelor    Married     Repair   27743.82    Male   \n4   60    Private    College    Married  Executive    7568.23    Male   \n5   74    Private     HSgrad    Married    Service   33144.40    Male   \n6   43    Private   Bachelor    Married  Executive   43391.17    Male   \n7   35    Private       Yr12    Married  Machinist   59906.65    Male   \n8   25    Private  Associate   Divorced   Clerical  126888.91  Female   \n9   22    Private     HSgrad     Absent      Sales   52466.49  Female   \n\n   Deductions  Hours  Adjusted  \n0       False     72         0  \n1       False     30         0  \n2       False     40         0  \n3       False     55         1  \n4       False     40         1  \n5       False     30         0  \n6       False     50         1  \n7       False     40         0  \n8       False     40         0  \n9       False     37         0  ",
      "text/html": "<div>\n<style scoped>\n    .dataframe tbody tr th:only-of-type {\n        vertical-align: middle;\n    }\n\n    .dataframe tbody tr th {\n        vertical-align: top;\n    }\n\n    .dataframe thead th {\n        text-align: right;\n    }\n</style>\n<table border=\"1\" class=\"dataframe\">\n  <thead>\n    <tr style=\"text-align: right;\">\n      <th></th>\n      <th>Age</th>\n      <th>Employment</th>\n      <th>Education</th>\n      <th>Marital</th>\n      <th>Occupation</th>\n      <th>Income</th>\n      <th>Gender</th>\n      <th>Deductions</th>\n      <th>Hours</th>\n      <th>Adjusted</th>\n    </tr>\n  </thead>\n  <tbody>\n    <tr>\n      <th>0</th>\n      <td>38</td>\n      <td>Private</td>\n      <td>College</td>\n      <td>Unmarried</td>\n      <td>Service</td>\n      <td>81838.00</td>\n      <td>Female</td>\n      <td>False</td>\n      <td>72</td>\n      <td>0</td>\n    </tr>\n    <tr>\n      <th>1</th>\n      <td>35</td>\n      <td>Private</td>\n      <td>Associate</td>\n      <td>Absent</td>\n      <td>Transport</td>\n      <td>72099.00</td>\n      <td>Male</td>\n      <td>False</td>\n      <td>30</td>\n      <td>0</td>\n    </tr>\n    <tr>\n      <th>2</th>\n      <td>32</td>\n      <td>Private</td>\n      <td>HSgrad</td>\n      <td>Divorced</td>\n      <td>Clerical</td>\n      <td>154676.74</td>\n      <td>Male</td>\n      <td>False</td>\n      <td>40</td>\n      <td>0</td>\n    </tr>\n    <tr>\n      <th>3</th>\n      <td>45</td>\n      <td>Private</td>\n      <td>Bachelor</td>\n      <td>Married</td>\n      <td>Repair</td>\n      <td>27743.82</td>\n      <td>Male</td>\n      <td>False</td>\n      <td>55</td>\n      <td>1</td>\n    </tr>\n    <tr>\n      <th>4</th>\n      <td>60</td>\n      <td>Private</td>\n      <td>College</td>\n      <td>Married</td>\n      <td>Executive</td>\n      <td>7568.23</td>\n      <td>Male</td>\n      <td>False</td>\n      <td>40</td>\n      <td>1</td>\n    </tr>\n    <tr>\n      <th>5</th>\n      <td>74</td>\n      <td>Private</td>\n      <td>HSgrad</td>\n      <td>Married</td>\n      <td>Service</td>\n      <td>33144.40</td>\n      <td>Male</td>\n      <td>False</td>\n      <td>30</td>\n      <td>0</td>\n    </tr>\n    <tr>\n      <th>6</th>\n      <td>43</td>\n      <td>Private</td>\n      <td>Bachelor</td>\n      <td>Married</td>\n      <td>Executive</td>\n      <td>43391.17</td>\n      <td>Male</td>\n      <td>False</td>\n      <td>50</td>\n      <td>1</td>\n    </tr>\n    <tr>\n      <th>7</th>\n      <td>35</td>\n      <td>Private</td>\n      <td>Yr12</td>\n      <td>Married</td>\n      <td>Machinist</td>\n      <td>59906.65</td>\n      <td>Male</td>\n      <td>False</td>\n      <td>40</td>\n      <td>0</td>\n    </tr>\n    <tr>\n      <th>8</th>\n      <td>25</td>\n      <td>Private</td>\n      <td>Associate</td>\n      <td>Divorced</td>\n      <td>Clerical</td>\n      <td>126888.91</td>\n      <td>Female</td>\n      <td>False</td>\n      <td>40</td>\n      <td>0</td>\n    </tr>\n    <tr>\n      <th>9</th>\n      <td>22</td>\n      <td>Private</td>\n      <td>HSgrad</td>\n      <td>Absent</td>\n      <td>Sales</td>\n      <td>52466.49</td>\n      <td>Female</td>\n      <td>False</td>\n      <td>37</td>\n      <td>0</td>\n    </tr>\n  </tbody>\n</table>\n</div>"
     },
     "execution_count": 8,
     "metadata": {},
     "output_type": "execute_result"
    }
   ],
   "source": [
    "df = pd.read_csv(\"../data/audit.csv\")\n",
    "\n",
    "cat_columns = [\"Education\", \"Employment\", \"Marital\", \"Occupation\"]\n",
    "cont_columns = [\"Age\", \"Hours\", \"Income\"]\n",
    "\n",
    "df_X = df[cat_columns + cont_columns]\n",
    "df_y = df[\"Adjusted\"]\n",
    "\n",
    "df.head(10)"
   ],
   "metadata": {
    "collapsed": false
   }
  },
  {
   "cell_type": "code",
   "execution_count": 9,
   "outputs": [],
   "source": [
    "mapper = DataFrameMapper(\n",
    "    [(cat_column, [CategoricalDomain(invalid_value_treatment = \"as_is\"), LabelBinarizer()]) for cat_column in cat_columns] +\n",
    "    [([cont_column], [ContinuousDomain(invalid_value_treatment = \"as_is\"), StandardScaler()]) for cont_column in cont_columns]\n",
    ")\n",
    "\n",
    "selector = SelectKBest()\n",
    "classifier = LogisticRegression(multi_class = \"ovr\", penalty = \"elasticnet\", solver = \"saga\", max_iter = 1000)\n",
    "param_grid = {\n",
    "    \"selector__k\" : [10, 20, 30],\n",
    "    \"classifier__l1_ratio\" : [0.7, 0.8, 0.9]\n",
    "}"
   ],
   "metadata": {
    "collapsed": false
   }
  },
  {
   "cell_type": "code",
   "execution_count": 10,
   "outputs": [
    {
     "name": "stdout",
     "output_type": "stream",
     "text": [
      "{'classifier__l1_ratio': 0.9, 'selector__k': 20}\n"
     ]
    }
   ],
   "source": [
    "pipeline = PMMLPipeline([\n",
    "    (\"mapper\", mapper),\n",
    "    (\"selector\", selector),\n",
    "    (\"classifier\", classifier)\n",
    "])\n",
    "searcher = GridSearchCV(estimator = pipeline, param_grid = param_grid)\n",
    "searcher.fit(df_X, df_y)\n",
    "print(searcher.best_params_)"
   ],
   "metadata": {
    "collapsed": false
   }
  },
  {
   "cell_type": "code",
   "execution_count": 11,
   "outputs": [],
   "source": [
    "best_pipeline = searcher.best_estimator_\n",
    "best_pipeline.verify(df_X.sample(n = 5))\n",
    "\n",
    "sklearn2pmml(best_pipeline, \"../data/GridSearchAudit.pmml\")"
   ],
   "metadata": {
    "collapsed": false
   }
  },
  {
   "cell_type": "code",
   "execution_count": null,
   "outputs": [],
   "source": [],
   "metadata": {
    "collapsed": false
   }
  }
 ],
 "metadata": {
  "kernelspec": {
   "display_name": "Python 3",
   "language": "python",
   "name": "python3"
  },
  "language_info": {
   "codemirror_mode": {
    "name": "ipython",
    "version": 2
   },
   "file_extension": ".py",
   "mimetype": "text/x-python",
   "name": "python",
   "nbconvert_exporter": "python",
   "pygments_lexer": "ipython2",
   "version": "2.7.6"
  }
 },
 "nbformat": 4,
 "nbformat_minor": 0
}
