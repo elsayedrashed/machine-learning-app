{
 "cells": [
  {
   "cell_type": "markdown",
   "source": [
    "## https://openscoring.io/blog/2020/03/08/sklearn_date_datetime_pmml/"
   ],
   "metadata": {
    "collapsed": false
   }
  },
  {
   "cell_type": "code",
   "execution_count": 1,
   "outputs": [],
   "source": [
    "from pandas import DataFrame\n",
    "from sklearn_pandas import DataFrameMapper\n",
    "from sklearn.tree import DecisionTreeClassifier\n",
    "from sklearn2pmml import sklearn2pmml\n",
    "from sklearn2pmml.decoration import Alias, DateDomain, DateTimeDomain\n",
    "from sklearn2pmml.pipeline import PMMLPipeline\n",
    "from sklearn2pmml.preprocessing import DaysSinceYearTransformer, ExpressionTransformer, SecondsSinceMidnightTransformer, SecondsSinceYearTransformer\n",
    "\n",
    "import joblib\n",
    "import pandas"
   ],
   "metadata": {
    "collapsed": false
   }
  },
  {
   "cell_type": "code",
   "execution_count": 2,
   "outputs": [
    {
     "data": {
      "text/plain": "                 launch          moon landing                return  success\n0  1968-01-01T12:51:00Z                  None  1968-12-27T15:51:42Z     True\n1  1969-05-18T16:49:00Z                  None  1969-05-26T16:52:23Z     True\n2  1969-07-16T13:32:00Z  1969-07-20T20:17:40Z  1969-07-24T16:50:35Z     True\n3  1969-11-14T16:22:00Z  1969-11-19T06:54:35Z  1969-11-24T20:58:24Z     True\n4  1970-04-11T19:13:00Z                  None  1970-04-17T18:07:41Z    False\n5  1971-01-31T21:03:02Z  1971-02-05T09:18:11Z  1971-02-09T21:05:00Z     True\n6  1971-07-26T13:34:00Z  1971-07-30T22:16:29Z  1971-08-07T20:45:53Z     True\n7  1972-04-16T17:54:00Z  1972-04-21T02:23:35Z  1972-04-27T19:45:05Z     True\n8  1972-12-07T05:33:00Z  1972-12-11T19:54:57Z  1972-12-19T19:24:59Z     True",
      "text/html": "<div>\n<style scoped>\n    .dataframe tbody tr th:only-of-type {\n        vertical-align: middle;\n    }\n\n    .dataframe tbody tr th {\n        vertical-align: top;\n    }\n\n    .dataframe thead th {\n        text-align: right;\n    }\n</style>\n<table border=\"1\" class=\"dataframe\">\n  <thead>\n    <tr style=\"text-align: right;\">\n      <th></th>\n      <th>launch</th>\n      <th>moon landing</th>\n      <th>return</th>\n      <th>success</th>\n    </tr>\n  </thead>\n  <tbody>\n    <tr>\n      <th>0</th>\n      <td>1968-01-01T12:51:00Z</td>\n      <td>None</td>\n      <td>1968-12-27T15:51:42Z</td>\n      <td>True</td>\n    </tr>\n    <tr>\n      <th>1</th>\n      <td>1969-05-18T16:49:00Z</td>\n      <td>None</td>\n      <td>1969-05-26T16:52:23Z</td>\n      <td>True</td>\n    </tr>\n    <tr>\n      <th>2</th>\n      <td>1969-07-16T13:32:00Z</td>\n      <td>1969-07-20T20:17:40Z</td>\n      <td>1969-07-24T16:50:35Z</td>\n      <td>True</td>\n    </tr>\n    <tr>\n      <th>3</th>\n      <td>1969-11-14T16:22:00Z</td>\n      <td>1969-11-19T06:54:35Z</td>\n      <td>1969-11-24T20:58:24Z</td>\n      <td>True</td>\n    </tr>\n    <tr>\n      <th>4</th>\n      <td>1970-04-11T19:13:00Z</td>\n      <td>None</td>\n      <td>1970-04-17T18:07:41Z</td>\n      <td>False</td>\n    </tr>\n    <tr>\n      <th>5</th>\n      <td>1971-01-31T21:03:02Z</td>\n      <td>1971-02-05T09:18:11Z</td>\n      <td>1971-02-09T21:05:00Z</td>\n      <td>True</td>\n    </tr>\n    <tr>\n      <th>6</th>\n      <td>1971-07-26T13:34:00Z</td>\n      <td>1971-07-30T22:16:29Z</td>\n      <td>1971-08-07T20:45:53Z</td>\n      <td>True</td>\n    </tr>\n    <tr>\n      <th>7</th>\n      <td>1972-04-16T17:54:00Z</td>\n      <td>1972-04-21T02:23:35Z</td>\n      <td>1972-04-27T19:45:05Z</td>\n      <td>True</td>\n    </tr>\n    <tr>\n      <th>8</th>\n      <td>1972-12-07T05:33:00Z</td>\n      <td>1972-12-11T19:54:57Z</td>\n      <td>1972-12-19T19:24:59Z</td>\n      <td>True</td>\n    </tr>\n  </tbody>\n</table>\n</div>"
     },
     "execution_count": 2,
     "metadata": {},
     "output_type": "execute_result"
    }
   ],
   "source": [
    "# Apollo Lunar Missions\n",
    "# https://nssdc.gsfc.nasa.gov/planetary/lunar/apollo.html\n",
    "df = DataFrame([\n",
    "    [\"1968-01-01T12:51:00Z\", None, \"1968-12-27T15:51:42Z\", True], # Apollo 8\n",
    "    [\"1969-05-18T16:49:00Z\", None, \"1969-05-26T16:52:23Z\", True], # Apollo 10\n",
    "    [\"1969-07-16T13:32:00Z\", \"1969-07-20T20:17:40Z\", \"1969-07-24T16:50:35Z\", True], # Apollo 11\n",
    "    [\"1969-11-14T16:22:00Z\", \"1969-11-19T06:54:35Z\", \"1969-11-24T20:58:24Z\", True], # Apollo 12\n",
    "    [\"1970-04-11T19:13:00Z\", None, \"1970-04-17T18:07:41Z\", False], # Apollo 13\n",
    "    [\"1971-01-31T21:03:02Z\", \"1971-02-05T09:18:11Z\", \"1971-02-09T21:05:00Z\", True], # Apollo 14\n",
    "    [\"1971-07-26T13:34:00Z\", \"1971-07-30T22:16:29Z\", \"1971-08-07T20:45:53Z\", True], # Apollo 15\n",
    "    [\"1972-04-16T17:54:00Z\", \"1972-04-21T02:23:35Z\", \"1972-04-27T19:45:05Z\", True], # Apollo 16\n",
    "    [\"1972-12-07T05:33:00Z\", \"1972-12-11T19:54:57Z\", \"1972-12-19T19:24:59Z\", True], # Apollo 17\n",
    "], columns = [\"launch\", \"moon landing\", \"return\", \"success\"])\n",
    "df"
   ],
   "metadata": {
    "collapsed": false
   }
  },
  {
   "cell_type": "code",
   "execution_count": 3,
   "outputs": [],
   "source": [
    "def awarestr_to_naivestr(x, tzinfo):\n",
    "    # Parse aware\n",
    "    x = pandas.to_datetime(x)\n",
    "    # Unify timezones\n",
    "    x = x.dt.tz_convert(tzinfo)\n",
    "    # Convert from aware to naive\n",
    "    x = x.dt.tz_localize(None)\n",
    "    # Format naive\n",
    "    x = x.dt.strftime(\"%Y-%m-%dT%H:%M:%S\")\n",
    "    return x"
   ],
   "metadata": {
    "collapsed": false
   }
  },
  {
   "cell_type": "code",
   "execution_count": 4,
   "outputs": [],
   "source": [
    "tzinfo = \"Europe/Tallinn\"\n",
    "\n",
    "df[\"launch\"] = awarestr_to_naivestr(df[\"launch\"], tzinfo)\n",
    "df[\"moon landing\"] = awarestr_to_naivestr(df[\"moon landing\"], tzinfo).replace({\"NaT\" : None})\n",
    "df[\"return\"] = awarestr_to_naivestr(df[\"return\"], tzinfo)"
   ],
   "metadata": {
    "collapsed": false
   }
  },
  {
   "cell_type": "code",
   "execution_count": 5,
   "outputs": [
    {
     "data": {
      "text/plain": "launch          object\nmoon landing    object\nreturn          object\nsuccess           bool\ndtype: object"
     },
     "execution_count": 5,
     "metadata": {},
     "output_type": "execute_result"
    }
   ],
   "source": [
    "df.dtypes"
   ],
   "metadata": {
    "collapsed": false
   }
  },
  {
   "cell_type": "code",
   "execution_count": 30,
   "outputs": [],
   "source": [
    "def fit_convert(mapper):\n",
    "    pipeline = PMMLPipeline([\n",
    "        (\"mapper\", mapper)\n",
    "    ])\n",
    "    dfresult = pipeline.fit_transform(df, df[\"success\"])\n",
    "    return dfresult"
   ],
   "metadata": {
    "collapsed": false
   }
  },
  {
   "cell_type": "code",
   "execution_count": 35,
   "outputs": [],
   "source": [
    "mapper = DataFrameMapper([\n",
    "    ([\"launch\", \"return\"], [DateTimeDomain(),DaysSinceYearTransformer(year = 1968)])\n",
    "])\n",
    "\n",
    "resl = fit_convert(mapper)"
   ],
   "metadata": {
    "collapsed": false
   }
  },
  {
   "cell_type": "code",
   "execution_count": 36,
   "outputs": [
    {
     "data": {
      "text/plain": "array([[   0,  361],\n       [ 503,  511],\n       [ 562,  570],\n       [ 683,  693],\n       [ 831,  837],\n       [1127, 1136],\n       [1302, 1314],\n       [1567, 1578],\n       [1802, 1814]])"
     },
     "execution_count": 36,
     "metadata": {},
     "output_type": "execute_result"
    }
   ],
   "source": [
    "resl"
   ],
   "metadata": {
    "collapsed": false
   }
  },
  {
   "cell_type": "code",
   "execution_count": 37,
   "outputs": [],
   "source": [
    "mapper = DataFrameMapper([\n",
    "    ([\"launch\", \"return\"], [DateTimeDomain(),SecondsSinceMidnightTransformer()])\n",
    "])\n",
    "\n",
    "resl = fit_convert(mapper)"
   ],
   "metadata": {
    "collapsed": false
   }
  },
  {
   "cell_type": "code",
   "execution_count": 38,
   "outputs": [
    {
     "data": {
      "text/plain": "array([[57060, 67902],\n       [71340, 71543],\n       [59520, 71435],\n       [69720, 86304],\n       [79980, 76061],\n       [  182,   300],\n       [59640, 85553],\n       [75240, 81905],\n       [30780, 80699]])"
     },
     "execution_count": 38,
     "metadata": {},
     "output_type": "execute_result"
    }
   ],
   "source": [
    "resl"
   ],
   "metadata": {
    "collapsed": false
   }
  },
  {
   "cell_type": "code",
   "execution_count": null,
   "outputs": [],
   "source": [],
   "metadata": {
    "collapsed": false
   }
  }
 ],
 "metadata": {
  "kernelspec": {
   "display_name": "Python 3",
   "language": "python",
   "name": "python3"
  },
  "language_info": {
   "codemirror_mode": {
    "name": "ipython",
    "version": 2
   },
   "file_extension": ".py",
   "mimetype": "text/x-python",
   "name": "python",
   "nbconvert_exporter": "python",
   "pygments_lexer": "ipython2",
   "version": "2.7.6"
  }
 },
 "nbformat": 4,
 "nbformat_minor": 0
}
