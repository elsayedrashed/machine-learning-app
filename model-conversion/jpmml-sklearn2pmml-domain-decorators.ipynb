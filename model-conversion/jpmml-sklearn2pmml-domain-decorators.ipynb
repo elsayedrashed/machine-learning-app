{
 "cells": [
  {
   "cell_type": "markdown",
   "source": [
    "https://openscoring.io/blog/2020/02/23/sklearn_feature_specification_pmml"
   ],
   "metadata": {
    "collapsed": false
   }
  },
  {
   "cell_type": "code",
   "execution_count": 6,
   "outputs": [],
   "source": [
    "import numpy as np\n",
    "import pandas as pd\n",
    "from sklearn_pandas import DataFrameMapper\n",
    "from sklearn.preprocessing import OneHotEncoder\n",
    "from sklearn.tree import DecisionTreeClassifier\n",
    "\n",
    "from sklearn2pmml.decoration import CategoricalDomain\n",
    "from sklearn2pmml.decoration import ContinuousDomain\n",
    "from sklearn2pmml.preprocessing import ExpressionTransformer\n",
    "from sklearn2pmml.preprocessing import LookupTransformer\n",
    "\n",
    "from sklearn2pmml import sklearn2pmml\n",
    "from sklearn2pmml.pipeline import PMMLPipeline"
   ],
   "metadata": {
    "collapsed": false
   }
  },
  {
   "cell_type": "code",
   "execution_count": 11,
   "outputs": [
    {
     "data": {
      "text/plain": "      Age  Employment  Education    Marital Occupation     Income  Gender  \\\n0      38     Private    College  Unmarried    Service   81838.00  Female   \n1      35     Private  Associate     Absent  Transport   72099.00    Male   \n2      32     Private     HSgrad   Divorced   Clerical  154676.74    Male   \n3      45     Private   Bachelor    Married     Repair   27743.82    Male   \n4      60     Private    College    Married  Executive    7568.23    Male   \n...   ...         ...        ...        ...        ...        ...     ...   \n1894   62     Private     HSgrad    Married     Repair   24080.59    Male   \n1895   35  Consultant  Associate    Married     Repair   57497.30    Male   \n1896   32     Private   Bachelor    Married      Sales   30538.18    Male   \n1897   34     Private    College  Unmarried      Sales  113425.67    Male   \n1898   26     Private     HSgrad     Absent   Clerical  139984.58  Female   \n\n      Deductions  Hours  Adjusted  \n0          False     72         0  \n1          False     30         0  \n2          False     40         0  \n3          False     55         1  \n4          False     40         1  \n...          ...    ...       ...  \n1894       False     40         0  \n1895       False     40         0  \n1896       False     44         0  \n1897       False     45         0  \n1898       False     35         0  \n\n[1899 rows x 10 columns]",
      "text/html": "<div>\n<style scoped>\n    .dataframe tbody tr th:only-of-type {\n        vertical-align: middle;\n    }\n\n    .dataframe tbody tr th {\n        vertical-align: top;\n    }\n\n    .dataframe thead th {\n        text-align: right;\n    }\n</style>\n<table border=\"1\" class=\"dataframe\">\n  <thead>\n    <tr style=\"text-align: right;\">\n      <th></th>\n      <th>Age</th>\n      <th>Employment</th>\n      <th>Education</th>\n      <th>Marital</th>\n      <th>Occupation</th>\n      <th>Income</th>\n      <th>Gender</th>\n      <th>Deductions</th>\n      <th>Hours</th>\n      <th>Adjusted</th>\n    </tr>\n  </thead>\n  <tbody>\n    <tr>\n      <th>0</th>\n      <td>38</td>\n      <td>Private</td>\n      <td>College</td>\n      <td>Unmarried</td>\n      <td>Service</td>\n      <td>81838.00</td>\n      <td>Female</td>\n      <td>False</td>\n      <td>72</td>\n      <td>0</td>\n    </tr>\n    <tr>\n      <th>1</th>\n      <td>35</td>\n      <td>Private</td>\n      <td>Associate</td>\n      <td>Absent</td>\n      <td>Transport</td>\n      <td>72099.00</td>\n      <td>Male</td>\n      <td>False</td>\n      <td>30</td>\n      <td>0</td>\n    </tr>\n    <tr>\n      <th>2</th>\n      <td>32</td>\n      <td>Private</td>\n      <td>HSgrad</td>\n      <td>Divorced</td>\n      <td>Clerical</td>\n      <td>154676.74</td>\n      <td>Male</td>\n      <td>False</td>\n      <td>40</td>\n      <td>0</td>\n    </tr>\n    <tr>\n      <th>3</th>\n      <td>45</td>\n      <td>Private</td>\n      <td>Bachelor</td>\n      <td>Married</td>\n      <td>Repair</td>\n      <td>27743.82</td>\n      <td>Male</td>\n      <td>False</td>\n      <td>55</td>\n      <td>1</td>\n    </tr>\n    <tr>\n      <th>4</th>\n      <td>60</td>\n      <td>Private</td>\n      <td>College</td>\n      <td>Married</td>\n      <td>Executive</td>\n      <td>7568.23</td>\n      <td>Male</td>\n      <td>False</td>\n      <td>40</td>\n      <td>1</td>\n    </tr>\n    <tr>\n      <th>...</th>\n      <td>...</td>\n      <td>...</td>\n      <td>...</td>\n      <td>...</td>\n      <td>...</td>\n      <td>...</td>\n      <td>...</td>\n      <td>...</td>\n      <td>...</td>\n      <td>...</td>\n    </tr>\n    <tr>\n      <th>1894</th>\n      <td>62</td>\n      <td>Private</td>\n      <td>HSgrad</td>\n      <td>Married</td>\n      <td>Repair</td>\n      <td>24080.59</td>\n      <td>Male</td>\n      <td>False</td>\n      <td>40</td>\n      <td>0</td>\n    </tr>\n    <tr>\n      <th>1895</th>\n      <td>35</td>\n      <td>Consultant</td>\n      <td>Associate</td>\n      <td>Married</td>\n      <td>Repair</td>\n      <td>57497.30</td>\n      <td>Male</td>\n      <td>False</td>\n      <td>40</td>\n      <td>0</td>\n    </tr>\n    <tr>\n      <th>1896</th>\n      <td>32</td>\n      <td>Private</td>\n      <td>Bachelor</td>\n      <td>Married</td>\n      <td>Sales</td>\n      <td>30538.18</td>\n      <td>Male</td>\n      <td>False</td>\n      <td>44</td>\n      <td>0</td>\n    </tr>\n    <tr>\n      <th>1897</th>\n      <td>34</td>\n      <td>Private</td>\n      <td>College</td>\n      <td>Unmarried</td>\n      <td>Sales</td>\n      <td>113425.67</td>\n      <td>Male</td>\n      <td>False</td>\n      <td>45</td>\n      <td>0</td>\n    </tr>\n    <tr>\n      <th>1898</th>\n      <td>26</td>\n      <td>Private</td>\n      <td>HSgrad</td>\n      <td>Absent</td>\n      <td>Clerical</td>\n      <td>139984.58</td>\n      <td>Female</td>\n      <td>False</td>\n      <td>35</td>\n      <td>0</td>\n    </tr>\n  </tbody>\n</table>\n<p>1899 rows × 10 columns</p>\n</div>"
     },
     "execution_count": 11,
     "metadata": {},
     "output_type": "execute_result"
    }
   ],
   "source": [
    "df = pd.read_csv(\"../data/audit.csv\")\n",
    "df"
   ],
   "metadata": {
    "collapsed": false
   }
  },
  {
   "cell_type": "code",
   "execution_count": 14,
   "outputs": [],
   "source": [
    "def fit_convert(mapper,X,y):\n",
    "    pipeline = PMMLPipeline([\n",
    "        (\"mapper\", mapper)\n",
    "    ])\n",
    "    dfresult = pipeline.fit_transform(X,y)\n",
    "    return dfresult"
   ],
   "metadata": {
    "collapsed": false
   }
  },
  {
   "cell_type": "code",
   "execution_count": 16,
   "outputs": [
    {
     "data": {
      "text/plain": "array([[8.1838000e+04, 0.0000000e+00, 0.0000000e+00, ..., 1.0000000e+00,\n        0.0000000e+00, 0.0000000e+00],\n       [7.2099000e+04, 0.0000000e+00, 0.0000000e+00, ..., 1.0000000e+00,\n        0.0000000e+00, 0.0000000e+00],\n       [1.5467674e+05, 0.0000000e+00, 0.0000000e+00, ..., 1.0000000e+00,\n        0.0000000e+00, 0.0000000e+00],\n       ...,\n       [3.0538180e+04, 0.0000000e+00, 0.0000000e+00, ..., 1.0000000e+00,\n        0.0000000e+00, 0.0000000e+00],\n       [1.1342567e+05, 0.0000000e+00, 0.0000000e+00, ..., 1.0000000e+00,\n        0.0000000e+00, 0.0000000e+00],\n       [1.3998458e+05, 0.0000000e+00, 0.0000000e+00, ..., 1.0000000e+00,\n        0.0000000e+00, 0.0000000e+00]])"
     },
     "execution_count": 16,
     "metadata": {},
     "output_type": "execute_result"
    }
   ],
   "source": [
    "mapper = DataFrameMapper([\n",
    "    ([\"Income\"], None),\n",
    "    ([\"Employment\"], OneHotEncoder())\n",
    "])\n",
    "\n",
    "res = fit_convert(mapper,df, df[\"Adjusted\"])\n",
    "res"
   ],
   "metadata": {
    "collapsed": false
   }
  },
  {
   "cell_type": "code",
   "execution_count": 25,
   "outputs": [],
   "source": [
    "employment_sector = {\n",
    "    \"Consultant\" :  0,\n",
    "    \"PSFederal\" :   1,\n",
    "    \"PSLocal\" :     1,\n",
    "    \"PSState\" :     1,\n",
    "    \"Private\" :     0,\n",
    "    \"SelfEmp\" :     0\n",
    "}\n",
    "\n",
    "mapper = DataFrameMapper([\n",
    "    ([\"Income\"],        [ContinuousDomain()]),\n",
    "    ([\"Hours\"],         [ContinuousDomain()]),\n",
    "    ([\"Employment\"],    [CategoricalDomain(),LookupTransformer(employment_sector, default_value = 0)])\n",
    "])"
   ],
   "metadata": {
    "collapsed": false
   }
  },
  {
   "cell_type": "code",
   "execution_count": 26,
   "outputs": [
    {
     "data": {
      "text/plain": "array([[81838.0, 72, 0],\n       [72099.0, 30, 0],\n       [154676.74, 40, 0],\n       ...,\n       [30538.18, 44, 0],\n       [113425.67, 45, 0],\n       [139984.58, 35, 0]], dtype=object)"
     },
     "execution_count": 26,
     "metadata": {},
     "output_type": "execute_result"
    }
   ],
   "source": [
    "res = fit_convert(mapper,df, df[\"Adjusted\"])\n",
    "res"
   ],
   "metadata": {
    "collapsed": false
   }
  },
  {
   "cell_type": "code",
   "execution_count": 32,
   "outputs": [],
   "source": [
    "from sklearn2pmml.preprocessing import PMMLLabelBinarizer\n",
    "\n",
    "mapper = DataFrameMapper([\n",
    "    ([\"Income\"],        [ContinuousDomain()]),\n",
    "    ([\"Hours\"],         [ContinuousDomain()]),\n",
    "    ([\"Employment\"],    [CategoricalDomain(),PMMLLabelBinarizer()])\n",
    "])"
   ],
   "metadata": {
    "collapsed": false
   }
  },
  {
   "cell_type": "code",
   "execution_count": 33,
   "outputs": [
    {
     "data": {
      "text/plain": "array([[8.1838000e+04, 7.2000000e+01, 0.0000000e+00, ..., 1.0000000e+00,\n        0.0000000e+00, 0.0000000e+00],\n       [7.2099000e+04, 3.0000000e+01, 0.0000000e+00, ..., 1.0000000e+00,\n        0.0000000e+00, 0.0000000e+00],\n       [1.5467674e+05, 4.0000000e+01, 0.0000000e+00, ..., 1.0000000e+00,\n        0.0000000e+00, 0.0000000e+00],\n       ...,\n       [3.0538180e+04, 4.4000000e+01, 0.0000000e+00, ..., 1.0000000e+00,\n        0.0000000e+00, 0.0000000e+00],\n       [1.1342567e+05, 4.5000000e+01, 0.0000000e+00, ..., 1.0000000e+00,\n        0.0000000e+00, 0.0000000e+00],\n       [1.3998458e+05, 3.5000000e+01, 0.0000000e+00, ..., 1.0000000e+00,\n        0.0000000e+00, 0.0000000e+00]])"
     },
     "execution_count": 33,
     "metadata": {},
     "output_type": "execute_result"
    }
   ],
   "source": [
    "res = fit_convert(mapper,df, df[\"Adjusted\"])\n",
    "res"
   ],
   "metadata": {
    "collapsed": false
   }
  },
  {
   "cell_type": "code",
   "execution_count": null,
   "outputs": [],
   "source": [],
   "metadata": {
    "collapsed": false
   }
  }
 ],
 "metadata": {
  "kernelspec": {
   "display_name": "Python 3",
   "language": "python",
   "name": "python3"
  },
  "language_info": {
   "codemirror_mode": {
    "name": "ipython",
    "version": 2
   },
   "file_extension": ".py",
   "mimetype": "text/x-python",
   "name": "python",
   "nbconvert_exporter": "python",
   "pygments_lexer": "ipython2",
   "version": "2.7.6"
  }
 },
 "nbformat": 4,
 "nbformat_minor": 0
}
