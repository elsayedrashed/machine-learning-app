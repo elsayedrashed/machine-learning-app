{
 "cells": [
  {
   "cell_type": "markdown",
   "source": [
    "## PySpark2PMML\n",
    "### Python package for converting Apache Spark ML pipelines to PMML.\n",
    "### https://github.com/jpmml/pyspark2pmml"
   ],
   "metadata": {
    "collapsed": false
   }
  },
  {
   "cell_type": "code",
   "execution_count": 1,
   "outputs": [],
   "source": [
    "from pyspark.sql import SparkSession\n",
    "from pyspark.ml import Pipeline\n",
    "from pyspark.ml.classification import LogisticRegression\n",
    "from pyspark.ml.feature import RFormula\n",
    "from pyspark.ml.feature import SQLTransformer\n",
    "from pyspark.sql.types import StringType\n",
    "from pyspark2pmml import PMMLBuilder"
   ],
   "metadata": {
    "collapsed": false
   }
  },
  {
   "cell_type": "code",
   "execution_count": 2,
   "outputs": [],
   "source": [
    "# Specify additional jars for Spark jobs\n",
    "spark_jars = \"../jars/*\"\n",
    "\n",
    "spark_packages = [\n",
    "    'org.apache.spark:spark-sql-kafka-0-10_2.12:3.3.2',\n",
    "    'org.apache.kafka:kafka-clients:3.2.3',\n",
    "    'org.jpmml:pmml-sparkml:2.2.0',\n",
    "    'org.jpmml:pmml-sparkml-lightgbm:2.2.0',\n",
    "    'org.jpmml:pmml-sparkml-xgboost:2.2.0'\n",
    "]\n",
    "\n",
    "spark = SparkSession.builder \\\n",
    "    .appName(\"PMML for Spark-ML\") \\\n",
    "    .master(\"local[*]\") \\\n",
    "    .config(\"spark.driver.host\", \"localhost\") \\\n",
    "    .config(\"spark.driver.extraClassPath\", spark_jars) \\\n",
    "    .config(\"spark.executor.extraClassPath\", spark_jars) \\\n",
    "    .config(\"spark.jars.packages\", \",\".join(spark_packages)) \\\n",
    "    .config(\"spark.driver.memory\", \"2g\") \\\n",
    "    .config(\"spark.executor.memory\", \"2g\") \\\n",
    "    .getOrCreate()"
   ],
   "metadata": {
    "collapsed": false
   }
  },
  {
   "cell_type": "code",
   "execution_count": 3,
   "outputs": [
    {
     "name": "stdout",
     "output_type": "stream",
     "text": [
      "+---+----------+----------+---------+----------+---------+------+----------+-----+--------+\n",
      "|Age|Employment| Education|  Marital|Occupation|   Income|Gender|Deductions|Hours|Adjusted|\n",
      "+---+----------+----------+---------+----------+---------+------+----------+-----+--------+\n",
      "| 38|   Private|   College|Unmarried|   Service|  81838.0|Female|     false|   72|       0|\n",
      "| 35|   Private| Associate|   Absent| Transport|  72099.0|  Male|     false|   30|       0|\n",
      "| 32|   Private|    HSgrad| Divorced|  Clerical|154676.74|  Male|     false|   40|       0|\n",
      "| 45|   Private|  Bachelor|  Married|    Repair| 27743.82|  Male|     false|   55|       1|\n",
      "| 60|   Private|   College|  Married| Executive|  7568.23|  Male|     false|   40|       1|\n",
      "| 74|   Private|    HSgrad|  Married|   Service|  33144.4|  Male|     false|   30|       0|\n",
      "| 43|   Private|  Bachelor|  Married| Executive| 43391.17|  Male|     false|   50|       1|\n",
      "| 35|   Private|      Yr12|  Married| Machinist| 59906.65|  Male|     false|   40|       0|\n",
      "| 25|   Private| Associate| Divorced|  Clerical|126888.91|Female|     false|   40|       0|\n",
      "| 22|   Private|    HSgrad|   Absent|     Sales| 52466.49|Female|     false|   37|       0|\n",
      "| 48|   Private|   College| Divorced|   Service|291416.11|Female|     false|   35|       0|\n",
      "| 60|   Private|Vocational|  Widowed|  Clerical| 24155.31|  Male|     false|   40|       0|\n",
      "| 21|   Private|   College|   Absent|   Service|143254.86|Female|     false|   35|       0|\n",
      "| 21|   Private|   College|   Absent| Machinist|120554.81|  Male|     false|   40|       0|\n",
      "| 50|   Private|    Master|  Married| Executive| 34919.16|  Male|     false|   40|       1|\n",
      "| 37|   Private|    HSgrad| Divorced| Executive| 67176.79|  Male|     false|   35|       0|\n",
      "| 30|Consultant|    HSgrad| Divorced|    Repair|  9608.48|  Male|     false|   40|       0|\n",
      "| 32|   Private|    HSgrad|  Married| Machinist| 12475.84|  Male|     false|   40|       0|\n",
      "| 65|   SelfEmp|   College|  Married|     Sales| 32963.39|  Male|     false|   40|       0|\n",
      "| 28|   Private|   College|  Married| Executive| 31534.97|  Male|     false|   55|       0|\n",
      "+---+----------+----------+---------+----------+---------+------+----------+-----+--------+\n",
      "only showing top 20 rows\n",
      "\n"
     ]
    }
   ],
   "source": [
    "# Load dataset\n",
    "df = spark.read.format(\"csv\") \\\n",
    "    .option(\"inferSchema\", \"true\") \\\n",
    "    .option(\"header\",\"true\") \\\n",
    "    .load(\"../data/audit.csv\")\n",
    "\n",
    "df = df.withColumn(\"Adjusted\", df[\"Adjusted\"].cast(StringType()))\n",
    "df.show()"
   ],
   "metadata": {
    "collapsed": false
   }
  },
  {
   "cell_type": "code",
   "execution_count": 4,
   "outputs": [],
   "source": [
    "statement = \"\"\"\n",
    "\tSELECT *,\n",
    "\tln(Income) AS Log_Income,\n",
    "\tCASE\n",
    "\t\tWHEN Employment = \"Consultant\" THEN \"Private\"\n",
    "\t\tWHEN Employment = \"Private\" THEN \"Private\"\n",
    "\t\tWHEN Employment = \"PSFederal\" THEN \"Public\"\n",
    "\t\tWHEN Employment = \"PSLocal\" THEN \"Public\"\n",
    "\t\tWHEN Employment = \"PSState\" THEN \"Public\"\n",
    "\t\tWHEN Employment = \"SelfEmp\" THEN \"Private\"\n",
    "\t\tWHEN Employment = \"Volunteer\" THEN \"Other\"\n",
    "\tEND AS Revalue_Employment\n",
    "\tFROM __THIS__\n",
    "\t\"\"\"\n",
    "sqlTransformer = SQLTransformer(statement = statement)"
   ],
   "metadata": {
    "collapsed": false
   }
  },
  {
   "cell_type": "code",
   "execution_count": 5,
   "outputs": [],
   "source": [
    "formula = \"Adjusted ~ . - Income - Employment + Gender:Marital\"\n",
    "rFormula = RFormula(formula = formula)\n",
    "classifier = LogisticRegression()\n",
    "pipeline = Pipeline(stages = [sqlTransformer, rFormula, classifier])\n",
    "pipelineModel = pipeline.fit(df)"
   ],
   "metadata": {
    "collapsed": false
   }
  },
  {
   "cell_type": "code",
   "execution_count": 6,
   "outputs": [
    {
     "data": {
      "text/plain": "'/Users/Shared/dmmil/development/jupyter-app/jupyter-app/python-libararies/../data/LogisticRegressionAudit.pmml'"
     },
     "execution_count": 6,
     "metadata": {},
     "output_type": "execute_result"
    }
   ],
   "source": [
    "pmmlBuilder = PMMLBuilder(spark.sparkContext, df, pipelineModel) \\\n",
    "    .verify(df.sample(False, 0.005)) \\\n",
    "    .putOption(classifier, \"representation\", \"RegressionModel\")\n",
    "\n",
    "pmmlBuilder.buildFile(\"../data/LogisticRegressionAudit.pmml\")\n"
   ],
   "metadata": {
    "collapsed": false
   }
  },
  {
   "cell_type": "code",
   "execution_count": 7,
   "outputs": [],
   "source": [
    "spark.stop()"
   ],
   "metadata": {
    "collapsed": false
   }
  },
  {
   "cell_type": "code",
   "execution_count": null,
   "outputs": [],
   "source": [],
   "metadata": {
    "collapsed": false
   }
  }
 ],
 "metadata": {
  "kernelspec": {
   "display_name": "Python 3",
   "language": "python",
   "name": "python3"
  },
  "language_info": {
   "codemirror_mode": {
    "name": "ipython",
    "version": 2
   },
   "file_extension": ".py",
   "mimetype": "text/x-python",
   "name": "python",
   "nbconvert_exporter": "python",
   "pygments_lexer": "ipython2",
   "version": "2.7.6"
  }
 },
 "nbformat": 4,
 "nbformat_minor": 0
}
