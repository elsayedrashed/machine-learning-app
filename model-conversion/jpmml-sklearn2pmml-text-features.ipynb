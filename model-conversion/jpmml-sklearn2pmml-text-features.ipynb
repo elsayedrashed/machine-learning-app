{
 "cells": [
  {
   "cell_type": "code",
   "execution_count": 58,
   "outputs": [],
   "source": [
    "import pandas as pd\n",
    "from sklearn.preprocessing import StandardScaler\n",
    "from sklearn.impute import SimpleImputer\n",
    "from sklearn.feature_extraction.text import CountVectorizer\n",
    "from sklearn.model_selection import train_test_split\n",
    "from sklearn.linear_model import LogisticRegression\n",
    "from sklearn2pmml import sklearn2pmml\n",
    "from feature_engine.imputation import CategoricalImputer\n",
    "from sklearn2pmml.preprocessing import LookupTransformer, DaysSinceYearTransformer, PMMLLabelEncoder\n",
    "from sklearn2pmml.decoration import ContinuousDomain, CategoricalDomain, DateTimeDomain\n",
    "from sklearn2pmml.pipeline import PMMLPipeline\n",
    "from sklearn2pmml.feature_extraction.text import Splitter\n",
    "from sklearn_pandas import DataFrameMapper"
   ],
   "metadata": {
    "collapsed": false
   }
  },
  {
   "cell_type": "code",
   "execution_count": 59,
   "outputs": [],
   "source": [
    "# Dsplay pipelines\n",
    "from sklearn import set_config\n",
    "set_config(display=\"diagram\")"
   ],
   "metadata": {
    "collapsed": false
   }
  },
  {
   "cell_type": "code",
   "execution_count": 60,
   "outputs": [],
   "source": [
    "import warnings\n",
    "warnings.filterwarnings('ignore')"
   ],
   "metadata": {
    "collapsed": false
   }
  },
  {
   "cell_type": "code",
   "execution_count": 61,
   "outputs": [
    {
     "data": {
      "text/plain": "    manufacturer               model  displ  year  cyl       trans drv  cty  \\\n0      chevrolet              malibu    2.4  2008    4    auto(l4)   f   22   \n1     volkswagen          new beetle    1.9  1999    4  manual(m5)   f   35   \n2        mercury     mountaineer 4wd    4.0  1999    6    auto(l5)   4   14   \n3           jeep  grand cherokee 4wd    6.1  2008    8    auto(l5)   4   11   \n4     volkswagen              passat    2.0  2008    4  manual(m6)   f   21   \n..           ...                 ...    ...   ...  ...         ...  ..  ...   \n229       subaru         impreza awd    2.2  1999    4    auto(l4)   4   21   \n230       toyota             corolla    1.8  2008    4    auto(l4)   f   26   \n231         jeep  grand cherokee 4wd    3.7  2008    6    auto(l5)   4   15   \n232   land rover         range rover    4.0  1999    8    auto(l4)   4   11   \n233         ford             mustang    4.6  2008    8    auto(l5)   r   15   \n\n     hwy fl       class  \n0     30  r     midsize  \n1     44  d  subcompact  \n2     17  r         suv  \n3     14  p         suv  \n4     29  p     midsize  \n..   ... ..         ...  \n229   26  r  subcompact  \n230   35  r     compact  \n231   19  r         suv  \n232   15  p         suv  \n233   22  r  subcompact  \n\n[234 rows x 11 columns]",
      "text/html": "<div>\n<style scoped>\n    .dataframe tbody tr th:only-of-type {\n        vertical-align: middle;\n    }\n\n    .dataframe tbody tr th {\n        vertical-align: top;\n    }\n\n    .dataframe thead th {\n        text-align: right;\n    }\n</style>\n<table border=\"1\" class=\"dataframe\">\n  <thead>\n    <tr style=\"text-align: right;\">\n      <th></th>\n      <th>manufacturer</th>\n      <th>model</th>\n      <th>displ</th>\n      <th>year</th>\n      <th>cyl</th>\n      <th>trans</th>\n      <th>drv</th>\n      <th>cty</th>\n      <th>hwy</th>\n      <th>fl</th>\n      <th>class</th>\n    </tr>\n  </thead>\n  <tbody>\n    <tr>\n      <th>0</th>\n      <td>chevrolet</td>\n      <td>malibu</td>\n      <td>2.4</td>\n      <td>2008</td>\n      <td>4</td>\n      <td>auto(l4)</td>\n      <td>f</td>\n      <td>22</td>\n      <td>30</td>\n      <td>r</td>\n      <td>midsize</td>\n    </tr>\n    <tr>\n      <th>1</th>\n      <td>volkswagen</td>\n      <td>new beetle</td>\n      <td>1.9</td>\n      <td>1999</td>\n      <td>4</td>\n      <td>manual(m5)</td>\n      <td>f</td>\n      <td>35</td>\n      <td>44</td>\n      <td>d</td>\n      <td>subcompact</td>\n    </tr>\n    <tr>\n      <th>2</th>\n      <td>mercury</td>\n      <td>mountaineer 4wd</td>\n      <td>4.0</td>\n      <td>1999</td>\n      <td>6</td>\n      <td>auto(l5)</td>\n      <td>4</td>\n      <td>14</td>\n      <td>17</td>\n      <td>r</td>\n      <td>suv</td>\n    </tr>\n    <tr>\n      <th>3</th>\n      <td>jeep</td>\n      <td>grand cherokee 4wd</td>\n      <td>6.1</td>\n      <td>2008</td>\n      <td>8</td>\n      <td>auto(l5)</td>\n      <td>4</td>\n      <td>11</td>\n      <td>14</td>\n      <td>p</td>\n      <td>suv</td>\n    </tr>\n    <tr>\n      <th>4</th>\n      <td>volkswagen</td>\n      <td>passat</td>\n      <td>2.0</td>\n      <td>2008</td>\n      <td>4</td>\n      <td>manual(m6)</td>\n      <td>f</td>\n      <td>21</td>\n      <td>29</td>\n      <td>p</td>\n      <td>midsize</td>\n    </tr>\n    <tr>\n      <th>...</th>\n      <td>...</td>\n      <td>...</td>\n      <td>...</td>\n      <td>...</td>\n      <td>...</td>\n      <td>...</td>\n      <td>...</td>\n      <td>...</td>\n      <td>...</td>\n      <td>...</td>\n      <td>...</td>\n    </tr>\n    <tr>\n      <th>229</th>\n      <td>subaru</td>\n      <td>impreza awd</td>\n      <td>2.2</td>\n      <td>1999</td>\n      <td>4</td>\n      <td>auto(l4)</td>\n      <td>4</td>\n      <td>21</td>\n      <td>26</td>\n      <td>r</td>\n      <td>subcompact</td>\n    </tr>\n    <tr>\n      <th>230</th>\n      <td>toyota</td>\n      <td>corolla</td>\n      <td>1.8</td>\n      <td>2008</td>\n      <td>4</td>\n      <td>auto(l4)</td>\n      <td>f</td>\n      <td>26</td>\n      <td>35</td>\n      <td>r</td>\n      <td>compact</td>\n    </tr>\n    <tr>\n      <th>231</th>\n      <td>jeep</td>\n      <td>grand cherokee 4wd</td>\n      <td>3.7</td>\n      <td>2008</td>\n      <td>6</td>\n      <td>auto(l5)</td>\n      <td>4</td>\n      <td>15</td>\n      <td>19</td>\n      <td>r</td>\n      <td>suv</td>\n    </tr>\n    <tr>\n      <th>232</th>\n      <td>land rover</td>\n      <td>range rover</td>\n      <td>4.0</td>\n      <td>1999</td>\n      <td>8</td>\n      <td>auto(l4)</td>\n      <td>4</td>\n      <td>11</td>\n      <td>15</td>\n      <td>p</td>\n      <td>suv</td>\n    </tr>\n    <tr>\n      <th>233</th>\n      <td>ford</td>\n      <td>mustang</td>\n      <td>4.6</td>\n      <td>2008</td>\n      <td>8</td>\n      <td>auto(l5)</td>\n      <td>r</td>\n      <td>15</td>\n      <td>22</td>\n      <td>r</td>\n      <td>subcompact</td>\n    </tr>\n  </tbody>\n</table>\n<p>234 rows × 11 columns</p>\n</div>"
     },
     "execution_count": 61,
     "metadata": {},
     "output_type": "execute_result"
    }
   ],
   "source": [
    "df = pd.read_csv(\"../data/mpg.csv\")\n",
    "df"
   ],
   "metadata": {
    "collapsed": false
   }
  },
  {
   "cell_type": "code",
   "execution_count": 62,
   "outputs": [
    {
     "data": {
      "text/plain": "manufacturer     object\nmodel            object\ndispl           float64\nyear              int64\ncyl               int64\ntrans            object\ndrv              object\ncty               int64\nhwy               int64\nfl               object\nclass            object\ndtype: object"
     },
     "execution_count": 62,
     "metadata": {},
     "output_type": "execute_result"
    }
   ],
   "source": [
    "df.dtypes"
   ],
   "metadata": {
    "collapsed": false
   }
  },
  {
   "cell_type": "code",
   "execution_count": 63,
   "outputs": [
    {
     "data": {
      "text/plain": "['midsize', 'subcompact', 'suv', 'compact', 'minivan', 'pickup', '2seater']"
     },
     "execution_count": 63,
     "metadata": {},
     "output_type": "execute_result"
    }
   ],
   "source": [
    "# Handle missing values in target variable\n",
    "ci = CategoricalImputer(imputation_method='frequent', variables=['class'])\n",
    "df = ci.fit_transform(df)\n",
    "list(df['class'].unique())"
   ],
   "metadata": {
    "collapsed": false
   }
  },
  {
   "cell_type": "code",
   "execution_count": 64,
   "outputs": [],
   "source": [
    "target_mapper = {\n",
    "    \"midsize\" :     0,\n",
    "    \"subcompact\" :  1,\n",
    "    \"suv\" :         2,\n",
    "    \"compact\" :     3,\n",
    "    \"minivan\" :     4,\n",
    "    \"pickup\" :      5,\n",
    "    \"2seater\" :     6\n",
    "}"
   ],
   "metadata": {
    "collapsed": false
   }
  },
  {
   "cell_type": "code",
   "execution_count": 65,
   "outputs": [
    {
     "data": {
      "text/plain": "manufacturer     object\nmodel            object\ndispl           float64\nyear              int64\ncyl               int64\ntrans            object\ndrv              object\ncty               int64\nhwy               int64\nfl               object\nclass             int64\ndtype: object"
     },
     "execution_count": 65,
     "metadata": {},
     "output_type": "execute_result"
    }
   ],
   "source": [
    "lt = LookupTransformer(target_mapper, default_value = 0)\n",
    "df['class'] = lt.fit_transform(df['class'])\n",
    "df.dtypes"
   ],
   "metadata": {
    "collapsed": false
   }
  },
  {
   "cell_type": "code",
   "execution_count": 66,
   "outputs": [
    {
     "data": {
      "text/plain": "manufacturer      object\nmodel             object\ndispl            float64\nyear               int64\ncyl                int64\ntrans             object\ndrv               object\ncty                int64\nhwy                int64\nfl                object\nclass           category\ndtype: object"
     },
     "execution_count": 66,
     "metadata": {},
     "output_type": "execute_result"
    }
   ],
   "source": [
    "target_type = pd.CategoricalDtype(categories=sorted(df['class'].unique()), ordered=True)\n",
    "df[\"class\"] = df[\"class\"].astype(target_type)\n",
    "df.dtypes"
   ],
   "metadata": {
    "collapsed": false
   }
  },
  {
   "cell_type": "code",
   "execution_count": 67,
   "outputs": [],
   "source": [
    "numeric_features = [\"displ\", \"year\", \"cyl\",\"cty\",\"hwy\"]\n",
    "categorical_features = [\"manufacturer\",\"trans\",\"drv\", \"fl\"]\n",
    "text_features = [\"model\"]\n",
    "datetime_features = []\n",
    "drop_features = []"
   ],
   "metadata": {
    "collapsed": false
   }
  },
  {
   "cell_type": "code",
   "execution_count": 68,
   "outputs": [],
   "source": [
    "mapper = DataFrameMapper(\n",
    "    [([col_num], [ContinuousDomain(), SimpleImputer(strategy='median'), StandardScaler()]) for col_num in numeric_features] +\n",
    "    [([col_cat], [CategoricalDomain(), SimpleImputer(strategy='most_frequent'), PMMLLabelEncoder(), StandardScaler()]) for col_cat in categorical_features] +\n",
    "    [([col_dat], [DateTimeDomain(), SimpleImputer(strategy='most_frequent'), DaysSinceYearTransformer(year = 1968), StandardScaler()]) for col_dat in datetime_features] +\n",
    "    [(col_txt,   [CategoricalDomain(), CountVectorizer(tokenizer=Splitter(), max_features=5)]) for col_txt in text_features],\n",
    "    drop_cols=drop_features,\n",
    "    input_df=True,\n",
    "    df_out=True\n",
    ")"
   ],
   "metadata": {
    "collapsed": false
   }
  },
  {
   "cell_type": "code",
   "execution_count": 69,
   "outputs": [],
   "source": [
    "pipeline = PMMLPipeline([\n",
    "    (\"mapper\", mapper),\n",
    "    (\"regressor\", LogisticRegression(multi_class='multinomial', solver='lbfgs',max_iter=1000))\n",
    "])"
   ],
   "metadata": {
    "collapsed": false
   }
  },
  {
   "cell_type": "code",
   "execution_count": 70,
   "outputs": [
    {
     "data": {
      "text/plain": "PMMLPipeline(steps=[('mapper', DataFrameMapper(df_out=True, drop_cols=[],\n                features=[(['displ'],\n                           [ContinuousDomain(),\n                            SimpleImputer(strategy='median'),\n                            StandardScaler()]),\n                          (['year'],\n                           [ContinuousDomain(),\n                            SimpleImputer(strategy='median'),\n                            StandardScaler()]),\n                          (['cyl'],\n                           [ContinuousDomain(),\n                            SimpleImputer(strategy='median'),\n                            StandardScaler()]),\n                          (['cty'],\n                           [ContinuousDomain(),\n                            SimpleImputer(strategy='...\n                           [CategoricalDomain(),\n                            SimpleImputer(strategy='most_frequent'),\n                            PMMLLabelEncoder(), StandardScaler()]),\n                          (['fl'],\n                           [CategoricalDomain(),\n                            SimpleImputer(strategy='most_frequent'),\n                            PMMLLabelEncoder(), StandardScaler()]),\n                          ('model',\n                           [CategoricalDomain(),\n                            CountVectorizer(max_features=5,\n                                            tokenizer=<sklearn2pmml.feature_extraction.text.Splitter object at 0x1406c2710>)])],\n                input_df=True)),\n       ('regressor', LogisticRegression(max_iter=1000, multi_class='multinomial'))])",
      "text/html": "<style>#sk-container-id-6 {color: black;background-color: white;}#sk-container-id-6 pre{padding: 0;}#sk-container-id-6 div.sk-toggleable {background-color: white;}#sk-container-id-6 label.sk-toggleable__label {cursor: pointer;display: block;width: 100%;margin-bottom: 0;padding: 0.3em;box-sizing: border-box;text-align: center;}#sk-container-id-6 label.sk-toggleable__label-arrow:before {content: \"▸\";float: left;margin-right: 0.25em;color: #696969;}#sk-container-id-6 label.sk-toggleable__label-arrow:hover:before {color: black;}#sk-container-id-6 div.sk-estimator:hover label.sk-toggleable__label-arrow:before {color: black;}#sk-container-id-6 div.sk-toggleable__content {max-height: 0;max-width: 0;overflow: hidden;text-align: left;background-color: #f0f8ff;}#sk-container-id-6 div.sk-toggleable__content pre {margin: 0.2em;color: black;border-radius: 0.25em;background-color: #f0f8ff;}#sk-container-id-6 input.sk-toggleable__control:checked~div.sk-toggleable__content {max-height: 200px;max-width: 100%;overflow: auto;}#sk-container-id-6 input.sk-toggleable__control:checked~label.sk-toggleable__label-arrow:before {content: \"▾\";}#sk-container-id-6 div.sk-estimator input.sk-toggleable__control:checked~label.sk-toggleable__label {background-color: #d4ebff;}#sk-container-id-6 div.sk-label input.sk-toggleable__control:checked~label.sk-toggleable__label {background-color: #d4ebff;}#sk-container-id-6 input.sk-hidden--visually {border: 0;clip: rect(1px 1px 1px 1px);clip: rect(1px, 1px, 1px, 1px);height: 1px;margin: -1px;overflow: hidden;padding: 0;position: absolute;width: 1px;}#sk-container-id-6 div.sk-estimator {font-family: monospace;background-color: #f0f8ff;border: 1px dotted black;border-radius: 0.25em;box-sizing: border-box;margin-bottom: 0.5em;}#sk-container-id-6 div.sk-estimator:hover {background-color: #d4ebff;}#sk-container-id-6 div.sk-parallel-item::after {content: \"\";width: 100%;border-bottom: 1px solid gray;flex-grow: 1;}#sk-container-id-6 div.sk-label:hover label.sk-toggleable__label {background-color: #d4ebff;}#sk-container-id-6 div.sk-serial::before {content: \"\";position: absolute;border-left: 1px solid gray;box-sizing: border-box;top: 0;bottom: 0;left: 50%;z-index: 0;}#sk-container-id-6 div.sk-serial {display: flex;flex-direction: column;align-items: center;background-color: white;padding-right: 0.2em;padding-left: 0.2em;position: relative;}#sk-container-id-6 div.sk-item {position: relative;z-index: 1;}#sk-container-id-6 div.sk-parallel {display: flex;align-items: stretch;justify-content: center;background-color: white;position: relative;}#sk-container-id-6 div.sk-item::before, #sk-container-id-6 div.sk-parallel-item::before {content: \"\";position: absolute;border-left: 1px solid gray;box-sizing: border-box;top: 0;bottom: 0;left: 50%;z-index: -1;}#sk-container-id-6 div.sk-parallel-item {display: flex;flex-direction: column;z-index: 1;position: relative;background-color: white;}#sk-container-id-6 div.sk-parallel-item:first-child::after {align-self: flex-end;width: 50%;}#sk-container-id-6 div.sk-parallel-item:last-child::after {align-self: flex-start;width: 50%;}#sk-container-id-6 div.sk-parallel-item:only-child::after {width: 0;}#sk-container-id-6 div.sk-dashed-wrapped {border: 1px dashed gray;margin: 0 0.4em 0.5em 0.4em;box-sizing: border-box;padding-bottom: 0.4em;background-color: white;}#sk-container-id-6 div.sk-label label {font-family: monospace;font-weight: bold;display: inline-block;line-height: 1.2em;}#sk-container-id-6 div.sk-label-container {text-align: center;}#sk-container-id-6 div.sk-container {/* jupyter's `normalize.less` sets `[hidden] { display: none; }` but bootstrap.min.css set `[hidden] { display: none !important; }` so we also need the `!important` here to be able to override the default hidden behavior on the sphinx rendered scikit-learn.org. See: https://github.com/scikit-learn/scikit-learn/issues/21755 */display: inline-block !important;position: relative;}#sk-container-id-6 div.sk-text-repr-fallback {display: none;}</style><div id=\"sk-container-id-6\" class=\"sk-top-container\"><div class=\"sk-text-repr-fallback\"><pre>PMMLPipeline(steps=[(&#x27;mapper&#x27;, DataFrameMapper(df_out=True, drop_cols=[],\n                features=[([&#x27;displ&#x27;],\n                           [ContinuousDomain(),\n                            SimpleImputer(strategy=&#x27;median&#x27;),\n                            StandardScaler()]),\n                          ([&#x27;year&#x27;],\n                           [ContinuousDomain(),\n                            SimpleImputer(strategy=&#x27;median&#x27;),\n                            StandardScaler()]),\n                          ([&#x27;cyl&#x27;],\n                           [ContinuousDomain(),\n                            SimpleImputer(strategy=&#x27;median&#x27;),\n                            StandardScaler()]),\n                          ([&#x27;cty&#x27;],\n                           [ContinuousDomain(),\n                            SimpleImputer(strategy=&#x27;...\n                           [CategoricalDomain(),\n                            SimpleImputer(strategy=&#x27;most_frequent&#x27;),\n                            PMMLLabelEncoder(), StandardScaler()]),\n                          ([&#x27;fl&#x27;],\n                           [CategoricalDomain(),\n                            SimpleImputer(strategy=&#x27;most_frequent&#x27;),\n                            PMMLLabelEncoder(), StandardScaler()]),\n                          (&#x27;model&#x27;,\n                           [CategoricalDomain(),\n                            CountVectorizer(max_features=5,\n                                            tokenizer=&lt;sklearn2pmml.feature_extraction.text.Splitter object at 0x1406c2710&gt;)])],\n                input_df=True)),\n       (&#x27;regressor&#x27;, LogisticRegression(max_iter=1000, multi_class=&#x27;multinomial&#x27;))])</pre><b>In a Jupyter environment, please rerun this cell to show the HTML representation or trust the notebook. <br />On GitHub, the HTML representation is unable to render, please try loading this page with nbviewer.org.</b></div><div class=\"sk-container\" hidden><div class=\"sk-item sk-dashed-wrapped\"><div class=\"sk-label-container\"><div class=\"sk-label sk-toggleable\"><input class=\"sk-toggleable__control sk-hidden--visually\" id=\"sk-estimator-id-16\" type=\"checkbox\" ><label for=\"sk-estimator-id-16\" class=\"sk-toggleable__label sk-toggleable__label-arrow\">PMMLPipeline</label><div class=\"sk-toggleable__content\"><pre>PMMLPipeline(steps=[(&#x27;mapper&#x27;, DataFrameMapper(df_out=True, drop_cols=[],\n                features=[([&#x27;displ&#x27;],\n                           [ContinuousDomain(),\n                            SimpleImputer(strategy=&#x27;median&#x27;),\n                            StandardScaler()]),\n                          ([&#x27;year&#x27;],\n                           [ContinuousDomain(),\n                            SimpleImputer(strategy=&#x27;median&#x27;),\n                            StandardScaler()]),\n                          ([&#x27;cyl&#x27;],\n                           [ContinuousDomain(),\n                            SimpleImputer(strategy=&#x27;median&#x27;),\n                            StandardScaler()]),\n                          ([&#x27;cty&#x27;],\n                           [ContinuousDomain(),\n                            SimpleImputer(strategy=&#x27;...\n                           [CategoricalDomain(),\n                            SimpleImputer(strategy=&#x27;most_frequent&#x27;),\n                            PMMLLabelEncoder(), StandardScaler()]),\n                          ([&#x27;fl&#x27;],\n                           [CategoricalDomain(),\n                            SimpleImputer(strategy=&#x27;most_frequent&#x27;),\n                            PMMLLabelEncoder(), StandardScaler()]),\n                          (&#x27;model&#x27;,\n                           [CategoricalDomain(),\n                            CountVectorizer(max_features=5,\n                                            tokenizer=&lt;sklearn2pmml.feature_extraction.text.Splitter object at 0x1406c2710&gt;)])],\n                input_df=True)),\n       (&#x27;regressor&#x27;, LogisticRegression(max_iter=1000, multi_class=&#x27;multinomial&#x27;))])</pre></div></div></div><div class=\"sk-serial\"><div class=\"sk-item\"><div class=\"sk-estimator sk-toggleable\"><input class=\"sk-toggleable__control sk-hidden--visually\" id=\"sk-estimator-id-17\" type=\"checkbox\" ><label for=\"sk-estimator-id-17\" class=\"sk-toggleable__label sk-toggleable__label-arrow\">DataFrameMapper</label><div class=\"sk-toggleable__content\"><pre>DataFrameMapper(df_out=True, drop_cols=[],\n                features=[([&#x27;displ&#x27;],\n                           [ContinuousDomain(),\n                            SimpleImputer(strategy=&#x27;median&#x27;),\n                            StandardScaler()]),\n                          ([&#x27;year&#x27;],\n                           [ContinuousDomain(),\n                            SimpleImputer(strategy=&#x27;median&#x27;),\n                            StandardScaler()]),\n                          ([&#x27;cyl&#x27;],\n                           [ContinuousDomain(),\n                            SimpleImputer(strategy=&#x27;median&#x27;),\n                            StandardScaler()]),\n                          ([&#x27;cty&#x27;],\n                           [ContinuousDomain(),\n                            SimpleImputer(strategy=&#x27;...\n                           [CategoricalDomain(),\n                            SimpleImputer(strategy=&#x27;most_frequent&#x27;),\n                            PMMLLabelEncoder(), StandardScaler()]),\n                          ([&#x27;fl&#x27;],\n                           [CategoricalDomain(),\n                            SimpleImputer(strategy=&#x27;most_frequent&#x27;),\n                            PMMLLabelEncoder(), StandardScaler()]),\n                          (&#x27;model&#x27;,\n                           [CategoricalDomain(),\n                            CountVectorizer(max_features=5,\n                                            tokenizer=&lt;sklearn2pmml.feature_extraction.text.Splitter object at 0x1406c2710&gt;)])],\n                input_df=True)</pre></div></div></div><div class=\"sk-item\"><div class=\"sk-estimator sk-toggleable\"><input class=\"sk-toggleable__control sk-hidden--visually\" id=\"sk-estimator-id-18\" type=\"checkbox\" ><label for=\"sk-estimator-id-18\" class=\"sk-toggleable__label sk-toggleable__label-arrow\">LogisticRegression</label><div class=\"sk-toggleable__content\"><pre>LogisticRegression(max_iter=1000, multi_class=&#x27;multinomial&#x27;)</pre></div></div></div></div></div></div></div>"
     },
     "metadata": {},
     "output_type": "display_data"
    }
   ],
   "source": [
    "display(pipeline)"
   ],
   "metadata": {
    "collapsed": false
   }
  },
  {
   "cell_type": "code",
   "execution_count": 71,
   "outputs": [],
   "source": [
    "X = df.drop('class', axis=1)\n",
    "y = df[\"class\"]\n",
    "X_train, X_test, y_train, y_test = train_test_split(X, y, test_size=0.2)"
   ],
   "metadata": {
    "collapsed": false
   }
  },
  {
   "cell_type": "code",
   "execution_count": 72,
   "outputs": [
    {
     "data": {
      "text/plain": "PMMLPipeline(steps=[('mapper', DataFrameMapper(df_out=True, drop_cols=[],\n                features=[(['displ'],\n                           [ContinuousDomain(),\n                            SimpleImputer(strategy='median'),\n                            StandardScaler()]),\n                          (['year'],\n                           [ContinuousDomain(),\n                            SimpleImputer(strategy='median'),\n                            StandardScaler()]),\n                          (['cyl'],\n                           [ContinuousDomain(),\n                            SimpleImputer(strategy='median'),\n                            StandardScaler()]),\n                          (['cty'],\n                           [ContinuousDomain(),\n                            SimpleImputer(strategy='...\n                           [CategoricalDomain(),\n                            SimpleImputer(strategy='most_frequent'),\n                            PMMLLabelEncoder(), StandardScaler()]),\n                          (['fl'],\n                           [CategoricalDomain(),\n                            SimpleImputer(strategy='most_frequent'),\n                            PMMLLabelEncoder(), StandardScaler()]),\n                          ('model',\n                           [CategoricalDomain(),\n                            CountVectorizer(max_features=5,\n                                            tokenizer=<sklearn2pmml.feature_extraction.text.Splitter object at 0x1406c2710>)])],\n                input_df=True)),\n       ('regressor', LogisticRegression(max_iter=1000, multi_class='multinomial'))])",
      "text/html": "<style>#sk-container-id-7 {color: black;background-color: white;}#sk-container-id-7 pre{padding: 0;}#sk-container-id-7 div.sk-toggleable {background-color: white;}#sk-container-id-7 label.sk-toggleable__label {cursor: pointer;display: block;width: 100%;margin-bottom: 0;padding: 0.3em;box-sizing: border-box;text-align: center;}#sk-container-id-7 label.sk-toggleable__label-arrow:before {content: \"▸\";float: left;margin-right: 0.25em;color: #696969;}#sk-container-id-7 label.sk-toggleable__label-arrow:hover:before {color: black;}#sk-container-id-7 div.sk-estimator:hover label.sk-toggleable__label-arrow:before {color: black;}#sk-container-id-7 div.sk-toggleable__content {max-height: 0;max-width: 0;overflow: hidden;text-align: left;background-color: #f0f8ff;}#sk-container-id-7 div.sk-toggleable__content pre {margin: 0.2em;color: black;border-radius: 0.25em;background-color: #f0f8ff;}#sk-container-id-7 input.sk-toggleable__control:checked~div.sk-toggleable__content {max-height: 200px;max-width: 100%;overflow: auto;}#sk-container-id-7 input.sk-toggleable__control:checked~label.sk-toggleable__label-arrow:before {content: \"▾\";}#sk-container-id-7 div.sk-estimator input.sk-toggleable__control:checked~label.sk-toggleable__label {background-color: #d4ebff;}#sk-container-id-7 div.sk-label input.sk-toggleable__control:checked~label.sk-toggleable__label {background-color: #d4ebff;}#sk-container-id-7 input.sk-hidden--visually {border: 0;clip: rect(1px 1px 1px 1px);clip: rect(1px, 1px, 1px, 1px);height: 1px;margin: -1px;overflow: hidden;padding: 0;position: absolute;width: 1px;}#sk-container-id-7 div.sk-estimator {font-family: monospace;background-color: #f0f8ff;border: 1px dotted black;border-radius: 0.25em;box-sizing: border-box;margin-bottom: 0.5em;}#sk-container-id-7 div.sk-estimator:hover {background-color: #d4ebff;}#sk-container-id-7 div.sk-parallel-item::after {content: \"\";width: 100%;border-bottom: 1px solid gray;flex-grow: 1;}#sk-container-id-7 div.sk-label:hover label.sk-toggleable__label {background-color: #d4ebff;}#sk-container-id-7 div.sk-serial::before {content: \"\";position: absolute;border-left: 1px solid gray;box-sizing: border-box;top: 0;bottom: 0;left: 50%;z-index: 0;}#sk-container-id-7 div.sk-serial {display: flex;flex-direction: column;align-items: center;background-color: white;padding-right: 0.2em;padding-left: 0.2em;position: relative;}#sk-container-id-7 div.sk-item {position: relative;z-index: 1;}#sk-container-id-7 div.sk-parallel {display: flex;align-items: stretch;justify-content: center;background-color: white;position: relative;}#sk-container-id-7 div.sk-item::before, #sk-container-id-7 div.sk-parallel-item::before {content: \"\";position: absolute;border-left: 1px solid gray;box-sizing: border-box;top: 0;bottom: 0;left: 50%;z-index: -1;}#sk-container-id-7 div.sk-parallel-item {display: flex;flex-direction: column;z-index: 1;position: relative;background-color: white;}#sk-container-id-7 div.sk-parallel-item:first-child::after {align-self: flex-end;width: 50%;}#sk-container-id-7 div.sk-parallel-item:last-child::after {align-self: flex-start;width: 50%;}#sk-container-id-7 div.sk-parallel-item:only-child::after {width: 0;}#sk-container-id-7 div.sk-dashed-wrapped {border: 1px dashed gray;margin: 0 0.4em 0.5em 0.4em;box-sizing: border-box;padding-bottom: 0.4em;background-color: white;}#sk-container-id-7 div.sk-label label {font-family: monospace;font-weight: bold;display: inline-block;line-height: 1.2em;}#sk-container-id-7 div.sk-label-container {text-align: center;}#sk-container-id-7 div.sk-container {/* jupyter's `normalize.less` sets `[hidden] { display: none; }` but bootstrap.min.css set `[hidden] { display: none !important; }` so we also need the `!important` here to be able to override the default hidden behavior on the sphinx rendered scikit-learn.org. See: https://github.com/scikit-learn/scikit-learn/issues/21755 */display: inline-block !important;position: relative;}#sk-container-id-7 div.sk-text-repr-fallback {display: none;}</style><div id=\"sk-container-id-7\" class=\"sk-top-container\"><div class=\"sk-text-repr-fallback\"><pre>PMMLPipeline(steps=[(&#x27;mapper&#x27;, DataFrameMapper(df_out=True, drop_cols=[],\n                features=[([&#x27;displ&#x27;],\n                           [ContinuousDomain(),\n                            SimpleImputer(strategy=&#x27;median&#x27;),\n                            StandardScaler()]),\n                          ([&#x27;year&#x27;],\n                           [ContinuousDomain(),\n                            SimpleImputer(strategy=&#x27;median&#x27;),\n                            StandardScaler()]),\n                          ([&#x27;cyl&#x27;],\n                           [ContinuousDomain(),\n                            SimpleImputer(strategy=&#x27;median&#x27;),\n                            StandardScaler()]),\n                          ([&#x27;cty&#x27;],\n                           [ContinuousDomain(),\n                            SimpleImputer(strategy=&#x27;...\n                           [CategoricalDomain(),\n                            SimpleImputer(strategy=&#x27;most_frequent&#x27;),\n                            PMMLLabelEncoder(), StandardScaler()]),\n                          ([&#x27;fl&#x27;],\n                           [CategoricalDomain(),\n                            SimpleImputer(strategy=&#x27;most_frequent&#x27;),\n                            PMMLLabelEncoder(), StandardScaler()]),\n                          (&#x27;model&#x27;,\n                           [CategoricalDomain(),\n                            CountVectorizer(max_features=5,\n                                            tokenizer=&lt;sklearn2pmml.feature_extraction.text.Splitter object at 0x1406c2710&gt;)])],\n                input_df=True)),\n       (&#x27;regressor&#x27;, LogisticRegression(max_iter=1000, multi_class=&#x27;multinomial&#x27;))])</pre><b>In a Jupyter environment, please rerun this cell to show the HTML representation or trust the notebook. <br />On GitHub, the HTML representation is unable to render, please try loading this page with nbviewer.org.</b></div><div class=\"sk-container\" hidden><div class=\"sk-item sk-dashed-wrapped\"><div class=\"sk-label-container\"><div class=\"sk-label sk-toggleable\"><input class=\"sk-toggleable__control sk-hidden--visually\" id=\"sk-estimator-id-19\" type=\"checkbox\" ><label for=\"sk-estimator-id-19\" class=\"sk-toggleable__label sk-toggleable__label-arrow\">PMMLPipeline</label><div class=\"sk-toggleable__content\"><pre>PMMLPipeline(steps=[(&#x27;mapper&#x27;, DataFrameMapper(df_out=True, drop_cols=[],\n                features=[([&#x27;displ&#x27;],\n                           [ContinuousDomain(),\n                            SimpleImputer(strategy=&#x27;median&#x27;),\n                            StandardScaler()]),\n                          ([&#x27;year&#x27;],\n                           [ContinuousDomain(),\n                            SimpleImputer(strategy=&#x27;median&#x27;),\n                            StandardScaler()]),\n                          ([&#x27;cyl&#x27;],\n                           [ContinuousDomain(),\n                            SimpleImputer(strategy=&#x27;median&#x27;),\n                            StandardScaler()]),\n                          ([&#x27;cty&#x27;],\n                           [ContinuousDomain(),\n                            SimpleImputer(strategy=&#x27;...\n                           [CategoricalDomain(),\n                            SimpleImputer(strategy=&#x27;most_frequent&#x27;),\n                            PMMLLabelEncoder(), StandardScaler()]),\n                          ([&#x27;fl&#x27;],\n                           [CategoricalDomain(),\n                            SimpleImputer(strategy=&#x27;most_frequent&#x27;),\n                            PMMLLabelEncoder(), StandardScaler()]),\n                          (&#x27;model&#x27;,\n                           [CategoricalDomain(),\n                            CountVectorizer(max_features=5,\n                                            tokenizer=&lt;sklearn2pmml.feature_extraction.text.Splitter object at 0x1406c2710&gt;)])],\n                input_df=True)),\n       (&#x27;regressor&#x27;, LogisticRegression(max_iter=1000, multi_class=&#x27;multinomial&#x27;))])</pre></div></div></div><div class=\"sk-serial\"><div class=\"sk-item\"><div class=\"sk-estimator sk-toggleable\"><input class=\"sk-toggleable__control sk-hidden--visually\" id=\"sk-estimator-id-20\" type=\"checkbox\" ><label for=\"sk-estimator-id-20\" class=\"sk-toggleable__label sk-toggleable__label-arrow\">DataFrameMapper</label><div class=\"sk-toggleable__content\"><pre>DataFrameMapper(df_out=True, drop_cols=[],\n                features=[([&#x27;displ&#x27;],\n                           [ContinuousDomain(),\n                            SimpleImputer(strategy=&#x27;median&#x27;),\n                            StandardScaler()]),\n                          ([&#x27;year&#x27;],\n                           [ContinuousDomain(),\n                            SimpleImputer(strategy=&#x27;median&#x27;),\n                            StandardScaler()]),\n                          ([&#x27;cyl&#x27;],\n                           [ContinuousDomain(),\n                            SimpleImputer(strategy=&#x27;median&#x27;),\n                            StandardScaler()]),\n                          ([&#x27;cty&#x27;],\n                           [ContinuousDomain(),\n                            SimpleImputer(strategy=&#x27;...\n                           [CategoricalDomain(),\n                            SimpleImputer(strategy=&#x27;most_frequent&#x27;),\n                            PMMLLabelEncoder(), StandardScaler()]),\n                          ([&#x27;fl&#x27;],\n                           [CategoricalDomain(),\n                            SimpleImputer(strategy=&#x27;most_frequent&#x27;),\n                            PMMLLabelEncoder(), StandardScaler()]),\n                          (&#x27;model&#x27;,\n                           [CategoricalDomain(),\n                            CountVectorizer(max_features=5,\n                                            tokenizer=&lt;sklearn2pmml.feature_extraction.text.Splitter object at 0x1406c2710&gt;)])],\n                input_df=True)</pre></div></div></div><div class=\"sk-item\"><div class=\"sk-estimator sk-toggleable\"><input class=\"sk-toggleable__control sk-hidden--visually\" id=\"sk-estimator-id-21\" type=\"checkbox\" ><label for=\"sk-estimator-id-21\" class=\"sk-toggleable__label sk-toggleable__label-arrow\">LogisticRegression</label><div class=\"sk-toggleable__content\"><pre>LogisticRegression(max_iter=1000, multi_class=&#x27;multinomial&#x27;)</pre></div></div></div></div></div></div></div>"
     },
     "execution_count": 72,
     "metadata": {},
     "output_type": "execute_result"
    }
   ],
   "source": [
    "# use model__sample_weight for weight\n",
    "pipeline.fit(X_train,y_train)"
   ],
   "metadata": {
    "collapsed": false
   }
  },
  {
   "cell_type": "code",
   "execution_count": 73,
   "outputs": [],
   "source": [
    "y_pred = pipeline.predict(X_test)"
   ],
   "metadata": {
    "collapsed": false
   }
  },
  {
   "cell_type": "code",
   "execution_count": 74,
   "outputs": [
    {
     "data": {
      "text/plain": "array([0, 0, 3, 2, 5, 2, 2, 2, 5, 0, 1, 3, 0, 2, 2, 2, 3, 0, 2, 3, 5, 2,\n       2, 2, 3, 5, 3, 3, 1, 1, 3, 0, 3, 1, 4, 2, 1, 2, 2, 3, 0, 2, 2, 0,\n       2, 5, 3])"
     },
     "execution_count": 74,
     "metadata": {},
     "output_type": "execute_result"
    }
   ],
   "source": [
    "y_pred"
   ],
   "metadata": {
    "collapsed": false
   }
  },
  {
   "cell_type": "code",
   "execution_count": null,
   "outputs": [],
   "source": [],
   "metadata": {
    "collapsed": false
   }
  }
 ],
 "metadata": {
  "kernelspec": {
   "display_name": "Python 3",
   "language": "python",
   "name": "python3"
  },
  "language_info": {
   "codemirror_mode": {
    "name": "ipython",
    "version": 2
   },
   "file_extension": ".py",
   "mimetype": "text/x-python",
   "name": "python",
   "nbconvert_exporter": "python",
   "pygments_lexer": "ipython2",
   "version": "2.7.6"
  }
 },
 "nbformat": 4,
 "nbformat_minor": 0
}
